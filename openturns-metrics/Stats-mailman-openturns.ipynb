{
 "cells": [
  {
   "cell_type": "markdown",
   "metadata": {},
   "source": [
    "# Statistics of mailman for OpenTURNS\n",
    "\n",
    "This document gathers the statistics of the number of messages on the OpenTURNS mailing list users@openturns.org.\n",
    "\n",
    "## Reference\n",
    "\n",
    "http://openturns.org/pipermail/users/"
   ]
  },
  {
   "cell_type": "code",
   "execution_count": 1,
   "metadata": {},
   "outputs": [],
   "source": [
    "import numpy as np\n",
    "import openturns as ot\n",
    "import openturns.viewer as otv"
   ]
  },
  {
   "cell_type": "code",
   "execution_count": 2,
   "metadata": {},
   "outputs": [],
   "source": [
    "data = [[2011, 45],\n",
    "        [2012, 44],\n",
    "        [2013, 43],\n",
    "        [2014, 43],\n",
    "        [2015, 60],\n",
    "        [2016, 64],\n",
    "        [2017, 155],\n",
    "        [2018, 45],\n",
    "        [2019, 30],\n",
    "        [2020, 15]\n",
    "       ]"
   ]
  },
  {
   "cell_type": "code",
   "execution_count": 3,
   "metadata": {},
   "outputs": [
    {
     "data": {
      "text/html": [
       "<TABLE><TR><TD></TD><TH>Year</TH><TH>Number</TH></TR>\n",
       "<TR><TH>0</TH><TD>2011</TD><TD>45</TD></TR>\n",
       "<TR><TH>1</TH><TD>2012</TD><TD>44</TD></TR>\n",
       "<TR><TH>2</TH><TD>2013</TD><TD>43</TD></TR>\n",
       "<TR><TH>3</TH><TD>2014</TD><TD>43</TD></TR>\n",
       "<TR><TH>4</TH><TD>2015</TD><TD>60</TD></TR>\n",
       "<TR><TH>5</TH><TD>2016</TD><TD>64</TD></TR>\n",
       "<TR><TH>6</TH><TD>2017</TD><TD>155</TD></TR>\n",
       "<TR><TH>7</TH><TD>2018</TD><TD>45</TD></TR>\n",
       "<TR><TH>8</TH><TD>2019</TD><TD>30</TD></TR>\n",
       "<TR><TH>9</TH><TD>2020</TD><TD>15</TD></TR>\n",
       "</TABLE>"
      ],
      "text/plain": [
       "class=Sample name=Unnamed implementation=class=SampleImplementation name=Unnamed size=10 dimension=2 description=[Year,Number] data=[[2011,45],[2012,44],[2013,43],[2014,43],[2015,60],[2016,64],[2017,155],[2018,45],[2019,30],[2020,15]]"
      ]
     },
     "execution_count": 3,
     "metadata": {},
     "output_type": "execute_result"
    }
   ],
   "source": [
    "sample = ot.Sample(data)\n",
    "sample.setDescription([\"Year\", \"Number\"])\n",
    "sample"
   ]
  },
  {
   "cell_type": "code",
   "execution_count": 4,
   "metadata": {},
   "outputs": [
    {
     "data": {
      "image/png": "[encoded data removed]",
      "text/plain": [
       "<Figure size 432x288 with 1 Axes>"
      ]
     },
     "metadata": {
      "needs_background": "light"
     },
     "output_type": "display_data"
    }
   ],
   "source": [
    "graph = ot.Graph(\"Messages on users@openturns.org\", \"Year\", \"Number\", True)\n",
    "cloud = ot.Cloud(sample)\n",
    "cloud.setPointStyle(\"circle\")\n",
    "graph.add(cloud)\n",
    "view = otv.View(graph)\n",
    "view.save(\"openturns-mailman-messages.png\")"
   ]
  },
  {
   "cell_type": "code",
   "execution_count": null,
   "metadata": {},
   "outputs": [],
   "source": []
  }
 ],
 "metadata": {
  "kernelspec": {
   "display_name": "Python 3 (ipykernel)",
   "language": "python",
   "name": "python3"
  },
  "language_info": {
   "codemirror_mode": {
    "name": "ipython",
    "version": 3
   },
   "file_extension": ".py",
   "mimetype": "text/x-python",
   "name": "python",
   "nbconvert_exporter": "python",
   "pygments_lexer": "ipython3",
   "version": "3.9.13"
  }
 },
 "nbformat": 4,
 "nbformat_minor": 4
}
