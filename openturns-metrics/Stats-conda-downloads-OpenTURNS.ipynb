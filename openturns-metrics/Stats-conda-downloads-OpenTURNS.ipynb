{
 "cells": [
  {
   "cell_type": "markdown",
   "metadata": {},
   "source": [
    "# Conda OpenTURNS downloads statistics \n",
    "\n",
    "This document gathers conda download statistics for OpenTURNS.\n",
    "\n",
    "## References\n",
    "\n",
    "https://www.anaconda.com/blog/get-python-package-download-statistics-with-condastats\n",
    "\n",
    "## Installation\n",
    "\n",
    "    conda install -c conda-forge condastats pandas"
   ]
  },
  {
   "cell_type": "code",
   "execution_count": 1,
   "metadata": {},
   "outputs": [],
   "source": [
    "import subprocess\n",
    "import pandas as pd\n",
    "import pylab as pl"
   ]
  },
  {
   "cell_type": "code",
   "execution_count": 2,
   "metadata": {},
   "outputs": [
    {
     "name": "stdout",
     "output_type": "stream",
     "text": [
      "pkg_name\r\n",
      "openturns    441540\r\n",
      "Name: counts, dtype: int64\r\n"
     ]
    }
   ],
   "source": [
    "!condastats overall openturns"
   ]
  },
  {
   "cell_type": "code",
   "execution_count": 3,
   "metadata": {},
   "outputs": [
    {
     "name": "stdout",
     "output_type": "stream",
     "text": [
      "b'pkg_name   time   \\nopenturns  2017-03        8\\n           2017-04      882\\n           2017-05      532\\n           2017-06     1126\\n           2017-07      867\\n           2017-08      548\\n           2017-09      243\\n           2017-10      503\\n           2017-11      666\\n           2017-12     1042\\n           2018-01     1224\\n           2018-02     2448\\n           2018-03     1143\\n           2018-04     1486\\n           2018-05     1250\\n           2018-06     3358\\n           2018-07     5823\\n           2018-08     7284\\n           2018-09     5545\\n           2018-10     8173\\n           2018-11     7063\\n           2018-12    17430\\n           2019-01     3404\\n           2019-02     2424\\n           2019-03     1945\\n           2019-04     1253\\n           2019-05     2896\\n           2019-06     2624\\n           2019-07     2334\\n           2019-08     1916\\n           2019-09     1108\\n           2019-10     3701\\n           2019-11     3476\\n           2019-12     4853\\n           2020-01     4123\\n           2020-02     4638\\n           2020-03     2993\\n           2020-04    19419\\n           2020-05     4000\\n           2020-06     2641\\n           2020-07     5001\\n           2020-08     6281\\n           2020-09     3652\\n           2020-10     5420\\n           2020-11     3068\\n           2020-12     3651\\n           2021-01     4398\\n           2021-02    13394\\n           2021-03    13478\\n           2021-04    13547\\n           2021-05    10151\\n           2021-06    14149\\n           2021-07    11772\\n           2021-08    12433\\n           2021-09    11320\\n           2021-10    11953\\n           2021-11    11877\\n           2021-12     8045\\n           2022-01     5589\\n           2022-02     5471\\n           2022-03     7675\\n           2022-04     6115\\n           2022-05    15710\\n           2022-06    12631\\n           2022-07    11777\\n           2022-08     9504\\n           2022-09    13634\\n           2022-10    15571\\n           2022-11    19441\\n           2022-12    10527\\n           2023-01     5913\\nName: counts, dtype: int64\\n'\n"
     ]
    }
   ],
   "source": [
    "result = subprocess.run([\"condastats\", \"overall\" , \"--monthly\", \"openturns\"], stdout=subprocess.PIPE)\n",
    "print(result.stdout)"
   ]
  },
  {
   "cell_type": "code",
   "execution_count": 4,
   "metadata": {},
   "outputs": [],
   "source": [
    "otstats = result.stdout"
   ]
  },
  {
   "cell_type": "code",
   "execution_count": 5,
   "metadata": {},
   "outputs": [
    {
     "data": {
      "text/plain": [
       "[b'pkg_name',\n",
       " b'time',\n",
       " b'openturns',\n",
       " b'2017-03',\n",
       " b'8',\n",
       " b'2017-04',\n",
       " b'882',\n",
       " b'2017-05',\n",
       " b'532',\n",
       " b'2017-06']"
      ]
     },
     "execution_count": 5,
     "metadata": {},
     "output_type": "execute_result"
    }
   ],
   "source": [
    "data = otstats.split()\n",
    "data[:10]"
   ]
  },
  {
   "cell_type": "code",
   "execution_count": 6,
   "metadata": {},
   "outputs": [
    {
     "name": "stdout",
     "output_type": "stream",
     "text": [
      "2017-03 0.008\n",
      "2017-04 0.882\n",
      "2017-05 0.532\n",
      "2017-06 1.126\n",
      "2017-07 0.867\n",
      "2017-08 0.548\n",
      "2017-09 0.243\n",
      "2017-10 0.503\n",
      "2017-11 0.666\n",
      "2017-12 1.042\n",
      "2018-01 1.224\n",
      "2018-02 2.448\n",
      "2018-03 1.143\n",
      "2018-04 1.486\n",
      "2018-05 1.25\n",
      "2018-06 3.358\n",
      "2018-07 5.823\n",
      "2018-08 7.284\n",
      "2018-09 5.545\n",
      "2018-10 8.173\n",
      "2018-11 7.063\n",
      "2018-12 17.43\n",
      "2019-01 3.404\n",
      "2019-02 2.424\n",
      "2019-03 1.945\n",
      "2019-04 1.253\n",
      "2019-05 2.896\n",
      "2019-06 2.624\n",
      "2019-07 2.334\n",
      "2019-08 1.916\n",
      "2019-09 1.108\n",
      "2019-10 3.701\n",
      "2019-11 3.476\n",
      "2019-12 4.853\n",
      "2020-01 4.123\n",
      "2020-02 4.638\n",
      "2020-03 2.993\n",
      "2020-04 19.419\n",
      "2020-05 4.0\n",
      "2020-06 2.641\n",
      "2020-07 5.001\n",
      "2020-08 6.281\n",
      "2020-09 3.652\n",
      "2020-10 5.42\n",
      "2020-11 3.068\n",
      "2020-12 3.651\n",
      "2021-01 4.398\n",
      "2021-02 13.394\n",
      "2021-03 13.478\n",
      "2021-04 13.547\n",
      "2021-05 10.151\n",
      "2021-06 14.149\n",
      "2021-07 11.772\n",
      "2021-08 12.433\n",
      "2021-09 11.32\n",
      "2021-10 11.953\n",
      "2021-11 11.877\n",
      "2021-12 8.045\n",
      "2022-01 5.589\n",
      "2022-02 5.471\n",
      "2022-03 7.675\n",
      "2022-04 6.115\n",
      "2022-05 15.71\n",
      "2022-06 12.631\n",
      "2022-07 11.777\n",
      "2022-08 9.504\n",
      "2022-09 13.634\n",
      "2022-10 15.571\n",
      "2022-11 19.441\n",
      "2022-12 10.527\n",
      "2023-01 5.913\n"
     ]
    }
   ],
   "source": [
    "index = 3\n",
    "values = []\n",
    "monthList = []\n",
    "while index < len(data) - 4:\n",
    "    month = data[index].decode('UTF-8')\n",
    "    monthList.append(month)\n",
    "    downloads = float(data[index + 1]) / 1000.0\n",
    "    values.append(downloads)\n",
    "    print(month, downloads)\n",
    "    index += 2"
   ]
  },
  {
   "cell_type": "code",
   "execution_count": 7,
   "metadata": {},
   "outputs": [],
   "source": [
    "df = pd.DataFrame(data=values, index=monthList, columns=[\"Downloads x1000\"])"
   ]
  },
  {
   "cell_type": "code",
   "execution_count": 10,
   "metadata": {},
   "outputs": [
    {
     "data": {
      "image/png": "[encoded data removed]",
      "text/plain": [
       "<Figure size 288x216 with 1 Axes>"
      ]
     },
     "metadata": {
      "needs_background": "light"
     },
     "output_type": "display_data"
    }
   ],
   "source": [
    "df.plot(figsize=(4.0,3.0));\n",
    "pl.title(\"OpenTURNS Conda Downloads from %s to %s\" % (monthList[0], monthList[-1]));\n",
    "pl.savefig(\"openturns-conda-downloads.png\", bbox_inches=\"tight\")\n",
    "_ = pl.legend(bbox_to_anchor = (1.0, 1.0))"
   ]
  },
  {
   "cell_type": "code",
   "execution_count": null,
   "metadata": {},
   "outputs": [],
   "source": []
  }
 ],
 "metadata": {
  "kernelspec": {
   "display_name": "Python 3 (ipykernel)",
   "language": "python",
   "name": "python3"
  },
  "language_info": {
   "codemirror_mode": {
    "name": "ipython",
    "version": 3
   },
   "file_extension": ".py",
   "mimetype": "text/x-python",
   "name": "python",
   "nbconvert_exporter": "python",
   "pygments_lexer": "ipython3",
   "version": "3.10.0"
  }
 },
 "nbformat": 4,
 "nbformat_minor": 4
}
