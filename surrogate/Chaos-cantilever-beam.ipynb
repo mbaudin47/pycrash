{
 "cells": [
  {
   "cell_type": "markdown",
   "metadata": {},
   "source": [
    "# Polynômes de chaos : application au cas de la poutre encastrée\n"
   ]
  },
  {
   "cell_type": "markdown",
   "metadata": {},
   "source": [
    "## Résumé\n",
    "\n",
    "Dans ce notebook, nous présentons la décomposition en chaos polynomial du cas de la poutre encastrée. Nous montrons comment créer un polynôme du chaos creux de manière simplifiée.\n",
    "\n",
    "Ce notebook est adapté de :\n",
    "\n",
    "* https://github.com/mbaudin47/otsupgalilee-eleve/blob/master/5-Chaos/Exercice-chaos-cantilever-beam.ipynb"
   ]
  },
  {
   "cell_type": "markdown",
   "metadata": {},
   "source": [
    "# Model definition"
   ]
  },
  {
   "cell_type": "code",
   "execution_count": 1,
   "metadata": {},
   "outputs": [],
   "source": [
    "import openturns as ot\n",
    "import numpy as np"
   ]
  },
  {
   "cell_type": "code",
   "execution_count": 2,
   "metadata": {},
   "outputs": [],
   "source": [
    "dist_E = ot.Beta(0.9, 2.2, 2.8e7, 4.8e7)\n",
    "dist_E.setDescription([\"E\"])\n",
    "F_para = ot.LogNormalMuSigma(3.0e4, 9.0e3, 15.0e3)  # in N\n",
    "dist_F = ot.ParametrizedDistribution(F_para)\n",
    "dist_F.setDescription([\"F\"])\n",
    "dist_L = ot.Uniform(250.0, 260.0)  # in cm\n",
    "dist_L.setDescription([\"L\"])\n",
    "dist_I = ot.Beta(2.5, 1.5, 310.0, 450.0)  # in cm^4\n",
    "dist_I.setDescription([\"I\"])\n",
    "\n",
    "myDistribution = ot.ComposedDistribution([dist_E, dist_F, dist_L, dist_I])"
   ]
  },
  {
   "cell_type": "code",
   "execution_count": 3,
   "metadata": {},
   "outputs": [],
   "source": [
    "dim_input = 4  # dimension of the input\n",
    "dim_output = 1  # dimension of the output\n",
    "\n",
    "\n",
    "def function_beam(X):\n",
    "    E, F, L, I = X\n",
    "    Y = F * (L ** 3) / (3 * E * I)\n",
    "    return [Y]\n",
    "\n",
    "\n",
    "g = ot.PythonFunction(dim_input, dim_output, function_beam)\n",
    "g.setInputDescription(myDistribution.getDescription())"
   ]
  },
  {
   "cell_type": "markdown",
   "metadata": {},
   "source": [
    "## Create a sparse polynomial chaos decomposition from least squares"
   ]
  },
  {
   "cell_type": "markdown",
   "metadata": {},
   "source": [
    "Pour simplifier l'utilisation du polynôme du chaos, nous avons créé la fonction suivante qui permet de créer un polynôme du chaos creux par moindres carrés linéaires avec un nombre réduit de paramètres. "
   ]
  },
  {
   "cell_type": "code",
   "execution_count": 4,
   "metadata": {},
   "outputs": [],
   "source": [
    "def ComputeSparseLeastSquaresChaos(\n",
    "    inputTrain, outputTrain, multivariateBasis, totalDegree, myDistribution\n",
    "):\n",
    "    \"\"\"\n",
    "    Create a sparse polynomial chaos with least squares.\n",
    "\n",
    "    * Uses the enumeration rule from multivariateBasis.\n",
    "    * Uses LeastSquaresStrategy to compute the coefficients from\n",
    "    linear least squares.\n",
    "    * Uses LeastSquaresMetaModelSelectionFactory to select the polynomials\n",
    "    in the basis using least angle regression stepwise (LARS)\n",
    "    * Uses FixedStrategy to keep all coefficients that LARS has selected,\n",
    "    up to the given maximum total degree.\n",
    "\n",
    "    Parameters\n",
    "    ----------\n",
    "    inputTrain : ot.Sample(n)\n",
    "        The input training design of experiments with n points\n",
    "    outputTrain : ot.Sample(n)\n",
    "        The input training design of experiments with n points\n",
    "    multivariateBasis : ot.Basis\n",
    "        The multivariate orthogonal polynomial basis\n",
    "    totalDegree : int\n",
    "        The maximum total polynomial degree.\n",
    "        The total polynomial degree is the sum of the marginal degrees\n",
    "    myDistribution : ot.Distribution\n",
    "        The distribution of the input random vector\n",
    "\n",
    "    Returns\n",
    "    -------\n",
    "    result : ot.FunctionalChaosResult\n",
    "        The polynomial chaos result\n",
    "    \"\"\"\n",
    "    selectionAlgorithm = ot.LeastSquaresMetaModelSelectionFactory()\n",
    "    projectionStrategy = ot.LeastSquaresStrategy(\n",
    "        inputTrain, outputTrain, selectionAlgorithm\n",
    "    )\n",
    "    enumfunc = multivariateBasis.getEnumerateFunction()\n",
    "    P = enumfunc.getStrataCumulatedCardinal(totalDegree)\n",
    "    adaptiveStrategy = ot.FixedStrategy(multivariateBasis, P)\n",
    "    chaosalgo = ot.FunctionalChaosAlgorithm(\n",
    "        inputTrain, outputTrain, myDistribution, adaptiveStrategy, projectionStrategy\n",
    "    )\n",
    "    return chaosalgo"
   ]
  },
  {
   "cell_type": "markdown",
   "metadata": {},
   "source": [
    "On crée la base polynomiale multivariée par tensorisation de polynômes univariés avec la règle d'énumération linéaire par défaut."
   ]
  },
  {
   "cell_type": "code",
   "execution_count": 5,
   "metadata": {},
   "outputs": [],
   "source": [
    "multivariateBasis = ot.OrthogonalProductPolynomialFactory(\n",
    "    [dist_E, dist_F, dist_L, dist_I]\n",
    ")"
   ]
  },
  {
   "cell_type": "markdown",
   "metadata": {},
   "source": [
    "Generate an training sample of size N with MC simulation (or retrieve the design from experimental data)."
   ]
  },
  {
   "cell_type": "code",
   "execution_count": 6,
   "metadata": {},
   "outputs": [],
   "source": [
    "training_sample_size = 50  # Size of the training design of experiments\n",
    "\n",
    "inputTrain = myDistribution.getSample(training_sample_size)\n",
    "outputTrain = g(inputTrain)"
   ]
  },
  {
   "cell_type": "code",
   "execution_count": 7,
   "metadata": {},
   "outputs": [],
   "source": [
    "totalDegree = 5  # Maximum total polynomial degree\n",
    "chaosalgo = ComputeSparseLeastSquaresChaos(\n",
    "    inputTrain, outputTrain, multivariateBasis, totalDegree, myDistribution\n",
    ")\n",
    "chaosalgo.run()\n",
    "result = chaosalgo.getResult()"
   ]
  },
  {
   "cell_type": "markdown",
   "metadata": {},
   "source": [
    "La méthode `getMetaModel` retourne une fonction permettant d'évaluer le métamodèle."
   ]
  },
  {
   "cell_type": "code",
   "execution_count": 8,
   "metadata": {},
   "outputs": [
    {
     "data": {
      "text/html": [
       "<p>[12.3818]</p>"
      ],
      "text/plain": [
       "class=Point name=Unnamed dimension=1 values=[12.3818]"
      ]
     },
     "execution_count": 8,
     "metadata": {},
     "output_type": "execute_result"
    }
   ],
   "source": [
    "metamodel = result.getMetaModel()\n",
    "x = myDistribution.getMean()\n",
    "y = metamodel(x)\n",
    "y"
   ]
  },
  {
   "cell_type": "markdown",
   "metadata": {},
   "source": [
    "## Validate the metamodel"
   ]
  },
  {
   "cell_type": "code",
   "execution_count": 9,
   "metadata": {},
   "outputs": [],
   "source": [
    "def validate_polynomial_chaos(test_sample_size, myDistribution, g, metamodel):\n",
    "    inputTest = myDistribution.getSample(test_sample_size)\n",
    "    outputTest = g(inputTest)\n",
    "    val = ot.MetaModelValidation(inputTest, outputTest, metamodel)\n",
    "    Q2 = val.computePredictivityFactor()[0]\n",
    "    graph = val.drawValidation()\n",
    "    graph.setTitle(\"Q2=%.2f%%\" % (Q2 * 100))\n",
    "    return graph"
   ]
  },
  {
   "cell_type": "code",
   "execution_count": 10,
   "metadata": {},
   "outputs": [
    {
     "data": {
      "image/png": "[encoded data removed]",
      "text/plain": [
       "class=GridLayout name=Unnamed nbRows=1 nbColumns=1 graphCollection=[class=Graph name=Unnamed implementation=class=GraphImplementation name=Unnamed title= xTitle=model 0 yTitle=metamodel axes=ON grid=ON legendposition= legendFontSize=1 drawables=[class=Drawable name=Unnamed implementation=class=Curve name=Unnamed derived from class=DrawableImplementation name=Unnamed legend= data=class=Sample name=Unnamed implementation=class=SampleImplementation name=Unnamed size=2 dimension=2 data=[[5.80241,5.80241],[46.8316,46.8316]] color=red fillStyle=solid lineStyle=solid pointStyle=none lineWidth=1,class=Drawable name=Unnamed implementation=class=Cloud name=Unnamed derived from class=DrawableImplementation name=Unnamed legend= data=class=Sample name=Unnamed implementation=class=SampleImplementation name=Unnamed size=1000 dimension=2 data=[[15.3425,15.1201],[10.2181,9.9913],[7.94944,7.90394],...,[10.4699,10.439],[23.3103,23.19],[7.60483,7.57882]] color=blue fillStyle=solid lineStyle=solid pointStyle=plus lineWidth=1]]"
      ]
     },
     "execution_count": 10,
     "metadata": {},
     "output_type": "execute_result"
    }
   ],
   "source": [
    "test_sample_size = 1000\n",
    "validate_polynomial_chaos(test_sample_size, myDistribution, g, metamodel)"
   ]
  },
  {
   "cell_type": "code",
   "execution_count": 11,
   "metadata": {},
   "outputs": [],
   "source": [
    "def printCoefficientsTable(polynomialChaosResult):\n",
    "    \"\"\"\n",
    "    Print the coefficients of the polynomial chaos.\n",
    "\n",
    "    Parameters\n",
    "    ----------\n",
    "    enumerate_function : ot.EnumerateFunction\n",
    "        The enumerate function.\n",
    "    polynomialChaosResult : ot.PolynomialChaosResult\n",
    "        The polynomial chaos result.\n",
    "    \"\"\"\n",
    "    basis = polynomialChaosResult.getOrthogonalBasis()\n",
    "    coefficients = result.getCoefficients()\n",
    "    enumerate_function = basis.getEnumerateFunction()\n",
    "    indices = polynomialChaosResult.getIndices()\n",
    "    nbcoeffs = indices.getSize()\n",
    "    print(\"# Indice, Multi-indice, Total degree : Value\")\n",
    "    for k in range(nbcoeffs):\n",
    "        multiindex = enumerate_function(indices[k])\n",
    "        degree = sum(multiindex)\n",
    "        c = coefficients[k][0]\n",
    "        print(\"#%d, %s (%s) : %s\" % (k, multiindex, degree, c))\n",
    "    return"
   ]
  },
  {
   "cell_type": "code",
   "execution_count": 12,
   "metadata": {},
   "outputs": [
    {
     "name": "stdout",
     "output_type": "stream",
     "text": [
      "# Indice, Multi-indice, Total degree : Value\n",
      "#0, [0,0,0,0] (0) : 12.5763292154894\n",
      "#1, [1,0,0,0] (1) : -1.5318239273441774\n",
      "#2, [0,1,0,0] (1) : 3.6841842271444643\n",
      "#3, [0,0,1,0] (1) : 0.3927939547816703\n",
      "#4, [0,0,0,1] (1) : -1.0093985802396985\n",
      "#5, [2,0,0,0] (2) : 0.1801708714864712\n",
      "#6, [1,1,0,0] (2) : -0.41879290488963783\n",
      "#7, [1,0,1,0] (2) : -0.03230615601332438\n",
      "#8, [1,0,0,1] (2) : 0.14206205858629578\n",
      "#9, [0,2,0,0] (2) : -0.0937769807044938\n",
      "#10, [0,1,0,1] (2) : -0.3421292354037207\n",
      "#11, [0,0,1,1] (2) : -0.04076652473080944\n",
      "#12, [0,0,0,2] (2) : 0.07100996749674612\n",
      "#13, [2,0,0,1] (3) : -0.0256574131770888\n",
      "#14, [1,2,0,0] (3) : 0.025653013738311012\n",
      "#15, [1,1,0,1] (3) : 0.04728641608241961\n",
      "#16, [1,0,1,1] (3) : 0.006763764775810558\n",
      "#17, [0,2,1,0] (3) : -0.11716804576263637\n",
      "#18, [0,1,0,2] (3) : 0.027029691865426003\n",
      "#19, [2,0,2,1] (5) : 0.004016661262748303\n",
      "#20, [1,0,4,0] (5) : -0.02150967985028953\n",
      "#21, [1,0,3,1] (5) : 0.013669027744158957\n",
      "#22, [0,1,2,2] (5) : 0.0001506124069474681\n",
      "#23, [0,0,4,1] (5) : -0.0007713203858039274\n",
      "#24, [0,0,3,2] (5) : -0.01067061316588866\n"
     ]
    }
   ],
   "source": [
    "printCoefficientsTable(result)"
   ]
  },
  {
   "cell_type": "markdown",
   "metadata": {},
   "source": [
    "## Create a sparse polynomial chaos decomposition from integration"
   ]
  },
  {
   "cell_type": "code",
   "execution_count": 13,
   "metadata": {},
   "outputs": [],
   "source": [
    "def ComputeFullIntegrationChaos(\n",
    "    function, multivariateBasis, totalDegree, myDistribution\n",
    "):\n",
    "    \"\"\"\n",
    "    Create a full polynomial chaos with integration based on Gaussian quadrature.\n",
    "\n",
    "    * Uses the enumeration rule from multivariateBasis.\n",
    "    * Uses GaussProductExperiment to create a design of experiments using\n",
    "    a given total degree.\n",
    "    * Uses IntegrationStrategy to compute the coefficients using\n",
    "    integration.\n",
    "    * Uses FixedStrategy to keep all coefficients.\n",
    "\n",
    "    When the number of input variables\n",
    "    or the required marginal degree is large, the design of experiments is\n",
    "    very large.\n",
    "\n",
    "    Parameters\n",
    "    ----------\n",
    "    function : ot.Function\n",
    "        The function to create the metamodel from.\n",
    "    multivariateBasis : ot.Basis\n",
    "        The multivariate orthogonal polynomial basis\n",
    "    totalDegree : int\n",
    "        The total polynomial degree.\n",
    "        The total degree is the sum of the marginal degrees.\n",
    "    myDistribution : ot.Distribution\n",
    "        The distribution of the input random vector\n",
    "\n",
    "    Returns\n",
    "    -------\n",
    "    result : ot.FunctionalChaosResult\n",
    "        The polynomial chaos result\n",
    "    \"\"\"\n",
    "    enumfunc = multivariateBasis.getEnumerateFunction()\n",
    "    P = enumfunc.getStrataCumulatedCardinal(totalDegree)\n",
    "    adaptiveStrategy = ot.FixedStrategy(multivariateBasis, P)\n",
    "    distribution_measure = multivariateBasis.getMeasure()\n",
    "    totalDegreeList = [totalDegree] * dim_input\n",
    "    experiment = ot.GaussProductExperiment(distribution_measure, totalDegreeList)\n",
    "    projectionStrategy = ot.IntegrationStrategy(experiment)\n",
    "    chaosalgo = ot.FunctionalChaosAlgorithm(\n",
    "        function, myDistribution, adaptiveStrategy, projectionStrategy\n",
    "    )\n",
    "    return chaosalgo"
   ]
  },
  {
   "cell_type": "code",
   "execution_count": 14,
   "metadata": {},
   "outputs": [],
   "source": [
    "totalDegree = 3  # Total polynomial degree\n",
    "chaosalgo = ComputeFullIntegrationChaos(g, multivariateBasis, totalDegree, myDistribution)\n",
    "chaosalgo.run()\n",
    "result = chaosalgo.getResult()"
   ]
  },
  {
   "cell_type": "markdown",
   "metadata": {},
   "source": [
    "La méthode `getMetaModel` retourne une fonction permettant d'évaluer le métamodèle."
   ]
  },
  {
   "cell_type": "code",
   "execution_count": 15,
   "metadata": {},
   "outputs": [
    {
     "data": {
      "text/html": [
       "<p>[12.3556]</p>"
      ],
      "text/plain": [
       "class=Point name=Unnamed dimension=1 values=[12.3556]"
      ]
     },
     "execution_count": 15,
     "metadata": {},
     "output_type": "execute_result"
    }
   ],
   "source": [
    "metamodel = result.getMetaModel()\n",
    "x = myDistribution.getMean()\n",
    "y = metamodel(x)\n",
    "y"
   ]
  },
  {
   "cell_type": "code",
   "execution_count": 16,
   "metadata": {},
   "outputs": [
    {
     "data": {
      "image/png": "[encoded data removed]",
      "text/plain": [
       "class=GridLayout name=Unnamed nbRows=1 nbColumns=1 graphCollection=[class=Graph name=Unnamed implementation=class=GraphImplementation name=Unnamed title= xTitle=model 0 yTitle=metamodel axes=ON grid=ON legendposition= legendFontSize=1 drawables=[class=Drawable name=Unnamed implementation=class=Curve name=Unnamed derived from class=DrawableImplementation name=Unnamed legend= data=class=Sample name=Unnamed implementation=class=SampleImplementation name=Unnamed size=2 dimension=2 data=[[5.30541,5.30541],[37.1581,37.1581]] color=red fillStyle=solid lineStyle=solid pointStyle=none lineWidth=1,class=Drawable name=Unnamed implementation=class=Cloud name=Unnamed derived from class=DrawableImplementation name=Unnamed legend= data=class=Sample name=Unnamed implementation=class=SampleImplementation name=Unnamed size=1000 dimension=2 data=[[21.565,21.5853],[16.2857,16.2808],[12.4334,12.4376],...,[12.622,12.649],[10.2109,10.216],[11.3834,11.3769]] color=blue fillStyle=solid lineStyle=solid pointStyle=plus lineWidth=1]]"
      ]
     },
     "execution_count": 16,
     "metadata": {},
     "output_type": "execute_result"
    }
   ],
   "source": [
    "test_sample_size = 1000\n",
    "validate_polynomial_chaos(test_sample_size, myDistribution, g, metamodel)"
   ]
  },
  {
   "cell_type": "code",
   "execution_count": 17,
   "metadata": {},
   "outputs": [
    {
     "name": "stdout",
     "output_type": "stream",
     "text": [
      "# Indice, Multi-indice, Total degree : Value\n",
      "#0, [0,0,0,0] (0) : 12.624574383988882\n",
      "#1, [1,0,0,0] (1) : -1.5516056616766554\n",
      "#2, [0,1,0,0] (1) : 3.787372314985828\n",
      "#3, [0,0,1,0] (1) : 0.4286212020415066\n",
      "#4, [0,0,0,1] (1) : -0.9991446552969345\n",
      "#5, [2,0,0,0] (2) : 0.19864856394404595\n",
      "#6, [1,1,0,0] (2) : -0.46548169847708365\n",
      "#7, [1,0,1,0] (2) : -0.05267908949435183\n",
      "#8, [1,0,0,1] (2) : 0.12279847675172534\n",
      "#9, [0,2,0,0] (2) : 3.772294976389645e-13\n",
      "#10, [0,1,1,0] (2) : 0.12858636060529427\n",
      "#11, [0,1,0,1] (2) : -0.2997433965723932\n",
      "#12, [0,0,2,0] (2) : 0.0043396474265375296\n",
      "#13, [0,0,1,1] (2) : -0.03392229869625174\n",
      "#14, [0,0,0,2] (2) : 0.08610252410058268\n",
      "#15, [3,0,0,0] (3) : 9.89108029572251e-15\n",
      "#16, [2,1,0,0] (3) : 0.05959456917989608\n",
      "#17, [2,0,1,0] (3) : 0.006744384695416182\n",
      "#18, [2,0,0,1] (3) : -0.01572161127260066\n",
      "#19, [1,2,0,0] (3) : -4.660855035254485e-14\n",
      "#20, [1,1,1,0] (3) : -0.015803726847425596\n",
      "#21, [1,1,0,1] (3) : 0.03683954302346673\n",
      "#22, [1,0,2,0] (3) : -0.0005333582988140354\n",
      "#23, [1,0,1,1] (3) : 0.004169172687591231\n",
      "#24, [1,0,0,2] (3) : -0.010582310327115155\n",
      "#25, [0,3,0,0] (3) : 1.6392775538124452e-15\n",
      "#26, [0,2,1,0] (3) : 1.2437967322753707e-14\n",
      "#27, [0,2,0,1] (3) : -2.9618668628828004e-14\n",
      "#28, [0,1,2,0] (3) : 0.001301894227888966\n",
      "#29, [0,1,1,1] (3) : -0.010176689608309126\n",
      "#30, [0,1,0,2] (3) : 0.02583075722873689\n",
      "#31, [0,0,3,0] (3) : -2.159389285583872e-15\n",
      "#32, [0,0,2,1] (3) : -0.00034345201669518837\n",
      "#33, [0,0,1,2] (3) : 0.002923295966761533\n",
      "#34, [0,0,0,3] (3) : -6.005043548642061e-15\n"
     ]
    }
   ],
   "source": [
    "printCoefficientsTable(result)"
   ]
  },
  {
   "cell_type": "code",
   "execution_count": null,
   "metadata": {},
   "outputs": [],
   "source": []
  }
 ],
 "metadata": {
  "kernelspec": {
   "display_name": "Python 3",
   "language": "python",
   "name": "python3"
  },
  "language_info": {
   "codemirror_mode": {
    "name": "ipython",
    "version": 3
   },
   "file_extension": ".py",
   "mimetype": "text/x-python",
   "name": "python",
   "nbconvert_exporter": "python",
   "pygments_lexer": "ipython3",
   "version": "3.9.2"
  }
 },
 "nbformat": 4,
 "nbformat_minor": 1
}
