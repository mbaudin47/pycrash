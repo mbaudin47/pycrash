{
 "cells": [
  {
   "cell_type": "markdown",
   "id": "c60449ef",
   "metadata": {},
   "source": [
    "# Create a sparse chaos by integration\n",
    "\n",
    "The goal of this example is to show how to create a sparse polynomial chaos when we estimate its coefficients by integration. We show how to use the `CleaningStrategy` class. \n",
    "\n",
    "## Polynomial chaos expansion\n",
    "Let $g : \\mathcal{X} \\rightarrow \\mathbb{R}$ be a function where $\\mathcal{X} \\subseteq \\mathbb{R}^p$ is the domain of $g$. Let $f$ be a probability density function on $\\mathcal{X}$. Let $T$ be the iso-probabilistic transformation from the physical space $\\mathcal{X}$ to the standard space $\\mathcal{\\bar{X}}$:\n",
    "$$\n",
    "\\xi = T(\\boldsymbol{x}) \\in \\mathcal{\\bar{X}}\n",
    "$$\n",
    "for any $\\boldsymbol{x} \\in \\mathcal{X}$. \n",
    "Let $h$ be the function defined by the equation :\n",
    "$$\n",
    "h(\\boldsymbol{\\xi}) = \\left(g \\circ T^{-1}\\right)(\\boldsymbol{\\xi})\n",
    "$$\n",
    "for any $\\boldsymbol{\\xi}) \\in \\mathcal{\\bar{X}}$.\n",
    "The polynomial chaos decomposition of $h$ is ([Blatman, 2009] page 73) :\n",
    "$$\n",
    "h(\\boldsymbol{\\xi}) \\approx \\sum_{\\boldsymbol{\\alpha} \\in \\mathbb{N}^p} a_\\boldsymbol{\\alpha} \\psi_\\boldsymbol{\\alpha}(\\boldsymbol{\\xi})\n",
    "$$\n",
    "where $\\boldsymbol{\\alpha} = (\\alpha_1, ..., \\alpha_p) \\in \\mathbb{N}^p$ is a multiindex, $a_\\boldsymbol{\\alpha} \\in \\mathbb{R}$ is the coefficient and $\\psi_\\boldsymbol{\\alpha} : \\mathcal{\\bar{X}} \\rightarrow \\mathbb{R}$ is a multivariate polynomial.\n",
    "\n",
    "## Truncated expansion\n",
    "In practice, we cannot consider an infinite series and must truncate the decomposition at a given order. A simple method is to truncate the polynomial up to a given maximum total degree $d \\in \\mathbb{N}$. Let $\\mathcal{A}^{d}$ be the multi-index set defined by \n",
    "$$\n",
    "\\mathcal{A}^{d} = \\left\\{ \\boldsymbol{\\alpha} \\in \\mathbb{N}^p \\; | \\; \\|\\boldsymbol{\\alpha}\\|_1 \\leq d\\right\\}\n",
    "$$\n",
    "where \n",
    "$$\n",
    "\\|\\boldsymbol{\\alpha}\\|_d = \\alpha_1 + ... + \\alpha_p\n",
    "$$\n",
    "is the 1-norm of the multi-index $\\boldsymbol{\\alpha}$. \n",
    "Therefore, the truncated polynomial chaos expansion is:\n",
    "$$\n",
    "h(\\boldsymbol{\\xi}) \\approx \\sum_{\\boldsymbol{\\alpha} \\in \\mathcal{A}^{d}} a_\\boldsymbol{\\alpha} \\psi_\\boldsymbol{\\alpha}(\\boldsymbol{\\xi}).\n",
    "$$\n",
    "In order to ensure a low error, we may choose a large value of the parameter $P$. This, however, leads to a large number of coefficients $\\boldsymbol{\\alpha} \\in \\mathcal{A}^{d}$ to estimate. More precisely, the number of coefficients to estimate is ([Blatman, 2009] page 73) :\n",
    "$$\n",
    "\\textrm{card}\\left(\\mathcal{A}^{d}\\right) = {p + d \\choose d} = \\frac{(p + d)!}{p! d!}\n",
    "$$\n",
    "where $p!$ is the factorial number of $p$. \n",
    "\n",
    "## Low-rank polynomial chaos expansion\n",
    "For any $\\boldsymbol{\\alpha} \\in \\mathbb{N}^p$, let $\\|\\boldsymbol{\\alpha}\\|_0$ be the rank of the multiindex, that is, the number of nonzero components:\n",
    "$$\n",
    "\\|\\boldsymbol{\\alpha}\\|_0 = \\sum_{i = 1}^p \\mathbb{1}_{\\alpha_i > 0}.\n",
    "$$\n",
    "The multiindex set of maximum total degree $d \\in \\mathbb{N}$ and maximum rank $j \\in \\mathbb{N}$ is ([Blatman, 2009] page 74) is :\n",
    "$$\n",
    "\\mathcal{A}^{d,j} = \\left\\{ \\boldsymbol{\\alpha} \\in \\mathbb{N}^p \\; | \\; \\|\\boldsymbol{\\alpha}\\|_1 \\leq d, \\; \\; \\|\\boldsymbol{\\alpha}\\|_0 \\leq j\\right\\}.\n",
    "$$\n",
    "Therefore, the rank-$j$ polynomial chaos expansion is:\n",
    "$$\n",
    "h(\\boldsymbol{\\xi}) \\approx \\sum_{\\boldsymbol{\\alpha} \\in \\mathcal{A}^{d,j}} a_\\boldsymbol{\\alpha} \\psi_\\boldsymbol{\\alpha}(\\boldsymbol{\\xi}).\n",
    "$$\n",
    "[Blatman, 2009] suggest to use $j = 2, 3, 4$. An example of low-rank PCE for the G-Sobol' function is given in [Blatman, 2009] page 75. \n",
    "\n",
    "_Note._ How to create a low-rank PCE in OpenTURNS?\n",
    "\n",
    "## Model selection\n",
    "Furthermore, if $\\textrm{card}\\left(\\mathcal{A}^{d}\\right)$ is large, many coefficients may be poorly estimated, which may reduce the quality of the metamodel. We may want to select a subset of the coefficients which best predict the output. In other words, we may compute a subset \n",
    "$$\n",
    "\\mathcal{A} \\subseteq \\mathcal{A}^{d}\n",
    "$$\n",
    "such that ([Blatman, 2009] page 86) :\n",
    "$$\n",
    "h(\\boldsymbol{\\xi}) \\approx \\sum_{\\boldsymbol{\\alpha} \\in \\mathcal{A}} a_\\boldsymbol{\\alpha} \\psi_\\boldsymbol{\\alpha}(\\boldsymbol{\\xi}).\n",
    "$$\n",
    "The sparsity index of a multiindex set is the ratio of the cardinality of the multiindex set to the cardinality of the multiindex set of the equivalent multiindex with maximum total degree. For a given multiindex set $\\mathcal{A}$, let $d$ be the maximum 1-norm of multiindices in the set :\n",
    "$$\n",
    "d := \\textrm{max}_{\\boldsymbol{\\alpha} \\in \\mathcal{A}} \\|\\boldsymbol{\\alpha}\\|_1.\n",
    "$$\n",
    "The index of sparsity of $\\mathcal{A}$ is ([Blatman, 2009] page 86) :\n",
    "$$\n",
    "\\textrm{IS}(\\mathcal{A}) = \\frac{\\textrm{card}(\\mathcal{A})}{\\textrm{card}\\left(\\mathcal{A}^d\\right)}.\n",
    "$$\n",
    "\n",
    "_Note._ The index of sparsity as defined by [Blatman, 2009] is close to zero when the model is very sparse. The following complementary indicator is close to 1 when the model is very sparse:\n",
    "$$\n",
    "\\textrm{IS}_{\\textrm{c}}(\\mathcal{A}) = 1 - \\frac{\\textrm{card}(\\mathcal{A})}{\\textrm{card}\\left(\\mathcal{A}^d\\right)}.\n",
    "$$\n",
    "\n",
    "\n",
    "\n",
    "## References\n",
    "Géraud Blatman, Adaptive sparse polynomial chaos expansions for uncertainty propagation and sensitivity analysis. Thèse. Université Blaise Pascal - Clermont II. (2009)"
   ]
  },
  {
   "cell_type": "code",
   "execution_count": 1,
   "id": "82dddc5b",
   "metadata": {},
   "outputs": [],
   "source": [
    "import openturns as ot\n",
    "import openturns.viewer as otv\n",
    "import pylab as pl\n",
    "\n",
    "from openturns.usecases import ishigami_function as ishigami_function"
   ]
  },
  {
   "cell_type": "code",
   "execution_count": 2,
   "id": "97b08eb1",
   "metadata": {},
   "outputs": [
    {
     "data": {
      "text/html": [
       "<p>ComposedDistribution(Uniform(a = -3.14159, b = 3.14159), Uniform(a = -3.14159, b = 3.14159), Uniform(a = -3.14159, b = 3.14159), IndependentCopula(dimension = 3))</p>"
      ],
      "text/plain": [
       "class=ComposedDistribution name=ComposedDistribution dimension=3 copula=class=IndependentCopula name=IndependentCopula dimension=3 marginal[0]=class=Uniform name=X1 dimension=1 a=-3.14159 b=3.14159 marginal[1]=class=Uniform name=X2 dimension=1 a=-3.14159 b=3.14159 marginal[2]=class=Uniform name=X1 dimension=1 a=-3.14159 b=3.14159"
      ]
     },
     "execution_count": 2,
     "metadata": {},
     "output_type": "execute_result"
    }
   ],
   "source": [
    "im = ishigami_function.IshigamiModel()\n",
    "\n",
    "im.distributionX.setDescription([\"$X_0$\", \"$X_1$\", \"$X_2$\"])\n",
    "im.model.setOutputDescription([\"$Y$\"])\n",
    "im.distributionX"
   ]
  },
  {
   "cell_type": "code",
   "execution_count": 3,
   "id": "a75fe80f",
   "metadata": {},
   "outputs": [
    {
     "name": "stdout",
     "output_type": "stream",
     "text": [
      "Input sample:\n",
      "    [ $X_0$     $X_1$     $X_2$     ]\n",
      "0 : [  0.816038  2.67553   0.501506 ]\n",
      "1 : [  2.40524  -2.19212  -0.705186 ]\n",
      "2 : [ -2.29163   1.30032  -1.41281  ]\n",
      "3 : [ -2.93737  -0.733649  2.30831  ]\n",
      "4 : [ -0.960969 -0.43361  -2.39129  ]\n",
      "Output sample:\n",
      "    [ $Y$      ]\n",
      "0 : [  2.14659 ]\n",
      "1 : [  5.31621 ]\n",
      "2 : [  5.44969 ]\n",
      "3 : [  2.35982 ]\n",
      "4 : [ -2.26455 ]\n"
     ]
    }
   ],
   "source": [
    "sample_size = 1000\n",
    "X_dataset = im.distributionX.getSample(sample_size)\n",
    "print(\"Input sample:\")\n",
    "print(X_dataset[:5])\n",
    "Y_dataset = im.model(X_dataset)\n",
    "Y_dataset.setDescription([\"$Y$\"])\n",
    "print(\"Output sample:\")\n",
    "print(Y_dataset[:5])"
   ]
  },
  {
   "cell_type": "code",
   "execution_count": 4,
   "id": "aee4282b",
   "metadata": {},
   "outputs": [
    {
     "data": {
      "text/html": [
       "<p>class=FixedStrategy derived from class=AdaptiveStrategyImplementation maximumDimension=56</p>"
      ],
      "text/plain": [
       "class=FixedStrategy derived from class=AdaptiveStrategyImplementation maximumDimension=56"
      ]
     },
     "execution_count": 4,
     "metadata": {},
     "output_type": "execute_result"
    }
   ],
   "source": [
    "dimension = im.distributionX.getDimension()\n",
    "multivariateBasis = ot.OrthogonalProductPolynomialFactory(\n",
    "    [im.distributionX.getMarginal(i) for i in range(dimension)]\n",
    ")\n",
    "\n",
    "totalDegree = 5  # Polynomial degree\n",
    "enumfunc = multivariateBasis.getEnumerateFunction()\n",
    "P = enumfunc.getStrataCumulatedCardinal(totalDegree)\n",
    "adaptiveStrategy = ot.FixedStrategy(multivariateBasis, P)\n",
    "adaptiveStrategy"
   ]
  },
  {
   "cell_type": "code",
   "execution_count": 5,
   "id": "38421cf5",
   "metadata": {},
   "outputs": [
    {
     "data": {
      "text/html": [
       "<p>ComposedDistribution(Uniform(a = -1, b = 1), Uniform(a = -1, b = 1), Uniform(a = -1, b = 1), IndependentCopula(dimension = 3))</p>"
      ],
      "text/plain": [
       "class=ComposedDistribution name=ComposedDistribution dimension=3 copula=class=IndependentCopula name=IndependentCopula dimension=3 marginal[0]=class=Uniform name=Uniform dimension=1 a=-1 b=1 marginal[1]=class=Uniform name=Uniform dimension=1 a=-1 b=1 marginal[2]=class=Uniform name=Uniform dimension=1 a=-1 b=1"
      ]
     },
     "execution_count": 5,
     "metadata": {},
     "output_type": "execute_result"
    }
   ],
   "source": [
    "distributionMu = multivariateBasis.getMeasure()\n",
    "distributionMu"
   ]
  },
  {
   "cell_type": "code",
   "execution_count": 6,
   "id": "53ccb835",
   "metadata": {},
   "outputs": [
    {
     "data": {
      "text/plain": [
       "216"
      ]
     },
     "execution_count": 6,
     "metadata": {},
     "output_type": "execute_result"
    }
   ],
   "source": [
    "marginal_number_of_nodes = 6\n",
    "dim_input = im.model.getInputDimension()\n",
    "marginalDegrees = [marginal_number_of_nodes] * dim_input\n",
    "experiment = ot.GaussProductExperiment(distributionMu, marginalDegrees)\n",
    "experiment.generate().getSize()"
   ]
  },
  {
   "cell_type": "code",
   "execution_count": 7,
   "id": "e4f5c3ea",
   "metadata": {},
   "outputs": [],
   "source": [
    "projectionStrategy = ot.IntegrationStrategy(experiment)\n",
    "chaosalgo = ot.FunctionalChaosAlgorithm(\n",
    "    im.model, im.distributionX, adaptiveStrategy, projectionStrategy\n",
    ")\n",
    "chaosalgo.run()\n",
    "result = chaosalgo.getResult()"
   ]
  },
  {
   "cell_type": "markdown",
   "id": "c5314643",
   "metadata": {},
   "source": [
    "Validate the metamodel."
   ]
  },
  {
   "cell_type": "code",
   "execution_count": 8,
   "id": "4d11c2e1",
   "metadata": {},
   "outputs": [
    {
     "data": {
      "image/png": "[encoded data removed]",
      "text/plain": [
       "<Figure size 288x216 with 1 Axes>"
      ]
     },
     "metadata": {
      "needs_background": "light"
     },
     "output_type": "display_data"
    }
   ],
   "source": [
    "metamodel = result.getMetaModel()\n",
    "n_valid = 1000\n",
    "inputTest = im.distributionX.getSample(n_valid)\n",
    "outputTest = im.model(inputTest)\n",
    "val = ot.MetaModelValidation(inputTest, outputTest, metamodel)\n",
    "Q2 = val.computePredictivityFactor()[0]\n",
    "graph = val.drawValidation()\n",
    "graph.setTitle(\"Q2=%.2f%%\" % (Q2 * 100))\n",
    "view = otv.View(graph, figure_kw={\"figsize\": (4.0, 3.0)})"
   ]
  },
  {
   "cell_type": "code",
   "execution_count": 9,
   "id": "e67b7bf6",
   "metadata": {},
   "outputs": [],
   "source": [
    "def printCoefficientsTable(polynomialChaosResult, maximum_number_of_printed_coefficients = 10):\n",
    "    \"\"\"\n",
    "    Print the coefficients of the polynomial chaos.\n",
    "\n",
    "    Parameters\n",
    "    ----------\n",
    "    enumerate_function : ot.EnumerateFunction\n",
    "        The enumerate function.\n",
    "    polynomialChaosResult : ot.PolynomialChaosResult\n",
    "        The polynomial chaos result.\n",
    "    \"\"\"\n",
    "    basis = polynomialChaosResult.getOrthogonalBasis()\n",
    "    coefficients = polynomialChaosResult.getCoefficients()\n",
    "    enumerate_function = basis.getEnumerateFunction()\n",
    "    indices = polynomialChaosResult.getIndices()\n",
    "    nbcoeffs = indices.getSize()\n",
    "    printed_number_of_coefficients = min(nbcoeffs, maximum_number_of_printed_coefficients)\n",
    "    print(\"Total number of coefficients : \", nbcoeffs)\n",
    "    print(\"# Indice, Multi-indice, Degree : Value\")\n",
    "    for k in range(printed_number_of_coefficients):\n",
    "        multiindex = enumerate_function(indices[k])\n",
    "        degree = sum(multiindex)\n",
    "        c = coefficients[k][0]\n",
    "        print(\"#%d, %s (%s) : %s\" % (k, multiindex, degree, c))\n",
    "    if nbcoeffs > maximum_number_of_printed_coefficients:\n",
    "        print(\"...\")\n",
    "    return"
   ]
  },
  {
   "cell_type": "code",
   "execution_count": 10,
   "id": "2e5e6517",
   "metadata": {},
   "outputs": [
    {
     "name": "stdout",
     "output_type": "stream",
     "text": [
      "Total number of coefficients :  56\n",
      "# Indice, Multi-indice, Degree : Value\n",
      "#0, [0,0,0] (0) : 3.5049783626206334\n",
      "#1, [1,0,0] (1) : 1.6254291279668387\n",
      "#2, [0,1,0] (1) : 6.830473686658678e-16\n",
      "#3, [0,0,1] (1) : -8.018759267702791e-16\n",
      "#4, [2,0,0] (2) : -1.0959115559483479e-15\n",
      "#5, [1,1,0] (2) : -4.0505793164058446e-16\n",
      "#6, [1,0,1] (2) : -9.879250195687916e-16\n",
      "#7, [0,2,0] (2) : -0.6413919098131441\n",
      "#8, [0,1,1] (2) : -8.933825901280557e-17\n",
      "#9, [0,0,2] (2) : -3.668940151690947e-16\n",
      "...\n"
     ]
    }
   ],
   "source": [
    "printCoefficientsTable(result)"
   ]
  },
  {
   "cell_type": "code",
   "execution_count": null,
   "id": "e75c2c6c",
   "metadata": {},
   "outputs": [],
   "source": []
  }
 ],
 "metadata": {
  "kernelspec": {
   "display_name": "Python 3 (ipykernel)",
   "language": "python",
   "name": "python3"
  },
  "language_info": {
   "codemirror_mode": {
    "name": "ipython",
    "version": 3
   },
   "file_extension": ".py",
   "mimetype": "text/x-python",
   "name": "python",
   "nbconvert_exporter": "python",
   "pygments_lexer": "ipython3",
   "version": "3.8.10"
  }
 },
 "nbformat": 4,
 "nbformat_minor": 5
}
