{
 "cells": [
  {
   "cell_type": "markdown",
   "id": "53079a38",
   "metadata": {},
   "source": [
    "# Create a sparse chaos by integration\n",
    "\n",
    "The goal of this example is to show how to create a sparse polynomial chaos when we estimate its coefficients by integration. We show how to use the `CleaningStrategy` class. \n",
    "\n",
    "## Polynomial chaos expansion\n",
    "Let $g : \\mathcal{X} \\rightarrow \\mathbb{R}$ be a function where $\\mathcal{X} \\subseteq \\mathbb{R}^p$ is the domain of $g$. Let $f$ be a probability density function on $\\mathcal{X}$. Let $T$ be the iso-probabilistic transformation from the physical space $\\mathcal{X}$ to the standard space $\\mathcal{\\bar{X}}$:\n",
    "$$\n",
    "\\xi = T(\\boldsymbol{x}) \\in \\mathcal{\\bar{X}}\n",
    "$$\n",
    "for any $\\boldsymbol{x} \\in \\mathcal{X}$. \n",
    "Let $h$ be the function defined by the equation :\n",
    "$$\n",
    "h(\\boldsymbol{\\xi}) = \\left(g \\circ T^{-1}\\right)(\\boldsymbol{\\xi})\n",
    "$$\n",
    "for any $\\boldsymbol{\\xi} \\in \\mathcal{\\bar{X}}$.\n",
    "The polynomial chaos decomposition of $h$ is ([Blatman, 2009] page 73) :\n",
    "$$\n",
    "h(\\boldsymbol{\\xi}) \\approx \\sum_{\\boldsymbol{\\alpha} \\in \\mathbb{N}^p} a_\\boldsymbol{\\alpha} \\psi_\\boldsymbol{\\alpha}(\\boldsymbol{\\xi})\n",
    "$$\n",
    "where $\\boldsymbol{\\alpha} = (\\alpha_1, ..., \\alpha_p) \\in \\mathbb{N}^p$ is a multiindex, $a_\\boldsymbol{\\alpha} \\in \\mathbb{R}$ is the coefficient and $\\psi_\\boldsymbol{\\alpha} : \\mathcal{\\bar{X}} \\rightarrow \\mathbb{R}$ is a multivariate polynomial.\n",
    "\n",
    "## Truncated expansion\n",
    "In practice, we cannot consider an infinite series and must truncate the decomposition at a given order. Only a selection of coefficients must be kept. This leads to a subset of all possible multiindices. In the remainder of this text, we call this selection the _multiindex set_. \n",
    "\n",
    "Several multiindex sets can be considered. A simple method is to truncate the polynomial up to a given maximum total degree $d \\in \\mathbb{N}$. Let $\\mathcal{A}^{d}$ be the multi-index set defined by \n",
    "$$\n",
    "\\mathcal{A}^{d} = \\left\\{ \\boldsymbol{\\alpha} \\in \\mathbb{N}^p \\; | \\; \\|\\boldsymbol{\\alpha}\\|_1 \\leq d\\right\\}\n",
    "$$\n",
    "where \n",
    "$$\n",
    "\\|\\boldsymbol{\\alpha}\\|_d = \\alpha_1 + ... + \\alpha_p\n",
    "$$\n",
    "is the 1-norm of the multi-index $\\boldsymbol{\\alpha}$. \n",
    "Therefore, the truncated polynomial chaos expansion is:\n",
    "$$\n",
    "h(\\boldsymbol{\\xi}) \\approx \\sum_{\\boldsymbol{\\alpha} \\in \\mathcal{A}^{d}} a_\\boldsymbol{\\alpha} \\psi_\\boldsymbol{\\alpha}(\\boldsymbol{\\xi}).\n",
    "$$\n",
    "In order to ensure a low error, we may choose a large value of the parameter $P$. This, however, leads to a large number of coefficients $\\boldsymbol{\\alpha} \\in \\mathcal{A}^{d}$ to estimate. More precisely, the number of coefficients to estimate is ([Blatman, 2009] page 73) :\n",
    "$$\n",
    "\\textrm{card}\\left(\\mathcal{A}^{d}\\right) = {p + d \\choose d} = \\frac{(p + d)!}{p! d!}\n",
    "$$\n",
    "where $p!$ is the factorial number of $p$. \n",
    "\n",
    "## Low-rank polynomial chaos expansion\n",
    "For any $\\boldsymbol{\\alpha} \\in \\mathbb{N}^p$, let $\\|\\boldsymbol{\\alpha}\\|_0$ be the rank of the multiindex, that is, the number of nonzero components:\n",
    "$$\n",
    "\\|\\boldsymbol{\\alpha}\\|_0 = \\sum_{i = 1}^p \\mathbb{1}_{\\alpha_i > 0}.\n",
    "$$\n",
    "The multiindex set of maximum total degree $d \\in \\mathbb{N}$ and maximum rank $j \\in \\mathbb{N}$ is ([Blatman, 2009] page 74) is :\n",
    "$$\n",
    "\\mathcal{A}^{d,j} = \\left\\{ \\boldsymbol{\\alpha} \\in \\mathbb{N}^p \\; | \\; \\|\\boldsymbol{\\alpha}\\|_1 \\leq d, \\; \\; \\|\\boldsymbol{\\alpha}\\|_0 \\leq j\\right\\}.\n",
    "$$\n",
    "Therefore, the rank-$j$ polynomial chaos expansion is:\n",
    "$$\n",
    "h(\\boldsymbol{\\xi}) \\approx \\sum_{\\boldsymbol{\\alpha} \\in \\mathcal{A}^{d,j}} a_\\boldsymbol{\\alpha} \\psi_\\boldsymbol{\\alpha}(\\boldsymbol{\\xi}).\n",
    "$$\n",
    "The rank is now an hyperparameter of the model: [Blatman, 2009] suggests to use $j = 2, 3, 4$. An example of low-rank PCE for the G-Sobol' function is given in [Blatman, 2009] page 75. \n",
    "\n",
    "_Note._ How to create a low-rank PCE in OpenTURNS?\n",
    "\n",
    "## Model selection\n",
    "If $\\textrm{card}\\left(\\mathcal{A}^{d}\\right)$ is large, many coefficients may be poorly estimated, which may reduce the quality of the metamodel. We may want to select a subset of the coefficients which best predict the output. In other words, we may compute a subset \n",
    "$$\n",
    "\\mathcal{A} \\subseteq \\mathcal{A}^{d}\n",
    "$$\n",
    "such that ([Blatman, 2009] page 86) :\n",
    "$$\n",
    "h(\\boldsymbol{\\xi}) \\approx \\sum_{\\boldsymbol{\\alpha} \\in \\mathcal{A}} a_\\boldsymbol{\\alpha} \\psi_\\boldsymbol{\\alpha}(\\boldsymbol{\\xi}).\n",
    "$$\n",
    "\n",
    "An enumeration rule is a function from the set of integers $k$ to the corresponding set of multiindices $\\boldsymbol{\\alpha}$. More precisely, let $r : \\mathbb{N} \\rightarrow \\mathbb{N}^p$ be the function such that :\n",
    "$$\n",
    "r(k) = \\boldsymbol{\\alpha}\n",
    "$$\n",
    "for any $k \\geq 0$. \n",
    "Let $K \\in \\mathbb{N}$ be a parameter representing the number of coefficients considered in the selection. Given an enumeration rule for the multiindices $\\boldsymbol{\\alpha}$, at most $K$ multiindices will be considered. Let $\\mathcal{A}_K$ be the corresponding multiindex set :\n",
    "$$\n",
    "\\mathcal{A}_K = \\left\\{ \\boldsymbol{\\alpha} \\; | \\; r^{-1}(\\boldsymbol{\\alpha}) = k \\leq K \\right\\}.\n",
    "$$\n",
    "\n",
    "Let $\\epsilon > 0$ be a parameter representing the minimum relative value of a significant coefficient $a_\\boldsymbol{\\alpha}$. The `CleaningStrategy` uses the following criteria to select the coefficients :\n",
    "$$\n",
    "\\mathcal{A}_\\epsilon = \n",
    "\\left\\{\n",
    "|a_\\boldsymbol{\\alpha}| \\leq \\epsilon \\max_{ a_\\boldsymbol{\\alpha} \\in \\mathcal{A}_K } |a_\\boldsymbol{\\alpha}|\n",
    "\\right\\}\n",
    "$$\n",
    "where $\\epsilon$ is the significance factor, default is $\\epsilon = 10^{-4}$.\n",
    "\n",
    "## Sparsity index\n",
    "The sparsity index of a multiindex set is the ratio of the cardinality of the multiindex set to the cardinality of the multiindex set of the equivalent multiindex with maximum total degree. For a given multiindex set $\\mathcal{A}$, let $d$ be the maximum 1-norm of multiindices in the set :\n",
    "$$\n",
    "d := \\textrm{max}_{\\boldsymbol{\\alpha} \\in \\mathcal{A}} \\|\\boldsymbol{\\alpha}\\|_1.\n",
    "$$\n",
    "The index of sparsity of $\\mathcal{A}$ is ([Blatman, 2009] eq. 4.42 page 86) :\n",
    "$$\n",
    "\\textrm{IS}(\\mathcal{A}) = \\frac{\\textrm{card}(\\mathcal{A})}{\\textrm{card}\\left(\\mathcal{A}^d\\right)}.\n",
    "$$\n",
    "\n",
    "_Note._ The index of sparsity as defined by [Blatman, 2009] is close to zero when the model is very sparse. The following complementary indicator is close to 1 when the model is very sparse:\n",
    "$$\n",
    "\\textrm{IS}_{\\textrm{c}}(\\mathcal{A}) = 1 - \\frac{\\textrm{card}(\\mathcal{A})}{\\textrm{card}\\left(\\mathcal{A}^d\\right)}.\n",
    "$$\n",
    "\n",
    "\n",
    "\n",
    "## References\n",
    "- Géraud Blatman, Adaptive sparse polynomial chaos expansions for uncertainty propagation and sensitivity analysis. Thèse. Université Blaise Pascal - Clermont II. (2009)\n",
    "- Müller, A. C., & Guido, S. (2016). Introduction to machine learning with Python: a guide for data scientists. \" O'Reilly Media, Inc.\"."
   ]
  },
  {
   "cell_type": "code",
   "execution_count": 1,
   "id": "c35107c0",
   "metadata": {},
   "outputs": [],
   "source": [
    "import openturns as ot\n",
    "import openturns.viewer as otv\n",
    "from openturns.usecases import ishigami_function as ishigami_function\n",
    "import itertools"
   ]
  },
  {
   "cell_type": "markdown",
   "id": "77a1bb12",
   "metadata": {},
   "source": [
    "The following function takes a polynomial chaos result as input and prints a given maximum number of coefficients of this polynomial. It can take into account a threshold, so that we can avoid to print coefficients which are very close to zero."
   ]
  },
  {
   "cell_type": "code",
   "execution_count": 2,
   "id": "e05315e4",
   "metadata": {},
   "outputs": [],
   "source": [
    "def printCoefficientsTable(\n",
    "    polynomialChaosResult, maximum_number_of_printed_coefficients=10, threshold=0.0\n",
    "):\n",
    "    \"\"\"\n",
    "    Print the coefficients of the polynomial chaos.\n",
    "\n",
    "    Parameters\n",
    "    ----------\n",
    "    polynomialChaosResult : ot.FunctionalChaosResult\n",
    "        The polynomial chaos expansion.\n",
    "    maximum_number_of_printed_coefficients : int\n",
    "        The maximum number of printed coefficients.\n",
    "    threshold : float, stricly positive\n",
    "        If a coefficient has an absolute value striclty greater than the \n",
    "        threshold, it is printed. \n",
    "    \"\"\"\n",
    "    basis = polynomialChaosResult.getOrthogonalBasis()\n",
    "    coefficients = polynomialChaosResult.getCoefficients()\n",
    "    enumerate_function = basis.getEnumerateFunction()\n",
    "    indices = polynomialChaosResult.getIndices()\n",
    "    nbcoeffs = indices.getSize()\n",
    "    print(\"Total number of coefficients : \", nbcoeffs)\n",
    "    print(\"# Indice, Multi-indice, Degree : Value\")\n",
    "    print_index = 0\n",
    "    for k in range(nbcoeffs):\n",
    "        multiindex = enumerate_function(indices[k])\n",
    "        degree = sum(multiindex)\n",
    "        c = coefficients[k][0]\n",
    "        if abs(c) > threshold:\n",
    "            print(\"#%d, %s (%s) : %s\" % (k, multiindex, degree, c))\n",
    "            print_index += 1\n",
    "        if print_index > maximum_number_of_printed_coefficients:\n",
    "            break\n",
    "    return"
   ]
  },
  {
   "cell_type": "markdown",
   "id": "cf105791",
   "metadata": {},
   "source": [
    "The next function computes the polynomial chaos Q2 score using simple validation on a test sample generated by Monte-Carlo sampling. The actual computation is performed by the `MetaModelValidation` class. "
   ]
  },
  {
   "cell_type": "code",
   "execution_count": 3,
   "id": "ea453707",
   "metadata": {},
   "outputs": [],
   "source": [
    "def compute_polynomial_chaos_Q2(\n",
    "    polynomialchaos_result, g_function, input_distribution, n_valid=1000\n",
    "):\n",
    "    \"\"\"\n",
    "    Compute the Q2 score of the polynomial chaos. \n",
    "    \n",
    "\n",
    "    Parameters\n",
    "    ----------\n",
    "    polynomialChaosResult : ot.FunctionalChaosResult\n",
    "        The polynomial chaos expansion.\n",
    "    g_function : ot.Function\n",
    "        The function.\n",
    "    input_distribution : ot.Distribution\n",
    "        The input distribution.\n",
    "    n_valid : int\n",
    "        The number of simulations to compute the Q2 score.\n",
    "    \n",
    "    Returns\n",
    "    -------\n",
    "    Q2 : float\n",
    "        The Q2 score\n",
    "    \"\"\"\n",
    "    ot.RandomGenerator.SetSeed(1976)\n",
    "    metamodel = polynomialchaos_result.getMetaModel()\n",
    "    inputTest = input_distribution.getSample(n_valid)\n",
    "    outputTest = g_function(inputTest)\n",
    "    val = ot.MetaModelValidation(inputTest, outputTest, metamodel)\n",
    "    Q2 = val.computePredictivityFactor()[0]\n",
    "    return Q2"
   ]
  },
  {
   "cell_type": "markdown",
   "id": "c05d8f54",
   "metadata": {},
   "source": [
    "The following function creates a validation plot using the `draw` method of the `MetaModelValidation` class. "
   ]
  },
  {
   "cell_type": "code",
   "execution_count": 4,
   "id": "a43c2629",
   "metadata": {},
   "outputs": [],
   "source": [
    "def validate_polynomial_chaos(\n",
    "    polynomialchaos_result, g_function, input_distribution, n_valid=1000\n",
    "):\n",
    "    \"\"\"\n",
    "    Validate the polynomial chaos. \n",
    "    \n",
    "    Create the validation plot.\n",
    "    \n",
    "\n",
    "    Parameters\n",
    "    ----------\n",
    "    polynomialChaosResult : ot.FunctionalChaosResult\n",
    "        The polynomial chaos expansion.\n",
    "    g_function : ot.Function\n",
    "        The function.\n",
    "    input_distribution : ot.Distribution\n",
    "        The input distribution.\n",
    "    n_valid : int\n",
    "        The number of simulations to compute the Q2 score.\n",
    "    \n",
    "    Returns\n",
    "    -------\n",
    "    Q2 : float\n",
    "        The Q2 score\n",
    "    \"\"\"\n",
    "    metamodel = polynomialchaos_result.getMetaModel()\n",
    "    inputTest = input_distribution.getSample(n_valid)\n",
    "    outputTest = g_function(inputTest)\n",
    "    val = ot.MetaModelValidation(inputTest, outputTest, metamodel)\n",
    "    Q2 = val.computePredictivityFactor()[0]\n",
    "    graph = val.drawValidation()\n",
    "    graph.setTitle(\"Q2=%.2f%%\" % (Q2 * 100))\n",
    "    view = otv.View(graph, figure_kw={\"figsize\": (4.0, 3.0)})\n",
    "    return view"
   ]
  },
  {
   "cell_type": "markdown",
   "id": "cca02592",
   "metadata": {},
   "source": [
    "We consider the Ishigami model which has three inputs uniform in the $[-\\pi, \\pi]$ interval. This is an interesting example for our purpose because it is highly non linear, so that a high polynomial degree will be required in order to produce a polynomial chaos expansion with Q2 score sufficiently close to 1. "
   ]
  },
  {
   "cell_type": "code",
   "execution_count": 5,
   "id": "9b72a15a",
   "metadata": {},
   "outputs": [
    {
     "data": {
      "text/html": [
       "<p>ComposedDistribution(Uniform(a = -3.14159, b = 3.14159), Uniform(a = -3.14159, b = 3.14159), Uniform(a = -3.14159, b = 3.14159), IndependentCopula(dimension = 3))</p>"
      ],
      "text/plain": [
       "class=ComposedDistribution name=ComposedDistribution dimension=3 copula=class=IndependentCopula name=IndependentCopula dimension=3 marginal[0]=class=Uniform name=X1 dimension=1 a=-3.14159 b=3.14159 marginal[1]=class=Uniform name=X2 dimension=1 a=-3.14159 b=3.14159 marginal[2]=class=Uniform name=X1 dimension=1 a=-3.14159 b=3.14159"
      ]
     },
     "execution_count": 5,
     "metadata": {},
     "output_type": "execute_result"
    }
   ],
   "source": [
    "im = ishigami_function.IshigamiModel()\n",
    "\n",
    "im.distributionX.setDescription([\"$X_0$\", \"$X_1$\", \"$X_2$\"])\n",
    "im.model.setOutputDescription([\"$Y$\"])\n",
    "im.distributionX"
   ]
  },
  {
   "cell_type": "markdown",
   "id": "a990529b",
   "metadata": {},
   "source": [
    "Then we create the multivariate basis onto which the function is expanded. By default, it is associated with the linear enumeration rule. Since our marginals are uniform, the `OrthogonalProductPolynomialFactory` class produce Legendre polynomials. \n",
    "\n",
    "In order to create the multivariate basis of polynomials, we must specify the number of functions in the basis. In this particular case, we compute that number depending on the total degree. The `getMaximumDegreeStrataIndex` method of the enumeration function computes the number of layers necessary to achieve that total degree. Then the number of functions up to that layer is computed with the `getStrataCumulatedCardinal` method."
   ]
  },
  {
   "cell_type": "code",
   "execution_count": 6,
   "id": "1f0d1cf8",
   "metadata": {
    "scrolled": true
   },
   "outputs": [
    {
     "name": "stdout",
     "output_type": "stream",
     "text": [
      "strataIndex =  5\n",
      "number_of_terms_in_basis =  56\n",
      "class=FixedStrategy derived from class=AdaptiveStrategyImplementation maximumDimension=56\n"
     ]
    }
   ],
   "source": [
    "dimension = im.distributionX.getDimension()\n",
    "multivariateBasis = ot.OrthogonalProductPolynomialFactory(\n",
    "    [im.distributionX.getMarginal(i) for i in range(dimension)]\n",
    ")\n",
    "\n",
    "totalDegree = 5  # Polynomial degree\n",
    "enumerate_function = multivariateBasis.getEnumerateFunction()\n",
    "totalDegree = 5\n",
    "strataIndex = enumerate_function.getMaximumDegreeStrataIndex(totalDegree)\n",
    "print(\"strataIndex = \", strataIndex)\n",
    "number_of_terms_in_basis = enumerate_function.getStrataCumulatedCardinal(strataIndex)\n",
    "print(\"number_of_terms_in_basis = \", number_of_terms_in_basis)\n",
    "adaptiveStrategy = ot.FixedStrategy(multivariateBasis, number_of_terms_in_basis)\n",
    "print(adaptiveStrategy)"
   ]
  },
  {
   "cell_type": "markdown",
   "id": "ad36ab7a",
   "metadata": {},
   "source": [
    "We compute the coefficients using a multivariate tensor product Gaussian quadrature rule. Since the coefficients are computed in the standardized space, we first use the `getMeasure` method of the multivariate basis in order to get that standardized distribution. Then we use the `GaussProductExperiment` class to create the quadrature, using 6 nodes on each of the dimensions. "
   ]
  },
  {
   "cell_type": "code",
   "execution_count": 7,
   "id": "c1ed6186",
   "metadata": {},
   "outputs": [
    {
     "name": "stdout",
     "output_type": "stream",
     "text": [
      "ComposedDistribution(Uniform(a = -1, b = 1), Uniform(a = -1, b = 1), Uniform(a = -1, b = 1), IndependentCopula(dimension = 3))\n"
     ]
    },
    {
     "data": {
      "text/plain": [
       "216"
      ]
     },
     "execution_count": 7,
     "metadata": {},
     "output_type": "execute_result"
    }
   ],
   "source": [
    "standard_distribution = multivariateBasis.getMeasure()\n",
    "print(standard_distribution)\n",
    "\n",
    "marginal_number_of_nodes = 6\n",
    "dim_input = im.model.getInputDimension()\n",
    "marginalDegrees = [marginal_number_of_nodes] * dim_input\n",
    "experiment = ot.GaussProductExperiment(standard_distribution, marginalDegrees)\n",
    "experiment.generate().getSize()"
   ]
  },
  {
   "cell_type": "markdown",
   "id": "9cdfa3ff",
   "metadata": {},
   "source": [
    "We see that 216 nodes are involved in this quadrature rule, which is the result of $6^3 = 216$.\n",
    "\n",
    "In the next cell, we compute the coefficients of the polynomial chaos expansion using integration. "
   ]
  },
  {
   "cell_type": "code",
   "execution_count": 8,
   "id": "a2762e70",
   "metadata": {},
   "outputs": [],
   "source": [
    "projectionStrategy = ot.IntegrationStrategy(experiment)\n",
    "chaosalgo = ot.FunctionalChaosAlgorithm(\n",
    "    im.model, im.distributionX, adaptiveStrategy, projectionStrategy\n",
    ")\n",
    "chaosalgo.run()\n",
    "result = chaosalgo.getResult()"
   ]
  },
  {
   "cell_type": "markdown",
   "id": "b6ac0453",
   "metadata": {},
   "source": [
    "We now validate the metamodel by drawing the validation graph. We see that many points are close to the red test line, which indicates that the predictions of the polynomial chaos expansion are close to the output observations from the model."
   ]
  },
  {
   "cell_type": "code",
   "execution_count": 9,
   "id": "c5056bbb",
   "metadata": {},
   "outputs": [
    {
     "name": "stderr",
     "output_type": "stream",
     "text": [
      "/home/devel/miniconda3/envs/otsupgalilee/lib/python3.8/site-packages/numpy/core/getlimits.py:499: UserWarning: The value of the smallest subnormal for <class 'numpy.float64'> type is zero.\n",
      "  setattr(self, word, getattr(machar, word).flat[0])\n",
      "/home/devel/miniconda3/envs/otsupgalilee/lib/python3.8/site-packages/numpy/core/getlimits.py:89: UserWarning: The value of the smallest subnormal for <class 'numpy.float64'> type is zero.\n",
      "  return self._float_to_str(self.smallest_subnormal)\n"
     ]
    },
    {
     "data": {
      "image/png": "[encoded data removed]",
      "text/plain": [
       "<Figure size 288x216 with 1 Axes>"
      ]
     },
     "metadata": {
      "needs_background": "light"
     },
     "output_type": "display_data"
    }
   ],
   "source": [
    "view = validate_polynomial_chaos(result, im.model, im.distributionX)"
   ]
  },
  {
   "cell_type": "markdown",
   "id": "4ca6f45e",
   "metadata": {},
   "source": [
    "In order to have a closer look on the result, we use the `printCoefficientsTable` in order to print the first 10 coefficients. "
   ]
  },
  {
   "cell_type": "code",
   "execution_count": 10,
   "id": "ac10f5f4",
   "metadata": {
    "scrolled": true
   },
   "outputs": [
    {
     "name": "stdout",
     "output_type": "stream",
     "text": [
      "Total number of coefficients :  56\n",
      "# Indice, Multi-indice, Degree : Value\n",
      "#0, [0,0,0] (0) : 3.5049783626206334\n",
      "#1, [1,0,0] (1) : 1.6254291279668387\n",
      "#2, [0,1,0] (1) : 6.830473686658678e-16\n",
      "#3, [0,0,1] (1) : -8.018759267702791e-16\n",
      "#4, [2,0,0] (2) : -1.0959115559483479e-15\n",
      "#5, [1,1,0] (2) : -4.0505793164058446e-16\n",
      "#6, [1,0,1] (2) : -9.879250195687916e-16\n",
      "#7, [0,2,0] (2) : -0.6413919098131441\n",
      "#8, [0,1,1] (2) : -8.933825901280557e-17\n",
      "#9, [0,0,2] (2) : -3.668940151690947e-16\n",
      "#10, [3,0,0] (3) : -1.2911039486376783\n"
     ]
    }
   ],
   "source": [
    "printCoefficientsTable(result)"
   ]
  },
  {
   "cell_type": "markdown",
   "id": "8e35675b",
   "metadata": {},
   "source": [
    "We see that there are 56 coefficients in the metamodel and that many of these coefficients are close to zero. If we print only coefficients greater than $10^{-14}$, we see that only a fraction of them are significant and that these significant coefficients have a relatively large polynomial degree."
   ]
  },
  {
   "cell_type": "code",
   "execution_count": 11,
   "id": "27f333cb",
   "metadata": {},
   "outputs": [
    {
     "name": "stdout",
     "output_type": "stream",
     "text": [
      "Total number of coefficients :  56\n",
      "# Indice, Multi-indice, Degree : Value\n",
      "#0, [0,0,0] (0) : 3.5049783626206334\n",
      "#1, [1,0,0] (1) : 1.6254291279668387\n",
      "#7, [0,2,0] (2) : -0.6413919098131441\n",
      "#10, [3,0,0] (3) : -1.2911039486376783\n",
      "#15, [1,0,2] (3) : 1.3724300360555146\n",
      "#30, [0,4,0] (4) : -1.6122740106725173\n",
      "#35, [5,0,0] (5) : 0.20760614724812484\n",
      "#40, [3,0,2] (5) : -1.0901427864755087\n",
      "#49, [1,0,4] (5) : 0.4091795806643483\n"
     ]
    }
   ],
   "source": [
    "printCoefficientsTable(result, threshold=1.0e-14)"
   ]
  },
  {
   "cell_type": "markdown",
   "id": "fb2857a2",
   "metadata": {},
   "source": [
    "The previous experiments suggest to keep only the coefficients which are significant in the model: this is the topic of the next section."
   ]
  },
  {
   "cell_type": "markdown",
   "id": "3304070a",
   "metadata": {},
   "source": [
    "## Use a model selection method"
   ]
  },
  {
   "cell_type": "markdown",
   "id": "b155b052",
   "metadata": {},
   "source": [
    "The `CleaningStrategy` has the following algorithm. On input, it considers only the first `maximumConsideredTerms` coefficients $a_\\boldsymbol{\\alpha}$. On output it selects the `mostSignificant` most significant coefficients. To do this, it uses the `significanceFactor` parameter."
   ]
  },
  {
   "cell_type": "code",
   "execution_count": 12,
   "id": "1c408b20",
   "metadata": {},
   "outputs": [],
   "source": [
    "def compute_cleaning_PCE(\n",
    "    maximumConsideredTerms, mostSignificant, significanceFactor, verbose=False\n",
    "):\n",
    "    \"\"\"\n",
    "    Compute a PCE using CleaningStrategy.\n",
    "    \n",
    "    Parameters\n",
    "    ----------\n",
    "    maximumConsideredTerms : int\n",
    "        The maximum number of coefficients considered by the algorithm during \n",
    "        intermediate steps.\n",
    "        \n",
    "    mostSignificant : int\n",
    "        The maximum number of coefficients selected by the algorithm in \n",
    "        the final PCE.\n",
    "\n",
    "    significanceFactor : float\n",
    "        The relative part of any coefficient with respect to the maximum \n",
    "        coefficient.\n",
    "\n",
    "    verbose : bool\n",
    "        If set to True, print intermediate messages.\n",
    "    \n",
    "    Returns\n",
    "    -------\n",
    "    Q2 : float\n",
    "        The Q2 score\n",
    "    \"\"\"\n",
    "    adaptiveStrategy = ot.CleaningStrategy(\n",
    "        multivariateBasis,\n",
    "        maximumConsideredTerms,\n",
    "        mostSignificant,\n",
    "        significanceFactor,\n",
    "        True,\n",
    "    )\n",
    "    chaosalgo = ot.FunctionalChaosAlgorithm(\n",
    "        im.model, im.distributionX, adaptiveStrategy, projectionStrategy\n",
    "    )\n",
    "    chaosalgo.run()\n",
    "    result = chaosalgo.getResult()\n",
    "    score_Q2 = compute_polynomial_chaos_Q2(result, im.model, im.distributionX)\n",
    "    if verbose:\n",
    "        print(\"Q2 = %.2f%%\" % (100.0 * score_Q2))\n",
    "        printCoefficientsTable(result)\n",
    "    return score_Q2"
   ]
  },
  {
   "cell_type": "markdown",
   "id": "268e87de",
   "metadata": {},
   "source": [
    "In the next cell, we consider at most 500 coefficients and keep only the 5 most significant coefficients. The factor is set to a relatively low value. "
   ]
  },
  {
   "cell_type": "code",
   "execution_count": 13,
   "id": "71289d94",
   "metadata": {},
   "outputs": [
    {
     "name": "stdout",
     "output_type": "stream",
     "text": [
      "Q2 = -384.39%\n",
      "Total number of coefficients :  6\n",
      "# Indice, Multi-indice, Degree : Value\n",
      "#0, [0,0,0] (0) : 3.5049783626206334\n",
      "#1, [11,0,0] (11) : -1.6603684437609134\n",
      "#2, [12,0,0] (12) : -4.269723903959842\n",
      "#3, [0,12,0] (12) : -4.1339536842061095\n",
      "#4, [0,0,12] (12) : -4.269723903959843\n",
      "#5, [5,0,8] (13) : -0.052471216285748704\n"
     ]
    }
   ],
   "source": [
    "maximumConsideredTerms = 500\n",
    "mostSignificant = 5\n",
    "significanceFactor = 1.0e-10\n",
    "score_Q2 = compute_cleaning_PCE(\n",
    "    maximumConsideredTerms, mostSignificant, significanceFactor, verbose=True\n",
    ")"
   ]
  },
  {
   "cell_type": "markdown",
   "id": "428ad320",
   "metadata": {},
   "source": [
    "We see that when we keep only 5 coefficients among the first 500 ones, these coefficient have a very high polynomial degree. Indeed, it occurs that these poorly estimated coefficients have a high absolute value. Hence, the criteria selects them as significant coefficients, which leads to a poor metamodel\n",
    "\n",
    "Let us reduce the number of considered coefficients and increase the number of selected coefficients. "
   ]
  },
  {
   "cell_type": "code",
   "execution_count": 14,
   "id": "4326e9e4",
   "metadata": {},
   "outputs": [
    {
     "name": "stdout",
     "output_type": "stream",
     "text": [
      "Q2 = 85.75%\n",
      "Total number of coefficients :  9\n",
      "# Indice, Multi-indice, Degree : Value\n",
      "#0, [0,0,0] (0) : 3.5049783626206334\n",
      "#1, [1,0,0] (1) : 1.6254291279668387\n",
      "#2, [0,2,0] (2) : -0.6413919098131441\n",
      "#3, [3,0,0] (3) : -1.2911039486376783\n",
      "#4, [1,0,2] (3) : 1.3724300360555146\n",
      "#5, [0,4,0] (4) : -1.6122740106725173\n",
      "#6, [5,0,0] (5) : 0.20760614724812484\n",
      "#7, [3,0,2] (5) : -1.0901427864755087\n",
      "#8, [1,0,4] (5) : 0.4091795806643483\n"
     ]
    }
   ],
   "source": [
    "maximumConsideredTerms = 56\n",
    "mostSignificant = 10\n",
    "significanceFactor = 1.0e-10\n",
    "score_Q2 = compute_cleaning_PCE(\n",
    "    maximumConsideredTerms, mostSignificant, significanceFactor, verbose=True\n",
    ")"
   ]
  },
  {
   "cell_type": "markdown",
   "id": "a183857e",
   "metadata": {},
   "source": [
    "When we keep only 10 coefficients among the first 56 ones, the polynomial chaos metamodel is much better: the coefficients are associated with a low polynomial degree, so that the quadrature rule estimates them with greater accuracy.\n",
    "\n",
    "We would like to know which combination is best. In the following loop, we consider the maximum number of considered coefficients from 1 to 500 and the number of selected coefficients from 1 to 30. In order to produce the combinations, we use the `product` function from the `itertools` module. For each combination, we compute the $Q^2$ score and select the combination with highest $Q^2$ coefficient. As shown in [Müller & Guido, 2016], page 268 the computed $Q^2$ may be optimistic, but this is not the point of the current example. "
   ]
  },
  {
   "cell_type": "code",
   "execution_count": 15,
   "id": "bc545e1e",
   "metadata": {},
   "outputs": [
    {
     "name": "stdout",
     "output_type": "stream",
     "text": [
      "Best Q2 = 86.15%\n",
      "Number of considered coefficients :  101\n",
      "Number of selected coefficients :  16\n"
     ]
    }
   ],
   "source": [
    "maximumConsideredTerms_list = list(range(1, 500, 50))  # From 1 to 500 by steps of 50\n",
    "mostSignificant_list = list(range(1, 30, 5))  # From 1 to 30 by steps of 5\n",
    "iterator = itertools.product(maximumConsideredTerms_list, mostSignificant_list)\n",
    "best_score = 0.0\n",
    "best_parameters = []\n",
    "for it in iterator:\n",
    "    maximumConsideredTerms, mostSignificant = it\n",
    "    score_Q2 = compute_cleaning_PCE(\n",
    "        maximumConsideredTerms, mostSignificant, significanceFactor\n",
    "    )\n",
    "    if score_Q2 > best_score:\n",
    "        best_score = score_Q2\n",
    "        best_parameters = [maximumConsideredTerms, mostSignificant]\n",
    "\n",
    "print(\"Best Q2 = %.2f%%\" % (100.0 * best_score))\n",
    "\n",
    "maximumConsideredTerms, mostSignificant = best_parameters\n",
    "print(\"Number of considered coefficients : \", maximumConsideredTerms)\n",
    "print(\"Number of selected coefficients : \", mostSignificant)"
   ]
  },
  {
   "cell_type": "markdown",
   "id": "08fd819b",
   "metadata": {},
   "source": [
    "We see that the best solution could be to select at most 16 significant coefficients among the first 101 ones."
   ]
  },
  {
   "cell_type": "code",
   "execution_count": 16,
   "id": "b615138d",
   "metadata": {},
   "outputs": [
    {
     "name": "stdout",
     "output_type": "stream",
     "text": [
      "Q2 = 86.15%\n",
      "Total number of coefficients :  12\n",
      "# Indice, Multi-indice, Degree : Value\n",
      "#0, [0,0,0] (0) : 3.5049783626206334\n",
      "#1, [1,0,0] (1) : 1.6254291279668387\n",
      "#2, [0,2,0] (2) : -0.6413919098131441\n",
      "#3, [3,0,0] (3) : -1.2911039486376783\n",
      "#4, [1,0,2] (3) : 1.3724300360555146\n",
      "#5, [0,4,0] (4) : -1.6122740106725173\n",
      "#6, [5,0,0] (5) : 0.20760614724812484\n",
      "#7, [3,0,2] (5) : -1.0901427864755087\n",
      "#8, [1,0,4] (5) : 0.4091795806643483\n",
      "#9, [7,0,0] (7) : -0.20779864255813515\n",
      "#10, [5,0,2] (7) : 0.1752921165560068\n"
     ]
    }
   ],
   "source": [
    "score_Q2 = compute_cleaning_PCE(\n",
    "    maximumConsideredTerms, mostSignificant, significanceFactor, verbose=True\n",
    ")"
   ]
  },
  {
   "cell_type": "markdown",
   "id": "442947f0",
   "metadata": {},
   "source": [
    "These parameters lead to a total number of coefficients equal to 12. Among the 16 most significant coefficients, only 12 satisfy the criteria. Most of the coefficients have a small polynomial degree although some have a total degree equal as large as 7. "
   ]
  },
  {
   "cell_type": "markdown",
   "id": "bea1fcb9",
   "metadata": {},
   "source": [
    "## Intermediate steps of the algorithm\n",
    "\n",
    "If we set the `verbose` optional input argument of the `compute_cleaning_PCE` function to `True`, then intermediate messages are printed in the Terminal (but not in the Jupyter output). For each step of the adaptivity algorithm, the code prints some of the internal parameters of the algorithm. The datastructure uses several variables that we now describe.\n",
    "\n",
    "- `Psi_k_p_` : the collection of functions in the current active polynomial multiindex set,\n",
    "- `I_p_` : the list of indices of the selected coefficients based according to the enumeration rule,\n",
    "- `addedPsi_k_ranks_` : the list of indices to add the multiindex set,\n",
    "- `removedPsi_k_ranks_` : the list of indices to remove to the multiindex set,\n",
    "- `conservedPsi_k_ranks_` : the index of the first polynomial in the selected multiindex set,\n",
    "- `currentVectorIndex_` : the current value of the index in the full multiindex set, according to the enumeration rule.\n",
    "\n",
    "Each time the selection method is called, it is passed a coefficient $a_\\boldsymbol{\\alpha}$ which is a new candidate to be considered by the algorithm. The first time the method is evaluated, the active multiindex set is empty, so that it must be filled with the first coefficients in the multiindex set, according to the enumeration rule. The second time (and up to the end of the algorithm), the candidate coefficient is considered to be added to the multiindex set.\n",
    "\n",
    "Executing the function prints the following messages where the word \"basis\" is equivalent to \"multiindex set\".\n",
    "```\n",
    "INF - Build the iso-probabilistic transformation\n",
    "INF - Same copula for input vector and basis\n",
    "INF - Build the iso-probabilistic transformation\n",
    "INF - Same copula for input vector and basis\n",
    "INF - Work on output marginal 0 over 0\n",
    "INF - Compute the initial basis\n",
    "INF - Compute the coefficients\n",
    "INF - Generate output data\n",
    "INF - Initialize the proxy, reason=empty input sample\n",
    "INF - Adapt the basis\n",
    "INF - initial state:\n",
    "INF -   vector index=16\n",
    "INF -   coeffs  size=16\n",
    "INF -   coeffs      =[3.50498,1.62543,6.83047e-16,-8.01876e-16,-1.09591e-15,-4.05058e-16,-9.87925e-16,-0.641392,-8.93383e-17,-3.66894e-16,-1.2911,-6.33174e-17,-4.59702e-17,-1.53523e-16,-1.9082e-17,1.37243]#16\n",
    "INF -   I_p     size=16\n",
    "INF -   I_p         =[0,1,2,3,4,5,6,7,8,9,10,11,12,13,14,15]\n",
    "INF - final state:\n",
    "INF -   vector index=17 / 101 (16.8%)\n",
    "INF -   coeffs  size=5\n",
    "INF -   coeffs      =[3.50498,1.62543,-0.641392,-1.2911,1.37243]\n",
    "INF -   rem coeffs  =[6.83047e-16,-8.01876e-16,-1.09591e-15,-4.05058e-16,-9.87925e-16,-8.93383e-17,-3.66894e-16,-6.33174e-17,-4.59702e-17,-1.53523e-16,-1.9082e-17]#11\n",
    "INF -   I_p     size=6\n",
    "INF -   I_p         =[0,1,7,10,15,16]\n",
    "INF - Compute the coefficients\n",
    "INF - Initialize the proxy, reason=new basis\n",
    "INF - Adapt the basis\n",
    "INF - initial state:\n",
    "INF -   vector index=17\n",
    "INF -   coeffs  size=6\n",
    "INF -   coeffs      =[3.50498,1.62543,-0.641392,-1.2911,1.37243,-1.19653e-15]\n",
    "INF -   I_p     size=6\n",
    "INF -   I_p         =[0,1,7,10,15,16]\n",
    "INF - final state:\n",
    "INF -   vector index=18 / 101 (17.8%)\n",
    "INF -   coeffs  size=5\n",
    "INF -   coeffs      =[3.50498,1.62543,-0.641392,-1.2911,1.37243]\n",
    "INF -   rem coeffs  =[-1.19653e-15]\n",
    "INF -   I_p     size=6\n",
    "INF -   I_p         =[0,1,7,10,15,17]\n",
    "[...]\n",
    "```\n"
   ]
  },
  {
   "cell_type": "markdown",
   "id": "ec0b1072",
   "metadata": {},
   "source": [
    "In order to process the previous content, we save it into a text file and read the selected coefficients at each step. On output, the variable `list_of_selected_indices` is a list, where each item is the list of integers corresponding to the indices of the coefficients in the active multiindex set."
   ]
  },
  {
   "cell_type": "code",
   "execution_count": 23,
   "id": "6c8a537c",
   "metadata": {},
   "outputs": [
    {
     "name": "stdout",
     "output_type": "stream",
     "text": [
      "Step 1\n",
      "   [0, 1, 7, 10, 15, 16]\n",
      "Step 2\n",
      "   [0, 1, 7, 10, 15, 17]\n",
      "Step 3\n",
      "   [0, 1, 7, 10, 15, 18]\n",
      "Step 4\n",
      "   [0, 1, 7, 10, 15, 19]\n",
      "Step 5\n",
      "   [0, 1, 7, 10, 15, 20]\n",
      "Step 6\n",
      "   [0, 1, 7, 10, 15, 21]\n",
      "Step 7\n",
      "   [0, 1, 7, 10, 15, 22]\n",
      "Step 8\n",
      "   [0, 1, 7, 10, 15, 23]\n",
      "Step 9\n",
      "   [0, 1, 7, 10, 15, 24]\n",
      "Step 10\n",
      "   [0, 1, 7, 10, 15, 25]\n",
      "Step 11\n",
      "   [0, 1, 7, 10, 15, 26]\n",
      "Step 12\n",
      "   [0, 1, 7, 10, 15, 27]\n",
      "Step 13\n",
      "   [0, 1, 7, 10, 15, 28]\n",
      "Step 14\n",
      "   [0, 1, 7, 10, 15, 29]\n",
      "Step 15\n",
      "   [0, 1, 7, 10, 15, 30]\n",
      "Step 16\n",
      "   [0, 1, 7, 10, 15, 30, 31]\n",
      "Step 17\n",
      "   [0, 1, 7, 10, 15, 30, 32]\n",
      "Step 18\n",
      "   [0, 1, 7, 10, 15, 30, 33]\n",
      "Step 19\n",
      "   [0, 1, 7, 10, 15, 30, 34]\n",
      "Step 20\n",
      "   [0, 1, 7, 10, 15, 30, 35]\n",
      "Step 21\n",
      "   [0, 1, 7, 10, 15, 30, 35, 36]\n",
      "Step 22\n",
      "   [0, 1, 7, 10, 15, 30, 35, 37]\n",
      "Step 23\n",
      "   [0, 1, 7, 10, 15, 30, 35, 38]\n",
      "Step 24\n",
      "   [0, 1, 7, 10, 15, 30, 35, 39]\n",
      "Step 25\n",
      "   [0, 1, 7, 10, 15, 30, 35, 40]\n",
      "Step 26\n",
      "   [0, 1, 7, 10, 15, 30, 35, 40, 41]\n",
      "Step 27\n",
      "   [0, 1, 7, 10, 15, 30, 35, 40, 42]\n",
      "Step 28\n",
      "   [0, 1, 7, 10, 15, 30, 35, 40, 43]\n",
      "Step 29\n",
      "   [0, 1, 7, 10, 15, 30, 35, 40, 44]\n",
      "Step 30\n",
      "   [0, 1, 7, 10, 15, 30, 35, 40, 45]\n",
      "Step 31\n",
      "   [0, 1, 7, 10, 15, 30, 35, 40, 46]\n",
      "Step 32\n",
      "   [0, 1, 7, 10, 15, 30, 35, 40, 47]\n",
      "Step 33\n",
      "   [0, 1, 7, 10, 15, 30, 35, 40, 48]\n",
      "Step 34\n",
      "   [0, 1, 7, 10, 15, 30, 35, 40, 49]\n",
      "Step 35\n",
      "   [0, 1, 7, 10, 15, 30, 35, 40, 49, 50]\n",
      "Step 36\n",
      "   [0, 1, 7, 10, 15, 30, 35, 40, 49, 51]\n",
      "Step 37\n",
      "   [0, 1, 7, 10, 15, 30, 35, 40, 49, 52]\n",
      "Step 38\n",
      "   [0, 1, 7, 10, 15, 30, 35, 40, 49, 53]\n",
      "Step 39\n",
      "   [0, 1, 7, 10, 15, 30, 35, 40, 49, 54]\n",
      "Step 40\n",
      "   [0, 1, 7, 10, 15, 30, 35, 40, 49, 55]\n",
      "Step 41\n",
      "   [0, 1, 7, 10, 15, 30, 35, 40, 49, 56]\n",
      "Step 42\n",
      "   [0, 1, 7, 10, 15, 30, 35, 40, 49, 57]\n",
      "Step 43\n",
      "   [0, 1, 7, 10, 15, 30, 35, 40, 49, 58]\n",
      "Step 44\n",
      "   [0, 1, 7, 10, 15, 30, 35, 40, 49, 59]\n",
      "Step 45\n",
      "   [0, 1, 7, 10, 15, 30, 35, 40, 49, 60]\n",
      "Step 46\n",
      "   [0, 1, 7, 10, 15, 30, 35, 40, 49, 61]\n",
      "Step 47\n",
      "   [0, 1, 7, 10, 15, 30, 35, 40, 49, 62]\n",
      "Step 48\n",
      "   [0, 1, 7, 10, 15, 30, 35, 40, 49, 63]\n",
      "Step 49\n",
      "   [0, 1, 7, 10, 15, 30, 35, 40, 49, 64]\n",
      "Step 50\n",
      "   [0, 1, 7, 10, 15, 30, 35, 40, 49, 65]\n",
      "Step 51\n",
      "   [0, 1, 7, 10, 15, 30, 35, 40, 49, 66]\n",
      "Step 52\n",
      "   [0, 1, 7, 10, 15, 30, 35, 40, 49, 67]\n",
      "Step 53\n",
      "   [0, 1, 7, 10, 15, 30, 35, 40, 49, 68]\n",
      "Step 54\n",
      "   [0, 1, 7, 10, 15, 30, 35, 40, 49, 69]\n",
      "Step 55\n",
      "   [0, 1, 7, 10, 15, 30, 35, 40, 49, 70]\n",
      "Step 56\n",
      "   [0, 1, 7, 10, 15, 30, 35, 40, 49, 71]\n",
      "Step 57\n",
      "   [0, 1, 7, 10, 15, 30, 35, 40, 49, 72]\n",
      "Step 58\n",
      "   [0, 1, 7, 10, 15, 30, 35, 40, 49, 73]\n",
      "Step 59\n",
      "   [0, 1, 7, 10, 15, 30, 35, 40, 49, 74]\n",
      "Step 60\n",
      "   [0, 1, 7, 10, 15, 30, 35, 40, 49, 75]\n",
      "Step 61\n",
      "   [0, 1, 7, 10, 15, 30, 35, 40, 49, 76]\n",
      "Step 62\n",
      "   [0, 1, 7, 10, 15, 30, 35, 40, 49, 77]\n",
      "Step 63\n",
      "   [0, 1, 7, 10, 15, 30, 35, 40, 49, 78]\n",
      "Step 64\n",
      "   [0, 1, 7, 10, 15, 30, 35, 40, 49, 79]\n",
      "Step 65\n",
      "   [0, 1, 7, 10, 15, 30, 35, 40, 49, 80]\n",
      "Step 66\n",
      "   [0, 1, 7, 10, 15, 30, 35, 40, 49, 81]\n",
      "Step 67\n",
      "   [0, 1, 7, 10, 15, 30, 35, 40, 49, 82]\n",
      "Step 68\n",
      "   [0, 1, 7, 10, 15, 30, 35, 40, 49, 83]\n",
      "Step 69\n",
      "   [0, 1, 7, 10, 15, 30, 35, 40, 49, 84]\n",
      "Step 70\n",
      "   [0, 1, 7, 10, 15, 30, 35, 40, 49, 84, 85]\n",
      "Step 71\n",
      "   [0, 1, 7, 10, 15, 30, 35, 40, 49, 84, 86]\n",
      "Step 72\n",
      "   [0, 1, 7, 10, 15, 30, 35, 40, 49, 84, 87]\n",
      "Step 73\n",
      "   [0, 1, 7, 10, 15, 30, 35, 40, 49, 84, 88]\n",
      "Step 74\n",
      "   [0, 1, 7, 10, 15, 30, 35, 40, 49, 84, 89]\n",
      "Step 75\n",
      "   [0, 1, 7, 10, 15, 30, 35, 40, 49, 84, 89, 90]\n",
      "Step 76\n",
      "   [0, 1, 7, 10, 15, 30, 35, 40, 49, 84, 89, 91]\n",
      "Step 77\n",
      "   [0, 1, 7, 10, 15, 30, 35, 40, 49, 84, 89, 92]\n",
      "Step 78\n",
      "   [0, 1, 7, 10, 15, 30, 35, 40, 49, 84, 89, 93]\n",
      "Step 79\n",
      "   [0, 1, 7, 10, 15, 30, 35, 40, 49, 84, 89, 94]\n",
      "Step 80\n",
      "   [0, 1, 7, 10, 15, 30, 35, 40, 49, 84, 89, 95]\n",
      "Step 81\n",
      "   [0, 1, 7, 10, 15, 30, 35, 40, 49, 84, 89, 96]\n",
      "Step 82\n",
      "   [0, 1, 7, 10, 15, 30, 35, 40, 49, 84, 89, 97]\n",
      "Step 83\n",
      "   [0, 1, 7, 10, 15, 30, 35, 40, 49, 84, 89, 98]\n",
      "Step 84\n",
      "   [0, 1, 7, 10, 15, 30, 35, 40, 49, 84, 89, 98, 99]\n",
      "Step 85\n",
      "   [0, 1, 7, 10, 15, 30, 35, 40, 49, 84, 89, 98, 100]\n",
      "Step 86\n",
      "   [0, 1, 7, 10, 15, 30, 35, 40, 49, 84, 89, 98]\n",
      "Step 87\n",
      "   [0, 1, 7, 10, 15, 30, 35, 40, 49, 84, 89, 98]\n"
     ]
    }
   ],
   "source": [
    "f = open(\"selection_output.txt\",\"r\")\n",
    "lines = f.readlines()\n",
    "\n",
    "list_of_selected_indices = []\n",
    "line_index = 0\n",
    "is_state_initial = True\n",
    "step_index = 0\n",
    "for line in lines:\n",
    "    line_index += 1\n",
    "    if line[0:20] == \"INF - initial state:\":\n",
    "        is_state_initial = True\n",
    "        step_index += 1\n",
    "    if line[0:18] == \"INF - final state:\":\n",
    "        #print(\"Line #\", line_index, \", final state\")\n",
    "        is_state_initial = False\n",
    "    if line[0:21] == \"INF -   I_p         =\":\n",
    "        indices_str = line[22:-2]\n",
    "        indices_str_list = indices_str.split(\",\")\n",
    "        indices = []\n",
    "        for index in indices_str_list:\n",
    "            indices.append(int(index))\n",
    "        if is_state_initial:\n",
    "            print(\"Step %d\" % (step_index))\n",
    "        else:\n",
    "            print(\"  \", indices)\n",
    "        if len(list_of_selected_indices) == 0:\n",
    "            # If the list of indices is empty, add the first indices\n",
    "            list_of_selected_indices.append(indices)\n",
    "        elif not is_state_initial:\n",
    "            # If this is the final state, add the indices\n",
    "            list_of_selected_indices.append(indices)"
   ]
  },
  {
   "cell_type": "markdown",
   "id": "e22381ea",
   "metadata": {},
   "source": [
    "The previous text allows to understand what exactly happens in the algorithm, where the significant threshold is $\\epsilon = 10^{-10}$. \n",
    "- On the first step, the initial basis is empty and filled with the indices [0, 1, 2, 3, 4, 5, 6, 7, 8, 9, 10, 11, 12, 13, 14, 15]. The greatest coefficient in absolute value is $a_0 = 3.505$, which leads to the threshold $\\epsilon |a_0| = 3.505 \\times 10^{-10}$. Most of the considered coefficient are, however, too close to zero. This is why only the coefficients [0, 1, 7, 10, 15] are kept in the basis. The corresponding coefficients are [3.505, 1.625,-0.6414, -1.291, 1.372]. \n",
    "- On the second step, the candidate index 16 is considered. Its coefficient is $a_{16} = -1.197 \\times 10^{-15}$, which is much too low to be selected. Hence, the basis is unchanged and the active multiindex set is [0, 1, 7, 10, 15] on the end of this step.\n",
    "- From the step 3 to the step 15, the active multiindex set is unchanged, because no considered coefficient becomes greater than the threshold.\n",
    "- On step 16, the candidate index 30 is considered, with corresponding coefficient $a_{30} = -1.612$. Since this coefficient has an absolute value greater than the threshold, it gets selected and the active multiindex set is [0, 1, 7, 10, 15, 30] on the end of this step.\n",
    "- On the last step, the selected multiindex set contains the indices [0, 1, 7, 10, 15, 30, 35, 40, 49, 84, 89, 98] and the corresponding coefficients are [3.508, 1.625, -0.6414, -1.291, 1.372, -1.613, 0.2076, -1.090, 0.4092, -0.2078, 0.1753, -0.3250]. \n",
    "\n",
    "We see that the algorithm was able so select 12 coefficients in the first 101 coefficients considered by the algorithm. It could have selected more coefficients since we provided 16 slots to fill thanks to the `mostSignificant` parameter. The considered coefficients were, however, too close to zero and were below the threshold. "
   ]
  },
  {
   "cell_type": "markdown",
   "id": "0237bbbc",
   "metadata": {},
   "source": [
    "The next cell prints the first 10 selected multiindices."
   ]
  },
  {
   "cell_type": "code",
   "execution_count": 18,
   "id": "9068c37c",
   "metadata": {},
   "outputs": [
    {
     "name": "stdout",
     "output_type": "stream",
     "text": [
      "[0, 1, 2, 3, 4, 5, 6, 7, 8, 9, 10, 11, 12, 13, 14, 15]\n",
      "[0, 1, 7, 10, 15, 16]\n",
      "[0, 1, 7, 10, 15, 17]\n",
      "[0, 1, 7, 10, 15, 18]\n",
      "[0, 1, 7, 10, 15, 19]\n",
      "[0, 1, 7, 10, 15, 20]\n",
      "[0, 1, 7, 10, 15, 21]\n",
      "[0, 1, 7, 10, 15, 22]\n",
      "[0, 1, 7, 10, 15, 23]\n",
      "[0, 1, 7, 10, 15, 24]\n"
     ]
    }
   ],
   "source": [
    "for indices in list_of_selected_indices[0:10]:\n",
    "    print(indices)"
   ]
  },
  {
   "cell_type": "markdown",
   "id": "9fe28ef0",
   "metadata": {},
   "source": [
    "The next cell prints the last 10 selected multiindices."
   ]
  },
  {
   "cell_type": "code",
   "execution_count": 19,
   "id": "95fbaba8",
   "metadata": {},
   "outputs": [
    {
     "name": "stdout",
     "output_type": "stream",
     "text": [
      "[0, 1, 7, 10, 15, 30, 35, 40, 49, 84, 89, 92]\n",
      "[0, 1, 7, 10, 15, 30, 35, 40, 49, 84, 89, 93]\n",
      "[0, 1, 7, 10, 15, 30, 35, 40, 49, 84, 89, 94]\n",
      "[0, 1, 7, 10, 15, 30, 35, 40, 49, 84, 89, 95]\n",
      "[0, 1, 7, 10, 15, 30, 35, 40, 49, 84, 89, 96]\n",
      "[0, 1, 7, 10, 15, 30, 35, 40, 49, 84, 89, 97]\n",
      "[0, 1, 7, 10, 15, 30, 35, 40, 49, 84, 89, 98]\n",
      "[0, 1, 7, 10, 15, 30, 35, 40, 49, 84, 89, 98, 99]\n",
      "[0, 1, 7, 10, 15, 30, 35, 40, 49, 84, 89, 98, 100]\n",
      "[0, 1, 7, 10, 15, 30, 35, 40, 49, 84, 89, 98]\n"
     ]
    }
   ],
   "source": [
    "for indices in list_of_selected_indices[-11:-1]:\n",
    "    print(indices)"
   ]
  },
  {
   "cell_type": "code",
   "execution_count": null,
   "id": "0f4ed486",
   "metadata": {},
   "outputs": [],
   "source": []
  }
 ],
 "metadata": {
  "kernelspec": {
   "display_name": "Python 3",
   "language": "python",
   "name": "python3"
  },
  "language_info": {
   "codemirror_mode": {
    "name": "ipython",
    "version": 3
   },
   "file_extension": ".py",
   "mimetype": "text/x-python",
   "name": "python",
   "nbconvert_exporter": "python",
   "pygments_lexer": "ipython3",
   "version": "3.8.10"
  }
 },
 "nbformat": 4,
 "nbformat_minor": 5
}
