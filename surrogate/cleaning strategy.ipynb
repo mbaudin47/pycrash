{
 "cells": [
  {
   "cell_type": "markdown",
   "id": "53079a38",
   "metadata": {},
   "source": [
    "# Create a sparse chaos by integration\n",
    "\n",
    "The goal of this example is to show how to create a sparse polynomial chaos when we estimate its coefficients by integration. We show how to use the `CleaningStrategy` class. \n",
    "\n",
    "## Polynomial chaos expansion\n",
    "Let $g : \\mathcal{X} \\rightarrow \\mathbb{R}$ be a function where $\\mathcal{X} \\subseteq \\mathbb{R}^p$ is the domain of $g$. Let $f$ be a probability density function on $\\mathcal{X}$. Let $T$ be the iso-probabilistic transformation from the physical space $\\mathcal{X}$ to the standard space $\\mathcal{\\bar{X}}$:\n",
    "$$\n",
    "\\xi = T(\\boldsymbol{x}) \\in \\mathcal{\\bar{X}}\n",
    "$$\n",
    "for any $\\boldsymbol{x} \\in \\mathcal{X}$. \n",
    "Let $h$ be the function defined by the equation :\n",
    "$$\n",
    "h(\\boldsymbol{\\xi}) = \\left(g \\circ T^{-1}\\right)(\\boldsymbol{\\xi})\n",
    "$$\n",
    "for any $\\boldsymbol{\\xi}) \\in \\mathcal{\\bar{X}}$.\n",
    "The polynomial chaos decomposition of $h$ is ([Blatman, 2009] page 73) :\n",
    "$$\n",
    "h(\\boldsymbol{\\xi}) \\approx \\sum_{\\boldsymbol{\\alpha} \\in \\mathbb{N}^p} a_\\boldsymbol{\\alpha} \\psi_\\boldsymbol{\\alpha}(\\boldsymbol{\\xi})\n",
    "$$\n",
    "where $\\boldsymbol{\\alpha} = (\\alpha_1, ..., \\alpha_p) \\in \\mathbb{N}^p$ is a multiindex, $a_\\boldsymbol{\\alpha} \\in \\mathbb{R}$ is the coefficient and $\\psi_\\boldsymbol{\\alpha} : \\mathcal{\\bar{X}} \\rightarrow \\mathbb{R}$ is a multivariate polynomial.\n",
    "\n",
    "## Truncated expansion\n",
    "In practice, we cannot consider an infinite series and must truncate the decomposition at a given order. Only a selection of coefficients must be kept. This leads to a subset of all possible multiindices. In the remainder of this text, we call this selection the _multiindex set_. \n",
    "\n",
    "Several multiindex sets can be considered. A simple method is to truncate the polynomial up to a given maximum total degree $d \\in \\mathbb{N}$. Let $\\mathcal{A}^{d}$ be the multi-index set defined by \n",
    "$$\n",
    "\\mathcal{A}^{d} = \\left\\{ \\boldsymbol{\\alpha} \\in \\mathbb{N}^p \\; | \\; \\|\\boldsymbol{\\alpha}\\|_1 \\leq d\\right\\}\n",
    "$$\n",
    "where \n",
    "$$\n",
    "\\|\\boldsymbol{\\alpha}\\|_d = \\alpha_1 + ... + \\alpha_p\n",
    "$$\n",
    "is the 1-norm of the multi-index $\\boldsymbol{\\alpha}$. \n",
    "Therefore, the truncated polynomial chaos expansion is:\n",
    "$$\n",
    "h(\\boldsymbol{\\xi}) \\approx \\sum_{\\boldsymbol{\\alpha} \\in \\mathcal{A}^{d}} a_\\boldsymbol{\\alpha} \\psi_\\boldsymbol{\\alpha}(\\boldsymbol{\\xi}).\n",
    "$$\n",
    "In order to ensure a low error, we may choose a large value of the parameter $P$. This, however, leads to a large number of coefficients $\\boldsymbol{\\alpha} \\in \\mathcal{A}^{d}$ to estimate. More precisely, the number of coefficients to estimate is ([Blatman, 2009] page 73) :\n",
    "$$\n",
    "\\textrm{card}\\left(\\mathcal{A}^{d}\\right) = {p + d \\choose d} = \\frac{(p + d)!}{p! d!}\n",
    "$$\n",
    "where $p!$ is the factorial number of $p$. \n",
    "\n",
    "## Low-rank polynomial chaos expansion\n",
    "For any $\\boldsymbol{\\alpha} \\in \\mathbb{N}^p$, let $\\|\\boldsymbol{\\alpha}\\|_0$ be the rank of the multiindex, that is, the number of nonzero components:\n",
    "$$\n",
    "\\|\\boldsymbol{\\alpha}\\|_0 = \\sum_{i = 1}^p \\mathbb{1}_{\\alpha_i > 0}.\n",
    "$$\n",
    "The multiindex set of maximum total degree $d \\in \\mathbb{N}$ and maximum rank $j \\in \\mathbb{N}$ is ([Blatman, 2009] page 74) is :\n",
    "$$\n",
    "\\mathcal{A}^{d,j} = \\left\\{ \\boldsymbol{\\alpha} \\in \\mathbb{N}^p \\; | \\; \\|\\boldsymbol{\\alpha}\\|_1 \\leq d, \\; \\; \\|\\boldsymbol{\\alpha}\\|_0 \\leq j\\right\\}.\n",
    "$$\n",
    "Therefore, the rank-$j$ polynomial chaos expansion is:\n",
    "$$\n",
    "h(\\boldsymbol{\\xi}) \\approx \\sum_{\\boldsymbol{\\alpha} \\in \\mathcal{A}^{d,j}} a_\\boldsymbol{\\alpha} \\psi_\\boldsymbol{\\alpha}(\\boldsymbol{\\xi}).\n",
    "$$\n",
    "[Blatman, 2009] suggest to use $j = 2, 3, 4$. An example of low-rank PCE for the G-Sobol' function is given in [Blatman, 2009] page 75. \n",
    "\n",
    "_Note._ How to create a low-rank PCE in OpenTURNS?\n",
    "\n",
    "## Model selection\n",
    "Furthermore, if $\\textrm{card}\\left(\\mathcal{A}^{d}\\right)$ is large, many coefficients may be poorly estimated, which may reduce the quality of the metamodel. We may want to select a subset of the coefficients which best predict the output. In other words, we may compute a subset \n",
    "$$\n",
    "\\mathcal{A} \\subseteq \\mathcal{A}^{d}\n",
    "$$\n",
    "such that ([Blatman, 2009] page 86) :\n",
    "$$\n",
    "h(\\boldsymbol{\\xi}) \\approx \\sum_{\\boldsymbol{\\alpha} \\in \\mathcal{A}} a_\\boldsymbol{\\alpha} \\psi_\\boldsymbol{\\alpha}(\\boldsymbol{\\xi}).\n",
    "$$\n",
    "\n",
    "An enumeration rule is a function from the set of integers $k$ to the corresponding set of multiindices $\\boldsymbol{\\alpha}$. More precisely, let $r : \\mathbb{N} \\rightarrow \\mathbb{N}^p$ be the function such that :\n",
    "$$\n",
    "r(k) = \\boldsymbol{\\alpha}\n",
    "$$\n",
    "for any $k \\geq 0$. \n",
    "Let $K \\in \\mathbb{N}$ be a parameter representing the number of coefficients considered in the selection. Given an enumeration rule for the multiindices $\\boldsymbol{\\alpha}$, at most $K$ multiindices will be considered. Let $\\mathcal{A}_K$ be the corresponding multiindex set :\n",
    "$$\n",
    "\\mathcal{A}_K = \\left\\{ \\boldsymbol{\\alpha} \\; | \\; r^{-1}(\\boldsymbol{\\alpha}) = k \\leq K \\right\\}.\n",
    "$$\n",
    "\n",
    "Let $\\epsilon > 0$ be a parameter representing the minimum relative value of a significant coefficient $a_\\boldsymbol{\\alpha}$. The `CleaningStrategy` uses the following criteria to select the coefficients :\n",
    "$$\n",
    "\\mathcal{A}_\\epsilon = \n",
    "\\left\\{\n",
    "|a_\\boldsymbol{\\alpha}| \\leq \\epsilon \\max_{ a_\\boldsymbol{\\alpha} \\in \\mathcal{A}_K } |a_\\boldsymbol{\\alpha}|\n",
    "\\right\\}\n",
    "$$\n",
    "where $\\epsilon$ is the significance factor, default is $\\epsilon = 10^{-4}$.\n",
    "\n",
    "## Sparsity index\n",
    "The sparsity index of a multiindex set is the ratio of the cardinality of the multiindex set to the cardinality of the multiindex set of the equivalent multiindex with maximum total degree. For a given multiindex set $\\mathcal{A}$, let $d$ be the maximum 1-norm of multiindices in the set :\n",
    "$$\n",
    "d := \\textrm{max}_{\\boldsymbol{\\alpha} \\in \\mathcal{A}} \\|\\boldsymbol{\\alpha}\\|_1.\n",
    "$$\n",
    "The index of sparsity of $\\mathcal{A}$ is ([Blatman, 2009] page 86) :\n",
    "$$\n",
    "\\textrm{IS}(\\mathcal{A}) = \\frac{\\textrm{card}(\\mathcal{A})}{\\textrm{card}\\left(\\mathcal{A}^d\\right)}.\n",
    "$$\n",
    "\n",
    "_Note._ The index of sparsity as defined by [Blatman, 2009] is close to zero when the model is very sparse. The following complementary indicator is close to 1 when the model is very sparse:\n",
    "$$\n",
    "\\textrm{IS}_{\\textrm{c}}(\\mathcal{A}) = 1 - \\frac{\\textrm{card}(\\mathcal{A})}{\\textrm{card}\\left(\\mathcal{A}^d\\right)}.\n",
    "$$\n",
    "\n",
    "\n",
    "\n",
    "## References\n",
    "- Géraud Blatman, Adaptive sparse polynomial chaos expansions for uncertainty propagation and sensitivity analysis. Thèse. Université Blaise Pascal - Clermont II. (2009)\n",
    "- Müller, A. C., & Guido, S. (2016). Introduction to machine learning with Python: a guide for data scientists. \" O'Reilly Media, Inc.\"."
   ]
  },
  {
   "cell_type": "code",
   "execution_count": 1,
   "id": "c35107c0",
   "metadata": {},
   "outputs": [],
   "source": [
    "import openturns as ot\n",
    "import openturns.viewer as otv\n",
    "from openturns.usecases import ishigami_function as ishigami_function\n",
    "import itertools"
   ]
  },
  {
   "cell_type": "code",
   "execution_count": 2,
   "id": "e05315e4",
   "metadata": {},
   "outputs": [],
   "source": [
    "def printCoefficientsTable(\n",
    "    polynomialChaosResult, maximum_number_of_printed_coefficients=10, threshold=0.0\n",
    "):\n",
    "    \"\"\"\n",
    "    Print the coefficients of the polynomial chaos.\n",
    "\n",
    "    Parameters\n",
    "    ----------\n",
    "    polynomialChaosResult : ot.FunctionalChaosResult\n",
    "        The polynomial chaos expansion.\n",
    "    maximum_number_of_printed_coefficients : int\n",
    "        The maximum number of printed coefficients.\n",
    "    threshold : float, stricly positive\n",
    "        If a coefficient has an absolute value striclty greater than the \n",
    "        threshold, it is printed. \n",
    "    \"\"\"\n",
    "    basis = polynomialChaosResult.getOrthogonalBasis()\n",
    "    coefficients = polynomialChaosResult.getCoefficients()\n",
    "    enumerate_function = basis.getEnumerateFunction()\n",
    "    indices = polynomialChaosResult.getIndices()\n",
    "    nbcoeffs = indices.getSize()\n",
    "    print(\"Total number of coefficients : \", nbcoeffs)\n",
    "    print(\"# Indice, Multi-indice, Degree : Value\")\n",
    "    print_index = 0\n",
    "    for k in range(nbcoeffs):\n",
    "        multiindex = enumerate_function(indices[k])\n",
    "        degree = sum(multiindex)\n",
    "        c = coefficients[k][0]\n",
    "        if abs(c) > threshold:\n",
    "            print(\"#%d, %s (%s) : %s\" % (k, multiindex, degree, c))\n",
    "            print_index += 1\n",
    "        if print_index > maximum_number_of_printed_coefficients:\n",
    "            break\n",
    "    return"
   ]
  },
  {
   "cell_type": "code",
   "execution_count": 3,
   "id": "ea453707",
   "metadata": {},
   "outputs": [],
   "source": [
    "def compute_polynomial_chaos_Q2(\n",
    "    polynomialchaos_result, g_function, input_distribution, n_valid=1000\n",
    "):\n",
    "    \"\"\"\n",
    "    Compute the Q2 score of the polynomial chaos. \n",
    "    \n",
    "\n",
    "    Parameters\n",
    "    ----------\n",
    "    polynomialChaosResult : ot.FunctionalChaosResult\n",
    "        The polynomial chaos expansion.\n",
    "    g_function : ot.Function\n",
    "        The function.\n",
    "    input_distribution : ot.Distribution\n",
    "        The input distribution.\n",
    "    n_valid : int\n",
    "        The number of simulations to compute the Q2 score.\n",
    "    \n",
    "    Returns\n",
    "    -------\n",
    "    Q2 : float\n",
    "        The Q2 score\n",
    "    \"\"\"\n",
    "    ot.RandomGenerator.SetSeed(1976)\n",
    "    metamodel = polynomialchaos_result.getMetaModel()\n",
    "    inputTest = input_distribution.getSample(n_valid)\n",
    "    outputTest = g_function(inputTest)\n",
    "    val = ot.MetaModelValidation(inputTest, outputTest, metamodel)\n",
    "    Q2 = val.computePredictivityFactor()[0]\n",
    "    return Q2"
   ]
  },
  {
   "cell_type": "code",
   "execution_count": 4,
   "id": "a43c2629",
   "metadata": {},
   "outputs": [],
   "source": [
    "def validate_polynomial_chaos(\n",
    "    polynomialchaos_result, g_function, input_distribution, n_valid=1000\n",
    "):\n",
    "    \"\"\"\n",
    "    Validate the polynomial chaos. \n",
    "    \n",
    "    Create the validation plot.\n",
    "    \n",
    "\n",
    "    Parameters\n",
    "    ----------\n",
    "    polynomialChaosResult : ot.FunctionalChaosResult\n",
    "        The polynomial chaos expansion.\n",
    "    g_function : ot.Function\n",
    "        The function.\n",
    "    input_distribution : ot.Distribution\n",
    "        The input distribution.\n",
    "    n_valid : int\n",
    "        The number of simulations to compute the Q2 score.\n",
    "    \n",
    "    Returns\n",
    "    -------\n",
    "    Q2 : float\n",
    "        The Q2 score\n",
    "    \"\"\"\n",
    "    metamodel = polynomialchaos_result.getMetaModel()\n",
    "    inputTest = input_distribution.getSample(n_valid)\n",
    "    outputTest = g_function(inputTest)\n",
    "    val = ot.MetaModelValidation(inputTest, outputTest, metamodel)\n",
    "    Q2 = val.computePredictivityFactor()[0]\n",
    "    graph = val.drawValidation()\n",
    "    graph.setTitle(\"Q2=%.2f%%\" % (Q2 * 100))\n",
    "    view = otv.View(graph, figure_kw={\"figsize\": (4.0, 3.0)})\n",
    "    return view"
   ]
  },
  {
   "cell_type": "code",
   "execution_count": 5,
   "id": "9b72a15a",
   "metadata": {},
   "outputs": [
    {
     "data": {
      "text/html": [
       "<p>ComposedDistribution(Uniform(a = -3.14159, b = 3.14159), Uniform(a = -3.14159, b = 3.14159), Uniform(a = -3.14159, b = 3.14159), IndependentCopula(dimension = 3))</p>"
      ],
      "text/plain": [
       "class=ComposedDistribution name=ComposedDistribution dimension=3 copula=class=IndependentCopula name=IndependentCopula dimension=3 marginal[0]=class=Uniform name=X1 dimension=1 a=-3.14159 b=3.14159 marginal[1]=class=Uniform name=X2 dimension=1 a=-3.14159 b=3.14159 marginal[2]=class=Uniform name=X1 dimension=1 a=-3.14159 b=3.14159"
      ]
     },
     "execution_count": 5,
     "metadata": {},
     "output_type": "execute_result"
    }
   ],
   "source": [
    "im = ishigami_function.IshigamiModel()\n",
    "\n",
    "im.distributionX.setDescription([\"$X_0$\", \"$X_1$\", \"$X_2$\"])\n",
    "im.model.setOutputDescription([\"$Y$\"])\n",
    "im.distributionX"
   ]
  },
  {
   "cell_type": "code",
   "execution_count": 6,
   "id": "028de3e6",
   "metadata": {},
   "outputs": [
    {
     "name": "stdout",
     "output_type": "stream",
     "text": [
      "Input sample:\n",
      "    [ $X_0$     $X_1$     $X_2$     ]\n",
      "0 : [  0.816038  2.67553   0.501506 ]\n",
      "1 : [  2.40524  -2.19212  -0.705186 ]\n",
      "2 : [ -2.29163   1.30032  -1.41281  ]\n",
      "3 : [ -2.93737  -0.733649  2.30831  ]\n",
      "4 : [ -0.960969 -0.43361  -2.39129  ]\n",
      "Output sample:\n",
      "    [ $Y$      ]\n",
      "0 : [  2.14659 ]\n",
      "1 : [  5.31621 ]\n",
      "2 : [  5.44969 ]\n",
      "3 : [  2.35982 ]\n",
      "4 : [ -2.26455 ]\n"
     ]
    }
   ],
   "source": [
    "sample_size = 1000\n",
    "X_dataset = im.distributionX.getSample(sample_size)\n",
    "print(\"Input sample:\")\n",
    "print(X_dataset[:5])\n",
    "Y_dataset = im.model(X_dataset)\n",
    "Y_dataset.setDescription([\"$Y$\"])\n",
    "print(\"Output sample:\")\n",
    "print(Y_dataset[:5])"
   ]
  },
  {
   "cell_type": "code",
   "execution_count": 7,
   "id": "1f0d1cf8",
   "metadata": {},
   "outputs": [
    {
     "data": {
      "text/html": [
       "<p>class=FixedStrategy derived from class=AdaptiveStrategyImplementation maximumDimension=56</p>"
      ],
      "text/plain": [
       "class=FixedStrategy derived from class=AdaptiveStrategyImplementation maximumDimension=56"
      ]
     },
     "execution_count": 7,
     "metadata": {},
     "output_type": "execute_result"
    }
   ],
   "source": [
    "dimension = im.distributionX.getDimension()\n",
    "multivariateBasis = ot.OrthogonalProductPolynomialFactory(\n",
    "    [im.distributionX.getMarginal(i) for i in range(dimension)]\n",
    ")\n",
    "\n",
    "totalDegree = 5  # Polynomial degree\n",
    "enumfunc = multivariateBasis.getEnumerateFunction()\n",
    "P = enumfunc.getStrataCumulatedCardinal(totalDegree)\n",
    "adaptiveStrategy = ot.FixedStrategy(multivariateBasis, P)\n",
    "adaptiveStrategy"
   ]
  },
  {
   "cell_type": "code",
   "execution_count": 8,
   "id": "430363da",
   "metadata": {},
   "outputs": [
    {
     "data": {
      "text/html": [
       "<p>ComposedDistribution(Uniform(a = -1, b = 1), Uniform(a = -1, b = 1), Uniform(a = -1, b = 1), IndependentCopula(dimension = 3))</p>"
      ],
      "text/plain": [
       "class=ComposedDistribution name=ComposedDistribution dimension=3 copula=class=IndependentCopula name=IndependentCopula dimension=3 marginal[0]=class=Uniform name=Uniform dimension=1 a=-1 b=1 marginal[1]=class=Uniform name=Uniform dimension=1 a=-1 b=1 marginal[2]=class=Uniform name=Uniform dimension=1 a=-1 b=1"
      ]
     },
     "execution_count": 8,
     "metadata": {},
     "output_type": "execute_result"
    }
   ],
   "source": [
    "distributionMu = multivariateBasis.getMeasure()\n",
    "distributionMu"
   ]
  },
  {
   "cell_type": "code",
   "execution_count": 9,
   "id": "c1ed6186",
   "metadata": {},
   "outputs": [
    {
     "data": {
      "text/plain": [
       "216"
      ]
     },
     "execution_count": 9,
     "metadata": {},
     "output_type": "execute_result"
    }
   ],
   "source": [
    "marginal_number_of_nodes = 6\n",
    "dim_input = im.model.getInputDimension()\n",
    "marginalDegrees = [marginal_number_of_nodes] * dim_input\n",
    "experiment = ot.GaussProductExperiment(distributionMu, marginalDegrees)\n",
    "experiment.generate().getSize()"
   ]
  },
  {
   "cell_type": "code",
   "execution_count": 10,
   "id": "a2762e70",
   "metadata": {},
   "outputs": [],
   "source": [
    "projectionStrategy = ot.IntegrationStrategy(experiment)\n",
    "chaosalgo = ot.FunctionalChaosAlgorithm(\n",
    "    im.model, im.distributionX, adaptiveStrategy, projectionStrategy\n",
    ")\n",
    "chaosalgo.run()\n",
    "result = chaosalgo.getResult()"
   ]
  },
  {
   "cell_type": "markdown",
   "id": "b6ac0453",
   "metadata": {},
   "source": [
    "Validate the metamodel."
   ]
  },
  {
   "cell_type": "code",
   "execution_count": 11,
   "id": "c5056bbb",
   "metadata": {},
   "outputs": [
    {
     "data": {
      "image/png": "[encoded data removed]",
      "text/plain": [
       "<Figure size 288x216 with 1 Axes>"
      ]
     },
     "metadata": {
      "needs_background": "light"
     },
     "output_type": "display_data"
    }
   ],
   "source": [
    "view = validate_polynomial_chaos(result, im.model, im.distributionX)"
   ]
  },
  {
   "cell_type": "code",
   "execution_count": 12,
   "id": "ac10f5f4",
   "metadata": {},
   "outputs": [
    {
     "name": "stdout",
     "output_type": "stream",
     "text": [
      "Total number of coefficients :  56\n",
      "# Indice, Multi-indice, Degree : Value\n",
      "#0, [0,0,0] (0) : 3.5049783626206334\n",
      "#1, [1,0,0] (1) : 1.6254291279668387\n",
      "#2, [0,1,0] (1) : 6.830473686658678e-16\n",
      "#3, [0,0,1] (1) : -8.018759267702791e-16\n",
      "#4, [2,0,0] (2) : -1.0959115559483479e-15\n",
      "#5, [1,1,0] (2) : -4.0505793164058446e-16\n",
      "#6, [1,0,1] (2) : -9.879250195687916e-16\n",
      "#7, [0,2,0] (2) : -0.6413919098131441\n",
      "#8, [0,1,1] (2) : -8.933825901280557e-17\n",
      "#9, [0,0,2] (2) : -3.668940151690947e-16\n",
      "#10, [3,0,0] (3) : -1.2911039486376783\n"
     ]
    }
   ],
   "source": [
    "printCoefficientsTable(result)"
   ]
  },
  {
   "cell_type": "markdown",
   "id": "8e35675b",
   "metadata": {},
   "source": [
    "We see that there are 56 coefficients in the metamodel and that many of these coefficients are close to zero. If we print only coefficients greater than $10^{-15}$, we see that only a fraction of them are significant and that these significant coefficients have a relatively large polynomial degree."
   ]
  },
  {
   "cell_type": "code",
   "execution_count": 13,
   "id": "27f333cb",
   "metadata": {},
   "outputs": [
    {
     "name": "stdout",
     "output_type": "stream",
     "text": [
      "Total number of coefficients :  56\n",
      "# Indice, Multi-indice, Degree : Value\n",
      "#0, [0,0,0] (0) : 3.5049783626206334\n",
      "#1, [1,0,0] (1) : 1.6254291279668387\n",
      "#7, [0,2,0] (2) : -0.6413919098131441\n",
      "#10, [3,0,0] (3) : -1.2911039486376783\n",
      "#15, [1,0,2] (3) : 1.3724300360555146\n",
      "#30, [0,4,0] (4) : -1.6122740106725173\n",
      "#35, [5,0,0] (5) : 0.20760614724812484\n",
      "#40, [3,0,2] (5) : -1.0901427864755087\n",
      "#49, [1,0,4] (5) : 0.4091795806643483\n"
     ]
    }
   ],
   "source": [
    "printCoefficientsTable(result, threshold=1.0e-14)"
   ]
  },
  {
   "cell_type": "markdown",
   "id": "3304070a",
   "metadata": {},
   "source": [
    "## Use a model selection method"
   ]
  },
  {
   "cell_type": "markdown",
   "id": "b155b052",
   "metadata": {},
   "source": [
    "The `CleaningStrategy` has the following algorithm. On input, it considers only the first `maximumConsideredTerms` coefficients $a_\\boldsymbol{\\alpha}$. On output it selects the `mostSignificant` most significant coefficients. To do this, it uses the `significanceFactor` parameter."
   ]
  },
  {
   "cell_type": "code",
   "execution_count": 14,
   "id": "1c408b20",
   "metadata": {},
   "outputs": [],
   "source": [
    "def compute_cleaning_PCE(\n",
    "    maximumConsideredTerms, mostSignificant, significanceFactor, verbose=False\n",
    "):\n",
    "    \"\"\"\n",
    "    Compute a PCE using CleaningStrategy.\n",
    "    \n",
    "    Parameters\n",
    "    ----------\n",
    "    maximumConsideredTerms : int\n",
    "        The maximum number of coefficients considered by the algorithm during \n",
    "        intermediate steps.\n",
    "        \n",
    "    mostSignificant : int\n",
    "        The maximum number of coefficients selected by the algorithm in \n",
    "        the final PCE.\n",
    "\n",
    "    significanceFactor : float\n",
    "        The relative part of any coefficient with respect to the maximum \n",
    "        coefficient.\n",
    "\n",
    "    verbose : bool\n",
    "        If set to True, print intermediate messages.\n",
    "    \n",
    "    Returns\n",
    "    -------\n",
    "    Q2 : float\n",
    "        The Q2 score\n",
    "    \"\"\"\n",
    "    adaptiveStrategy = ot.CleaningStrategy(\n",
    "        multivariateBasis,\n",
    "        maximumConsideredTerms,\n",
    "        mostSignificant,\n",
    "        significanceFactor,\n",
    "        True,\n",
    "    )\n",
    "    chaosalgo = ot.FunctionalChaosAlgorithm(\n",
    "        im.model, im.distributionX, adaptiveStrategy, projectionStrategy\n",
    "    )\n",
    "    chaosalgo.run()\n",
    "    result = chaosalgo.getResult()\n",
    "    score_Q2 = compute_polynomial_chaos_Q2(result, im.model, im.distributionX)\n",
    "    if verbose:\n",
    "        print(\"Q2 = %.2f%%\" % (100.0 * score_Q2))\n",
    "        printCoefficientsTable(result)\n",
    "    return score_Q2"
   ]
  },
  {
   "cell_type": "code",
   "execution_count": 15,
   "id": "71289d94",
   "metadata": {},
   "outputs": [
    {
     "name": "stdout",
     "output_type": "stream",
     "text": [
      "Q2 = -384.39%\n",
      "Total number of coefficients :  6\n",
      "# Indice, Multi-indice, Degree : Value\n",
      "#0, [0,0,0] (0) : 3.5049783626206334\n",
      "#1, [11,0,0] (11) : -1.6603684437609134\n",
      "#2, [12,0,0] (12) : -4.269723903959842\n",
      "#3, [0,12,0] (12) : -4.1339536842061095\n",
      "#4, [0,0,12] (12) : -4.269723903959843\n",
      "#5, [5,0,8] (13) : -0.052471216285748704\n"
     ]
    }
   ],
   "source": [
    "maximumConsideredTerms = 500\n",
    "mostSignificant = 5\n",
    "significanceFactor = 1.0e-10\n",
    "score_Q2 = compute_cleaning_PCE(\n",
    "    maximumConsideredTerms, mostSignificant, significanceFactor, verbose=True\n",
    ")"
   ]
  },
  {
   "cell_type": "markdown",
   "id": "428ad320",
   "metadata": {},
   "source": [
    "We see that when we keep only 5 coefficients among the first 500 ones, these coefficient have a very high polynomial degree. Indeed, it occurs that these poorly estimated coefficients have a high absolute value. Hence, the criteria selects them as significant coefficients, which leads to a poor metamodel\n",
    "\n",
    "Let us reduce the number of considered coefficients and increase the number of selected coefficients. "
   ]
  },
  {
   "cell_type": "code",
   "execution_count": 16,
   "id": "4326e9e4",
   "metadata": {},
   "outputs": [
    {
     "name": "stdout",
     "output_type": "stream",
     "text": [
      "Q2 = 85.75%\n",
      "Total number of coefficients :  9\n",
      "# Indice, Multi-indice, Degree : Value\n",
      "#0, [0,0,0] (0) : 3.5049783626206334\n",
      "#1, [1,0,0] (1) : 1.6254291279668387\n",
      "#2, [0,2,0] (2) : -0.6413919098131441\n",
      "#3, [3,0,0] (3) : -1.2911039486376783\n",
      "#4, [1,0,2] (3) : 1.3724300360555146\n",
      "#5, [0,4,0] (4) : -1.6122740106725173\n",
      "#6, [5,0,0] (5) : 0.20760614724812484\n",
      "#7, [3,0,2] (5) : -1.0901427864755087\n",
      "#8, [1,0,4] (5) : 0.4091795806643483\n"
     ]
    }
   ],
   "source": [
    "maximumConsideredTerms = 56\n",
    "mostSignificant = 10\n",
    "significanceFactor = 1.0e-10\n",
    "score_Q2 = compute_cleaning_PCE(\n",
    "    maximumConsideredTerms, mostSignificant, significanceFactor, verbose=True\n",
    ")"
   ]
  },
  {
   "cell_type": "markdown",
   "id": "a183857e",
   "metadata": {},
   "source": [
    "When we keep only 10 coefficients among the first 56 ones, the polynomial chaos metamodel is much better: the coefficients are associated with a low polynomial degree, so that the quadrature rule estimates them with greater accuracy.\n",
    "\n",
    "We would like to know which combination is best. In the following loop, we consider the maximum number of considered coefficients from 1 to 500 and the number of selected coefficients from 1 to 30. For each combination, we compute the $Q^2$ score and select the combination with highest $Q^2$ coefficient. As shown in [Müller & Guido, 2016] the computed $Q^2$ may be optimistic, but this is not the point of the current example. "
   ]
  },
  {
   "cell_type": "code",
   "execution_count": 17,
   "id": "bc545e1e",
   "metadata": {},
   "outputs": [
    {
     "name": "stdout",
     "output_type": "stream",
     "text": [
      "Best Q2 = 86.15%\n",
      "Number of considered coefficients :  101\n",
      "Number of selected coefficients :  16\n"
     ]
    }
   ],
   "source": [
    "maximumConsideredTerms_list = list(range(1, 500, 50))  # From 1 to 500 by steps of 50\n",
    "mostSignificant_list = list(range(1, 30, 5))  # From 1 to 30 by steps of 5\n",
    "iterator = itertools.product(maximumConsideredTerms_list, mostSignificant_list)\n",
    "best_score = 0.0\n",
    "best_parameters = []\n",
    "for it in iterator:\n",
    "    maximumConsideredTerms, mostSignificant = it\n",
    "    score_Q2 = compute_cleaning_PCE(\n",
    "        maximumConsideredTerms, mostSignificant, significanceFactor\n",
    "    )\n",
    "    if score_Q2 > best_score:\n",
    "        best_score = score_Q2\n",
    "        best_parameters = [maximumConsideredTerms, mostSignificant]\n",
    "\n",
    "print(\"Best Q2 = %.2f%%\" % (100.0 * best_score))\n",
    "\n",
    "maximumConsideredTerms, mostSignificant = best_parameters\n",
    "print(\"Number of considered coefficients : \", maximumConsideredTerms)\n",
    "print(\"Number of selected coefficients : \", mostSignificant)"
   ]
  },
  {
   "cell_type": "markdown",
   "id": "08fd819b",
   "metadata": {},
   "source": [
    "We see that the best solution could be to select at most 16 significant coefficients among the first 101 ones."
   ]
  },
  {
   "cell_type": "code",
   "execution_count": 18,
   "id": "b615138d",
   "metadata": {},
   "outputs": [
    {
     "name": "stdout",
     "output_type": "stream",
     "text": [
      "Q2 = 86.15%\n",
      "Total number of coefficients :  12\n",
      "# Indice, Multi-indice, Degree : Value\n",
      "#0, [0,0,0] (0) : 3.5049783626206334\n",
      "#1, [1,0,0] (1) : 1.6254291279668387\n",
      "#2, [0,2,0] (2) : -0.6413919098131441\n",
      "#3, [3,0,0] (3) : -1.2911039486376783\n",
      "#4, [1,0,2] (3) : 1.3724300360555146\n",
      "#5, [0,4,0] (4) : -1.6122740106725173\n",
      "#6, [5,0,0] (5) : 0.20760614724812484\n",
      "#7, [3,0,2] (5) : -1.0901427864755087\n",
      "#8, [1,0,4] (5) : 0.4091795806643483\n",
      "#9, [7,0,0] (7) : -0.20779864255813515\n",
      "#10, [5,0,2] (7) : 0.1752921165560068\n"
     ]
    }
   ],
   "source": [
    "score_Q2 = compute_cleaning_PCE(\n",
    "    maximumConsideredTerms, mostSignificant, significanceFactor, verbose=True\n",
    ")"
   ]
  },
  {
   "cell_type": "markdown",
   "id": "442947f0",
   "metadata": {},
   "source": [
    "These parameters lead to a total number of coefficients equal to 12. Among the 16 most significant coefficients, only 12 satisfy the criteria. Most of the coefficients have a small polynomial degree although some have a total degree equal as large as 7. "
   ]
  },
  {
   "cell_type": "markdown",
   "id": "bea1fcb9",
   "metadata": {},
   "source": [
    "## Intermediate steps of the algorithm\n",
    "\n",
    "If we set the `verbose` optional input argument of the `compute_cleaning_PCE` function to `True`, then intermediate messages are printed in the Terminal (but not in the Jupyter output). For each step of the adaptivity algorithm, the code prints some of the internal parameters of the algorithm. The datastructure uses several variables\n",
    "- `Psi_k_p_` : the collection of functions in the current active polynomial multiindex set,\n",
    "- `I_p_` : the list of indices of the selected coefficients based according to the enumeration rule,\n",
    "- `addedPsi_k_ranks_` : the list of indices to add the multiindex set,\n",
    "- `removedPsi_k_ranks_` : the list of indices to remove to the multiindex set,\n",
    "- `conservedPsi_k_ranks_` : the index of the first polynomial in the selected multiindex set,\n",
    "- `currentVectorIndex_` : the current value of the index in the full multiindex set, according to the enumeration rule.\n",
    "\n",
    "Each time the selection method is called, it is passed a coefficient $a_\\boldsymbol{\\alpha}$ which is a new candidate to be considered by the algorithm. The first time the method is evaluated, the active multiindex set is empty, so that it must be filled with the first coefficients in the multiindex set, according to the enumeration rule. The second time (and up to the end of the algorithm), the candidate coefficient is considered to be added to the multiindex set.\n",
    "\n",
    "Executing the function prints the following messages where the word \"basis\" is equivalent to \"multiindex set\".\n",
    "```\n",
    "INF - Build the iso-probabilistic transformation\n",
    "INF - Same copula for input vector and basis\n",
    "INF - Build the iso-probabilistic transformation\n",
    "INF - Same copula for input vector and basis\n",
    "INF - Work on output marginal 0 over 0\n",
    "INF - Compute the initial basis\n",
    "INF - Compute the coefficients\n",
    "INF - Generate output data\n",
    "INF - Initialize the proxy, reason=empty input sample\n",
    "INF - Adapt the basis\n",
    "INF - initial state:\n",
    "INF -   vector index=16\n",
    "INF -   coeffs  size=16\n",
    "INF -   coeffs      =[3.50498,1.62543,6.83047e-16,-8.01876e-16,-1.09591e-15,-4.05058e-16,-9.87925e-16,-0.641392,-8.93383e-17,-3.66894e-16,-1.2911,-6.33174e-17,-4.59702e-17,-1.53523e-16,-1.9082e-17,1.37243]#16\n",
    "INF -   I_p     size=16\n",
    "INF -   I_p         =[0,1,2,3,4,5,6,7,8,9,10,11,12,13,14,15]\n",
    "INF - final state:\n",
    "INF -   vector index=17 / 101 (16.8%)\n",
    "INF -   coeffs  size=5\n",
    "INF -   coeffs      =[3.50498,1.62543,-0.641392,-1.2911,1.37243]\n",
    "INF -   rem coeffs  =[6.83047e-16,-8.01876e-16,-1.09591e-15,-4.05058e-16,-9.87925e-16,-8.93383e-17,-3.66894e-16,-6.33174e-17,-4.59702e-17,-1.53523e-16,-1.9082e-17]#11\n",
    "INF -   I_p     size=6\n",
    "INF -   I_p         =[0,1,7,10,15,16]\n",
    "INF - Compute the coefficients\n",
    "INF - Initialize the proxy, reason=new basis\n",
    "INF - Adapt the basis\n",
    "INF - initial state:\n",
    "INF -   vector index=17\n",
    "INF -   coeffs  size=6\n",
    "INF -   coeffs      =[3.50498,1.62543,-0.641392,-1.2911,1.37243,-1.19653e-15]\n",
    "INF -   I_p     size=6\n",
    "INF -   I_p         =[0,1,7,10,15,16]\n",
    "INF - final state:\n",
    "INF -   vector index=18 / 101 (17.8%)\n",
    "INF -   coeffs  size=5\n",
    "INF -   coeffs      =[3.50498,1.62543,-0.641392,-1.2911,1.37243]\n",
    "INF -   rem coeffs  =[-1.19653e-15]\n",
    "INF -   I_p     size=6\n",
    "INF -   I_p         =[0,1,7,10,15,17]\n",
    "[...]\n",
    "```\n"
   ]
  },
  {
   "cell_type": "markdown",
   "id": "ec0b1072",
   "metadata": {},
   "source": [
    "In order to process the previous content, we save it into a text file and read the selected coefficients at each step. On output, the variable `list_of_selected_indices` is a list, where each item is the list of integers corresponding to the indices of the coefficients in the active multiindex set."
   ]
  },
  {
   "cell_type": "code",
   "execution_count": 19,
   "id": "6c8a537c",
   "metadata": {},
   "outputs": [
    {
     "name": "stdout",
     "output_type": "stream",
     "text": [
      "Line # 16 , step 1 , initial, Indices= [0, 1, 2, 3, 4, 5, 6, 7, 8, 9, 10, 11, 12, 13, 14, 15]\n",
      "Line # 23 ,          final,   Indices= [0, 1, 7, 10, 15, 16]\n",
      "Line # 32 , step 2 , initial, Indices= [0, 1, 7, 10, 15, 16]\n",
      "Line # 39 ,          final,   Indices= [0, 1, 7, 10, 15, 17]\n",
      "Line # 48 , step 3 , initial, Indices= [0, 1, 7, 10, 15, 17]\n",
      "Line # 55 ,          final,   Indices= [0, 1, 7, 10, 15, 18]\n",
      "Line # 64 , step 4 , initial, Indices= [0, 1, 7, 10, 15, 18]\n",
      "Line # 71 ,          final,   Indices= [0, 1, 7, 10, 15, 19]\n",
      "Line # 80 , step 5 , initial, Indices= [0, 1, 7, 10, 15, 19]\n",
      "Line # 87 ,          final,   Indices= [0, 1, 7, 10, 15, 20]\n",
      "Line # 96 , step 6 , initial, Indices= [0, 1, 7, 10, 15, 20]\n",
      "Line # 103 ,          final,   Indices= [0, 1, 7, 10, 15, 21]\n",
      "Line # 112 , step 7 , initial, Indices= [0, 1, 7, 10, 15, 21]\n",
      "Line # 119 ,          final,   Indices= [0, 1, 7, 10, 15, 22]\n",
      "Line # 128 , step 8 , initial, Indices= [0, 1, 7, 10, 15, 22]\n",
      "Line # 135 ,          final,   Indices= [0, 1, 7, 10, 15, 23]\n",
      "Line # 144 , step 9 , initial, Indices= [0, 1, 7, 10, 15, 23]\n",
      "Line # 151 ,          final,   Indices= [0, 1, 7, 10, 15, 24]\n",
      "Line # 160 , step 10 , initial, Indices= [0, 1, 7, 10, 15, 24]\n",
      "Line # 167 ,          final,   Indices= [0, 1, 7, 10, 15, 25]\n",
      "Line # 176 , step 11 , initial, Indices= [0, 1, 7, 10, 15, 25]\n",
      "Line # 183 ,          final,   Indices= [0, 1, 7, 10, 15, 26]\n",
      "Line # 192 , step 12 , initial, Indices= [0, 1, 7, 10, 15, 26]\n",
      "Line # 199 ,          final,   Indices= [0, 1, 7, 10, 15, 27]\n",
      "Line # 208 , step 13 , initial, Indices= [0, 1, 7, 10, 15, 27]\n",
      "Line # 215 ,          final,   Indices= [0, 1, 7, 10, 15, 28]\n",
      "Line # 224 , step 14 , initial, Indices= [0, 1, 7, 10, 15, 28]\n",
      "Line # 231 ,          final,   Indices= [0, 1, 7, 10, 15, 29]\n",
      "Line # 240 , step 15 , initial, Indices= [0, 1, 7, 10, 15, 29]\n",
      "Line # 247 ,          final,   Indices= [0, 1, 7, 10, 15, 30]\n",
      "Line # 256 , step 16 , initial, Indices= [0, 1, 7, 10, 15, 30]\n",
      "Line # 263 ,          final,   Indices= [0, 1, 7, 10, 15, 30, 31]\n",
      "Line # 272 , step 17 , initial, Indices= [0, 1, 7, 10, 15, 30, 31]\n",
      "Line # 279 ,          final,   Indices= [0, 1, 7, 10, 15, 30, 32]\n",
      "Line # 288 , step 18 , initial, Indices= [0, 1, 7, 10, 15, 30, 32]\n",
      "Line # 295 ,          final,   Indices= [0, 1, 7, 10, 15, 30, 33]\n",
      "Line # 304 , step 19 , initial, Indices= [0, 1, 7, 10, 15, 30, 33]\n",
      "Line # 311 ,          final,   Indices= [0, 1, 7, 10, 15, 30, 34]\n",
      "Line # 320 , step 20 , initial, Indices= [0, 1, 7, 10, 15, 30, 34]\n",
      "Line # 327 ,          final,   Indices= [0, 1, 7, 10, 15, 30, 35]\n",
      "Line # 336 , step 21 , initial, Indices= [0, 1, 7, 10, 15, 30, 35]\n",
      "Line # 343 ,          final,   Indices= [0, 1, 7, 10, 15, 30, 35, 36]\n",
      "Line # 352 , step 22 , initial, Indices= [0, 1, 7, 10, 15, 30, 35, 36]\n",
      "Line # 359 ,          final,   Indices= [0, 1, 7, 10, 15, 30, 35, 37]\n",
      "Line # 368 , step 23 , initial, Indices= [0, 1, 7, 10, 15, 30, 35, 37]\n",
      "Line # 375 ,          final,   Indices= [0, 1, 7, 10, 15, 30, 35, 38]\n",
      "Line # 384 , step 24 , initial, Indices= [0, 1, 7, 10, 15, 30, 35, 38]\n",
      "Line # 391 ,          final,   Indices= [0, 1, 7, 10, 15, 30, 35, 39]\n",
      "Line # 400 , step 25 , initial, Indices= [0, 1, 7, 10, 15, 30, 35, 39]\n",
      "Line # 407 ,          final,   Indices= [0, 1, 7, 10, 15, 30, 35, 40]\n",
      "Line # 416 , step 26 , initial, Indices= [0, 1, 7, 10, 15, 30, 35, 40]\n",
      "Line # 423 ,          final,   Indices= [0, 1, 7, 10, 15, 30, 35, 40, 41]\n",
      "Line # 432 , step 27 , initial, Indices= [0, 1, 7, 10, 15, 30, 35, 40, 41]\n",
      "Line # 439 ,          final,   Indices= [0, 1, 7, 10, 15, 30, 35, 40, 42]\n",
      "Line # 448 , step 28 , initial, Indices= [0, 1, 7, 10, 15, 30, 35, 40, 42]\n",
      "Line # 455 ,          final,   Indices= [0, 1, 7, 10, 15, 30, 35, 40, 43]\n",
      "Line # 464 , step 29 , initial, Indices= [0, 1, 7, 10, 15, 30, 35, 40, 43]\n",
      "Line # 471 ,          final,   Indices= [0, 1, 7, 10, 15, 30, 35, 40, 44]\n",
      "Line # 480 , step 30 , initial, Indices= [0, 1, 7, 10, 15, 30, 35, 40, 44]\n",
      "Line # 487 ,          final,   Indices= [0, 1, 7, 10, 15, 30, 35, 40, 45]\n",
      "Line # 496 , step 31 , initial, Indices= [0, 1, 7, 10, 15, 30, 35, 40, 45]\n",
      "Line # 503 ,          final,   Indices= [0, 1, 7, 10, 15, 30, 35, 40, 46]\n",
      "Line # 512 , step 32 , initial, Indices= [0, 1, 7, 10, 15, 30, 35, 40, 46]\n",
      "Line # 519 ,          final,   Indices= [0, 1, 7, 10, 15, 30, 35, 40, 47]\n",
      "Line # 528 , step 33 , initial, Indices= [0, 1, 7, 10, 15, 30, 35, 40, 47]\n",
      "Line # 535 ,          final,   Indices= [0, 1, 7, 10, 15, 30, 35, 40, 48]\n",
      "Line # 544 , step 34 , initial, Indices= [0, 1, 7, 10, 15, 30, 35, 40, 48]\n",
      "Line # 551 ,          final,   Indices= [0, 1, 7, 10, 15, 30, 35, 40, 49]\n",
      "Line # 560 , step 35 , initial, Indices= [0, 1, 7, 10, 15, 30, 35, 40, 49]\n",
      "Line # 567 ,          final,   Indices= [0, 1, 7, 10, 15, 30, 35, 40, 49, 50]\n",
      "Line # 576 , step 36 , initial, Indices= [0, 1, 7, 10, 15, 30, 35, 40, 49, 50]\n",
      "Line # 583 ,          final,   Indices= [0, 1, 7, 10, 15, 30, 35, 40, 49, 51]\n",
      "Line # 592 , step 37 , initial, Indices= [0, 1, 7, 10, 15, 30, 35, 40, 49, 51]\n",
      "Line # 599 ,          final,   Indices= [0, 1, 7, 10, 15, 30, 35, 40, 49, 52]\n",
      "Line # 608 , step 38 , initial, Indices= [0, 1, 7, 10, 15, 30, 35, 40, 49, 52]\n",
      "Line # 615 ,          final,   Indices= [0, 1, 7, 10, 15, 30, 35, 40, 49, 53]\n",
      "Line # 624 , step 39 , initial, Indices= [0, 1, 7, 10, 15, 30, 35, 40, 49, 53]\n",
      "Line # 631 ,          final,   Indices= [0, 1, 7, 10, 15, 30, 35, 40, 49, 54]\n",
      "Line # 640 , step 40 , initial, Indices= [0, 1, 7, 10, 15, 30, 35, 40, 49, 54]\n",
      "Line # 647 ,          final,   Indices= [0, 1, 7, 10, 15, 30, 35, 40, 49, 55]\n",
      "Line # 656 , step 41 , initial, Indices= [0, 1, 7, 10, 15, 30, 35, 40, 49, 55]\n",
      "Line # 663 ,          final,   Indices= [0, 1, 7, 10, 15, 30, 35, 40, 49, 56]\n",
      "Line # 672 , step 42 , initial, Indices= [0, 1, 7, 10, 15, 30, 35, 40, 49, 56]\n",
      "Line # 679 ,          final,   Indices= [0, 1, 7, 10, 15, 30, 35, 40, 49, 57]\n",
      "Line # 688 , step 43 , initial, Indices= [0, 1, 7, 10, 15, 30, 35, 40, 49, 57]\n",
      "Line # 695 ,          final,   Indices= [0, 1, 7, 10, 15, 30, 35, 40, 49, 58]\n",
      "Line # 704 , step 44 , initial, Indices= [0, 1, 7, 10, 15, 30, 35, 40, 49, 58]\n",
      "Line # 711 ,          final,   Indices= [0, 1, 7, 10, 15, 30, 35, 40, 49, 59]\n",
      "Line # 720 , step 45 , initial, Indices= [0, 1, 7, 10, 15, 30, 35, 40, 49, 59]\n",
      "Line # 727 ,          final,   Indices= [0, 1, 7, 10, 15, 30, 35, 40, 49, 60]\n",
      "Line # 736 , step 46 , initial, Indices= [0, 1, 7, 10, 15, 30, 35, 40, 49, 60]\n",
      "Line # 743 ,          final,   Indices= [0, 1, 7, 10, 15, 30, 35, 40, 49, 61]\n",
      "Line # 752 , step 47 , initial, Indices= [0, 1, 7, 10, 15, 30, 35, 40, 49, 61]\n",
      "Line # 759 ,          final,   Indices= [0, 1, 7, 10, 15, 30, 35, 40, 49, 62]\n",
      "Line # 768 , step 48 , initial, Indices= [0, 1, 7, 10, 15, 30, 35, 40, 49, 62]\n",
      "Line # 775 ,          final,   Indices= [0, 1, 7, 10, 15, 30, 35, 40, 49, 63]\n",
      "Line # 784 , step 49 , initial, Indices= [0, 1, 7, 10, 15, 30, 35, 40, 49, 63]\n",
      "Line # 791 ,          final,   Indices= [0, 1, 7, 10, 15, 30, 35, 40, 49, 64]\n",
      "Line # 800 , step 50 , initial, Indices= [0, 1, 7, 10, 15, 30, 35, 40, 49, 64]\n",
      "Line # 807 ,          final,   Indices= [0, 1, 7, 10, 15, 30, 35, 40, 49, 65]\n",
      "Line # 816 , step 51 , initial, Indices= [0, 1, 7, 10, 15, 30, 35, 40, 49, 65]\n",
      "Line # 823 ,          final,   Indices= [0, 1, 7, 10, 15, 30, 35, 40, 49, 66]\n",
      "Line # 832 , step 52 , initial, Indices= [0, 1, 7, 10, 15, 30, 35, 40, 49, 66]\n",
      "Line # 839 ,          final,   Indices= [0, 1, 7, 10, 15, 30, 35, 40, 49, 67]\n",
      "Line # 848 , step 53 , initial, Indices= [0, 1, 7, 10, 15, 30, 35, 40, 49, 67]\n",
      "Line # 855 ,          final,   Indices= [0, 1, 7, 10, 15, 30, 35, 40, 49, 68]\n",
      "Line # 864 , step 54 , initial, Indices= [0, 1, 7, 10, 15, 30, 35, 40, 49, 68]\n",
      "Line # 871 ,          final,   Indices= [0, 1, 7, 10, 15, 30, 35, 40, 49, 69]\n",
      "Line # 880 , step 55 , initial, Indices= [0, 1, 7, 10, 15, 30, 35, 40, 49, 69]\n",
      "Line # 887 ,          final,   Indices= [0, 1, 7, 10, 15, 30, 35, 40, 49, 70]\n",
      "Line # 896 , step 56 , initial, Indices= [0, 1, 7, 10, 15, 30, 35, 40, 49, 70]\n",
      "Line # 903 ,          final,   Indices= [0, 1, 7, 10, 15, 30, 35, 40, 49, 71]\n",
      "Line # 912 , step 57 , initial, Indices= [0, 1, 7, 10, 15, 30, 35, 40, 49, 71]\n",
      "Line # 919 ,          final,   Indices= [0, 1, 7, 10, 15, 30, 35, 40, 49, 72]\n",
      "Line # 928 , step 58 , initial, Indices= [0, 1, 7, 10, 15, 30, 35, 40, 49, 72]\n",
      "Line # 935 ,          final,   Indices= [0, 1, 7, 10, 15, 30, 35, 40, 49, 73]\n",
      "Line # 944 , step 59 , initial, Indices= [0, 1, 7, 10, 15, 30, 35, 40, 49, 73]\n",
      "Line # 951 ,          final,   Indices= [0, 1, 7, 10, 15, 30, 35, 40, 49, 74]\n",
      "Line # 960 , step 60 , initial, Indices= [0, 1, 7, 10, 15, 30, 35, 40, 49, 74]\n",
      "Line # 967 ,          final,   Indices= [0, 1, 7, 10, 15, 30, 35, 40, 49, 75]\n",
      "Line # 976 , step 61 , initial, Indices= [0, 1, 7, 10, 15, 30, 35, 40, 49, 75]\n",
      "Line # 983 ,          final,   Indices= [0, 1, 7, 10, 15, 30, 35, 40, 49, 76]\n",
      "Line # 992 , step 62 , initial, Indices= [0, 1, 7, 10, 15, 30, 35, 40, 49, 76]\n",
      "Line # 999 ,          final,   Indices= [0, 1, 7, 10, 15, 30, 35, 40, 49, 77]\n",
      "Line # 1008 , step 63 , initial, Indices= [0, 1, 7, 10, 15, 30, 35, 40, 49, 77]\n",
      "Line # 1015 ,          final,   Indices= [0, 1, 7, 10, 15, 30, 35, 40, 49, 78]\n",
      "Line # 1024 , step 64 , initial, Indices= [0, 1, 7, 10, 15, 30, 35, 40, 49, 78]\n",
      "Line # 1031 ,          final,   Indices= [0, 1, 7, 10, 15, 30, 35, 40, 49, 79]\n",
      "Line # 1040 , step 65 , initial, Indices= [0, 1, 7, 10, 15, 30, 35, 40, 49, 79]\n",
      "Line # 1047 ,          final,   Indices= [0, 1, 7, 10, 15, 30, 35, 40, 49, 80]\n",
      "Line # 1056 , step 66 , initial, Indices= [0, 1, 7, 10, 15, 30, 35, 40, 49, 80]\n",
      "Line # 1063 ,          final,   Indices= [0, 1, 7, 10, 15, 30, 35, 40, 49, 81]\n",
      "Line # 1072 , step 67 , initial, Indices= [0, 1, 7, 10, 15, 30, 35, 40, 49, 81]\n",
      "Line # 1079 ,          final,   Indices= [0, 1, 7, 10, 15, 30, 35, 40, 49, 82]\n",
      "Line # 1088 , step 68 , initial, Indices= [0, 1, 7, 10, 15, 30, 35, 40, 49, 82]\n",
      "Line # 1095 ,          final,   Indices= [0, 1, 7, 10, 15, 30, 35, 40, 49, 83]\n",
      "Line # 1104 , step 69 , initial, Indices= [0, 1, 7, 10, 15, 30, 35, 40, 49, 83]\n",
      "Line # 1111 ,          final,   Indices= [0, 1, 7, 10, 15, 30, 35, 40, 49, 84]\n",
      "Line # 1120 , step 70 , initial, Indices= [0, 1, 7, 10, 15, 30, 35, 40, 49, 84]\n",
      "Line # 1127 ,          final,   Indices= [0, 1, 7, 10, 15, 30, 35, 40, 49, 84, 85]\n",
      "Line # 1136 , step 71 , initial, Indices= [0, 1, 7, 10, 15, 30, 35, 40, 49, 84, 85]\n",
      "Line # 1143 ,          final,   Indices= [0, 1, 7, 10, 15, 30, 35, 40, 49, 84, 86]\n",
      "Line # 1152 , step 72 , initial, Indices= [0, 1, 7, 10, 15, 30, 35, 40, 49, 84, 86]\n",
      "Line # 1159 ,          final,   Indices= [0, 1, 7, 10, 15, 30, 35, 40, 49, 84, 87]\n",
      "Line # 1168 , step 73 , initial, Indices= [0, 1, 7, 10, 15, 30, 35, 40, 49, 84, 87]\n",
      "Line # 1175 ,          final,   Indices= [0, 1, 7, 10, 15, 30, 35, 40, 49, 84, 88]\n",
      "Line # 1184 , step 74 , initial, Indices= [0, 1, 7, 10, 15, 30, 35, 40, 49, 84, 88]\n",
      "Line # 1191 ,          final,   Indices= [0, 1, 7, 10, 15, 30, 35, 40, 49, 84, 89]\n",
      "Line # 1200 , step 75 , initial, Indices= [0, 1, 7, 10, 15, 30, 35, 40, 49, 84, 89]\n",
      "Line # 1207 ,          final,   Indices= [0, 1, 7, 10, 15, 30, 35, 40, 49, 84, 89, 90]\n",
      "Line # 1216 , step 76 , initial, Indices= [0, 1, 7, 10, 15, 30, 35, 40, 49, 84, 89, 90]\n",
      "Line # 1223 ,          final,   Indices= [0, 1, 7, 10, 15, 30, 35, 40, 49, 84, 89, 91]\n",
      "Line # 1232 , step 77 , initial, Indices= [0, 1, 7, 10, 15, 30, 35, 40, 49, 84, 89, 91]\n",
      "Line # 1239 ,          final,   Indices= [0, 1, 7, 10, 15, 30, 35, 40, 49, 84, 89, 92]\n",
      "Line # 1248 , step 78 , initial, Indices= [0, 1, 7, 10, 15, 30, 35, 40, 49, 84, 89, 92]\n",
      "Line # 1255 ,          final,   Indices= [0, 1, 7, 10, 15, 30, 35, 40, 49, 84, 89, 93]\n",
      "Line # 1264 , step 79 , initial, Indices= [0, 1, 7, 10, 15, 30, 35, 40, 49, 84, 89, 93]\n",
      "Line # 1271 ,          final,   Indices= [0, 1, 7, 10, 15, 30, 35, 40, 49, 84, 89, 94]\n",
      "Line # 1280 , step 80 , initial, Indices= [0, 1, 7, 10, 15, 30, 35, 40, 49, 84, 89, 94]\n",
      "Line # 1287 ,          final,   Indices= [0, 1, 7, 10, 15, 30, 35, 40, 49, 84, 89, 95]\n",
      "Line # 1296 , step 81 , initial, Indices= [0, 1, 7, 10, 15, 30, 35, 40, 49, 84, 89, 95]\n",
      "Line # 1303 ,          final,   Indices= [0, 1, 7, 10, 15, 30, 35, 40, 49, 84, 89, 96]\n",
      "Line # 1312 , step 82 , initial, Indices= [0, 1, 7, 10, 15, 30, 35, 40, 49, 84, 89, 96]\n",
      "Line # 1319 ,          final,   Indices= [0, 1, 7, 10, 15, 30, 35, 40, 49, 84, 89, 97]\n",
      "Line # 1328 , step 83 , initial, Indices= [0, 1, 7, 10, 15, 30, 35, 40, 49, 84, 89, 97]\n",
      "Line # 1335 ,          final,   Indices= [0, 1, 7, 10, 15, 30, 35, 40, 49, 84, 89, 98]\n",
      "Line # 1344 , step 84 , initial, Indices= [0, 1, 7, 10, 15, 30, 35, 40, 49, 84, 89, 98]\n",
      "Line # 1351 ,          final,   Indices= [0, 1, 7, 10, 15, 30, 35, 40, 49, 84, 89, 98, 99]\n",
      "Line # 1360 , step 85 , initial, Indices= [0, 1, 7, 10, 15, 30, 35, 40, 49, 84, 89, 98, 99]\n",
      "Line # 1367 ,          final,   Indices= [0, 1, 7, 10, 15, 30, 35, 40, 49, 84, 89, 98, 100]\n",
      "Line # 1376 , step 86 , initial, Indices= [0, 1, 7, 10, 15, 30, 35, 40, 49, 84, 89, 98, 100]\n",
      "Line # 1383 ,          final,   Indices= [0, 1, 7, 10, 15, 30, 35, 40, 49, 84, 89, 98]\n",
      "Line # 1391 , step 87 , initial, Indices= [0, 1, 7, 10, 15, 30, 35, 40, 49, 84, 89, 98]\n"
     ]
    },
    {
     "name": "stdout",
     "output_type": "stream",
     "text": [
      "Line # 1398 ,          final,   Indices= [0, 1, 7, 10, 15, 30, 35, 40, 49, 84, 89, 98]\n"
     ]
    }
   ],
   "source": [
    "f = open(\"selection_output.txt\",\"r\")\n",
    "lines = f.readlines()\n",
    "\n",
    "list_of_selected_indices = []\n",
    "line_index = 0\n",
    "is_state_initial = True\n",
    "step_index = 0\n",
    "for line in lines:\n",
    "    line_index += 1\n",
    "    if line[0:20] == \"INF - initial state:\":\n",
    "        is_state_initial = True\n",
    "        step_index += 1\n",
    "    if line[0:18] == \"INF - final state:\":\n",
    "        #print(\"Line #\", line_index, \", final state\")\n",
    "        is_state_initial = False\n",
    "    if line[0:21] == \"INF -   I_p         =\":\n",
    "        indices_str = line[22:-2]\n",
    "        indices_str_list = indices_str.split(\",\")\n",
    "        indices = []\n",
    "        for index in indices_str_list:\n",
    "            indices.append(int(index))\n",
    "        if is_state_initial:\n",
    "            print(\"Line #\", line_index, \", step %d\" % (step_index), \", initial, Indices=\", indices)\n",
    "        else:\n",
    "            print(\"Line #\", line_index, \",          final,   Indices=\", indices)\n",
    "        if len(list_of_selected_indices) == 0:\n",
    "            # If the list of indices is empty, add the first indices\n",
    "            list_of_selected_indices.append(indices)\n",
    "        elif not is_state_initial:\n",
    "            # If this is the final state, add the indices\n",
    "            list_of_selected_indices.append(indices)"
   ]
  },
  {
   "cell_type": "markdown",
   "id": "e22381ea",
   "metadata": {},
   "source": [
    "The previous text allows to understand what exactly happens in the algorithm, where the significant threshold is $\\epsilon = 10^{-10}$. \n",
    "- On the first step, the initial basis is empty and filled with the indices [0, 1, 2, 3, 4, 5, 6, 7, 8, 9, 10, 11, 12, 13, 14, 15]. The greatest coefficient in absolute value is $a_0 = 3.505$, which leads to the threshold $\\epsilon |a_0| = 3.505 \\times 10^{-10}$. Most of the considered coefficient are, however, too close to zero. This is why only the coefficients [0, 1, 7, 10, 15] are kept in the basis. The corresponding coefficients are [3.505, 1.625,-0.6414, -1.291, 1.372]. \n",
    "- On the second step, the candidate index 16 is considered. Its coefficient is $a_{16} = -1.197 \\times 10^{-15}$, which is much too low to be selected. Hence, the basis is unchanged and the active multiindex set is [0, 1, 7, 10, 15] on the end of this step.\n",
    "- From the step 3 to the step 15, the active multiindex set is unchanged, because no considered coefficient becomes greater than the threshold.\n",
    "- On step 16, the candidate index 30 is considered, with corresponding coefficient $a_{30} = -1.612$. Since this coefficient has an absolute value greater than the threshold, it gets selected and the active multiindex set is [0, 1, 7, 10, 15, 30] on the end of this step.\n",
    "- On the last step, the selected multiindex set contains the indices [0, 1, 7, 10, 15, 30, 35, 40, 49, 84, 89, 98] and the corresponding coefficients are [3.508, 1.625, -0.6414, -1.291, 1.372, -1.613, 0.2076, -1.090, 0.4092, -0.2078, 0.1753, -0.3250]. \n",
    "\n",
    "We see that the algorithm was able so select 12 coefficients in the first 101 coefficients considered by the algorithm. It could have selected more coefficients since we provided 16 slots to fill thanks to the `mostSignificant` parameter. The considered coefficients were, however, to close to zero and were below the threshold. "
   ]
  },
  {
   "cell_type": "markdown",
   "id": "0237bbbc",
   "metadata": {},
   "source": [
    "The next cell prints the first 10 selected multiindices."
   ]
  },
  {
   "cell_type": "code",
   "execution_count": 20,
   "id": "9068c37c",
   "metadata": {},
   "outputs": [
    {
     "data": {
      "text/plain": [
       "[[0, 1, 2, 3, 4, 5, 6, 7, 8, 9, 10, 11, 12, 13, 14, 15],\n",
       " [0, 1, 7, 10, 15, 16],\n",
       " [0, 1, 7, 10, 15, 17],\n",
       " [0, 1, 7, 10, 15, 18],\n",
       " [0, 1, 7, 10, 15, 19],\n",
       " [0, 1, 7, 10, 15, 20],\n",
       " [0, 1, 7, 10, 15, 21],\n",
       " [0, 1, 7, 10, 15, 22],\n",
       " [0, 1, 7, 10, 15, 23],\n",
       " [0, 1, 7, 10, 15, 24]]"
      ]
     },
     "execution_count": 20,
     "metadata": {},
     "output_type": "execute_result"
    }
   ],
   "source": [
    "list_of_selected_indices[0:10]"
   ]
  },
  {
   "cell_type": "markdown",
   "id": "9fe28ef0",
   "metadata": {},
   "source": [
    "The next cell prints the last 10 selected multiindices."
   ]
  },
  {
   "cell_type": "code",
   "execution_count": 21,
   "id": "95fbaba8",
   "metadata": {},
   "outputs": [
    {
     "data": {
      "text/plain": [
       "[[0, 1, 7, 10, 15, 30, 35, 40, 49, 84, 89, 92],\n",
       " [0, 1, 7, 10, 15, 30, 35, 40, 49, 84, 89, 93],\n",
       " [0, 1, 7, 10, 15, 30, 35, 40, 49, 84, 89, 94],\n",
       " [0, 1, 7, 10, 15, 30, 35, 40, 49, 84, 89, 95],\n",
       " [0, 1, 7, 10, 15, 30, 35, 40, 49, 84, 89, 96],\n",
       " [0, 1, 7, 10, 15, 30, 35, 40, 49, 84, 89, 97],\n",
       " [0, 1, 7, 10, 15, 30, 35, 40, 49, 84, 89, 98],\n",
       " [0, 1, 7, 10, 15, 30, 35, 40, 49, 84, 89, 98, 99],\n",
       " [0, 1, 7, 10, 15, 30, 35, 40, 49, 84, 89, 98, 100],\n",
       " [0, 1, 7, 10, 15, 30, 35, 40, 49, 84, 89, 98]]"
      ]
     },
     "execution_count": 21,
     "metadata": {},
     "output_type": "execute_result"
    }
   ],
   "source": [
    "list_of_selected_indices[-11:-1]"
   ]
  },
  {
   "cell_type": "code",
   "execution_count": null,
   "id": "0f4ed486",
   "metadata": {},
   "outputs": [],
   "source": []
  }
 ],
 "metadata": {
  "kernelspec": {
   "display_name": "Python 3 (ipykernel)",
   "language": "python",
   "name": "python3"
  },
  "language_info": {
   "codemirror_mode": {
    "name": "ipython",
    "version": 3
   },
   "file_extension": ".py",
   "mimetype": "text/x-python",
   "name": "python",
   "nbconvert_exporter": "python",
   "pygments_lexer": "ipython3",
   "version": "3.8.10"
  }
 },
 "nbformat": 4,
 "nbformat_minor": 5
}
