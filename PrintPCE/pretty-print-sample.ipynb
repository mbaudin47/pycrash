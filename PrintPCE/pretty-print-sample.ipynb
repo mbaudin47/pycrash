{
 "cells": [
  {
   "cell_type": "code",
   "execution_count": 1,
   "id": "72c893fd",
   "metadata": {},
   "outputs": [
    {
     "data": {
      "text/html": [
       "<table>\n",
       "  <tr><td></td><th>v0</th><th>v1</th></tr>\n",
       "  <tr><th>0</th><td>1</td><td>2</td></tr>\n",
       "  <tr><th>1</th><td>3</td><td>4</td></tr>\n",
       "  <tr><th>2</th><td>5</td><td>6</td></tr>\n",
       "</table>"
      ],
      "text/plain": [
       "class=Sample name=Unnamed implementation=class=SampleImplementation name=Unnamed size=3 dimension=2 data=[[1,2],[3,4],[5,6]]"
      ]
     },
     "execution_count": 1,
     "metadata": {},
     "output_type": "execute_result"
    }
   ],
   "source": [
    "import openturns as ot\n",
    "\n",
    "sample = ot.Sample([[1.0, 2.0], [3.0, 4.0], [5.0, 6.0]])\n",
    "sample"
   ]
  },
  {
   "cell_type": "code",
   "execution_count": 2,
   "id": "continued-upper",
   "metadata": {},
   "outputs": [
    {
     "name": "stdout",
     "output_type": "stream",
     "text": [
      "0 : [ 1 2 ]\n",
      "1 : [ 3 4 ]\n",
      "2 : [ 5 6 ]\n"
     ]
    }
   ],
   "source": [
    "print(sample)"
   ]
  },
  {
   "cell_type": "code",
   "execution_count": 3,
   "id": "4481f0dd",
   "metadata": {},
   "outputs": [],
   "source": [
    "def sample2Markdown(sample):\n",
    "    fmt = \"%.7g\"  # Should be in ResourceMap\n",
    "    size = sample.getSize()\n",
    "    dimension = sample.getDimension()\n",
    "    dashed_str = \"---\"\n",
    "    description = sample.getDescription()\n",
    "    markdown = \"\"\n",
    "    markdown += \"|  |\" + \"|\".join(description) + \"|\\n\"\n",
    "    markdown += \"|\" + dashed_str + \"|\"  + \"|\".join([dashed_str] * dimension) + \"|\\n\"\n",
    "    for i in range(size):\n",
    "        markdown += \"|\" + str(i) + \"|\" + \"|\".join([fmt % v for v in sample[i]]) + \"|\\n\"\n",
    "    return markdown"
   ]
  },
  {
   "cell_type": "code",
   "execution_count": 4,
   "id": "871f6314",
   "metadata": {},
   "outputs": [
    {
     "data": {
      "text/markdown": [
       "|  |v0|v1|\n",
       "|---|---|---|\n",
       "|0|1|2|\n",
       "|1|3|4|\n",
       "|2|5|6|\n"
      ],
      "text/plain": [
       "<IPython.core.display.Markdown object>"
      ]
     },
     "execution_count": 4,
     "metadata": {},
     "output_type": "execute_result"
    }
   ],
   "source": [
    "from IPython.display import Markdown\n",
    "Markdown(sample2Markdown(sample))"
   ]
  },
  {
   "cell_type": "code",
   "execution_count": 5,
   "id": "cb66a410",
   "metadata": {},
   "outputs": [],
   "source": [
    "def sample2MarkdownImproved(sample):\n",
    "    markdown = \"\"\n",
    "    desc = sample.getDescription()\n",
    "    ell_threshold = ot.common.ResourceMap.GetAsUnsignedInteger(\n",
    "        \"Sample-PrintEllipsisThreshold\"\n",
    "    )\n",
    "    ell_size = ot.common.ResourceMap.GetAsUnsignedInteger(\"Sample-PrintEllipsisSize\")\n",
    "    dashed_str = \"---\"\n",
    "    size = sample.getSize()\n",
    "    dim = sample.getDimension()\n",
    "    ellipsis = size * dim > ell_threshold\n",
    "    if desc.isBlank():\n",
    "        description = [\"v%d\" % i for i in range(dim)]\n",
    "\n",
    "    if ellipsis and dim > 2 * ell_size:\n",
    "        markdown += \"|   | \" + \"|\".join(desc[0:ell_size]) + \"|...|\"\n",
    "        markdown += \"|\".join(desc[-ell_size:]) + \"|\\n\"\n",
    "        markdown += \"|\" + \"|\".join([dashed_str] * (2 * ell_size + 2)) + \"|\\n\"\n",
    "    else:\n",
    "        markdown += \"|   |\" + \"|\".join(desc) + \"|\\n\"\n",
    "        markdown += \"|\" + dashed_str + \"|\" + \"|\".join([dashed_str] * dim) + \"|\\n\"\n",
    "\n",
    "    for i in range(size):\n",
    "        if ellipsis and size > 2 * ell_size:\n",
    "            if i == ell_size:\n",
    "                markdown += \"|...|\\n\"\n",
    "                continue\n",
    "            else:\n",
    "                if i > ell_size and i < size - ell_size:\n",
    "                    continue\n",
    "        # Write row\n",
    "        fmt = \"%.7g\"  # TODO: Move this in ResourceMap\n",
    "        if ellipsis and dim > 2 * ell_size:\n",
    "            markdown += \"|\" + str(i)\n",
    "            if dim > 0:\n",
    "                markdown += \"|\"\n",
    "            markdown += \"|\".join([fmt % x for x in sample[i, 0:ell_size]])\n",
    "            markdown += \"|...|\"\n",
    "            markdown += \"|\".join([fmt % x for x in sample[i, -ell_size:]])\n",
    "            markdown += \"|\\n\"\n",
    "        else:\n",
    "            markdown += \"|\" + str(i)\n",
    "            if dim > 0:\n",
    "                markdown += \"|\" + \"|\".join([fmt % x for x in sample[i]])\n",
    "            markdown += \"|\\n\"\n",
    "    html = Markdown(markdown)\n",
    "    return html"
   ]
  },
  {
   "cell_type": "code",
   "execution_count": 6,
   "id": "2b8a990e",
   "metadata": {},
   "outputs": [
    {
     "data": {
      "text/markdown": [
       "|   |v0|v1|\n",
       "|---|---|---|\n",
       "|0|1|2|\n",
       "|1|3|4|\n",
       "|2|5|6|\n"
      ],
      "text/plain": [
       "<IPython.core.display.Markdown object>"
      ]
     },
     "execution_count": 6,
     "metadata": {},
     "output_type": "execute_result"
    }
   ],
   "source": [
    "sample2MarkdownImproved(sample)"
   ]
  },
  {
   "cell_type": "code",
   "execution_count": 7,
   "id": "34fb3a1b",
   "metadata": {},
   "outputs": [
    {
     "name": "stdout",
     "output_type": "stream",
     "text": [
      "PrintEllipsisThreshold =  1000\n",
      "PrintEllipsisThreshold =  3\n"
     ]
    }
   ],
   "source": [
    "print(\n",
    "    \"PrintEllipsisThreshold = \",\n",
    "    ot.common.ResourceMap.GetAsUnsignedInteger(\"Sample-PrintEllipsisThreshold\"),\n",
    ")\n",
    "print(\n",
    "    \"PrintEllipsisThreshold = \",\n",
    "    ot.common.ResourceMap.GetAsUnsignedInteger(\"Sample-PrintEllipsisSize\"),\n",
    ")"
   ]
  },
  {
   "cell_type": "code",
   "execution_count": 8,
   "id": "de9d2e3f",
   "metadata": {},
   "outputs": [],
   "source": [
    "ot.common.ResourceMap.SetAsUnsignedInteger(\"Sample-PrintEllipsisThreshold\", 10)"
   ]
  },
  {
   "cell_type": "code",
   "execution_count": 9,
   "id": "a512ad6c",
   "metadata": {},
   "outputs": [
    {
     "data": {
      "text/markdown": [
       "|   | X0|X1|X2|...|X47|X48|X49|\n",
       "|---|---|---|---|---|---|---|---|\n",
       "|0|0.6082017|-1.266173|-0.4382656|...|1.855792|0.05215933|0.7904458|\n",
       "|1|0.7163526|-0.743622|0.184356|...|1.326299|2.119676|-0.9015814|\n",
       "|2|-1.516965|-1.29938|0.2303724|...|0.7296878|-0.2472338|0.479191|\n",
       "|...|\n",
       "|7|-0.5124193|-0.3062254|-1.211032|...|-0.404166|2.092243|0.6750433|\n",
       "|8|-0.3832085|-0.3552394|-1.305296|...|-1.277891|-0.748335|0.447628|\n",
       "|9|1.606495|-1.238318|-0.8571127|...|-2.721058|-0.4566343|0.8344516|\n"
      ],
      "text/plain": [
       "<IPython.core.display.Markdown object>"
      ]
     },
     "execution_count": 9,
     "metadata": {},
     "output_type": "execute_result"
    }
   ],
   "source": [
    "sample2MarkdownImproved(ot.Normal(50).getSample(10))"
   ]
  },
  {
   "cell_type": "code",
   "execution_count": 10,
   "id": "d3c3d17e",
   "metadata": {},
   "outputs": [
    {
     "data": {
      "text/markdown": [
       "|   |v0|v1|\n",
       "|---|---|---|\n",
       "|0|1|2|\n",
       "|1|3|4|\n",
       "|2|5|6|\n"
      ],
      "text/plain": [
       "<IPython.core.display.Markdown object>"
      ]
     },
     "execution_count": 10,
     "metadata": {},
     "output_type": "execute_result"
    }
   ],
   "source": [
    "d = sample2MarkdownImproved(sample)\n",
    "d"
   ]
  },
  {
   "cell_type": "code",
   "execution_count": 11,
   "id": "e342a4ed",
   "metadata": {},
   "outputs": [],
   "source": [
    "import IPython"
   ]
  },
  {
   "cell_type": "code",
   "execution_count": 12,
   "id": "70b5fe59",
   "metadata": {},
   "outputs": [
    {
     "data": {
      "text/markdown": [
       "|   |v0|v1|\n",
       "|---|---|---|\n",
       "|0|1|2|\n",
       "|1|3|4|\n",
       "|2|5|6|\n"
      ]
     },
     "metadata": {},
     "output_type": "display_data"
    }
   ],
   "source": [
    "IPython.display.display_markdown(d)"
   ]
  },
  {
   "cell_type": "code",
   "execution_count": 13,
   "id": "23eb5e3b",
   "metadata": {},
   "outputs": [],
   "source": [
    "s = IPython.display.display_html(d)"
   ]
  },
  {
   "cell_type": "code",
   "execution_count": 14,
   "id": "3e9b2c11",
   "metadata": {},
   "outputs": [
    {
     "data": {
      "text/plain": [
       "NoneType"
      ]
     },
     "execution_count": 14,
     "metadata": {},
     "output_type": "execute_result"
    }
   ],
   "source": [
    "type(s)"
   ]
  },
  {
   "cell_type": "code",
   "execution_count": null,
   "id": "c8efe9d8",
   "metadata": {},
   "outputs": [],
   "source": []
  }
 ],
 "metadata": {
  "kernelspec": {
   "display_name": "Python 3",
   "language": "python",
   "name": "python3"
  },
  "language_info": {
   "codemirror_mode": {
    "name": "ipython",
    "version": 3
   },
   "file_extension": ".py",
   "mimetype": "text/x-python",
   "name": "python",
   "nbconvert_exporter": "python",
   "pygments_lexer": "ipython3",
   "version": "3.9.2"
  }
 },
 "nbformat": 4,
 "nbformat_minor": 5
}
