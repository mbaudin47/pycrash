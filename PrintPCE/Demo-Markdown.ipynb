{
 "cells": [
  {
   "cell_type": "code",
   "execution_count": 1,
   "id": "hidden-magazine",
   "metadata": {},
   "outputs": [],
   "source": [
    "from IPython.display import Markdown"
   ]
  },
  {
   "cell_type": "code",
   "execution_count": 9,
   "id": "nutritional-conversion",
   "metadata": {},
   "outputs": [
    {
     "name": "stdout",
     "output_type": "stream",
     "text": [
      "- item\n",
      "- item\n",
      "\n",
      "| Index | Value |\n",
      "|-------|-------|\n",
      "|     0 |     1 |\n",
      "|     1 |     2 |\n",
      "|     2 |     3 |\n",
      "|     3 |     4 |\n",
      "|     4 |     5 |\n",
      "\n",
      "\n"
     ]
    }
   ],
   "source": [
    "markdown = \"\"\n",
    "# Itemized list\n",
    "markdown += \"- item\\n\"\n",
    "markdown += \"- item\\n\"\n",
    "markdown += \"\\n\"\n",
    "# Table\n",
    "markdown += \"| Index | Value |\\n\"\n",
    "markdown += \"|-------|-------|\\n\"\n",
    "n = 5\n",
    "for i in range(n):\n",
    "    markdown += \"| %5s | %5s |\\n\" % (i, 1 + i)\n",
    "markdown += \"\\n\"\n",
    "print(markdown)"
   ]
  },
  {
   "cell_type": "code",
   "execution_count": 3,
   "id": "integrated-interstate",
   "metadata": {},
   "outputs": [
    {
     "data": {
      "text/markdown": [
       "- item\n",
       "- item\n",
       "\n",
       "| Index | Variable |\n",
       "|-------|----------|\n",
       "| 0 | 1 |\n",
       "| 1 | 2 |\n",
       "| 2 | 3 |\n",
       "| 3 | 4 |\n",
       "| 4 | 5 |\n",
       "\n"
      ],
      "text/plain": [
       "<IPython.core.display.Markdown object>"
      ]
     },
     "execution_count": 3,
     "metadata": {},
     "output_type": "execute_result"
    }
   ],
   "source": [
    "Markdown(markdown)"
   ]
  },
  {
   "cell_type": "code",
   "execution_count": null,
   "id": "instrumental-spanish",
   "metadata": {},
   "outputs": [],
   "source": []
  }
 ],
 "metadata": {
  "kernelspec": {
   "display_name": "Python 3",
   "language": "python",
   "name": "python3"
  },
  "language_info": {
   "codemirror_mode": {
    "name": "ipython",
    "version": 3
   },
   "file_extension": ".py",
   "mimetype": "text/x-python",
   "name": "python",
   "nbconvert_exporter": "python",
   "pygments_lexer": "ipython3",
   "version": "3.9.2"
  }
 },
 "nbformat": 4,
 "nbformat_minor": 5
}
