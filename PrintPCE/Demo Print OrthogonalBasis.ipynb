{
 "cells": [
  {
   "cell_type": "code",
   "execution_count": 1,
   "id": "bright-subsection",
   "metadata": {},
   "outputs": [],
   "source": [
    "import openturns as ot\n",
    "from openturns.usecases import flood_model\n",
    "from IPython.display import display"
   ]
  },
  {
   "cell_type": "code",
   "execution_count": 2,
   "id": "distant-hurricane",
   "metadata": {},
   "outputs": [
    {
     "name": "stdout",
     "output_type": "stream",
     "text": [
      "1.21dev\n"
     ]
    }
   ],
   "source": [
    "print(ot.__version__)"
   ]
  },
  {
   "cell_type": "code",
   "execution_count": 3,
   "id": "effective-leeds",
   "metadata": {},
   "outputs": [
    {
     "data": {
      "text/plain": [
       "[class=TruncatedDistribution name=Q distribution=class=Gumbel name=Gumbel dimension=1 beta=558 gamma=1013 bounds=class=Interval name=Unnamed dimension=1 lower bound=class=Point name=Unnamed dimension=1 values=[0] upper bound=class=Point name=Unnamed dimension=1 values=[19000.8] finite lower bound=[1] finite upper bound=[0] thresholdRealization=0.5,\n",
       " class=TruncatedDistribution name=Ks distribution=class=Normal name=Normal dimension=1 mean=class=Point name=Unnamed dimension=1 values=[30] sigma=class=Point name=Unnamed dimension=1 values=[7.5] correlationMatrix=class=CorrelationMatrix dimension=1 implementation=class=MatrixImplementation name=Unnamed rows=1 columns=1 values=[1] bounds=class=Interval name=Unnamed dimension=1 lower bound=class=Point name=Unnamed dimension=1 values=[0] upper bound=class=Point name=Unnamed dimension=1 values=[87.3797] finite lower bound=[1] finite upper bound=[0] thresholdRealization=0.5,\n",
       " class=Uniform name=Zv dimension=1 a=49 b=51,\n",
       " class=Uniform name=Zm dimension=1 a=54 b=56]"
      ]
     },
     "execution_count": 3,
     "metadata": {},
     "output_type": "execute_result"
    }
   ],
   "source": [
    "sampleSize = 500\n",
    "totalDegree = 7\n",
    "fm = flood_model.FloodModel()\n",
    "inputDescription = fm.model.getInputDescription()\n",
    "marginals = [fm.distribution.getMarginal(i) for i in range(fm.dim)]\n",
    "marginals"
   ]
  },
  {
   "cell_type": "markdown",
   "id": "alike-adjustment",
   "metadata": {},
   "source": [
    "## OrthogonalProductPolynomialFactory"
   ]
  },
  {
   "cell_type": "code",
   "execution_count": 4,
   "id": "destroyed-indonesia",
   "metadata": {},
   "outputs": [
    {
     "name": "stdout",
     "output_type": "stream",
     "text": [
      "<class 'openturns.orthogonalbasis.OrthogonalProductPolynomialFactory'>\n"
     ]
    },
    {
     "data": {
      "text/html": [
       "<ul>\n",
       "  <li>dimension: 4</li>\n",
       "  <li>enumerate function: class=LinearEnumerateFunction dimension=4</li>\n",
       "</ul>\n",
       "\n",
       "<table>\n",
       "<tr>\n",
       "  <th>Index</th>\n",
       "  <th>Name</th>\n",
       "  <th>Distribution</th>\n",
       "  <th>Univariate polynomial</th>\n",
       "</tr>\n",
       "<tr>\n",
       "  <td>0</td>\n",
       "  <td>Q</td>\n",
       "  <td>TruncatedDistribution</td>\n",
       "  <td>AdaptiveStieltjesAlgorithm</td>\n",
       "</tr>\n",
       "<tr>\n",
       "  <td>1</td>\n",
       "  <td>Ks</td>\n",
       "  <td>TruncatedDistribution</td>\n",
       "  <td>AdaptiveStieltjesAlgorithm</td>\n",
       "</tr>\n",
       "<tr>\n",
       "  <td>2</td>\n",
       "  <td>Zv</td>\n",
       "  <td>Uniform</td>\n",
       "  <td>LegendreFactory</td>\n",
       "</tr>\n",
       "<tr>\n",
       "  <td>3</td>\n",
       "  <td>Zm</td>\n",
       "  <td>Uniform</td>\n",
       "  <td>LegendreFactory</td>\n",
       "</tr>\n",
       "</table>\n"
      ],
      "text/plain": [
       "class=OrthogonalProductPolynomialFactory univariate polynomial collection=[class=OrthogonalUniVariatePolynomialFamily implementation=class=StandardDistributionPolynomialFactory hasSpecificFamily=false orthonormalization algorithm=class=OrthonormalizationAlgorithm implementation=class=AdaptiveStieltjesAlgorithm measure=class=TruncatedDistribution name=Q distribution=class=Gumbel name=Gumbel dimension=1 beta=558 gamma=1013 bounds=class=Interval name=Unnamed dimension=1 lower bound=class=Point name=Unnamed dimension=1 values=[0] upper bound=class=Point name=Unnamed dimension=1 values=[19000.8] finite lower bound=[1] finite upper bound=[0] thresholdRealization=0.5 monicRecurrenceCoefficients=class=Sample name=Unnamed implementation=class=SampleImplementation name=Unnamed size=2 dimension=3 data=[[1,-1338.13,0],[1,-2163.52,-508950]] monicSquaredNorms=class=Point name=Unnamed dimension=2 values=[1,508950] isElliptical=false,class=OrthogonalUniVariatePolynomialFamily implementation=class=StandardDistributionPolynomialFactory hasSpecificFamily=false orthonormalization algorithm=class=OrthonormalizationAlgorithm implementation=class=AdaptiveStieltjesAlgorithm measure=class=TruncatedDistribution name=Ks distribution=class=Normal name=Normal dimension=1 mean=class=Point name=Unnamed dimension=1 values=[30] sigma=class=Point name=Unnamed dimension=1 values=[7.5] correlationMatrix=class=CorrelationMatrix dimension=1 implementation=class=MatrixImplementation name=Unnamed rows=1 columns=1 values=[1] bounds=class=Interval name=Unnamed dimension=1 lower bound=class=Point name=Unnamed dimension=1 values=[0] upper bound=class=Point name=Unnamed dimension=1 values=[87.3797] finite lower bound=[1] finite upper bound=[0] thresholdRealization=0.5 monicRecurrenceCoefficients=class=Sample name=Unnamed implementation=class=SampleImplementation name=Unnamed size=2 dimension=3 data=[[1,-30.001,0],[1,-30.0161,-56.2199]] monicSquaredNorms=class=Point name=Unnamed dimension=2 values=[1,56.2199] isElliptical=false,class=OrthogonalUniVariatePolynomialFamily implementation=class=StandardDistributionPolynomialFactory hasSpecificFamily=true specificFamily=class=OrthogonalUniVariatePolynomialFamily implementation=class=LegendreFactory measure=class=Uniform name=Uniform dimension=1 a=-1 b=1,class=OrthogonalUniVariatePolynomialFamily implementation=class=StandardDistributionPolynomialFactory hasSpecificFamily=true specificFamily=class=OrthogonalUniVariatePolynomialFamily implementation=class=LegendreFactory measure=class=Uniform name=Uniform dimension=1 a=-1 b=1] measure=class=ComposedDistribution name=ComposedDistribution dimension=4 copula=class=IndependentCopula name=IndependentCopula dimension=4 marginal[0]=class=TruncatedDistribution name=Q distribution=class=Gumbel name=Gumbel dimension=1 beta=558 gamma=1013 bounds=class=Interval name=Unnamed dimension=1 lower bound=class=Point name=Unnamed dimension=1 values=[0] upper bound=class=Point name=Unnamed dimension=1 values=[19000.8] finite lower bound=[1] finite upper bound=[0] thresholdRealization=0.5 marginal[1]=class=TruncatedDistribution name=Ks distribution=class=Normal name=Normal dimension=1 mean=class=Point name=Unnamed dimension=1 values=[30] sigma=class=Point name=Unnamed dimension=1 values=[7.5] correlationMatrix=class=CorrelationMatrix dimension=1 implementation=class=MatrixImplementation name=Unnamed rows=1 columns=1 values=[1] bounds=class=Interval name=Unnamed dimension=1 lower bound=class=Point name=Unnamed dimension=1 values=[0] upper bound=class=Point name=Unnamed dimension=1 values=[87.3797] finite lower bound=[1] finite upper bound=[0] thresholdRealization=0.5 marginal[2]=class=Uniform name=Uniform dimension=1 a=-1 b=1 marginal[3]=class=Uniform name=Uniform dimension=1 a=-1 b=1"
      ]
     },
     "execution_count": 4,
     "metadata": {},
     "output_type": "execute_result"
    }
   ],
   "source": [
    "orthogonalProduct = ot.OrthogonalProductPolynomialFactory(marginals)\n",
    "print(type(orthogonalProduct))\n",
    "orthogonalProduct"
   ]
  },
  {
   "cell_type": "code",
   "execution_count": 5,
   "id": "furnished-member",
   "metadata": {},
   "outputs": [
    {
     "name": "stdout",
     "output_type": "stream",
     "text": [
      "OrthogonalProductPolynomialFactory\n",
      "- measure=Distribution\n",
      "- isOrthogonal=true\n",
      "- enumerateFunction=class=LinearEnumerateFunction dimension=4\n",
      "\n",
      "| Index | Type |\n",
      "|-------|------|\n",
      "|     0 | class=StandardDistributionPolynomialFactory hasSpecificFamily=false orthonormalization algorithm=class=OrthonormalizationAlgorithm implementation=class=AdaptiveStieltjesAlgorithm measure=class=TruncatedDistribution name=Q distribution=class=Gumbel name=Gumbel dimension=1 beta=558 gamma=1013 bounds=class=Interval name=Unnamed dimension=1 lower bound=class=Point name=Unnamed dimension=1 values=[0] upper bound=class=Point name=Unnamed dimension=1 values=[19000.8] finite lower bound=[1] finite upper bound=[0] thresholdRealization=0.5 monicRecurrenceCoefficients=class=Sample name=Unnamed implementation=class=SampleImplementation name=Unnamed size=2 dimension=3 data=[[1,-1338.13,0],[1,-2163.52,-508950]] monicSquaredNorms=class=Point name=Unnamed dimension=2 values=[1,508950] isElliptical=false |\n",
      "|     1 | class=StandardDistributionPolynomialFactory hasSpecificFamily=false orthonormalization algorithm=class=OrthonormalizationAlgorithm implementation=class=AdaptiveStieltjesAlgorithm measure=class=TruncatedDistribution name=Ks distribution=class=Normal name=Normal dimension=1 mean=class=Point name=Unnamed dimension=1 values=[30] sigma=class=Point name=Unnamed dimension=1 values=[7.5] correlationMatrix=class=CorrelationMatrix dimension=1 implementation=class=MatrixImplementation name=Unnamed rows=1 columns=1 values=[1] bounds=class=Interval name=Unnamed dimension=1 lower bound=class=Point name=Unnamed dimension=1 values=[0] upper bound=class=Point name=Unnamed dimension=1 values=[87.3797] finite lower bound=[1] finite upper bound=[0] thresholdRealization=0.5 monicRecurrenceCoefficients=class=Sample name=Unnamed implementation=class=SampleImplementation name=Unnamed size=2 dimension=3 data=[[1,-30.001,0],[1,-30.0161,-56.2199]] monicSquaredNorms=class=Point name=Unnamed dimension=2 values=[1,56.2199] isElliptical=false |\n",
      "|     2 | class=StandardDistributionPolynomialFactory hasSpecificFamily=true specificFamily=class=OrthogonalUniVariatePolynomialFamily implementation=class=LegendreFactory measure=class=Uniform name=Uniform dimension=1 a=-1 b=1 |\n",
      "|     3 | class=StandardDistributionPolynomialFactory hasSpecificFamily=true specificFamily=class=OrthogonalUniVariatePolynomialFamily implementation=class=LegendreFactory measure=class=Uniform name=Uniform dimension=1 a=-1 b=1 |\n",
      "\n"
     ]
    }
   ],
   "source": [
    "print(orthogonalProduct)"
   ]
  },
  {
   "cell_type": "code",
   "execution_count": 6,
   "id": "coral-forwarding",
   "metadata": {},
   "outputs": [
    {
     "name": "stdout",
     "output_type": "stream",
     "text": [
      "0  :  AdaptiveStieltjesAlgorithm\n",
      "1  :  AdaptiveStieltjesAlgorithm\n",
      "2  :  LegendreFactory\n",
      "3  :  LegendreFactory\n"
     ]
    }
   ],
   "source": [
    "polynomialCollection = orthogonalProduct.getPolynomialFamilyCollection()\n",
    "for i in range(len(polynomialCollection)):\n",
    "    univariatePolynomial = polynomialCollection[i]\n",
    "    univariateImplementation = univariatePolynomial.getImplementation()\n",
    "    hasSpecificFamily = univariateImplementation.getHasSpecificFamily()\n",
    "    if hasSpecificFamily:\n",
    "        marginalPolynomial = univariateImplementation.getSpecificFamily()\n",
    "        polynomialImplementation = marginalPolynomial.getImplementation()\n",
    "        print(i, \" : \", polynomialImplementation.getClassName())\n",
    "    else:\n",
    "        orthonormalizationAlgorithm = univariateImplementation.getOrthonormalizationAlgorithm()\n",
    "        orthonormalizationImplementation = orthonormalizationAlgorithm.getImplementation()\n",
    "        print(i, \" : \", orthonormalizationImplementation.getClassName())"
   ]
  },
  {
   "cell_type": "code",
   "execution_count": 7,
   "id": "departmental-branch",
   "metadata": {},
   "outputs": [
    {
     "data": {
      "text/html": [
       "TruncatedDistribution(Normal(mu = 30, sigma = 7.5)description=[X0], bounds = [0, (87.3797) +inf[)"
      ],
      "text/plain": [
       "class=TruncatedDistribution name=Ks distribution=class=Normal name=Normal dimension=1 mean=class=Point name=Unnamed dimension=1 values=[30] sigma=class=Point name=Unnamed dimension=1 values=[7.5] correlationMatrix=class=CorrelationMatrix dimension=1 implementation=class=MatrixImplementation name=Unnamed rows=1 columns=1 values=[1] bounds=class=Interval name=Unnamed dimension=1 lower bound=class=Point name=Unnamed dimension=1 values=[0] upper bound=class=Point name=Unnamed dimension=1 values=[87.3797] finite lower bound=[1] finite upper bound=[0] thresholdRealization=0.5"
      ]
     },
     "execution_count": 7,
     "metadata": {},
     "output_type": "execute_result"
    }
   ],
   "source": [
    "orthonormalizationImplementation.getMeasure()"
   ]
  },
  {
   "cell_type": "code",
   "execution_count": 8,
   "id": "musical-indonesian",
   "metadata": {},
   "outputs": [
    {
     "data": {
      "text/plain": [
       "'AdaptiveStieltjesAlgorithm'"
      ]
     },
     "execution_count": 8,
     "metadata": {},
     "output_type": "execute_result"
    }
   ],
   "source": [
    "orthonormalizationImplementation.getClassName()"
   ]
  },
  {
   "cell_type": "code",
   "execution_count": 9,
   "id": "supported-frost",
   "metadata": {},
   "outputs": [
    {
     "data": {
      "text/html": [
       "<p>class=AdaptiveStieltjesAlgorithm measure=class=TruncatedDistribution name=Ks distribution=class=Normal name=Normal dimension=1 mean=class=Point name=Unnamed dimension=1 values=[30] sigma=class=Point name=Unnamed dimension=1 values=[7.5] correlationMatrix=class=CorrelationMatrix dimension=1 implementation=class=MatrixImplementation name=Unnamed rows=1 columns=1 values=[1] bounds=class=Interval name=Unnamed dimension=1 lower bound=class=Point name=Unnamed dimension=1 values=[0] upper bound=class=Point name=Unnamed dimension=1 values=[87.3797] finite lower bound=[1] finite upper bound=[0] thresholdRealization=0.5 monicRecurrenceCoefficients=class=Sample name=Unnamed implementation=class=SampleImplementation name=Unnamed size=2 dimension=3 data=[[1,-30.001,0],[1,-30.0161,-56.2199]] monicSquaredNorms=class=Point name=Unnamed dimension=2 values=[1,56.2199] isElliptical=false</p>"
      ],
      "text/plain": [
       "class=AdaptiveStieltjesAlgorithm measure=class=TruncatedDistribution name=Ks distribution=class=Normal name=Normal dimension=1 mean=class=Point name=Unnamed dimension=1 values=[30] sigma=class=Point name=Unnamed dimension=1 values=[7.5] correlationMatrix=class=CorrelationMatrix dimension=1 implementation=class=MatrixImplementation name=Unnamed rows=1 columns=1 values=[1] bounds=class=Interval name=Unnamed dimension=1 lower bound=class=Point name=Unnamed dimension=1 values=[0] upper bound=class=Point name=Unnamed dimension=1 values=[87.3797] finite lower bound=[1] finite upper bound=[0] thresholdRealization=0.5 monicRecurrenceCoefficients=class=Sample name=Unnamed implementation=class=SampleImplementation name=Unnamed size=2 dimension=3 data=[[1,-30.001,0],[1,-30.0161,-56.2199]] monicSquaredNorms=class=Point name=Unnamed dimension=2 values=[1,56.2199] isElliptical=false"
      ]
     },
     "execution_count": 9,
     "metadata": {},
     "output_type": "execute_result"
    }
   ],
   "source": [
    "orthonormalizationImplementation"
   ]
  },
  {
   "cell_type": "markdown",
   "id": "gentle-cinema",
   "metadata": {},
   "source": [
    "## OrthogonalUniVariatePolynomialFamily"
   ]
  },
  {
   "cell_type": "code",
   "execution_count": 10,
   "id": "existing-string",
   "metadata": {},
   "outputs": [
    {
     "name": "stdout",
     "output_type": "stream",
     "text": [
      "<class 'openturns.orthogonalbasis.OrthogonalUniVariatePolynomialFamily'>\n"
     ]
    },
    {
     "data": {
      "text/html": [
       "<p>class=StandardDistributionPolynomialFactory hasSpecificFamily=true specificFamily=class=OrthogonalUniVariatePolynomialFamily implementation=class=LegendreFactory measure=class=Uniform name=Uniform dimension=1 a=-1 b=1</p>"
      ],
      "text/plain": [
       "class=OrthogonalUniVariatePolynomialFamily implementation=class=StandardDistributionPolynomialFactory hasSpecificFamily=true specificFamily=class=OrthogonalUniVariatePolynomialFamily implementation=class=LegendreFactory measure=class=Uniform name=Uniform dimension=1 a=-1 b=1"
      ]
     },
     "execution_count": 10,
     "metadata": {},
     "output_type": "execute_result"
    }
   ],
   "source": [
    "print(type(univariatePolynomial))\n",
    "univariatePolynomial"
   ]
  },
  {
   "cell_type": "markdown",
   "id": "athletic-billion",
   "metadata": {},
   "source": [
    "## StandardDistributionPolynomialFactory"
   ]
  },
  {
   "cell_type": "code",
   "execution_count": 11,
   "id": "concerned-bronze",
   "metadata": {},
   "outputs": [
    {
     "data": {
      "text/html": [
       "<p>class=StandardDistributionPolynomialFactory hasSpecificFamily=true specificFamily=class=OrthogonalUniVariatePolynomialFamily implementation=class=LegendreFactory measure=class=Uniform name=Uniform dimension=1 a=-1 b=1</p>"
      ],
      "text/plain": [
       "class=StandardDistributionPolynomialFactory hasSpecificFamily=true specificFamily=class=OrthogonalUniVariatePolynomialFamily implementation=class=LegendreFactory measure=class=Uniform name=Uniform dimension=1 a=-1 b=1"
      ]
     },
     "execution_count": 11,
     "metadata": {},
     "output_type": "execute_result"
    }
   ],
   "source": [
    "polynomialImplementation = univariatePolynomial.getImplementation()\n",
    "type(polynomialImplementation)\n",
    "polynomialImplementation"
   ]
  },
  {
   "cell_type": "markdown",
   "id": "tested-material",
   "metadata": {},
   "source": [
    "**Question** : \n",
    "- pourquoi ne peut-on pas descendre plus bas dans la hiérarchie de classes? Pourquoi ne peut-on pas récupérer les attributs hasSpecificFamily, specificFamily, etc.? Parce que les accesseurs ne sont pas implémentés."
   ]
  },
  {
   "cell_type": "code",
   "execution_count": 12,
   "id": "numeric-transport",
   "metadata": {},
   "outputs": [
    {
     "data": {
      "text/html": [
       "<p>class=StandardDistributionPolynomialFactory hasSpecificFamily=true specificFamily=class=OrthogonalUniVariatePolynomialFamily implementation=class=LegendreFactory measure=class=Uniform name=Uniform dimension=1 a=-1 b=1</p>"
      ],
      "text/plain": [
       "class=StandardDistributionPolynomialFactory hasSpecificFamily=true specificFamily=class=OrthogonalUniVariatePolynomialFamily implementation=class=LegendreFactory measure=class=Uniform name=Uniform dimension=1 a=-1 b=1"
      ]
     },
     "execution_count": 12,
     "metadata": {},
     "output_type": "execute_result"
    }
   ],
   "source": [
    "standardDistributionPolynomial = ot.StandardDistributionPolynomialFactory(ot.Uniform())\n",
    "standardDistributionPolynomial"
   ]
  },
  {
   "cell_type": "code",
   "execution_count": 13,
   "id": "spoken-minutes",
   "metadata": {},
   "outputs": [
    {
     "data": {
      "text/plain": [
       "True"
      ]
     },
     "execution_count": 13,
     "metadata": {},
     "output_type": "execute_result"
    }
   ],
   "source": [
    "standardDistributionPolynomial.getHasSpecificFamily()"
   ]
  },
  {
   "cell_type": "code",
   "execution_count": 14,
   "id": "chronic-church",
   "metadata": {},
   "outputs": [
    {
     "data": {
      "text/html": [
       "<p>class=OrthonormalizationAlgorithm implementation=class=AdaptiveStieltjesAlgorithm measure=class=Uniform name=Uniform dimension=1 a=-1 b=1 monicRecurrenceCoefficients=class=Sample name=Unnamed implementation=class=SampleImplementation name=Unnamed size=1 dimension=3 data=[[1,0,0]] monicSquaredNorms=class=Point name=Unnamed dimension=1 values=[1] isElliptical=true</p>"
      ],
      "text/plain": [
       "class=OrthonormalizationAlgorithm implementation=class=AdaptiveStieltjesAlgorithm measure=class=Uniform name=Uniform dimension=1 a=-1 b=1 monicRecurrenceCoefficients=class=Sample name=Unnamed implementation=class=SampleImplementation name=Unnamed size=1 dimension=3 data=[[1,0,0]] monicSquaredNorms=class=Point name=Unnamed dimension=1 values=[1] isElliptical=true"
      ]
     },
     "execution_count": 14,
     "metadata": {},
     "output_type": "execute_result"
    }
   ],
   "source": [
    "standardDistributionPolynomial.getOrthonormalizationAlgorithm()"
   ]
  },
  {
   "cell_type": "code",
   "execution_count": 15,
   "id": "cellular-schema",
   "metadata": {},
   "outputs": [
    {
     "data": {
      "text/html": [
       "<p>class=LegendreFactory measure=class=Uniform name=Uniform dimension=1 a=-1 b=1</p>"
      ],
      "text/plain": [
       "class=OrthogonalUniVariatePolynomialFamily implementation=class=LegendreFactory measure=class=Uniform name=Uniform dimension=1 a=-1 b=1"
      ]
     },
     "execution_count": 15,
     "metadata": {},
     "output_type": "execute_result"
    }
   ],
   "source": [
    "standardDistributionPolynomial.getSpecificFamily()"
   ]
  },
  {
   "cell_type": "code",
   "execution_count": 16,
   "id": "cubic-round",
   "metadata": {},
   "outputs": [
    {
     "data": {
      "text/html": [
       "<p>class=StandardDistributionPolynomialFactory hasSpecificFamily=false orthonormalization algorithm=class=OrthonormalizationAlgorithm implementation=class=AdaptiveStieltjesAlgorithm measure=class=TruncatedDistribution name=TruncatedDistribution distribution=class=Normal name=Normal dimension=1 mean=class=Point name=Unnamed dimension=1 values=[0] sigma=class=Point name=Unnamed dimension=1 values=[1] correlationMatrix=class=CorrelationMatrix dimension=1 implementation=class=MatrixImplementation name=Unnamed rows=1 columns=1 values=[1] bounds=class=Interval name=Unnamed dimension=1 lower bound=class=Point name=Unnamed dimension=1 values=[-1] upper bound=class=Point name=Unnamed dimension=1 values=[2] finite lower bound=[1] finite upper bound=[1] thresholdRealization=0.5 monicRecurrenceCoefficients=class=Sample name=Unnamed implementation=class=SampleImplementation name=Unnamed size=2 dimension=3 data=[[1,-0.229637,0],[1,-0.462175,-0.519763]] monicSquaredNorms=class=Point name=Unnamed dimension=2 values=[1,0.519763] isElliptical=false</p>"
      ],
      "text/plain": [
       "class=StandardDistributionPolynomialFactory hasSpecificFamily=false orthonormalization algorithm=class=OrthonormalizationAlgorithm implementation=class=AdaptiveStieltjesAlgorithm measure=class=TruncatedDistribution name=TruncatedDistribution distribution=class=Normal name=Normal dimension=1 mean=class=Point name=Unnamed dimension=1 values=[0] sigma=class=Point name=Unnamed dimension=1 values=[1] correlationMatrix=class=CorrelationMatrix dimension=1 implementation=class=MatrixImplementation name=Unnamed rows=1 columns=1 values=[1] bounds=class=Interval name=Unnamed dimension=1 lower bound=class=Point name=Unnamed dimension=1 values=[-1] upper bound=class=Point name=Unnamed dimension=1 values=[2] finite lower bound=[1] finite upper bound=[1] thresholdRealization=0.5 monicRecurrenceCoefficients=class=Sample name=Unnamed implementation=class=SampleImplementation name=Unnamed size=2 dimension=3 data=[[1,-0.229637,0],[1,-0.462175,-0.519763]] monicSquaredNorms=class=Point name=Unnamed dimension=2 values=[1,0.519763] isElliptical=false"
      ]
     },
     "execution_count": 16,
     "metadata": {},
     "output_type": "execute_result"
    }
   ],
   "source": [
    "standardDistributionPolynomial = ot.StandardDistributionPolynomialFactory(ot.TruncatedDistribution(ot.Normal(), -1.0, 2.0))\n",
    "standardDistributionPolynomial"
   ]
  },
  {
   "cell_type": "code",
   "execution_count": 17,
   "id": "prostate-player",
   "metadata": {},
   "outputs": [
    {
     "data": {
      "text/html": [
       "<p>class=HermiteFactory measure=class=Normal name=Normal dimension=1 mean=class=Point name=Unnamed dimension=1 values=[0] sigma=class=Point name=Unnamed dimension=1 values=[1] correlationMatrix=class=CorrelationMatrix dimension=1 implementation=class=MatrixImplementation name=Unnamed rows=1 columns=1 values=[1]</p>"
      ],
      "text/plain": [
       "class=OrthogonalUniVariatePolynomialFamily implementation=class=HermiteFactory measure=class=Normal name=Normal dimension=1 mean=class=Point name=Unnamed dimension=1 values=[0] sigma=class=Point name=Unnamed dimension=1 values=[1] correlationMatrix=class=CorrelationMatrix dimension=1 implementation=class=MatrixImplementation name=Unnamed rows=1 columns=1 values=[1]"
      ]
     },
     "execution_count": 17,
     "metadata": {},
     "output_type": "execute_result"
    }
   ],
   "source": [
    "standardDistributionPolynomial.getSpecificFamily()"
   ]
  },
  {
   "cell_type": "code",
   "execution_count": 18,
   "id": "surprising-taiwan",
   "metadata": {},
   "outputs": [
    {
     "data": {
      "text/plain": [
       "False"
      ]
     },
     "execution_count": 18,
     "metadata": {},
     "output_type": "execute_result"
    }
   ],
   "source": [
    "standardDistributionPolynomial.getHasSpecificFamily()"
   ]
  },
  {
   "cell_type": "code",
   "execution_count": 19,
   "id": "regular-bookmark",
   "metadata": {},
   "outputs": [
    {
     "data": {
      "text/html": [
       "<p>class=OrthonormalizationAlgorithm implementation=class=AdaptiveStieltjesAlgorithm measure=class=TruncatedDistribution name=TruncatedDistribution distribution=class=Normal name=Normal dimension=1 mean=class=Point name=Unnamed dimension=1 values=[0] sigma=class=Point name=Unnamed dimension=1 values=[1] correlationMatrix=class=CorrelationMatrix dimension=1 implementation=class=MatrixImplementation name=Unnamed rows=1 columns=1 values=[1] bounds=class=Interval name=Unnamed dimension=1 lower bound=class=Point name=Unnamed dimension=1 values=[-1] upper bound=class=Point name=Unnamed dimension=1 values=[2] finite lower bound=[1] finite upper bound=[1] thresholdRealization=0.5 monicRecurrenceCoefficients=class=Sample name=Unnamed implementation=class=SampleImplementation name=Unnamed size=2 dimension=3 data=[[1,-0.229637,0],[1,-0.462175,-0.519763]] monicSquaredNorms=class=Point name=Unnamed dimension=2 values=[1,0.519763] isElliptical=false</p>"
      ],
      "text/plain": [
       "class=OrthonormalizationAlgorithm implementation=class=AdaptiveStieltjesAlgorithm measure=class=TruncatedDistribution name=TruncatedDistribution distribution=class=Normal name=Normal dimension=1 mean=class=Point name=Unnamed dimension=1 values=[0] sigma=class=Point name=Unnamed dimension=1 values=[1] correlationMatrix=class=CorrelationMatrix dimension=1 implementation=class=MatrixImplementation name=Unnamed rows=1 columns=1 values=[1] bounds=class=Interval name=Unnamed dimension=1 lower bound=class=Point name=Unnamed dimension=1 values=[-1] upper bound=class=Point name=Unnamed dimension=1 values=[2] finite lower bound=[1] finite upper bound=[1] thresholdRealization=0.5 monicRecurrenceCoefficients=class=Sample name=Unnamed implementation=class=SampleImplementation name=Unnamed size=2 dimension=3 data=[[1,-0.229637,0],[1,-0.462175,-0.519763]] monicSquaredNorms=class=Point name=Unnamed dimension=2 values=[1,0.519763] isElliptical=false"
      ]
     },
     "execution_count": 19,
     "metadata": {},
     "output_type": "execute_result"
    }
   ],
   "source": [
    "orthonormalizationAlgorithm = standardDistributionPolynomial.getOrthonormalizationAlgorithm()\n",
    "orthonormalizationAlgorithm"
   ]
  },
  {
   "cell_type": "code",
   "execution_count": 20,
   "id": "independent-melbourne",
   "metadata": {},
   "outputs": [
    {
     "data": {
      "text/plain": [
       "'OrthonormalizationAlgorithm'"
      ]
     },
     "execution_count": 20,
     "metadata": {},
     "output_type": "execute_result"
    }
   ],
   "source": [
    "orthonormalizationAlgorithm.getClassName()"
   ]
  },
  {
   "cell_type": "code",
   "execution_count": 21,
   "id": "metric-controversy",
   "metadata": {},
   "outputs": [
    {
     "data": {
      "text/html": [
       "<p>class=AdaptiveStieltjesAlgorithm measure=class=TruncatedDistribution name=TruncatedDistribution distribution=class=Normal name=Normal dimension=1 mean=class=Point name=Unnamed dimension=1 values=[0] sigma=class=Point name=Unnamed dimension=1 values=[1] correlationMatrix=class=CorrelationMatrix dimension=1 implementation=class=MatrixImplementation name=Unnamed rows=1 columns=1 values=[1] bounds=class=Interval name=Unnamed dimension=1 lower bound=class=Point name=Unnamed dimension=1 values=[-1] upper bound=class=Point name=Unnamed dimension=1 values=[2] finite lower bound=[1] finite upper bound=[1] thresholdRealization=0.5 monicRecurrenceCoefficients=class=Sample name=Unnamed implementation=class=SampleImplementation name=Unnamed size=2 dimension=3 data=[[1,-0.229637,0],[1,-0.462175,-0.519763]] monicSquaredNorms=class=Point name=Unnamed dimension=2 values=[1,0.519763] isElliptical=false</p>"
      ],
      "text/plain": [
       "class=AdaptiveStieltjesAlgorithm measure=class=TruncatedDistribution name=TruncatedDistribution distribution=class=Normal name=Normal dimension=1 mean=class=Point name=Unnamed dimension=1 values=[0] sigma=class=Point name=Unnamed dimension=1 values=[1] correlationMatrix=class=CorrelationMatrix dimension=1 implementation=class=MatrixImplementation name=Unnamed rows=1 columns=1 values=[1] bounds=class=Interval name=Unnamed dimension=1 lower bound=class=Point name=Unnamed dimension=1 values=[-1] upper bound=class=Point name=Unnamed dimension=1 values=[2] finite lower bound=[1] finite upper bound=[1] thresholdRealization=0.5 monicRecurrenceCoefficients=class=Sample name=Unnamed implementation=class=SampleImplementation name=Unnamed size=2 dimension=3 data=[[1,-0.229637,0],[1,-0.462175,-0.519763]] monicSquaredNorms=class=Point name=Unnamed dimension=2 values=[1,0.519763] isElliptical=false"
      ]
     },
     "execution_count": 21,
     "metadata": {},
     "output_type": "execute_result"
    }
   ],
   "source": [
    "orthonormalizationImplementation = orthonormalizationAlgorithm.getImplementation()\n",
    "orthonormalizationImplementation"
   ]
  },
  {
   "cell_type": "markdown",
   "id": "minus-grove",
   "metadata": {},
   "source": [
    "## AdaptiveStieltjesAlgorithm"
   ]
  },
  {
   "cell_type": "code",
   "execution_count": 22,
   "id": "elegant-saver",
   "metadata": {},
   "outputs": [
    {
     "data": {
      "text/html": [
       "<p>class=AdaptiveStieltjesAlgorithm measure=class=Uniform name=Uniform dimension=1 a=-1 b=1 monicRecurrenceCoefficients=class=Sample name=Unnamed implementation=class=SampleImplementation name=Unnamed size=1 dimension=3 data=[[1,0,0]] monicSquaredNorms=class=Point name=Unnamed dimension=1 values=[1] isElliptical=true</p>"
      ],
      "text/plain": [
       "class=AdaptiveStieltjesAlgorithm measure=class=Uniform name=Uniform dimension=1 a=-1 b=1 monicRecurrenceCoefficients=class=Sample name=Unnamed implementation=class=SampleImplementation name=Unnamed size=1 dimension=3 data=[[1,0,0]] monicSquaredNorms=class=Point name=Unnamed dimension=1 values=[1] isElliptical=true"
      ]
     },
     "execution_count": 22,
     "metadata": {},
     "output_type": "execute_result"
    }
   ],
   "source": [
    "orthonormalizationAlgorithm = ot.AdaptiveStieltjesAlgorithm(ot.Uniform())\n",
    "orthonormalizationAlgorithm"
   ]
  },
  {
   "cell_type": "code",
   "execution_count": null,
   "id": "compact-salad",
   "metadata": {},
   "outputs": [],
   "source": []
  },
  {
   "cell_type": "markdown",
   "id": "federal-hartford",
   "metadata": {},
   "source": [
    "## OrthogonalBasis"
   ]
  },
  {
   "cell_type": "code",
   "execution_count": 23,
   "id": "cordless-oliver",
   "metadata": {},
   "outputs": [
    {
     "name": "stdout",
     "output_type": "stream",
     "text": [
      "<class 'openturns.orthogonalbasis.OrthogonalBasis'>\n"
     ]
    },
    {
     "data": {
      "text/html": [
       "<p>OrthogonalProductPolynomialFactory<br>\n",
       "- measure=Distribution<br>\n",
       "- isOrthogonal=true<br>\n",
       "- enumerateFunction=class=LinearEnumerateFunction dimension=4<br>\n",
       "<br>\n",
       "| Index | Type |<br>\n",
       "|-------|------|<br>\n",
       "|     0 | class=StandardDistributionPolynomialFactory hasSpecificFamily=false orthonormalization algorithm=class=OrthonormalizationAlgorithm implementation=class=AdaptiveStieltjesAlgorithm measure=class=TruncatedDistribution name=Q distribution=class=Gumbel name=Gumbel dimension=1 beta=558 gamma=1013 bounds=class=Interval name=Unnamed dimension=1 lower bound=class=Point name=Unnamed dimension=1 values=[0] upper bound=class=Point name=Unnamed dimension=1 values=[19000.8] finite lower bound=[1] finite upper bound=[0] thresholdRealization=0.5 monicRecurrenceCoefficients=class=Sample name=Unnamed implementation=class=SampleImplementation name=Unnamed size=2 dimension=3 data=[[1,-1338.13,0],[1,-2163.52,-508950]] monicSquaredNorms=class=Point name=Unnamed dimension=2 values=[1,508950] isElliptical=false |<br>\n",
       "|     1 | class=StandardDistributionPolynomialFactory hasSpecificFamily=false orthonormalization algorithm=class=OrthonormalizationAlgorithm implementation=class=AdaptiveStieltjesAlgorithm measure=class=TruncatedDistribution name=Ks distribution=class=Normal name=Normal dimension=1 mean=class=Point name=Unnamed dimension=1 values=[30] sigma=class=Point name=Unnamed dimension=1 values=[7.5] correlationMatrix=class=CorrelationMatrix dimension=1 implementation=class=MatrixImplementation name=Unnamed rows=1 columns=1 values=[1] bounds=class=Interval name=Unnamed dimension=1 lower bound=class=Point name=Unnamed dimension=1 values=[0] upper bound=class=Point name=Unnamed dimension=1 values=[87.3797] finite lower bound=[1] finite upper bound=[0] thresholdRealization=0.5 monicRecurrenceCoefficients=class=Sample name=Unnamed implementation=class=SampleImplementation name=Unnamed size=2 dimension=3 data=[[1,-30.001,0],[1,-30.0161,-56.2199]] monicSquaredNorms=class=Point name=Unnamed dimension=2 values=[1,56.2199] isElliptical=false |<br>\n",
       "|     2 | class=StandardDistributionPolynomialFactory hasSpecificFamily=true specificFamily=class=OrthogonalUniVariatePolynomialFamily implementation=class=LegendreFactory measure=class=Uniform name=Uniform dimension=1 a=-1 b=1 |<br>\n",
       "|     3 | class=StandardDistributionPolynomialFactory hasSpecificFamily=true specificFamily=class=OrthogonalUniVariatePolynomialFamily implementation=class=LegendreFactory measure=class=Uniform name=Uniform dimension=1 a=-1 b=1 |</p>"
      ],
      "text/plain": [
       "class=OrthogonalBasis implementation=class=OrthogonalProductPolynomialFactory univariate polynomial collection=[class=OrthogonalUniVariatePolynomialFamily implementation=class=StandardDistributionPolynomialFactory hasSpecificFamily=false orthonormalization algorithm=class=OrthonormalizationAlgorithm implementation=class=AdaptiveStieltjesAlgorithm measure=class=TruncatedDistribution name=Q distribution=class=Gumbel name=Gumbel dimension=1 beta=558 gamma=1013 bounds=class=Interval name=Unnamed dimension=1 lower bound=class=Point name=Unnamed dimension=1 values=[0] upper bound=class=Point name=Unnamed dimension=1 values=[19000.8] finite lower bound=[1] finite upper bound=[0] thresholdRealization=0.5 monicRecurrenceCoefficients=class=Sample name=Unnamed implementation=class=SampleImplementation name=Unnamed size=2 dimension=3 data=[[1,-1338.13,0],[1,-2163.52,-508950]] monicSquaredNorms=class=Point name=Unnamed dimension=2 values=[1,508950] isElliptical=false,class=OrthogonalUniVariatePolynomialFamily implementation=class=StandardDistributionPolynomialFactory hasSpecificFamily=false orthonormalization algorithm=class=OrthonormalizationAlgorithm implementation=class=AdaptiveStieltjesAlgorithm measure=class=TruncatedDistribution name=Ks distribution=class=Normal name=Normal dimension=1 mean=class=Point name=Unnamed dimension=1 values=[30] sigma=class=Point name=Unnamed dimension=1 values=[7.5] correlationMatrix=class=CorrelationMatrix dimension=1 implementation=class=MatrixImplementation name=Unnamed rows=1 columns=1 values=[1] bounds=class=Interval name=Unnamed dimension=1 lower bound=class=Point name=Unnamed dimension=1 values=[0] upper bound=class=Point name=Unnamed dimension=1 values=[87.3797] finite lower bound=[1] finite upper bound=[0] thresholdRealization=0.5 monicRecurrenceCoefficients=class=Sample name=Unnamed implementation=class=SampleImplementation name=Unnamed size=2 dimension=3 data=[[1,-30.001,0],[1,-30.0161,-56.2199]] monicSquaredNorms=class=Point name=Unnamed dimension=2 values=[1,56.2199] isElliptical=false,class=OrthogonalUniVariatePolynomialFamily implementation=class=StandardDistributionPolynomialFactory hasSpecificFamily=true specificFamily=class=OrthogonalUniVariatePolynomialFamily implementation=class=LegendreFactory measure=class=Uniform name=Uniform dimension=1 a=-1 b=1,class=OrthogonalUniVariatePolynomialFamily implementation=class=StandardDistributionPolynomialFactory hasSpecificFamily=true specificFamily=class=OrthogonalUniVariatePolynomialFamily implementation=class=LegendreFactory measure=class=Uniform name=Uniform dimension=1 a=-1 b=1] measure=class=ComposedDistribution name=ComposedDistribution dimension=4 copula=class=IndependentCopula name=IndependentCopula dimension=4 marginal[0]=class=TruncatedDistribution name=Q distribution=class=Gumbel name=Gumbel dimension=1 beta=558 gamma=1013 bounds=class=Interval name=Unnamed dimension=1 lower bound=class=Point name=Unnamed dimension=1 values=[0] upper bound=class=Point name=Unnamed dimension=1 values=[19000.8] finite lower bound=[1] finite upper bound=[0] thresholdRealization=0.5 marginal[1]=class=TruncatedDistribution name=Ks distribution=class=Normal name=Normal dimension=1 mean=class=Point name=Unnamed dimension=1 values=[30] sigma=class=Point name=Unnamed dimension=1 values=[7.5] correlationMatrix=class=CorrelationMatrix dimension=1 implementation=class=MatrixImplementation name=Unnamed rows=1 columns=1 values=[1] bounds=class=Interval name=Unnamed dimension=1 lower bound=class=Point name=Unnamed dimension=1 values=[0] upper bound=class=Point name=Unnamed dimension=1 values=[87.3797] finite lower bound=[1] finite upper bound=[0] thresholdRealization=0.5 marginal[2]=class=Uniform name=Uniform dimension=1 a=-1 b=1 marginal[3]=class=Uniform name=Uniform dimension=1 a=-1 b=1"
      ]
     },
     "execution_count": 23,
     "metadata": {},
     "output_type": "execute_result"
    }
   ],
   "source": [
    "orthogonalBasis = ot.OrthogonalBasis(orthogonalProduct)\n",
    "print(type(orthogonalBasis))\n",
    "orthogonalBasis"
   ]
  },
  {
   "cell_type": "code",
   "execution_count": 24,
   "id": "respected-action",
   "metadata": {},
   "outputs": [
    {
     "name": "stdout",
     "output_type": "stream",
     "text": [
      "OrthogonalProductPolynomialFactory\n",
      "- measure=Distribution\n",
      "- isOrthogonal=true\n",
      "- enumerateFunction=class=LinearEnumerateFunction dimension=4\n",
      "\n",
      "| Index | Type |\n",
      "|-------|------|\n",
      "|     0 | class=StandardDistributionPolynomialFactory hasSpecificFamily=false orthonormalization algorithm=class=OrthonormalizationAlgorithm implementation=class=AdaptiveStieltjesAlgorithm measure=class=TruncatedDistribution name=Q distribution=class=Gumbel name=Gumbel dimension=1 beta=558 gamma=1013 bounds=class=Interval name=Unnamed dimension=1 lower bound=class=Point name=Unnamed dimension=1 values=[0] upper bound=class=Point name=Unnamed dimension=1 values=[19000.8] finite lower bound=[1] finite upper bound=[0] thresholdRealization=0.5 monicRecurrenceCoefficients=class=Sample name=Unnamed implementation=class=SampleImplementation name=Unnamed size=2 dimension=3 data=[[1,-1338.13,0],[1,-2163.52,-508950]] monicSquaredNorms=class=Point name=Unnamed dimension=2 values=[1,508950] isElliptical=false |\n",
      "|     1 | class=StandardDistributionPolynomialFactory hasSpecificFamily=false orthonormalization algorithm=class=OrthonormalizationAlgorithm implementation=class=AdaptiveStieltjesAlgorithm measure=class=TruncatedDistribution name=Ks distribution=class=Normal name=Normal dimension=1 mean=class=Point name=Unnamed dimension=1 values=[30] sigma=class=Point name=Unnamed dimension=1 values=[7.5] correlationMatrix=class=CorrelationMatrix dimension=1 implementation=class=MatrixImplementation name=Unnamed rows=1 columns=1 values=[1] bounds=class=Interval name=Unnamed dimension=1 lower bound=class=Point name=Unnamed dimension=1 values=[0] upper bound=class=Point name=Unnamed dimension=1 values=[87.3797] finite lower bound=[1] finite upper bound=[0] thresholdRealization=0.5 monicRecurrenceCoefficients=class=Sample name=Unnamed implementation=class=SampleImplementation name=Unnamed size=2 dimension=3 data=[[1,-30.001,0],[1,-30.0161,-56.2199]] monicSquaredNorms=class=Point name=Unnamed dimension=2 values=[1,56.2199] isElliptical=false |\n",
      "|     2 | class=StandardDistributionPolynomialFactory hasSpecificFamily=true specificFamily=class=OrthogonalUniVariatePolynomialFamily implementation=class=LegendreFactory measure=class=Uniform name=Uniform dimension=1 a=-1 b=1 |\n",
      "|     3 | class=StandardDistributionPolynomialFactory hasSpecificFamily=true specificFamily=class=OrthogonalUniVariatePolynomialFamily implementation=class=LegendreFactory measure=class=Uniform name=Uniform dimension=1 a=-1 b=1 |\n",
      "\n"
     ]
    }
   ],
   "source": [
    "print(orthogonalBasis)"
   ]
  },
  {
   "cell_type": "code",
   "execution_count": 25,
   "id": "foster-letter",
   "metadata": {},
   "outputs": [
    {
     "data": {
      "text/html": [
       "<p>class=LinearEnumerateFunction dimension=4</p>"
      ],
      "text/plain": [
       "class=LinearEnumerateFunction dimension=4"
      ]
     },
     "execution_count": 25,
     "metadata": {},
     "output_type": "execute_result"
    }
   ],
   "source": [
    "orthogonalBasis.getEnumerateFunction()"
   ]
  },
  {
   "cell_type": "code",
   "execution_count": 26,
   "id": "scientific-configuration",
   "metadata": {},
   "outputs": [
    {
     "data": {
      "text/html": [
       "<ul>\n",
       "  <li>dimension: 4</li>\n",
       "  <li>copula: IndependentCopula</li>\n",
       "</ul>\n",
       "\n",
       "<table>\n",
       "<tr>\n",
       "  <th>Index</th>\n",
       "  <th>Variable</th>\n",
       "  <th>Distribution</th>\n",
       "</tr>\n",
       "<tr>\n",
       "  <td>0</td>\n",
       "  <td>Q</td>\n",
       "  <td>TruncatedDistribution(Gumbel(beta = 558, gamma = 1013), bounds = [0, (19000.8) +inf[)</td>\n",
       "</tr>\n",
       "<tr>\n",
       "  <td>1</td>\n",
       "  <td>Ks</td>\n",
       "  <td>TruncatedDistribution(Normal(mu = 30, sigma = 7.5)description=[X0], bounds = [0, (87.3797) +inf[)</td>\n",
       "</tr>\n",
       "<tr>\n",
       "  <td>2</td>\n",
       "  <td>Zv</td>\n",
       "  <td>Uniform(a = -1, b = 1)</td>\n",
       "</tr>\n",
       "<tr>\n",
       "  <td>3</td>\n",
       "  <td>Zm</td>\n",
       "  <td>Uniform(a = -1, b = 1)</td>\n",
       "</tr>\n",
       "</table>\n"
      ],
      "text/plain": [
       "class=ComposedDistribution name=ComposedDistribution dimension=4 copula=class=IndependentCopula name=IndependentCopula dimension=4 marginal[0]=class=TruncatedDistribution name=Q distribution=class=Gumbel name=Gumbel dimension=1 beta=558 gamma=1013 bounds=class=Interval name=Unnamed dimension=1 lower bound=class=Point name=Unnamed dimension=1 values=[0] upper bound=class=Point name=Unnamed dimension=1 values=[19000.8] finite lower bound=[1] finite upper bound=[0] thresholdRealization=0.5 marginal[1]=class=TruncatedDistribution name=Ks distribution=class=Normal name=Normal dimension=1 mean=class=Point name=Unnamed dimension=1 values=[30] sigma=class=Point name=Unnamed dimension=1 values=[7.5] correlationMatrix=class=CorrelationMatrix dimension=1 implementation=class=MatrixImplementation name=Unnamed rows=1 columns=1 values=[1] bounds=class=Interval name=Unnamed dimension=1 lower bound=class=Point name=Unnamed dimension=1 values=[0] upper bound=class=Point name=Unnamed dimension=1 values=[87.3797] finite lower bound=[1] finite upper bound=[0] thresholdRealization=0.5 marginal[2]=class=Uniform name=Uniform dimension=1 a=-1 b=1 marginal[3]=class=Uniform name=Uniform dimension=1 a=-1 b=1"
      ]
     },
     "execution_count": 26,
     "metadata": {},
     "output_type": "execute_result"
    }
   ],
   "source": [
    "orthogonalBasis.getMeasure()"
   ]
  },
  {
   "cell_type": "code",
   "execution_count": 27,
   "id": "senior-guyana",
   "metadata": {},
   "outputs": [
    {
     "data": {
      "text/plain": [
       "openturns.orthogonalbasis.OrthogonalBasis"
      ]
     },
     "execution_count": 27,
     "metadata": {},
     "output_type": "execute_result"
    }
   ],
   "source": [
    "type(orthogonalBasis)"
   ]
  },
  {
   "cell_type": "code",
   "execution_count": 28,
   "id": "facial-literature",
   "metadata": {},
   "outputs": [
    {
     "data": {
      "text/html": [
       "<ul>\n",
       "  <li>dimension: 4</li>\n",
       "  <li>enumerate function: class=LinearEnumerateFunction dimension=4</li>\n",
       "</ul>\n",
       "\n",
       "<table>\n",
       "<tr>\n",
       "  <th>Index</th>\n",
       "  <th>Name</th>\n",
       "  <th>Distribution</th>\n",
       "  <th>Univariate polynomial</th>\n",
       "</tr>\n",
       "<tr>\n",
       "  <td>0</td>\n",
       "  <td>Q</td>\n",
       "  <td>TruncatedDistribution</td>\n",
       "  <td>AdaptiveStieltjesAlgorithm</td>\n",
       "</tr>\n",
       "<tr>\n",
       "  <td>1</td>\n",
       "  <td>Ks</td>\n",
       "  <td>TruncatedDistribution</td>\n",
       "  <td>AdaptiveStieltjesAlgorithm</td>\n",
       "</tr>\n",
       "<tr>\n",
       "  <td>2</td>\n",
       "  <td>Zv</td>\n",
       "  <td>Uniform</td>\n",
       "  <td>LegendreFactory</td>\n",
       "</tr>\n",
       "<tr>\n",
       "  <td>3</td>\n",
       "  <td>Zm</td>\n",
       "  <td>Uniform</td>\n",
       "  <td>LegendreFactory</td>\n",
       "</tr>\n",
       "</table>\n"
      ],
      "text/plain": [
       "class=OrthogonalProductPolynomialFactory univariate polynomial collection=[class=OrthogonalUniVariatePolynomialFamily implementation=class=StandardDistributionPolynomialFactory hasSpecificFamily=false orthonormalization algorithm=class=OrthonormalizationAlgorithm implementation=class=AdaptiveStieltjesAlgorithm measure=class=TruncatedDistribution name=Q distribution=class=Gumbel name=Gumbel dimension=1 beta=558 gamma=1013 bounds=class=Interval name=Unnamed dimension=1 lower bound=class=Point name=Unnamed dimension=1 values=[0] upper bound=class=Point name=Unnamed dimension=1 values=[19000.8] finite lower bound=[1] finite upper bound=[0] thresholdRealization=0.5 monicRecurrenceCoefficients=class=Sample name=Unnamed implementation=class=SampleImplementation name=Unnamed size=2 dimension=3 data=[[1,-1338.13,0],[1,-2163.52,-508950]] monicSquaredNorms=class=Point name=Unnamed dimension=2 values=[1,508950] isElliptical=false,class=OrthogonalUniVariatePolynomialFamily implementation=class=StandardDistributionPolynomialFactory hasSpecificFamily=false orthonormalization algorithm=class=OrthonormalizationAlgorithm implementation=class=AdaptiveStieltjesAlgorithm measure=class=TruncatedDistribution name=Ks distribution=class=Normal name=Normal dimension=1 mean=class=Point name=Unnamed dimension=1 values=[30] sigma=class=Point name=Unnamed dimension=1 values=[7.5] correlationMatrix=class=CorrelationMatrix dimension=1 implementation=class=MatrixImplementation name=Unnamed rows=1 columns=1 values=[1] bounds=class=Interval name=Unnamed dimension=1 lower bound=class=Point name=Unnamed dimension=1 values=[0] upper bound=class=Point name=Unnamed dimension=1 values=[87.3797] finite lower bound=[1] finite upper bound=[0] thresholdRealization=0.5 monicRecurrenceCoefficients=class=Sample name=Unnamed implementation=class=SampleImplementation name=Unnamed size=2 dimension=3 data=[[1,-30.001,0],[1,-30.0161,-56.2199]] monicSquaredNorms=class=Point name=Unnamed dimension=2 values=[1,56.2199] isElliptical=false,class=OrthogonalUniVariatePolynomialFamily implementation=class=StandardDistributionPolynomialFactory hasSpecificFamily=true specificFamily=class=OrthogonalUniVariatePolynomialFamily implementation=class=LegendreFactory measure=class=Uniform name=Uniform dimension=1 a=-1 b=1,class=OrthogonalUniVariatePolynomialFamily implementation=class=StandardDistributionPolynomialFactory hasSpecificFamily=true specificFamily=class=OrthogonalUniVariatePolynomialFamily implementation=class=LegendreFactory measure=class=Uniform name=Uniform dimension=1 a=-1 b=1] measure=class=ComposedDistribution name=ComposedDistribution dimension=4 copula=class=IndependentCopula name=IndependentCopula dimension=4 marginal[0]=class=TruncatedDistribution name=Q distribution=class=Gumbel name=Gumbel dimension=1 beta=558 gamma=1013 bounds=class=Interval name=Unnamed dimension=1 lower bound=class=Point name=Unnamed dimension=1 values=[0] upper bound=class=Point name=Unnamed dimension=1 values=[19000.8] finite lower bound=[1] finite upper bound=[0] thresholdRealization=0.5 marginal[1]=class=TruncatedDistribution name=Ks distribution=class=Normal name=Normal dimension=1 mean=class=Point name=Unnamed dimension=1 values=[30] sigma=class=Point name=Unnamed dimension=1 values=[7.5] correlationMatrix=class=CorrelationMatrix dimension=1 implementation=class=MatrixImplementation name=Unnamed rows=1 columns=1 values=[1] bounds=class=Interval name=Unnamed dimension=1 lower bound=class=Point name=Unnamed dimension=1 values=[0] upper bound=class=Point name=Unnamed dimension=1 values=[87.3797] finite lower bound=[1] finite upper bound=[0] thresholdRealization=0.5 marginal[2]=class=Uniform name=Uniform dimension=1 a=-1 b=1 marginal[3]=class=Uniform name=Uniform dimension=1 a=-1 b=1"
      ]
     },
     "execution_count": 28,
     "metadata": {},
     "output_type": "execute_result"
    }
   ],
   "source": [
    "basisImplementation = orthogonalBasis.getImplementation()\n",
    "basisImplementation"
   ]
  },
  {
   "cell_type": "code",
   "execution_count": 29,
   "id": "ongoing-canada",
   "metadata": {},
   "outputs": [
    {
     "name": "stdout",
     "output_type": "stream",
     "text": [
      "<class 'openturns.orthogonalbasis.OrthogonalUniVariatePolynomialFamily'>\n"
     ]
    },
    {
     "data": {
      "text/html": [
       "<p>class=StandardDistributionPolynomialFactory hasSpecificFamily=true specificFamily=class=OrthogonalUniVariatePolynomialFamily implementation=class=LegendreFactory measure=class=Uniform name=Uniform dimension=1 a=-1 b=1</p>"
      ],
      "text/plain": [
       "class=OrthogonalUniVariatePolynomialFamily implementation=class=StandardDistributionPolynomialFactory hasSpecificFamily=true specificFamily=class=OrthogonalUniVariatePolynomialFamily implementation=class=LegendreFactory measure=class=Uniform name=Uniform dimension=1 a=-1 b=1"
      ]
     },
     "execution_count": 29,
     "metadata": {},
     "output_type": "execute_result"
    }
   ],
   "source": [
    "collection = basisImplementation.getPolynomialFamilyCollection()\n",
    "univariatePolynomial = collection[2]\n",
    "print(type(univariatePolynomial))\n",
    "univariatePolynomial"
   ]
  },
  {
   "cell_type": "code",
   "execution_count": 30,
   "id": "acknowledged-dragon",
   "metadata": {},
   "outputs": [
    {
     "data": {
      "text/plain": [
       "openturns.orthogonalbasis.StandardDistributionPolynomialFactory"
      ]
     },
     "execution_count": 30,
     "metadata": {},
     "output_type": "execute_result"
    }
   ],
   "source": [
    "polynomialImplementation = univariatePolynomial.getImplementation()\n",
    "type(polynomialImplementation)"
   ]
  },
  {
   "cell_type": "code",
   "execution_count": 31,
   "id": "adolescent-project",
   "metadata": {},
   "outputs": [
    {
     "data": {
      "text/html": [
       "<p>class=StandardDistributionPolynomialFactory hasSpecificFamily=true specificFamily=class=OrthogonalUniVariatePolynomialFamily implementation=class=LegendreFactory measure=class=Uniform name=Uniform dimension=1 a=-1 b=1</p>"
      ],
      "text/plain": [
       "class=StandardDistributionPolynomialFactory hasSpecificFamily=true specificFamily=class=OrthogonalUniVariatePolynomialFamily implementation=class=LegendreFactory measure=class=Uniform name=Uniform dimension=1 a=-1 b=1"
      ]
     },
     "execution_count": 31,
     "metadata": {},
     "output_type": "execute_result"
    }
   ],
   "source": [
    "polynomialImplementation"
   ]
  },
  {
   "cell_type": "markdown",
   "id": "speaking-meditation",
   "metadata": {},
   "source": [
    "## SuperOrthogonalProductPolynomialFactory"
   ]
  },
  {
   "cell_type": "code",
   "execution_count": 32,
   "id": "mounted-report",
   "metadata": {},
   "outputs": [],
   "source": [
    "class SuperOrthogonalProductPolynomialFactory():\n",
    "    def __init__(self, orthogonalProductPolynomialFactory):\n",
    "        self.orthogonalProductPolynomialFactory = orthogonalProductPolynomialFactory\n",
    "    \n",
    "    def _repr_html_(self):\n",
    "        \"\"\"Get HTML representation.\"\"\"\n",
    "        collection = self.orthogonalProductPolynomialFactory.getPolynomialFamilyCollection()\n",
    "        dimension = len(collection)\n",
    "        enumerateFunction = self.orthogonalProductPolynomialFactory.getEnumerateFunction()\n",
    "        distribution = self.orthogonalProductPolynomialFactory.getMeasure()\n",
    "        description = distribution.getDescription()\n",
    "        html = \"\"\n",
    "        html += \"<ul>\\n\"\n",
    "        html += \"  <li>dimension: %d</li>\\n\" % (dimension)\n",
    "        html += \"  <li>enumerate function: %s</li>\\n\" % (enumerateFunction)\n",
    "        html += \"</ul>\\n\"\n",
    "        html += \"\\n\"\n",
    "        # Table of marginals\n",
    "        html += \"<table>\\n\"\n",
    "        # Header\n",
    "        html += \"<tr>\\n\"\n",
    "        html += \"  <th>Index</th>\\n\"\n",
    "        html += \"  <th>Name</th>\\n\"\n",
    "        html += \"  <th>Distribution</th>\\n\"\n",
    "        html += \"  <th>Univariate polynomial</th>\\n\"\n",
    "        html += \"</tr>\\n\"\n",
    "        # Content\n",
    "        for i in range(dimension):\n",
    "            univariatePolynomial = collection[i]\n",
    "            univariatePolynomial = polynomialCollection[i]\n",
    "            univariateImplementation = univariatePolynomial.getImplementation()\n",
    "            hasSpecificFamily = univariateImplementation.getHasSpecificFamily()\n",
    "            html += \"<tr>\\n\"\n",
    "            html += \"  <td>%d</td>\\n\" % (i)\n",
    "            html += \"  <td>%s</td>\\n\" % (description[i])\n",
    "            marginalName = distribution.getMarginal(i).getImplementation().getClassName()\n",
    "            html += \"  <td>%s</td>\\n\" % (marginalName)\n",
    "            if hasSpecificFamily:\n",
    "                marginalPolynomial = univariateImplementation.getSpecificFamily()\n",
    "                polynomialImplementation = marginalPolynomial.getImplementation()\n",
    "                className = polynomialImplementation.getClassName()\n",
    "            else:\n",
    "                orthoAlgorithm = univariateImplementation.getOrthonormalizationAlgorithm()\n",
    "                orthoImplementation = orthoAlgorithm.getImplementation()\n",
    "                className = orthoImplementation.getClassName()\n",
    "            html += \"  <td>%s</td>\\n\" % (className)\n",
    "            html += \"</tr>\\n\"\n",
    "        html += \"</table>\\n\"\n",
    "\n",
    "        return html\n"
   ]
  },
  {
   "cell_type": "code",
   "execution_count": 33,
   "id": "unexpected-teens",
   "metadata": {},
   "outputs": [
    {
     "data": {
      "text/html": [
       "<ul>\n",
       "  <li>dimension: 4</li>\n",
       "  <li>enumerate function: class=LinearEnumerateFunction dimension=4</li>\n",
       "</ul>\n",
       "\n",
       "<table>\n",
       "<tr>\n",
       "  <th>Index</th>\n",
       "  <th>Name</th>\n",
       "  <th>Distribution</th>\n",
       "  <th>Univariate polynomial</th>\n",
       "</tr>\n",
       "<tr>\n",
       "  <td>0</td>\n",
       "  <td>Q</td>\n",
       "  <td>TruncatedDistribution</td>\n",
       "  <td>AdaptiveStieltjesAlgorithm</td>\n",
       "</tr>\n",
       "<tr>\n",
       "  <td>1</td>\n",
       "  <td>Ks</td>\n",
       "  <td>TruncatedDistribution</td>\n",
       "  <td>AdaptiveStieltjesAlgorithm</td>\n",
       "</tr>\n",
       "<tr>\n",
       "  <td>2</td>\n",
       "  <td>Zv</td>\n",
       "  <td>Uniform</td>\n",
       "  <td>LegendreFactory</td>\n",
       "</tr>\n",
       "<tr>\n",
       "  <td>3</td>\n",
       "  <td>Zm</td>\n",
       "  <td>Uniform</td>\n",
       "  <td>LegendreFactory</td>\n",
       "</tr>\n",
       "</table>\n"
      ],
      "text/plain": [
       "class=OrthogonalProductPolynomialFactory univariate polynomial collection=[class=OrthogonalUniVariatePolynomialFamily implementation=class=StandardDistributionPolynomialFactory hasSpecificFamily=false orthonormalization algorithm=class=OrthonormalizationAlgorithm implementation=class=AdaptiveStieltjesAlgorithm measure=class=TruncatedDistribution name=Q distribution=class=Gumbel name=Gumbel dimension=1 beta=558 gamma=1013 bounds=class=Interval name=Unnamed dimension=1 lower bound=class=Point name=Unnamed dimension=1 values=[0] upper bound=class=Point name=Unnamed dimension=1 values=[19000.8] finite lower bound=[1] finite upper bound=[0] thresholdRealization=0.5 monicRecurrenceCoefficients=class=Sample name=Unnamed implementation=class=SampleImplementation name=Unnamed size=2 dimension=3 data=[[1,-1338.13,0],[1,-2163.52,-508950]] monicSquaredNorms=class=Point name=Unnamed dimension=2 values=[1,508950] isElliptical=false,class=OrthogonalUniVariatePolynomialFamily implementation=class=StandardDistributionPolynomialFactory hasSpecificFamily=false orthonormalization algorithm=class=OrthonormalizationAlgorithm implementation=class=AdaptiveStieltjesAlgorithm measure=class=TruncatedDistribution name=Ks distribution=class=Normal name=Normal dimension=1 mean=class=Point name=Unnamed dimension=1 values=[30] sigma=class=Point name=Unnamed dimension=1 values=[7.5] correlationMatrix=class=CorrelationMatrix dimension=1 implementation=class=MatrixImplementation name=Unnamed rows=1 columns=1 values=[1] bounds=class=Interval name=Unnamed dimension=1 lower bound=class=Point name=Unnamed dimension=1 values=[0] upper bound=class=Point name=Unnamed dimension=1 values=[87.3797] finite lower bound=[1] finite upper bound=[0] thresholdRealization=0.5 monicRecurrenceCoefficients=class=Sample name=Unnamed implementation=class=SampleImplementation name=Unnamed size=2 dimension=3 data=[[1,-30.001,0],[1,-30.0161,-56.2199]] monicSquaredNorms=class=Point name=Unnamed dimension=2 values=[1,56.2199] isElliptical=false,class=OrthogonalUniVariatePolynomialFamily implementation=class=StandardDistributionPolynomialFactory hasSpecificFamily=true specificFamily=class=OrthogonalUniVariatePolynomialFamily implementation=class=LegendreFactory measure=class=Uniform name=Uniform dimension=1 a=-1 b=1,class=OrthogonalUniVariatePolynomialFamily implementation=class=StandardDistributionPolynomialFactory hasSpecificFamily=true specificFamily=class=OrthogonalUniVariatePolynomialFamily implementation=class=LegendreFactory measure=class=Uniform name=Uniform dimension=1 a=-1 b=1] measure=class=ComposedDistribution name=ComposedDistribution dimension=4 copula=class=IndependentCopula name=IndependentCopula dimension=4 marginal[0]=class=TruncatedDistribution name=Q distribution=class=Gumbel name=Gumbel dimension=1 beta=558 gamma=1013 bounds=class=Interval name=Unnamed dimension=1 lower bound=class=Point name=Unnamed dimension=1 values=[0] upper bound=class=Point name=Unnamed dimension=1 values=[19000.8] finite lower bound=[1] finite upper bound=[0] thresholdRealization=0.5 marginal[1]=class=TruncatedDistribution name=Ks distribution=class=Normal name=Normal dimension=1 mean=class=Point name=Unnamed dimension=1 values=[30] sigma=class=Point name=Unnamed dimension=1 values=[7.5] correlationMatrix=class=CorrelationMatrix dimension=1 implementation=class=MatrixImplementation name=Unnamed rows=1 columns=1 values=[1] bounds=class=Interval name=Unnamed dimension=1 lower bound=class=Point name=Unnamed dimension=1 values=[0] upper bound=class=Point name=Unnamed dimension=1 values=[87.3797] finite lower bound=[1] finite upper bound=[0] thresholdRealization=0.5 marginal[2]=class=Uniform name=Uniform dimension=1 a=-1 b=1 marginal[3]=class=Uniform name=Uniform dimension=1 a=-1 b=1"
      ]
     },
     "execution_count": 33,
     "metadata": {},
     "output_type": "execute_result"
    }
   ],
   "source": [
    "orthogonalProduct = ot.OrthogonalProductPolynomialFactory(marginals)\n",
    "orthogonalProduct"
   ]
  },
  {
   "cell_type": "code",
   "execution_count": 34,
   "id": "driving-shock",
   "metadata": {},
   "outputs": [
    {
     "data": {
      "text/html": [
       "<ul>\n",
       "  <li>dimension: 4</li>\n",
       "  <li>enumerate function: class=LinearEnumerateFunction dimension=4</li>\n",
       "</ul>\n",
       "\n",
       "<table>\n",
       "<tr>\n",
       "  <th>Index</th>\n",
       "  <th>Name</th>\n",
       "  <th>Distribution</th>\n",
       "  <th>Univariate polynomial</th>\n",
       "</tr>\n",
       "<tr>\n",
       "  <td>0</td>\n",
       "  <td>Q</td>\n",
       "  <td>TruncatedDistribution</td>\n",
       "  <td>AdaptiveStieltjesAlgorithm</td>\n",
       "</tr>\n",
       "<tr>\n",
       "  <td>1</td>\n",
       "  <td>Ks</td>\n",
       "  <td>TruncatedDistribution</td>\n",
       "  <td>AdaptiveStieltjesAlgorithm</td>\n",
       "</tr>\n",
       "<tr>\n",
       "  <td>2</td>\n",
       "  <td>Zv</td>\n",
       "  <td>Uniform</td>\n",
       "  <td>LegendreFactory</td>\n",
       "</tr>\n",
       "<tr>\n",
       "  <td>3</td>\n",
       "  <td>Zm</td>\n",
       "  <td>Uniform</td>\n",
       "  <td>LegendreFactory</td>\n",
       "</tr>\n",
       "</table>\n"
      ],
      "text/plain": [
       "<__main__.SuperOrthogonalProductPolynomialFactory at 0x7ff701abf490>"
      ]
     },
     "execution_count": 34,
     "metadata": {},
     "output_type": "execute_result"
    }
   ],
   "source": [
    "superOrthogonalProduct = SuperOrthogonalProductPolynomialFactory(orthogonalProduct)\n",
    "superOrthogonalProduct"
   ]
  },
  {
   "cell_type": "code",
   "execution_count": 35,
   "id": "invalid-mileage",
   "metadata": {},
   "outputs": [
    {
     "data": {
      "text/html": [
       "<ul>\n",
       "  <li>dimension: 4</li>\n",
       "  <li>copula: IndependentCopula</li>\n",
       "</ul>\n",
       "\n",
       "<table>\n",
       "<tr>\n",
       "  <th>Index</th>\n",
       "  <th>Variable</th>\n",
       "  <th>Distribution</th>\n",
       "</tr>\n",
       "<tr>\n",
       "  <td>0</td>\n",
       "  <td>Q</td>\n",
       "  <td>TruncatedDistribution(Gumbel(beta = 558, gamma = 1013), bounds = [0, (19000.8) +inf[)</td>\n",
       "</tr>\n",
       "<tr>\n",
       "  <td>1</td>\n",
       "  <td>Ks</td>\n",
       "  <td>TruncatedDistribution(Normal(mu = 30, sigma = 7.5)description=[X0], bounds = [0, (87.3797) +inf[)</td>\n",
       "</tr>\n",
       "<tr>\n",
       "  <td>2</td>\n",
       "  <td>Zv</td>\n",
       "  <td>Uniform(a = -1, b = 1)</td>\n",
       "</tr>\n",
       "<tr>\n",
       "  <td>3</td>\n",
       "  <td>Zm</td>\n",
       "  <td>Uniform(a = -1, b = 1)</td>\n",
       "</tr>\n",
       "</table>\n"
      ],
      "text/plain": [
       "class=ComposedDistribution name=ComposedDistribution dimension=4 copula=class=IndependentCopula name=IndependentCopula dimension=4 marginal[0]=class=TruncatedDistribution name=Q distribution=class=Gumbel name=Gumbel dimension=1 beta=558 gamma=1013 bounds=class=Interval name=Unnamed dimension=1 lower bound=class=Point name=Unnamed dimension=1 values=[0] upper bound=class=Point name=Unnamed dimension=1 values=[19000.8] finite lower bound=[1] finite upper bound=[0] thresholdRealization=0.5 marginal[1]=class=TruncatedDistribution name=Ks distribution=class=Normal name=Normal dimension=1 mean=class=Point name=Unnamed dimension=1 values=[30] sigma=class=Point name=Unnamed dimension=1 values=[7.5] correlationMatrix=class=CorrelationMatrix dimension=1 implementation=class=MatrixImplementation name=Unnamed rows=1 columns=1 values=[1] bounds=class=Interval name=Unnamed dimension=1 lower bound=class=Point name=Unnamed dimension=1 values=[0] upper bound=class=Point name=Unnamed dimension=1 values=[87.3797] finite lower bound=[1] finite upper bound=[0] thresholdRealization=0.5 marginal[2]=class=Uniform name=Uniform dimension=1 a=-1 b=1 marginal[3]=class=Uniform name=Uniform dimension=1 a=-1 b=1"
      ]
     },
     "execution_count": 35,
     "metadata": {},
     "output_type": "execute_result"
    }
   ],
   "source": [
    "distribution = orthogonalProduct.getMeasure()\n",
    "distribution"
   ]
  },
  {
   "cell_type": "code",
   "execution_count": 36,
   "id": "central-bacteria",
   "metadata": {},
   "outputs": [
    {
     "data": {
      "text/html": [
       "<p>[Q,Ks,Zv,Zm]</p>"
      ],
      "text/plain": [
       "[Q,Ks,Zv,Zm]"
      ]
     },
     "execution_count": 36,
     "metadata": {},
     "output_type": "execute_result"
    }
   ],
   "source": [
    "description = distribution.getDescription()\n",
    "description"
   ]
  },
  {
   "cell_type": "code",
   "execution_count": 37,
   "id": "precise-scanning",
   "metadata": {},
   "outputs": [
    {
     "data": {
      "text/html": [
       "TruncatedDistribution(Gumbel(beta = 558, gamma = 1013), bounds = [0, (19000.8) +inf[)"
      ],
      "text/plain": [
       "class=TruncatedDistribution name=Q distribution=class=Gumbel name=Gumbel dimension=1 beta=558 gamma=1013 bounds=class=Interval name=Unnamed dimension=1 lower bound=class=Point name=Unnamed dimension=1 values=[0] upper bound=class=Point name=Unnamed dimension=1 values=[19000.8] finite lower bound=[1] finite upper bound=[0] thresholdRealization=0.5"
      ]
     },
     "execution_count": 37,
     "metadata": {},
     "output_type": "execute_result"
    }
   ],
   "source": [
    "marginalDistribution = distribution.getMarginal(0)\n",
    "marginalDistribution"
   ]
  },
  {
   "cell_type": "code",
   "execution_count": 38,
   "id": "exciting-ocean",
   "metadata": {},
   "outputs": [
    {
     "data": {
      "text/html": [
       "<p>TruncatedDistribution(Gumbel(beta = 558, gamma = 1013), bounds = [0, (19000.8) +inf[)</p>"
      ],
      "text/plain": [
       "class=TruncatedDistribution name=Q distribution=class=Gumbel name=Gumbel dimension=1 beta=558 gamma=1013 bounds=class=Interval name=Unnamed dimension=1 lower bound=class=Point name=Unnamed dimension=1 values=[0] upper bound=class=Point name=Unnamed dimension=1 values=[19000.8] finite lower bound=[1] finite upper bound=[0] thresholdRealization=0.5"
      ]
     },
     "execution_count": 38,
     "metadata": {},
     "output_type": "execute_result"
    }
   ],
   "source": [
    "marginalDistribution.getImplementation()"
   ]
  },
  {
   "cell_type": "code",
   "execution_count": 39,
   "id": "promotional-winning",
   "metadata": {},
   "outputs": [
    {
     "data": {
      "text/html": [
       "TruncatedDistribution(Gumbel(beta = 558, gamma = 1013), bounds = [0, (19000.8) +inf[)"
      ],
      "text/plain": [
       "class=TruncatedDistribution name=Q distribution=class=Gumbel name=Gumbel dimension=1 beta=558 gamma=1013 bounds=class=Interval name=Unnamed dimension=1 lower bound=class=Point name=Unnamed dimension=1 values=[0] upper bound=class=Point name=Unnamed dimension=1 values=[19000.8] finite lower bound=[1] finite upper bound=[0] thresholdRealization=0.5"
      ]
     },
     "execution_count": 39,
     "metadata": {},
     "output_type": "execute_result"
    }
   ],
   "source": [
    "standard = marginalDistribution.getStandardRepresentative()\n",
    "standard"
   ]
  },
  {
   "cell_type": "markdown",
   "id": "accessory-fighter",
   "metadata": {},
   "source": [
    "## OrthogonalProductPolynomialFactory, second ctor"
   ]
  },
  {
   "cell_type": "code",
   "execution_count": 40,
   "id": "urban-stand",
   "metadata": {},
   "outputs": [
    {
     "ename": "AttributeError",
     "evalue": "'HermiteFactory' object has no attribute 'getHasSpecificFamily'",
     "output_type": "error",
     "traceback": [
      "\u001b[0;31m---------------------------------------------------------------------------\u001b[0m",
      "\u001b[0;31mAttributeError\u001b[0m                            Traceback (most recent call last)",
      "\u001b[0;32m/usr/lib/python3/dist-packages/IPython/core/formatters.py\u001b[0m in \u001b[0;36m__call__\u001b[0;34m(self, obj)\u001b[0m\n\u001b[1;32m    343\u001b[0m             \u001b[0mmethod\u001b[0m \u001b[0;34m=\u001b[0m \u001b[0mget_real_method\u001b[0m\u001b[0;34m(\u001b[0m\u001b[0mobj\u001b[0m\u001b[0;34m,\u001b[0m \u001b[0mself\u001b[0m\u001b[0;34m.\u001b[0m\u001b[0mprint_method\u001b[0m\u001b[0;34m)\u001b[0m\u001b[0;34m\u001b[0m\u001b[0;34m\u001b[0m\u001b[0m\n\u001b[1;32m    344\u001b[0m             \u001b[0;32mif\u001b[0m \u001b[0mmethod\u001b[0m \u001b[0;32mis\u001b[0m \u001b[0;32mnot\u001b[0m \u001b[0;32mNone\u001b[0m\u001b[0;34m:\u001b[0m\u001b[0;34m\u001b[0m\u001b[0;34m\u001b[0m\u001b[0m\n\u001b[0;32m--> 345\u001b[0;31m                 \u001b[0;32mreturn\u001b[0m \u001b[0mmethod\u001b[0m\u001b[0;34m(\u001b[0m\u001b[0;34m)\u001b[0m\u001b[0;34m\u001b[0m\u001b[0;34m\u001b[0m\u001b[0m\n\u001b[0m\u001b[1;32m    346\u001b[0m             \u001b[0;32mreturn\u001b[0m \u001b[0;32mNone\u001b[0m\u001b[0;34m\u001b[0m\u001b[0;34m\u001b[0m\u001b[0m\n\u001b[1;32m    347\u001b[0m         \u001b[0;32melse\u001b[0m\u001b[0;34m:\u001b[0m\u001b[0;34m\u001b[0m\u001b[0;34m\u001b[0m\u001b[0m\n",
      "\u001b[0;32m~/GIT/openturns-PrintPCE/build/install/lib/python3.9/site-packages/openturns/orthogonalbasis.py\u001b[0m in \u001b[0;36m__OrthogonalProductPolynomialFactory_repr_html\u001b[0;34m(self)\u001b[0m\n\u001b[1;32m   2996\u001b[0m         \u001b[0munivariatePolynomial\u001b[0m \u001b[0;34m=\u001b[0m \u001b[0mpolynomialCollection\u001b[0m\u001b[0;34m[\u001b[0m\u001b[0mi\u001b[0m\u001b[0;34m]\u001b[0m\u001b[0;34m\u001b[0m\u001b[0;34m\u001b[0m\u001b[0m\n\u001b[1;32m   2997\u001b[0m         \u001b[0munivariateImplementation\u001b[0m \u001b[0;34m=\u001b[0m \u001b[0munivariatePolynomial\u001b[0m\u001b[0;34m.\u001b[0m\u001b[0mgetImplementation\u001b[0m\u001b[0;34m(\u001b[0m\u001b[0;34m)\u001b[0m\u001b[0;34m\u001b[0m\u001b[0;34m\u001b[0m\u001b[0m\n\u001b[0;32m-> 2998\u001b[0;31m         \u001b[0mhasSpecificFamily\u001b[0m \u001b[0;34m=\u001b[0m \u001b[0munivariateImplementation\u001b[0m\u001b[0;34m.\u001b[0m\u001b[0mgetHasSpecificFamily\u001b[0m\u001b[0;34m(\u001b[0m\u001b[0;34m)\u001b[0m\u001b[0;34m\u001b[0m\u001b[0;34m\u001b[0m\u001b[0m\n\u001b[0m\u001b[1;32m   2999\u001b[0m         \u001b[0mhtml\u001b[0m \u001b[0;34m+=\u001b[0m \u001b[0;34m\"<tr>\\n\"\u001b[0m\u001b[0;34m\u001b[0m\u001b[0;34m\u001b[0m\u001b[0m\n\u001b[1;32m   3000\u001b[0m         \u001b[0mhtml\u001b[0m \u001b[0;34m+=\u001b[0m \u001b[0;34m\"  <td>%d</td>\\n\"\u001b[0m \u001b[0;34m%\u001b[0m \u001b[0;34m(\u001b[0m\u001b[0mi\u001b[0m\u001b[0;34m)\u001b[0m\u001b[0;34m\u001b[0m\u001b[0;34m\u001b[0m\u001b[0m\n",
      "\u001b[0;31mAttributeError\u001b[0m: 'HermiteFactory' object has no attribute 'getHasSpecificFamily'"
     ]
    },
    {
     "data": {
      "text/plain": [
       "class=OrthogonalProductPolynomialFactory univariate polynomial collection=[class=OrthogonalUniVariatePolynomialFamily implementation=class=HermiteFactory measure=class=Normal name=Normal dimension=1 mean=class=Point name=Unnamed dimension=1 values=[0] sigma=class=Point name=Unnamed dimension=1 values=[1] correlationMatrix=class=CorrelationMatrix dimension=1 implementation=class=MatrixImplementation name=Unnamed rows=1 columns=1 values=[1],class=OrthogonalUniVariatePolynomialFamily implementation=class=LegendreFactory measure=class=Uniform name=Uniform dimension=1 a=-1 b=1,class=OrthogonalUniVariatePolynomialFamily implementation=class=LaguerreFactory k=2.75 measure=class=Gamma name=Gamma dimension=1 k=3.75 lambda=1 gamma=0,class=OrthogonalUniVariatePolynomialFamily implementation=class=JacobiFactory alpha=0 beta=1.5 measure=class=Beta name=Beta dimension=1 alpha=2.5 beta=1 a=-1 b=1] measure=class=ComposedDistribution name=ComposedDistribution dimension=4 copula=class=IndependentCopula name=IndependentCopula dimension=4 marginal[0]=class=Normal name=Normal dimension=1 mean=class=Point name=Unnamed dimension=1 values=[0] sigma=class=Point name=Unnamed dimension=1 values=[1] correlationMatrix=class=CorrelationMatrix dimension=1 implementation=class=MatrixImplementation name=Unnamed rows=1 columns=1 values=[1] marginal[1]=class=Uniform name=Uniform dimension=1 a=-1 b=1 marginal[2]=class=Gamma name=Gamma dimension=1 k=3.75 lambda=1 gamma=0 marginal[3]=class=Beta name=Beta dimension=1 alpha=2.5 beta=1 a=-1 b=1"
      ]
     },
     "execution_count": 40,
     "metadata": {},
     "output_type": "execute_result"
    }
   ],
   "source": [
    "inputDimension = 4\n",
    "q = 0.4\n",
    "enumerateFunction = ot.HyperbolicAnisotropicEnumerateFunction(inputDimension, q)\n",
    "polyColl = ot.PolynomialFamilyCollection(inputDimension)\n",
    "polyColl[0] = ot.HermiteFactory()\n",
    "polyColl[1] = ot.LegendreFactory()\n",
    "polyColl[2] = ot.LaguerreFactory(2.75)\n",
    "# Parameter for the Jacobi factory : 'Probabilty' encoded with 1\n",
    "polyColl[3] = ot.JacobiFactory(2.5, 3.5, 1)\n",
    "multivariateBasis = ot.OrthogonalProductPolynomialFactory(polyColl, enumerateFunction)\n",
    "multivariateBasis"
   ]
  },
  {
   "cell_type": "code",
   "execution_count": null,
   "id": "lucky-prior",
   "metadata": {},
   "outputs": [],
   "source": []
  }
 ],
 "metadata": {
  "kernelspec": {
   "display_name": "Python 3",
   "language": "python",
   "name": "python3"
  },
  "language_info": {
   "codemirror_mode": {
    "name": "ipython",
    "version": 3
   },
   "file_extension": ".py",
   "mimetype": "text/x-python",
   "name": "python",
   "nbconvert_exporter": "python",
   "pygments_lexer": "ipython3",
   "version": "3.9.2"
  }
 },
 "nbformat": 4,
 "nbformat_minor": 5
}
