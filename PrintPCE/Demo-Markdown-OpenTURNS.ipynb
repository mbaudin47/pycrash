{
 "cells": [
  {
   "cell_type": "code",
   "execution_count": 1,
   "id": "hidden-magazine",
   "metadata": {},
   "outputs": [],
   "source": [
    "from IPython.display import Markdown\n",
    "from openturns.usecases import stressed_beam\n",
    "import openturns as ot"
   ]
  },
  {
   "cell_type": "markdown",
   "id": "atlantic-monkey",
   "metadata": {},
   "source": [
    "## Format a Markdown content"
   ]
  },
  {
   "cell_type": "code",
   "execution_count": 2,
   "id": "nutritional-conversion",
   "metadata": {},
   "outputs": [
    {
     "name": "stdout",
     "output_type": "stream",
     "text": [
      "- item\n",
      "- item\n",
      "\n",
      "| Index | Value |\n",
      "|-------|-------|\n",
      "|     0 |     1 |\n",
      "|     1 |     2 |\n",
      "|     2 |     3 |\n",
      "|     3 |     4 |\n",
      "|     4 |     5 |\n",
      "\n",
      "\n"
     ]
    }
   ],
   "source": [
    "markdown = \"\"\n",
    "# Itemized list\n",
    "markdown += \"- item\\n\"\n",
    "markdown += \"- item\\n\"\n",
    "markdown += \"\\n\"\n",
    "# Table\n",
    "markdown += \"| Index | Value |\\n\"\n",
    "markdown += \"|-------|-------|\\n\"\n",
    "n = 5\n",
    "for i in range(n):\n",
    "    markdown += \"| %5s | %5s |\\n\" % (i, 1 + i)\n",
    "markdown += \"\\n\"\n",
    "print(markdown)"
   ]
  },
  {
   "cell_type": "code",
   "execution_count": 3,
   "id": "integrated-interstate",
   "metadata": {},
   "outputs": [
    {
     "data": {
      "text/markdown": [
       "- item\n",
       "- item\n",
       "\n",
       "| Index | Value |\n",
       "|-------|-------|\n",
       "|     0 |     1 |\n",
       "|     1 |     2 |\n",
       "|     2 |     3 |\n",
       "|     3 |     4 |\n",
       "|     4 |     5 |\n",
       "\n"
      ],
      "text/plain": [
       "<IPython.core.display.Markdown object>"
      ]
     },
     "execution_count": 3,
     "metadata": {},
     "output_type": "execute_result"
    }
   ],
   "source": [
    "Markdown(markdown)"
   ]
  },
  {
   "cell_type": "markdown",
   "id": "protecting-marina",
   "metadata": {},
   "source": [
    "## Format OpenTURNS results using Markdown"
   ]
  },
  {
   "cell_type": "code",
   "execution_count": 4,
   "id": "selected-spider",
   "metadata": {},
   "outputs": [],
   "source": [
    "def computeReliabilityResult(maximumNumberOfBlocks, maximumCoV, blockSize = 1):\n",
    "    sm = stressed_beam.AxialStressedBeam()\n",
    "    limitStateFunction = sm.model\n",
    "    inputRandomVector = ot.RandomVector(sm.distribution)\n",
    "    outputRandomVector = ot.CompositeRandomVector(limitStateFunction, inputRandomVector)\n",
    "    myEvent = ot.ThresholdEvent(outputRandomVector, ot.Less(), 0.0)\n",
    "    experiment = ot.MonteCarloExperiment()\n",
    "    algoMC = ot.ProbabilitySimulationAlgorithm(myEvent, experiment)\n",
    "    algoMC.setMaximumOuterSampling(maximumNumberOfBlocks)\n",
    "    algoMC.setBlockSize(blockSize)\n",
    "    algoMC.setMaximumCoefficientOfVariation(maximumCoV)\n",
    "    algoMC.run()\n",
    "    psaResult = algoMC.getResult()\n",
    "    return psaResult"
   ]
  },
  {
   "cell_type": "code",
   "execution_count": 5,
   "id": "instrumental-spanish",
   "metadata": {},
   "outputs": [
    {
     "data": {
      "text/html": [
       "<p>probabilityEstimate=2.000000e-02 varianceEstimate=1.960000e-04 standard deviation=1.40e-02 coefficient of variation=7.00e-01 confidenceLength(0.95)=5.49e-02 outerSampling=100 blockSize=1</p>"
      ],
      "text/plain": [
       "probabilityEstimate=2.000000e-02 varianceEstimate=1.960000e-04 standard deviation=1.40e-02 coefficient of variation=7.00e-01 confidenceLength(0.95)=5.49e-02 outerSampling=100 blockSize=1"
      ]
     },
     "execution_count": 5,
     "metadata": {},
     "output_type": "execute_result"
    }
   ],
   "source": [
    "maximumNumberOfBlocks = 100\n",
    "maximumCoV = 0.0\n",
    "psaResult = computeReliabilityResult(maximumNumberOfBlocks, maximumCoV)\n",
    "psaResult"
   ]
  },
  {
   "cell_type": "markdown",
   "id": "matched-yorkshire",
   "metadata": {},
   "source": [
    "Raw output."
   ]
  },
  {
   "cell_type": "code",
   "execution_count": 6,
   "id": "exterior-hacker",
   "metadata": {},
   "outputs": [
    {
     "name": "stdout",
     "output_type": "stream",
     "text": [
      "4 0.0 0.0 0.0\n",
      "8 0.125 -0.10417230376766187 0.35417230376766184\n",
      "16 0.0625 -0.05610793548890565 0.18110793548890564\n",
      "32 0.09375 -0.007241017975272351 0.19474101797527235\n",
      "64 0.015625 -0.014759241885173201 0.046009241885173205\n",
      "128 0.03125 0.0011078674862344852 0.06139213251376552\n",
      "256 0.027343749999999997 0.007366447924197821 0.04732105207580217\n",
      "512 0.02929687500000001 0.014689675072731577 0.043904074927268444\n",
      "1024 0.027343749999999993 0.017355098962098903 0.037332401037901086\n",
      "2048 0.02978515625 0.02242279685792653 0.03714751564207347\n"
     ]
    }
   ],
   "source": [
    "sampleSizeList = []\n",
    "numberOfRepetitions = 10\n",
    "sampleSizeFactor = 2\n",
    "alpha = 0.05\n",
    "maximumNumberOfBlocks = 2\n",
    "for i in range(numberOfRepetitions):\n",
    "    maximumNumberOfBlocks *= sampleSizeFactor\n",
    "    psaResult = computeReliabilityResult(maximumNumberOfBlocks, maximumCoV)\n",
    "    probability = psaResult.getProbabilityEstimate()\n",
    "    pflen = psaResult.getConfidenceLength(1 - alpha)\n",
    "    pfLower = probability - pflen / 2\n",
    "    pfUpper = probability + pflen / 2\n",
    "    print(maximumNumberOfBlocks, probability, pfLower, pfUpper)"
   ]
  },
  {
   "cell_type": "markdown",
   "id": "copyrighted-header",
   "metadata": {},
   "source": [
    "With Markdown"
   ]
  },
  {
   "cell_type": "code",
   "execution_count": 7,
   "id": "sexual-advocate",
   "metadata": {},
   "outputs": [
    {
     "name": "stdout",
     "output_type": "stream",
     "text": [
      "|   n   |    Pf     |    95%  C.I.             |\n",
      "|-------|-----------|--------------------------|\n",
      "|     4 | 2.500e-01 | [-1.743e-01,  6.743e-01] |\n",
      "|     8 | 0.000e+00 | [ 0.000e+00,  0.000e+00] |\n",
      "|    16 | 6.250e-02 | [-5.611e-02,  1.811e-01] |\n",
      "|    32 | 0.000e+00 | [ 0.000e+00,  0.000e+00] |\n",
      "|    64 | 6.250e-02 | [ 3.196e-03,  1.218e-01] |\n",
      "|   128 | 5.469e-02 | [ 1.530e-02,  9.408e-02] |\n",
      "|   256 | 2.344e-02 | [ 4.905e-03,  4.197e-02] |\n",
      "|   512 | 2.148e-02 | [ 8.925e-03,  3.404e-02] |\n",
      "|  1024 | 3.418e-02 | [ 2.305e-02,  4.531e-02] |\n",
      "|  2048 | 2.539e-02 | [ 1.858e-02,  3.220e-02] |\n",
      "\n"
     ]
    }
   ],
   "source": [
    "sampleSizeList = []\n",
    "numberOfRepetitions = 10\n",
    "sampleSizeFactor = 2\n",
    "alpha = 0.05\n",
    "maximumNumberOfBlocks = 2\n",
    "markdown = \"\"\n",
    "markdown += \"|   n   |    Pf     |    %.0f%%  C.I.             |\\n\" % (100 * (1.0 - alpha))\n",
    "markdown += \"|-------|-----------|--------------------------|\\n\"\n",
    "for i in range(numberOfRepetitions):\n",
    "    maximumNumberOfBlocks *= sampleSizeFactor\n",
    "    psaResult = computeReliabilityResult(maximumNumberOfBlocks, maximumCoV)\n",
    "    probability = psaResult.getProbabilityEstimate()\n",
    "    pflen = psaResult.getConfidenceLength(1 - alpha)\n",
    "    pfLower = probability - pflen / 2\n",
    "    pfUpper = probability + pflen / 2\n",
    "    markdown += \"| %5d | %.3e | [%10.3e, %10.3e] |\\n\" % (\n",
    "        maximumNumberOfBlocks, probability, pfLower, pfUpper)\n",
    "print(markdown)"
   ]
  },
  {
   "cell_type": "code",
   "execution_count": 8,
   "id": "liable-webcam",
   "metadata": {},
   "outputs": [
    {
     "data": {
      "text/markdown": [
       "|   n   |    Pf     |    95%  C.I.             |\n",
       "|-------|-----------|--------------------------|\n",
       "|     4 | 2.500e-01 | [-1.743e-01,  6.743e-01] |\n",
       "|     8 | 0.000e+00 | [ 0.000e+00,  0.000e+00] |\n",
       "|    16 | 6.250e-02 | [-5.611e-02,  1.811e-01] |\n",
       "|    32 | 0.000e+00 | [ 0.000e+00,  0.000e+00] |\n",
       "|    64 | 6.250e-02 | [ 3.196e-03,  1.218e-01] |\n",
       "|   128 | 5.469e-02 | [ 1.530e-02,  9.408e-02] |\n",
       "|   256 | 2.344e-02 | [ 4.905e-03,  4.197e-02] |\n",
       "|   512 | 2.148e-02 | [ 8.925e-03,  3.404e-02] |\n",
       "|  1024 | 3.418e-02 | [ 2.305e-02,  4.531e-02] |\n",
       "|  2048 | 2.539e-02 | [ 1.858e-02,  3.220e-02] |\n"
      ],
      "text/plain": [
       "<IPython.core.display.Markdown object>"
      ]
     },
     "execution_count": 8,
     "metadata": {},
     "output_type": "execute_result"
    }
   ],
   "source": [
    "Markdown(markdown)"
   ]
  },
  {
   "cell_type": "code",
   "execution_count": null,
   "id": "headed-sudan",
   "metadata": {},
   "outputs": [],
   "source": []
  }
 ],
 "metadata": {
  "kernelspec": {
   "display_name": "Python 3",
   "language": "python",
   "name": "python3"
  },
  "language_info": {
   "codemirror_mode": {
    "name": "ipython",
    "version": 3
   },
   "file_extension": ".py",
   "mimetype": "text/x-python",
   "name": "python",
   "nbconvert_exporter": "python",
   "pygments_lexer": "ipython3",
   "version": "3.9.2"
  }
 },
 "nbformat": 4,
 "nbformat_minor": 5
}
