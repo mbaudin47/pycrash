{
 "cells": [
  {
   "cell_type": "code",
   "execution_count": 1,
   "id": "bright-subsection",
   "metadata": {},
   "outputs": [],
   "source": [
    "import openturns as ot\n",
    "from openturns.usecases import flood_model\n",
    "import otpce\n",
    "from IPython.display import Markdown"
   ]
  },
  {
   "cell_type": "code",
   "execution_count": 2,
   "id": "distant-hurricane",
   "metadata": {},
   "outputs": [
    {
     "name": "stdout",
     "output_type": "stream",
     "text": [
      "1.19\n"
     ]
    }
   ],
   "source": [
    "print(ot.__version__)"
   ]
  },
  {
   "cell_type": "code",
   "execution_count": 3,
   "id": "cordless-oliver",
   "metadata": {},
   "outputs": [
    {
     "data": {
      "text/html": [
       "<ul>\n",
       "  <li>Dimension : 4</li>\n",
       "  <li>Copula : IndependentCopula</li>\n",
       "</ul>\n",
       "\n",
       "<table>\n",
       "<tr>\n",
       "  <th>Index</th>\n",
       "  <th>Variable</th>\n",
       "  <th>Distribution</th>\n",
       "</tr>\n",
       "<tr>\n",
       "  <td>0</td>\n",
       "  <td>Q</td>\n",
       "  <td>TruncatedDistribution(Gumbel(beta = 558, gamma = 1013), bounds = [0, (19000.8) +inf[)</td>\n",
       "</tr>\n",
       "<tr>\n",
       "  <td>1</td>\n",
       "  <td>Ks</td>\n",
       "  <td>TruncatedDistribution(Normal(mu = 30, sigma = 7.5), bounds = [0, (87.3797) +inf[)</td>\n",
       "</tr>\n",
       "<tr>\n",
       "  <td>2</td>\n",
       "  <td>Zv</td>\n",
       "  <td>Uniform(a = 49, b = 51)</td>\n",
       "</tr>\n",
       "<tr>\n",
       "  <td>3</td>\n",
       "  <td>Zm</td>\n",
       "  <td>Uniform(a = 54, b = 56)</td>\n",
       "</tr>\n",
       "</table>\n"
      ],
      "text/markdown": [
       "- Dimension 4\n",
       "- Copula IndependentCopula\n",
       "\n",
       "| Index | Variable | Distribution | \n",
       "|---|---|---| \n",
       "| 0 | Q | TruncatedDistribution(Gumbel(beta = 558, gamma = 1013), bounds = [0, (19000.8) +inf[)|\n",
       "| 1 | Ks | TruncatedDistribution(Normal(mu = 30, sigma = 7.5), bounds = [0, (87.3797) +inf[)|\n",
       "| 2 | Zv | Uniform(a = 49, b = 51)|\n",
       "| 3 | Zm | Uniform(a = 54, b = 56)|\n",
       "\n"
      ],
      "text/plain": [
       "<otpce.SuperDistribution.SuperDistribution at 0x7f7622a4ab00>"
      ]
     },
     "execution_count": 3,
     "metadata": {},
     "output_type": "execute_result"
    }
   ],
   "source": [
    "fm = flood_model.FloodModel()\n",
    "superDistribution = otpce.SuperDistribution(fm.distribution)\n",
    "superDistribution"
   ]
  },
  {
   "cell_type": "code",
   "execution_count": 4,
   "id": "547c305d",
   "metadata": {},
   "outputs": [
    {
     "data": {
      "text/markdown": [
       "- Dimension 4\n",
       "- Copula IndependentCopula\n",
       "\n",
       "| Index | Variable | Distribution | \n",
       "|---|---|---| \n",
       "| 0 | Q | TruncatedDistribution(Gumbel(beta = 558, gamma = 1013), bounds = [0, (19000.8) +inf[)|\n",
       "| 1 | Ks | TruncatedDistribution(Normal(mu = 30, sigma = 7.5), bounds = [0, (87.3797) +inf[)|\n",
       "| 2 | Zv | Uniform(a = 49, b = 51)|\n",
       "| 3 | Zm | Uniform(a = 54, b = 56)|\n",
       "\n"
      ],
      "text/plain": [
       "<IPython.core.display.Markdown object>"
      ]
     },
     "execution_count": 4,
     "metadata": {},
     "output_type": "execute_result"
    }
   ],
   "source": [
    "Markdown(superDistribution._repr_markdown_())"
   ]
  },
  {
   "cell_type": "code",
   "execution_count": null,
   "id": "783e9399",
   "metadata": {},
   "outputs": [],
   "source": []
  }
 ],
 "metadata": {
  "kernelspec": {
   "display_name": "Python 3",
   "language": "python",
   "name": "python3"
  },
  "language_info": {
   "codemirror_mode": {
    "name": "ipython",
    "version": 3
   },
   "file_extension": ".py",
   "mimetype": "text/x-python",
   "name": "python",
   "nbconvert_exporter": "python",
   "pygments_lexer": "ipython3",
   "version": "3.9.2"
  }
 },
 "nbformat": 4,
 "nbformat_minor": 5
}
