{
 "cells": [
  {
   "cell_type": "code",
   "execution_count": 1,
   "id": "abroad-arthritis",
   "metadata": {},
   "outputs": [],
   "source": [
    "import openturns as ot"
   ]
  },
  {
   "cell_type": "code",
   "execution_count": 2,
   "id": "contained-macedonia",
   "metadata": {},
   "outputs": [
    {
     "data": {
      "text/plain": [
       "'1.21dev'"
      ]
     },
     "execution_count": 2,
     "metadata": {},
     "output_type": "execute_result"
    }
   ],
   "source": [
    "ot.__version__"
   ]
  },
  {
   "cell_type": "code",
   "execution_count": 3,
   "id": "detailed-rocket",
   "metadata": {},
   "outputs": [
    {
     "name": "stdout",
     "output_type": "stream",
     "text": [
      "<class 'openturns.orthogonalbasis.OrthogonalProductPolynomialFactory'>\n"
     ]
    },
    {
     "data": {
      "text/html": [
       "<ul>\n",
       "  <li>dimension: 4</li>\n",
       "  <li>enumerate function: class=HyperbolicAnisotropicEnumerateFunction derived from class=HyperbolicAnisotropicEnumerateFunction dimension=4 q=0.4 weights=class=Point name=Unnamed dimension=4 values=[1,1,1,1]</li>\n",
       "</ul>\n",
       "\n",
       "<table>\n",
       "<tr>\n",
       "  <th>Index</th>\n",
       "  <th>Name</th>\n",
       "  <th>Distribution</th>\n",
       "  <th>Univariate polynomial</th>\n",
       "</tr>\n",
       "<tr>\n",
       "  <td>0</td>\n",
       "  <td>X0</td>\n",
       "  <td>Normal</td>\n",
       "  <td>HermiteFactory</td>\n",
       "</tr>\n",
       "<tr>\n",
       "  <td>1</td>\n",
       "  <td>X1</td>\n",
       "  <td>Uniform</td>\n",
       "  <td>LegendreFactory</td>\n",
       "</tr>\n",
       "<tr>\n",
       "  <td>2</td>\n",
       "  <td>X2</td>\n",
       "  <td>Gamma</td>\n",
       "  <td>LaguerreFactory</td>\n",
       "</tr>\n",
       "<tr>\n",
       "  <td>3</td>\n",
       "  <td>X3</td>\n",
       "  <td>Beta</td>\n",
       "  <td>JacobiFactory</td>\n",
       "</tr>\n",
       "</table>\n"
      ],
      "text/plain": [
       "class=OrthogonalProductPolynomialFactory univariate polynomial collection=[class=OrthogonalUniVariatePolynomialFamily implementation=class=HermiteFactory measure=class=Normal name=Normal dimension=1 mean=class=Point name=Unnamed dimension=1 values=[0] sigma=class=Point name=Unnamed dimension=1 values=[1] correlationMatrix=class=CorrelationMatrix dimension=1 implementation=class=MatrixImplementation name=Unnamed rows=1 columns=1 values=[1],class=OrthogonalUniVariatePolynomialFamily implementation=class=LegendreFactory measure=class=Uniform name=Uniform dimension=1 a=-1 b=1,class=OrthogonalUniVariatePolynomialFamily implementation=class=LaguerreFactory k=2.75 measure=class=Gamma name=Gamma dimension=1 k=3.75 lambda=1 gamma=0,class=OrthogonalUniVariatePolynomialFamily implementation=class=JacobiFactory alpha=0 beta=1.5 measure=class=Beta name=Beta dimension=1 alpha=2.5 beta=1 a=-1 b=1] measure=class=ComposedDistribution name=ComposedDistribution dimension=4 copula=class=IndependentCopula name=IndependentCopula dimension=4 marginal[0]=class=Normal name=Normal dimension=1 mean=class=Point name=Unnamed dimension=1 values=[0] sigma=class=Point name=Unnamed dimension=1 values=[1] correlationMatrix=class=CorrelationMatrix dimension=1 implementation=class=MatrixImplementation name=Unnamed rows=1 columns=1 values=[1] marginal[1]=class=Uniform name=Uniform dimension=1 a=-1 b=1 marginal[2]=class=Gamma name=Gamma dimension=1 k=3.75 lambda=1 gamma=0 marginal[3]=class=Beta name=Beta dimension=1 alpha=2.5 beta=1 a=-1 b=1"
      ]
     },
     "execution_count": 3,
     "metadata": {},
     "output_type": "execute_result"
    }
   ],
   "source": [
    "inputDimension = 4\n",
    "q = 0.4\n",
    "enumerateFunction = ot.HyperbolicAnisotropicEnumerateFunction(inputDimension, q)\n",
    "polyColl = ot.PolynomialFamilyCollection(inputDimension)\n",
    "polyColl[0] = ot.HermiteFactory()\n",
    "polyColl[1] = ot.LegendreFactory()\n",
    "polyColl[2] = ot.LaguerreFactory(2.75)\n",
    "# Parameter for the Jacobi factory : 'Probabilty' encoded with 1\n",
    "polyColl[3] = ot.JacobiFactory(2.5, 3.5, 1)\n",
    "multivariateBasis = ot.OrthogonalProductPolynomialFactory(polyColl, enumerateFunction)\n",
    "print(type(multivariateBasis))\n",
    "multivariateBasis"
   ]
  },
  {
   "cell_type": "code",
   "execution_count": 4,
   "id": "lonely-classification",
   "metadata": {},
   "outputs": [
    {
     "data": {
      "text/plain": [
       "[class=OrthogonalUniVariatePolynomialFamily implementation=class=HermiteFactory measure=class=Normal name=Normal dimension=1 mean=class=Point name=Unnamed dimension=1 values=[0] sigma=class=Point name=Unnamed dimension=1 values=[1] correlationMatrix=class=CorrelationMatrix dimension=1 implementation=class=MatrixImplementation name=Unnamed rows=1 columns=1 values=[1],class=OrthogonalUniVariatePolynomialFamily implementation=class=LegendreFactory measure=class=Uniform name=Uniform dimension=1 a=-1 b=1,class=OrthogonalUniVariatePolynomialFamily implementation=class=LaguerreFactory k=2.75 measure=class=Gamma name=Gamma dimension=1 k=3.75 lambda=1 gamma=0,class=OrthogonalUniVariatePolynomialFamily implementation=class=JacobiFactory alpha=0 beta=1.5 measure=class=Beta name=Beta dimension=1 alpha=2.5 beta=1 a=-1 b=1]"
      ]
     },
     "execution_count": 4,
     "metadata": {},
     "output_type": "execute_result"
    }
   ],
   "source": [
    "polynomialCollection = multivariateBasis.getPolynomialFamilyCollection()\n",
    "polynomialCollection"
   ]
  },
  {
   "cell_type": "code",
   "execution_count": 5,
   "id": "outside-knowing",
   "metadata": {},
   "outputs": [
    {
     "data": {
      "text/html": [
       "<p>class=HermiteFactory measure=class=Normal name=Normal dimension=1 mean=class=Point name=Unnamed dimension=1 values=[0] sigma=class=Point name=Unnamed dimension=1 values=[1] correlationMatrix=class=CorrelationMatrix dimension=1 implementation=class=MatrixImplementation name=Unnamed rows=1 columns=1 values=[1]</p>"
      ],
      "text/plain": [
       "class=OrthogonalUniVariatePolynomialFamily implementation=class=HermiteFactory measure=class=Normal name=Normal dimension=1 mean=class=Point name=Unnamed dimension=1 values=[0] sigma=class=Point name=Unnamed dimension=1 values=[1] correlationMatrix=class=CorrelationMatrix dimension=1 implementation=class=MatrixImplementation name=Unnamed rows=1 columns=1 values=[1]"
      ]
     },
     "execution_count": 5,
     "metadata": {},
     "output_type": "execute_result"
    }
   ],
   "source": [
    "univariatePolynomial = polynomialCollection[0]\n",
    "univariatePolynomial"
   ]
  },
  {
   "cell_type": "code",
   "execution_count": 6,
   "id": "liked-heritage",
   "metadata": {},
   "outputs": [
    {
     "data": {
      "text/html": [
       "<p>class=HermiteFactory measure=class=Normal name=Normal dimension=1 mean=class=Point name=Unnamed dimension=1 values=[0] sigma=class=Point name=Unnamed dimension=1 values=[1] correlationMatrix=class=CorrelationMatrix dimension=1 implementation=class=MatrixImplementation name=Unnamed rows=1 columns=1 values=[1]</p>"
      ],
      "text/plain": [
       "class=HermiteFactory measure=class=Normal name=Normal dimension=1 mean=class=Point name=Unnamed dimension=1 values=[0] sigma=class=Point name=Unnamed dimension=1 values=[1] correlationMatrix=class=CorrelationMatrix dimension=1 implementation=class=MatrixImplementation name=Unnamed rows=1 columns=1 values=[1]"
      ]
     },
     "execution_count": 6,
     "metadata": {},
     "output_type": "execute_result"
    }
   ],
   "source": [
    "univariateImplementation = univariatePolynomial.getImplementation()\n",
    "univariateImplementation"
   ]
  },
  {
   "cell_type": "code",
   "execution_count": 7,
   "id": "infectious-dominant",
   "metadata": {},
   "outputs": [
    {
     "data": {
      "text/plain": [
       "'HermiteFactory'"
      ]
     },
     "execution_count": 7,
     "metadata": {},
     "output_type": "execute_result"
    }
   ],
   "source": [
    "univariateImplementation.getClassName()"
   ]
  },
  {
   "cell_type": "code",
   "execution_count": 8,
   "id": "answering-browse",
   "metadata": {},
   "outputs": [
    {
     "data": {
      "text/plain": [
       "'OrthogonalUniVariatePolynomialFamily'"
      ]
     },
     "execution_count": 8,
     "metadata": {},
     "output_type": "execute_result"
    }
   ],
   "source": [
    "univariatePolynomial.getClassName()"
   ]
  },
  {
   "cell_type": "code",
   "execution_count": null,
   "id": "altered-pepper",
   "metadata": {},
   "outputs": [],
   "source": []
  }
 ],
 "metadata": {
  "kernelspec": {
   "display_name": "Python 3",
   "language": "python",
   "name": "python3"
  },
  "language_info": {
   "codemirror_mode": {
    "name": "ipython",
    "version": 3
   },
   "file_extension": ".py",
   "mimetype": "text/x-python",
   "name": "python",
   "nbconvert_exporter": "python",
   "pygments_lexer": "ipython3",
   "version": "3.9.2"
  }
 },
 "nbformat": 4,
 "nbformat_minor": 5
}
