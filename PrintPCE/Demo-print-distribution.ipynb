{
 "cells": [
  {
   "cell_type": "code",
   "execution_count": 1,
   "id": "accessory-salon",
   "metadata": {},
   "outputs": [],
   "source": [
    "import openturns as ot\n",
    "from openturns.usecases import flood_model"
   ]
  },
  {
   "cell_type": "code",
   "execution_count": 2,
   "id": "incredible-athletics",
   "metadata": {},
   "outputs": [
    {
     "name": "stdout",
     "output_type": "stream",
     "text": [
      "1.21dev\n"
     ]
    }
   ],
   "source": [
    "print(ot.__version__)"
   ]
  },
  {
   "cell_type": "markdown",
   "id": "likely-corporation",
   "metadata": {},
   "source": [
    "## ComposedDistribution"
   ]
  },
  {
   "cell_type": "code",
   "execution_count": 3,
   "id": "civilian-passenger",
   "metadata": {},
   "outputs": [
    {
     "name": "stdout",
     "output_type": "stream",
     "text": [
      "<class 'openturns.model_copula.ComposedDistribution'>\n"
     ]
    },
    {
     "data": {
      "text/html": [
       "<ul>\n",
       "  <li>dimension: 4</li>\n",
       "  <li>copula: IndependentCopula</li>\n",
       "</ul>\n",
       "\n",
       "<table>\n",
       "  <tr>\n",
       "    <th>Index</th>\n",
       "    <th>Variable</th>\n",
       "    <th>Distribution</th>\n",
       "  </tr>\n",
       "  <tr>\n",
       "    <td>0</td>\n",
       "    <td>Q</td>\n",
       "    <td>TruncatedDistribution(Gumbel(beta = 558, gamma = 1013), bounds = [0, (19000.8) +inf[)</td>\n",
       "  </tr>\n",
       "  <tr>\n",
       "    <td>1</td>\n",
       "    <td>Ks</td>\n",
       "    <td>TruncatedDistribution(Normal(mu = 30, sigma = 7.5), bounds = [0, (87.3797) +inf[)</td>\n",
       "  </tr>\n",
       "  <tr>\n",
       "    <td>2</td>\n",
       "    <td>Zv</td>\n",
       "    <td>Uniform(a = 49, b = 51)</td>\n",
       "  </tr>\n",
       "  <tr>\n",
       "    <td>3</td>\n",
       "    <td>Zm</td>\n",
       "    <td>Uniform(a = 54, b = 56)</td>\n",
       "  </tr>\n",
       "</table>\n"
      ],
      "text/markdown": [
       "ComposedDistribution\n",
       "- name=ComposedDistribution\n",
       "- dimension=4\n",
       "- description=[Q,Ks,Zv,Zm]\n",
       "- copula=IndependentCopula(dimension = 4)\n",
       "\n",
       "| Index | Variable | Distribution                                                                          |\n",
       "|-------|----------|---------------------------------------------------------------------------------------|\n",
       "|     0 |        Q | TruncatedDistribution(Gumbel(beta = 558, gamma = 1013), bounds = [0, (19000.8) +inf[) |\n",
       "|     1 |       Ks | TruncatedDistribution(Normal(mu = 30, sigma = 7.5), bounds = [0, (87.3797) +inf[)     |\n",
       "|     2 |       Zv | Uniform(a = 49, b = 51)                                                               |\n",
       "|     3 |       Zm | Uniform(a = 54, b = 56)                                                               |\n"
      ],
      "text/plain": [
       "class=ComposedDistribution name=ComposedDistribution dimension=4 copula=class=IndependentCopula name=IndependentCopula dimension=4 marginal[0]=class=TruncatedDistribution name=Q distribution=class=Gumbel name=Gumbel dimension=1 beta=558 gamma=1013 bounds=class=Interval name=Unnamed dimension=1 lower bound=class=Point name=Unnamed dimension=1 values=[0] upper bound=class=Point name=Unnamed dimension=1 values=[19000.8] finite lower bound=[1] finite upper bound=[0] thresholdRealization=0.5 marginal[1]=class=TruncatedDistribution name=Ks distribution=class=Normal name=Normal dimension=1 mean=class=Point name=Unnamed dimension=1 values=[30] sigma=class=Point name=Unnamed dimension=1 values=[7.5] correlationMatrix=class=CorrelationMatrix dimension=1 implementation=class=MatrixImplementation name=Unnamed rows=1 columns=1 values=[1] bounds=class=Interval name=Unnamed dimension=1 lower bound=class=Point name=Unnamed dimension=1 values=[0] upper bound=class=Point name=Unnamed dimension=1 values=[87.3797] finite lower bound=[1] finite upper bound=[0] thresholdRealization=0.5 marginal[2]=class=Uniform name=Zv dimension=1 a=49 b=51 marginal[3]=class=Uniform name=Zm dimension=1 a=54 b=56"
      ]
     },
     "execution_count": 3,
     "metadata": {},
     "output_type": "execute_result"
    }
   ],
   "source": [
    "fm = flood_model.FloodModel()\n",
    "print(type(fm.distribution))\n",
    "fm.distribution"
   ]
  },
  {
   "cell_type": "code",
   "execution_count": 4,
   "id": "geographic-cheat",
   "metadata": {},
   "outputs": [
    {
     "data": {
      "text/plain": [
       "openturns.model_copula.ComposedDistribution"
      ]
     },
     "execution_count": 4,
     "metadata": {},
     "output_type": "execute_result"
    }
   ],
   "source": [
    "type(fm.distribution)"
   ]
  },
  {
   "cell_type": "code",
   "execution_count": 5,
   "id": "manufactured-generic",
   "metadata": {},
   "outputs": [
    {
     "data": {
      "text/html": [
       "<p>TruncatedDistribution(Gumbel(beta = 558, gamma = 1013), bounds = [0, (19000.8) +inf[)</p>"
      ],
      "text/plain": [
       "class=TruncatedDistribution name=Q distribution=class=Gumbel name=Gumbel dimension=1 beta=558 gamma=1013 bounds=class=Interval name=Unnamed dimension=1 lower bound=class=Point name=Unnamed dimension=1 values=[0] upper bound=class=Point name=Unnamed dimension=1 values=[19000.8] finite lower bound=[1] finite upper bound=[0] thresholdRealization=0.5"
      ]
     },
     "execution_count": 5,
     "metadata": {},
     "output_type": "execute_result"
    }
   ],
   "source": [
    "fm.distribution.getMarginal(0)"
   ]
  },
  {
   "cell_type": "code",
   "execution_count": 6,
   "id": "round-yorkshire",
   "metadata": {},
   "outputs": [
    {
     "data": {
      "text/html": [
       "<p>IndependentCopula(dimension = 3)</p>"
      ],
      "text/plain": [
       "class=IndependentCopula name=IndependentCopula dimension=3"
      ]
     },
     "execution_count": 6,
     "metadata": {},
     "output_type": "execute_result"
    }
   ],
   "source": [
    "copula = ot.IndependentCopula(3)\n",
    "copula"
   ]
  },
  {
   "cell_type": "code",
   "execution_count": 7,
   "id": "alpha-start",
   "metadata": {},
   "outputs": [
    {
     "data": {
      "text/html": [
       "<ul>\n",
       "  <li>dimension: 1</li>\n",
       "  <li>copula: IndependentCopula</li>\n",
       "</ul>\n",
       "\n",
       "<table>\n",
       "  <tr>\n",
       "    <th>Index</th>\n",
       "    <th>Variable</th>\n",
       "    <th>Distribution</th>\n",
       "  </tr>\n",
       "  <tr>\n",
       "    <td>0</td>\n",
       "    <td>X0</td>\n",
       "    <td>Uniform(a = -1, b = 1)</td>\n",
       "  </tr>\n",
       "</table>\n"
      ],
      "text/markdown": [
       "ComposedDistribution\n",
       "- name=ComposedDistribution\n",
       "- dimension=1\n",
       "- description=[X0]\n",
       "\n",
       "| Index | Variable | Distribution           |\n",
       "|-------|----------|------------------------|\n",
       "|     0 |       X0 | Uniform(a = -1, b = 1) |\n"
      ],
      "text/plain": [
       "class=ComposedDistribution name=ComposedDistribution dimension=1 copula=class=IndependentCopula name=IndependentCopula dimension=1 marginal[0]=class=Uniform name=Uniform dimension=1 a=-1 b=1"
      ]
     },
     "execution_count": 7,
     "metadata": {},
     "output_type": "execute_result"
    }
   ],
   "source": [
    "distribution = ot.ComposedDistribution([ot.Uniform()])\n",
    "distribution"
   ]
  },
  {
   "cell_type": "code",
   "execution_count": 8,
   "id": "documented-thanks",
   "metadata": {},
   "outputs": [
    {
     "data": {
      "text/html": [
       "<p>Uniform(a = -1, b = 1)</p>"
      ],
      "text/plain": [
       "class=Uniform name=Uniform dimension=1 a=-1 b=1"
      ]
     },
     "execution_count": 8,
     "metadata": {},
     "output_type": "execute_result"
    }
   ],
   "source": [
    "distribution = ot.Uniform()\n",
    "distribution"
   ]
  },
  {
   "cell_type": "markdown",
   "id": "rolled-theology",
   "metadata": {},
   "source": [
    "## Distribution"
   ]
  },
  {
   "cell_type": "code",
   "execution_count": 9,
   "id": "removable-shooting",
   "metadata": {},
   "outputs": [
    {
     "name": "stdout",
     "output_type": "stream",
     "text": [
      "<class 'openturns.dist_bundle2.Normal'>\n"
     ]
    },
    {
     "data": {
      "text/html": [
       "<p>Normal(mu = [0,0,0,0], sigma = [1,1,1,1], R = [[ 1 0 0 0 ]<br>\n",
       " [ 0 1 0 0 ]<br>\n",
       " [ 0 0 1 0 ]<br>\n",
       " [ 0 0 0 1 ]])</p>"
      ],
      "text/plain": [
       "class=Normal name=Normal dimension=4 mean=class=Point name=Unnamed dimension=4 values=[0,0,0,0] sigma=class=Point name=Unnamed dimension=4 values=[1,1,1,1] correlationMatrix=class=CorrelationMatrix dimension=4 implementation=class=MatrixImplementation name=Unnamed rows=4 columns=4 values=[1,0,0,0,0,1,0,0,0,0,1,0,0,0,0,1]"
      ]
     },
     "execution_count": 9,
     "metadata": {},
     "output_type": "execute_result"
    }
   ],
   "source": [
    "distribution = ot.Normal(4)\n",
    "print(type(distribution))\n",
    "distribution"
   ]
  },
  {
   "cell_type": "code",
   "execution_count": 10,
   "id": "pointed-cowboy",
   "metadata": {},
   "outputs": [
    {
     "name": "stdout",
     "output_type": "stream",
     "text": [
      "<class 'openturns.model_copula.Distribution'>\n"
     ]
    },
    {
     "data": {
      "text/html": [
       "<p>Normal(mu = [0,0,0,0], sigma = [1,1,1,1], R = [[ 1 0 0 0 ]<br>\n",
       " [ 0 1 0 0 ]<br>\n",
       " [ 0 0 1 0 ]<br>\n",
       " [ 0 0 0 1 ]])</p>"
      ],
      "text/plain": [
       "class=Normal name=Normal dimension=4 mean=class=Point name=Unnamed dimension=4 values=[0,0,0,0] sigma=class=Point name=Unnamed dimension=4 values=[1,1,1,1] correlationMatrix=class=CorrelationMatrix dimension=4 implementation=class=MatrixImplementation name=Unnamed rows=4 columns=4 values=[1,0,0,0,0,1,0,0,0,0,1,0,0,0,0,1]"
      ]
     },
     "execution_count": 10,
     "metadata": {},
     "output_type": "execute_result"
    }
   ],
   "source": [
    "distribution = ot.Distribution(ot.Normal(4))\n",
    "print(type(distribution))\n",
    "distribution"
   ]
  },
  {
   "cell_type": "code",
   "execution_count": 11,
   "id": "eleven-cambodia",
   "metadata": {},
   "outputs": [
    {
     "data": {
      "text/html": [
       "<p>]-inf (-7.65063), (7.65063) +inf[<br>\n",
       "]-inf (-7.65063), (7.65063) +inf[<br>\n",
       "]-inf (-7.65063), (7.65063) +inf[<br>\n",
       "]-inf (-7.65063), (7.65063) +inf[</p>"
      ],
      "text/plain": [
       "class=Interval name=Unnamed dimension=4 lower bound=class=Point name=Unnamed dimension=4 values=[-7.65063,-7.65063,-7.65063,-7.65063] upper bound=class=Point name=Unnamed dimension=4 values=[7.65063,7.65063,7.65063,7.65063] finite lower bound=[0,0,0,0] finite upper bound=[0,0,0,0]"
      ]
     },
     "execution_count": 11,
     "metadata": {},
     "output_type": "execute_result"
    }
   ],
   "source": [
    "distribution.getRange()"
   ]
  },
  {
   "cell_type": "code",
   "execution_count": 12,
   "id": "finnish-hundred",
   "metadata": {},
   "outputs": [
    {
     "data": {
      "text/plain": [
       "False"
      ]
     },
     "execution_count": 12,
     "metadata": {},
     "output_type": "execute_result"
    }
   ],
   "source": [
    "distribution.isCopula()"
   ]
  },
  {
   "cell_type": "code",
   "execution_count": 13,
   "id": "strong-thickness",
   "metadata": {},
   "outputs": [
    {
     "name": "stdout",
     "output_type": "stream",
     "text": [
      "Normal(mu = [0,0,0,0], sigma = [1,1,1,1], R = [[ 1 0 0 0 ]\n",
      " [ 0 1 0 0 ]\n",
      " [ 0 0 1 0 ]\n",
      " [ 0 0 0 1 ]])\n"
     ]
    }
   ],
   "source": [
    "print(distribution.__str__())"
   ]
  },
  {
   "cell_type": "code",
   "execution_count": 14,
   "id": "retained-samuel",
   "metadata": {},
   "outputs": [
    {
     "name": "stdout",
     "output_type": "stream",
     "text": [
      "Normal(mu = [0,0,0,0], sigma = [1,1,1,1], R = [[ 1 0 0 0 ]\n",
      " [ 0 1 0 0 ]\n",
      " [ 0 0 1 0 ]\n",
      " [ 0 0 0 1 ]])\n"
     ]
    }
   ],
   "source": [
    "print(distribution)"
   ]
  },
  {
   "cell_type": "markdown",
   "id": "interracial-debut",
   "metadata": {},
   "source": [
    "## GetStandardRepresentative"
   ]
  },
  {
   "cell_type": "code",
   "execution_count": 15,
   "id": "derived-deadline",
   "metadata": {},
   "outputs": [
    {
     "data": {
      "text/html": [
       "<p>Uniform(a = -12, b = 4)</p>"
      ],
      "text/plain": [
       "class=Uniform name=Uniform dimension=1 a=-12 b=4"
      ]
     },
     "execution_count": 15,
     "metadata": {},
     "output_type": "execute_result"
    }
   ],
   "source": [
    "distribution = ot.Uniform(-12.0, 4.0)\n",
    "distribution.setDescription(\"A\")\n",
    "distribution"
   ]
  },
  {
   "cell_type": "code",
   "execution_count": 16,
   "id": "incorporated-holocaust",
   "metadata": {},
   "outputs": [
    {
     "data": {
      "text/html": [
       "<p>[A]</p>"
      ],
      "text/plain": [
       "[A]"
      ]
     },
     "execution_count": 16,
     "metadata": {},
     "output_type": "execute_result"
    }
   ],
   "source": [
    "distribution.getDescription()"
   ]
  },
  {
   "cell_type": "code",
   "execution_count": 17,
   "id": "competitive-spiritual",
   "metadata": {},
   "outputs": [
    {
     "data": {
      "text/html": [
       "<p>Uniform(a = -1, b = 1)</p>"
      ],
      "text/plain": [
       "class=Uniform name=Uniform dimension=1 a=-1 b=1"
      ]
     },
     "execution_count": 17,
     "metadata": {},
     "output_type": "execute_result"
    }
   ],
   "source": [
    "standard = distribution.getStandardRepresentative()\n",
    "standard"
   ]
  },
  {
   "cell_type": "code",
   "execution_count": 18,
   "id": "yellow-hours",
   "metadata": {},
   "outputs": [
    {
     "data": {
      "text/html": [
       "<p>[A]</p>"
      ],
      "text/plain": [
       "[A]"
      ]
     },
     "execution_count": 18,
     "metadata": {},
     "output_type": "execute_result"
    }
   ],
   "source": [
    "standard.getDescription()"
   ]
  },
  {
   "cell_type": "code",
   "execution_count": 19,
   "id": "considerable-dream",
   "metadata": {},
   "outputs": [
    {
     "data": {
      "text/html": [
       "<p>Normal(mu = -12, sigma = 4)</p>"
      ],
      "text/plain": [
       "class=Normal name=Normal dimension=1 mean=class=Point name=Unnamed dimension=1 values=[-12] sigma=class=Point name=Unnamed dimension=1 values=[4] correlationMatrix=class=CorrelationMatrix dimension=1 implementation=class=MatrixImplementation name=Unnamed rows=1 columns=1 values=[1]"
      ]
     },
     "execution_count": 19,
     "metadata": {},
     "output_type": "execute_result"
    }
   ],
   "source": [
    "distribution = ot.Normal(-12.0, 4.0)\n",
    "distribution.setDescription(\"A\")\n",
    "distribution"
   ]
  },
  {
   "cell_type": "code",
   "execution_count": 20,
   "id": "warming-grammar",
   "metadata": {},
   "outputs": [
    {
     "data": {
      "text/html": [
       "<p>Normal(mu = 0, sigma = 1)</p>"
      ],
      "text/plain": [
       "class=Normal name=Normal dimension=1 mean=class=Point name=Unnamed dimension=1 values=[0] sigma=class=Point name=Unnamed dimension=1 values=[1] correlationMatrix=class=CorrelationMatrix dimension=1 implementation=class=MatrixImplementation name=Unnamed rows=1 columns=1 values=[1]"
      ]
     },
     "execution_count": 20,
     "metadata": {},
     "output_type": "execute_result"
    }
   ],
   "source": [
    "standard = distribution.getStandardRepresentative()\n",
    "standard"
   ]
  },
  {
   "cell_type": "code",
   "execution_count": 21,
   "id": "spatial-handle",
   "metadata": {},
   "outputs": [
    {
     "data": {
      "text/html": [
       "<p>[A]</p>"
      ],
      "text/plain": [
       "[A]"
      ]
     },
     "execution_count": 21,
     "metadata": {},
     "output_type": "execute_result"
    }
   ],
   "source": [
    "standard.getDescription()"
   ]
  },
  {
   "cell_type": "code",
   "execution_count": 22,
   "id": "marine-machine",
   "metadata": {},
   "outputs": [
    {
     "data": {
      "text/html": [
       "<p>Rice(beta = 3, nu = 4)</p>"
      ],
      "text/plain": [
       "class=Rice name=Rice dimension=1 beta=3 nu=4"
      ]
     },
     "execution_count": 22,
     "metadata": {},
     "output_type": "execute_result"
    }
   ],
   "source": [
    "distribution = ot.Rice(3.0, 4.0)\n",
    "distribution.setDescription(\"A\")\n",
    "distribution"
   ]
  },
  {
   "cell_type": "code",
   "execution_count": 23,
   "id": "detected-bread",
   "metadata": {},
   "outputs": [
    {
     "data": {
      "text/html": [
       "<p>Rice(beta = 1, nu = 0)</p>"
      ],
      "text/plain": [
       "class=Rice name=Rice dimension=1 beta=1 nu=0"
      ]
     },
     "execution_count": 23,
     "metadata": {},
     "output_type": "execute_result"
    }
   ],
   "source": [
    "standard = distribution.getStandardRepresentative()\n",
    "standard"
   ]
  },
  {
   "cell_type": "code",
   "execution_count": 24,
   "id": "distant-friendship",
   "metadata": {},
   "outputs": [
    {
     "data": {
      "text/html": [
       "<p>[A]</p>"
      ],
      "text/plain": [
       "[A]"
      ]
     },
     "execution_count": 24,
     "metadata": {},
     "output_type": "execute_result"
    }
   ],
   "source": [
    "standard.getDescription()"
   ]
  },
  {
   "cell_type": "code",
   "execution_count": null,
   "id": "vital-climate",
   "metadata": {},
   "outputs": [],
   "source": []
  }
 ],
 "metadata": {
  "kernelspec": {
   "display_name": "Python 3",
   "language": "python",
   "name": "python3"
  },
  "language_info": {
   "codemirror_mode": {
    "name": "ipython",
    "version": 3
   },
   "file_extension": ".py",
   "mimetype": "text/x-python",
   "name": "python",
   "nbconvert_exporter": "python",
   "pygments_lexer": "ipython3",
   "version": "3.9.2"
  }
 },
 "nbformat": 4,
 "nbformat_minor": 5
}
