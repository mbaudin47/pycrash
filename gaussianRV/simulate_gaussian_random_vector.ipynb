{
 "cells": [
  {
   "cell_type": "markdown",
   "metadata": {},
   "source": [
    "# Simulate a Gaussian random vector with Cholesky decomposition\n",
    "\n",
    "In this document, we present the simulation of a random vector with arbitrary marginals and Gaussian copula. We assume that this copula has a full rank covariance matrix. We use the Cholesky decomposition to simulate the correlated Gaussian random vector.\n",
    "\n",
    "## Introduction\n",
    "\n",
    "The multivariate normal distribution of a k-dimensional random vector $\\boldsymbol{X} = (X_1,\\ldots,X_k)^T$ can be written in the following notation:\n",
    "\n",
    "$$\n",
    "\\boldsymbol{X}\\ \\sim\\ \\mathcal{N}(\\boldsymbol{\\mu},\\, \\Sigma),\n",
    "$$\n",
    "\n",
    "where $\\boldsymbol{\\mu} \\in \\mathbb{R}^k$ is the mean vector and $\\Sigma \\in \\mathbb{R}^{k\\times k}$ is the covariance matrix.\n",
    "\n",
    "## PDF\n",
    "\n",
    "Assuming that $\\Sigma$ has full rank, the probability density function is:\n",
    "\n",
    "$$\n",
    "f_{\\boldsymbol{x}}(\\boldsymbol{x}) = \\frac{1}{\\sqrt{(2\\pi)^k  |\\Sigma|}} \\exp\\left(-\\frac 1 2 (\\boldsymbol{x}-\\boldsymbol{\\mu})^\\mathrm{T}{\\Sigma}^{-1}(\\boldsymbol{x}-\\boldsymbol{\\mu})\\right)\n",
    "$$\n",
    "\n",
    "for any $\\boldsymbol{x}\\in\\mathbb{R}^k$. "
   ]
  },
  {
   "cell_type": "markdown",
   "metadata": {},
   "source": [
    "## Simulation\n",
    "\n",
    "Let $L \\in\\mathbb{R}^{k\\times k}$ by the Cholesky factor of $\\boldsymbol\\Sigma$ :\n",
    "\n",
    "$$\n",
    "\\boldsymbol\\Sigma = L L^T\n",
    "$$\n",
    "\n",
    "where $L$ is a lower triangular matrix. \n",
    "\n",
    "Let $\\boldsymbol{Z} \\in \\mathbb{R}^k$ be the random vector with independent marginals, such that :\n",
    "\n",
    "$$\n",
    "Z_i \\sim \\mathcal{N}(0, 1)\n",
    "$$\n",
    "\n",
    "for $i=1,\\ldots, k$. \n",
    "\n",
    "Therefore, \n",
    "\n",
    "$$\n",
    "\\boldsymbol{X} = \\boldsymbol{\\mu} + L \\boldsymbol{Z} \\sim \\mathcal{N}(\\boldsymbol\\mu,\\, \\boldsymbol\\Sigma).\n",
    "$$\n",
    "\n",
    "Indeed, its mean is :\n",
    "\n",
    "$$\n",
    "\\mathbb{E}[\\boldsymbol{X}] = \\boldsymbol{\\mu} + L  \\mathbb{E}[\\boldsymbol{Z}] = \\boldsymbol{\\mu}\n",
    "$$\n",
    "\n",
    "since $\\mathbb{E}[\\boldsymbol{Z}] = \\boldsymbol{0}$.\n",
    "\n",
    "Its covariance is:\n",
    "\n",
    "$$\n",
    "\\textrm{Cov}[\\boldsymbol{X}] = \\textrm{Cov}[L \\boldsymbol{Z}] = L \\textrm{Cov}[\\boldsymbol{Z}] L^T = L L^T = \\boldsymbol\\Sigma,\n",
    "$$\n",
    "\n",
    "by the properties of the covariance and the definition of $L$."
   ]
  },
  {
   "cell_type": "markdown",
   "metadata": {},
   "source": [
    "## Covariance matrix, correlation matrix and gaussian random vector\n",
    "\n",
    "In order to define a gaussian random vector, we can use either its covariance matrix or its correlation matrix. \n",
    "The covariance matrix $\\Sigma \\in \\mathbb{R}^{k \\times k}$ has entries:\n",
    "$$\n",
    "\\sigma_{i, j} = \\operatorname{Cov}[X_i, X_j] = \\mathbb{E}\\big[\\left(X_i - \\mathbb{E}[X_i]\\right)\\left(X_j - \\mathbb{E}[X_j]\\right)\\big]\n",
    "$$\n",
    "for $i, j = 1,..., k$.\n",
    "\n",
    "The correlation matrix $R \\in \\mathbb{R}^{k \\times k}$ has entries:\n",
    "$$\n",
    "r_{ij} = \\rho(X_i, X_j) = \\frac{\\operatorname{Cov}[X_i, X_j]}{\\sigma_i \\sigma_j}\n",
    "$$\n",
    "for $i, j = 1, ..., k$ where $\\sigma_i$ is the standard deviation:\n",
    "$$\n",
    "\\sigma_i = \\sqrt{\\mathbb{V}(X_i)}.\n",
    "$$\n",
    "\n",
    "Hence, there are two possible choices to define a gaussian random vector:\n",
    "- use the mean $\\boldsymbol{\\mu}$ and the covariance matrix $\\Sigma$,\n",
    "- use the mean $\\boldsymbol{\\mu}$, the standard deviations $\\boldsymbol{SD} = (\\sigma_1, ..., \\sigma_k)$ and the correlation matrix $R$."
   ]
  },
  {
   "cell_type": "markdown",
   "metadata": {},
   "source": [
    "## Arbitrary marginals with Gaussian copula\n",
    "\n",
    "Let $\\mathbf{X}\\in\\mathbb{R}^k$ be a random vector with marginal cumulative density function $F_i$ for $i=1,\\ldots, k$ and Gaussian copula with correlation matrix $R$. \n",
    "\n",
    "Let $\\mathbf{Z}\\in\\mathbb{R}^k$ be a Gaussian random vector Gaussian copula with zero mean and correlation matrix $R$. The previous section shows how to simulate such a vector. \n",
    "\n",
    "Let $\\mathbf{X}\\in\\mathbb{R}^k$ be the random vector defined by:\n",
    "\n",
    "$$\n",
    "X_i = F_i^{-1}\\left(\\Phi(Z_i)\\right)\n",
    "$$\n",
    "\n",
    "for $i=1, \\ldots, k$ where $\\Phi$ is the standard normal cumulative density function (CDF) and $F_i^{-1}$ is the quantile function of the i-th marginal. \n",
    "Therefore, the random vector $\\mathbf{X}$ has the required distribution. \n",
    "\n",
    "In other words, the previous method using the Cholesky decomposition defines a way to simulate a random vector having arbitrary marginals and a gaussian copula with given correlation matrix $R$. This is what is done in the implementation of the `NormalRandomVector`, where the random vector is defined with a list of univariate marginal distributions and a correlation matrix $R$. Perhaps a better name would be `RandomVectorWithNormalCopula`. "
   ]
  },
  {
   "cell_type": "code",
   "execution_count": 1,
   "metadata": {},
   "outputs": [],
   "source": [
    "import openturns as ot\n",
    "import openturns.viewer as otv"
   ]
  },
  {
   "cell_type": "code",
   "execution_count": 2,
   "metadata": {},
   "outputs": [
    {
     "data": {
      "text/plain": [
       "'1.17'"
      ]
     },
     "execution_count": 2,
     "metadata": {},
     "output_type": "execute_result"
    }
   ],
   "source": [
    "ot.__version__"
   ]
  },
  {
   "cell_type": "code",
   "execution_count": 3,
   "metadata": {},
   "outputs": [],
   "source": [
    "def view_sample(sample, title, figure_size=5.0):\n",
    "    graph = ot.VisualTest.DrawPairs(sample)\n",
    "    graph.setTitle(title)\n",
    "    figure = otv.View(graph).getFigure()\n",
    "    figure.set_figheight(figure_size)\n",
    "    figure.set_figwidth(figure_size)\n",
    "    return graph"
   ]
  },
  {
   "cell_type": "code",
   "execution_count": 4,
   "metadata": {},
   "outputs": [],
   "source": [
    "ot.RandomGenerator.SetSeed(77)"
   ]
  },
  {
   "cell_type": "code",
   "execution_count": 5,
   "metadata": {},
   "outputs": [],
   "source": [
    "# Liste des marginales\n",
    "marginal_collection = [ot.Normal(3.0, 2.0), ot.Uniform(-3.0, -1.0), ot.Beta()]"
   ]
  },
  {
   "cell_type": "code",
   "execution_count": 6,
   "metadata": {},
   "outputs": [
    {
     "name": "stdout",
     "output_type": "stream",
     "text": [
      "[[ 1   0.5 0.3 ]\n",
      " [ 0.5 1   0.9 ]\n",
      " [ 0.3 0.9 1   ]]\n"
     ]
    }
   ],
   "source": [
    "# Dépendance\n",
    "R = ot.CorrelationMatrix(3, [1.0, 0.5, 0.3, 0.5, 1.0, 0.9, 0.3, 0.9, 1.0])\n",
    "print(R)\n",
    "copula = ot.NormalCopula(R)\n",
    "distribution = ot.ComposedDistribution(marginal_collection, copula)"
   ]
  },
  {
   "cell_type": "code",
   "execution_count": 7,
   "metadata": {},
   "outputs": [
    {
     "data": {
      "text/html": [
       "<TABLE><TR><TD></TD><TH>X0</TH><TH>X1</TH><TH>X2</TH></TR>\n",
       "<TR><TH>0</TH><TD>5.493098</TD><TD>-1.451207</TD><TD>0.05716239</TD></TR>\n",
       "<TR><TH>1</TH><TD>2.028139</TD><TD>-1.822919</TD><TD>-0.1437162</TD></TR>\n",
       "<TR><TH>2</TH><TD>1.897674</TD><TD>-2.194686</TD><TD>0.1122695</TD></TR>\n",
       "<TR><TH>3</TH><TD>3.547563</TD><TD>-1.82015</TD><TD>0.1998204</TD></TR>\n",
       "<TR><TH>4</TH><TD>1.03405</TD><TD>-2.338877</TD><TD>0.2783085</TD></TR>\n",
       "</TABLE>"
      ],
      "text/plain": [
       "class=Sample name=Unnamed implementation=class=SampleImplementation name=Unnamed size=5 dimension=3 description=[X0,X1,X2] data=[[5.4931,-1.45121,0.0571624],[2.02814,-1.82292,-0.143716],[1.89767,-2.19469,0.11227],[3.54756,-1.82015,0.19982],[1.03405,-2.33888,0.278309]]"
      ]
     },
     "execution_count": 7,
     "metadata": {},
     "output_type": "execute_result"
    }
   ],
   "source": [
    "# Simulation\n",
    "sample_size = 100\n",
    "sample = distribution.getSample(sample_size)\n",
    "sample[:5]"
   ]
  },
  {
   "cell_type": "code",
   "execution_count": 8,
   "metadata": {},
   "outputs": [
    {
     "name": "stderr",
     "output_type": "stream",
     "text": [
      "/home/devel/miniconda3/envs/otsupgalilee/lib/python3.8/site-packages/numpy/core/getlimits.py:499: UserWarning: The value of the smallest subnormal for <class 'numpy.float64'> type is zero.\n",
      "  setattr(self, word, getattr(machar, word).flat[0])\n",
      "/home/devel/miniconda3/envs/otsupgalilee/lib/python3.8/site-packages/numpy/core/getlimits.py:89: UserWarning: The value of the smallest subnormal for <class 'numpy.float64'> type is zero.\n",
      "  return self._float_to_str(self.smallest_subnormal)\n"
     ]
    },
    {
     "data": {
      "image/png": "[encoded data removed]",
      "text/plain": [
       "<Figure size 360x360 with 3 Axes>"
      ]
     },
     "metadata": {
      "needs_background": "light"
     },
     "output_type": "display_data"
    }
   ],
   "source": [
    "graph = view_sample(sample, \"With getSample()\")"
   ]
  },
  {
   "cell_type": "code",
   "execution_count": 9,
   "metadata": {},
   "outputs": [
    {
     "data": {
      "text/html": [
       "<TABLE><TR><TD></TD><TH>X0</TH><TH>X1</TH><TH>X2</TH></TR>\n",
       "<TR><TH>0</TH><TD>0.9832709</TD><TD>0.9704729</TD><TD>0.9858441</TD></TR>\n",
       "<TR><TH>1</TH><TD>0.7050701</TD><TD>-0.4812604</TD><TD>-1.25494</TD></TR>\n",
       "<TR><TH>2</TH><TD>-2.207975</TD><TD>-1.656258</TD><TD>-0.6309206</TD></TR>\n",
       "<TR><TH>3</TH><TD>-0.4848136</TD><TD>-1.551999</TD><TD>-1.507828</TD></TR>\n",
       "<TR><TH>4</TH><TD>2.072051</TD><TD>0.5175123</TD><TD>0.2903869</TD></TR>\n",
       "</TABLE>"
      ],
      "text/plain": [
       "class=Sample name=Unnamed implementation=class=SampleImplementation name=Unnamed size=5 dimension=3 description=[X0,X1,X2] data=[[0.983271,0.970473,0.985844],[0.70507,-0.48126,-1.25494],[-2.20798,-1.65626,-0.630921],[-0.484814,-1.552,-1.50783],[2.07205,0.517512,0.290387]]"
      ]
     },
     "execution_count": 9,
     "metadata": {},
     "output_type": "execute_result"
    }
   ],
   "source": [
    "# Create a gaussian random vector\n",
    "dimension = R.getDimension()\n",
    "mu = ot.Point(dimension)\n",
    "sigma = ot.Point(dimension, 1.0)\n",
    "distribution = ot.Normal(mu, sigma, R)\n",
    "sample_z = distribution.getSample(sample_size)\n",
    "sample_z[:5]"
   ]
  },
  {
   "cell_type": "code",
   "execution_count": 10,
   "metadata": {},
   "outputs": [
    {
     "data": {
      "image/png": "[encoded data removed]",
      "text/plain": [
       "<Figure size 360x360 with 3 Axes>"
      ]
     },
     "metadata": {
      "needs_background": "light"
     },
     "output_type": "display_data"
    }
   ],
   "source": [
    "graph = view_sample(sample_z, \"Normal sample\")"
   ]
  },
  {
   "cell_type": "code",
   "execution_count": 11,
   "metadata": {},
   "outputs": [],
   "source": [
    "# Simulation pas à pas\n",
    "class NormalRandomVector(ot.PythonRandomVector):\n",
    "    def __init__(self, marginal_collection, R):\n",
    "        \"\"\"\n",
    "        Create a Normal random vector with arbitrary marginals.\n",
    "        \n",
    "        Parameters\n",
    "        ----------\n",
    "        marginal_collection : list\n",
    "            The list of univariate marginals.\n",
    "        R : ot.CorrelationMatrix\n",
    "            The correlation matrix\n",
    "        \"\"\"\n",
    "        dimension = len(marginal_collection)\n",
    "        if R.getDimension() != dimension:\n",
    "            raise ValueError(\n",
    "                \"Dimension of correlation matrix is %d, \"\n",
    "                \"which is different from the number of \"\n",
    "                \"marginal distributions.\"\n",
    "                % (R.getDimension())\n",
    "            )\n",
    "        super(NormalRandomVector, self).__init__(dimension)\n",
    "        self.R = R\n",
    "        self.marginal_collection = marginal_collection\n",
    "        # Compute correlated Normal realization\n",
    "        self.L = R.computeCholesky()\n",
    "        self.dimension = R.getDimension()\n",
    "        \n",
    "\n",
    "    def getRealization(self):\n",
    "        \"\"\"\n",
    "        Generate a new realization with Gaussian copula.\n",
    "\n",
    "        Uses the Cholesky decomposition of R.\n",
    "        This implementation only if the covariance matrix \n",
    "        is full rank. \n",
    "        The point is generated by computing the quantile of the \n",
    "        CDF of the Gaussian correlated random vector.\n",
    "\n",
    "        Returns\n",
    "        -------\n",
    "        x_correlated : ot.Point()\n",
    "            The point with given correlation and marginals. \n",
    "        \"\"\"\n",
    "        # Generate a realization without correlation\n",
    "        Z_distribution = ot.Normal(self.dimension)\n",
    "        z_decorrelated = Z_distribution.getRealization()\n",
    "        z_correlated = self.L * z_decorrelated\n",
    "        # Apply marginals\n",
    "        x_correlated = ot.Point(self.dimension)\n",
    "        for i in range(self.dimension):\n",
    "            marginal = self.marginal_collection[i]\n",
    "            cdf = ot.Normal().computeCDF(z_correlated[i])\n",
    "            x_correlated[i] = marginal.computeQuantile(cdf)[0]\n",
    "        return x_correlated\n",
    "    \n",
    "    def getSample(self, size):\n",
    "        \"\"\"\n",
    "        Generate a sample with Gaussian copula.\n",
    "\n",
    "        Parameters\n",
    "        ----------\n",
    "        size : int\n",
    "            The size of the sample.\n",
    "\n",
    "        Returns\n",
    "        -------\n",
    "        sample : ot.Sample(size, dimension)\n",
    "            The sample.\n",
    "        \"\"\"\n",
    "        sample = ot.Sample(size, self.dimension)\n",
    "        for i in range(size):\n",
    "            sample[i] = self.getRealization()\n",
    "        return sample"
   ]
  },
  {
   "cell_type": "code",
   "execution_count": 13,
   "metadata": {},
   "outputs": [
    {
     "data": {
      "image/png": "[encoded data removed]",
      "text/plain": [
       "<Figure size 360x360 with 3 Axes>"
      ]
     },
     "metadata": {
      "needs_background": "light"
     },
     "output_type": "display_data"
    }
   ],
   "source": [
    "nrv = NormalRandomVector(marginal_collection, R)\n",
    "randomvector = ot.RandomVector(nrv)\n",
    "\n",
    "sample = randomvector.getSample(sample_size)\n",
    "\n",
    "graph = view_sample(sample, \"With Cholesky\")"
   ]
  },
  {
   "cell_type": "code",
   "execution_count": null,
   "metadata": {},
   "outputs": [],
   "source": []
  }
 ],
 "metadata": {
  "kernelspec": {
   "display_name": "Python 3 (ipykernel)",
   "language": "python",
   "name": "python3"
  },
  "language_info": {
   "codemirror_mode": {
    "name": "ipython",
    "version": 3
   },
   "file_extension": ".py",
   "mimetype": "text/x-python",
   "name": "python",
   "nbconvert_exporter": "python",
   "pygments_lexer": "ipython3",
   "version": "3.10.0"
  }
 },
 "nbformat": 4,
 "nbformat_minor": 4
}
