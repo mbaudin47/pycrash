{
 "cells": [
  {
   "cell_type": "markdown",
   "metadata": {},
   "source": [
    "# Simulate a Gaussian random vector with SVD decomposition\n",
    "\n",
    "In this document, we present the simulation of a random vector with arbitrary marginals and Gaussian copula. We assume that this copula does not necessarily have a full rank covariance matrix. We use the SVD decomposition to simulate the correlated Gaussian random vector.\n",
    "\n",
    "## Introduction\n",
    "\n",
    "The multivariate normal distribution of a k-dimensional random vector $\\mathbf{X} = (X_1,\\ldots,X_k)^T$ can be written in the following notation:\n",
    "\n",
    "$$\n",
    "\\mathbf{X}\\ \\sim\\ \\mathcal{N}(\\boldsymbol{\\mu},\\, \\boldsymbol{\\Sigma}),\n",
    "$$\n",
    "\n",
    "where $\\mathbf{\\mu} \\in \\mathbb{R}^k$ is the mean vector and $\\boldsymbol{\\Sigma} \\in \\mathbb{R}^{k\\times k}$ is the covariance matrix.\n",
    "\n",
    "## Definition\n",
    "\n",
    "A real random vector $\\mathbf{X} = (X_1,\\ldots,X_k)^{\\mathrm T}$ is called a normal random vector if there exists a random vector $\\mathbf{Z} \\in \\mathbb{R}^r$, which is a standard normal random vector, a vector $\\mathbf{\\mu} \\in\\mathbb{R}^k$, and a matrix $A \\in\\mathbb{R}^{k\\times r}$, such that \n",
    "\n",
    "$$\n",
    "\\mathbf{X} = \\mathbf{\\mu} + A \\mathbf{Z}\n",
    "$$\n",
    "\n",
    "and the covariance matrix is $\\boldsymbol{\\Sigma} = \\boldsymbol{A} \\boldsymbol{A}^{\\mathrm T}$.\n",
    "\n",
    "If $\\boldsymbol{\\Sigma}$ is not full rank, i.e. if $r < k$, therefore there is no density function. In this case, we may still define a matrix $A \\in \\mathbb{R}^{k\\times k}$, but any arbitrary vector $\\mathbf{Z}$ in the null space of $A$ would lead a zero $A \\mathbf{Z}$ product. Moreover, the Cholesky decomposition of $\\boldsymbol{\\Sigma}$ does not exist.\n",
    "\n",
    "## Simulation with the SVD\n",
    "\n",
    "Let $U, \\Delta, V \\in\\mathbb{R}^k$ be such that :\n",
    "\n",
    "$$\n",
    "\\boldsymbol{\\Sigma} = U \\Delta V^T\n",
    "$$\n",
    "\n",
    "where $U$ and $V$ are orthogonal, $\\Delta$ is diagonal. \n",
    "\n",
    "The transpose of the previous equation is:\n",
    "\n",
    "$$\n",
    "\\boldsymbol{\\Sigma} = \\boldsymbol{\\Sigma}^T = V \\Delta U\n",
    "$$\n",
    "\n",
    "because $\\boldsymbol{\\Sigma}$ is symmetric. \n",
    "\n",
    "Hence \n",
    "\n",
    "$$\n",
    "V = U\n",
    "$$\n",
    "\n",
    "which implies:\n",
    "\n",
    "$$\n",
    "\\boldsymbol{\\Sigma} = U \\Delta U^T.\n",
    "$$\n",
    "\n",
    "Let $\\Lambda$ be the diagonal matrix which components are the square roots of the singular values in $\\Delta$:\n",
    "\n",
    "$$\n",
    "\\boldsymbol{\\Sigma} = U \\Lambda^2 U^T.\n",
    "$$\n",
    "\n",
    "Let $\\mathbf{Z} \\in \\mathbb{R}^k$ be the random vector with independent marginals, such that :\n",
    "\n",
    "$$\n",
    "Z_i \\sim \\mathcal{N}(0, 1)\n",
    "$$\n",
    "\n",
    "for $i=1,\\ldots, k$. \n",
    "\n",
    "Therefore, \n",
    "\n",
    "$$\n",
    "\\mathbf{X} = \\mathbf{\\mu} + U \\Lambda \\mathbf{Z} \\sim \\mathcal{N}(\\boldsymbol\\mu,\\, \\boldsymbol\\Sigma).\n",
    "$$\n",
    "\n",
    "Indeed, it is easy to check that the mean is $\\mathbf{\\mu}$. \n",
    "Moreover covariance matrix is:\n",
    "\n",
    "$$\n",
    "Cov[\\mathbf{X}] = Cov[U \\Lambda \\mathbf{Z}] = U \\Lambda Cov[ \\mathbf{Z}] \\Lambda^T U^T = U \\Lambda^2 U^T = \\boldsymbol{\\Sigma}.\n",
    "$$"
   ]
  },
  {
   "cell_type": "code",
   "execution_count": 1,
   "metadata": {},
   "outputs": [],
   "source": [
    "import openturns as ot\n",
    "import openturns.viewer as otv\n",
    "import numpy as np"
   ]
  },
  {
   "cell_type": "code",
   "execution_count": 2,
   "metadata": {},
   "outputs": [
    {
     "data": {
      "text/plain": [
       "'1.16'"
      ]
     },
     "execution_count": 2,
     "metadata": {},
     "output_type": "execute_result"
    }
   ],
   "source": [
    "ot.__version__"
   ]
  },
  {
   "cell_type": "code",
   "execution_count": 3,
   "metadata": {},
   "outputs": [],
   "source": [
    "def view_sample(sample, title, figure_size=5.0):\n",
    "    graph = ot.VisualTest.DrawPairs(sample)\n",
    "    graph.setTitle(title)\n",
    "    figure = otv.View(graph).getFigure()\n",
    "    figure.set_figheight(figure_size)\n",
    "    figure.set_figwidth(figure_size)\n",
    "    return graph"
   ]
  },
  {
   "cell_type": "code",
   "execution_count": 4,
   "metadata": {},
   "outputs": [],
   "source": [
    "ot.RandomGenerator.SetSeed(77)"
   ]
  },
  {
   "cell_type": "code",
   "execution_count": 5,
   "metadata": {},
   "outputs": [],
   "source": [
    "# Liste des marginales\n",
    "marginal_collection = [ot.Normal(3.0, 2.0), ot.Uniform(-3.0, -1.0)]"
   ]
  },
  {
   "cell_type": "code",
   "execution_count": 6,
   "metadata": {},
   "outputs": [
    {
     "data": {
      "text/html": [
       "<p>[[ 1 1 ]<br>\n",
       " [ 1 1 ]]</p>"
      ],
      "text/plain": [
       "class=CorrelationMatrix dimension=2 implementation=class=MatrixImplementation name=Unnamed rows=2 columns=2 values=[1,1,1,1]"
      ]
     },
     "execution_count": 6,
     "metadata": {},
     "output_type": "execute_result"
    }
   ],
   "source": [
    "# Dépendance\n",
    "R = ot.CorrelationMatrix(2, [1.0, 1.0, 1.0, 1.0])\n",
    "R"
   ]
  },
  {
   "cell_type": "code",
   "execution_count": 7,
   "metadata": {},
   "outputs": [],
   "source": [
    "#  copula = ot.NormalCopula(R)\n",
    "#  distribution = ot.ComposedDistribution(marginal_collection, copula)"
   ]
  },
  {
   "cell_type": "markdown",
   "metadata": {},
   "source": [
    "```\n",
    "TypeError: InvalidArgumentException : The correlation matrix must be definite positive\n",
    "```"
   ]
  },
  {
   "cell_type": "markdown",
   "metadata": {},
   "source": [
    "## Using Cholesky decomposition"
   ]
  },
  {
   "cell_type": "code",
   "execution_count": 8,
   "metadata": {},
   "outputs": [],
   "source": [
    "dimension = R.getDimension()\n",
    "# Generate a realization without correlation\n",
    "Z_distribution = ot.Normal(dimension)\n",
    "z_decorrelated = Z_distribution.getRealization()\n",
    "# Compute correlated Normal realization\n",
    "#  L = R.computeCholesky()"
   ]
  },
  {
   "cell_type": "markdown",
   "metadata": {},
   "source": [
    "```\n",
    "RuntimeError: InternalException : Error: the matrix is not definite positive.\n",
    "```"
   ]
  },
  {
   "cell_type": "markdown",
   "metadata": {},
   "source": [
    "## Using SVD with a full-rank R"
   ]
  },
  {
   "cell_type": "code",
   "execution_count": 9,
   "metadata": {},
   "outputs": [
    {
     "data": {
      "text/html": [
       "<p>[[ 1   0.5 ]<br>\n",
       " [ 0.5 1   ]]</p>"
      ],
      "text/plain": [
       "class=CorrelationMatrix dimension=2 implementation=class=MatrixImplementation name=Unnamed rows=2 columns=2 values=[1,0.5,0.5,1]"
      ]
     },
     "execution_count": 9,
     "metadata": {},
     "output_type": "execute_result"
    }
   ],
   "source": [
    "R = ot.CorrelationMatrix(2, [1.0, 0.5, 0.5, 1.0])\n",
    "R"
   ]
  },
  {
   "cell_type": "code",
   "execution_count": 10,
   "metadata": {},
   "outputs": [
    {
     "data": {
      "text/html": [
       "<p>[1.5,0.5]</p>"
      ],
      "text/plain": [
       "class=Point name=Unnamed dimension=2 values=[1.5,0.5]"
      ]
     },
     "execution_count": 10,
     "metadata": {},
     "output_type": "execute_result"
    }
   ],
   "source": [
    "singular_values, U, VT = R.computeSVD(True)\n",
    "singular_values"
   ]
  },
  {
   "cell_type": "code",
   "execution_count": 11,
   "metadata": {},
   "outputs": [
    {
     "data": {
      "text/html": [
       "<p>[[ -0.707107 -0.707107 ]<br>\n",
       " [ -0.707107  0.707107 ]]</p>"
      ],
      "text/plain": [
       "class=Matrix implementation=class=MatrixImplementation name=Unnamed rows=2 columns=2 values=[-0.707107,-0.707107,-0.707107,0.707107]"
      ]
     },
     "execution_count": 11,
     "metadata": {},
     "output_type": "execute_result"
    }
   ],
   "source": [
    "U"
   ]
  },
  {
   "cell_type": "code",
   "execution_count": 12,
   "metadata": {},
   "outputs": [
    {
     "data": {
      "text/html": [
       "<p>[[ -0.707107 -0.707107 ]<br>\n",
       " [ -0.707107  0.707107 ]]</p>"
      ],
      "text/plain": [
       "class=Matrix implementation=class=MatrixImplementation name=Unnamed rows=2 columns=2 values=[-0.707107,-0.707107,-0.707107,0.707107]"
      ]
     },
     "execution_count": 12,
     "metadata": {},
     "output_type": "execute_result"
    }
   ],
   "source": [
    "VT"
   ]
  },
  {
   "cell_type": "code",
   "execution_count": 13,
   "metadata": {},
   "outputs": [
    {
     "data": {
      "text/html": [
       "<p>[[ 1.5 0   ]<br>\n",
       " [ 0   0.5 ]]</p>"
      ],
      "text/plain": [
       "class=Matrix implementation=class=MatrixImplementation name=Unnamed rows=2 columns=2 values=[1.5,0,0,0.5]"
      ]
     },
     "execution_count": 13,
     "metadata": {},
     "output_type": "execute_result"
    }
   ],
   "source": [
    "dimension = R.getDimension()\n",
    "Sigma = ot.Matrix(dimension, dimension)\n",
    "for i in range(singular_values.getSize()):\n",
    "    Sigma[i, i] = singular_values[i]\n",
    "Sigma"
   ]
  },
  {
   "cell_type": "markdown",
   "metadata": {},
   "source": [
    "Recover R"
   ]
  },
  {
   "cell_type": "code",
   "execution_count": 14,
   "metadata": {},
   "outputs": [
    {
     "data": {
      "text/html": [
       "<p>[[ 1   0.5 ]<br>\n",
       " [ 0.5 1   ]]</p>"
      ],
      "text/plain": [
       "class=Matrix implementation=class=MatrixImplementation name=Unnamed rows=2 columns=2 values=[1,0.5,0.5,1]"
      ]
     },
     "execution_count": 14,
     "metadata": {},
     "output_type": "execute_result"
    }
   ],
   "source": [
    "U * Sigma * VT"
   ]
  },
  {
   "cell_type": "code",
   "execution_count": 15,
   "metadata": {},
   "outputs": [
    {
     "data": {
      "text/html": [
       "<p>[[ 0.666667 0        ]<br>\n",
       " [ 0        2        ]]</p>"
      ],
      "text/plain": [
       "class=Matrix implementation=class=MatrixImplementation name=Unnamed rows=2 columns=2 values=[0.666667,0,0,2]"
      ]
     },
     "execution_count": 15,
     "metadata": {},
     "output_type": "execute_result"
    }
   ],
   "source": [
    "Sigma_inverse = ot.Matrix(dimension, dimension)\n",
    "for i in range(singular_values.getSize()):\n",
    "    Sigma_inverse[i, i] = 1.0 / singular_values[i]\n",
    "Sigma_inverse"
   ]
  },
  {
   "cell_type": "code",
   "execution_count": 16,
   "metadata": {},
   "outputs": [
    {
     "data": {
      "text/html": [
       "<p>[[  1.33333  -0.666667 ]<br>\n",
       " [ -0.666667  1.33333  ]]</p>"
      ],
      "text/plain": [
       "class=Matrix implementation=class=MatrixImplementation name=Unnamed rows=2 columns=2 values=[1.33333,-0.666667,-0.666667,1.33333]"
      ]
     },
     "execution_count": 16,
     "metadata": {},
     "output_type": "execute_result"
    }
   ],
   "source": [
    "U * Sigma_inverse * VT"
   ]
  },
  {
   "cell_type": "markdown",
   "metadata": {},
   "source": [
    "Check."
   ]
  },
  {
   "cell_type": "code",
   "execution_count": 17,
   "metadata": {},
   "outputs": [
    {
     "data": {
      "text/html": [
       "<p>[[  1.33333  -0.666667 ]<br>\n",
       " [ -0.666667  1.33333  ]]</p>"
      ],
      "text/plain": [
       "class=Matrix implementation=class=MatrixImplementation name=Unnamed rows=2 columns=2 values=[1.33333,-0.666667,-0.666667,1.33333]"
      ]
     },
     "execution_count": 17,
     "metadata": {},
     "output_type": "execute_result"
    }
   ],
   "source": [
    "identity = ot.IdentityMatrix(dimension)\n",
    "inverseR = R.solveLinearSystem(identity)\n",
    "inverseR"
   ]
  },
  {
   "cell_type": "markdown",
   "metadata": {},
   "source": [
    "### Compute Cholesky in full rank case with SVD"
   ]
  },
  {
   "cell_type": "code",
   "execution_count": 18,
   "metadata": {},
   "outputs": [
    {
     "data": {
      "text/html": [
       "<p>[[ 0.816497 0        ]<br>\n",
       " [ 0        1.41421  ]]</p>"
      ],
      "text/plain": [
       "class=Matrix implementation=class=MatrixImplementation name=Unnamed rows=2 columns=2 values=[0.816497,0,0,1.41421]"
      ]
     },
     "execution_count": 18,
     "metadata": {},
     "output_type": "execute_result"
    }
   ],
   "source": [
    "Sigma_pseudo_root_inverse = ot.Matrix(dimension, dimension)\n",
    "for i in range(singular_values.getSize()):\n",
    "    if abs(singular_values[i]) != 0.0:\n",
    "        Sigma_pseudo_root_inverse[i, i] = 1.0 / np.sqrt(singular_values[i])\n",
    "Sigma_pseudo_root_inverse"
   ]
  },
  {
   "cell_type": "code",
   "execution_count": 19,
   "metadata": {},
   "outputs": [
    {
     "data": {
      "text/html": [
       "<p>[[ -0.707107 -0.707107 ]<br>\n",
       " [ -0.707107  0.707107 ]]</p>"
      ],
      "text/plain": [
       "class=Matrix implementation=class=MatrixImplementation name=Unnamed rows=2 columns=2 values=[-0.707107,-0.707107,-0.707107,0.707107]"
      ]
     },
     "execution_count": 19,
     "metadata": {},
     "output_type": "execute_result"
    }
   ],
   "source": [
    "U"
   ]
  },
  {
   "cell_type": "code",
   "execution_count": 20,
   "metadata": {},
   "outputs": [
    {
     "data": {
      "text/html": [
       "<p>[[ 1        0        ]<br>\n",
       " [ 0.5      0.866025 ]]</p>"
      ],
      "text/plain": [
       "class=TriangularMatrix dimension=2 implementation=class=MatrixImplementation name=Unnamed rows=2 columns=2 values=[1,0.5,0,0.866025]"
      ]
     },
     "execution_count": 20,
     "metadata": {},
     "output_type": "execute_result"
    }
   ],
   "source": [
    "R.computeCholesky()"
   ]
  },
  {
   "cell_type": "markdown",
   "metadata": {},
   "source": [
    "## Using SVD with a degenerate rank R"
   ]
  },
  {
   "cell_type": "code",
   "execution_count": 21,
   "metadata": {},
   "outputs": [
    {
     "data": {
      "text/html": [
       "<p>[[ 1 1 ]<br>\n",
       " [ 1 1 ]]</p>"
      ],
      "text/plain": [
       "class=CorrelationMatrix dimension=2 implementation=class=MatrixImplementation name=Unnamed rows=2 columns=2 values=[1,1,1,1]"
      ]
     },
     "execution_count": 21,
     "metadata": {},
     "output_type": "execute_result"
    }
   ],
   "source": [
    "R = ot.CorrelationMatrix(2, [1.0, 1.0, 1.0, 1.0])\n",
    "R"
   ]
  },
  {
   "cell_type": "code",
   "execution_count": 22,
   "metadata": {},
   "outputs": [
    {
     "data": {
      "text/html": [
       "<p>[2,0]</p>"
      ],
      "text/plain": [
       "class=Point name=Unnamed dimension=2 values=[2,0]"
      ]
     },
     "execution_count": 22,
     "metadata": {},
     "output_type": "execute_result"
    }
   ],
   "source": [
    "singular_values, U, VT = R.computeSVD(True)\n",
    "singular_values"
   ]
  },
  {
   "cell_type": "code",
   "execution_count": 23,
   "metadata": {},
   "outputs": [
    {
     "data": {
      "text/html": [
       "<p>[[ -0.707107 -0.707107 ]<br>\n",
       " [ -0.707107  0.707107 ]]</p>"
      ],
      "text/plain": [
       "class=Matrix implementation=class=MatrixImplementation name=Unnamed rows=2 columns=2 values=[-0.707107,-0.707107,-0.707107,0.707107]"
      ]
     },
     "execution_count": 23,
     "metadata": {},
     "output_type": "execute_result"
    }
   ],
   "source": [
    "U"
   ]
  },
  {
   "cell_type": "code",
   "execution_count": 24,
   "metadata": {},
   "outputs": [
    {
     "data": {
      "text/html": [
       "<p>[[ -0.707107 -0.707107 ]<br>\n",
       " [ -0.707107  0.707107 ]]</p>"
      ],
      "text/plain": [
       "class=Matrix implementation=class=MatrixImplementation name=Unnamed rows=2 columns=2 values=[-0.707107,-0.707107,-0.707107,0.707107]"
      ]
     },
     "execution_count": 24,
     "metadata": {},
     "output_type": "execute_result"
    }
   ],
   "source": [
    "VT"
   ]
  },
  {
   "cell_type": "code",
   "execution_count": 25,
   "metadata": {},
   "outputs": [
    {
     "data": {
      "text/html": [
       "<p>[[ 2 0 ]<br>\n",
       " [ 0 0 ]]</p>"
      ],
      "text/plain": [
       "class=Matrix implementation=class=MatrixImplementation name=Unnamed rows=2 columns=2 values=[2,0,0,0]"
      ]
     },
     "execution_count": 25,
     "metadata": {},
     "output_type": "execute_result"
    }
   ],
   "source": [
    "dimension = R.getDimension()\n",
    "Sigma = ot.Matrix(dimension, dimension)\n",
    "for i in range(singular_values.getSize()):\n",
    "    Sigma[i, i] = singular_values[i]\n",
    "Sigma"
   ]
  },
  {
   "cell_type": "markdown",
   "metadata": {},
   "source": [
    "Recover R"
   ]
  },
  {
   "cell_type": "code",
   "execution_count": 26,
   "metadata": {
    "scrolled": true
   },
   "outputs": [
    {
     "data": {
      "text/html": [
       "<p>[[ 1 1 ]<br>\n",
       " [ 1 1 ]]</p>"
      ],
      "text/plain": [
       "class=Matrix implementation=class=MatrixImplementation name=Unnamed rows=2 columns=2 values=[1,1,1,1]"
      ]
     },
     "execution_count": 26,
     "metadata": {},
     "output_type": "execute_result"
    }
   ],
   "source": [
    "U * Sigma * VT"
   ]
  },
  {
   "cell_type": "code",
   "execution_count": 27,
   "metadata": {},
   "outputs": [],
   "source": [
    "def get_realization(marginal_collection, R):\n",
    "    \"\"\"\n",
    "    Generate a new realization with Gaussian copula.\n",
    "    \n",
    "    Uses the SVD decomposition of R. \n",
    "    This implementation works even if the covariance matrix \n",
    "    is degenerate. \n",
    "    The point is generated by computing the quantile of the \n",
    "    CDF of the Gaussian correlated random vector.\n",
    "    \n",
    "    Parameters\n",
    "    ----------\n",
    "    marginal_collection : list\n",
    "        The list of univariate marginals.\n",
    "    R : ot.CorrelationMatrix\n",
    "        The correlation matrix\n",
    "\n",
    "    Returns\n",
    "    -------\n",
    "    x_correlated : ot.Point()\n",
    "        The point with given correlation and marginals. \n",
    "    \"\"\"\n",
    "    dimension = R.getDimension()\n",
    "    # Generate a realization without correlation\n",
    "    Z_distribution = ot.Normal(dimension)\n",
    "    z_decorrelated = Z_distribution.getRealization()\n",
    "    # Compute correlated Normal realization\n",
    "    singular_values, U, VT = R.computeSVD(True)\n",
    "    # Compute square root of the singular values\n",
    "    Sigma_root = ot.Matrix(dimension, dimension)\n",
    "    for i in range(singular_values.getSize()):\n",
    "        Sigma_root[i, i] = np.sqrt(singular_values[i])\n",
    "    # Generate the correlated Gaussian random vector\n",
    "    z_correlated = U * (Sigma_root * z_decorrelated)\n",
    "    # Apply marginals\n",
    "    x_correlated = ot.Point(dimension)\n",
    "    for i in range(dimension):\n",
    "        marginal = marginal_collection[i]\n",
    "        cdf = ot.Normal().computeCDF(z_correlated[i])\n",
    "        x_correlated[i] = marginal.computeQuantile(cdf)[0]\n",
    "    return x_correlated"
   ]
  },
  {
   "cell_type": "code",
   "execution_count": 28,
   "metadata": {},
   "outputs": [],
   "source": [
    "def get_sample(marginal_collection, R, sample_size):\n",
    "    \"\"\"\n",
    "    Generate a sample with Gaussian copula.\n",
    "    \n",
    "    Parameters\n",
    "    ----------\n",
    "    marginal_collection : list\n",
    "        The list of univariate marginals.\n",
    "    R : ot.CorrelationMatrix\n",
    "        The correlation matrix\n",
    "    sample_size : int\n",
    "        The size of the sample.\n",
    "\n",
    "    Returns\n",
    "    -------\n",
    "    sample : ot.Sample(sample_size, dimension)\n",
    "        The sample.\n",
    "    \"\"\"\n",
    "    dimension = R.getDimension()\n",
    "    sample = ot.Sample(sample_size, dimension)\n",
    "    for i in range(sample_size):\n",
    "        sample[i] = get_realization(marginal_collection, R)\n",
    "    return sample"
   ]
  },
  {
   "cell_type": "code",
   "execution_count": 29,
   "metadata": {},
   "outputs": [],
   "source": [
    "ot.RandomGenerator.SetSeed(77)\n",
    "\n",
    "# Generate a sample\n",
    "sample_size = 100\n",
    "sample = get_sample(marginal_collection, R, sample_size)"
   ]
  },
  {
   "cell_type": "code",
   "execution_count": 30,
   "metadata": {},
   "outputs": [
    {
     "data": {
      "image/png": "[encoded data removed]",
      "text/plain": [
       "<Figure size 360x360 with 1 Axes>"
      ]
     },
     "metadata": {
      "needs_background": "light"
     },
     "output_type": "display_data"
    }
   ],
   "source": [
    "graph = view_sample(sample, \"With step-by-step: X\")"
   ]
  },
  {
   "cell_type": "markdown",
   "metadata": {},
   "source": [
    "## A simple degenerate Gaussian random vector in 3 dimensions"
   ]
  },
  {
   "cell_type": "code",
   "execution_count": 31,
   "metadata": {},
   "outputs": [
    {
     "data": {
      "text/html": [
       "<p>[[ 1 1 0 ]<br>\n",
       " [ 1 1 0 ]<br>\n",
       " [ 0 0 1 ]]</p>"
      ],
      "text/plain": [
       "class=CorrelationMatrix dimension=3 implementation=class=MatrixImplementation name=Unnamed rows=3 columns=3 values=[1,1,0,1,1,0,0,0,1]"
      ]
     },
     "execution_count": 31,
     "metadata": {},
     "output_type": "execute_result"
    }
   ],
   "source": [
    "dimension = 3\n",
    "R = ot.CorrelationMatrix(3)\n",
    "R[0, 1] = 1.0\n",
    "R"
   ]
  },
  {
   "cell_type": "code",
   "execution_count": 32,
   "metadata": {},
   "outputs": [],
   "source": [
    "marginal_collection = [ot.Normal()] * dimension"
   ]
  },
  {
   "cell_type": "code",
   "execution_count": 33,
   "metadata": {},
   "outputs": [
    {
     "data": {
      "image/png": "[encoded data removed]",
      "text/plain": [
       "<Figure size 360x360 with 3 Axes>"
      ]
     },
     "metadata": {
      "needs_background": "light"
     },
     "output_type": "display_data"
    }
   ],
   "source": [
    "sample_size = 100\n",
    "sample = get_sample(marginal_collection, R, sample_size)\n",
    "graph = view_sample(sample, \"With SVD\")"
   ]
  },
  {
   "cell_type": "code",
   "execution_count": null,
   "metadata": {},
   "outputs": [],
   "source": []
  }
 ],
 "metadata": {
  "kernelspec": {
   "display_name": "Python 3",
   "language": "python",
   "name": "python3"
  },
  "language_info": {
   "codemirror_mode": {
    "name": "ipython",
    "version": 3
   },
   "file_extension": ".py",
   "mimetype": "text/x-python",
   "name": "python",
   "nbconvert_exporter": "python",
   "pygments_lexer": "ipython3",
   "version": "3.8.3"
  }
 },
 "nbformat": 4,
 "nbformat_minor": 4
}
