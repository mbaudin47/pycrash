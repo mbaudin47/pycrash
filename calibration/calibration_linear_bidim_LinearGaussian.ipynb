{
 "cells": [
  {
   "cell_type": "markdown",
   "metadata": {},
   "source": [
    "L'objectif de ce NB est de vérifier la distribution de la solution du problème de moindres carrés linéaires. Plus précisément, on vérifie que la covariance de la loi gaussienne associée à la méthode `getParameterPosterior` est correcte pour la classe `GaussianLinearCalibration`.\n",
    "\n",
    "On considère ici un modèle *exactement* linéaire. On considère de plus une sortie bi-dimensionnelle. On essaye de calculer l'estimateur MAP par une décomposition de Cholesky puis de calculer la matrice de covariance."
   ]
  },
  {
   "cell_type": "markdown",
   "metadata": {},
   "source": [
    "## Generate the observations"
   ]
  },
  {
   "cell_type": "code",
   "execution_count": 1,
   "metadata": {},
   "outputs": [],
   "source": [
    "import numpy as np\n",
    "import openturns as ot"
   ]
  },
  {
   "cell_type": "code",
   "execution_count": 2,
   "metadata": {},
   "outputs": [],
   "source": [
    "ot.RandomGenerator.SetSeed(0)"
   ]
  },
  {
   "cell_type": "code",
   "execution_count": 3,
   "metadata": {},
   "outputs": [
    {
     "data": {
      "text/html": [
       "<p>[x,theta1,theta2,theta3]->[theta1 + theta2*x + theta3*x^2,theta1 + theta2*sin(x) + theta3*sin(2*x)]</p>"
      ],
      "text/plain": [
       "class=SymbolicFunction name=Unnamed implementation=class=FunctionImplementation name=Unnamed description=[x,theta1,theta2,theta3,y0,y1] evaluationImplementation=class=SymbolicEvaluation name=Unnamed inputVariablesNames=[x,theta1,theta2,theta3] outputVariablesNames=[y0,y1] formulas=[theta1 + theta2*x + theta3*x^2,theta1 + theta2*sin(x) + theta3*sin(2*x)] gradientImplementation=class=SymbolicGradient name=Unnamed evaluation=class=SymbolicEvaluation name=Unnamed inputVariablesNames=[x,theta1,theta2,theta3] outputVariablesNames=[y0,y1] formulas=[theta1 + theta2*x + theta3*x^2,theta1 + theta2*sin(x) + theta3*sin(2*x)] hessianImplementation=class=SymbolicHessian name=Unnamed evaluation=class=SymbolicEvaluation name=Unnamed inputVariablesNames=[x,theta1,theta2,theta3] outputVariablesNames=[y0,y1] formulas=[theta1 + theta2*x + theta3*x^2,theta1 + theta2*sin(x) + theta3*sin(2*x)]"
      ]
     },
     "execution_count": 3,
     "metadata": {},
     "output_type": "execute_result"
    }
   ],
   "source": [
    "inVars = [\"x\", \"theta1\", \"theta2\", \"theta3\"]\n",
    "formulas = [\"theta1 + theta2*x + theta3*x^2\", \"theta1 + theta2*sin(x) + theta3*sin(2*x)\"]\n",
    "g = ot.SymbolicFunction(inVars, formulas)\n",
    "g"
   ]
  },
  {
   "cell_type": "code",
   "execution_count": 4,
   "metadata": {},
   "outputs": [],
   "source": [
    "descr = [\"Theta1\", \"Theta2\", \"Theta3\"]"
   ]
  },
  {
   "cell_type": "code",
   "execution_count": 5,
   "metadata": {},
   "outputs": [
    {
     "data": {
      "text/html": [
       "<p>[11.11,6.6,-9.9]</p>"
      ],
      "text/plain": [
       "class=Point name=Unnamed dimension=3 values=[11.11,6.6,-9.9]"
      ]
     },
     "execution_count": 5,
     "metadata": {},
     "output_type": "execute_result"
    }
   ],
   "source": [
    "trueParameter = ot.Point([11.11,6.6,-9.9])\n",
    "trueParameter"
   ]
  },
  {
   "cell_type": "code",
   "execution_count": 6,
   "metadata": {},
   "outputs": [
    {
     "data": {
      "text/plain": [
       "3"
      ]
     },
     "execution_count": 6,
     "metadata": {},
     "output_type": "execute_result"
    }
   ],
   "source": [
    "parameterDimension = trueParameter.getDimension()\n",
    "parameterDimension"
   ]
  },
  {
   "cell_type": "markdown",
   "metadata": {},
   "source": [
    "Create the joint input distribution function."
   ]
  },
  {
   "cell_type": "code",
   "execution_count": 7,
   "metadata": {},
   "outputs": [],
   "source": [
    "X = ot.Uniform()\n",
    "Theta1 = ot.Dirac(trueParameter[0])\n",
    "Theta2 = ot.Dirac(trueParameter[1])\n",
    "Theta3 = ot.Dirac(trueParameter[2])\n",
    "\n",
    "X.setDescription([\"X\"])\n",
    "Theta1.setDescription([\"Theta1\"])\n",
    "Theta2.setDescription([\"Theta2\"])\n",
    "Theta3.setDescription([\"Theta3\"])\n",
    "\n",
    "inputRandomVector = ot.ComposedDistribution([X, Theta1, Theta2, Theta3])"
   ]
  },
  {
   "cell_type": "code",
   "execution_count": 8,
   "metadata": {},
   "outputs": [],
   "source": [
    "calibratedIndices = [1,2,3]\n",
    "model = ot.ParametricFunction(g, calibratedIndices, trueParameter)"
   ]
  },
  {
   "cell_type": "markdown",
   "metadata": {},
   "source": [
    "Generate observation noise."
   ]
  },
  {
   "cell_type": "code",
   "execution_count": 9,
   "metadata": {},
   "outputs": [
    {
     "data": {
      "text/html": [
       "<p>Normal(mu = [0,0], sigma = [0.5,0.5], R = [[ 1 0 ]<br>\n",
       " [ 0 1 ]])</p>"
      ],
      "text/plain": [
       "class=Normal name=Normal dimension=2 mean=class=Point name=Unnamed dimension=2 values=[0,0] sigma=class=Point name=Unnamed dimension=2 values=[0.5,0.5] correlationMatrix=class=CorrelationMatrix dimension=2 implementation=class=MatrixImplementation name=Unnamed rows=2 columns=2 values=[1,0,0,1]"
      ]
     },
     "execution_count": 9,
     "metadata": {},
     "output_type": "execute_result"
    }
   ],
   "source": [
    "observationOutputNoise = ot.Normal([0.0]*2, [0.5]*2, ot.IdentityMatrix(2))\n",
    "observationOutputNoise"
   ]
  },
  {
   "cell_type": "markdown",
   "metadata": {},
   "source": [
    "## Gaussian linear calibration"
   ]
  },
  {
   "cell_type": "markdown",
   "metadata": {},
   "source": [
    "Define the covariance matrix of the output Y of the model."
   ]
  },
  {
   "cell_type": "code",
   "execution_count": 10,
   "metadata": {},
   "outputs": [
    {
     "data": {
      "text/html": [
       "<p>[[ 3   0.5 ]<br>\n",
       " [ 0.5 6   ]]</p>"
      ],
      "text/plain": [
       "class=CovarianceMatrix dimension=2 implementation=class=MatrixImplementation name=Unnamed rows=2 columns=2 values=[3,0.5,0.5,6]"
      ]
     },
     "execution_count": 10,
     "metadata": {},
     "output_type": "execute_result"
    }
   ],
   "source": [
    "errorCovariance = ot.CovarianceMatrix(2)\n",
    "for i in range(2):\n",
    "    errorCovariance[i, i] = 2.0 + (1.0 + i) * (1.0 + i)\n",
    "    for j in range(i):\n",
    "        errorCovariance[i, j] = 1.0 / (1.0 + i + j)\n",
    "errorCovariance"
   ]
  },
  {
   "cell_type": "markdown",
   "metadata": {},
   "source": [
    "Defined the covariance matrix of the parameters $\\theta$ to calibrate."
   ]
  },
  {
   "cell_type": "code",
   "execution_count": 11,
   "metadata": {},
   "outputs": [],
   "source": [
    "sigmaTheta1 = 0.1 * trueParameter[0]\n",
    "sigmaTheta2 = 0.1 * trueParameter[1]\n",
    "sigmaTheta3 = 0.1 * trueParameter[2]"
   ]
  },
  {
   "cell_type": "code",
   "execution_count": 12,
   "metadata": {
    "scrolled": true
   },
   "outputs": [
    {
     "data": {
      "text/html": [
       "<p>[[ 1.23432 0       0       ]<br>\n",
       " [ 0       0.4356  0       ]<br>\n",
       " [ 0       0       0.9801  ]]</p>"
      ],
      "text/plain": [
       "class=CovarianceMatrix dimension=3 implementation=class=MatrixImplementation name=Unnamed rows=3 columns=3 values=[1.23432,0,0,0,0.4356,0,0,0,0.9801]"
      ]
     },
     "execution_count": 12,
     "metadata": {},
     "output_type": "execute_result"
    }
   ],
   "source": [
    "parameterCovariance = ot.CovarianceMatrix(3)\n",
    "parameterCovariance[0,0] = sigmaTheta1**2\n",
    "parameterCovariance[1,1] = sigmaTheta2**2\n",
    "parameterCovariance[2,2] = sigmaTheta3**2\n",
    "parameterCovariance"
   ]
  },
  {
   "cell_type": "code",
   "execution_count": 13,
   "metadata": {},
   "outputs": [],
   "source": [
    "size = 10"
   ]
  },
  {
   "cell_type": "code",
   "execution_count": 14,
   "metadata": {},
   "outputs": [
    {
     "data": {
      "text/html": [
       "<TABLE><TR><TD></TD><TH>y0</TH><TH>y1</TH></TR>\n",
       "<TR><TD>0</TD><TD>12.331421960218593</TD><TD>7.712782825329565</TD></TR>\n",
       "<TR><TD>1</TD><TD>11.078675971617269</TD><TD>6.196735497114164</TD></TR>\n",
       "<TR><TD>2</TD><TD>1.42450156176655</TD><TD>16.31419731899749</TD></TR>\n",
       "<TR><TD>3</TD><TD>-3.585180350659462</TD><TD>14.114826788278672</TD></TR>\n",
       "<TR><TD>4</TD><TD>7.52340497255345</TD><TD>14.152354596481803</TD></TR>\n",
       "<TR><TD>5</TD><TD>8.534816243940188</TD><TD>7.495852668723497</TD></TR>\n",
       "<TR><TD>6</TD><TD>9.585179940255784</TD><TD>5.912466509161787</TD></TR>\n",
       "<TR><TD>7</TD><TD>11.372508843956298</TD><TD>11.191205236838721</TD></TR>\n",
       "<TR><TD>8</TD><TD>-1.9880288321023563</TD><TD>15.277559749239725</TD></TR>\n",
       "<TR><TD>9</TD><TD>6.2452265369317095</TD><TD>15.987509638494132</TD></TR>\n",
       "</TABLE>"
      ],
      "text/plain": [
       "class=Sample name=Unnamed implementation=class=SampleImplementation name=Unnamed size=10 dimension=2 description=[y0,y1] data=[[12.3314,7.71278],[11.0787,6.19674],[1.4245,16.3142],[-3.58518,14.1148],[7.5234,14.1524],[8.53482,7.49585],[9.58518,5.91247],[11.3725,11.1912],[-1.98803,15.2776],[6.24523,15.9875]]"
      ]
     },
     "execution_count": 14,
     "metadata": {},
     "output_type": "execute_result"
    }
   ],
   "source": [
    "# 1. Generate exact outputs\n",
    "inputSample = inputRandomVector.getSample(size)\n",
    "outputStress = g(inputSample)\n",
    "# 2. Add noise\n",
    "sampleNoiseH = observationOutputNoise.getSample(size)\n",
    "outputObservations = outputStress + sampleNoiseH\n",
    "outputObservations"
   ]
  },
  {
   "cell_type": "code",
   "execution_count": 15,
   "metadata": {},
   "outputs": [],
   "source": [
    "inputObservations = inputSample[:,0]"
   ]
  },
  {
   "cell_type": "code",
   "execution_count": 16,
   "metadata": {},
   "outputs": [
    {
     "data": {
      "text/html": [
       "<p>[12,7,-8]</p>"
      ],
      "text/plain": [
       "class=Point name=Unnamed dimension=3 values=[12,7,-8]"
      ]
     },
     "execution_count": 16,
     "metadata": {},
     "output_type": "execute_result"
    }
   ],
   "source": [
    "candidate = ot.Point([12.,7.,-8])\n",
    "candidate"
   ]
  },
  {
   "cell_type": "code",
   "execution_count": 17,
   "metadata": {},
   "outputs": [
    {
     "data": {
      "image/png": "[encoded data removed]",
      "text/plain": [
       "class=Graph name=y0 as a function of x implementation=class=GraphImplementation name=y0 as a function of x title=y0 as a function of x xTitle=x yTitle=y0 axes=ON grid=ON legendposition= legendFontSize=1 drawables=[class=Drawable name=Unnamed implementation=class=Curve name=Unnamed derived from class=DrawableImplementation name=Unnamed legend= data=class=Sample name=Unnamed implementation=class=SampleImplementation name=Unnamed size=129 dimension=2 data=[[-1,-5.39],[-0.984375,-4.97992],[-0.96875,-4.57467],[-0.953125,-4.17425],[-0.9375,-3.77867],[-0.921875,-3.38792],[-0.90625,-3.00201],[-0.890625,-2.62093],[-0.875,-2.24469],[-0.859375,-1.87328],[-0.84375,-1.5067],[-0.828125,-1.14496],[-0.8125,-0.788047],[-0.796875,-0.435972],[-0.78125,-0.0887305],[-0.765625,0.253677],[-0.75,0.59125],[-0.734375,0.923989],[-0.71875,1.25189],[-0.703125,1.57497],[-0.6875,1.8932],[-0.671875,2.20661],[-0.65625,2.51518],[-0.640625,2.81891],[-0.625,3.11781],[-0.609375,3.41188],[-0.59375,3.70111],[-0.578125,3.98551],[-0.5625,4.26508],[-0.546875,4.53981],[-0.53125,4.80971],[-0.515625,5.07477],[-0.5,5.335],[-0.484375,5.5904],[-0.46875,5.84096],[-0.453125,6.08668],[-0.4375,6.32758],[-0.421875,6.56364],[-0.40625,6.79486],[-0.390625,7.02125],[-0.375,7.24281],[-0.359375,7.45954],[-0.34375,7.67143],[-0.328125,7.87848],[-0.3125,8.0807],[-0.296875,8.27809],[-0.28125,8.47064],[-0.265625,8.65836],[-0.25,8.84125],[-0.234375,9.0193],[-0.21875,9.19252],[-0.203125,9.3609],[-0.1875,9.52445],[-0.171875,9.68317],[-0.15625,9.83705],[-0.140625,9.9861],[-0.125,10.1303],[-0.109375,10.2697],[-0.09375,10.4042],[-0.078125,10.534],[-0.0625,10.6588],[-0.046875,10.7789],[-0.03125,10.8941],[-0.015625,11.0045],[0,11.11],[0.015625,11.2107],[0.03125,11.3066],[0.046875,11.3976],[0.0625,11.4838],[0.078125,11.5652],[0.09375,11.6417],[0.109375,11.7134],[0.125,11.7803],[0.140625,11.8423],[0.15625,11.8996],[0.171875,11.9519],[0.1875,11.9995],[0.203125,12.0422],[0.21875,12.08],[0.234375,12.1131],[0.25,12.1412],[0.265625,12.1646],[0.28125,12.1831],[0.296875,12.1968],[0.3125,12.2057],[0.328125,12.2097],[0.34375,12.2089],[0.359375,12.2033],[0.375,12.1928],[0.390625,12.1775],[0.40625,12.1574],[0.421875,12.1324],[0.4375,12.1026],[0.453125,12.0679],[0.46875,12.0285],[0.484375,11.9841],[0.5,11.935],[0.515625,11.881],[0.53125,11.8222],[0.546875,11.7586],[0.5625,11.6901],[0.578125,11.6168],[0.59375,11.5386],[0.609375,11.4556],[0.625,11.3678],[0.640625,11.2752],[0.65625,11.1777],[0.671875,11.0754],[0.6875,10.9682],[0.703125,10.8562],[0.71875,10.7394],[0.734375,10.6177],[0.75,10.4912],[0.765625,10.3599],[0.78125,10.2238],[0.796875,10.0828],[0.8125,9.93695],[0.828125,9.78629],[0.84375,9.6308],[0.859375,9.47047],[0.875,9.30531],[0.890625,9.13532],[0.90625,8.96049],[0.921875,8.78083],[0.9375,8.59633],[0.953125,8.407],[0.96875,8.21283],[0.984375,8.01383],[1,7.81]] color=blue fillStyle=solid lineStyle=solid pointStyle=none lineWidth=1,class=Drawable name=Unnamed implementation=class=Cloud name=Unnamed derived from class=DrawableImplementation name=Unnamed legend= data=class=Sample name=Unnamed implementation=class=SampleImplementation name=Unnamed size=10 dimension=2 data=[[0.259753,12.3314],[0.76561,11.0787],[-0.729447,1.4245],[-0.934994,-3.58518],[-0.305886,7.5234],[0.938846,8.53482],[0.841359,9.58518],[0.0060803,11.3725],[-0.873588,-1.98803],[-0.414486,6.24523]] color=red fillStyle=solid lineStyle=solid pointStyle=plus lineWidth=1]"
      ]
     },
     "execution_count": 17,
     "metadata": {},
     "output_type": "execute_result"
    }
   ],
   "source": [
    "graph = model.getMarginal(0).draw(-1,1)\n",
    "cloud = ot.Cloud(inputObservations,outputObservations[:,0])\n",
    "cloud.setColor(\"red\")\n",
    "graph.add(cloud)\n",
    "graph"
   ]
  },
  {
   "cell_type": "code",
   "execution_count": 18,
   "metadata": {},
   "outputs": [
    {
     "data": {
      "image/png": "[encoded data removed]",
      "text/plain": [
       "class=Graph name=y1 as a function of x implementation=class=GraphImplementation name=y1 as a function of x title=y1 as a function of x xTitle=x yTitle=y1 axes=ON grid=ON legendposition= legendFontSize=1 drawables=[class=Drawable name=Unnamed implementation=class=Curve name=Unnamed derived from class=DrawableImplementation name=Unnamed legend= data=class=Sample name=Unnamed implementation=class=SampleImplementation name=Unnamed size=129 dimension=2 data=[[-1,14.5583],[-0.984375,14.7391],[-0.96875,14.9122],[-0.953125,15.0777],[-0.9375,15.2353],[-0.921875,15.385],[-0.90625,15.5267],[-0.890625,15.6603],[-0.875,15.7857],[-0.859375,15.9028],[-0.84375,16.0115],[-0.828125,16.1119],[-0.8125,16.2038],[-0.796875,16.2872],[-0.78125,16.3622],[-0.765625,16.4285],[-0.75,16.4864],[-0.734375,16.5357],[-0.71875,16.5764],[-0.703125,16.6087],[-0.6875,16.6324],[-0.671875,16.6477],[-0.65625,16.6546],[-0.640625,16.6531],[-0.625,16.6433],[-0.609375,16.6253],[-0.59375,16.5991],[-0.578125,16.5649],[-0.5625,16.5227],[-0.546875,16.4726],[-0.53125,16.4148],[-0.515625,16.3493],[-0.5,16.2764],[-0.484375,16.196],[-0.46875,16.1085],[-0.453125,16.0139],[-0.4375,15.9124],[-0.421875,15.8042],[-0.40625,15.6894],[-0.390625,15.5682],[-0.375,15.4408],[-0.359375,15.3075],[-0.34375,15.1683],[-0.328125,15.0235],[-0.3125,14.8734],[-0.296875,14.7181],[-0.28125,14.5578],[-0.265625,14.3929],[-0.25,14.2234],[-0.234375,14.0498],[-0.21875,13.8721],[-0.203125,13.6907],[-0.1875,13.5058],[-0.171875,13.3177],[-0.15625,13.1266],[-0.140625,12.9327],[-0.125,12.7364],[-0.109375,12.538],[-0.09375,12.3375],[-0.078125,12.1355],[-0.0625,11.932],[-0.046875,11.7275],[-0.03125,11.5221],[-0.015625,11.3162],[0,11.11],[0.015625,10.9038],[0.03125,10.6979],[0.046875,10.4925],[0.0625,10.288],[0.078125,10.0845],[0.09375,9.88245],[0.109375,9.68204],[0.125,9.48355],[0.140625,9.28726],[0.15625,9.09342],[0.171875,8.9023],[0.1875,8.71416],[0.203125,8.52927],[0.21875,8.34787],[0.234375,8.17021],[0.25,7.99655],[0.265625,7.82713],[0.28125,7.66218],[0.296875,7.50194],[0.3125,7.34663],[0.328125,7.19649],[0.34375,7.05172],[0.359375,6.91255],[0.375,6.77917],[0.390625,6.6518],[0.40625,6.53062],[0.421875,6.41582],[0.4375,6.30758],[0.453125,6.20608],[0.46875,6.11149],[0.484375,6.02396],[0.5,5.94365],[0.515625,5.8707],[0.53125,5.80524],[0.546875,5.74742],[0.5625,5.69735],[0.578125,5.65514],[0.59375,5.6209],[0.609375,5.59472],[0.625,5.57669],[0.640625,5.5669],[0.65625,5.56541],[0.671875,5.57228],[0.6875,5.58757],[0.703125,5.61131],[0.71875,5.64355],[0.734375,5.68432],[0.75,5.73362],[0.765625,5.79146],[0.78125,5.85785],[0.796875,5.93277],[0.8125,6.0162],[0.828125,6.10811],[0.84375,6.20847],[0.859375,6.31723],[0.875,6.43433],[0.890625,6.5597],[0.90625,6.69328],[0.921875,6.83497],[0.9375,6.98469],[0.953125,7.14233],[0.96875,7.30779],[0.984375,7.48094],[1,7.66166]] color=blue fillStyle=solid lineStyle=solid pointStyle=none lineWidth=1,class=Drawable name=Unnamed implementation=class=Cloud name=Unnamed derived from class=DrawableImplementation name=Unnamed legend= data=class=Sample name=Unnamed implementation=class=SampleImplementation name=Unnamed size=10 dimension=2 data=[[0.259753,7.71278],[0.76561,6.19674],[-0.729447,16.3142],[-0.934994,14.1148],[-0.305886,14.1524],[0.938846,7.49585],[0.841359,5.91247],[0.0060803,11.1912],[-0.873588,15.2776],[-0.414486,15.9875]] color=red fillStyle=solid lineStyle=solid pointStyle=plus lineWidth=1]"
      ]
     },
     "execution_count": 18,
     "metadata": {},
     "output_type": "execute_result"
    }
   ],
   "source": [
    "graph = model.getMarginal(1).draw(-1,1)\n",
    "cloud = ot.Cloud(inputObservations,outputObservations[:,1])\n",
    "cloud.setColor(\"red\")\n",
    "graph.add(cloud)\n",
    "graph"
   ]
  },
  {
   "cell_type": "markdown",
   "metadata": {},
   "source": [
    "## Analysis of the results"
   ]
  },
  {
   "cell_type": "code",
   "execution_count": 19,
   "metadata": {},
   "outputs": [],
   "source": [
    "def GaussianLinearCalibrationCompute(model, inputObservations, outputObservations, \\\n",
    "                                    candidate, parameterCovariance, errorCovariance):\n",
    "    '''Use GaussianLinearCalibration'''\n",
    "    algo = ot.GaussianLinearCalibration(model, inputObservations, outputObservations, \\\n",
    "                                    candidate, parameterCovariance, errorCovariance)\n",
    "    algo.run()\n",
    "    calibrationResult = algo.getResult()\n",
    "    thetaStar = calibrationResult.getParameterMAP()\n",
    "    thetaPosterior = calibrationResult.getParameterPosterior()\n",
    "    covarianceThetaStar = thetaPosterior.getCovariance()\n",
    "    return thetaStar, covarianceThetaStar"
   ]
  },
  {
   "cell_type": "code",
   "execution_count": 20,
   "metadata": {},
   "outputs": [],
   "source": [
    "def GaussianNonLinearCalibrationCompute(model, inputObservations, outputObservations, \\\n",
    "                                    candidate, parameterCovariance, errorCovariance):\n",
    "    '''Use GaussianNonLinearCalibration'''\n",
    "    algo = ot.GaussianNonLinearCalibration(model, inputObservations, outputObservations, \\\n",
    "                                    candidate, parameterCovariance, errorCovariance)\n",
    "    algo.run()\n",
    "    calibrationResult = algo.getResult()\n",
    "    thetaStar = calibrationResult.getParameterMAP()\n",
    "    thetaPosterior = calibrationResult.getParameterPosterior()\n",
    "    covarianceThetaStar = thetaPosterior.getCovariance()\n",
    "    return thetaStar, covarianceThetaStar"
   ]
  },
  {
   "cell_type": "markdown",
   "metadata": {},
   "source": [
    "## Calibration based on Kalman matrix"
   ]
  },
  {
   "cell_type": "code",
   "execution_count": 21,
   "metadata": {},
   "outputs": [],
   "source": [
    "def ComputeFromKalman(model, inputObservations, outputObservations, \\\n",
    "    candidate, parameterCovariance, errorCovariance):\n",
    "    '''Compute the solution from the Kalman matrix'''\n",
    "    parameterDimension = candidate.getDimension()\n",
    "    size = inputObservations.getSize()\n",
    "    # Compute model observations\n",
    "    model.setParameter(candidate)\n",
    "    modelObservations = model(inputObservations)\n",
    "    # Compute residuals\n",
    "    residuals = outputObservations - modelObservations\n",
    "    outputDimension = modelObservations.getDimension()\n",
    "    # Stack the residuals by observation, \n",
    "    #   deltay = [residuals[i,0],residuals[i,1],...,residuals[i,outputDimension]]\n",
    "    deltay = ot.Point(size*outputDimension)\n",
    "    for i in range(size):\n",
    "        for j in range(outputDimension):\n",
    "            deltay[i*outputDimension + j] = residuals[i,j]\n",
    "    # Compute J\n",
    "    transposedGradientObservations = ot.Matrix(parameterDimension,size*outputDimension)\n",
    "    for i in range(size):\n",
    "        g = model.parameterGradient(inputObservations[i])\n",
    "        for j in range(outputDimension):\n",
    "            for k in range(parameterDimension):\n",
    "                transposedGradientObservations[k,i*outputDimension + j] = g[k,j]\n",
    "    gradientObservations = transposedGradientObservations.transpose()\n",
    "    # Compute R\n",
    "    observationDimension = errorCovariance.getDimension()\n",
    "    R = ot.CovarianceMatrix(deltay.getSize())\n",
    "    for i in range(size):\n",
    "        for j in range(observationDimension):\n",
    "            for k in range(observationDimension):\n",
    "                R[i * observationDimension + j, i * observationDimension + k] = errorCovariance[j,k]\n",
    "    # Compute B, inverse of B\n",
    "    B = ot.CovarianceMatrix(parameterCovariance)\n",
    "    IB = ot.IdentityMatrix(parameterDimension)\n",
    "    invB = B.solveLinearSystem(IB)\n",
    "    # Compute inverse of R\n",
    "    IR = ot.IdentityMatrix(R.getNbRows())\n",
    "    invR = R.solveLinearSystem(IR)\n",
    "    #\n",
    "    C = gradientObservations.transpose() * invR\n",
    "    invA = invB + C * gradientObservations\n",
    "    K = invA.solveLinearSystem(C)\n",
    "    print(\"Cond(Kalman)=\",np.linalg.cond(K))\n",
    "    thetaStar = candidate + K * deltay\n",
    "    #\n",
    "    L = IB - K * gradientObservations\n",
    "    covarianceThetaStar = K * R * K.transpose() + L * B * L.transpose()\n",
    "    return thetaStar, covarianceThetaStar"
   ]
  },
  {
   "cell_type": "code",
   "execution_count": 22,
   "metadata": {},
   "outputs": [],
   "source": [
    "def ComputeFromLinearLeastSquaresCholesky(model, inputObservations, outputObservations, \\\n",
    "    candidate, parameterCovariance, errorCovariance):\n",
    "    parameterDimension = candidate.getDimension()\n",
    "    size = inputObservations.getSize()\n",
    "    # Compute model observations\n",
    "    model.setParameter(candidate)\n",
    "    modelObservations = model(inputObservations)\n",
    "    # Compute residuals\n",
    "    residuals = outputObservations - modelObservations\n",
    "    outputDimension = modelObservations.getDimension()\n",
    "    # Stack the residuals by observation, \n",
    "    #   deltay = [residuals[i,0],residuals[i,1],...,residuals[i,outputDimension]]\n",
    "    deltay = ot.Point(size*outputDimension)\n",
    "    for i in range(size):\n",
    "        for j in range(outputDimension):\n",
    "            deltay[i*outputDimension + j] = residuals[i,j]\n",
    "    # Compute J\n",
    "    transposedGradientObservations = ot.Matrix(parameterDimension,size*outputDimension)\n",
    "    for i in range(size):\n",
    "        g = model.parameterGradient(inputObservations[i])\n",
    "        for j in range(outputDimension):\n",
    "            for k in range(parameterDimension):\n",
    "                transposedGradientObservations[k,i*outputDimension + j] = g[k,j]\n",
    "    gradientObservations = transposedGradientObservations.transpose()\n",
    "    # Compute R\n",
    "    observationDimension = errorCovariance.getDimension()\n",
    "    R = ot.CovarianceMatrix(deltay.getSize())\n",
    "    for i in range(size):\n",
    "        for j in range(observationDimension):\n",
    "            for k in range(observationDimension):\n",
    "                R[i * observationDimension + j, i * observationDimension + k] = errorCovariance[j,k]\n",
    "    # Create B, R, inv(B), inv(R)\n",
    "    B = ot.CovarianceMatrix(parameterCovariance)\n",
    "    LB = B.computeCholesky()\n",
    "    LR = R.computeCholesky()\n",
    "    #\n",
    "    ILB = ot.IdentityMatrix(parameterDimension)\n",
    "    invLB = LB.solveLinearSystem(ILB)\n",
    "    invLRJ = LR.solveLinearSystem(gradientObservations)\n",
    "    # Compute Abar\n",
    "    Abar = ot.Matrix(parameterDimension+size*outputDimension,parameterDimension)\n",
    "    Abar[0:parameterDimension,0:parameterDimension] = invLB\n",
    "    for i in range(size):\n",
    "        for j in range(outputDimension):\n",
    "            for k in range(parameterDimension):\n",
    "                Abar[i*outputDimension + j + parameterDimension,k] = -invLRJ[i*outputDimension + j,k]\n",
    "    #\n",
    "    invLRz = LR.solveLinearSystem(deltay)\n",
    "    # Compute ybar\n",
    "    ybar = ot.Point(parameterDimension+size*outputDimension)\n",
    "    for i in range(size):\n",
    "        for j in range(outputDimension):\n",
    "            ybar[i*outputDimension + j + parameterDimension] = -invLRz[i*outputDimension + j]\n",
    "    # Solve the least squares problem\n",
    "    print(\"Cond(Linear Least Squares/Cholesky)=\",np.linalg.cond(Abar))\n",
    "    method = ot.SVDMethod(Abar)\n",
    "    deltaTheta = method.solve(ybar)\n",
    "    thetaStar = deltaTheta + candidate\n",
    "    covarianceThetaStar = method.getGramInverse()\n",
    "    return thetaStar, covarianceThetaStar"
   ]
  },
  {
   "cell_type": "markdown",
   "metadata": {},
   "source": [
    "## GaussianLinearCalibrationCompute"
   ]
  },
  {
   "cell_type": "code",
   "execution_count": 23,
   "metadata": {},
   "outputs": [],
   "source": [
    "thetaStar, covarianceThetaStar = GaussianLinearCalibrationCompute(model, inputObservations, outputObservations, \\\n",
    "                                    candidate, parameterCovariance, errorCovariance)"
   ]
  },
  {
   "cell_type": "code",
   "execution_count": 24,
   "metadata": {},
   "outputs": [
    {
     "data": {
      "text/html": [
       "<p>[11.0496,6.77479,-9.11727]</p>"
      ],
      "text/plain": [
       "class=Point name=Unnamed dimension=3 values=[11.0496,6.77479,-9.11727]"
      ]
     },
     "execution_count": 24,
     "metadata": {},
     "output_type": "execute_result"
    }
   ],
   "source": [
    "thetaStar"
   ]
  },
  {
   "cell_type": "code",
   "execution_count": 25,
   "metadata": {
    "scrolled": false
   },
   "outputs": [
    {
     "data": {
      "text/html": [
       "<p>[[  0.21174    0.0238928 -0.0905    ]<br>\n",
       " [  0.0238928  0.244571  -0.0584876 ]<br>\n",
       " [ -0.0905    -0.0584876  0.350896  ]]</p>"
      ],
      "text/plain": [
       "class=CovarianceMatrix dimension=3 implementation=class=MatrixImplementation name=Unnamed rows=3 columns=3 values=[0.21174,0.0238928,-0.0905,0.0238928,0.244571,-0.0584876,-0.0905,-0.0584876,0.350896]"
      ]
     },
     "execution_count": 25,
     "metadata": {},
     "output_type": "execute_result"
    }
   ],
   "source": [
    "covarianceThetaStar"
   ]
  },
  {
   "cell_type": "markdown",
   "metadata": {},
   "source": [
    "## GaussianNonLinearCalibrationCompute"
   ]
  },
  {
   "cell_type": "code",
   "execution_count": 26,
   "metadata": {},
   "outputs": [],
   "source": [
    "thetaStar, covarianceThetaStar = GaussianNonLinearCalibrationCompute(model, inputObservations, outputObservations, \\\n",
    "                                    candidate, parameterCovariance, errorCovariance)"
   ]
  },
  {
   "cell_type": "code",
   "execution_count": 27,
   "metadata": {},
   "outputs": [
    {
     "data": {
      "text/html": [
       "<p>[11.0496,6.77479,-9.11727]</p>"
      ],
      "text/plain": [
       "class=Point name=Unnamed dimension=3 values=[11.0496,6.77479,-9.11727]"
      ]
     },
     "execution_count": 27,
     "metadata": {},
     "output_type": "execute_result"
    }
   ],
   "source": [
    "thetaStar"
   ]
  },
  {
   "cell_type": "code",
   "execution_count": 28,
   "metadata": {
    "scrolled": true
   },
   "outputs": [
    {
     "data": {
      "text/html": [
       "<p>[[  0.0092047    0.000858401 -0.00138761  ]<br>\n",
       " [  0.000858401  0.00506538   0.00181057  ]<br>\n",
       " [ -0.00138761   0.00181057   0.00678218  ]]</p>"
      ],
      "text/plain": [
       "class=CovarianceMatrix dimension=3 implementation=class=MatrixImplementation name=Unnamed rows=3 columns=3 values=[0.0092047,0.000858401,-0.00138761,0.000858401,0.00506538,0.00181057,-0.00138761,0.00181057,0.00678218]"
      ]
     },
     "execution_count": 28,
     "metadata": {},
     "output_type": "execute_result"
    }
   ],
   "source": [
    "covarianceThetaStar"
   ]
  },
  {
   "cell_type": "markdown",
   "metadata": {},
   "source": [
    "## Kalman"
   ]
  },
  {
   "cell_type": "code",
   "execution_count": 29,
   "metadata": {},
   "outputs": [
    {
     "name": "stdout",
     "output_type": "stream",
     "text": [
      "Cond(Kalman)= 1.4286936311480014\n"
     ]
    },
    {
     "data": {
      "text/html": [
       "<p>[11.0496,6.77479,-9.11727]</p>"
      ],
      "text/plain": [
       "class=Point name=Unnamed dimension=3 values=[11.0496,6.77479,-9.11727]"
      ]
     },
     "execution_count": 29,
     "metadata": {},
     "output_type": "execute_result"
    }
   ],
   "source": [
    "thetaStar, covarianceThetaStar = ComputeFromKalman(model, inputObservations, outputObservations, \\\n",
    "    candidate, parameterCovariance, errorCovariance)\n",
    "thetaStar"
   ]
  },
  {
   "cell_type": "code",
   "execution_count": 30,
   "metadata": {},
   "outputs": [
    {
     "data": {
      "text/html": [
       "<p>[[  0.21174    0.0238928 -0.0905    ]<br>\n",
       " [  0.0238928  0.244571  -0.0584876 ]<br>\n",
       " [ -0.0905    -0.0584876  0.350896  ]]</p>"
      ],
      "text/plain": [
       "class=Matrix implementation=class=MatrixImplementation name=Unnamed rows=3 columns=3 values=[0.21174,0.0238928,-0.0905,0.0238928,0.244571,-0.0584876,-0.0905,-0.0584876,0.350896]"
      ]
     },
     "execution_count": 30,
     "metadata": {},
     "output_type": "execute_result"
    }
   ],
   "source": [
    "covarianceThetaStar"
   ]
  },
  {
   "cell_type": "markdown",
   "metadata": {},
   "source": [
    "## From the extended linear least squares"
   ]
  },
  {
   "cell_type": "code",
   "execution_count": 31,
   "metadata": {},
   "outputs": [
    {
     "name": "stdout",
     "output_type": "stream",
     "text": [
      "Cond(Linear Least Squares/Cholesky)= 1.5834868565778306\n"
     ]
    },
    {
     "data": {
      "text/html": [
       "<p>[11.0496,6.77479,-9.11727]</p>"
      ],
      "text/plain": [
       "class=Point name=Unnamed dimension=3 values=[11.0496,6.77479,-9.11727]"
      ]
     },
     "execution_count": 31,
     "metadata": {},
     "output_type": "execute_result"
    }
   ],
   "source": [
    "thetaStar, covarianceThetaStar = ComputeFromLinearLeastSquaresCholesky(model, inputObservations, outputObservations, \\\n",
    "    candidate, parameterCovariance, errorCovariance)\n",
    "thetaStar"
   ]
  },
  {
   "cell_type": "code",
   "execution_count": 32,
   "metadata": {},
   "outputs": [
    {
     "data": {
      "text/html": [
       "<p>[[  0.21174    0.0238928 -0.0905    ]<br>\n",
       " [  0.0238928  0.244571  -0.0584876 ]<br>\n",
       " [ -0.0905    -0.0584876  0.350896  ]]</p>"
      ],
      "text/plain": [
       "class=CovarianceMatrix dimension=3 implementation=class=MatrixImplementation name=Unnamed rows=3 columns=3 values=[0.21174,0.0238928,-0.0905,0.0238928,0.244571,-0.0584876,-0.0905,-0.0584876,0.350896]"
      ]
     },
     "execution_count": 32,
     "metadata": {},
     "output_type": "execute_result"
    }
   ],
   "source": [
    "covarianceThetaStar"
   ]
  }
 ],
 "metadata": {
  "kernelspec": {
   "display_name": "Python 3",
   "language": "python",
   "name": "python3"
  },
  "language_info": {
   "codemirror_mode": {
    "name": "ipython",
    "version": 3
   },
   "file_extension": ".py",
   "mimetype": "text/x-python",
   "name": "python",
   "nbconvert_exporter": "python",
   "pygments_lexer": "ipython3",
   "version": "3.7.1"
  }
 },
 "nbformat": 4,
 "nbformat_minor": 2
}
