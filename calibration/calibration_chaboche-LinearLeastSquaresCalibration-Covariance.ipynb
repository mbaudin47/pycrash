{
 "cells": [
  {
   "cell_type": "markdown",
   "metadata": {},
   "source": [
    "L'objectif de ce NB est de vérifier la distribution de la solution du problème de moindres carrés linéaires. Plus précisément, on vérifie que la covariance de la loi gaussienne associée à la méthode `getParameterPosterior` est correcte pour la classe `LinearLeastSquaresCalibration`."
   ]
  },
  {
   "cell_type": "markdown",
   "metadata": {},
   "source": [
    "## Generate the observations"
   ]
  },
  {
   "cell_type": "code",
   "execution_count": 1,
   "metadata": {},
   "outputs": [],
   "source": [
    "import numpy as np\n",
    "import openturns as ot"
   ]
  },
  {
   "cell_type": "code",
   "execution_count": 2,
   "metadata": {},
   "outputs": [],
   "source": [
    "ot.RandomGenerator.SetSeed(0)"
   ]
  },
  {
   "cell_type": "code",
   "execution_count": 3,
   "metadata": {},
   "outputs": [],
   "source": [
    "def modelChaboche(X):\n",
    "    strain,R,C,gamma = X\n",
    "    stress = R + C*(1-np.exp(-gamma*strain))\n",
    "    return [stress]"
   ]
  },
  {
   "cell_type": "code",
   "execution_count": 4,
   "metadata": {},
   "outputs": [],
   "source": [
    "g = ot.PythonFunction(4, 1, modelChaboche) "
   ]
  },
  {
   "cell_type": "code",
   "execution_count": 5,
   "metadata": {},
   "outputs": [
    {
     "data": {
      "text/html": [
       "<p>[700,2500,8]</p>"
      ],
      "text/plain": [
       "class=Point name=Unnamed dimension=3 values=[700,2500,8]"
      ]
     },
     "execution_count": 5,
     "metadata": {},
     "output_type": "execute_result"
    }
   ],
   "source": [
    "referenceR = 700 # Exact : 750\n",
    "referenceC = 2500 # Exact : 2750\n",
    "referenceGamma = 8. # Exact : 10\n",
    "candidate = ot.Point([referenceR,referenceC,referenceGamma])\n",
    "descr = [\"R\", \"C\", \"Gamma\"]\n",
    "candidate.setDescription(descr)\n",
    "candidate"
   ]
  },
  {
   "cell_type": "code",
   "execution_count": 6,
   "metadata": {},
   "outputs": [
    {
     "data": {
      "text/plain": [
       "3"
      ]
     },
     "execution_count": 6,
     "metadata": {},
     "output_type": "execute_result"
    }
   ],
   "source": [
    "parameterDimension = candidate.getDimension()\n",
    "parameterDimension"
   ]
  },
  {
   "cell_type": "code",
   "execution_count": 7,
   "metadata": {},
   "outputs": [],
   "source": [
    "Strain = ot.Uniform(0,0.07)\n",
    "R = ot.Dirac(referenceR)\n",
    "C = ot.Dirac(referenceC)\n",
    "Gamma = ot.Dirac(referenceGamma)\n",
    "\n",
    "Strain.setDescription([\"Strain\"])\n",
    "R.setDescription([\"R\"])\n",
    "C.setDescription([\"C\"])\n",
    "Gamma.setDescription([\"Gamma\"])\n",
    "    \n",
    "inputRandomVector = ot.ComposedDistribution([Strain, R, C, Gamma])"
   ]
  },
  {
   "cell_type": "code",
   "execution_count": 8,
   "metadata": {},
   "outputs": [],
   "source": [
    "def generateTheta(size, observationOutputNoise, candidate):\n",
    "    # 1. Generate exact outputs\n",
    "    inputSample = inputRandomVector.getSample(size)\n",
    "    outputStress = g(inputSample)\n",
    "    # 2. Add noise\n",
    "    sampleNoiseH = observationOutputNoise.getSample(size)\n",
    "    outputObservations = outputStress + sampleNoiseH\n",
    "    # 3. Calibrate\n",
    "    inputObservations = inputSample[:,0]\n",
    "    algo = ot.LinearLeastSquaresCalibration(model, inputObservations, outputObservations, candidate, \"SVD\")\n",
    "    algo.run()\n",
    "    calibrationResult = algo.getResult()\n",
    "    return calibrationResult"
   ]
  },
  {
   "cell_type": "code",
   "execution_count": 9,
   "metadata": {
    "scrolled": true
   },
   "outputs": [],
   "source": [
    "calibratedIndices = [1,2,3]\n",
    "model = ot.ParametricFunction(g, calibratedIndices, candidate)"
   ]
  },
  {
   "cell_type": "markdown",
   "metadata": {},
   "source": [
    "## Calibration"
   ]
  },
  {
   "cell_type": "code",
   "execution_count": 10,
   "metadata": {},
   "outputs": [],
   "source": [
    "stressObservationNoiseSigma = 40. # (Pa)\n",
    "observationOutputNoise = ot.Normal(0.,stressObservationNoiseSigma)"
   ]
  },
  {
   "cell_type": "code",
   "execution_count": 11,
   "metadata": {},
   "outputs": [],
   "source": [
    "size = 100\n",
    "calibrationResult = generateTheta(size, observationOutputNoise, candidate)"
   ]
  },
  {
   "cell_type": "markdown",
   "metadata": {},
   "source": [
    "## Analysis of the results"
   ]
  },
  {
   "cell_type": "markdown",
   "metadata": {},
   "source": [
    "The `getParameterMAP` method returns the maximum of the posterior distribution of $\\theta$."
   ]
  },
  {
   "cell_type": "code",
   "execution_count": 12,
   "metadata": {},
   "outputs": [
    {
     "data": {
      "text/html": [
       "<p>[696.734,2606.25,7.5614]</p>"
      ],
      "text/plain": [
       "class=Point name=Unnamed dimension=3 values=[696.734,2606.25,7.5614]"
      ]
     },
     "execution_count": 12,
     "metadata": {},
     "output_type": "execute_result"
    }
   ],
   "source": [
    "thetaStar = calibrationResult.getParameterMAP()\n",
    "thetaStar"
   ]
  },
  {
   "cell_type": "code",
   "execution_count": 13,
   "metadata": {},
   "outputs": [
    {
     "data": {
      "text/html": [
       "<p>Normal(mu = [696.734,2606.25,7.5614], sigma = [15.7512,361.954,1.58663], R = [[  1         0.701132 -0.763342 ]<br>\n",
       " [  0.701132  1        -0.994947 ]<br>\n",
       " [ -0.763342 -0.994947  1        ]])</p>"
      ],
      "text/plain": [
       "class=Normal name=Normal dimension=3 mean=class=Point name=Unnamed dimension=3 values=[696.734,2606.25,7.5614] sigma=class=Point name=Unnamed dimension=3 values=[15.7512,361.954,1.58663] correlationMatrix=class=CorrelationMatrix dimension=3 implementation=class=MatrixImplementation name=Unnamed rows=3 columns=3 values=[1,0.701132,-0.763342,0.701132,1,-0.994947,-0.763342,-0.994947,1]"
      ]
     },
     "execution_count": 13,
     "metadata": {},
     "output_type": "execute_result"
    }
   ],
   "source": [
    "thetaPosterior = calibrationResult.getParameterPosterior()\n",
    "thetaPosterior"
   ]
  },
  {
   "cell_type": "code",
   "execution_count": 14,
   "metadata": {},
   "outputs": [
    {
     "data": {
      "text/html": [
       "<p>[[    248.099     3997.29       -19.0769  ]<br>\n",
       " [   3997.29    131011         -571.385   ]<br>\n",
       " [    -19.0769    -571.385        2.51739 ]]</p>"
      ],
      "text/plain": [
       "class=CovarianceMatrix dimension=3 implementation=class=MatrixImplementation name=Unnamed rows=3 columns=3 values=[248.099,3997.29,-19.0769,3997.29,131011,-571.385,-19.0769,-571.385,2.51739]"
      ]
     },
     "execution_count": 14,
     "metadata": {},
     "output_type": "execute_result"
    }
   ],
   "source": [
    "covarianceThetaStarOT = thetaPosterior.getCovariance()\n",
    "covarianceThetaStarOT"
   ]
  },
  {
   "cell_type": "markdown",
   "metadata": {},
   "source": [
    "## Create an empirical sample of theta"
   ]
  },
  {
   "cell_type": "code",
   "execution_count": 15,
   "metadata": {},
   "outputs": [],
   "source": [
    "resampleSize = 500\n",
    "sampleTheta = ot.Sample(resampleSize,parameterDimension)\n",
    "sampleTheta.setDescription(descr)\n",
    "for i in range(resampleSize):\n",
    "    calibrationResult = generateTheta(size, observationOutputNoise, candidate)\n",
    "    thetaStar = calibrationResult.getParameterMAP()\n",
    "    sampleTheta[i] = thetaStar"
   ]
  },
  {
   "cell_type": "code",
   "execution_count": 16,
   "metadata": {},
   "outputs": [
    {
     "data": {
      "text/html": [
       "<TABLE><TR><TD></TD><TH>R</TH><TH>C</TH><TH>Gamma</TH></TR>\n",
       "<TR><TD>0</TD><TD>720.3879528242728</TD><TD>2915.368344212736</TD><TD>6.018837404143412</TD></TR>\n",
       "<TR><TD>1</TD><TD>721.6726087083728</TD><TD>2833.454519811609</TD><TD>6.483947463279456</TD></TR>\n",
       "<TR><TD>2</TD><TD>684.0241405119449</TD><TD>2092.7921929840786</TD><TD>9.884143904219702</TD></TR>\n",
       "<TR><TD>3</TD><TD>677.203584855724</TD><TD>1840.3665332644937</TD><TD>10.866062770448536</TD></TR>\n",
       "<TR><TD>4</TD><TD>700.1963500496502</TD><TD>2716.287944437928</TD><TD>7.1936627516597484</TD></TR>\n",
       "</TABLE>"
      ],
      "text/plain": [
       "class=Sample name=Unnamed implementation=class=SampleImplementation name=Unnamed size=5 dimension=3 description=[R,C,Gamma] data=[[720.388,2915.37,6.01884],[721.673,2833.45,6.48395],[684.024,2092.79,9.88414],[677.204,1840.37,10.8661],[700.196,2716.29,7.19366]]"
      ]
     },
     "execution_count": 16,
     "metadata": {},
     "output_type": "execute_result"
    }
   ],
   "source": [
    "sampleTheta[0:5]"
   ]
  },
  {
   "cell_type": "markdown",
   "metadata": {},
   "source": [
    "## Draw distributions"
   ]
  },
  {
   "cell_type": "code",
   "execution_count": 17,
   "metadata": {},
   "outputs": [],
   "source": [
    "import pylab as pl\n",
    "import openturns.viewer as otv"
   ]
  },
  {
   "cell_type": "markdown",
   "metadata": {},
   "source": [
    "Set the mean of the posterior distribution to the candidate, so that we can compare the variances."
   ]
  },
  {
   "cell_type": "code",
   "execution_count": 18,
   "metadata": {},
   "outputs": [
    {
     "data": {
      "text/html": [
       "<p>Normal(mu = [696.734,2606.25,7.5614], sigma = [15.7512,361.954,1.58663], R = [[  1         0.701132 -0.763342 ]<br>\n",
       " [  0.701132  1        -0.994947 ]<br>\n",
       " [ -0.763342 -0.994947  1        ]])</p>"
      ],
      "text/plain": [
       "class=Normal name=Normal dimension=3 mean=class=Point name=Unnamed dimension=3 values=[696.734,2606.25,7.5614] sigma=class=Point name=Unnamed dimension=3 values=[15.7512,361.954,1.58663] correlationMatrix=class=CorrelationMatrix dimension=3 implementation=class=MatrixImplementation name=Unnamed rows=3 columns=3 values=[1,0.701132,-0.763342,0.701132,1,-0.994947,-0.763342,-0.994947,1]"
      ]
     },
     "execution_count": 18,
     "metadata": {},
     "output_type": "execute_result"
    }
   ],
   "source": [
    "thetaPosterior"
   ]
  },
  {
   "cell_type": "code",
   "execution_count": 19,
   "metadata": {},
   "outputs": [
    {
     "data": {
      "text/html": [
       "<p>[[    248.099     3997.29       -19.0769  ]<br>\n",
       " [   3997.29    131011         -571.385   ]<br>\n",
       " [    -19.0769    -571.385        2.51739 ]]</p>"
      ],
      "text/plain": [
       "class=CovarianceMatrix dimension=3 implementation=class=MatrixImplementation name=Unnamed rows=3 columns=3 values=[248.099,3997.29,-19.0769,3997.29,131011,-571.385,-19.0769,-571.385,2.51739]"
      ]
     },
     "execution_count": 19,
     "metadata": {},
     "output_type": "execute_result"
    }
   ],
   "source": [
    "Sigma = thetaPosterior.getCovariance()\n",
    "Sigma"
   ]
  },
  {
   "cell_type": "code",
   "execution_count": 20,
   "metadata": {},
   "outputs": [
    {
     "data": {
      "text/html": [
       "<p>Normal(mu = [700,2500,8], sigma = [15.7512,361.954,1.58663], R = [[  1         0.701132 -0.763342 ]<br>\n",
       " [  0.701132  1        -0.994947 ]<br>\n",
       " [ -0.763342 -0.994947  1        ]])</p>"
      ],
      "text/plain": [
       "class=Normal name=Normal dimension=3 mean=class=Point name=Unnamed dimension=3 values=[700,2500,8] sigma=class=Point name=Unnamed dimension=3 values=[15.7512,361.954,1.58663] correlationMatrix=class=CorrelationMatrix dimension=3 implementation=class=MatrixImplementation name=Unnamed rows=3 columns=3 values=[1,0.701132,-0.763342,0.701132,1,-0.994947,-0.763342,-0.994947,1]"
      ]
     },
     "execution_count": 20,
     "metadata": {},
     "output_type": "execute_result"
    }
   ],
   "source": [
    "thetaPosteriorNormal = ot.Normal(candidate,Sigma)\n",
    "thetaPosteriorNormal"
   ]
  },
  {
   "cell_type": "code",
   "execution_count": 23,
   "metadata": {
    "scrolled": true
   },
   "outputs": [
    {
     "data": {
      "image/png": "[encoded data removed]",
      "text/plain": [
       "<Figure size 864x288 with 3 Axes>"
      ]
     },
     "metadata": {
      "needs_background": "light"
     },
     "output_type": "display_data"
    }
   ],
   "source": [
    "fig = pl.figure(figsize=(12, 4))\n",
    "for i in range(parameterDimension):\n",
    "    thetai = thetaPosteriorNormal.getMarginal(i)\n",
    "    graph = thetai.drawPDF()\n",
    "    graph.setXTitle(descr[i])\n",
    "    # From data\n",
    "    sampleMargin = sampleTheta.getMarginal(i)\n",
    "    ksdist = ot.KernelSmoothing().build(sampleMargin).drawPDF()\n",
    "    ksdist.setColors([\"blue\"])\n",
    "    graph.add(ksdist)\n",
    "    graph.setLegends([\"Result\",\"Data\"])\n",
    "    ax = fig.add_subplot(1, parameterDimension, i+1)\n",
    "    _ = otv.View(graph, figure=fig, axes=[ax])"
   ]
  }
 ],
 "metadata": {
  "kernelspec": {
   "display_name": "Python 3",
   "language": "python",
   "name": "python3"
  },
  "language_info": {
   "codemirror_mode": {
    "name": "ipython",
    "version": 3
   },
   "file_extension": ".py",
   "mimetype": "text/x-python",
   "name": "python",
   "nbconvert_exporter": "python",
   "pygments_lexer": "ipython3",
   "version": "3.7.1"
  }
 },
 "nbformat": 4,
 "nbformat_minor": 2
}
