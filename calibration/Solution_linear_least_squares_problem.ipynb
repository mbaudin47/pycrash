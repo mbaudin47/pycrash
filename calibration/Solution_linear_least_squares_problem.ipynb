{
 "cells": [
  {
   "cell_type": "markdown",
   "metadata": {},
   "source": [
    "# Solution of a linear least squares problem"
   ]
  },
  {
   "cell_type": "markdown",
   "metadata": {},
   "source": [
    "Let's solve the following linear least squares problem:\n",
    "\n",
    "$$\\begin{alignat}{3}\n",
    "\\beta_1  +  1\\beta_2 &&\\; = \\;&& 6 & \\\\\n",
    "\\beta_1  +  2\\beta_2 &&\\; = \\;&& 5 & \\\\\n",
    "\\beta_1  +  3\\beta_2 &&\\; = \\;&& 7 & \\\\\n",
    "\\beta_1  +  4\\beta_2 &&\\; = \\;&& 10 & \\\\\n",
    "\\end{alignat}\n",
    "$$\n",
    "\n",
    "The solution is:\n",
    "\n",
    "$$\n",
    "\\beta_1=3.5, \\qquad \\beta_2=1.4\n",
    "$$\n",
    "\n",
    "Source:\n",
    "https://en.wikipedia.org/wiki/Linear_least_squares\n"
   ]
  },
  {
   "cell_type": "code",
   "execution_count": 1,
   "metadata": {},
   "outputs": [],
   "source": [
    "import openturns as ot"
   ]
  },
  {
   "cell_type": "code",
   "execution_count": 2,
   "metadata": {},
   "outputs": [
    {
     "data": {
      "text/html": [
       "<p>[[ 1 1 ]<br>\n",
       " [ 1 2 ]<br>\n",
       " [ 1 3 ]<br>\n",
       " [ 1 4 ]]</p>"
      ],
      "text/plain": [
       "class=Matrix implementation=class=MatrixImplementation name=Unnamed rows=4 columns=2 values=[1,1,1,1,1,2,3,4]"
      ]
     },
     "execution_count": 2,
     "metadata": {},
     "output_type": "execute_result"
    }
   ],
   "source": [
    "design = ot.Matrix([[1.,1.],[1.,2.],[1.,3.],[1.,4.]])\n",
    "design"
   ]
  },
  {
   "cell_type": "code",
   "execution_count": 3,
   "metadata": {},
   "outputs": [
    {
     "data": {
      "text/html": [
       "<p>[6,5,7,10]</p>"
      ],
      "text/plain": [
       "class=Point name=Unnamed dimension=4 values=[6,5,7,10]"
      ]
     },
     "execution_count": 3,
     "metadata": {},
     "output_type": "execute_result"
    }
   ],
   "source": [
    "y = ot.Point([6.,5.,7.,10.])\n",
    "y"
   ]
  },
  {
   "cell_type": "code",
   "execution_count": 4,
   "metadata": {},
   "outputs": [
    {
     "data": {
      "text/html": [
       "<p>class=SVDMethod</p>"
      ],
      "text/plain": [
       "class=SVDMethod"
      ]
     },
     "execution_count": 4,
     "metadata": {},
     "output_type": "execute_result"
    }
   ],
   "source": [
    "method = ot.SVDMethod(design)\n",
    "method"
   ]
  },
  {
   "cell_type": "code",
   "execution_count": 5,
   "metadata": {},
   "outputs": [
    {
     "data": {
      "text/html": [
       "<p>[3.5,1.4]</p>"
      ],
      "text/plain": [
       "class=Point name=Unnamed dimension=2 values=[3.5,1.4]"
      ]
     },
     "execution_count": 5,
     "metadata": {},
     "output_type": "execute_result"
    }
   ],
   "source": [
    "beta = method.solve(y)\n",
    "beta"
   ]
  },
  {
   "cell_type": "code",
   "execution_count": 6,
   "metadata": {},
   "outputs": [
    {
     "data": {
      "text/html": [
       "<p>[[  0.7  0.4  0.1 -0.2 ]<br>\n",
       " [  0.4  0.3  0.2  0.1 ]<br>\n",
       " [  0.1  0.2  0.3  0.4 ]<br>\n",
       " [ -0.2  0.1  0.4  0.7 ]]</p>"
      ],
      "text/plain": [
       "class=SymmetricMatrix dimension=4 implementation=class=MatrixImplementation name=Unnamed rows=4 columns=4 values=[0.7,0.4,0.1,-0.2,0.4,0.3,0.2,0.1,0.1,0.2,0.3,0.4,-0.2,0.1,0.4,0.7]"
      ]
     },
     "execution_count": 6,
     "metadata": {},
     "output_type": "execute_result"
    }
   ],
   "source": [
    "method.getH()"
   ]
  },
  {
   "cell_type": "code",
   "execution_count": 7,
   "metadata": {},
   "outputs": [
    {
     "data": {
      "text/html": [
       "<p>[0.7,0.3,0.3,0.7]</p>"
      ],
      "text/plain": [
       "class=Point name=Unnamed dimension=4 values=[0.7,0.3,0.3,0.7]"
      ]
     },
     "execution_count": 7,
     "metadata": {},
     "output_type": "execute_result"
    }
   ],
   "source": [
    "method.getHDiag()"
   ]
  },
  {
   "cell_type": "code",
   "execution_count": 8,
   "metadata": {},
   "outputs": [
    {
     "data": {
      "text/html": [
       "<p>[[  1.5 -0.5 ]<br>\n",
       " [ -0.5  0.2 ]]</p>"
      ],
      "text/plain": [
       "class=CovarianceMatrix dimension=2 implementation=class=MatrixImplementation name=Unnamed rows=2 columns=2 values=[1.5,-0.5,-0.5,0.2]"
      ]
     },
     "execution_count": 8,
     "metadata": {},
     "output_type": "execute_result"
    }
   ],
   "source": [
    "method.getGramInverse()"
   ]
  },
  {
   "cell_type": "code",
   "execution_count": 9,
   "metadata": {},
   "outputs": [
    {
     "data": {
      "text/html": [
       "<p>[1.5,0.2]</p>"
      ],
      "text/plain": [
       "class=Point name=Unnamed dimension=2 values=[1.5,0.2]"
      ]
     },
     "execution_count": 9,
     "metadata": {},
     "output_type": "execute_result"
    }
   ],
   "source": [
    "method.getGramInverseDiag()"
   ]
  },
  {
   "cell_type": "code",
   "execution_count": 10,
   "metadata": {},
   "outputs": [
    {
     "data": {
      "text/plain": [
       "1.7000000000000002"
      ]
     },
     "execution_count": 10,
     "metadata": {},
     "output_type": "execute_result"
    }
   ],
   "source": [
    "method.getGramInverseTrace()"
   ]
  }
 ],
 "metadata": {
  "kernelspec": {
   "display_name": "Python 3",
   "language": "python",
   "name": "python3"
  },
  "language_info": {
   "codemirror_mode": {
    "name": "ipython",
    "version": 3
   },
   "file_extension": ".py",
   "mimetype": "text/x-python",
   "name": "python",
   "nbconvert_exporter": "python",
   "pygments_lexer": "ipython3",
   "version": "3.7.1"
  }
 },
 "nbformat": 4,
 "nbformat_minor": 2
}
