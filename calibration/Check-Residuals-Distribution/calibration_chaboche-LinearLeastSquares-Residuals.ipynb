{
 "cells": [
  {
   "cell_type": "markdown",
   "metadata": {},
   "source": [
    "L'objectif de ce NB est de vérifier la distribution de la solution du problème de moindres carrés linéaires. Plus précisément, on vérifie que la covariance de la loi gaussienne associée à la méthode `getParameterPosterior` est correcte pour la classe `LinearLeastSquaresCalibration`. \n",
    "Une difficulté pour valider le résultat est que le modèle de Chaboche n'est que approximativement linéaire."
   ]
  },
  {
   "cell_type": "markdown",
   "metadata": {},
   "source": [
    "## Generate the observations"
   ]
  },
  {
   "cell_type": "code",
   "execution_count": 1,
   "metadata": {},
   "outputs": [],
   "source": [
    "\"\"\"\n",
    "A graphics class to analyze the results of calibration.\n",
    "\"\"\"\n",
    "\n",
    "import pylab as pl\n",
    "import openturns as ot\n",
    "import openturns.viewer as otv\n",
    "\n",
    "class CalibrationAnalysis:\n",
    "    def __init__(self,calibrationResult,model,inputObservations,outputObservations):\n",
    "        \"\"\"\n",
    "        Plots the prior and posterior distribution of the calibrated parameter theta.\n",
    "    \n",
    "        Parameters\n",
    "        ----------\n",
    "        calibrationResult : :class:`~openturns.calibrationResult`\n",
    "            The result of a calibration.\n",
    "    \n",
    "        model : 2-d sequence of float\n",
    "            The function to calibrate.\n",
    "    \n",
    "        inputObservations : :class:`~openturns.Sample`\n",
    "            The sample of input values of the model linked to the observations.\n",
    "    \n",
    "        outputObservations : 2-d sequence of float\n",
    "            The sample of output values of the model linked to the observations.\n",
    "        \"\"\"\n",
    "        self.model = model\n",
    "        self.outputAtPrior = None\n",
    "        self.outputAtPosterior = None\n",
    "        self.calibrationResult = calibrationResult\n",
    "        self.observationColor = \"blue\"\n",
    "        self.priorColor = \"red\"\n",
    "        self.posteriorColor = \"green\"\n",
    "        self.inputObservations = inputObservations\n",
    "        self.outputObservations = outputObservations\n",
    "        self.unitlength = 6 # inch\n",
    "        # Compute yAtPrior\n",
    "        meanPrior = calibrationResult.getParameterPrior().getMean()\n",
    "        model.setParameter(meanPrior)\n",
    "        self.outputAtPrior=model(inputObservations)\n",
    "        # Compute yAtPosterior\n",
    "        meanPosterior = calibrationResult.getParameterPosterior().getMean()\n",
    "        model.setParameter(meanPosterior)\n",
    "        self.outputAtPosterior=model(inputObservations)\n",
    "        return None\n",
    "\n",
    "    def drawParameterDistributions(self):\n",
    "        \"\"\"\n",
    "        Plots the prior and posterior distribution of the calibrated parameter theta.\n",
    "        \"\"\"\n",
    "        thetaPrior = self.calibrationResult.getParameterPrior()\n",
    "        thetaDescription = thetaPrior.getDescription()\n",
    "        thetaPosterior = self.calibrationResult.getParameterPosterior()\n",
    "        thetaDim = thetaPosterior.getDimension()\n",
    "        fig = pl.figure(figsize=(12, 4))\n",
    "        for i in range(thetaDim):\n",
    "            graph = ot.Graph(\"\",thetaDescription[i],\"PDF\",True,\"topright\")\n",
    "            # Prior distribution\n",
    "            thetaPrior_i = thetaPrior.getMarginal(i)\n",
    "            priorPDF = thetaPrior_i.drawPDF()\n",
    "            priorPDF.setColors([self.priorColor])\n",
    "            priorPDF.setLegends([\"Prior\"])\n",
    "            graph.add(priorPDF)\n",
    "            # Posterior distribution\n",
    "            thetaPosterior_i = thetaPosterior.getMarginal(i)\n",
    "            postPDF = thetaPosterior_i.drawPDF()\n",
    "            postPDF.setColors([self.posteriorColor])\n",
    "            postPDF.setLegends([\"Posterior\"])\n",
    "            graph.add(postPDF)\n",
    "            '''\n",
    "            If the prior is a Dirac, set the vertical axis bounds to the posterior. \n",
    "            Otherwise, the Dirac set to [0,1], where the 1 can be much larger \n",
    "            than the maximum PDF of the posterior.\n",
    "            '''\n",
    "            if (thetaPrior_i.getName()==\"Dirac\"):\n",
    "                # The vertical (PDF) bounds of the posterior\n",
    "                postbb = postPDF.getBoundingBox()\n",
    "                pdf_upper = postbb.getUpperBound()[1]\n",
    "                pdf_lower = postbb.getLowerBound()[1]\n",
    "                # Set these bounds to the graph\n",
    "                bb = graph.getBoundingBox()\n",
    "                graph_upper = bb.getUpperBound()\n",
    "                graph_upper[1] = pdf_upper\n",
    "                bb.setUpperBound(graph_upper)\n",
    "                graph_lower = bb.getLowerBound()\n",
    "                graph_lower[1] = pdf_lower\n",
    "                bb.setLowerBound(graph_lower)\n",
    "                graph.setBoundingBox(bb)\n",
    "            # Add it to the graphics\n",
    "            ax = fig.add_subplot(1, thetaDim, i+1)\n",
    "            _ = otv.View(graph, figure=fig, axes=[ax])\n",
    "        return fig\n",
    "    \n",
    "    def drawObservationsVsPredictions(self):\n",
    "        \"\"\"\n",
    "        Plots the output of the model depending \n",
    "        on the output observations before and after calibration.\n",
    "        \"\"\"\n",
    "        \n",
    "        ySize = self.outputObservations.getSize()\n",
    "        yDim = self.outputObservations.getDimension()\n",
    "        graph = ot.Graph(\"\",\"Observations\",\"Predictions\",True,\"topleft\")\n",
    "        # Plot the diagonal\n",
    "        if (yDim==1):\n",
    "            graph = self._drawObservationsVsPredictions1Dimension(self.outputObservations,self.outputAtPrior,self.outputAtPosterior)\n",
    "        elif (ySize==1):\n",
    "            outputObservations = ot.Sample(self.outputObservations[0],1)\n",
    "            outputAtPrior = ot.Sample(self.outputAtPrior[0],1)\n",
    "            outputAtPosterior = ot.Sample(self.outputAtPosterior[0],1)\n",
    "            graph = self._drawObservationsVsPredictions1Dimension(outputObservations,outputAtPrior,outputAtPosterior)\n",
    "        else:\n",
    "            fig = pl.figure(figsize=(self.unitlength*yDim, self.unitlength))\n",
    "            for i in range(yDim):\n",
    "                outputObservations = self.outputObservations[:,i]\n",
    "                outputAtPrior = self.outputAtPrior[:,i]\n",
    "                outputAtPosterior = self.outputAtPosterior[:,i]\n",
    "                graph = self._drawObservationsVsPredictions1Dimension(outputObservations,outputAtPrior,outputAtPosterior)\n",
    "                ax = fig.add_subplot(1, yDim, i+1)\n",
    "                _ = otv.View(graph, figure=fig, axes=[ax])\n",
    "\n",
    "        return graph\n",
    "\n",
    "    def _drawObservationsVsPredictions1Dimension(self,outputObservations,outputAtPrior,outputAtPosterior):\n",
    "        \"\"\"\n",
    "        Plots the output of the model depending \n",
    "        on the output observations before and after calibration.\n",
    "        Can manage only 1D samples.\n",
    "        \"\"\"\n",
    "        yDim = outputObservations.getDimension()\n",
    "        ydescription = outputObservations.getDescription()\n",
    "        xlabel = \"%s Observations\" % (ydescription[0])\n",
    "        ylabel = \"%s Predictions\" % (ydescription[0])\n",
    "        graph = ot.Graph(\"\",xlabel,ylabel,True,\"topleft\")\n",
    "        # Plot the diagonal\n",
    "        if (yDim==1):\n",
    "            curve = ot.Curve(outputObservations, outputObservations)\n",
    "            curve.setColor(self.observationColor)\n",
    "            graph.add(curve)\n",
    "        else:\n",
    "            raise TypeError('Output observations are not 1D.')\n",
    "        # Plot the predictions before\n",
    "        yPriorDim = outputAtPrior.getDimension()\n",
    "        if (yPriorDim==1):\n",
    "            cloud = ot.Cloud(outputObservations, outputAtPrior)\n",
    "            cloud.setColor(self.priorColor)\n",
    "            cloud.setLegend(\"Prior\")\n",
    "            graph.add(cloud)\n",
    "        else:\n",
    "            raise TypeError('Output prior predictions are not 1D.')\n",
    "        # Plot the predictions after\n",
    "        yPosteriorDim = outputAtPosterior.getDimension()\n",
    "        if (yPosteriorDim==1):\n",
    "            cloud = ot.Cloud(outputObservations, outputAtPosterior)\n",
    "            cloud.setColor(self.posteriorColor)\n",
    "            cloud.setLegend(\"Posterior\")\n",
    "            graph.add(cloud)\n",
    "        else:\n",
    "            raise TypeError('Output posterior predictions are not 1D.')\n",
    "        return graph\n",
    "    \n",
    "    def drawResiduals(self):\n",
    "        \"\"\"\n",
    "        Plot the distribution of the residuals and \n",
    "        the distribution of the observation errors. \n",
    "        \"\"\"    \n",
    "        ySize = self.outputObservations.getSize()\n",
    "        yDim = self.outputObservations.getDimension()\n",
    "        yPriorSize = self.outputAtPrior.getSize()\n",
    "        yPriorDim = self.outputAtPrior.getDimension()\n",
    "        if (yDim==1):\n",
    "            observationsError = self.calibrationResult.getObservationsError()\n",
    "            graph = self._drawResiduals1Dimension(self.outputObservations,self.outputAtPrior,self.outputAtPosterior,observationsError)\n",
    "        elif (ySize==1):\n",
    "            outputObservations = ot.Sample(self.outputObservations[0],1)\n",
    "            outputAtPrior = ot.Sample(self.outputAtPrior[0],1)\n",
    "            outputAtPosterior = ot.Sample(self.outputAtPosterior[0],1)\n",
    "            observationsError = self.calibrationResult.getObservationsError()\n",
    "            # In this case, we cannot draw observationsError ; just \n",
    "            # pass the required input argument, but it is not actually used.\n",
    "            graph = self._drawResiduals1Dimension(outputObservations,outputAtPrior,outputAtPosterior,observationsError)\n",
    "        else:\n",
    "            observationsError = self.calibrationResult.getObservationsError()\n",
    "            fig = pl.figure(figsize=(self.unitlength*yDim, self.unitlength))\n",
    "            for i in range(yDim):\n",
    "                outputObservations = self.outputObservations[:,i]\n",
    "                outputAtPrior = self.outputAtPrior[:,i]\n",
    "                outputAtPosterior = self.outputAtPosterior[:,i]\n",
    "                observationsErrorYi = observationsError.getMarginal(i)\n",
    "                graph = self._drawResiduals1Dimension(outputObservations,outputAtPrior,outputAtPosterior,observationsErrorYi)\n",
    "                ax = fig.add_subplot(1, yDim, i+1)\n",
    "                _ = otv.View(graph, figure=fig, axes=[ax])\n",
    "        return graph\n",
    "\n",
    "    def _drawResiduals1Dimension(self,outputObservations,outputAtPrior,outputAtPosterior,observationsError):\n",
    "        \"\"\"\n",
    "        Plot the distribution of the residuals and \n",
    "        the distribution of the observation errors. \n",
    "        Can manage only 1D samples.\n",
    "        \"\"\"    \n",
    "        ydescription = outputObservations.getDescription()\n",
    "        xlabel = \"%s Residuals\" % (ydescription[0])\n",
    "        graph = ot.Graph(\"Residuals analysis\",xlabel,\"Probability distribution function\",True,\"topright\")\n",
    "        yDim = outputObservations.getDimension()\n",
    "        yPriorDim = outputAtPrior.getDimension()\n",
    "        yPosteriorDim = outputAtPrior.getDimension()\n",
    "        if (yDim==1) and (yPriorDim==1) :\n",
    "            posteriorResiduals = outputObservations - outputAtPrior\n",
    "            kernel = ot.KernelSmoothing()\n",
    "            fittedDist = kernel.build(posteriorResiduals)\n",
    "            residualPDF = fittedDist.drawPDF()\n",
    "            residualPDF.setColors([self.priorColor])\n",
    "            residualPDF.setLegends([\"Prior\"])\n",
    "            graph.add(residualPDF)\n",
    "        else:\n",
    "            raise TypeError('Output prior observations are not 1D.')\n",
    "        if (yDim==1) and (yPosteriorDim==1) :\n",
    "            posteriorResiduals = outputObservations - outputAtPosterior\n",
    "            kernel = ot.KernelSmoothing()\n",
    "            fittedDist = kernel.build(posteriorResiduals)\n",
    "            residualPDF = fittedDist.drawPDF()\n",
    "            residualPDF.setColors([self.posteriorColor])\n",
    "            residualPDF.setLegends([\"Posterior\"])\n",
    "            graph.add(residualPDF)\n",
    "        else:\n",
    "            raise TypeError('Output posterior observations are not 1D.')\n",
    "        # Plot the distribution of the observation errors\n",
    "        if (observationsError.getDimension()==1):\n",
    "            # In the other case, we just do not plot\n",
    "            obserrgraph = observationsError.drawPDF()\n",
    "            obserrgraph.setColors([self.observationColor])\n",
    "            obserrgraph.setLegends([\"Observation errors\"])\n",
    "            graph.add(obserrgraph)\n",
    "        return graph\n",
    "\n",
    "    def drawObservationsVsInputs(self):\n",
    "        \"\"\"\n",
    "        Plots the observed output of the model depending \n",
    "        on the observed input before and after calibration.\n",
    "        \"\"\"\n",
    "        xSize = self.inputObservations.getSize()\n",
    "        ySize = self.outputObservations.getSize()\n",
    "        xDim = self.inputObservations.getDimension()\n",
    "        yDim = self.outputObservations.getDimension()\n",
    "        xdescription = self.inputObservations.getDescription()\n",
    "        ydescription = self.outputObservations.getDescription()\n",
    "        # Observations\n",
    "        if (xDim==1) and (yDim==1):\n",
    "            graph = self._drawObservationsVsInputs1Dimension(self.inputObservations,self.outputObservations,self.outputAtPrior,self.outputAtPosterior)\n",
    "        elif (xSize==1) and (ySize==1):\n",
    "            inputObservations = ot.Sample(self.inputObservations[0],1)\n",
    "            outputObservations = ot.Sample(self.outputObservations[0],1)\n",
    "            outputAtPrior = ot.Sample(self.outputAtPrior[0],1)\n",
    "            outputAtPosterior = ot.Sample(self.outputAtPosterior[0],1)\n",
    "            graph = self._drawObservationsVsInputs1Dimension(inputObservations,outputObservations,outputAtPrior,outputAtPosterior)\n",
    "        else:\n",
    "            fig = pl.figure(figsize=(xDim*self.unitlength, yDim*self.unitlength))\n",
    "            for i in range(xDim):\n",
    "                for j in range(yDim):\n",
    "                    k = xDim * j + i\n",
    "                    inputObservations = self.inputObservations[:,i]\n",
    "                    outputObservations = self.outputObservations[:,j]\n",
    "                    outputAtPrior = self.outputAtPrior[:,j]\n",
    "                    outputAtPosterior = self.outputAtPosterior[:,j]\n",
    "                    graph = self._drawObservationsVsInputs1Dimension(inputObservations,outputObservations,outputAtPrior,outputAtPosterior)\n",
    "                    ax = fig.add_subplot(yDim, xDim, k+1)\n",
    "                    _ = otv.View(graph, figure=fig, axes=[ax])\n",
    "        return graph\n",
    "\n",
    "    def _drawObservationsVsInputs1Dimension(self,inputObservations,outputObservations,outputAtPrior,outputAtPosterior):\n",
    "        \"\"\"\n",
    "        Plots the observed output of the model depending \n",
    "        on the observed input before and after calibration.\n",
    "        Can manage only 1D samples.\n",
    "        \"\"\"\n",
    "        xDim = inputObservations.getDimension()\n",
    "        if (xDim!=1):\n",
    "            raise TypeError('Input observations are not 1D.')\n",
    "        yDim = outputObservations.getDimension()\n",
    "        xdescription = inputObservations.getDescription()\n",
    "        ydescription = outputObservations.getDescription()\n",
    "        graph = ot.Graph(\"\",xdescription[0],ydescription[0],True,\"topright\")\n",
    "        # Observations\n",
    "        if (yDim==1):\n",
    "            cloud = ot.Cloud(inputObservations,outputObservations)\n",
    "            cloud.setColor(self.observationColor)\n",
    "            cloud.setLegend(\"Observations\")\n",
    "            graph.add(cloud)\n",
    "        else:\n",
    "            raise TypeError('Output observations are not 1D.')\n",
    "        # Model outputs before calibration\n",
    "        yPriorDim = outputAtPrior.getDimension()\n",
    "        if (yPriorDim==1):\n",
    "            cloud = ot.Cloud(inputObservations,outputAtPrior)\n",
    "            cloud.setColor(self.priorColor)\n",
    "            cloud.setLegend(\"Prior\")\n",
    "            graph.add(cloud)\n",
    "        else:\n",
    "            raise TypeError('Output prior predictions are not 1D.')\n",
    "        # Model outputs after calibration\n",
    "        yPosteriorDim = outputAtPosterior.getDimension()\n",
    "        if (yPosteriorDim==1):\n",
    "            cloud = ot.Cloud(inputObservations,outputAtPosterior)\n",
    "            cloud.setColor(self.posteriorColor)\n",
    "            cloud.setLegend(\"Posterior\")\n",
    "            graph.add(cloud)\n",
    "        else:\n",
    "            raise TypeError('Output posterior predictions are not 1D.')\n",
    "        return graph"
   ]
  },
  {
   "cell_type": "code",
   "execution_count": 2,
   "metadata": {},
   "outputs": [],
   "source": [
    "import numpy as np\n",
    "import openturns as ot"
   ]
  },
  {
   "cell_type": "code",
   "execution_count": 3,
   "metadata": {},
   "outputs": [],
   "source": [
    "ot.RandomGenerator.SetSeed(0)"
   ]
  },
  {
   "cell_type": "code",
   "execution_count": 4,
   "metadata": {},
   "outputs": [],
   "source": [
    "def modelChaboche(X):\n",
    "    strain,R,C,gamma = X\n",
    "    stress = R + C*(1-np.exp(-gamma*strain))\n",
    "    return [stress]"
   ]
  },
  {
   "cell_type": "code",
   "execution_count": 5,
   "metadata": {},
   "outputs": [],
   "source": [
    "g = ot.PythonFunction(4, 1, modelChaboche) "
   ]
  },
  {
   "cell_type": "code",
   "execution_count": 6,
   "metadata": {
    "scrolled": true
   },
   "outputs": [
    {
     "data": {
      "text/html": [
       "<p>[750,2750,10]</p>"
      ],
      "text/plain": [
       "class=Point name=Unnamed dimension=3 values=[750,2750,10]"
      ]
     },
     "execution_count": 6,
     "metadata": {},
     "output_type": "execute_result"
    }
   ],
   "source": [
    "unknownR = 750\n",
    "unknownC = 2750\n",
    "unknownGamma = 10\n",
    "unknownParameter = ot.Point([unknownR,unknownC,unknownGamma])\n",
    "descr = [\"R\", \"C\", \"Gamma\"]\n",
    "unknownParameter"
   ]
  },
  {
   "cell_type": "code",
   "execution_count": 7,
   "metadata": {
    "scrolled": true
   },
   "outputs": [],
   "source": [
    "calibratedIndices = [1,2,3]\n",
    "model = ot.ParametricFunction(g, calibratedIndices, unknownParameter)"
   ]
  },
  {
   "cell_type": "code",
   "execution_count": 8,
   "metadata": {},
   "outputs": [
    {
     "data": {
      "text/html": [
       "<p>[700,2500,8]</p>"
      ],
      "text/plain": [
       "class=Point name=Unnamed dimension=3 values=[700,2500,8]"
      ]
     },
     "execution_count": 8,
     "metadata": {},
     "output_type": "execute_result"
    }
   ],
   "source": [
    "R = 700 # Exact : 750e6\n",
    "C = 2500 # Exact : 2750e6\n",
    "Gamma = 8. # Exact : 10\n",
    "candidate = ot.Point([R,C,Gamma])\n",
    "candidate"
   ]
  },
  {
   "cell_type": "code",
   "execution_count": 9,
   "metadata": {},
   "outputs": [
    {
     "data": {
      "text/plain": [
       "3"
      ]
     },
     "execution_count": 9,
     "metadata": {},
     "output_type": "execute_result"
    }
   ],
   "source": [
    "parameterDimension = candidate.getDimension()\n",
    "parameterDimension"
   ]
  },
  {
   "cell_type": "code",
   "execution_count": 10,
   "metadata": {},
   "outputs": [],
   "source": [
    "Strain = ot.Uniform(0,0.07)\n",
    "R = ot.Dirac(unknownR)\n",
    "C = ot.Dirac(unknownC)\n",
    "Gamma = ot.Dirac(unknownGamma)\n",
    "\n",
    "Strain.setDescription([\"Strain\"])\n",
    "R.setDescription([\"R\"])\n",
    "C.setDescription([\"C\"])\n",
    "Gamma.setDescription([\"Gamma\"])\n",
    "    \n",
    "inputRandomVector = ot.ComposedDistribution([Strain, R, C, Gamma])"
   ]
  },
  {
   "cell_type": "code",
   "execution_count": 11,
   "metadata": {},
   "outputs": [],
   "source": [
    "def generateTheta(size, observationOutputNoise, candidate):\n",
    "    # 1. Generate exact outputs\n",
    "    inputSample = inputRandomVector.getSample(size)\n",
    "    outputStress = g(inputSample)\n",
    "    # 2. Add noise\n",
    "    sampleNoiseH = observationOutputNoise.getSample(size)\n",
    "    outputObservations = outputStress + sampleNoiseH\n",
    "    # 3. Calibrate\n",
    "    inputObservations = inputSample[:,0]\n",
    "    algo = ot.LinearLeastSquaresCalibration(model, inputObservations, outputObservations, candidate, \"SVD\")\n",
    "    algo.run()\n",
    "    calibrationResult = algo.getResult()\n",
    "    return calibrationResult, inputObservations"
   ]
  },
  {
   "cell_type": "markdown",
   "metadata": {},
   "source": [
    "## Calibration"
   ]
  },
  {
   "cell_type": "code",
   "execution_count": 12,
   "metadata": {},
   "outputs": [],
   "source": [
    "stressObservationNoiseSigma = 40. # (Pa)\n",
    "observationOutputNoise = ot.Normal(0.,stressObservationNoiseSigma)"
   ]
  },
  {
   "cell_type": "code",
   "execution_count": 43,
   "metadata": {},
   "outputs": [],
   "source": [
    "size = 10\n",
    "calibrationResult, inputObservations = generateTheta(size, observationOutputNoise, candidate)"
   ]
  },
  {
   "cell_type": "code",
   "execution_count": 44,
   "metadata": {},
   "outputs": [],
   "source": [
    "outputObservations = calibrationResult.getOutputObservations()"
   ]
  },
  {
   "cell_type": "code",
   "execution_count": 45,
   "metadata": {},
   "outputs": [
    {
     "data": {
      "image/png": "[encoded data removed]",
      "text/plain": [
       "class=Graph name=y0 PDF implementation=class=GraphImplementation name=y0 PDF title=Histogram of the sample stress xTitle=Stress (MPa) yTitle=PDF axes=ON grid=ON legendposition=topright legendFontSize=1 drawables=[class=Drawable name=Unnamed implementation=class=Curve name=Unnamed derived from class=DrawableImplementation name=Unnamed legend= data=class=Sample name=Unnamed implementation=class=SampleImplementation name=Unnamed size=12 dimension=2 data=[[831.461,0],[1092.97,0],[1092.97,0],[1092.97,0.00114718],[1616,0.00114718],[1616,0],[1616,0],[1616,0.000764784],[2139.02,0.000764784],[2139.02,0],[2139.02,0],[2400.53,0]] color=red fillStyle=solid lineStyle=solid pointStyle=none lineWidth=2]"
      ]
     },
     "execution_count": 45,
     "metadata": {},
     "output_type": "execute_result"
    }
   ],
   "source": [
    "histoGraph = ot.HistogramFactory().build(outputObservations).drawPDF()\n",
    "histoGraph.setTitle(\"Histogram of the sample stress\")\n",
    "histoGraph.setXTitle(\"Stress (MPa)\")\n",
    "histoGraph.setLegends([\"\"])\n",
    "histoGraph"
   ]
  },
  {
   "cell_type": "code",
   "execution_count": 46,
   "metadata": {},
   "outputs": [
    {
     "data": {
      "image/png": "[encoded data removed]",
      "text/plain": [
       "class=Graph name=Observations implementation=class=GraphImplementation name=Observations title=Observations xTitle=Strain yTitle=Stress (MPa) axes=ON grid=ON legendposition= legendFontSize=1 drawables=[class=Drawable name=Unnamed implementation=class=Cloud name=Unnamed derived from class=DrawableImplementation name=Unnamed legend= data=class=Sample name=Unnamed implementation=class=SampleImplementation name=Unnamed size=10 dimension=2 data=[[0.0268155,1405.17],[0.0137289,1092.97],[0.0679251,2139.02],[0.0301633,1454.82],[0.0649645,2083.66],[0.0585303,1970.05],[0.0227757,1284.85],[0.0146627,1117.43],[0.0477377,1803.04],[0.0350315,1588.79]] color=blue fillStyle=solid lineStyle=solid pointStyle=plus lineWidth=1]"
      ]
     },
     "execution_count": 46,
     "metadata": {},
     "output_type": "execute_result"
    }
   ],
   "source": [
    "graph = ot.Graph(\"Observations\",\"Strain\",\"Stress (MPa)\",True)\n",
    "# Observations\n",
    "cloud = ot.Cloud(inputObservations,outputObservations)\n",
    "graph.add(cloud)\n",
    "graph"
   ]
  },
  {
   "cell_type": "markdown",
   "metadata": {},
   "source": [
    "## Analysis of the results"
   ]
  },
  {
   "cell_type": "markdown",
   "metadata": {},
   "source": [
    "The `getParameterMAP` method returns the maximum of the posterior distribution of $\\theta$."
   ]
  },
  {
   "cell_type": "code",
   "execution_count": 47,
   "metadata": {},
   "outputs": [
    {
     "data": {
      "text/html": [
       "<p>[729.315,2786.9,10.3425]</p>"
      ],
      "text/plain": [
       "class=Point name=Unnamed dimension=3 values=[729.315,2786.9,10.3425]"
      ]
     },
     "execution_count": 47,
     "metadata": {},
     "output_type": "execute_result"
    }
   ],
   "source": [
    "thetaStar = calibrationResult.getParameterMAP()\n",
    "thetaStar"
   ]
  },
  {
   "cell_type": "code",
   "execution_count": 48,
   "metadata": {},
   "outputs": [
    {
     "data": {
      "text/html": [
       "<p>Normal(mu = [729.315,2786.9,10.3425], sigma = [1256.39,22193.5,103.025], R = [[  1         0.879269 -0.913315 ]<br>\n",
       " [  0.879269  1        -0.996562 ]<br>\n",
       " [ -0.913315 -0.996562  1        ]])</p>"
      ],
      "text/plain": [
       "class=Normal name=Normal dimension=3 mean=class=Point name=Unnamed dimension=3 values=[729.315,2786.9,10.3425] sigma=class=Point name=Unnamed dimension=3 values=[1256.39,22193.5,103.025] correlationMatrix=class=CorrelationMatrix dimension=3 implementation=class=MatrixImplementation name=Unnamed rows=3 columns=3 values=[1,0.879269,-0.913315,0.879269,1,-0.996562,-0.913315,-0.996562,1]"
      ]
     },
     "execution_count": 48,
     "metadata": {},
     "output_type": "execute_result"
    }
   ],
   "source": [
    "thetaPosterior = calibrationResult.getParameterPosterior()\n",
    "thetaPosterior"
   ]
  },
  {
   "cell_type": "code",
   "execution_count": 49,
   "metadata": {
    "scrolled": true
   },
   "outputs": [
    {
     "data": {
      "text/html": [
       "<p>[[       1.57853e+06       2.45174e+07 -118220           ]<br>\n",
       " [       2.45174e+07       4.92553e+08      -2.27864e+06 ]<br>\n",
       " [ -118220                -2.27864e+06   10614.2         ]]</p>"
      ],
      "text/plain": [
       "class=CovarianceMatrix dimension=3 implementation=class=MatrixImplementation name=Unnamed rows=3 columns=3 values=[1.57853e+06,2.45174e+07,-118220,2.45174e+07,4.92553e+08,-2.27864e+06,-118220,-2.27864e+06,10614.2]"
      ]
     },
     "execution_count": 49,
     "metadata": {},
     "output_type": "execute_result"
    }
   ],
   "source": [
    "covarianceThetaStarOT = thetaPosterior.getCovariance()\n",
    "covarianceThetaStarOT"
   ]
  },
  {
   "cell_type": "markdown",
   "metadata": {},
   "source": [
    "## Draw residual distribution\n",
    "\n",
    "The goal is to check the distribution of the residuals."
   ]
  },
  {
   "cell_type": "code",
   "execution_count": 50,
   "metadata": {},
   "outputs": [
    {
     "data": {
      "text/html": [
       "<p>Normal(mu = 0, sigma = 649.14)</p>"
      ],
      "text/plain": [
       "class=Normal name=Normal dimension=1 mean=class=Point name=Unnamed dimension=1 values=[0] sigma=class=Point name=Unnamed dimension=1 values=[649.14] correlationMatrix=class=CorrelationMatrix dimension=1 implementation=class=MatrixImplementation name=Unnamed rows=1 columns=1 values=[1]"
      ]
     },
     "execution_count": 50,
     "metadata": {},
     "output_type": "execute_result"
    }
   ],
   "source": [
    "residualDistribution = calibrationResult.getObservationsError()\n",
    "residualDistribution"
   ]
  },
  {
   "cell_type": "code",
   "execution_count": 51,
   "metadata": {},
   "outputs": [],
   "source": [
    "# Compute yAtPosterior\n",
    "meanPosterior = calibrationResult.getParameterPosterior().getMean()\n",
    "model.setParameter(meanPosterior)\n",
    "outputAtPosterior=model(inputObservations)"
   ]
  },
  {
   "cell_type": "code",
   "execution_count": 52,
   "metadata": {},
   "outputs": [],
   "source": [
    "outputObservations = calibrationResult.getOutputObservations()"
   ]
  },
  {
   "cell_type": "code",
   "execution_count": 53,
   "metadata": {},
   "outputs": [],
   "source": [
    "posteriorResiduals = outputAtPosterior - outputObservations"
   ]
  },
  {
   "cell_type": "code",
   "execution_count": 54,
   "metadata": {},
   "outputs": [],
   "source": [
    "kernel = ot.KernelSmoothing()\n",
    "fittedDist = kernel.build(posteriorResiduals)\n",
    "residualPDF = fittedDist.drawPDF()\n",
    "residualPDF.setColors([\"green\"])"
   ]
  },
  {
   "cell_type": "code",
   "execution_count": 55,
   "metadata": {},
   "outputs": [
    {
     "data": {
      "image/png": "[encoded data removed]",
      "text/plain": [
       "class=Graph name=pdf as a function of X0 implementation=class=GraphImplementation name=pdf as a function of X0 title= xTitle=X0 yTitle=PDF axes=ON grid=ON legendposition=topleft legendFontSize=1 drawables=[class=Drawable name=Unnamed implementation=class=Curve name=Unnamed derived from class=DrawableImplementation name=Unnamed legend=Estimated residuals data=class=Sample name=Unnamed implementation=class=SampleImplementation name=Unnamed size=129 dimension=2 data=[[-2422.05,5.82833e-07],[-2384.2,7.23229e-07],[-2346.36,8.94399e-07],[-2308.51,1.10233e-06],[-2270.67,1.35399e-06],[-2232.82,1.65745e-06],[-2194.98,2.02205e-06],[-2157.13,2.45848e-06],[-2119.29,2.97897e-06],[-2081.45,3.5974e-06],[-2043.6,4.32948e-06],[-2005.76,5.19286e-06],[-1967.91,6.20728e-06],[-1930.07,7.39468e-06],[-1892.22,8.77934e-06],[-1854.38,1.03879e-05],[-1816.53,1.22495e-05],[-1778.69,1.43957e-05],[-1740.85,1.68605e-05],[-1703,1.96804e-05],[-1665.16,2.28938e-05],[-1627.31,2.65417e-05],[-1589.47,3.06664e-05],[-1551.62,3.53118e-05],[-1513.78,4.0523e-05],[-1475.93,4.63454e-05],[-1438.09,5.28246e-05],[-1400.24,6.00053e-05],[-1362.4,6.79308e-05],[-1324.56,7.66422e-05],[-1286.71,8.61773e-05],[-1248.87,9.65699e-05],[-1211.02,0.000107849],[-1173.18,0.000120036],[-1135.33,0.000133147],[-1097.49,0.00014719],[-1059.64,0.000162161],[-1021.8,0.000178048],[-983.956,0.000194829],[-946.111,0.000212468],[-908.267,0.000230918],[-870.423,0.000250119],[-832.578,0.000269997],[-794.734,0.000290465],[-756.889,0.000311426],[-719.045,0.000332765],[-681.2,0.000354361],[-643.356,0.000376077],[-605.511,0.00039777],[-567.667,0.000419287],[-529.822,0.000440469],[-491.978,0.00046115],[-454.133,0.000481164],[-416.289,0.000500344],[-378.445,0.000518522],[-340.6,0.000535538],[-302.756,0.000551235],[-264.911,0.000565467],[-227.067,0.000578099],[-189.222,0.000589007],[-151.378,0.000598085],[-113.533,0.000605242],[-75.6889,0.000610407],[-37.8445,0.000613527],[0,0.00061457],[37.8445,0.000613527],[75.6889,0.000610407],[113.533,0.000605242],[151.378,0.000598085],[189.222,0.000589007],[227.067,0.000578099],[264.911,0.000565467],[302.756,0.000551235],[340.6,0.000535538],[378.445,0.000518522],[416.289,0.000500344],[454.133,0.000481164],[491.978,0.00046115],[529.822,0.000440469],[567.667,0.000419287],[605.511,0.00039777],[643.356,0.000376077],[681.2,0.000354361],[719.045,0.000332765],[756.889,0.000311426],[794.734,0.000290465],[832.578,0.000269997],[870.423,0.000250119],[908.267,0.000230918],[946.111,0.000212468],[983.956,0.000194829],[1021.8,0.000178048],[1059.64,0.000162161],[1097.49,0.00014719],[1135.33,0.000133147],[1173.18,0.000120036],[1211.02,0.000107849],[1248.87,9.65699e-05],[1286.71,8.61773e-05],[1324.56,7.66422e-05],[1362.4,6.79308e-05],[1400.24,6.00053e-05],[1438.09,5.28246e-05],[1475.93,4.63454e-05],[1513.78,4.0523e-05],[1551.62,3.53118e-05],[1589.47,3.06664e-05],[1627.31,2.65417e-05],[1665.16,2.28938e-05],[1703,1.96804e-05],[1740.85,1.68605e-05],[1778.69,1.43957e-05],[1816.53,1.22495e-05],[1854.38,1.03879e-05],[1892.22,8.77934e-06],[1930.07,7.39468e-06],[1967.91,6.20728e-06],[2005.76,5.19286e-06],[2043.6,4.32948e-06],[2081.45,3.5974e-06],[2119.29,2.97897e-06],[2157.13,2.45848e-06],[2194.98,2.02205e-06],[2232.82,1.65745e-06],[2270.67,1.35399e-06],[2308.51,1.10233e-06],[2346.36,8.94399e-07],[2384.2,7.23229e-07],[2422.05,5.82833e-07]] color=red fillStyle=solid lineStyle=solid pointStyle=none lineWidth=2,class=Drawable name=Unnamed implementation=class=Curve name=Unnamed derived from class=DrawableImplementation name=Unnamed legend=Exact residuals data=class=Sample name=Unnamed implementation=class=SampleImplementation name=Unnamed size=129 dimension=2 data=[[-149.246,9.45851e-06],[-146.914,1.17369e-05],[-144.582,1.45147e-05],[-142.25,1.78891e-05],[-139.919,2.19731e-05],[-137.587,2.6898e-05],[-135.255,3.28149e-05],[-132.923,3.98975e-05],[-130.591,4.83442e-05],[-128.259,5.83805e-05],[-125.927,7.0261e-05],[-123.595,8.42723e-05],[-121.263,0.000100735],[-118.931,0.000120005],[-116.599,0.000142476],[-114.267,0.00016858],[-111.935,0.000198791],[-109.603,0.000233621],[-107.271,0.000273621],[-104.939,0.000319383],[-102.607,0.000371533],[-100.275,0.000430732],[-97.943,0.000497669],[-95.611,0.000573058],[-93.279,0.000657627],[-90.947,0.000752117],[-88.6151,0.000857264],[-86.2831,0.000973796],[-83.9511,0.00110242],[-81.6191,0.00124379],[-79.2872,0.00139853],[-76.9552,0.00156719],[-74.6232,0.00175022],[-72.2912,0.001948],[-69.9593,0.00216078],[-67.6273,0.00238866],[-65.2953,0.00263162],[-62.9633,0.00288946],[-60.6314,0.00316179],[-58.2994,0.00344804],[-55.9674,0.00374746],[-53.6354,0.00405905],[-51.3035,0.00438164],[-48.9715,0.00471382],[-46.6395,0.00505397],[-44.3075,0.00540028],[-41.9756,0.00575074],[-39.6436,0.00610317],[-37.3116,0.00645522],[-34.9796,0.00680441],[-32.6477,0.00714815],[-30.3157,0.00748377],[-27.9837,0.00780857],[-25.6517,0.00811983],[-23.3198,0.00841484],[-20.9878,0.00869098],[-18.6558,0.00894572],[-16.3238,0.00917669],[-13.9919,0.00938168],[-11.6599,0.0095587],[-9.3279,0.00970602],[-6.99593,0.00982218],[-4.66395,0.00990599],[-2.33198,0.00995662],[0,0.00997356],[2.33198,0.00995662],[4.66395,0.00990599],[6.99593,0.00982218],[9.3279,0.00970602],[11.6599,0.0095587],[13.9919,0.00938168],[16.3238,0.00917669],[18.6558,0.00894572],[20.9878,0.00869098],[23.3198,0.00841484],[25.6517,0.00811983],[27.9837,0.00780857],[30.3157,0.00748377],[32.6477,0.00714815],[34.9796,0.00680441],[37.3116,0.00645522],[39.6436,0.00610317],[41.9756,0.00575074],[44.3075,0.00540028],[46.6395,0.00505397],[48.9715,0.00471382],[51.3035,0.00438164],[53.6354,0.00405905],[55.9674,0.00374746],[58.2994,0.00344804],[60.6314,0.00316179],[62.9633,0.00288946],[65.2953,0.00263162],[67.6273,0.00238866],[69.9593,0.00216078],[72.2912,0.001948],[74.6232,0.00175022],[76.9552,0.00156719],[79.2872,0.00139853],[81.6191,0.00124379],[83.9511,0.00110242],[86.2831,0.000973796],[88.6151,0.000857264],[90.947,0.000752117],[93.279,0.000657627],[95.611,0.000573058],[97.943,0.000497669],[100.275,0.000430732],[102.607,0.000371533],[104.939,0.000319383],[107.271,0.000273621],[109.603,0.000233621],[111.935,0.000198791],[114.267,0.00016858],[116.599,0.000142476],[118.931,0.000120005],[121.263,0.000100735],[123.595,8.42723e-05],[125.927,7.0261e-05],[128.259,5.83805e-05],[130.591,4.83442e-05],[132.923,3.98975e-05],[135.255,3.28149e-05],[137.587,2.6898e-05],[139.919,2.19731e-05],[142.25,1.78891e-05],[144.582,1.45147e-05],[146.914,1.17369e-05],[149.246,9.45851e-06]] color=blue fillStyle=solid lineStyle=solid pointStyle=none lineWidth=2,class=Drawable name=Unnamed implementation=class=Curve name=Unnamed derived from class=DrawableImplementation name=Unnamed legend=Residuals data=class=Sample name=Unnamed implementation=class=SampleImplementation name=Unnamed size=129 dimension=2 data=[[-52.6079,1.04154e-06],[-51.6412,1.54729e-06],[-50.6744,2.27715e-06],[-49.7077,3.32004e-06],[-48.7409,4.79552e-06],[-47.7742,6.86249e-06],[-46.8074,9.72955e-06],[-45.8407,1.36673e-05],[-44.8739,1.90225e-05],[-43.9072,2.62339e-05],[-42.9404,3.585e-05],[-41.9737,4.85473e-05],[-41.007,6.51498e-05],[-40.0402,8.6648e-05],[-39.0735,0.000114216],[-38.1067,0.000149229],[-37.14,0.00019327],[-36.1732,0.000248141],[-35.2065,0.000315861],[-34.2397,0.000398656],[-33.273,0.000498944],[-32.3062,0.000619309],[-31.3395,0.000762464],[-30.3727,0.000931209],[-29.406,0.00112838],[-28.4393,0.00135677],[-27.4725,0.00161912],[-26.5058,0.00191798],[-25.539,0.00225572],[-24.5723,0.00263441],[-23.6055,0.00305583],[-22.6388,0.00352134],[-21.672,0.00403193],[-20.7053,0.00458813],[-19.7385,0.00519001],[-18.7718,0.00583712],[-17.805,0.00652854],[-16.8383,0.00726278],[-15.8715,0.00803782],[-14.9048,0.00885103],[-13.9381,0.00969917],[-12.9713,0.0105783],[-12.0046,0.0114839],[-11.0378,0.0124105],[-10.0711,0.013352],[-9.10432,0.0143015],[-8.13758,0.0152515],[-7.17083,0.0161936],[-6.20408,0.0171189],[-5.23734,0.0180179],[-4.27059,0.018881],[-3.30384,0.0196985],[-2.3371,0.0204609],[-1.37035,0.0211591],[-0.403605,0.0217848],[0.563141,0.0223308],[1.52989,0.0227914],[2.49663,0.0231623],[3.46338,0.023441],[4.43013,0.023627],[5.39687,0.0237218],[6.36362,0.0237286],[7.33037,0.0236523],[8.29711,0.0234995],[9.26386,0.0232779],[10.2306,0.0229959],[11.1974,0.0226624],[12.1641,0.0222863],[13.1308,0.021876],[14.0976,0.0214391],[15.0643,0.020982],[16.0311,0.0205096],[16.9978,0.0200254],[17.9646,0.0195313],[18.9313,0.0190276],[19.8981,0.0185133],[20.8648,0.0179863],[21.8316,0.0174436],[22.7983,0.0168821],[23.7651,0.0162983],[24.7318,0.0156894],[25.6985,0.0150533],[26.6653,0.0143888],[27.632,0.013696],[28.5988,0.0129763],[29.5655,0.0122327],[30.5323,0.0114693],[31.499,0.0106914],[32.4658,0.00990553],[33.4325,0.00911864],[34.3993,0.00833821],[35.366,0.00757178],[36.3328,0.00682667],[37.2995,0.00610968],[38.2663,0.00542686],[39.233,0.00478334],[40.1997,0.00418316],[41.1665,0.00362921],[42.1332,0.00312325],[43.1,0.0026659],[44.0667,0.00225675],[45.0335,0.00189448],[46.0002,0.001577],[46.967,0.00130161],[47.9337,0.00106515],[48.9005,0.000864159],[49.8672,0.000695042],[50.834,0.000554169],[51.8007,0.000437993],[52.7675,0.000343138],[53.7342,0.000266459],[54.7009,0.000205087],[55.6677,0.00015645],[56.6344,0.000118285],[57.6012,8.86311e-05],[58.5679,6.58167e-05],[59.5347,4.84358e-05],[60.5014,3.53236e-05],[61.4682,2.55284e-05],[62.4349,1.82823e-05],[63.4017,1.29741e-05],[64.3684,9.12331e-06],[65.3352,6.35697e-06],[66.3019,4.38896e-06],[67.2686,3.00246e-06],[68.2354,2.03512e-06],[69.2021,1.36677e-06],[70.1689,9.09455e-07],[71.1356,5.99576e-07]] color=green fillStyle=solid lineStyle=solid pointStyle=none lineWidth=2]"
      ]
     },
     "execution_count": 55,
     "metadata": {},
     "output_type": "execute_result"
    }
   ],
   "source": [
    "graph = residualDistribution.drawPDF()\n",
    "graphExact = observationOutputNoise.drawPDF()\n",
    "graphExact.setColors([\"blue\"])\n",
    "graph.add(graphExact)\n",
    "graph.add(residualPDF)\n",
    "graph.setLegends([\"Estimated residuals\",\"Exact residuals\",\"Residuals\"])\n",
    "graph.setLegendPosition(\"topleft\")\n",
    "graph"
   ]
  },
  {
   "cell_type": "code",
   "execution_count": 57,
   "metadata": {},
   "outputs": [
    {
     "name": "stdout",
     "output_type": "stream",
     "text": [
      "[[  1         0.235211 56.3975   ]]\n",
      "[[  1         0.128282 32.9112   ]]\n",
      "[[  1         0.493004 94.704    ]]\n",
      "[[  1        0.26039 61.3499  ]]\n",
      "[[  1         0.477769 93.2978   ]]\n",
      "[[  1         0.443063 89.6437   ]]\n",
      "[[  1         0.203682 49.8759   ]]\n",
      "[[  1         0.136384 34.8232   ]]\n",
      "[[  1         0.379592 81.4465   ]]\n",
      "[[  1         0.295534 67.8659   ]]\n"
     ]
    }
   ],
   "source": [
    "model.setParameter(unknownParameter)\n",
    "for i in range(size):\n",
    "    print(model.parameterGradient(inputObservations[i]).transpose())"
   ]
  },
  {
   "cell_type": "code",
   "execution_count": 58,
   "metadata": {},
   "outputs": [
    {
     "name": "stdout",
     "output_type": "stream",
     "text": [
      "[[  1         0.193074 54.0952   ]]\n",
      "[[  1         0.104015 30.7522   ]]\n",
      "[[  1        0.41923 98.6221  ]]\n",
      "[[  1         0.214399 59.2408   ]]\n",
      "[[  1         0.405311 96.5843   ]]\n",
      "[[  1         0.373898 91.6148   ]]\n",
      "[[  1        0.16657 47.4548  ]]\n",
      "[[  1         0.110683 32.5996   ]]\n",
      "[[  1         0.317438 81.4599   ]]\n",
      "[[  1         0.244407 66.174    ]]\n"
     ]
    }
   ],
   "source": [
    "model.setParameter(candidate)\n",
    "for i in range(size):\n",
    "    print(model.parameterGradient(inputObservations[i]).transpose())"
   ]
  },
  {
   "cell_type": "code",
   "execution_count": 26,
   "metadata": {},
   "outputs": [
    {
     "data": {
      "image/png": "[encoded data removed]",
      "text/plain": [
       "class=Graph name=Residuals analysis implementation=class=GraphImplementation name=Residuals analysis title=Residuals analysis xTitle=y0 Residuals yTitle=Probability distribution function axes=ON grid=ON legendposition=topright legendFontSize=1 drawables=[class=Drawable name=Unnamed implementation=class=Curve name=Unnamed derived from class=DrawableImplementation name=Unnamed legend=Prior data=class=Sample name=Unnamed implementation=class=SampleImplementation name=Unnamed size=129 dimension=2 data=[[-166.053,1.80421e-08],[-159.685,3.53429e-08],[-153.317,6.75455e-08],[-146.949,1.25956e-07],[-140.581,2.29203e-07],[-134.213,4.07061e-07],[-127.845,7.05666e-07],[-121.476,1.19428e-06],[-115.108,1.97359e-06],[-108.74,3.18516e-06],[-102.372,5.02134e-06],[-96.0042,7.73429e-06],[-89.6361,1.16424e-05],[-83.2681,1.7132e-05],[-76.9,2.46517e-05],[-70.5319,3.46987e-05],[-64.1638,4.77939e-05],[-57.7958,6.44486e-05],[-51.4277,8.51231e-05],[-45.0596,0.000110183],[-38.6916,0.000139855],[-32.3235,0.000174198],[-25.9554,0.000213079],[-19.5874,0.000256178],[-13.2193,0.000303007],[-6.85121,0.000352949],[-0.483142,0.000405312],[5.88493,0.00045939],[12.253,0.000514524],[18.6211,0.000570158],[24.9891,0.000625893],[31.3572,0.00068153],[37.7253,0.000737118],[44.0933,0.000792986],[50.4614,0.000849785],[56.8295,0.000908503],[63.1976,0.000970452],[69.5656,0.00103721],[75.9337,0.00111049],[82.3018,0.00119195],[88.6698,0.00128294],[95.0379,0.00138425],[101.406,0.00149582],[107.774,0.00161661],[114.142,0.00174453],[120.51,0.00187659],[126.878,0.00200915],[133.246,0.00213835],[139.614,0.00226056],[145.982,0.00237283],[152.351,0.00247322],[158.719,0.00256099],[165.087,0.00263655],[171.455,0.00270127],[177.823,0.00275719],[184.191,0.00280666],[190.559,0.00285197],[196.927,0.00289519],[203.295,0.00293799],[209.663,0.00298165],[216.031,0.0030271],[222.399,0.003075],[228.767,0.00312579],[235.135,0.00317966],[241.504,0.00323653],[247.872,0.00329592],[254.24,0.00335688],[260.608,0.00341791],[266.976,0.00347702],[273.344,0.00353174],[279.712,0.00357929],[286.08,0.0036167],[292.448,0.00364102],[298.816,0.00364944],[305.184,0.00363944],[311.552,0.00360888],[317.92,0.00355617],[324.288,0.00348032],[330.656,0.00338103],[337.025,0.00325885],[343.393,0.00311514],[349.761,0.00295213],[356.129,0.00277285],[362.497,0.00258095],[368.865,0.00238053],[375.233,0.00217591],[381.601,0.00197132],[387.969,0.00177068],[394.337,0.00157737],[400.705,0.00139416],[407.073,0.00122304],[413.441,0.00106532],[419.809,0.000921621],[426.178,0.000792012],[432.546,0.000676125],[438.914,0.000573284],[445.282,0.000482623],[451.65,0.000403186],[458.018,0.000334],[464.386,0.000274125],[470.754,0.000222675],[477.122,0.000178828],[483.49,0.000141821],[489.858,0.000110937],[496.226,8.54953e-05],[502.594,6.48413e-05],[508.962,4.83442e-05],[515.331,3.5399e-05],[521.699,2.5433e-05],[528.067,1.79144e-05],[534.435,1.23619e-05],[540.803,8.35131e-06],[547.171,5.52018e-06],[553.539,3.56825e-06],[559.907,2.25455e-06],[566.275,1.39186e-06],[572.643,8.39274e-07],[579.011,4.94147e-07],[585.379,2.84011e-07],[591.747,1.59309e-07],[598.115,8.71937e-08],[604.484,4.65578e-08],[610.852,2.42492e-08],[617.22,1.23181e-08],[623.588,6.10212e-09],[629.956,2.94759e-09],[636.324,1.38824e-09],[642.692,6.37444e-10],[649.06,2.85346e-10]] color=red fillStyle=solid lineStyle=solid pointStyle=none lineWidth=2,class=Drawable name=Unnamed implementation=class=Curve name=Unnamed derived from class=DrawableImplementation name=Unnamed legend=Posterior data=class=Sample name=Unnamed implementation=class=SampleImplementation name=Unnamed size=129 dimension=2 data=[[-173.065,6.98073e-06],[-170.455,1.02749e-05],[-167.845,1.48215e-05],[-165.236,2.09576e-05],[-162.626,2.90557e-05],[-160.016,3.95079e-05],[-157.406,5.27039e-05],[-154.796,6.90037e-05],[-152.187,8.87082e-05],[-149.577,0.00011203],[-146.967,0.000139071],[-144.357,0.000169806],[-141.747,0.000204082],[-139.138,0.000241632],[-136.528,0.000282103],[-133.918,0.000325094],[-131.308,0.000370209],[-128.698,0.000417109],[-126.089,0.000465562],[-123.479,0.000515488],[-120.869,0.000566991],[-118.259,0.000620378],[-115.649,0.000676166],[-113.04,0.000735067],[-110.43,0.000797971],[-107.82,0.000865911],[-105.21,0.000940015],[-102.6,0.00102145],[-99.9906,0.00111136],[-97.3808,0.00121081],[-94.771,0.00132068],[-92.1612,0.00144165],[-89.5514,0.00157411],[-86.9415,0.0017182],[-84.3317,0.00187376],[-81.7219,0.00204047],[-79.1121,0.00221789],[-76.5023,0.00240565],[-73.8925,0.00260358],[-71.2827,0.00281189],[-68.6729,0.0030313],[-66.0631,0.00326305],[-63.4533,0.00350891],[-60.8435,0.00377099],[-58.2337,0.00405151],[-55.6239,0.00435235],[-53.0141,0.00467465],[-50.4043,0.00501833],[-47.7945,0.00538164],[-45.1847,0.00576097],[-42.5749,0.00615066],[-39.9651,0.00654325],[-37.3553,0.00692984],[-34.7455,0.00730077],[-32.1357,0.00764641],[-29.5259,0.00795803],[-26.9161,0.00822861],[-24.3062,0.00845345],[-21.6964,0.00863055],[-19.0866,0.00876059],[-16.4768,0.00884663],[-13.867,0.00889351],[-11.2572,0.00890712],[-8.64742,0.0088935],[-6.03762,0.00885809],[-3.42782,0.00880518],[-0.818011,0.0087375],[1.79179,0.00865617],[4.4016,0.00856086],[7.0114,0.00845012],[9.62121,0.00832184],[12.231,0.00817371],[14.8408,0.00800365],[17.4506,0.00781012],[20.0604,0.00759227],[22.6702,0.00735011],[25.28,0.00708441],[27.8898,0.00679669],[30.4996,0.00648907],[33.1094,0.00616421],[35.7192,0.00582519],[38.3291,0.00547541],[40.9389,0.00511854],[43.5487,0.0047584],[46.1585,0.00439891],[48.7683,0.00404394],[51.3781,0.00369723],[53.9879,0.00336227],[56.5977,0.00304221],[59.2075,0.00273977],[61.8173,0.00245721],[64.4271,0.00219631],[67.0369,0.00195833],[69.6467,0.00174408],[72.2565,0.00155388],[74.8663,0.00138761],[77.4761,0.00124472],[80.0859,0.0011242],[82.6957,0.0010246],[85.3055,0.000944062],[87.9153,0.000880323],[90.5251,0.00083081],[93.1349,0.000792721],[95.7447,0.000763151],[98.3545,0.00073923],[100.964,0.00071827],[103.574,0.000697895],[106.184,0.000676149],[108.794,0.000651567],[111.404,0.000623209],[114.013,0.000590651],[116.623,0.000553941],[119.233,0.000513525],[121.843,0.000470161],[124.453,0.000424822],[127.062,0.000378594],[129.672,0.000332589],[132.282,0.000287865],[134.892,0.000245363],[137.502,0.000205858],[140.111,0.00016993],[142.721,0.00013795],[145.331,0.000110089],[147.941,8.63288e-05],[150.551,6.64954e-05],[153.16,5.02912e-05],[155.77,3.73344e-05],[158.38,2.7196e-05],[160.99,1.94337e-05]] color=green fillStyle=solid lineStyle=solid pointStyle=none lineWidth=2,class=Drawable name=Unnamed implementation=class=Curve name=Unnamed derived from class=DrawableImplementation name=Unnamed legend=Observation errors data=class=Sample name=Unnamed implementation=class=SampleImplementation name=Unnamed size=129 dimension=2 data=[[-1973.22,7.15404e-07],[-1942.39,8.87735e-07],[-1911.55,1.09784e-06],[-1880.72,1.35306e-06],[-1849.89,1.66196e-06],[-1819.06,2.03446e-06],[-1788.23,2.48199e-06],[-1757.4,3.01769e-06],[-1726.56,3.65657e-06],[-1695.73,4.41567e-06],[-1664.9,5.31427e-06],[-1634.07,6.37403e-06],[-1603.24,7.61919e-06],[-1572.41,9.07668e-06],[-1541.58,1.07763e-05],[-1510.74,1.27508e-05],[-1479.91,1.50358e-05],[-1449.08,1.76702e-05],[-1418.25,2.06956e-05],[-1387.42,2.41569e-05],[-1356.59,2.81013e-05],[-1325.76,3.25789e-05],[-1294.92,3.76417e-05],[-1264.09,4.33438e-05],[-1233.26,4.97404e-05],[-1202.43,5.68872e-05],[-1171.6,6.48401e-05],[-1140.77,7.36541e-05],[-1109.93,8.33824e-05],[-1079.1,9.40753e-05],[-1048.27,0.000105779],[-1017.44,0.000118536],[-986.608,0.00013238],[-955.777,0.000147339],[-924.945,0.000163433],[-894.114,0.000180669],[-863.282,0.000199046],[-832.451,0.000218547],[-801.619,0.000239145],[-770.788,0.000260796],[-739.956,0.000283443],[-709.125,0.000307011],[-678.293,0.00033141],[-647.462,0.000356535],[-616.63,0.000382262],[-585.799,0.000408456],[-554.967,0.000434964],[-524.136,0.00046162],[-493.304,0.000488247],[-462.473,0.000514659],[-431.641,0.000540658],[-400.81,0.000566043],[-369.978,0.00059061],[-339.147,0.000614152],[-308.315,0.000636465],[-277.484,0.000657351],[-246.652,0.000676619],[-215.821,0.000694089],[-184.989,0.000709593],[-154.158,0.000722983],[-123.326,0.000734126],[-92.4945,0.000742911],[-61.663,0.00074925],[-30.8315,0.00075308],[0,0.000754361],[30.8315,0.00075308],[61.663,0.00074925],[92.4945,0.000742911],[123.326,0.000734126],[154.158,0.000722983],[184.989,0.000709593],[215.821,0.000694089],[246.652,0.000676619],[277.484,0.000657351],[308.315,0.000636465],[339.147,0.000614152],[369.978,0.00059061],[400.81,0.000566043],[431.641,0.000540658],[462.473,0.000514659],[493.304,0.000488247],[524.136,0.00046162],[554.967,0.000434964],[585.799,0.000408456],[616.63,0.000382262],[647.462,0.000356535],[678.293,0.00033141],[709.125,0.000307011],[739.956,0.000283443],[770.788,0.000260796],[801.619,0.000239145],[832.451,0.000218547],[863.282,0.000199046],[894.114,0.000180669],[924.945,0.000163433],[955.777,0.000147339],[986.608,0.00013238],[1017.44,0.000118536],[1048.27,0.000105779],[1079.1,9.40753e-05],[1109.93,8.33824e-05],[1140.77,7.36541e-05],[1171.6,6.48401e-05],[1202.43,5.68872e-05],[1233.26,4.97404e-05],[1264.09,4.33438e-05],[1294.92,3.76417e-05],[1325.76,3.25789e-05],[1356.59,2.81013e-05],[1387.42,2.41569e-05],[1418.25,2.06956e-05],[1449.08,1.76702e-05],[1479.91,1.50358e-05],[1510.74,1.27508e-05],[1541.58,1.07763e-05],[1572.41,9.07668e-06],[1603.24,7.61919e-06],[1634.07,6.37403e-06],[1664.9,5.31427e-06],[1695.73,4.41567e-06],[1726.56,3.65657e-06],[1757.4,3.01769e-06],[1788.23,2.48199e-06],[1819.06,2.03446e-06],[1849.89,1.66196e-06],[1880.72,1.35306e-06],[1911.55,1.09784e-06],[1942.39,8.87735e-07],[1973.22,7.15404e-07]] color=blue fillStyle=solid lineStyle=solid pointStyle=none lineWidth=2]"
      ]
     },
     "execution_count": 26,
     "metadata": {},
     "output_type": "execute_result"
    }
   ],
   "source": [
    "mypcr = CalibrationAnalysis(calibrationResult,model, inputObservations,outputObservations)\n",
    "mypcr.drawResiduals()"
   ]
  },
  {
   "cell_type": "markdown",
   "metadata": {},
   "source": [
    "## Create an empirical sample of theta"
   ]
  },
  {
   "cell_type": "code",
   "execution_count": 27,
   "metadata": {},
   "outputs": [],
   "source": [
    "resampleSize = 500\n",
    "sampleTheta = ot.Sample(resampleSize,parameterDimension)\n",
    "sampleTheta.setDescription(descr)\n",
    "for i in range(resampleSize):\n",
    "    calibrationResult, inputObservations = generateTheta(size, observationOutputNoise, candidate)\n",
    "    thetaStar = calibrationResult.getParameterMAP()\n",
    "    sampleTheta[i] = thetaStar"
   ]
  },
  {
   "cell_type": "code",
   "execution_count": 28,
   "metadata": {},
   "outputs": [
    {
     "data": {
      "text/html": [
       "<TABLE><TR><TD></TD><TH>R</TH><TH>C</TH><TH>Gamma</TH></TR>\n",
       "<TR><TD>0</TD><TD>770.5910255355367</TD><TD>3042.8472705598647</TD><TD>8.593276264083967</TD></TR>\n",
       "<TR><TD>1</TD><TD>771.891529022327</TD><TD>2960.1256245743557</TD><TD>9.061252740974878</TD></TR>\n",
       "<TR><TD>2</TD><TD>734.1970866792584</TD><TD>2217.841410639917</TD><TD>12.468687132790684</TD></TR>\n",
       "<TR><TD>3</TD><TD>727.4238382058003</TD><TD>1967.3394117914474</TD><TD>13.442093027316574</TD></TR>\n",
       "<TR><TD>4</TD><TD>750.4143082802209</TD><TD>2843.4161647037204</TD><TD>9.769365490321842</TD></TR>\n",
       "</TABLE>"
      ],
      "text/plain": [
       "class=Sample name=Unnamed implementation=class=SampleImplementation name=Unnamed size=5 dimension=3 description=[R,C,Gamma] data=[[770.591,3042.85,8.59328],[771.892,2960.13,9.06125],[734.197,2217.84,12.4687],[727.424,1967.34,13.4421],[750.414,2843.42,9.76937]]"
      ]
     },
     "execution_count": 28,
     "metadata": {},
     "output_type": "execute_result"
    }
   ],
   "source": [
    "sampleTheta[0:5]"
   ]
  },
  {
   "cell_type": "markdown",
   "metadata": {},
   "source": [
    "## Draw distributions"
   ]
  },
  {
   "cell_type": "code",
   "execution_count": 29,
   "metadata": {},
   "outputs": [],
   "source": [
    "import pylab as pl\n",
    "import openturns.viewer as otv"
   ]
  },
  {
   "cell_type": "markdown",
   "metadata": {},
   "source": [
    "Set the mean of the posterior distribution to the candidate, so that we can compare the variances."
   ]
  },
  {
   "cell_type": "code",
   "execution_count": 30,
   "metadata": {},
   "outputs": [
    {
     "data": {
      "text/html": [
       "<p>Normal(mu = [747.009,2735.21,10.1291], sigma = [187.519,4309.09,18.8889], R = [[  1         0.701132 -0.763342 ]<br>\n",
       " [  0.701132  1        -0.994947 ]<br>\n",
       " [ -0.763342 -0.994947  1        ]])</p>"
      ],
      "text/plain": [
       "class=Normal name=Normal dimension=3 mean=class=Point name=Unnamed dimension=3 values=[747.009,2735.21,10.1291] sigma=class=Point name=Unnamed dimension=3 values=[187.519,4309.09,18.8889] correlationMatrix=class=CorrelationMatrix dimension=3 implementation=class=MatrixImplementation name=Unnamed rows=3 columns=3 values=[1,0.701132,-0.763342,0.701132,1,-0.994947,-0.763342,-0.994947,1]"
      ]
     },
     "execution_count": 30,
     "metadata": {},
     "output_type": "execute_result"
    }
   ],
   "source": [
    "thetaPosterior"
   ]
  },
  {
   "cell_type": "code",
   "execution_count": 31,
   "metadata": {},
   "outputs": [
    {
     "data": {
      "text/html": [
       "<p>[[  35163.2         566539            -2703.78        ]<br>\n",
       " [ 566539                1.85682e+07 -80982.7         ]<br>\n",
       " [  -2703.78        -80982.7            356.791       ]]</p>"
      ],
      "text/plain": [
       "class=CovarianceMatrix dimension=3 implementation=class=MatrixImplementation name=Unnamed rows=3 columns=3 values=[35163.2,566539,-2703.78,566539,1.85682e+07,-80982.7,-2703.78,-80982.7,356.791]"
      ]
     },
     "execution_count": 31,
     "metadata": {},
     "output_type": "execute_result"
    }
   ],
   "source": [
    "Sigma = thetaPosterior.getCovariance()\n",
    "Sigma"
   ]
  },
  {
   "cell_type": "code",
   "execution_count": 32,
   "metadata": {},
   "outputs": [
    {
     "data": {
      "text/html": [
       "<p>Normal(mu = [700,2500,8], sigma = [187.519,4309.09,18.8889], R = [[  1         0.701132 -0.763342 ]<br>\n",
       " [  0.701132  1        -0.994947 ]<br>\n",
       " [ -0.763342 -0.994947  1        ]])</p>"
      ],
      "text/plain": [
       "class=Normal name=Normal dimension=3 mean=class=Point name=Unnamed dimension=3 values=[700,2500,8] sigma=class=Point name=Unnamed dimension=3 values=[187.519,4309.09,18.8889] correlationMatrix=class=CorrelationMatrix dimension=3 implementation=class=MatrixImplementation name=Unnamed rows=3 columns=3 values=[1,0.701132,-0.763342,0.701132,1,-0.994947,-0.763342,-0.994947,1]"
      ]
     },
     "execution_count": 32,
     "metadata": {},
     "output_type": "execute_result"
    }
   ],
   "source": [
    "thetaPosteriorNormal = ot.Normal(candidate,Sigma)\n",
    "thetaPosteriorNormal"
   ]
  },
  {
   "cell_type": "code",
   "execution_count": 33,
   "metadata": {
    "scrolled": true
   },
   "outputs": [
    {
     "data": {
      "image/png": "[encoded data removed]",
      "text/plain": [
       "<Figure size 864x288 with 3 Axes>"
      ]
     },
     "metadata": {
      "needs_background": "light"
     },
     "output_type": "display_data"
    }
   ],
   "source": [
    "fig = pl.figure(figsize=(12, 4))\n",
    "for i in range(parameterDimension):\n",
    "    thetai = thetaPosteriorNormal.getMarginal(i)\n",
    "    graph = thetai.drawPDF()\n",
    "    graph.setXTitle(descr[i])\n",
    "    # From data\n",
    "    sampleMargin = sampleTheta.getMarginal(i)\n",
    "    ksdist = ot.KernelSmoothing().build(sampleMargin).drawPDF()\n",
    "    ksdist.setColors([\"blue\"])\n",
    "    graph.add(ksdist)\n",
    "    graph.setLegends([\"Result\",\"Data\"])\n",
    "    ax = fig.add_subplot(1, parameterDimension, i+1)\n",
    "    _ = otv.View(graph, figure=fig, axes=[ax])"
   ]
  }
 ],
 "metadata": {
  "kernelspec": {
   "display_name": "Python 3",
   "language": "python",
   "name": "python3"
  },
  "language_info": {
   "codemirror_mode": {
    "name": "ipython",
    "version": 3
   },
   "file_extension": ".py",
   "mimetype": "text/x-python",
   "name": "python",
   "nbconvert_exporter": "python",
   "pygments_lexer": "ipython3",
   "version": "3.7.1"
  }
 },
 "nbformat": 4,
 "nbformat_minor": 2
}
