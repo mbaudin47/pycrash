{
 "cells": [
  {
   "cell_type": "markdown",
   "metadata": {},
   "source": [
    "L'objectif de ce NB est de vérifier la distribution de la solution du problème de moindres carrés linéaires. Plus précisément, on vérifie que la covariance de la loi gaussienne associée à la méthode `getParameterPosterior` est correcte pour la classe `GaussianLinearCalibration`."
   ]
  },
  {
   "cell_type": "markdown",
   "metadata": {},
   "source": [
    "## Generate the observations"
   ]
  },
  {
   "cell_type": "code",
   "execution_count": 1,
   "metadata": {},
   "outputs": [],
   "source": [
    "import numpy as np\n",
    "import openturns as ot"
   ]
  },
  {
   "cell_type": "code",
   "execution_count": 2,
   "metadata": {},
   "outputs": [],
   "source": [
    "ot.RandomGenerator.SetSeed(0)"
   ]
  },
  {
   "cell_type": "code",
   "execution_count": 3,
   "metadata": {},
   "outputs": [],
   "source": [
    "def modelChaboche(X):\n",
    "    strain,R,C,gamma = X\n",
    "    stress = R + C*(1-np.exp(-gamma*strain))\n",
    "    return [stress]"
   ]
  },
  {
   "cell_type": "code",
   "execution_count": 4,
   "metadata": {},
   "outputs": [],
   "source": [
    "g = ot.PythonFunction(4, 1, modelChaboche) "
   ]
  },
  {
   "cell_type": "code",
   "execution_count": 5,
   "metadata": {},
   "outputs": [],
   "source": [
    "Strain = ot.Uniform(0,0.07)\n",
    "unknownR = 750\n",
    "unknownC = 2750\n",
    "unknownGamma = 10\n",
    "R = ot.Dirac(unknownR)\n",
    "C = ot.Dirac(unknownC)\n",
    "Gamma = ot.Dirac(unknownGamma)\n",
    "\n",
    "Strain.setDescription([\"Strain\"])\n",
    "R.setDescription([\"R\"])\n",
    "C.setDescription([\"C\"])\n",
    "Gamma.setDescription([\"Gamma\"])"
   ]
  },
  {
   "cell_type": "code",
   "execution_count": 6,
   "metadata": {},
   "outputs": [],
   "source": [
    "trueMean = [unknownR,unknownC,unknownGamma]"
   ]
  },
  {
   "cell_type": "markdown",
   "metadata": {},
   "source": [
    "Create the joint input distribution function."
   ]
  },
  {
   "cell_type": "code",
   "execution_count": 7,
   "metadata": {},
   "outputs": [],
   "source": [
    "inputRandomVector = ot.ComposedDistribution([Strain, R, C, Gamma])"
   ]
  },
  {
   "cell_type": "markdown",
   "metadata": {},
   "source": [
    "Generate observation noise."
   ]
  },
  {
   "cell_type": "code",
   "execution_count": 8,
   "metadata": {},
   "outputs": [],
   "source": [
    "stressObservationNoiseSigma = 40 # (Pa)\n",
    "observationOutputNoise = ot.Normal(0.,stressObservationNoiseSigma)"
   ]
  },
  {
   "cell_type": "markdown",
   "metadata": {},
   "source": [
    "## Set the calibration parameters"
   ]
  },
  {
   "cell_type": "markdown",
   "metadata": {},
   "source": [
    "Define the value of the reference values of the $\\theta$ parameter. In the bayesian framework, this is called the mean of the *prior* gaussian distribution. In the data assimilation framework, this is called the *background*."
   ]
  },
  {
   "cell_type": "code",
   "execution_count": 9,
   "metadata": {},
   "outputs": [],
   "source": [
    "R = 700 # Exact : 750\n",
    "C = 2500 # Exact : 2750\n",
    "Gamma = 8. # Exact : 10\n",
    "candidate = ot.Point([R,C,Gamma])"
   ]
  },
  {
   "cell_type": "markdown",
   "metadata": {},
   "source": [
    "The following statement create the calibrated function from the model. The calibrated parameters Ks, Zv, Zm are at indices 1, 2, 3 in the inputs arguments of the model."
   ]
  },
  {
   "cell_type": "code",
   "execution_count": 10,
   "metadata": {
    "scrolled": true
   },
   "outputs": [],
   "source": [
    "calibratedIndices = [1,2,3]\n",
    "model = ot.ParametricFunction(g, calibratedIndices, candidate)"
   ]
  },
  {
   "cell_type": "markdown",
   "metadata": {},
   "source": [
    "## Gaussian linear calibration"
   ]
  },
  {
   "cell_type": "markdown",
   "metadata": {},
   "source": [
    "The standard deviation of the observations."
   ]
  },
  {
   "cell_type": "code",
   "execution_count": 11,
   "metadata": {},
   "outputs": [],
   "source": [
    "sigmaStress = 10. # (Pa)"
   ]
  },
  {
   "cell_type": "markdown",
   "metadata": {},
   "source": [
    "Define the covariance matrix of the output Y of the model."
   ]
  },
  {
   "cell_type": "code",
   "execution_count": 12,
   "metadata": {},
   "outputs": [
    {
     "data": {
      "text/html": [
       "<p>[[ 100 ]]</p>"
      ],
      "text/plain": [
       "class=CovarianceMatrix dimension=1 implementation=class=MatrixImplementation name=Unnamed rows=1 columns=1 values=[100]"
      ]
     },
     "execution_count": 12,
     "metadata": {},
     "output_type": "execute_result"
    }
   ],
   "source": [
    "errorCovariance = ot.CovarianceMatrix(1)\n",
    "errorCovariance[0,0] = sigmaStress**2\n",
    "errorCovariance"
   ]
  },
  {
   "cell_type": "markdown",
   "metadata": {},
   "source": [
    "Defined the covariance matrix of the parameters $\\theta$ to calibrate."
   ]
  },
  {
   "cell_type": "code",
   "execution_count": 13,
   "metadata": {},
   "outputs": [],
   "source": [
    "sigmaR = 0.1 * R\n",
    "sigmaC = 0.1 * C\n",
    "sigmaGamma = 0.1 * Gamma"
   ]
  },
  {
   "cell_type": "code",
   "execution_count": 14,
   "metadata": {
    "scrolled": true
   },
   "outputs": [
    {
     "data": {
      "text/html": [
       "<p>[[  4900        0        0    ]<br>\n",
       " [     0    62500        0    ]<br>\n",
       " [     0        0        0.64 ]]</p>"
      ],
      "text/plain": [
       "class=CovarianceMatrix dimension=3 implementation=class=MatrixImplementation name=Unnamed rows=3 columns=3 values=[4900,0,0,0,62500,0,0,0,0.64]"
      ]
     },
     "execution_count": 14,
     "metadata": {},
     "output_type": "execute_result"
    }
   ],
   "source": [
    "parameterCovariance = ot.CovarianceMatrix(3)\n",
    "parameterCovariance[0,0] = sigmaR**2\n",
    "parameterCovariance[1,1] = sigmaC**2\n",
    "parameterCovariance[2,2] = sigmaGamma**2\n",
    "parameterCovariance"
   ]
  },
  {
   "cell_type": "code",
   "execution_count": 15,
   "metadata": {},
   "outputs": [],
   "source": [
    "size = 100"
   ]
  },
  {
   "cell_type": "code",
   "execution_count": 16,
   "metadata": {},
   "outputs": [],
   "source": [
    "# 1. Generate exact outputs\n",
    "inputSample = inputRandomVector.getSample(size)\n",
    "outputStress = g(inputSample)\n",
    "# 2. Add noise\n",
    "sampleNoiseH = observationOutputNoise.getSample(size)\n",
    "outputObservations = outputStress + sampleNoiseH\n",
    "# 3. Calibrate\n",
    "inputObservations = inputSample[:,0]"
   ]
  },
  {
   "cell_type": "code",
   "execution_count": 17,
   "metadata": {},
   "outputs": [],
   "source": [
    "algo = ot.GaussianLinearCalibration(model, inputObservations, outputObservations, \\\n",
    "                                    candidate, parameterCovariance, errorCovariance)\n",
    "algo.run()\n",
    "calibrationResult = algo.getResult()"
   ]
  },
  {
   "cell_type": "markdown",
   "metadata": {},
   "source": [
    "## Analysis of the results"
   ]
  },
  {
   "cell_type": "markdown",
   "metadata": {},
   "source": [
    "The `getParameterMAP` method returns the maximum of the posterior distribution of $\\theta$."
   ]
  },
  {
   "cell_type": "code",
   "execution_count": 18,
   "metadata": {},
   "outputs": [
    {
     "data": {
      "text/html": [
       "<p>[740.143,2498.81,11.1546]</p>"
      ],
      "text/plain": [
       "class=Point name=Unnamed dimension=3 values=[740.143,2498.81,11.1546]"
      ]
     },
     "execution_count": 18,
     "metadata": {},
     "output_type": "execute_result"
    }
   ],
   "source": [
    "thetaStarOT = calibrationResult.getParameterMAP()\n",
    "thetaStarOT"
   ]
  },
  {
   "cell_type": "code",
   "execution_count": 19,
   "metadata": {},
   "outputs": [
    {
     "data": {
      "text/html": [
       "<p>Normal(mu = [740.143,2498.81,11.1546], sigma = [7.8931,249.78,1.08777], R = [[  1         0.947474 -0.956627 ]<br>\n",
       " [  0.947474  1        -0.999458 ]<br>\n",
       " [ -0.956627 -0.999458  1        ]])</p>"
      ],
      "text/plain": [
       "class=Normal name=Normal dimension=3 mean=class=Point name=Unnamed dimension=3 values=[740.143,2498.81,11.1546] sigma=class=Point name=Unnamed dimension=3 values=[7.8931,249.78,1.08777] correlationMatrix=class=CorrelationMatrix dimension=3 implementation=class=MatrixImplementation name=Unnamed rows=3 columns=3 values=[1,0.947474,-0.956627,0.947474,1,-0.999458,-0.956627,-0.999458,1]"
      ]
     },
     "execution_count": 19,
     "metadata": {},
     "output_type": "execute_result"
    }
   ],
   "source": [
    "thetaPosterior = calibrationResult.getParameterPosterior()\n",
    "thetaPosterior"
   ]
  },
  {
   "cell_type": "code",
   "execution_count": 20,
   "metadata": {},
   "outputs": [
    {
     "data": {
      "text/html": [
       "<p>[[    62.301    1867.98       -8.21349 ]<br>\n",
       " [  1867.98    62390.1      -271.556   ]<br>\n",
       " [    -8.21349  -271.556       1.18325 ]]</p>"
      ],
      "text/plain": [
       "class=CovarianceMatrix dimension=3 implementation=class=MatrixImplementation name=Unnamed rows=3 columns=3 values=[62.301,1867.98,-8.21349,1867.98,62390.1,-271.556,-8.21349,-271.556,1.18325]"
      ]
     },
     "execution_count": 20,
     "metadata": {},
     "output_type": "execute_result"
    }
   ],
   "source": [
    "covarianceThetaStarOT = thetaPosterior.getCovariance()\n",
    "covarianceThetaStarOT"
   ]
  },
  {
   "cell_type": "markdown",
   "metadata": {},
   "source": [
    "## Create an empirical sample of theta\n",
    "\n",
    "Sample theta from its gaussian prior. Keep only the ones leading to predictions close to observations."
   ]
  },
  {
   "cell_type": "code",
   "execution_count": 21,
   "metadata": {},
   "outputs": [
    {
     "data": {
      "text/html": [
       "<p>Normal(mu = [700,2500,8], sigma = [70,250,0.8], R = [[ 1 0 0 ]<br>\n",
       " [ 0 1 0 ]<br>\n",
       " [ 0 0 1 ]])</p>"
      ],
      "text/plain": [
       "class=Normal name=Normal dimension=3 mean=class=Point name=Unnamed dimension=3 values=[700,2500,8] sigma=class=Point name=Unnamed dimension=3 values=[70,250,0.8] correlationMatrix=class=CorrelationMatrix dimension=3 implementation=class=MatrixImplementation name=Unnamed rows=3 columns=3 values=[1,0,0,0,1,0,0,0,1]"
      ]
     },
     "execution_count": 21,
     "metadata": {},
     "output_type": "execute_result"
    }
   ],
   "source": [
    "priorTheta = ot.Normal(candidate,parameterCovariance)\n",
    "priorTheta"
   ]
  },
  {
   "cell_type": "code",
   "execution_count": 22,
   "metadata": {},
   "outputs": [],
   "source": [
    "parameterDimension = priorTheta.getDimension()\n",
    "descr = [\"R\",\"C\",\"Gamma\"]"
   ]
  },
  {
   "cell_type": "code",
   "execution_count": 23,
   "metadata": {},
   "outputs": [],
   "source": [
    "resampleSize = 10000 # Number of Theta realization to create\n",
    "sampleTheta = ot.Sample(resampleSize,parameterDimension)\n",
    "sampleTheta.setDescription(descr)\n",
    "sampleDistance = ot.Sample(resampleSize,1)\n",
    "epsilon = size # Maximum euclidian norm absolute deviation between observations and predictions\n",
    "for i in range(resampleSize):\n",
    "    thetaRealization = priorTheta.getRealization()\n",
    "    model.setParameter(thetaRealization)\n",
    "    predictions = model(inputObservations)\n",
    "    deltay = predictions.asPoint()-outputObservations.asPoint()\n",
    "    sampleTheta[i] = thetaRealization\n",
    "    sampleDistance[i,0] = deltay.norm()"
   ]
  },
  {
   "cell_type": "code",
   "execution_count": 24,
   "metadata": {},
   "outputs": [
    {
     "data": {
      "image/png": "[encoded data removed]",
      "text/plain": [
       "class=Graph name=pdf as a function of v0 implementation=class=GraphImplementation name=pdf as a function of v0 title= xTitle=v0 yTitle=PDF axes=ON grid=ON legendposition=topright legendFontSize=1 drawables=[class=Drawable name=Unnamed implementation=class=Curve name=Unnamed derived from class=DrawableImplementation name=Unnamed legend=v0 PDF data=class=Sample name=Unnamed implementation=class=SampleImplementation name=Unnamed size=129 dimension=2 data=[[-1402.06,0],[-1338.35,0],[-1274.63,0],[-1210.92,0],[-1147.21,0],[-1083.5,0],[-1019.79,1.14698e-18],[-956.077,1.39584e-17],[-892.365,1.52563e-16],[-828.653,1.49789e-15],[-764.942,1.32139e-14],[-701.23,1.04765e-13],[-637.518,7.46727e-13],[-573.807,4.78657e-12],[-510.095,2.76042e-11],[-446.384,1.43292e-10],[-382.672,6.69886e-10],[-318.96,2.82224e-09],[-255.249,1.07234e-08],[-191.537,3.67799e-08],[-127.826,1.13997e-07],[-64.1139,3.19699e-07],[-0.40227,8.12497e-07],[63.3094,1.87474e-06],[127.021,3.9361e-06],[190.733,7.54002e-06],[254.444,1.32216e-05],[318.156,2.13077e-05],[381.867,3.17143e-05],[445.579,4.38577e-05],[509.291,5.67678e-05],[573.002,6.93884e-05],[636.714,8.0934e-05],[700.426,9.11267e-05],[764.137,0.000100195],[827.849,0.000108655],[891.56,0.000117006],[955.272,0.000125521],[1018.98,0.000134221],[1082.7,0.000143004],[1146.41,0.000151812],[1210.12,0.000160704],[1273.83,0.000169823],[1337.54,0.000179324],[1401.25,0.000189328],[1464.97,0.000199932],[1528.68,0.000211223],[1592.39,0.000223254],[1656.1,0.000236],[1719.81,0.000249323],[1783.52,0.000262978],[1847.23,0.000276641],[1910.95,0.000289942],[1974.66,0.000302494],[2038.37,0.00031393],[2102.08,0.000323947],[2165.79,0.000332338],[2229.5,0.000339023],[2293.22,0.000344057],[2356.93,0.000347626],[2420.64,0.000350014],[2484.35,0.000351545],[2548.06,0.000352509],[2611.77,0.000353103],[2675.49,0.000353385],[2739.2,0.000353271],[2802.91,0.000352573],[2866.62,0.000351076],[2930.33,0.000348636],[2994.04,0.000345234],[3057.76,0.000340953],[3121.47,0.000335897],[3185.18,0.000330089],[3248.89,0.000323416],[3312.6,0.000315628],[3376.31,0.000306408],[3440.03,0.000295507],[3503.74,0.000282895],[3567.45,0.000268845],[3631.16,0.000253889],[3694.87,0.000238646],[3758.58,0.000223642],[3822.3,0.000209193],[3886.01,0.000195408],[3949.72,0.00018226],[4013.43,0.000169659],[4077.14,0.000157521],[4140.85,0.000145821],[4204.56,0.000134618],[4268.28,0.000124034],[4331.99,0.000114168],[4395.7,0.00010502],[4459.41,9.64825e-05],[4523.12,8.84165e-05],[4586.83,8.07501e-05],[4650.55,7.35117e-05],[4714.26,6.6774e-05],[4777.97,6.05629e-05],[4841.68,5.48085e-05],[4905.39,4.93735e-05],[4969.1,4.41283e-05],[5032.82,3.90186e-05],[5096.53,3.40848e-05],[5160.24,2.94367e-05],[5223.95,2.52051e-05],[5287.66,2.14971e-05],[5351.37,1.83636e-05],[5415.09,1.57851e-05],[5478.8,1.36737e-05],[5542.51,1.18968e-05],[5606.22,1.03157e-05],[5669.93,8.82691e-06],[5733.64,7.38835e-06],[5797.36,6.0181e-06],[5861.07,4.76914e-06],[5924.78,3.69532e-06],[5988.49,2.82528e-06],[6052.2,2.15363e-06],[6115.91,1.64784e-06],[6179.63,1.26353e-06],[6243.34,9.59896e-07],[6307.05,7.09562e-07],[6370.76,5.00493e-07],[6434.47,3.31118e-07],[6498.18,2.02743e-07],[6561.89,1.13789e-07],[6625.61,5.81481e-08],[6689.32,2.69317e-08],[6753.03,1.12702e-08]] color=red fillStyle=solid lineStyle=solid pointStyle=none lineWidth=2]"
      ]
     },
     "execution_count": 24,
     "metadata": {},
     "output_type": "execute_result"
    }
   ],
   "source": [
    "ksd = ot.KernelSmoothing().build(sampleDistance)\n",
    "ksd.drawPDF()"
   ]
  },
  {
   "cell_type": "code",
   "execution_count": 25,
   "metadata": {},
   "outputs": [
    {
     "data": {
      "text/plain": [
       "941.9396610931869"
      ]
     },
     "execution_count": 25,
     "metadata": {},
     "output_type": "execute_result"
    }
   ],
   "source": [
    "probabilityThreshold = 0.05 # The probability of having a small discrepancy\n",
    "epsilon = ksd.computeQuantile(probabilityThreshold)[0]\n",
    "epsilon"
   ]
  },
  {
   "cell_type": "code",
   "execution_count": 26,
   "metadata": {},
   "outputs": [
    {
     "data": {
      "text/plain": [
       "465"
      ]
     },
     "execution_count": 26,
     "metadata": {},
     "output_type": "execute_result"
    }
   ],
   "source": [
    "conditionalSampleIndex = 0 # Number of Theta achieving the criteria\n",
    "for i in range(resampleSize):\n",
    "    if (sampleDistance[i,0]<epsilon):\n",
    "        conditionalSampleIndex += 1\n",
    "conditionalSampleSize = conditionalSampleIndex\n",
    "conditionalSampleSize"
   ]
  },
  {
   "cell_type": "code",
   "execution_count": 27,
   "metadata": {},
   "outputs": [],
   "source": [
    "conditionalSampleIndex = 0 # Number of Theta achieving the criteria\n",
    "conditionalSample = ot.Sample(conditionalSampleSize,parameterDimension)\n",
    "for i in range(resampleSize):\n",
    "    if (sampleDistance[i,0]<epsilon):\n",
    "        conditionalSample[conditionalSampleIndex] = sampleTheta[i]\n",
    "        conditionalSampleIndex += 1"
   ]
  },
  {
   "cell_type": "markdown",
   "metadata": {},
   "source": [
    "## Draw distributions"
   ]
  },
  {
   "cell_type": "code",
   "execution_count": 28,
   "metadata": {},
   "outputs": [],
   "source": [
    "import pylab as pl\n",
    "import openturns.viewer as otv"
   ]
  },
  {
   "cell_type": "code",
   "execution_count": 29,
   "metadata": {
    "scrolled": true
   },
   "outputs": [
    {
     "data": {
      "image/png": "[encoded data removed]",
      "text/plain": [
       "<Figure size 1152x288 with 3 Axes>"
      ]
     },
     "metadata": {
      "needs_background": "light"
     },
     "output_type": "display_data"
    }
   ],
   "source": [
    "fig = pl.figure(figsize=(16, 4))\n",
    "for i in range(parameterDimension):\n",
    "    thetai = thetaPosterior.getMarginal(i)\n",
    "    graph = thetai.drawPDF()\n",
    "    graph.setXTitle(descr[i])\n",
    "    # From data\n",
    "    sampleMargin = conditionalSample.getMarginal(i)\n",
    "    ksdist = ot.KernelSmoothing().build(sampleMargin).drawPDF()\n",
    "    ksdist.setColors([\"blue\"])\n",
    "    graph.add(ksdist)\n",
    "    graph.setLegends([\"Result\",\"Data\"])\n",
    "    ax = fig.add_subplot(1, parameterDimension, i+1)\n",
    "    _ = otv.View(graph, figure=fig, axes=[ax])"
   ]
  },
  {
   "cell_type": "markdown",
   "metadata": {},
   "source": [
    "Oups : qu'ai-je mal compris ?"
   ]
  },
  {
   "cell_type": "code",
   "execution_count": null,
   "metadata": {},
   "outputs": [],
   "source": []
  }
 ],
 "metadata": {
  "kernelspec": {
   "display_name": "Python 3",
   "language": "python",
   "name": "python3"
  },
  "language_info": {
   "codemirror_mode": {
    "name": "ipython",
    "version": 3
   },
   "file_extension": ".py",
   "mimetype": "text/x-python",
   "name": "python",
   "nbconvert_exporter": "python",
   "pygments_lexer": "ipython3",
   "version": "3.7.1"
  }
 },
 "nbformat": 4,
 "nbformat_minor": 2
}
