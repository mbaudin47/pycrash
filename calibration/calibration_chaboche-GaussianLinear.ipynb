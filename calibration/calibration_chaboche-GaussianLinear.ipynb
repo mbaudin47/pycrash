{
 "cells": [
  {
   "cell_type": "markdown",
   "metadata": {},
   "source": [
    "## Generate the observations"
   ]
  },
  {
   "cell_type": "code",
   "execution_count": 1,
   "metadata": {},
   "outputs": [],
   "source": [
    "import numpy as np\n",
    "import openturns as ot"
   ]
  },
  {
   "cell_type": "code",
   "execution_count": 2,
   "metadata": {},
   "outputs": [],
   "source": [
    "ot.RandomGenerator.SetSeed(0)"
   ]
  },
  {
   "cell_type": "code",
   "execution_count": 3,
   "metadata": {},
   "outputs": [],
   "source": [
    "def modelChaboche(X):\n",
    "    strain,R,C,gamma = X\n",
    "    stress = R + C*(1-np.exp(-gamma*strain))\n",
    "    return [stress]"
   ]
  },
  {
   "cell_type": "code",
   "execution_count": 4,
   "metadata": {},
   "outputs": [],
   "source": [
    "g = ot.PythonFunction(4, 1, modelChaboche) "
   ]
  },
  {
   "cell_type": "code",
   "execution_count": 5,
   "metadata": {},
   "outputs": [],
   "source": [
    "Strain = ot.Uniform(0,0.07)\n",
    "unknownR = 750\n",
    "unknownC = 2750\n",
    "unknownGamma = 10\n",
    "R = ot.Dirac(unknownR)\n",
    "C = ot.Dirac(unknownC)\n",
    "Gamma = ot.Dirac(unknownGamma)\n",
    "\n",
    "Strain.setDescription([\"Strain\"])\n",
    "R.setDescription([\"R\"])\n",
    "C.setDescription([\"C\"])\n",
    "Gamma.setDescription([\"Gamma\"])"
   ]
  },
  {
   "cell_type": "markdown",
   "metadata": {},
   "source": [
    "Create the joint input distribution function."
   ]
  },
  {
   "cell_type": "code",
   "execution_count": 6,
   "metadata": {},
   "outputs": [],
   "source": [
    "inputRandomVector = ot.ComposedDistribution([Strain, R, C, Gamma])"
   ]
  },
  {
   "cell_type": "markdown",
   "metadata": {},
   "source": [
    "Create the Monte-Carlo sample."
   ]
  },
  {
   "cell_type": "code",
   "execution_count": 7,
   "metadata": {},
   "outputs": [
    {
     "data": {
      "text/html": [
       "<TABLE><TR><TD></TD><TH>y0</TH></TR>\n",
       "<TR><TD>0</TD><TD>1730.5171618555114</TD></TR>\n",
       "<TR><TD>1</TD><TD>2017.6372684224534</TD></TR>\n",
       "<TR><TD>2</TD><TD>998.4576888730126</TD></TR>\n",
       "<TR><TD>3</TD><TD>811.8613946134877</TD></TR>\n",
       "<TR><TD>4</TD><TD>1343.1237749833344</TD></TR>\n",
       "</TABLE>"
      ],
      "text/plain": [
       "class=Sample name=Unnamed implementation=class=SampleImplementation name=Unnamed size=5 dimension=1 description=[y0] data=[[1730.52],[2017.64],[998.458],[811.861],[1343.12]]"
      ]
     },
     "execution_count": 7,
     "metadata": {},
     "output_type": "execute_result"
    }
   ],
   "source": [
    "size = 5\n",
    "inputSample = inputRandomVector.getSample(size)\n",
    "outputStress = g(inputSample)\n",
    "outputStress"
   ]
  },
  {
   "cell_type": "markdown",
   "metadata": {},
   "source": [
    "Generate observation noise."
   ]
  },
  {
   "cell_type": "code",
   "execution_count": 8,
   "metadata": {},
   "outputs": [],
   "source": [
    "stressObservationNoiseSigma = 40 # (Pa)\n",
    "noiseSigma = ot.Normal(0.,stressObservationNoiseSigma)\n",
    "sampleNoiseH = noiseSigma.getSample(size)\n",
    "outputObservations = outputStress + sampleNoiseH"
   ]
  },
  {
   "cell_type": "code",
   "execution_count": 9,
   "metadata": {},
   "outputs": [],
   "source": [
    "inputObservations = inputSample[:,0]"
   ]
  },
  {
   "cell_type": "markdown",
   "metadata": {},
   "source": [
    "## Set the calibration parameters"
   ]
  },
  {
   "cell_type": "markdown",
   "metadata": {},
   "source": [
    "Define the value of the reference values of the $\\theta$ parameter. In the bayesian framework, this is called the mean of the *prior* gaussian distribution. In the data assimilation framework, this is called the *background*."
   ]
  },
  {
   "cell_type": "code",
   "execution_count": 10,
   "metadata": {},
   "outputs": [],
   "source": [
    "R = 700 # Exact : 750\n",
    "C = 2500 # Exact : 2750\n",
    "Gamma = 8. # Exact : 10\n",
    "candidate = ot.Point([R,C,Gamma])"
   ]
  },
  {
   "cell_type": "markdown",
   "metadata": {},
   "source": [
    "The following statement create the calibrated function from the model. The calibrated parameters Ks, Zv, Zm are at indices 1, 2, 3 in the inputs arguments of the model."
   ]
  },
  {
   "cell_type": "code",
   "execution_count": 11,
   "metadata": {
    "scrolled": true
   },
   "outputs": [],
   "source": [
    "calibratedIndices = [1,2,3]\n",
    "model = ot.ParametricFunction(g, calibratedIndices, candidate)"
   ]
  },
  {
   "cell_type": "markdown",
   "metadata": {},
   "source": [
    "## Gaussian linear calibration"
   ]
  },
  {
   "cell_type": "markdown",
   "metadata": {},
   "source": [
    "The standard deviation of the observations."
   ]
  },
  {
   "cell_type": "code",
   "execution_count": 12,
   "metadata": {},
   "outputs": [],
   "source": [
    "sigmaStress = 10. # (Pa)"
   ]
  },
  {
   "cell_type": "markdown",
   "metadata": {},
   "source": [
    "Define the covariance matrix of the output Y of the model."
   ]
  },
  {
   "cell_type": "code",
   "execution_count": 13,
   "metadata": {},
   "outputs": [
    {
     "data": {
      "text/html": [
       "<p>[[ 100 ]]</p>"
      ],
      "text/plain": [
       "class=CovarianceMatrix dimension=1 implementation=class=MatrixImplementation name=Unnamed rows=1 columns=1 values=[100]"
      ]
     },
     "execution_count": 13,
     "metadata": {},
     "output_type": "execute_result"
    }
   ],
   "source": [
    "errorCovariance = ot.CovarianceMatrix(1)\n",
    "errorCovariance[0,0] = sigmaStress**2\n",
    "errorCovariance"
   ]
  },
  {
   "cell_type": "markdown",
   "metadata": {},
   "source": [
    "Defined the covariance matrix of the parameters $\\theta$ to calibrate."
   ]
  },
  {
   "cell_type": "code",
   "execution_count": 14,
   "metadata": {},
   "outputs": [],
   "source": [
    "sigmaR = 0.1 * R\n",
    "sigmaC = 0.1 * C\n",
    "sigmaGamma = 0.1 * Gamma"
   ]
  },
  {
   "cell_type": "code",
   "execution_count": 15,
   "metadata": {},
   "outputs": [
    {
     "data": {
      "text/html": [
       "<p>[[  4900        0        0    ]<br>\n",
       " [     0    62500        0    ]<br>\n",
       " [     0        0        0.64 ]]</p>"
      ],
      "text/plain": [
       "class=CovarianceMatrix dimension=3 implementation=class=MatrixImplementation name=Unnamed rows=3 columns=3 values=[4900,0,0,0,62500,0,0,0,0.64]"
      ]
     },
     "execution_count": 15,
     "metadata": {},
     "output_type": "execute_result"
    }
   ],
   "source": [
    "parameterCovariance = ot.CovarianceMatrix(3)\n",
    "parameterCovariance[0,0] = sigmaR**2\n",
    "parameterCovariance[1,1] = sigmaC**2\n",
    "parameterCovariance[2,2] = sigmaGamma**2\n",
    "parameterCovariance"
   ]
  },
  {
   "cell_type": "markdown",
   "metadata": {},
   "source": [
    "## Calibration"
   ]
  },
  {
   "cell_type": "markdown",
   "metadata": {},
   "source": [
    "The `GaussianLinearCalibration` class performs the gaussian linear calibration by linearizing the model in the neighbourhood of the prior."
   ]
  },
  {
   "cell_type": "code",
   "execution_count": 16,
   "metadata": {},
   "outputs": [],
   "source": [
    "algo = ot.GaussianLinearCalibration(model, inputObservations, outputObservations, candidate, parameterCovariance, errorCovariance)"
   ]
  },
  {
   "cell_type": "markdown",
   "metadata": {},
   "source": [
    "The `run` method computes the solution of the problem."
   ]
  },
  {
   "cell_type": "code",
   "execution_count": 17,
   "metadata": {},
   "outputs": [],
   "source": [
    "algo.run()"
   ]
  },
  {
   "cell_type": "code",
   "execution_count": 18,
   "metadata": {},
   "outputs": [],
   "source": [
    "calibrationResult = algo.getResult()"
   ]
  },
  {
   "cell_type": "markdown",
   "metadata": {},
   "source": [
    "## Analysis of the results"
   ]
  },
  {
   "cell_type": "markdown",
   "metadata": {},
   "source": [
    "The `getParameterMAP` method returns the maximum of the posterior distribution of $\\theta$."
   ]
  },
  {
   "cell_type": "code",
   "execution_count": 19,
   "metadata": {},
   "outputs": [
    {
     "data": {
      "text/html": [
       "<p>[739.455,2746.96,10.6293]</p>"
      ],
      "text/plain": [
       "class=Point name=Unnamed dimension=3 values=[739.455,2746.96,10.6293]"
      ]
     },
     "execution_count": 19,
     "metadata": {},
     "output_type": "execute_result"
    }
   ],
   "source": [
    "thetaStarOT = calibrationResult.getParameterMAP()\n",
    "thetaStarOT"
   ]
  },
  {
   "cell_type": "markdown",
   "metadata": {},
   "source": [
    "We can compute a 95% confidence interval of the parameter $\\theta^\\star$. "
   ]
  },
  {
   "cell_type": "code",
   "execution_count": 20,
   "metadata": {},
   "outputs": [
    {
     "data": {
      "text/html": [
       "<p>Normal(mu = [739.455,2746.96,10.6293], sigma = [8.08963,143.471,0.593968], R = [[  1         0.1796   -0.357051 ]<br>\n",
       " [  0.1796    1        -0.974716 ]<br>\n",
       " [ -0.357051 -0.974716  1        ]])</p>"
      ],
      "text/plain": [
       "class=Normal name=Normal dimension=3 mean=class=Point name=Unnamed dimension=3 values=[739.455,2746.96,10.6293] sigma=class=Point name=Unnamed dimension=3 values=[8.08963,143.471,0.593968] correlationMatrix=class=CorrelationMatrix dimension=3 implementation=class=MatrixImplementation name=Unnamed rows=3 columns=3 values=[1,0.1796,-0.357051,0.1796,1,-0.974716,-0.357051,-0.974716,1]"
      ]
     },
     "execution_count": 20,
     "metadata": {},
     "output_type": "execute_result"
    }
   ],
   "source": [
    "thetaPosterior = calibrationResult.getParameterPosterior()\n",
    "thetaPosterior"
   ]
  },
  {
   "cell_type": "code",
   "execution_count": 21,
   "metadata": {},
   "outputs": [
    {
     "data": {
      "text/html": [
       "<p>[[    65.4421     208.449       -1.71562  ]<br>\n",
       " [   208.449    20584          -83.0627   ]<br>\n",
       " [    -1.71562    -83.0627       0.352798 ]]</p>"
      ],
      "text/plain": [
       "class=CovarianceMatrix dimension=3 implementation=class=MatrixImplementation name=Unnamed rows=3 columns=3 values=[65.4421,208.449,-1.71562,208.449,20584,-83.0627,-1.71562,-83.0627,0.352798]"
      ]
     },
     "execution_count": 21,
     "metadata": {},
     "output_type": "execute_result"
    }
   ],
   "source": [
    "covarianceThetaStarOT = thetaPosterior.getCovariance()\n",
    "covarianceThetaStarOT"
   ]
  },
  {
   "cell_type": "markdown",
   "metadata": {},
   "source": [
    "## Calibration based on Kalman matrix"
   ]
  },
  {
   "cell_type": "code",
   "execution_count": 22,
   "metadata": {},
   "outputs": [],
   "source": [
    "parameterDimension = candidate.getDimension()"
   ]
  },
  {
   "cell_type": "code",
   "execution_count": 23,
   "metadata": {},
   "outputs": [],
   "source": [
    "model.setParameter(candidate)"
   ]
  },
  {
   "cell_type": "code",
   "execution_count": 24,
   "metadata": {},
   "outputs": [
    {
     "data": {
      "text/html": [
       "<TABLE><TR><TD></TD><TH>y0</TH></TR>\n",
       "<TR><TD>0</TD><TD>1443.084244428013</TD></TR>\n",
       "<TR><TD>1</TD><TD>1675.1137660449851</TD></TR>\n",
       "<TR><TD>2</TD><TD>882.391174695426</TD></TR>\n",
       "<TR><TD>3</TD><TD>745.0922327322506</TD></TR>\n",
       "<TR><TD>4</TD><TD>1141.5798135649907</TD></TR>\n",
       "</TABLE>"
      ],
      "text/plain": [
       "class=Sample name=Unnamed implementation=class=SampleImplementation name=Unnamed size=5 dimension=1 description=[y0] data=[[1443.08],[1675.11],[882.391],[745.092],[1141.58]]"
      ]
     },
     "execution_count": 24,
     "metadata": {},
     "output_type": "execute_result"
    }
   ],
   "source": [
    "modelObservations = model(inputObservations)\n",
    "modelObservations"
   ]
  },
  {
   "cell_type": "code",
   "execution_count": 25,
   "metadata": {},
   "outputs": [
    {
     "data": {
      "text/html": [
       "<p>3x5<br>\n",
       "[[  1          1          1          1          1         ]<br>\n",
       " [  0.297234   0.390046   0.0729565  0.0180369  0.176632  ]<br>\n",
       " [ 77.4648    94.2324    21.9462     5.58539   50.0072    ]]</p>"
      ],
      "text/plain": [
       "class=Matrix implementation=class=MatrixImplementation name=Unnamed rows=3 columns=5 values=[1,0.297234,77.4648,1,0.390046,94.2324,1,0.0729565,21.9462,1,0.0180369,5.58539,1,0.176632,50.0072]"
      ]
     },
     "execution_count": 25,
     "metadata": {},
     "output_type": "execute_result"
    }
   ],
   "source": [
    "transposedGradientObservations = ot.Matrix(parameterDimension,size)\n",
    "for i in range(size):\n",
    "    grad = model.parameterGradient(inputObservations[i])\n",
    "    transposedGradientObservations[:,i] = grad\n",
    "transposedGradientObservations"
   ]
  },
  {
   "cell_type": "code",
   "execution_count": 26,
   "metadata": {},
   "outputs": [
    {
     "data": {
      "text/html": [
       "<p>5x3<br>\n",
       "[[  1          0.297234  77.4648    ]<br>\n",
       " [  1          0.390046  94.2324    ]<br>\n",
       " [  1          0.0729565 21.9462    ]<br>\n",
       " [  1          0.0180369  5.58539   ]<br>\n",
       " [  1          0.176632  50.0072    ]]</p>"
      ],
      "text/plain": [
       "class=Matrix implementation=class=MatrixImplementation name=Unnamed rows=5 columns=3 values=[1,1,1,1,1,0.297234,0.390046,0.0729565,0.0180369,0.176632,77.4648,94.2324,21.9462,5.58539,50.0072]"
      ]
     },
     "execution_count": 26,
     "metadata": {},
     "output_type": "execute_result"
    }
   ],
   "source": [
    "gradientObservations = transposedGradientObservations.transpose()\n",
    "gradientObservations"
   ]
  },
  {
   "cell_type": "code",
   "execution_count": 27,
   "metadata": {},
   "outputs": [
    {
     "data": {
      "text/html": [
       "<p>[364.348,343.228,89.6333,55.801,236.21]</p>"
      ],
      "text/plain": [
       "class=Point name=Unnamed dimension=5 values=[364.348,343.228,89.6333,55.801,236.21]"
      ]
     },
     "execution_count": 27,
     "metadata": {},
     "output_type": "execute_result"
    }
   ],
   "source": [
    "deltay = outputObservations - modelObservations\n",
    "deltay = deltay.asPoint()\n",
    "deltay[0:5]"
   ]
  },
  {
   "cell_type": "markdown",
   "metadata": {},
   "source": [
    "Compute inverses of B and R."
   ]
  },
  {
   "cell_type": "code",
   "execution_count": 28,
   "metadata": {},
   "outputs": [],
   "source": [
    "B = ot.CovarianceMatrix(parameterCovariance)\n",
    "IB = ot.IdentityMatrix(parameterDimension)\n",
    "invB = B.solveLinearSystem(IB)"
   ]
  },
  {
   "cell_type": "code",
   "execution_count": 29,
   "metadata": {},
   "outputs": [
    {
     "data": {
      "text/html": [
       "<p>5x5<br>\n",
       "[[ 100   0   0   0   0 ]<br>\n",
       " [   0 100   0   0   0 ]<br>\n",
       " [   0   0 100   0   0 ]<br>\n",
       " [   0   0   0 100   0 ]<br>\n",
       " [   0   0   0   0 100 ]]</p>"
      ],
      "text/plain": [
       "class=Matrix implementation=class=MatrixImplementation name=Unnamed rows=5 columns=5 values=[100,0,0,0,0,0,100,0,0,0,0,0,100,0,0,0,0,0,100,0,0,0,0,0,100]"
      ]
     },
     "execution_count": 29,
     "metadata": {},
     "output_type": "execute_result"
    }
   ],
   "source": [
    "R = ot.CovarianceMatrix(size)\n",
    "for i in range(size):\n",
    "    R[i,i] = errorCovariance[0,0]\n",
    "R[0:5,0:5]"
   ]
  },
  {
   "cell_type": "code",
   "execution_count": 30,
   "metadata": {},
   "outputs": [],
   "source": [
    "IR = ot.IdentityMatrix(size)\n",
    "invR = R.solveLinearSystem(IR)"
   ]
  },
  {
   "cell_type": "markdown",
   "metadata": {},
   "source": [
    "Calcule $A^{-1} = B^{-1} + J^T R^{-1} J = B^{-1} + J^T (J^T R^{-1})^T$.\n",
    "\n",
    "Soit $C =J^T R^{-1}$. \n",
    "\n",
    "Cela implique $A^{-1} = B^{-1} + J^T C^T$."
   ]
  },
  {
   "cell_type": "code",
   "execution_count": 31,
   "metadata": {},
   "outputs": [],
   "source": [
    "C = gradientObservations.transpose() * invR"
   ]
  },
  {
   "cell_type": "code",
   "execution_count": 32,
   "metadata": {},
   "outputs": [
    {
     "data": {
      "text/html": [
       "<p>[[   0.0502041    0.00954905   2.49236    ]<br>\n",
       " [   0.00954905   0.0027893    0.703148   ]<br>\n",
       " [   2.49236      0.703148   180.504      ]]</p>"
      ],
      "text/plain": [
       "class=Matrix implementation=class=MatrixImplementation name=Unnamed rows=3 columns=3 values=[0.0502041,0.00954905,2.49236,0.00954905,0.0027893,0.703148,2.49236,0.703148,180.504]"
      ]
     },
     "execution_count": 32,
     "metadata": {},
     "output_type": "execute_result"
    }
   ],
   "source": [
    "invA = invB + C * gradientObservations\n",
    "invA"
   ]
  },
  {
   "cell_type": "markdown",
   "metadata": {},
   "source": [
    "Calcule $K = A J^T R^{-1}$ en tant que solution de l'équation matricielle $A^{-1}K = C$."
   ]
  },
  {
   "cell_type": "code",
   "execution_count": 33,
   "metadata": {},
   "outputs": [
    {
     "data": {
      "text/html": [
       "<p>3x5<br>\n",
       "[[ -0.0550017   -0.149206     0.429984     0.596195     0.164673    ]<br>\n",
       " [ -1.07737      4.09934     -1.12731      1.15782     -3.09502     ]<br>\n",
       " [  0.00924793  -0.00868816  -0.000329889 -0.012433     0.0125532   ]]</p>"
      ],
      "text/plain": [
       "class=Matrix implementation=class=MatrixImplementation name=Unnamed rows=3 columns=5 values=[-0.0550017,-1.07737,0.00924793,-0.149206,4.09934,-0.00868816,0.429984,-1.12731,-0.000329889,0.596195,1.15782,-0.012433,0.164673,-3.09502,0.0125532]"
      ]
     },
     "execution_count": 33,
     "metadata": {},
     "output_type": "execute_result"
    }
   ],
   "source": [
    "K = invA.solveLinearSystem(C)\n",
    "K"
   ]
  },
  {
   "cell_type": "markdown",
   "metadata": {},
   "source": [
    "Calcule $\\hat{\\theta} = \\mu  + K (y - H(\\mu ))$."
   ]
  },
  {
   "cell_type": "code",
   "execution_count": 34,
   "metadata": {},
   "outputs": [
    {
     "data": {
      "text/html": [
       "<p>[739.455,2746.96,10.6293]</p>"
      ],
      "text/plain": [
       "class=Point name=Unnamed dimension=3 values=[739.455,2746.96,10.6293]"
      ]
     },
     "execution_count": 34,
     "metadata": {},
     "output_type": "execute_result"
    }
   ],
   "source": [
    "thetaStar = candidate + K * deltay\n",
    "thetaStar"
   ]
  },
  {
   "cell_type": "code",
   "execution_count": 35,
   "metadata": {},
   "outputs": [
    {
     "data": {
      "text/html": [
       "<p>[0,0,0]</p>"
      ],
      "text/plain": [
       "class=Point name=Unnamed dimension=3 values=[0,0,0]"
      ]
     },
     "execution_count": 35,
     "metadata": {},
     "output_type": "execute_result"
    }
   ],
   "source": [
    "thetaStarOT - thetaStar"
   ]
  },
  {
   "cell_type": "markdown",
   "metadata": {},
   "source": [
    "Calcule la matrice $A$."
   ]
  },
  {
   "cell_type": "code",
   "execution_count": 36,
   "metadata": {},
   "outputs": [
    {
     "data": {
      "text/html": [
       "<p>[[    65.4421     208.449       -1.71562  ]<br>\n",
       " [   208.449    20584          -83.0627   ]<br>\n",
       " [    -1.71562    -83.0627       0.352798 ]]</p>"
      ],
      "text/plain": [
       "class=Matrix implementation=class=MatrixImplementation name=Unnamed rows=3 columns=3 values=[65.4421,208.449,-1.71562,208.449,20584,-83.0627,-1.71562,-83.0627,0.352798]"
      ]
     },
     "execution_count": 36,
     "metadata": {},
     "output_type": "execute_result"
    }
   ],
   "source": [
    "IA = ot.IdentityMatrix(parameterDimension)\n",
    "A = invA.solveLinearSystem(IA)\n",
    "A"
   ]
  },
  {
   "cell_type": "code",
   "execution_count": 37,
   "metadata": {},
   "outputs": [
    {
     "data": {
      "text/html": [
       "<p>[[ -2.62901e-12 -1.83888e-10  7.69385e-13 ]<br>\n",
       " [ -1.58309e-11 -6.43922e-10  2.84217e-12 ]<br>\n",
       " [  9.72555e-14  5.01643e-12 -2.15938e-14 ]]</p>"
      ],
      "text/plain": [
       "class=Matrix implementation=class=MatrixImplementation name=Unnamed rows=3 columns=3 values=[-2.62901e-12,-1.58309e-11,9.72555e-14,-1.83888e-10,-6.43922e-10,5.01643e-12,7.69385e-13,2.84217e-12,-2.15938e-14]"
      ]
     },
     "execution_count": 37,
     "metadata": {},
     "output_type": "execute_result"
    }
   ],
   "source": [
    "A - covarianceThetaStarOT"
   ]
  },
  {
   "cell_type": "markdown",
   "metadata": {},
   "source": [
    "Manifestement, le résultat est faux."
   ]
  },
  {
   "cell_type": "markdown",
   "metadata": {},
   "source": [
    "Un autre moyen de calculer la matrice de covariance."
   ]
  },
  {
   "cell_type": "code",
   "execution_count": 38,
   "metadata": {},
   "outputs": [],
   "source": [
    "L = IB - K * gradientObservations"
   ]
  },
  {
   "cell_type": "code",
   "execution_count": 39,
   "metadata": {},
   "outputs": [
    {
     "data": {
      "text/html": [
       "<p>[[    65.4421     208.449       -1.71562  ]<br>\n",
       " [   208.449    20584          -83.0627   ]<br>\n",
       " [    -1.71562    -83.0627       0.352798 ]]</p>"
      ],
      "text/plain": [
       "class=Matrix implementation=class=MatrixImplementation name=Unnamed rows=3 columns=3 values=[65.4421,208.449,-1.71562,208.449,20584,-83.0627,-1.71562,-83.0627,0.352798]"
      ]
     },
     "execution_count": 39,
     "metadata": {},
     "output_type": "execute_result"
    }
   ],
   "source": [
    "covarianceThetaStar = K * R * K.transpose() + L * B * L.transpose()\n",
    "covarianceThetaStar"
   ]
  },
  {
   "cell_type": "code",
   "execution_count": 40,
   "metadata": {},
   "outputs": [
    {
     "data": {
      "text/html": [
       "<p>[[  0            5.68434e-29  2.22045e-31 ]<br>\n",
       " [  2.84217e-29  0            0           ]<br>\n",
       " [  0            0           -5.55112e-32 ]]</p>"
      ],
      "text/plain": [
       "class=Matrix implementation=class=MatrixImplementation name=Unnamed rows=3 columns=3 values=[0,2.84217e-29,0,5.68434e-29,0,0,2.22045e-31,0,-5.55112e-32]"
      ]
     },
     "execution_count": 40,
     "metadata": {},
     "output_type": "execute_result"
    }
   ],
   "source": [
    "(covarianceThetaStar - covarianceThetaStarOT)/1.e15"
   ]
  },
  {
   "cell_type": "markdown",
   "metadata": {},
   "source": [
    "On observe que l'on obtient pas du tout les memes résultats... La cause vraisemblable de ce problème est que la matrice est très mal conditionnée."
   ]
  },
  {
   "cell_type": "code",
   "execution_count": 41,
   "metadata": {},
   "outputs": [
    {
     "data": {
      "text/plain": [
       "6.5701557871206235"
      ]
     },
     "execution_count": 41,
     "metadata": {},
     "output_type": "execute_result"
    }
   ],
   "source": [
    "np.log10(np.linalg.cond(invA))"
   ]
  },
  {
   "cell_type": "markdown",
   "metadata": {},
   "source": [
    "## Par utilisation de la décomposition de Cholesky\n",
    "\n",
    "Soit $L_B \\in \\mathbb{R}^{p\\times p}$ le facteur de Cholesky de la matrice de covariance $B$ :\n",
    "\n",
    "$$\n",
    "B = L_B L_B^T\n",
    "$$\n",
    "\n",
    "où $L_B$ est une matrice triangulaire inférieure. \n",
    "\n",
    "De meme, soit $L_R \\in \\mathbb{R}^{n\\times n}$ le facteur de Cholesky de la matrice de covariance $R$ :\n",
    "\n",
    "$$\n",
    "R = L_R L_R^T\n",
    "$$\n",
    "\n",
    "où $L_R$ est une matrice triangulaire inférieure."
   ]
  },
  {
   "cell_type": "code",
   "execution_count": 42,
   "metadata": {},
   "outputs": [
    {
     "data": {
      "text/html": [
       "<p>5x5<br>\n",
       "[[ 10  0  0  0  0 ]<br>\n",
       " [  0 10  0  0  0 ]<br>\n",
       " [  0  0 10  0  0 ]<br>\n",
       " [  0  0  0 10  0 ]<br>\n",
       " [  0  0  0  0 10 ]]</p>"
      ],
      "text/plain": [
       "class=Matrix implementation=class=MatrixImplementation name=Unnamed rows=5 columns=5 values=[10,0,0,0,0,0,10,0,0,0,0,0,10,0,0,0,0,0,10,0,0,0,0,0,10]"
      ]
     },
     "execution_count": 42,
     "metadata": {},
     "output_type": "execute_result"
    }
   ],
   "source": [
    "LR = R.computeCholesky()\n",
    "LR[0:5,0:5]"
   ]
  },
  {
   "cell_type": "code",
   "execution_count": 43,
   "metadata": {},
   "outputs": [
    {
     "data": {
      "text/html": [
       "<p>[[  70     0     0   ]<br>\n",
       " [   0   250     0   ]<br>\n",
       " [   0     0     0.8 ]]</p>"
      ],
      "text/plain": [
       "class=TriangularMatrix dimension=3 implementation=class=MatrixImplementation name=Unnamed rows=3 columns=3 values=[70,0,0,0,250,0,0,0,0.8]"
      ]
     },
     "execution_count": 43,
     "metadata": {},
     "output_type": "execute_result"
    }
   ],
   "source": [
    "LB = B.computeCholesky()\n",
    "LB"
   ]
  },
  {
   "cell_type": "markdown",
   "metadata": {},
   "source": [
    "On calcule $E = L_R^{-1} J L_B$."
   ]
  },
  {
   "cell_type": "code",
   "execution_count": 44,
   "metadata": {},
   "outputs": [
    {
     "data": {
      "text/html": [
       "<p>5x5<br>\n",
       "[[ 0.1 0   0   0   0   ]<br>\n",
       " [ 0   0.1 0   0   0   ]<br>\n",
       " [ 0   0   0.1 0   0   ]<br>\n",
       " [ 0   0   0   0.1 0   ]<br>\n",
       " [ 0   0   0   0   0.1 ]]</p>"
      ],
      "text/plain": [
       "class=Matrix implementation=class=MatrixImplementation name=Unnamed rows=5 columns=5 values=[0.1,0,0,0,0,0,0.1,0,0,0,0,0,0.1,0,0,0,0,0,0.1,0,0,0,0,0,0.1]"
      ]
     },
     "execution_count": 44,
     "metadata": {},
     "output_type": "execute_result"
    }
   ],
   "source": [
    "IR = ot.IdentityMatrix(size)\n",
    "invLR = LR.solveLinearSystem(IR)\n",
    "invLR[0:5,0:5]"
   ]
  },
  {
   "cell_type": "code",
   "execution_count": 45,
   "metadata": {},
   "outputs": [
    {
     "data": {
      "text/html": [
       "<p>5x3<br>\n",
       "[[ 7        7.43084  6.19718  ]<br>\n",
       " [ 7        9.75114  7.53859  ]<br>\n",
       " [ 7        1.82391  1.7557   ]<br>\n",
       " [ 7        0.450922 0.446831 ]<br>\n",
       " [ 7        4.4158   4.00058  ]]</p>"
      ],
      "text/plain": [
       "class=Matrix implementation=class=MatrixImplementation name=Unnamed rows=5 columns=3 values=[7,7,7,7,7,7.43084,9.75114,1.82391,0.450922,4.4158,6.19718,7.53859,1.7557,0.446831,4.00058]"
      ]
     },
     "execution_count": 45,
     "metadata": {},
     "output_type": "execute_result"
    }
   ],
   "source": [
    "E = invLR * gradientObservations * LB\n",
    "E [0:5,:]"
   ]
  },
  {
   "cell_type": "code",
   "execution_count": null,
   "metadata": {},
   "outputs": [],
   "source": []
  }
 ],
 "metadata": {
  "kernelspec": {
   "display_name": "Python 3",
   "language": "python",
   "name": "python3"
  },
  "language_info": {
   "codemirror_mode": {
    "name": "ipython",
    "version": 3
   },
   "file_extension": ".py",
   "mimetype": "text/x-python",
   "name": "python",
   "nbconvert_exporter": "python",
   "pygments_lexer": "ipython3",
   "version": "3.7.1"
  }
 },
 "nbformat": 4,
 "nbformat_minor": 2
}
