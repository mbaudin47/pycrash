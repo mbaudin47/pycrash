{
 "cells": [
  {
   "cell_type": "markdown",
   "metadata": {},
   "source": [
    "## Generate the observations"
   ]
  },
  {
   "cell_type": "code",
   "execution_count": 1,
   "metadata": {},
   "outputs": [],
   "source": [
    "import numpy as np\n",
    "import openturns as ot"
   ]
  },
  {
   "cell_type": "code",
   "execution_count": 2,
   "metadata": {},
   "outputs": [],
   "source": [
    "ot.RandomGenerator.SetSeed(0)"
   ]
  },
  {
   "cell_type": "code",
   "execution_count": 3,
   "metadata": {},
   "outputs": [],
   "source": [
    "def modelChaboche(X):\n",
    "    strain,R,C,gamma = X\n",
    "    stress = R + C*(1-np.exp(-gamma*strain))\n",
    "    return [stress]"
   ]
  },
  {
   "cell_type": "code",
   "execution_count": 4,
   "metadata": {},
   "outputs": [],
   "source": [
    "g = ot.PythonFunction(4, 1, modelChaboche) "
   ]
  },
  {
   "cell_type": "code",
   "execution_count": 5,
   "metadata": {},
   "outputs": [],
   "source": [
    "Strain = ot.Uniform(0,0.07)\n",
    "unknownR = 750e6\n",
    "unknownC = 2750e6\n",
    "unknownGamma = 10\n",
    "R = ot.Dirac(unknownR)\n",
    "C = ot.Dirac(unknownC)\n",
    "Gamma = ot.Dirac(unknownGamma)\n",
    "\n",
    "Strain.setDescription([\"Strain\"])\n",
    "R.setDescription([\"R\"])\n",
    "C.setDescription([\"C\"])\n",
    "Gamma.setDescription([\"Gamma\"])"
   ]
  },
  {
   "cell_type": "markdown",
   "metadata": {},
   "source": [
    "Create the joint input distribution function."
   ]
  },
  {
   "cell_type": "code",
   "execution_count": 6,
   "metadata": {},
   "outputs": [],
   "source": [
    "inputRandomVector = ot.ComposedDistribution([Strain, R, C, Gamma])"
   ]
  },
  {
   "cell_type": "markdown",
   "metadata": {},
   "source": [
    "Create the Monte-Carlo sample."
   ]
  },
  {
   "cell_type": "code",
   "execution_count": 7,
   "metadata": {},
   "outputs": [
    {
     "data": {
      "text/html": [
       "<TABLE><TR><TD></TD><TH>y0</TH></TR>\n",
       "<TR><TD>0</TD><TD>1730517161.8555112</TD></TR>\n",
       "<TR><TD>1</TD><TD>2017637268.4224534</TD></TR>\n",
       "<TR><TD>2</TD><TD>998457688.8730125</TD></TR>\n",
       "<TR><TD>3</TD><TD>811861394.6134877</TD></TR>\n",
       "<TR><TD>4</TD><TD>1343123774.9833345</TD></TR>\n",
       "</TABLE>"
      ],
      "text/plain": [
       "class=Sample name=Unnamed implementation=class=SampleImplementation name=Unnamed size=5 dimension=1 description=[y0] data=[[1.73052e+09],[2.01764e+09],[9.98458e+08],[8.11861e+08],[1.34312e+09]]"
      ]
     },
     "execution_count": 7,
     "metadata": {},
     "output_type": "execute_result"
    }
   ],
   "source": [
    "size = 100\n",
    "inputSample = inputRandomVector.getSample(size)\n",
    "outputStress = g(inputSample)\n",
    "outputStress[0:5]"
   ]
  },
  {
   "cell_type": "markdown",
   "metadata": {},
   "source": [
    "Generate observation noise."
   ]
  },
  {
   "cell_type": "code",
   "execution_count": 8,
   "metadata": {},
   "outputs": [],
   "source": [
    "stressObservationNoiseSigma = 40.e6 # (Pa)\n",
    "noiseSigma = ot.Normal(0.,stressObservationNoiseSigma)\n",
    "sampleNoiseH = noiseSigma.getSample(size)\n",
    "outputObservations = outputStress + sampleNoiseH"
   ]
  },
  {
   "cell_type": "code",
   "execution_count": 9,
   "metadata": {},
   "outputs": [],
   "source": [
    "inputObservations = inputSample[:,0]"
   ]
  },
  {
   "cell_type": "markdown",
   "metadata": {},
   "source": [
    "## Set the calibration parameters"
   ]
  },
  {
   "cell_type": "markdown",
   "metadata": {},
   "source": [
    "Define the value of the reference values of the $\\theta$ parameter. In the bayesian framework, this is called the mean of the *prior* gaussian distribution. In the data assimilation framework, this is called the *background*."
   ]
  },
  {
   "cell_type": "code",
   "execution_count": 10,
   "metadata": {},
   "outputs": [],
   "source": [
    "R = 700e6 # Exact : 750e6\n",
    "C = 2500e6 # Exact : 2750e6\n",
    "Gamma = 8. # Exact : 10\n",
    "candidate = ot.Point([R,C,Gamma])"
   ]
  },
  {
   "cell_type": "markdown",
   "metadata": {},
   "source": [
    "The following statement create the calibrated function from the model. The calibrated parameters Ks, Zv, Zm are at indices 1, 2, 3 in the inputs arguments of the model."
   ]
  },
  {
   "cell_type": "code",
   "execution_count": 11,
   "metadata": {
    "scrolled": true
   },
   "outputs": [],
   "source": [
    "calibratedIndices = [1,2,3]\n",
    "model = ot.ParametricFunction(g, calibratedIndices, candidate)"
   ]
  },
  {
   "cell_type": "markdown",
   "metadata": {},
   "source": [
    "## Gaussian linear calibration"
   ]
  },
  {
   "cell_type": "markdown",
   "metadata": {},
   "source": [
    "The standard deviation of the observations."
   ]
  },
  {
   "cell_type": "code",
   "execution_count": 12,
   "metadata": {},
   "outputs": [],
   "source": [
    "sigmaStress = 1.e7 # (Pa)"
   ]
  },
  {
   "cell_type": "markdown",
   "metadata": {},
   "source": [
    "Define the covariance matrix of the output Y of the model."
   ]
  },
  {
   "cell_type": "code",
   "execution_count": 13,
   "metadata": {},
   "outputs": [],
   "source": [
    "errorCovariance = ot.CovarianceMatrix(1)\n",
    "errorCovariance[0,0] = sigmaStress**2"
   ]
  },
  {
   "cell_type": "markdown",
   "metadata": {},
   "source": [
    "Defined the covariance matrix of the parameters $\\theta$ to calibrate."
   ]
  },
  {
   "cell_type": "code",
   "execution_count": 14,
   "metadata": {},
   "outputs": [],
   "source": [
    "sigmaR = 0.1 * R\n",
    "sigmaC = 0.1 * C\n",
    "sigmaGamma = 0.1 * Gamma"
   ]
  },
  {
   "cell_type": "code",
   "execution_count": 15,
   "metadata": {},
   "outputs": [
    {
     "data": {
      "text/html": [
       "<p>[[ 4.9e+15  0        0        ]<br>\n",
       " [ 0        6.25e+16 0        ]<br>\n",
       " [ 0        0        0.64     ]]</p>"
      ],
      "text/plain": [
       "class=CovarianceMatrix dimension=3 implementation=class=MatrixImplementation name=Unnamed rows=3 columns=3 values=[4.9e+15,0,0,0,6.25e+16,0,0,0,0.64]"
      ]
     },
     "execution_count": 15,
     "metadata": {},
     "output_type": "execute_result"
    }
   ],
   "source": [
    "parameterCovariance = ot.CovarianceMatrix(3)\n",
    "parameterCovariance[0,0] = sigmaR**2\n",
    "parameterCovariance[1,1] = sigmaC**2\n",
    "parameterCovariance[2,2] = sigmaGamma**2\n",
    "parameterCovariance"
   ]
  },
  {
   "cell_type": "markdown",
   "metadata": {},
   "source": [
    "## Calibration"
   ]
  },
  {
   "cell_type": "markdown",
   "metadata": {},
   "source": [
    "The `GaussianLinearCalibration` class performs the gaussian linear calibration by linearizing the model in the neighbourhood of the prior."
   ]
  },
  {
   "cell_type": "code",
   "execution_count": 16,
   "metadata": {},
   "outputs": [],
   "source": [
    "algo = ot.GaussianLinearCalibration(model, inputObservations, outputObservations, candidate, parameterCovariance, errorCovariance)"
   ]
  },
  {
   "cell_type": "markdown",
   "metadata": {},
   "source": [
    "The `run` method computes the solution of the problem."
   ]
  },
  {
   "cell_type": "code",
   "execution_count": 17,
   "metadata": {},
   "outputs": [],
   "source": [
    "algo.run()"
   ]
  },
  {
   "cell_type": "code",
   "execution_count": 18,
   "metadata": {},
   "outputs": [],
   "source": [
    "calibrationResult = algo.getResult()"
   ]
  },
  {
   "cell_type": "markdown",
   "metadata": {},
   "source": [
    "## Analysis of the results"
   ]
  },
  {
   "cell_type": "markdown",
   "metadata": {},
   "source": [
    "The `getParameterMAP` method returns the maximum of the posterior distribution of $\\theta$."
   ]
  },
  {
   "cell_type": "code",
   "execution_count": 39,
   "metadata": {},
   "outputs": [
    {
     "data": {
      "text/html": [
       "<p>[7e+08,2.5e+09,11.6727]</p>"
      ],
      "text/plain": [
       "class=Point name=Unnamed dimension=3 values=[7e+08,2.5e+09,11.6727]"
      ]
     },
     "execution_count": 39,
     "metadata": {},
     "output_type": "execute_result"
    }
   ],
   "source": [
    "thetaStarOT = calibrationResult.getParameterMAP()\n",
    "thetaStarOT"
   ]
  },
  {
   "cell_type": "markdown",
   "metadata": {},
   "source": [
    "We can compute a 95% confidence interval of the parameter $\\theta^\\star$. "
   ]
  },
  {
   "cell_type": "code",
   "execution_count": 20,
   "metadata": {},
   "outputs": [
    {
     "data": {
      "text/html": [
       "<p>Normal(mu = [7e+08,2.5e+09,11.6727], sigma = [7e+07,2.5e+08,1.34647], R = [[  1           -1.98832e-16 -0.677978    ]<br>\n",
       " [ -1.98832e-16  1           -0.735007    ]<br>\n",
       " [ -0.677978    -0.735007     1           ]])</p>"
      ],
      "text/plain": [
       "class=Normal name=Normal dimension=3 mean=class=Point name=Unnamed dimension=3 values=[7e+08,2.5e+09,11.6727] sigma=class=Point name=Unnamed dimension=3 values=[7e+07,2.5e+08,1.34647] correlationMatrix=class=CorrelationMatrix dimension=3 implementation=class=MatrixImplementation name=Unnamed rows=3 columns=3 values=[1,-1.98832e-16,-0.677978,-1.98832e-16,1,-0.735007,-0.677978,-0.735007,1]"
      ]
     },
     "execution_count": 20,
     "metadata": {},
     "output_type": "execute_result"
    }
   ],
   "source": [
    "thetaPosterior = calibrationResult.getParameterPosterior()\n",
    "thetaPosterior"
   ]
  },
  {
   "cell_type": "code",
   "execution_count": 53,
   "metadata": {},
   "outputs": [
    {
     "data": {
      "text/html": [
       "<p>[[  4.9e+15     -3.47955     -6.39015e+07 ]<br>\n",
       " [ -3.47955      6.25e+16    -2.47416e+08 ]<br>\n",
       " [ -6.39015e+07 -2.47416e+08  1.81299     ]]</p>"
      ],
      "text/plain": [
       "class=CovarianceMatrix dimension=3 implementation=class=MatrixImplementation name=Unnamed rows=3 columns=3 values=[4.9e+15,-3.47955,-6.39015e+07,-3.47955,6.25e+16,-2.47416e+08,-6.39015e+07,-2.47416e+08,1.81299]"
      ]
     },
     "execution_count": 53,
     "metadata": {},
     "output_type": "execute_result"
    }
   ],
   "source": [
    "covarianceThetaStarOT = thetaPosterior.getCovariance()\n",
    "covarianceThetaStarOT"
   ]
  },
  {
   "cell_type": "markdown",
   "metadata": {},
   "source": [
    "## Calibration based on Kalman matrix"
   ]
  },
  {
   "cell_type": "code",
   "execution_count": 22,
   "metadata": {},
   "outputs": [],
   "source": [
    "parameterDimension = candidate.getDimension()"
   ]
  },
  {
   "cell_type": "code",
   "execution_count": 23,
   "metadata": {},
   "outputs": [],
   "source": [
    "model.setParameter(candidate)"
   ]
  },
  {
   "cell_type": "code",
   "execution_count": 24,
   "metadata": {},
   "outputs": [
    {
     "data": {
      "text/html": [
       "<TABLE><TR><TD></TD><TH>y0</TH></TR>\n",
       "<TR><TD>0</TD><TD>1443084244.428013</TD></TR>\n",
       "<TR><TD>1</TD><TD>1675113766.0449853</TD></TR>\n",
       "<TR><TD>2</TD><TD>882391174.695426</TD></TR>\n",
       "<TR><TD>3</TD><TD>745092232.7322506</TD></TR>\n",
       "<TR><TD>4</TD><TD>1141579813.5649905</TD></TR>\n",
       "</TABLE>"
      ],
      "text/plain": [
       "class=Sample name=Unnamed implementation=class=SampleImplementation name=Unnamed size=5 dimension=1 description=[y0] data=[[1.44308e+09],[1.67511e+09],[8.82391e+08],[7.45092e+08],[1.14158e+09]]"
      ]
     },
     "execution_count": 24,
     "metadata": {},
     "output_type": "execute_result"
    }
   ],
   "source": [
    "modelObservations = model(inputObservations)\n",
    "modelObservations[0:5]"
   ]
  },
  {
   "cell_type": "code",
   "execution_count": 25,
   "metadata": {},
   "outputs": [],
   "source": [
    "transposedGradientObservations = ot.Matrix(parameterDimension,size)\n",
    "for i in range(size):\n",
    "    g = model.parameterGradient(inputObservations[i])\n",
    "    transposedGradientObservations[:,i] = g"
   ]
  },
  {
   "cell_type": "code",
   "execution_count": 26,
   "metadata": {},
   "outputs": [
    {
     "data": {
      "text/html": [
       "<p>5x3<br>\n",
       "[[ 1.00136     0.309944    7.74648e+07 ]<br>\n",
       " [ 1.00136     0.393391    9.42324e+07 ]<br>\n",
       " [ 1.00136     0.0715256   2.19462e+07 ]<br>\n",
       " [ 1.00136     0.0178814   5.58539e+06 ]<br>\n",
       " [ 1.00136     0.178814    5.00072e+07 ]]</p>"
      ],
      "text/plain": [
       "class=Matrix implementation=class=MatrixImplementation name=Unnamed rows=5 columns=3 values=[1.00136,1.00136,1.00136,1.00136,1.00136,0.309944,0.393391,0.0715256,0.0178814,0.178814,7.74648e+07,9.42324e+07,2.19462e+07,5.58539e+06,5.00072e+07]"
      ]
     },
     "execution_count": 26,
     "metadata": {},
     "output_type": "execute_result"
    }
   ],
   "source": [
    "gradientObservations = transposedGradientObservations.transpose()\n",
    "gradientObservations[0:5,:]"
   ]
  },
  {
   "cell_type": "code",
   "execution_count": 27,
   "metadata": {},
   "outputs": [
    {
     "data": {
      "text/html": [
       "<p>[2.87598e+08,4.48771e+08,1.26878e+08,8.47323e+07,2.54641e+08]</p>"
      ],
      "text/plain": [
       "class=Point name=Unnamed dimension=5 values=[2.87598e+08,4.48771e+08,1.26878e+08,8.47323e+07,2.54641e+08]"
      ]
     },
     "execution_count": 27,
     "metadata": {},
     "output_type": "execute_result"
    }
   ],
   "source": [
    "deltay = outputObservations - modelObservations\n",
    "deltay = deltay.asPoint()\n",
    "deltay[0:5]"
   ]
  },
  {
   "cell_type": "markdown",
   "metadata": {},
   "source": [
    "Compute inverses of B and R."
   ]
  },
  {
   "cell_type": "code",
   "execution_count": 28,
   "metadata": {},
   "outputs": [],
   "source": [
    "B = ot.CovarianceMatrix(parameterCovariance)\n",
    "IB = ot.IdentityMatrix(parameterDimension)\n",
    "invB = B.solveLinearSystem(IB)"
   ]
  },
  {
   "cell_type": "code",
   "execution_count": 44,
   "metadata": {},
   "outputs": [
    {
     "data": {
      "text/html": [
       "<p>5x5<br>\n",
       "[[ 1e+14     0     0     0     0 ]<br>\n",
       " [     0 1e+14     0     0     0 ]<br>\n",
       " [     0     0 1e+14     0     0 ]<br>\n",
       " [     0     0     0 1e+14     0 ]<br>\n",
       " [     0     0     0     0 1e+14 ]]</p>"
      ],
      "text/plain": [
       "class=Matrix implementation=class=MatrixImplementation name=Unnamed rows=5 columns=5 values=[1e+14,0,0,0,0,0,1e+14,0,0,0,0,0,1e+14,0,0,0,0,0,1e+14,0,0,0,0,0,1e+14]"
      ]
     },
     "execution_count": 44,
     "metadata": {},
     "output_type": "execute_result"
    }
   ],
   "source": [
    "R = ot.CovarianceMatrix(size)\n",
    "for i in range(size):\n",
    "    R[i,i] = errorCovariance[0,0]\n",
    "R[0:5,0:5]"
   ]
  },
  {
   "cell_type": "code",
   "execution_count": 45,
   "metadata": {},
   "outputs": [],
   "source": [
    "IR = ot.IdentityMatrix(size)\n",
    "invR = R.solveLinearSystem(IR)"
   ]
  },
  {
   "cell_type": "markdown",
   "metadata": {},
   "source": [
    "Calcule $A^{-1} = B^{-1} + J^T R^{-1} J = B^{-1} + J^T (J^T R^{-1})^T$.\n",
    "\n",
    "Soit $C =J^T R^{-1}$. \n",
    "\n",
    "Cela implique $A^{-1} = B^{-1} + J^T C^T$."
   ]
  },
  {
   "cell_type": "code",
   "execution_count": 46,
   "metadata": {},
   "outputs": [],
   "source": [
    "C = gradientObservations.transpose() * invR"
   ]
  },
  {
   "cell_type": "code",
   "execution_count": 47,
   "metadata": {},
   "outputs": [
    {
     "data": {
      "text/html": [
       "<p>[[    1.00292e-12    2.51993e-13    6.48398e-05 ]<br>\n",
       " [    2.51993e-13    7.82794e-14    1.96823e-05 ]<br>\n",
       " [    6.48398e-05    1.96823e-05 4971.95        ]]</p>"
      ],
      "text/plain": [
       "class=Matrix implementation=class=MatrixImplementation name=Unnamed rows=3 columns=3 values=[1.00292e-12,2.51993e-13,6.48398e-05,2.51993e-13,7.82794e-14,1.96823e-05,6.48398e-05,1.96823e-05,4971.95]"
      ]
     },
     "execution_count": 47,
     "metadata": {},
     "output_type": "execute_result"
    }
   ],
   "source": [
    "invA = invB + C * gradientObservations\n",
    "invA"
   ]
  },
  {
   "cell_type": "markdown",
   "metadata": {},
   "source": [
    "Calcule $K = A J^T R^{-1} = A C = (A^{-1})^{-1} C$."
   ]
  },
  {
   "cell_type": "code",
   "execution_count": 48,
   "metadata": {},
   "outputs": [],
   "source": [
    "K = invA.solveLinearSystem(C)"
   ]
  },
  {
   "cell_type": "markdown",
   "metadata": {},
   "source": [
    "Calcule $\\hat{\\theta} = \\mu  + K (y - H(\\mu ))$."
   ]
  },
  {
   "cell_type": "code",
   "execution_count": 49,
   "metadata": {},
   "outputs": [
    {
     "data": {
      "text/html": [
       "<p>[7e+08,2.5e+09,11.6727]</p>"
      ],
      "text/plain": [
       "class=Point name=Unnamed dimension=3 values=[7e+08,2.5e+09,11.6727]"
      ]
     },
     "execution_count": 49,
     "metadata": {},
     "output_type": "execute_result"
    }
   ],
   "source": [
    "thetaStar = candidate + K * deltay\n",
    "thetaStar"
   ]
  },
  {
   "cell_type": "code",
   "execution_count": 50,
   "metadata": {},
   "outputs": [
    {
     "data": {
      "text/html": [
       "<p>[0,0,0]</p>"
      ],
      "text/plain": [
       "class=Point name=Unnamed dimension=3 values=[0,0,0]"
      ]
     },
     "execution_count": 50,
     "metadata": {},
     "output_type": "execute_result"
    }
   ],
   "source": [
    "thetaStarOT - thetaStar"
   ]
  },
  {
   "cell_type": "markdown",
   "metadata": {},
   "source": [
    "Calcule la matrice $A$."
   ]
  },
  {
   "cell_type": "code",
   "execution_count": 51,
   "metadata": {},
   "outputs": [
    {
     "data": {
      "text/html": [
       "<p>[[ 3.42061e-20 1.03833e-20 2.62294e-12 ]<br>\n",
       " [ 1.03833e-20 3.15188e-21 7.96199e-13 ]<br>\n",
       " [ 2.62294e-12 7.96199e-13 0.000201128 ]]</p>"
      ],
      "text/plain": [
       "class=Matrix implementation=class=MatrixImplementation name=Unnamed rows=3 columns=3 values=[3.42061e-20,1.03833e-20,2.62294e-12,1.03833e-20,3.15188e-21,7.96199e-13,2.62294e-12,7.96199e-13,0.000201128]"
      ]
     },
     "execution_count": 51,
     "metadata": {},
     "output_type": "execute_result"
    }
   ],
   "source": [
    "IA = ot.IdentityMatrix(parameterDimension)\n",
    "A = invA.solveLinearSystem(IA)\n",
    "A"
   ]
  },
  {
   "cell_type": "code",
   "execution_count": 54,
   "metadata": {},
   "outputs": [
    {
     "data": {
      "text/html": [
       "<p>[[ -4.9e+15      3.47955      6.39015e+07 ]<br>\n",
       " [  3.47955     -6.25e+16     2.47416e+08 ]<br>\n",
       " [  6.39015e+07  2.47416e+08 -1.81279     ]]</p>"
      ],
      "text/plain": [
       "class=Matrix implementation=class=MatrixImplementation name=Unnamed rows=3 columns=3 values=[-4.9e+15,3.47955,6.39015e+07,3.47955,-6.25e+16,2.47416e+08,6.39015e+07,2.47416e+08,-1.81279]"
      ]
     },
     "execution_count": 54,
     "metadata": {},
     "output_type": "execute_result"
    }
   ],
   "source": [
    "A - covarianceThetaStarOT"
   ]
  },
  {
   "cell_type": "markdown",
   "metadata": {},
   "source": [
    "Manifestement, le résultat est faux."
   ]
  },
  {
   "cell_type": "markdown",
   "metadata": {},
   "source": [
    "Un autre moyen de calculer la matrice de covariance."
   ]
  },
  {
   "cell_type": "code",
   "execution_count": 52,
   "metadata": {},
   "outputs": [],
   "source": [
    "L = IB - K * gradientObservations"
   ]
  },
  {
   "cell_type": "code",
   "execution_count": 36,
   "metadata": {},
   "outputs": [
    {
     "data": {
      "text/html": [
       "<p>[[  4.9e+15     -3.48174     -6.39216e+07 ]<br>\n",
       " [ -3.48174      6.25e+16    -2.47494e+08 ]<br>\n",
       " [ -6.39216e+07 -2.47494e+08  1.81393     ]]</p>"
      ],
      "text/plain": [
       "class=Matrix implementation=class=MatrixImplementation name=Unnamed rows=3 columns=3 values=[4.9e+15,-3.48174,-6.39216e+07,-3.48174,6.25e+16,-2.47494e+08,-6.39216e+07,-2.47494e+08,1.81393]"
      ]
     },
     "execution_count": 36,
     "metadata": {},
     "output_type": "execute_result"
    }
   ],
   "source": [
    "covarianceThetaStar = K * R * K.transpose() + L * B * L.transpose()\n",
    "covarianceThetaStar"
   ]
  },
  {
   "cell_type": "code",
   "execution_count": 56,
   "metadata": {},
   "outputs": [
    {
     "data": {
      "text/html": [
       "<p>[[  0           -2.18802e-18 -2.00882e-11 ]<br>\n",
       " [ -2.18802e-18  0           -7.77783e-11 ]<br>\n",
       " [ -2.00882e-11 -7.77783e-11  9.38792e-19 ]]</p>"
      ],
      "text/plain": [
       "class=Matrix implementation=class=MatrixImplementation name=Unnamed rows=3 columns=3 values=[0,-2.18802e-18,-2.00882e-11,-2.18802e-18,0,-7.77783e-11,-2.00882e-11,-7.77783e-11,9.38792e-19]"
      ]
     },
     "execution_count": 56,
     "metadata": {},
     "output_type": "execute_result"
    }
   ],
   "source": [
    "(covarianceThetaStar - covarianceThetaStarOT)/1.e15"
   ]
  },
  {
   "cell_type": "markdown",
   "metadata": {},
   "source": [
    "On observe que l'on obtient pas du tout les memes résultats... La cause vraisemblable de ce problème est que la matrice est très mal conditionnée."
   ]
  },
  {
   "cell_type": "code",
   "execution_count": 37,
   "metadata": {},
   "outputs": [
    {
     "data": {
      "text/plain": [
       "2.7859889306555978e+19"
      ]
     },
     "execution_count": 37,
     "metadata": {},
     "output_type": "execute_result"
    }
   ],
   "source": [
    "np.linalg.cond(invA)"
   ]
  },
  {
   "cell_type": "markdown",
   "metadata": {},
   "source": [
    "## Par utilisation de la décomposition de Cholesky\n",
    "\n",
    "Soit $L_B \\in \\mathbb{R}^{p\\times p}$ le facteur de Cholesky de la matrice de covariance $B$ :\n",
    "\n",
    "$$\n",
    "B = L_B L_B^T\n",
    "$$\n",
    "\n",
    "où $L_B$ est une matrice triangulaire inférieure. \n",
    "\n",
    "De meme, soit $L_R \\in \\mathbb{R}^{n\\times n}$ le facteur de Cholesky de la matrice de covariance $R$ :\n",
    "\n",
    "$$\n",
    "R = L_R L_R^T\n",
    "$$\n",
    "\n",
    "où $L_R$ est une matrice triangulaire inférieure."
   ]
  },
  {
   "cell_type": "code",
   "execution_count": 57,
   "metadata": {},
   "outputs": [
    {
     "data": {
      "text/html": [
       "<p>5x5<br>\n",
       "[[ 1e+07     0     0     0     0 ]<br>\n",
       " [     0 1e+07     0     0     0 ]<br>\n",
       " [     0     0 1e+07     0     0 ]<br>\n",
       " [     0     0     0 1e+07     0 ]<br>\n",
       " [     0     0     0     0 1e+07 ]]</p>"
      ],
      "text/plain": [
       "class=Matrix implementation=class=MatrixImplementation name=Unnamed rows=5 columns=5 values=[1e+07,0,0,0,0,0,1e+07,0,0,0,0,0,1e+07,0,0,0,0,0,1e+07,0,0,0,0,0,1e+07]"
      ]
     },
     "execution_count": 57,
     "metadata": {},
     "output_type": "execute_result"
    }
   ],
   "source": [
    "LR = R.computeCholesky()\n",
    "LR[0:5,0:5]"
   ]
  },
  {
   "cell_type": "code",
   "execution_count": 58,
   "metadata": {},
   "outputs": [
    {
     "data": {
      "text/html": [
       "<p>[[ 7e+07           0           0       ]<br>\n",
       " [     0           2.5e+08     0       ]<br>\n",
       " [     0           0           0.8     ]]</p>"
      ],
      "text/plain": [
       "class=TriangularMatrix dimension=3 implementation=class=MatrixImplementation name=Unnamed rows=3 columns=3 values=[7e+07,0,0,0,2.5e+08,0,0,0,0.8]"
      ]
     },
     "execution_count": 58,
     "metadata": {},
     "output_type": "execute_result"
    }
   ],
   "source": [
    "LB = B.computeCholesky()\n",
    "LB"
   ]
  },
  {
   "cell_type": "markdown",
   "metadata": {},
   "source": [
    "On calcule $E = L_R^{-1} J L_B$."
   ]
  },
  {
   "cell_type": "code",
   "execution_count": 59,
   "metadata": {},
   "outputs": [
    {
     "data": {
      "text/html": [
       "<p>5x5<br>\n",
       "[[ 1e-07     0     0     0     0 ]<br>\n",
       " [     0 1e-07     0     0     0 ]<br>\n",
       " [     0     0 1e-07     0     0 ]<br>\n",
       " [     0     0     0 1e-07     0 ]<br>\n",
       " [     0     0     0     0 1e-07 ]]</p>"
      ],
      "text/plain": [
       "class=Matrix implementation=class=MatrixImplementation name=Unnamed rows=5 columns=5 values=[1e-07,0,0,0,0,0,1e-07,0,0,0,0,0,1e-07,0,0,0,0,0,1e-07,0,0,0,0,0,1e-07]"
      ]
     },
     "execution_count": 59,
     "metadata": {},
     "output_type": "execute_result"
    }
   ],
   "source": [
    "IR = ot.IdentityMatrix(size)\n",
    "invLR = LR.solveLinearSystem(IR)\n",
    "invLR[0:5,0:5]"
   ]
  },
  {
   "cell_type": "code",
   "execution_count": 62,
   "metadata": {},
   "outputs": [
    {
     "data": {
      "text/html": [
       "<p>5x3<br>\n",
       "[[ 7.00951  7.7486   6.19718  ]<br>\n",
       " [ 7.00951  9.83477  7.53859  ]<br>\n",
       " [ 7.00951  1.78814  1.7557   ]<br>\n",
       " [ 7.00951  0.447035 0.446831 ]<br>\n",
       " [ 7.00951  4.47035  4.00058  ]]</p>"
      ],
      "text/plain": [
       "class=Matrix implementation=class=MatrixImplementation name=Unnamed rows=5 columns=3 values=[7.00951,7.00951,7.00951,7.00951,7.00951,7.7486,9.83477,1.78814,0.447035,4.47035,6.19718,7.53859,1.7557,0.446831,4.00058]"
      ]
     },
     "execution_count": 62,
     "metadata": {},
     "output_type": "execute_result"
    }
   ],
   "source": [
    "E = invLR * gradientObservations * LB\n",
    "E [0:5,:]"
   ]
  },
  {
   "cell_type": "code",
   "execution_count": null,
   "metadata": {},
   "outputs": [],
   "source": []
  }
 ],
 "metadata": {
  "kernelspec": {
   "display_name": "Python 3",
   "language": "python",
   "name": "python3"
  },
  "language_info": {
   "codemirror_mode": {
    "name": "ipython",
    "version": 3
   },
   "file_extension": ".py",
   "mimetype": "text/x-python",
   "name": "python",
   "nbconvert_exporter": "python",
   "pygments_lexer": "ipython3",
   "version": "3.7.1"
  }
 },
 "nbformat": 4,
 "nbformat_minor": 2
}
