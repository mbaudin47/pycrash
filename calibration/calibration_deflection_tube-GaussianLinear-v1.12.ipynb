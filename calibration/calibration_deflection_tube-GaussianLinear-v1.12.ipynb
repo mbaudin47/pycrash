{
 "cells": [
  {
   "cell_type": "markdown",
   "metadata": {},
   "source": [
    "# Calibration of the deflection of a tube"
   ]
  },
  {
   "cell_type": "markdown",
   "metadata": {},
   "source": [
    "## Create a calibration problem"
   ]
  },
  {
   "cell_type": "code",
   "execution_count": 1,
   "metadata": {},
   "outputs": [],
   "source": [
    "import openturns as ot\n",
    "ot.RandomGenerator.SetSeed(0)"
   ]
  },
  {
   "cell_type": "markdown",
   "metadata": {},
   "source": [
    "We use the variable names `De` for the external diameter and `di` for the internal diameter because the symbolic function engine is not case sensitive, hence the variable names `D` and `d` would not be distiguished."
   ]
  },
  {
   "cell_type": "code",
   "execution_count": 2,
   "metadata": {},
   "outputs": [],
   "source": [
    "inputsvars=[\"F\",\"L\",\"a\",\"De\",\"di\",\"E\"]\n",
    "formula = \"var I:=pi_*(De^4-di^4)/32; var b:=L-a; g1:=-F*a^2*(L-a)^2/(3*E*L*I); g2:=-F*b*(L^2-b^2)/(6*E*L*I)*1.e6; g3:=F*a*(L^2-a^2)/(6*E*L*I)*1.e6\"\n",
    "g = ot.SymbolicFunction(inputsvars,[\"g1\",\"g2\",\"g3\"],formula)\n",
    "g.setOutputDescription([\"Deflection\",\"Left angle\",\"Right angle\"])"
   ]
  },
  {
   "cell_type": "code",
   "execution_count": 3,
   "metadata": {},
   "outputs": [],
   "source": [
    "XF=ot.Normal(1,0.1)\n",
    "XE=ot.Normal(2e5,2e3)\n",
    "XF.setDescription([\"Force\"])\n",
    "XE.setDescription([\"Young Modulus\"])"
   ]
  },
  {
   "cell_type": "code",
   "execution_count": 4,
   "metadata": {},
   "outputs": [],
   "source": [
    "XL = ot.Dirac(1.5)\n",
    "Xa = ot.Dirac(1.0)\n",
    "XD = ot.Dirac(0.8)\n",
    "Xd = ot.Dirac(0.1)\n",
    "XL.setDescription([\"Longueur\"])\n",
    "Xa.setDescription([\"Location\"])\n",
    "XD.setDescription([\"External diameter\"])\n",
    "Xd.setDescription([\"Internal diameter\"])"
   ]
  },
  {
   "cell_type": "code",
   "execution_count": 5,
   "metadata": {},
   "outputs": [],
   "source": [
    "inputDistribution = ot.ComposedDistribution([XF,XL,Xa,XD,Xd,XE])"
   ]
  },
  {
   "cell_type": "code",
   "execution_count": 6,
   "metadata": {},
   "outputs": [
    {
     "data": {
      "text/html": [
       "<TABLE><TR><TD></TD><TH>Force</TH><TH>Longueur</TH><TH>Location</TH><TH>External diameter</TH><TH>Internal diameter</TH><TH>Young Modulus</TH></TR>\n",
       "<TR><TD>0</TD><TD>1.0608201651218765</TD><TD>1.5</TD><TD>1.0</TD><TD>0.8</TD><TD>0.1</TD><TD>199058.94880273487</TD></TR>\n",
       "<TR><TD>1</TD><TD>0.8733826897783343</TD><TD>1.5</TD><TD>1.0</TD><TD>0.8</TD><TD>0.1</TD><TD>200522.0358705954</TD></TR>\n",
       "<TR><TD>2</TD><TD>0.9561734380039586</TD><TD>1.5</TD><TD>1.0</TD><TD>0.8</TD><TD>0.1</TD><TD>195419.87603625984</TD></TR>\n",
       "<TR><TD>3</TD><TD>1.1205478200828576</TD><TD>1.5</TD><TD>1.0</TD><TD>0.8</TD><TD>0.1</TD><TD>197434.22941909003</TD></TR>\n",
       "<TR><TD>4</TD><TD>0.7818614765383486</TD><TD>1.5</TD><TD>1.0</TD><TD>0.8</TD><TD>0.1</TD><TD>197376.43776907332</TD></TR>\n",
       "</TABLE>"
      ],
      "text/plain": [
       "class=Sample name=Unnamed implementation=class=SampleImplementation name=Unnamed size=5 dimension=6 description=[Force,Longueur,Location,External diameter,Internal diameter,Young Modulus] data=[[1.06082,1.5,1,0.8,0.1,199059],[0.873383,1.5,1,0.8,0.1,200522],[0.956173,1.5,1,0.8,0.1,195420],[1.12055,1.5,1,0.8,0.1,197434],[0.781861,1.5,1,0.8,0.1,197376]]"
      ]
     },
     "execution_count": 6,
     "metadata": {},
     "output_type": "execute_result"
    }
   ],
   "source": [
    "sampleSize = 10\n",
    "inputSample = inputDistribution.getSample(sampleSize)\n",
    "inputSample[0:5]"
   ]
  },
  {
   "cell_type": "code",
   "execution_count": 7,
   "metadata": {},
   "outputs": [
    {
     "data": {
      "text/html": [
       "<TABLE><TR><TD></TD><TH>Deflection</TH><TH>Left angle</TH><TH>Right angle</TH></TR>\n",
       "<TR><TD>0</TD><TD>-7.364338707447658e-06</TD><TD>-14.728677414895316</TD><TD>18.410846768619145</TD></TR>\n",
       "<TR><TD>1</TD><TD>-6.018886713747166e-06</TD><TD>-12.037773427494331</TD><TD>15.047216784367913</TD></TR>\n",
       "<TR><TD>2</TD><TD>-6.761477949053722e-06</TD><TD>-13.522955898107444</TD><TD>16.903694872634304</TD></TR>\n",
       "<TR><TD>3</TD><TD>-7.842989623823465e-06</TD><TD>-15.685979247646928</TD><TD>19.607474059558662</TD></TR>\n",
       "<TR><TD>4</TD><TD>-5.474042982012506e-06</TD><TD>-10.948085964025013</TD><TD>13.685107455031265</TD></TR>\n",
       "</TABLE>"
      ],
      "text/plain": [
       "class=Sample name=Unnamed implementation=class=SampleImplementation name=Unnamed size=5 dimension=3 description=[Deflection,Left angle,Right angle] data=[[-7.36434e-06,-14.7287,18.4108],[-6.01889e-06,-12.0378,15.0472],[-6.76148e-06,-13.523,16.9037],[-7.84299e-06,-15.686,19.6075],[-5.47404e-06,-10.9481,13.6851]]"
      ]
     },
     "execution_count": 7,
     "metadata": {},
     "output_type": "execute_result"
    }
   ],
   "source": [
    "outputDeflection = g(inputSample)\n",
    "outputDeflection[0:5]"
   ]
  },
  {
   "cell_type": "code",
   "execution_count": 8,
   "metadata": {},
   "outputs": [],
   "source": [
    "observationNoiseSigma = [0.1e-6,1.5,1.5]\n",
    "observationNoiseCovariance = ot.CovarianceMatrix(3)\n",
    "for i in range(3):\n",
    "    observationNoiseCovariance[i,i] = observationNoiseSigma[i]**2"
   ]
  },
  {
   "cell_type": "code",
   "execution_count": 9,
   "metadata": {},
   "outputs": [
    {
     "data": {
      "text/html": [
       "<TABLE><TR><TD></TD><TH>Deflection</TH><TH>Left angle</TH><TH>Right angle</TH></TR>\n",
       "<TR><TD>0</TD><TD>-7.332046204412996e-06</TD><TD>-14.059999467618551</TD><TD>16.853731876324503</TD></TR>\n",
       "<TR><TD>1</TD><TD>-6.10455794154925e-06</TD><TD>-11.327348051711729</TD><TD>14.858970166249073</TD></TR>\n",
       "<TR><TD>2</TD><TD>-6.726336172252111e-06</TD><TD>-10.84941793819937</TD><TD>17.00900591157987</TD></TR>\n",
       "<TR><TD>3</TD><TD>-7.921126269846937e-06</TD><TD>-16.76827939567572</TD><TD>19.245638825208406</TD></TR>\n",
       "<TR><TD>4</TD><TD>-5.652839401924762e-06</TD><TD>-10.346046348365961</TD><TD>15.736845739704078</TD></TR>\n",
       "</TABLE>"
      ],
      "text/plain": [
       "class=Sample name=Unnamed implementation=class=SampleImplementation name=Unnamed size=5 dimension=3 description=[Deflection,Left angle,Right angle] data=[[-7.33205e-06,-14.06,16.8537],[-6.10456e-06,-11.3273,14.859],[-6.72634e-06,-10.8494,17.009],[-7.92113e-06,-16.7683,19.2456],[-5.65284e-06,-10.346,15.7368]]"
      ]
     },
     "execution_count": 9,
     "metadata": {},
     "output_type": "execute_result"
    }
   ],
   "source": [
    "noiseSigma = ot.Normal([0.,0.,0.],observationNoiseCovariance)\n",
    "sampleObservationNoise = noiseSigma.getSample(sampleSize)\n",
    "observedOutput = outputDeflection + sampleObservationNoise\n",
    "observedOutput[0:5]"
   ]
  },
  {
   "cell_type": "code",
   "execution_count": 10,
   "metadata": {},
   "outputs": [
    {
     "data": {
      "text/html": [
       "<TABLE><TR><TD></TD><TH>Force</TH><TH>Young Modulus</TH></TR>\n",
       "<TR><TD>0</TD><TD>1.0608201651218765</TD><TD>199058.94880273487</TD></TR>\n",
       "<TR><TD>1</TD><TD>0.8733826897783343</TD><TD>200522.0358705954</TD></TR>\n",
       "<TR><TD>2</TD><TD>0.9561734380039586</TD><TD>195419.87603625984</TD></TR>\n",
       "<TR><TD>3</TD><TD>1.1205478200828576</TD><TD>197434.22941909003</TD></TR>\n",
       "<TR><TD>4</TD><TD>0.7818614765383486</TD><TD>197376.43776907332</TD></TR>\n",
       "</TABLE>"
      ],
      "text/plain": [
       "class=Sample name=Unnamed implementation=class=SampleImplementation name=Unnamed size=5 dimension=2 description=[Force,Young Modulus] data=[[1.06082,199059],[0.873383,200522],[0.956173,195420],[1.12055,197434],[0.781861,197376]]"
      ]
     },
     "execution_count": 10,
     "metadata": {},
     "output_type": "execute_result"
    }
   ],
   "source": [
    "observedInput = ot.Sample(sampleSize,2)\n",
    "observedInput[:,0] = inputSample[:,0] # F\n",
    "observedInput[:,1] = inputSample[:,5] # E\n",
    "observedInput.setDescription([\"Force\",\"Young Modulus\"])\n",
    "observedInput[0:5]"
   ]
  },
  {
   "cell_type": "code",
   "execution_count": 11,
   "metadata": {},
   "outputs": [
    {
     "data": {
      "text/html": [
       "<TABLE><TR><TD></TD><TH>Force</TH><TH>Young</TH><TH>Deflection</TH><TH>Left Angle</TH><TH>Right Angle</TH></TR>\n",
       "<TR><TD>0</TD><TD>1.0608201651218765</TD><TD>199058.94880273487</TD><TD>-7.332046204412996e-06</TD><TD>-14.059999467618551</TD><TD>16.853731876324503</TD></TR>\n",
       "<TR><TD>1</TD><TD>0.8733826897783343</TD><TD>200522.0358705954</TD><TD>-6.10455794154925e-06</TD><TD>-11.327348051711729</TD><TD>14.858970166249073</TD></TR>\n",
       "<TR><TD>2</TD><TD>0.9561734380039586</TD><TD>195419.87603625984</TD><TD>-6.726336172252111e-06</TD><TD>-10.84941793819937</TD><TD>17.00900591157987</TD></TR>\n",
       "<TR><TD>3</TD><TD>1.1205478200828576</TD><TD>197434.22941909003</TD><TD>-7.921126269846937e-06</TD><TD>-16.76827939567572</TD><TD>19.245638825208406</TD></TR>\n",
       "<TR><TD>4</TD><TD>0.7818614765383486</TD><TD>197376.43776907332</TD><TD>-5.652839401924762e-06</TD><TD>-10.346046348365961</TD><TD>15.736845739704078</TD></TR>\n",
       "</TABLE>"
      ],
      "text/plain": [
       "class=Sample name=Unnamed implementation=class=SampleImplementation name=Unnamed size=5 dimension=5 description=[Force,Young,Deflection,Left Angle,Right Angle] data=[[1.06082,199059,-7.33205e-06,-14.06,16.8537],[0.873383,200522,-6.10456e-06,-11.3273,14.859],[0.956173,195420,-6.72634e-06,-10.8494,17.009],[1.12055,197434,-7.92113e-06,-16.7683,19.2456],[0.781861,197376,-5.65284e-06,-10.346,15.7368]]"
      ]
     },
     "execution_count": 11,
     "metadata": {},
     "output_type": "execute_result"
    }
   ],
   "source": [
    "fullSample = ot.Sample(sampleSize,5)\n",
    "fullSample[:,0:2] = observedInput\n",
    "fullSample[:,2:5] = observedOutput\n",
    "fullSample.setDescription([\"Force\",\"Young\",\"Deflection\",\"Left Angle\",\"Right Angle\"])\n",
    "fullSample[0:5]"
   ]
  },
  {
   "cell_type": "code",
   "execution_count": 12,
   "metadata": {},
   "outputs": [
    {
     "data": {
      "image/png": "[encoded data removed]",
      "text/plain": [
       "class=Pairs name=Unnamed data=class=Sample name=Unnamed implementation=class=SampleImplementation name=Unnamed size=10 dimension=5 description=[Force,Young,Deflection,Left Angle,Right Angle] data=[[1.06082,199059,-7.33205e-06,-14.06,16.8537],[0.873383,200522,-6.10456e-06,-11.3273,14.859],[0.956173,195420,-6.72634e-06,-10.8494,17.009],[1.12055,197434,-7.92113e-06,-16.7683,19.2456],[0.781861,197376,-5.65284e-06,-10.346,15.7368],[1.035,199818,-7.05738e-06,-13.2033,17.8291],[0.964499,201992,-6.54452e-06,-12.747,17.1077],[1.14372,199721,-7.96206e-06,-16.4016,18.6546],[1.08107,198880,-7.48587e-06,-12.0702,17.7722],[1.07932,200891,-7.23883e-06,-14.7706,19.7467]] derived from class=DrawableImplementation name=Unnamed legend= data=class=Sample name=Unnamed implementation=class=SampleImplementation name=Unnamed size=10 dimension=5 description=[Force,Young,Deflection,Left Angle,Right Angle] data=[[1.06082,199059,-7.33205e-06,-14.06,16.8537],[0.873383,200522,-6.10456e-06,-11.3273,14.859],[0.956173,195420,-6.72634e-06,-10.8494,17.009],[1.12055,197434,-7.92113e-06,-16.7683,19.2456],[0.781861,197376,-5.65284e-06,-10.346,15.7368],[1.035,199818,-7.05738e-06,-13.2033,17.8291],[0.964499,201992,-6.54452e-06,-12.747,17.1077],[1.14372,199721,-7.96206e-06,-16.4016,18.6546],[1.08107,198880,-7.48587e-06,-12.0702,17.7722],[1.07932,200891,-7.23883e-06,-14.7706,19.7467]] color=blue fillStyle=solid lineStyle=solid pointStyle=plus lineWidth=1"
      ]
     },
     "execution_count": 12,
     "metadata": {},
     "output_type": "execute_result"
    }
   ],
   "source": [
    "ot.Pairs(fullSample)"
   ]
  },
  {
   "cell_type": "markdown",
   "metadata": {},
   "source": [
    "## Setting up the calibration"
   ]
  },
  {
   "cell_type": "code",
   "execution_count": 13,
   "metadata": {},
   "outputs": [],
   "source": [
    "XL = 1.4 # Exact : 1.5\n",
    "Xa = 1.2 # Exact : 1.0\n",
    "XD = 0.7 # Exact : 0.8\n",
    "Xd = 0.2 # Exact : 0.1\n",
    "thetaPrior = ot.Point([XL,Xa,XD,Xd])"
   ]
  },
  {
   "cell_type": "code",
   "execution_count": 14,
   "metadata": {},
   "outputs": [
    {
     "data": {
      "text/html": [
       "<p>[[ 0.0196 0      0      0      ]<br>\n",
       " [ 0      0.0144 0      0      ]<br>\n",
       " [ 0      0      0.0049 0      ]<br>\n",
       " [ 0      0      0      0.0004 ]]</p>"
      ],
      "text/plain": [
       "class=CovarianceMatrix dimension=4 implementation=class=MatrixImplementation name=Unnamed rows=4 columns=4 values=[0.0196,0,0,0,0,0.0144,0,0,0,0,0.0049,0,0,0,0,0.0004]"
      ]
     },
     "execution_count": 14,
     "metadata": {},
     "output_type": "execute_result"
    }
   ],
   "source": [
    "sigmaXL = 0.1 * XL\n",
    "sigmaXa = 0.1 * Xa\n",
    "sigmaXD = 0.1 * XD\n",
    "sigmaXd = 0.1 * Xd\n",
    "parameterCovariance = ot.CovarianceMatrix(4)\n",
    "parameterCovariance[0,0] = sigmaXL**2\n",
    "parameterCovariance[1,1] = sigmaXa**2\n",
    "parameterCovariance[2,2] = sigmaXD**2\n",
    "parameterCovariance[3,3] = sigmaXd**2\n",
    "parameterCovariance"
   ]
  },
  {
   "cell_type": "code",
   "execution_count": 15,
   "metadata": {},
   "outputs": [],
   "source": [
    "calibratedIndices = [1,2,3,4]\n",
    "calibrationFunction = ot.ParametricFunction(g, calibratedIndices, thetaPrior)"
   ]
  },
  {
   "cell_type": "code",
   "execution_count": 16,
   "metadata": {},
   "outputs": [],
   "source": [
    "sigmaObservation = [0.2e-6,1.3,1.3] # Exact : [0.1e-6,1.5,1.5]"
   ]
  },
  {
   "cell_type": "code",
   "execution_count": 17,
   "metadata": {},
   "outputs": [],
   "source": [
    "errorCovariance = ot.CovarianceMatrix(3)\n",
    "errorCovariance[0,0] = sigmaObservation[0]**2\n",
    "errorCovariance[1,1] = sigmaObservation[1]**2\n",
    "errorCovariance[2,2] = sigmaObservation[2]**2"
   ]
  },
  {
   "cell_type": "code",
   "execution_count": 18,
   "metadata": {
    "scrolled": false
   },
   "outputs": [
    {
     "data": {
      "text/html": [
       "<TABLE><TR><TD></TD><TH>Deflection</TH><TH>Left angle</TH><TH>Right angle</TH></TR>\n",
       "<TR><TD>0</TD><TD>-3.1213680136623436e-06</TD><TD>-10.404560045541148</TD><TD>16.90741007400436</TD></TR>\n",
       "<TR><TD>1</TD><TD>-2.551099455426724e-06</TD><TD>-8.503664851422414</TD><TD>13.818455383561421</TD></TR>\n",
       "<TR><TD>2</TD><TD>-2.8658460499536386e-06</TD><TD>-9.552820166512133</TD><TD>15.523332770582215</TD></TR>\n",
       "<TR><TD>3</TD><TD>-3.3242437530107608e-06</TD><TD>-11.080812510035873</TD><TD>18.006320328808297</TD></TR>\n",
       "<TR><TD>4</TD><TD>-2.3201679537345084e-06</TD><TD>-7.7338931791150305</TD><TD>12.567576416061923</TD></TR>\n",
       "</TABLE>"
      ],
      "text/plain": [
       "class=Sample name=Unnamed implementation=class=SampleImplementation name=Unnamed size=5 dimension=3 description=[Deflection,Left angle,Right angle] data=[[-3.12137e-06,-10.4046,16.9074],[-2.5511e-06,-8.50366,13.8185],[-2.86585e-06,-9.55282,15.5233],[-3.32424e-06,-11.0808,18.0063],[-2.32017e-06,-7.73389,12.5676]]"
      ]
     },
     "execution_count": 18,
     "metadata": {},
     "output_type": "execute_result"
    }
   ],
   "source": [
    "calibrationFunction.setParameter(thetaPrior)\n",
    "predictedOutput = calibrationFunction(observedInput)\n",
    "predictedOutput[0:5]"
   ]
  },
  {
   "cell_type": "markdown",
   "metadata": {},
   "source": [
    "## Calibration with gaussian linear least squares"
   ]
  },
  {
   "cell_type": "code",
   "execution_count": 19,
   "metadata": {},
   "outputs": [],
   "source": [
    "algo = ot.GaussianLinearCalibration(calibrationFunction, observedInput, observedOutput, thetaPrior, parameterCovariance, errorCovariance)"
   ]
  },
  {
   "cell_type": "code",
   "execution_count": 20,
   "metadata": {},
   "outputs": [],
   "source": [
    "algo.run()"
   ]
  },
  {
   "cell_type": "code",
   "execution_count": 21,
   "metadata": {},
   "outputs": [],
   "source": [
    "calibrationResult = algo.getResult()"
   ]
  },
  {
   "cell_type": "markdown",
   "metadata": {},
   "source": [
    "## Analysis of the results"
   ]
  },
  {
   "cell_type": "code",
   "execution_count": 22,
   "metadata": {},
   "outputs": [
    {
     "data": {
      "text/html": [
       "<p>[1.52085,1.04501,0.884491,0.199649]</p>"
      ],
      "text/plain": [
       "class=Point name=Unnamed dimension=4 values=[1.52085,1.04501,0.884491,0.199649]"
      ]
     },
     "execution_count": 22,
     "metadata": {},
     "output_type": "execute_result"
    }
   ],
   "source": [
    "thetaMAP = calibrationResult.getParameterMAP()\n",
    "thetaMAP"
   ]
  },
  {
   "cell_type": "markdown",
   "metadata": {},
   "source": [
    "Compute a 95% confidence interval for each marginal."
   ]
  },
  {
   "cell_type": "code",
   "execution_count": 23,
   "metadata": {},
   "outputs": [
    {
     "data": {
      "text/html": [
       "<p>[[  0.00720375   0.00733857   0.000981353 -1.86847e-06 ]<br>\n",
       " [  0.00733857   0.0075243    0.000947296 -1.80362e-06 ]<br>\n",
       " [  0.000981353  0.000947296  0.000197625  8.95317e-06 ]<br>\n",
       " [ -1.86847e-06 -1.80362e-06  8.95317e-06  0.000399983 ]]</p>"
      ],
      "text/plain": [
       "class=CovarianceMatrix dimension=4 implementation=class=MatrixImplementation name=Unnamed rows=4 columns=4 values=[0.00720375,0.00733857,0.000981353,-1.86847e-06,0.00733857,0.0075243,0.000947296,-1.80362e-06,0.000981353,0.000947296,0.000197625,8.95317e-06,-1.86847e-06,-1.80362e-06,8.95317e-06,0.000399983]"
      ]
     },
     "execution_count": 23,
     "metadata": {},
     "output_type": "execute_result"
    }
   ],
   "source": [
    "thetaPosterior = calibrationResult.getParameterPosterior()\n",
    "thetaPosterior.getCovariance()"
   ]
  }
 ],
 "metadata": {
  "kernelspec": {
   "display_name": "Python 3",
   "language": "python",
   "name": "python3"
  },
  "language_info": {
   "codemirror_mode": {
    "name": "ipython",
    "version": 3
   },
   "file_extension": ".py",
   "mimetype": "text/x-python",
   "name": "python",
   "nbconvert_exporter": "python",
   "pygments_lexer": "ipython3",
   "version": "3.7.1"
  }
 },
 "nbformat": 4,
 "nbformat_minor": 2
}
