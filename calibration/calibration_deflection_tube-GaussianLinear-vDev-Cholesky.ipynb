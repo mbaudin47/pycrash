{
 "cells": [
  {
   "cell_type": "markdown",
   "metadata": {},
   "source": [
    "# Calibration of the deflection of a tube"
   ]
  },
  {
   "cell_type": "markdown",
   "metadata": {},
   "source": [
    "## Create a calibration problem"
   ]
  },
  {
   "cell_type": "code",
   "execution_count": 1,
   "metadata": {},
   "outputs": [],
   "source": [
    "import openturns as ot\n",
    "ot.RandomGenerator.SetSeed(0)"
   ]
  },
  {
   "cell_type": "markdown",
   "metadata": {},
   "source": [
    "We use the variable names `De` for the external diameter and `di` for the internal diameter because the symbolic function engine is not case sensitive, hence the variable names `D` and `d` would not be distiguished."
   ]
  },
  {
   "cell_type": "code",
   "execution_count": 2,
   "metadata": {},
   "outputs": [],
   "source": [
    "inputsvars=[\"F\",\"L\",\"a\",\"De\",\"di\",\"E\"]\n",
    "formula = \"var I:=pi_*(De^4-di^4)/32; var b:=L-a; g1:=-F*a^2*(L-a)^2/(3*E*L*I); g2:=-F*b*(L^2-b^2)/(6*E*L*I)*1.e6; g3:=F*a*(L^2-a^2)/(6*E*L*I)*1.e6\"\n",
    "g = ot.SymbolicFunction(inputsvars,[\"g1\",\"g2\",\"g3\"],formula)\n",
    "g.setOutputDescription([\"Deflection\",\"Left angle\",\"Right angle\"])"
   ]
  },
  {
   "cell_type": "code",
   "execution_count": 3,
   "metadata": {},
   "outputs": [],
   "source": [
    "XF=ot.Normal(1,0.1)\n",
    "XE=ot.Normal(2e5,2e3)\n",
    "XF.setDescription([\"Force\"])\n",
    "XE.setDescription([\"Young Modulus\"])"
   ]
  },
  {
   "cell_type": "code",
   "execution_count": 4,
   "metadata": {},
   "outputs": [],
   "source": [
    "XL = ot.Dirac(1.5)\n",
    "Xa = ot.Dirac(1.0)\n",
    "XD = ot.Dirac(0.8)\n",
    "Xd = ot.Dirac(0.1)\n",
    "XL.setDescription([\"Longueur\"])\n",
    "Xa.setDescription([\"Location\"])\n",
    "XD.setDescription([\"External diameter\"])\n",
    "Xd.setDescription([\"Internal diameter\"])"
   ]
  },
  {
   "cell_type": "code",
   "execution_count": 5,
   "metadata": {},
   "outputs": [],
   "source": [
    "inputDistribution = ot.ComposedDistribution([XF,XL,Xa,XD,Xd,XE])"
   ]
  },
  {
   "cell_type": "code",
   "execution_count": 6,
   "metadata": {},
   "outputs": [
    {
     "data": {
      "text/html": [
       "<TABLE><TR><TD></TD><TH>Force</TH><TH>Longueur</TH><TH>Location</TH><TH>External diameter</TH><TH>Internal diameter</TH><TH>Young Modulus</TH></TR>\n",
       "<TR><TD>0</TD><TD>1.0608201651218765</TD><TD>1.5</TD><TD>1.0</TD><TD>0.8</TD><TD>0.1</TD><TD>199058.94880273487</TD></TR>\n",
       "<TR><TD>1</TD><TD>0.8733826897783343</TD><TD>1.5</TD><TD>1.0</TD><TD>0.8</TD><TD>0.1</TD><TD>200522.0358705954</TD></TR>\n",
       "<TR><TD>2</TD><TD>0.9561734380039586</TD><TD>1.5</TD><TD>1.0</TD><TD>0.8</TD><TD>0.1</TD><TD>195419.87603625984</TD></TR>\n",
       "<TR><TD>3</TD><TD>1.1205478200828576</TD><TD>1.5</TD><TD>1.0</TD><TD>0.8</TD><TD>0.1</TD><TD>197434.22941909003</TD></TR>\n",
       "<TR><TD>4</TD><TD>0.7818614765383486</TD><TD>1.5</TD><TD>1.0</TD><TD>0.8</TD><TD>0.1</TD><TD>197376.43776907332</TD></TR>\n",
       "</TABLE>"
      ],
      "text/plain": [
       "class=Sample name=Unnamed implementation=class=SampleImplementation name=Unnamed size=5 dimension=6 description=[Force,Longueur,Location,External diameter,Internal diameter,Young Modulus] data=[[1.06082,1.5,1,0.8,0.1,199059],[0.873383,1.5,1,0.8,0.1,200522],[0.956173,1.5,1,0.8,0.1,195420],[1.12055,1.5,1,0.8,0.1,197434],[0.781861,1.5,1,0.8,0.1,197376]]"
      ]
     },
     "execution_count": 6,
     "metadata": {},
     "output_type": "execute_result"
    }
   ],
   "source": [
    "size = 10\n",
    "inputSample = inputDistribution.getSample(size)\n",
    "inputSample[0:5]"
   ]
  },
  {
   "cell_type": "code",
   "execution_count": 7,
   "metadata": {},
   "outputs": [
    {
     "data": {
      "text/html": [
       "<TABLE><TR><TD></TD><TH>Deflection</TH><TH>Left angle</TH><TH>Right angle</TH></TR>\n",
       "<TR><TD>0</TD><TD>-7.364338707447658e-06</TD><TD>-14.728677414895316</TD><TD>18.410846768619145</TD></TR>\n",
       "<TR><TD>1</TD><TD>-6.018886713747166e-06</TD><TD>-12.037773427494331</TD><TD>15.047216784367913</TD></TR>\n",
       "<TR><TD>2</TD><TD>-6.761477949053722e-06</TD><TD>-13.522955898107444</TD><TD>16.903694872634304</TD></TR>\n",
       "<TR><TD>3</TD><TD>-7.842989623823465e-06</TD><TD>-15.685979247646928</TD><TD>19.607474059558662</TD></TR>\n",
       "<TR><TD>4</TD><TD>-5.474042982012506e-06</TD><TD>-10.948085964025013</TD><TD>13.685107455031265</TD></TR>\n",
       "</TABLE>"
      ],
      "text/plain": [
       "class=Sample name=Unnamed implementation=class=SampleImplementation name=Unnamed size=5 dimension=3 description=[Deflection,Left angle,Right angle] data=[[-7.36434e-06,-14.7287,18.4108],[-6.01889e-06,-12.0378,15.0472],[-6.76148e-06,-13.523,16.9037],[-7.84299e-06,-15.686,19.6075],[-5.47404e-06,-10.9481,13.6851]]"
      ]
     },
     "execution_count": 7,
     "metadata": {},
     "output_type": "execute_result"
    }
   ],
   "source": [
    "outputDeflection = g(inputSample)\n",
    "outputDeflection[0:5]"
   ]
  },
  {
   "cell_type": "code",
   "execution_count": 8,
   "metadata": {},
   "outputs": [],
   "source": [
    "observationNoiseSigma = [0.1e-6,1.5,1.5]\n",
    "observationNoiseCovariance = ot.CovarianceMatrix(3)\n",
    "for i in range(3):\n",
    "    observationNoiseCovariance[i,i] = observationNoiseSigma[i]**2"
   ]
  },
  {
   "cell_type": "code",
   "execution_count": 9,
   "metadata": {},
   "outputs": [
    {
     "data": {
      "text/html": [
       "<TABLE><TR><TD></TD><TH>Deflection</TH><TH>Left angle</TH><TH>Right angle</TH></TR>\n",
       "<TR><TD>0</TD><TD>-7.332046204412996e-06</TD><TD>-14.059999467618551</TD><TD>16.853731876324503</TD></TR>\n",
       "<TR><TD>1</TD><TD>-6.10455794154925e-06</TD><TD>-11.327348051711729</TD><TD>14.858970166249073</TD></TR>\n",
       "<TR><TD>2</TD><TD>-6.726336172252111e-06</TD><TD>-10.84941793819937</TD><TD>17.00900591157987</TD></TR>\n",
       "<TR><TD>3</TD><TD>-7.921126269846937e-06</TD><TD>-16.76827939567572</TD><TD>19.245638825208406</TD></TR>\n",
       "<TR><TD>4</TD><TD>-5.652839401924762e-06</TD><TD>-10.346046348365961</TD><TD>15.736845739704078</TD></TR>\n",
       "</TABLE>"
      ],
      "text/plain": [
       "class=Sample name=Unnamed implementation=class=SampleImplementation name=Unnamed size=5 dimension=3 description=[Deflection,Left angle,Right angle] data=[[-7.33205e-06,-14.06,16.8537],[-6.10456e-06,-11.3273,14.859],[-6.72634e-06,-10.8494,17.009],[-7.92113e-06,-16.7683,19.2456],[-5.65284e-06,-10.346,15.7368]]"
      ]
     },
     "execution_count": 9,
     "metadata": {},
     "output_type": "execute_result"
    }
   ],
   "source": [
    "noiseSigma = ot.Normal([0.,0.,0.],observationNoiseCovariance)\n",
    "sampleObservationNoise = noiseSigma.getSample(size)\n",
    "outputObservations = outputDeflection + sampleObservationNoise\n",
    "outputObservations[0:5]"
   ]
  },
  {
   "cell_type": "code",
   "execution_count": 10,
   "metadata": {},
   "outputs": [
    {
     "data": {
      "text/html": [
       "<TABLE><TR><TD></TD><TH>Force</TH><TH>Young Modulus</TH></TR>\n",
       "<TR><TD>0</TD><TD>1.0608201651218765</TD><TD>199058.94880273487</TD></TR>\n",
       "<TR><TD>1</TD><TD>0.8733826897783343</TD><TD>200522.0358705954</TD></TR>\n",
       "<TR><TD>2</TD><TD>0.9561734380039586</TD><TD>195419.87603625984</TD></TR>\n",
       "<TR><TD>3</TD><TD>1.1205478200828576</TD><TD>197434.22941909003</TD></TR>\n",
       "<TR><TD>4</TD><TD>0.7818614765383486</TD><TD>197376.43776907332</TD></TR>\n",
       "</TABLE>"
      ],
      "text/plain": [
       "class=Sample name=Unnamed implementation=class=SampleImplementation name=Unnamed size=5 dimension=2 description=[Force,Young Modulus] data=[[1.06082,199059],[0.873383,200522],[0.956173,195420],[1.12055,197434],[0.781861,197376]]"
      ]
     },
     "execution_count": 10,
     "metadata": {},
     "output_type": "execute_result"
    }
   ],
   "source": [
    "inputObservations = ot.Sample(size,2)\n",
    "inputObservations[:,0] = inputSample[:,0] # F\n",
    "inputObservations[:,1] = inputSample[:,5] # E\n",
    "inputObservations.setDescription([\"Force\",\"Young Modulus\"])\n",
    "inputObservations[0:5]"
   ]
  },
  {
   "cell_type": "markdown",
   "metadata": {},
   "source": [
    "## Setting up the calibration"
   ]
  },
  {
   "cell_type": "code",
   "execution_count": 11,
   "metadata": {},
   "outputs": [],
   "source": [
    "XL = 1.4 # Exact : 1.5\n",
    "Xa = 1.2 # Exact : 1.0\n",
    "XD = 0.7 # Exact : 0.8\n",
    "Xd = 0.2 # Exact : 0.1\n",
    "candidate = ot.Point([XL,Xa,XD,Xd])"
   ]
  },
  {
   "cell_type": "code",
   "execution_count": 12,
   "metadata": {},
   "outputs": [
    {
     "data": {
      "text/html": [
       "<p>[[ 0.0196 0      0      0      ]<br>\n",
       " [ 0      0.0144 0      0      ]<br>\n",
       " [ 0      0      0.0049 0      ]<br>\n",
       " [ 0      0      0      0.0004 ]]</p>"
      ],
      "text/plain": [
       "class=CovarianceMatrix dimension=4 implementation=class=MatrixImplementation name=Unnamed rows=4 columns=4 values=[0.0196,0,0,0,0,0.0144,0,0,0,0,0.0049,0,0,0,0,0.0004]"
      ]
     },
     "execution_count": 12,
     "metadata": {},
     "output_type": "execute_result"
    }
   ],
   "source": [
    "sigmaXL = 0.1 * XL\n",
    "sigmaXa = 0.1 * Xa\n",
    "sigmaXD = 0.1 * XD\n",
    "sigmaXd = 0.1 * Xd\n",
    "parameterCovariance = ot.CovarianceMatrix(4)\n",
    "parameterCovariance[0,0] = sigmaXL**2\n",
    "parameterCovariance[1,1] = sigmaXa**2\n",
    "parameterCovariance[2,2] = sigmaXD**2\n",
    "parameterCovariance[3,3] = sigmaXd**2\n",
    "parameterCovariance"
   ]
  },
  {
   "cell_type": "code",
   "execution_count": 13,
   "metadata": {},
   "outputs": [],
   "source": [
    "calibratedIndices = [1,2,3,4]\n",
    "model = ot.ParametricFunction(g, calibratedIndices, candidate)"
   ]
  },
  {
   "cell_type": "code",
   "execution_count": 14,
   "metadata": {},
   "outputs": [],
   "source": [
    "sigmaObservation = [0.2e-6,1.3,1.3] # Exact : [0.1e-6,1.5,1.5]"
   ]
  },
  {
   "cell_type": "code",
   "execution_count": 15,
   "metadata": {},
   "outputs": [],
   "source": [
    "errorCovariance = ot.CovarianceMatrix(3)\n",
    "errorCovariance[0,0] = sigmaObservation[0]**2\n",
    "errorCovariance[1,1] = sigmaObservation[1]**2\n",
    "errorCovariance[2,2] = sigmaObservation[2]**2"
   ]
  },
  {
   "cell_type": "markdown",
   "metadata": {},
   "source": [
    "## See the output error dispersion"
   ]
  },
  {
   "cell_type": "code",
   "execution_count": 16,
   "metadata": {},
   "outputs": [],
   "source": [
    "import pylab as pl\n",
    "import openturns.viewer\n",
    "outputDimension = outputObservations.getDimension()\n",
    "fig = pl.figure(figsize=(16, 4))\n",
    "for i in range(outputDimension):\n",
    "    ax = fig.add_subplot(1, outputDimension, i+1)\n",
    "    graph = ot.HistogramFactory().build(outputObservations[:,i]).drawPDF()    \n",
    "    _ = ot.viewer.View(graph, figure=fig, axes=[ax])"
   ]
  },
  {
   "cell_type": "markdown",
   "metadata": {},
   "source": [
    "## Calibration with gaussian linear least squares"
   ]
  },
  {
   "cell_type": "code",
   "execution_count": 17,
   "metadata": {},
   "outputs": [],
   "source": [
    "algo = ot.GaussianLinearCalibration(model, inputObservations, outputObservations, candidate, parameterCovariance, errorCovariance)"
   ]
  },
  {
   "cell_type": "code",
   "execution_count": 18,
   "metadata": {},
   "outputs": [],
   "source": [
    "algo.run()"
   ]
  },
  {
   "cell_type": "code",
   "execution_count": 19,
   "metadata": {},
   "outputs": [],
   "source": [
    "calibrationResult = algo.getResult()"
   ]
  },
  {
   "cell_type": "markdown",
   "metadata": {},
   "source": [
    "## Analysis of the results"
   ]
  },
  {
   "cell_type": "code",
   "execution_count": 20,
   "metadata": {},
   "outputs": [
    {
     "data": {
      "text/html": [
       "<p>[1.52849,1.04743,0.892749,0.199633]</p>"
      ],
      "text/plain": [
       "class=Point name=Unnamed dimension=4 values=[1.52849,1.04743,0.892749,0.199633]"
      ]
     },
     "execution_count": 20,
     "metadata": {},
     "output_type": "execute_result"
    }
   ],
   "source": [
    "thetaMAP = calibrationResult.getParameterMAP()\n",
    "thetaMAP"
   ]
  },
  {
   "cell_type": "code",
   "execution_count": 21,
   "metadata": {},
   "outputs": [
    {
     "data": {
      "text/html": [
       "<p>[[  0.00768496   0.00780418   0.00107517  -2.04709e-06 ]<br>\n",
       " [  0.00780418   0.00807009   0.000925504 -1.76213e-06 ]<br>\n",
       " [  0.00107517   0.000925504  0.000362111  8.64e-06    ]<br>\n",
       " [ -2.04709e-06 -1.76213e-06  8.64e-06     0.000399984 ]]</p>"
      ],
      "text/plain": [
       "class=CovarianceMatrix dimension=4 implementation=class=MatrixImplementation name=Unnamed rows=4 columns=4 values=[0.00768496,0.00780418,0.00107517,-2.04709e-06,0.00780418,0.00807009,0.000925504,-1.76213e-06,0.00107517,0.000925504,0.000362111,8.64e-06,-2.04709e-06,-1.76213e-06,8.64e-06,0.000399984]"
      ]
     },
     "execution_count": 21,
     "metadata": {},
     "output_type": "execute_result"
    }
   ],
   "source": [
    "thetaPosterior = calibrationResult.getParameterPosterior()\n",
    "thetaPosterior.getCovariance()"
   ]
  },
  {
   "cell_type": "markdown",
   "metadata": {},
   "source": [
    "## Par résolution d'un problème de moindres carrés linéaires"
   ]
  },
  {
   "cell_type": "code",
   "execution_count": 22,
   "metadata": {},
   "outputs": [],
   "source": [
    "model.setParameter(candidate)"
   ]
  },
  {
   "cell_type": "code",
   "execution_count": 23,
   "metadata": {},
   "outputs": [
    {
     "data": {
      "text/html": [
       "<TABLE><TR><TD></TD><TH>Deflection</TH><TH>Left angle</TH><TH>Right angle</TH></TR>\n",
       "<TR><TD>0</TD><TD>-3.1213680136623436e-06</TD><TD>-10.404560045541148</TD><TD>16.90741007400436</TD></TR>\n",
       "<TR><TD>1</TD><TD>-2.551099455426724e-06</TD><TD>-8.503664851422414</TD><TD>13.818455383561421</TD></TR>\n",
       "<TR><TD>2</TD><TD>-2.8658460499536386e-06</TD><TD>-9.552820166512133</TD><TD>15.523332770582215</TD></TR>\n",
       "<TR><TD>3</TD><TD>-3.3242437530107608e-06</TD><TD>-11.080812510035873</TD><TD>18.006320328808297</TD></TR>\n",
       "<TR><TD>4</TD><TD>-2.3201679537345084e-06</TD><TD>-7.7338931791150305</TD><TD>12.567576416061923</TD></TR>\n",
       "</TABLE>"
      ],
      "text/plain": [
       "class=Sample name=Unnamed implementation=class=SampleImplementation name=Unnamed size=5 dimension=3 description=[Deflection,Left angle,Right angle] data=[[-3.12137e-06,-10.4046,16.9074],[-2.5511e-06,-8.50366,13.8185],[-2.86585e-06,-9.55282,15.5233],[-3.32424e-06,-11.0808,18.0063],[-2.32017e-06,-7.73389,12.5676]]"
      ]
     },
     "execution_count": 23,
     "metadata": {},
     "output_type": "execute_result"
    }
   ],
   "source": [
    "modelObservations = model(inputObservations)\n",
    "modelObservations[0:5]"
   ]
  },
  {
   "cell_type": "code",
   "execution_count": 24,
   "metadata": {},
   "outputs": [
    {
     "data": {
      "text/html": [
       "<p>[4.21068e-06,3.65544,0.0536782,3.55346e-06,2.82368,-1.04051,3.86049e-06,1.2966,-1.48567,4.59688e-06,5.68747,-1.23932,3.33267e-06,2.61215,-3.16927,4.02355e-06,3.09053,-1.39586,3.74777e-06,3.42449,-1.95866,4.60791e-06,5.22109,-0.486334,4.30206e-06,1.45748,-0.526577,4.092e-06,4.28115,-2.70137]#30</p>"
      ],
      "text/plain": [
       "class=Point name=Unnamed dimension=30 values=[4.21068e-06,3.65544,0.0536782,3.55346e-06,2.82368,-1.04051,3.86049e-06,1.2966,-1.48567,4.59688e-06,5.68747,-1.23932,3.33267e-06,2.61215,-3.16927,4.02355e-06,3.09053,-1.39586,3.74777e-06,3.42449,-1.95866,4.60791e-06,5.22109,-0.486334,4.30206e-06,1.45748,-0.526577,4.092e-06,4.28115,-2.70137]"
      ]
     },
     "execution_count": 24,
     "metadata": {},
     "output_type": "execute_result"
    }
   ],
   "source": [
    "residuals = modelObservations - outputObservations\n",
    "outputDimension = modelObservations.getDimension()\n",
    "# Stack the residuals by observation, \n",
    "#   deltay = [residuals[i,0],residuals[i,1],...,residuals[i,outputDimension]]\n",
    "deltay = ot.Point(size*outputDimension)\n",
    "for i in range(size):\n",
    "    for j in range(outputDimension):\n",
    "        deltay[i*outputDimension + j] = residuals[i,j]\n",
    "deltay"
   ]
  },
  {
   "cell_type": "code",
   "execution_count": 25,
   "metadata": {},
   "outputs": [
    {
     "data": {
      "text/html": [
       "<p>[[ 0.14 0    0    0    ]<br>\n",
       " [ 0    0.12 0    0    ]<br>\n",
       " [ 0    0    0.07 0    ]<br>\n",
       " [ 0    0    0    0.02 ]]</p>"
      ],
      "text/plain": [
       "class=TriangularMatrix dimension=4 implementation=class=MatrixImplementation name=Unnamed rows=4 columns=4 values=[0.14,0,0,0,0,0.12,0,0,0,0,0.07,0,0,0,0,0.02]"
      ]
     },
     "execution_count": 25,
     "metadata": {},
     "output_type": "execute_result"
    }
   ],
   "source": [
    "B = parameterCovariance\n",
    "LB = B.computeCholesky()\n",
    "LB"
   ]
  },
  {
   "cell_type": "code",
   "execution_count": 26,
   "metadata": {},
   "outputs": [
    {
     "data": {
      "text/html": [
       "<p>[[ 4e-14        0        0    ]<br>\n",
       " [     0        1.69     0    ]<br>\n",
       " [     0        0        1.69 ]]</p>"
      ],
      "text/plain": [
       "class=CovarianceMatrix dimension=3 implementation=class=MatrixImplementation name=Unnamed rows=3 columns=3 values=[4e-14,0,0,0,1.69,0,0,0,1.69]"
      ]
     },
     "execution_count": 26,
     "metadata": {},
     "output_type": "execute_result"
    }
   ],
   "source": [
    "errorCovariance"
   ]
  },
  {
   "cell_type": "code",
   "execution_count": 27,
   "metadata": {},
   "outputs": [
    {
     "data": {
      "text/html": [
       "<p>10x30<br>\n",
       "[[ 4e-14        0        0        0        0        0        0        0        0        0        0        0        0        0        0        0        0        0        0        0        0        0        0        0        0        0        0        0        0        0    ]<br>\n",
       " [     0        1.69     0        0        0        0        0        0        0        0        0        0        0        0        0        0        0        0        0        0        0        0        0        0        0        0        0        0        0        0    ]<br>\n",
       " [     0        0        1.69     0        0        0        0        0        0        0        0        0        0        0        0        0        0        0        0        0        0        0        0        0        0        0        0        0        0        0    ]<br>\n",
       " [     0        0        0    4e-14        0        0        0        0        0        0        0        0        0        0        0        0        0        0        0        0        0        0        0        0        0        0        0        0        0        0    ]<br>\n",
       " [     0        0        0        0        1.69     0        0        0        0        0        0        0        0        0        0        0        0        0        0        0        0        0        0        0        0        0        0        0        0        0    ]<br>\n",
       " [     0        0        0        0        0        1.69     0        0        0        0        0        0        0        0        0        0        0        0        0        0        0        0        0        0        0        0        0        0        0        0    ]<br>\n",
       " [     0        0        0        0        0        0    4e-14        0        0        0        0        0        0        0        0        0        0        0        0        0        0        0        0        0        0        0        0        0        0        0    ]<br>\n",
       " [     0        0        0        0        0        0        0        1.69     0        0        0        0        0        0        0        0        0        0        0        0        0        0        0        0        0        0        0        0        0        0    ]<br>\n",
       " [     0        0        0        0        0        0        0        0        1.69     0        0        0        0        0        0        0        0        0        0        0        0        0        0        0        0        0        0        0        0        0    ]<br>\n",
       " [     0        0        0        0        0        0        0        0        0    4e-14        0        0        0        0        0        0        0        0        0        0        0        0        0        0        0        0        0        0        0        0    ]]</p>"
      ],
      "text/plain": [
       "class=Matrix implementation=class=MatrixImplementation name=Unnamed rows=10 columns=30 values=[4e-14,0,0,0,0,0,0,0,0,0,0,1.69,0,0,0,0,0,0,0,0,0,0,1.69,0,0,0,0,0,0,0,0,0,0,4e-14,0,0,0,0,0,0,0,0,0,0,1.69,0,0,0,0,0,0,0,0,0,0,1.69,0,0,0,0,0,0,0,0,0,0,4e-14,0,0,0,0,0,0,0,0,0,0,1.69,0,0,0,0,0,0,0,0,0,0,1.69,0,0,0,0,0,0,0,0,0,0,4e-14,0,0,0,0,0,0,0,0,0,0,0,0,0,0,0,0,0,0,0,0,0,0,0,0,0,0,0,0,0,0,0,0,0,0,0,0,0,0,0,0,0,0,0,0,0,0,0,0,0,0,0,0,0,0,0,0,0,0,0,0,0,0,0,0,0,0,0,0,0,0,0,0,0,0,0,0,0,0,0,0,0,0,0,0,0,0,0,0,0,0,0,0,0,0,0,0,0,0,0,0,0,0,0,0,0,0,0,0,0,0,0,0,0,0,0,0,0,0,0,0,0,0,0,0,0,0,0,0,0,0,0,0,0,0,0,0,0,0,0,0,0,0,0,0,0,0,0,0,0,0,0,0,0,0,0,0,0,0,0,0,0,0,0,0,0,0,0,0,0,0,0,0,0,0,0,0,0,0,0,0,0,0,0,0,0,0,0,0,0,0,0,0,0,0,0,0,0,0,0,0]"
      ]
     },
     "execution_count": 27,
     "metadata": {},
     "output_type": "execute_result"
    }
   ],
   "source": [
    "dimension = errorCovariance.getDimension()\n",
    "R = ot.CovarianceMatrix(deltay.getSize())\n",
    "for i in range(size):\n",
    "    for j in range(dimension):\n",
    "        for k in range(dimension):\n",
    "            R[i * dimension + j, i * dimension + k] = errorCovariance[j,k]\n",
    "R[0:10,:]"
   ]
  },
  {
   "cell_type": "code",
   "execution_count": 28,
   "metadata": {
    "scrolled": true
   },
   "outputs": [
    {
     "data": {
      "text/html": [
       "<p>10x30<br>\n",
       "[[ 2e-07       0       0       0       0       0       0       0       0       0       0       0       0       0       0       0       0       0       0       0       0       0       0       0       0       0       0       0       0       0   ]<br>\n",
       " [     0       1.3     0       0       0       0       0       0       0       0       0       0       0       0       0       0       0       0       0       0       0       0       0       0       0       0       0       0       0       0   ]<br>\n",
       " [     0       0       1.3     0       0       0       0       0       0       0       0       0       0       0       0       0       0       0       0       0       0       0       0       0       0       0       0       0       0       0   ]<br>\n",
       " [     0       0       0   2e-07       0       0       0       0       0       0       0       0       0       0       0       0       0       0       0       0       0       0       0       0       0       0       0       0       0       0   ]<br>\n",
       " [     0       0       0       0       1.3     0       0       0       0       0       0       0       0       0       0       0       0       0       0       0       0       0       0       0       0       0       0       0       0       0   ]<br>\n",
       " [     0       0       0       0       0       1.3     0       0       0       0       0       0       0       0       0       0       0       0       0       0       0       0       0       0       0       0       0       0       0       0   ]<br>\n",
       " [     0       0       0       0       0       0   2e-07       0       0       0       0       0       0       0       0       0       0       0       0       0       0       0       0       0       0       0       0       0       0       0   ]<br>\n",
       " [     0       0       0       0       0       0       0       1.3     0       0       0       0       0       0       0       0       0       0       0       0       0       0       0       0       0       0       0       0       0       0   ]<br>\n",
       " [     0       0       0       0       0       0       0       0       1.3     0       0       0       0       0       0       0       0       0       0       0       0       0       0       0       0       0       0       0       0       0   ]<br>\n",
       " [     0       0       0       0       0       0       0       0       0   2e-07       0       0       0       0       0       0       0       0       0       0       0       0       0       0       0       0       0       0       0       0   ]]</p>"
      ],
      "text/plain": [
       "class=Matrix implementation=class=MatrixImplementation name=Unnamed rows=10 columns=30 values=[2e-07,0,0,0,0,0,0,0,0,0,0,1.3,0,0,0,0,0,0,0,0,0,0,1.3,0,0,0,0,0,0,0,0,0,0,2e-07,0,0,0,0,0,0,0,0,0,0,1.3,0,0,0,0,0,0,0,0,0,0,1.3,0,0,0,0,0,0,0,0,0,0,2e-07,0,0,0,0,0,0,0,0,0,0,1.3,0,0,0,0,0,0,0,0,0,0,1.3,0,0,0,0,0,0,0,0,0,0,2e-07,0,0,0,0,0,0,0,0,0,0,0,0,0,0,0,0,0,0,0,0,0,0,0,0,0,0,0,0,0,0,0,0,0,0,0,0,0,0,0,0,0,0,0,0,0,0,0,0,0,0,0,0,0,0,0,0,0,0,0,0,0,0,0,0,0,0,0,0,0,0,0,0,0,0,0,0,0,0,0,0,0,0,0,0,0,0,0,0,0,0,0,0,0,0,0,0,0,0,0,0,0,0,0,0,0,0,0,0,0,0,0,0,0,0,0,0,0,0,0,0,0,0,0,0,0,0,0,0,0,0,0,0,0,0,0,0,0,0,0,0,0,0,0,0,0,0,0,0,0,0,0,0,0,0,0,0,0,0,0,0,0,0,0,0,0,0,0,0,0,0,0,0,0,0,0,0,0,0,0,0,0,0,0,0,0,0,0,0,0,0,0,0,0,0,0,0,0,0,0,0]"
      ]
     },
     "execution_count": 28,
     "metadata": {},
     "output_type": "execute_result"
    }
   ],
   "source": [
    "LR = R.computeCholesky()\n",
    "LR[0:10,:]"
   ]
  },
  {
   "cell_type": "code",
   "execution_count": 29,
   "metadata": {
    "scrolled": true
   },
   "outputs": [
    {
     "data": {
      "text/html": [
       "<p>[[  7.14286  0        0        0       ]<br>\n",
       " [  0        8.33333  0        0       ]<br>\n",
       " [  0        0       14.2857   0       ]<br>\n",
       " [  0        0        0       50       ]]</p>"
      ],
      "text/plain": [
       "class=Matrix implementation=class=MatrixImplementation name=Unnamed rows=4 columns=4 values=[7.14286,0,0,0,0,8.33333,0,0,0,0,14.2857,0,0,0,0,50]"
      ]
     },
     "execution_count": 29,
     "metadata": {},
     "output_type": "execute_result"
    }
   ],
   "source": [
    "parameterDimension = candidate.getDimension()\n",
    "ILB = ot.IdentityMatrix(parameterDimension)\n",
    "invLB = LB.solveLinearSystem(ILB)\n",
    "invLB[0:5,:]"
   ]
  },
  {
   "cell_type": "code",
   "execution_count": 30,
   "metadata": {},
   "outputs": [
    {
     "name": "stdout",
     "output_type": "stream",
     "text": [
      "0 [[  -2.89841e-05 -57.5967       78.9632      ]\n",
      " [   2.60114e-05  49.8552      -63.9447      ]\n",
      " [   1.7956e-05   59.8535      -97.2619      ]\n",
      " [  -4.188e-07    -1.396         2.2685      ]]\n",
      "1 [[  -2.36888e-05 -47.0739       64.5367      ]\n",
      " [   2.12592e-05  40.7467      -52.2621      ]\n",
      " [   1.46755e-05  48.9184      -79.4923      ]\n",
      " [  -3.42286e-07  -1.14095       1.85405     ]]\n",
      "2 [[  -2.66114e-05 -52.8817       72.4991      ]\n",
      " [   2.38821e-05  45.7739      -58.71        ]\n",
      " [   1.64861e-05  54.9537      -89.2998      ]\n",
      " [  -3.84516e-07  -1.28172       2.0828      ]]\n",
      "3 [[   -3.0868e-05   -61.3402        84.0955      ]\n",
      " [    2.7702e-05    53.0956       -68.1008      ]\n",
      " [    1.91231e-05   63.7437      -103.584       ]\n",
      " [   -4.4602e-07    -1.48673        2.41594     ]]\n",
      "4 [[  -2.15444e-05 -42.8126       58.6947      ]\n",
      " [   1.93347e-05  37.0582      -47.5312      ]\n",
      " [   1.3347e-05   44.4902      -72.2965      ]\n",
      " [  -3.11301e-07  -1.03767       1.68622     ]]\n",
      "5 [[  -2.81713e-05 -55.9814       76.7487      ]\n",
      " [   2.52819e-05  48.457       -62.1514      ]\n",
      " [   1.74525e-05  58.1749      -94.5343      ]\n",
      " [  -4.07055e-07  -1.35685       2.20488     ]]\n",
      "6 [[  -2.59698e-05 -51.6067       70.7511      ]\n",
      " [   2.33062e-05  44.6703      -57.2945      ]\n",
      " [   1.60886e-05  53.6288      -87.1468      ]\n",
      " [  -3.75245e-07  -1.25082       2.03258     ]]\n",
      "7 [[   -3.11457e-05  -61.8921        84.852       ]\n",
      " [    2.79513e-05   53.5732       -68.7135      ]\n",
      " [    1.92952e-05   64.3172      -104.515       ]\n",
      " [   -4.50033e-07   -1.50011        2.43768     ]]\n",
      "8 [[  -2.9564e-05  -58.7489       80.5428      ]\n",
      " [   2.65318e-05  50.8525      -65.2239      ]\n",
      " [   1.83153e-05  61.0508      -99.2076      ]\n",
      " [  -4.27178e-07  -1.42393       2.31388     ]]\n",
      "9 [[  -2.92205e-05 -58.0665       79.6072      ]\n",
      " [   2.62236e-05  50.2618      -64.4663      ]\n",
      " [   1.81025e-05  60.3417      -98.0552      ]\n",
      " [  -4.22216e-07  -1.40739       2.287       ]]\n"
     ]
    },
    {
     "data": {
      "text/html": [
       "<p>4x30<br>\n",
       "[[   -2.89841e-05  -57.5967        78.9632        -2.36888e-05  -47.0739        64.5367        -2.66114e-05  -52.8817        72.4991        -3.0868e-05   -61.3402        84.0955        -2.15444e-05  -42.8126        58.6947        -2.81713e-05  -55.9814        76.7487        -2.59698e-05  -51.6067        70.7511        -3.11457e-05  -61.8921        84.852         -2.9564e-05   -58.7489        80.5428        -2.92205e-05  -58.0665        79.6072      ]<br>\n",
       " [    2.60114e-05   49.8552       -63.9447         2.12592e-05   40.7467       -52.2621         2.38821e-05   45.7739       -58.71           2.7702e-05    53.0956       -68.1008         1.93347e-05   37.0582       -47.5312         2.52819e-05   48.457        -62.1514         2.33062e-05   44.6703       -57.2945         2.79513e-05   53.5732       -68.7135         2.65318e-05   50.8525       -65.2239         2.62236e-05   50.2618       -64.4663      ]<br>\n",
       " [    1.7956e-05    59.8535       -97.2619         1.46755e-05   48.9184       -79.4923         1.64861e-05   54.9537       -89.2998         1.91231e-05   63.7437      -103.584          1.3347e-05    44.4902       -72.2965         1.74525e-05   58.1749       -94.5343         1.60886e-05   53.6288       -87.1468         1.92952e-05   64.3172      -104.515          1.83153e-05   61.0508       -99.2076         1.81025e-05   60.3417       -98.0552      ]<br>\n",
       " [   -4.188e-07     -1.396          2.2685        -3.42286e-07   -1.14095        1.85405       -3.84516e-07   -1.28172        2.0828        -4.4602e-07    -1.48673        2.41594       -3.11301e-07   -1.03767        1.68622       -4.07055e-07   -1.35685        2.20488       -3.75245e-07   -1.25082        2.03258       -4.50033e-07   -1.50011        2.43768       -4.27178e-07   -1.42393        2.31388       -4.22216e-07   -1.40739        2.287       ]]</p>"
      ],
      "text/plain": [
       "class=Matrix implementation=class=MatrixImplementation name=Unnamed rows=4 columns=30 values=[-2.89841e-05,2.60114e-05,1.7956e-05,-4.188e-07,-57.5967,49.8552,59.8535,-1.396,78.9632,-63.9447,-97.2619,2.2685,-2.36888e-05,2.12592e-05,1.46755e-05,-3.42286e-07,-47.0739,40.7467,48.9184,-1.14095,64.5367,-52.2621,-79.4923,1.85405,-2.66114e-05,2.38821e-05,1.64861e-05,-3.84516e-07,-52.8817,45.7739,54.9537,-1.28172,72.4991,-58.71,-89.2998,2.0828,-3.0868e-05,2.7702e-05,1.91231e-05,-4.4602e-07,-61.3402,53.0956,63.7437,-1.48673,84.0955,-68.1008,-103.584,2.41594,-2.15444e-05,1.93347e-05,1.3347e-05,-3.11301e-07,-42.8126,37.0582,44.4902,-1.03767,58.6947,-47.5312,-72.2965,1.68622,-2.81713e-05,2.52819e-05,1.74525e-05,-4.07055e-07,-55.9814,48.457,58.1749,-1.35685,76.7487,-62.1514,-94.5343,2.20488,-2.59698e-05,2.33062e-05,1.60886e-05,-3.75245e-07,-51.6067,44.6703,53.6288,-1.25082,70.7511,-57.2945,-87.1468,2.03258,-3.11457e-05,2.79513e-05,1.92952e-05,-4.50033e-07,-61.8921,53.5732,64.3172,-1.50011,84.852,-68.7135,-104.515,2.43768,-2.9564e-05,2.65318e-05,1.83153e-05,-4.27178e-07,-58.7489,50.8525,61.0508,-1.42393,80.5428,-65.2239,-99.2076,2.31388,-2.92205e-05,2.62236e-05,1.81025e-05,-4.22216e-07,-58.0665,50.2618,60.3417,-1.40739,79.6072,-64.4663,-98.0552,2.287]"
      ]
     },
     "execution_count": 30,
     "metadata": {},
     "output_type": "execute_result"
    }
   ],
   "source": [
    "transposedGradientObservations = ot.Matrix(parameterDimension,size*outputDimension)\n",
    "for i in range(size):\n",
    "    g = model.parameterGradient(inputObservations[i])\n",
    "    print(i, g)\n",
    "    for j in range(outputDimension):\n",
    "        for k in range(parameterDimension):\n",
    "            transposedGradientObservations[k,i*outputDimension + j] = g[k,j]\n",
    "transposedGradientObservations"
   ]
  },
  {
   "cell_type": "code",
   "execution_count": 31,
   "metadata": {},
   "outputs": [
    {
     "data": {
      "text/html": [
       "<p>30x4<br>\n",
       "[[   -2.89841e-05    2.60114e-05    1.7956e-05    -4.188e-07   ]<br>\n",
       " [  -57.5967        49.8552        59.8535        -1.396       ]<br>\n",
       " [   78.9632       -63.9447       -97.2619         2.2685      ]<br>\n",
       " [   -2.36888e-05    2.12592e-05    1.46755e-05   -3.42286e-07 ]<br>\n",
       " [  -47.0739        40.7467        48.9184        -1.14095     ]<br>\n",
       " [   64.5367       -52.2621       -79.4923         1.85405     ]<br>\n",
       " [   -2.66114e-05    2.38821e-05    1.64861e-05   -3.84516e-07 ]<br>\n",
       " [  -52.8817        45.7739        54.9537        -1.28172     ]<br>\n",
       " [   72.4991       -58.71         -89.2998         2.0828      ]<br>\n",
       " [   -3.0868e-05     2.7702e-05     1.91231e-05   -4.4602e-07  ]<br>\n",
       " [  -61.3402        53.0956        63.7437        -1.48673     ]<br>\n",
       " [   84.0955       -68.1008      -103.584          2.41594     ]<br>\n",
       " [   -2.15444e-05    1.93347e-05    1.3347e-05    -3.11301e-07 ]<br>\n",
       " [  -42.8126        37.0582        44.4902        -1.03767     ]<br>\n",
       " [   58.6947       -47.5312       -72.2965         1.68622     ]<br>\n",
       " [   -2.81713e-05    2.52819e-05    1.74525e-05   -4.07055e-07 ]<br>\n",
       " [  -55.9814        48.457         58.1749        -1.35685     ]<br>\n",
       " [   76.7487       -62.1514       -94.5343         2.20488     ]<br>\n",
       " [   -2.59698e-05    2.33062e-05    1.60886e-05   -3.75245e-07 ]<br>\n",
       " [  -51.6067        44.6703        53.6288        -1.25082     ]<br>\n",
       " [   70.7511       -57.2945       -87.1468         2.03258     ]<br>\n",
       " [   -3.11457e-05    2.79513e-05    1.92952e-05   -4.50033e-07 ]<br>\n",
       " [  -61.8921        53.5732        64.3172        -1.50011     ]<br>\n",
       " [   84.852        -68.7135      -104.515          2.43768     ]<br>\n",
       " [   -2.9564e-05     2.65318e-05    1.83153e-05   -4.27178e-07 ]<br>\n",
       " [  -58.7489        50.8525        61.0508        -1.42393     ]<br>\n",
       " [   80.5428       -65.2239       -99.2076         2.31388     ]<br>\n",
       " [   -2.92205e-05    2.62236e-05    1.81025e-05   -4.22216e-07 ]<br>\n",
       " [  -58.0665        50.2618        60.3417        -1.40739     ]<br>\n",
       " [   79.6072       -64.4663       -98.0552         2.287       ]]</p>"
      ],
      "text/plain": [
       "class=Matrix implementation=class=MatrixImplementation name=Unnamed rows=30 columns=4 values=[-2.89841e-05,-57.5967,78.9632,-2.36888e-05,-47.0739,64.5367,-2.66114e-05,-52.8817,72.4991,-3.0868e-05,-61.3402,84.0955,-2.15444e-05,-42.8126,58.6947,-2.81713e-05,-55.9814,76.7487,-2.59698e-05,-51.6067,70.7511,-3.11457e-05,-61.8921,84.852,-2.9564e-05,-58.7489,80.5428,-2.92205e-05,-58.0665,79.6072,2.60114e-05,49.8552,-63.9447,2.12592e-05,40.7467,-52.2621,2.38821e-05,45.7739,-58.71,2.7702e-05,53.0956,-68.1008,1.93347e-05,37.0582,-47.5312,2.52819e-05,48.457,-62.1514,2.33062e-05,44.6703,-57.2945,2.79513e-05,53.5732,-68.7135,2.65318e-05,50.8525,-65.2239,2.62236e-05,50.2618,-64.4663,1.7956e-05,59.8535,-97.2619,1.46755e-05,48.9184,-79.4923,1.64861e-05,54.9537,-89.2998,1.91231e-05,63.7437,-103.584,1.3347e-05,44.4902,-72.2965,1.74525e-05,58.1749,-94.5343,1.60886e-05,53.6288,-87.1468,1.92952e-05,64.3172,-104.515,1.83153e-05,61.0508,-99.2076,1.81025e-05,60.3417,-98.0552,-4.188e-07,-1.396,2.2685,-3.42286e-07,-1.14095,1.85405,-3.84516e-07,-1.28172,2.0828,-4.4602e-07,-1.48673,2.41594,-3.11301e-07,-1.03767,1.68622,-4.07055e-07,-1.35685,2.20488,-3.75245e-07,-1.25082,2.03258,-4.50033e-07,-1.50011,2.43768,-4.27178e-07,-1.42393,2.31388,-4.22216e-07,-1.40739,2.287]"
      ]
     },
     "execution_count": 31,
     "metadata": {},
     "output_type": "execute_result"
    }
   ],
   "source": [
    "gradientObservations = transposedGradientObservations.transpose()\n",
    "gradientObservations"
   ]
  },
  {
   "cell_type": "code",
   "execution_count": 32,
   "metadata": {},
   "outputs": [
    {
     "data": {
      "text/html": [
       "<p>30x4<br>\n",
       "[[ -144.921     130.057      89.7802     -2.094    ]<br>\n",
       " [  -44.3051     38.3501     46.0411     -1.07385  ]<br>\n",
       " [   60.7409    -49.1882    -74.8169      1.745    ]<br>\n",
       " [ -118.444     106.296      73.3775     -1.71143  ]<br>\n",
       " [  -36.2107     31.3436     37.6295     -0.877656 ]<br>\n",
       " [   49.6436    -40.2016    -61.1479      1.42619  ]<br>\n",
       " [ -133.057     119.41       82.4306     -1.92258  ]<br>\n",
       " [  -40.6782     35.2107     42.2721     -0.985939 ]<br>\n",
       " [   55.7685    -45.1616    -68.6922      1.60215  ]<br>\n",
       " [ -154.34      138.51       95.6156     -2.2301   ]<br>\n",
       " [  -47.1848     40.8427     49.0336     -1.14364  ]<br>\n",
       " [   64.6888    -52.3853    -79.6796      1.85842  ]<br>\n",
       " [ -107.722      96.6737     66.7352     -1.55651  ]<br>\n",
       " [  -32.9328     28.5063     34.2232     -0.798209 ]<br>\n",
       " [   45.1498    -36.5625    -55.6127      1.29709  ]<br>\n",
       " [ -140.856     126.41       87.2624     -2.03527  ]<br>\n",
       " [  -43.0626     37.2746     44.75       -1.04373  ]<br>\n",
       " [   59.0375    -47.8088    -72.7187      1.69606  ]<br>\n",
       " [ -129.849     116.531      80.4432     -1.87623  ]<br>\n",
       " [  -39.6974     34.3618     41.2529     -0.962167 ]<br>\n",
       " [   54.4239    -44.0727    -67.036       1.56352  ]<br>\n",
       " [ -155.728     139.756      96.4758     -2.25016  ]<br>\n",
       " [  -47.6093     41.2102     49.4748     -1.15393  ]<br>\n",
       " [   65.2708    -52.8565    -80.3965      1.87514  ]<br>\n",
       " [ -147.82      132.659      91.5763     -2.13589  ]<br>\n",
       " [  -45.1915     39.1173     46.9622     -1.09533  ]<br>\n",
       " [   61.956     -50.1722    -76.3136      1.77991  ]<br>\n",
       " [ -146.103     131.118      90.5125     -2.11108  ]<br>\n",
       " [  -44.6665     38.6629     46.4167     -1.0826   ]<br>\n",
       " [   61.2363    -49.5894    -75.4271      1.75923  ]]</p>"
      ],
      "text/plain": [
       "class=Matrix implementation=class=MatrixImplementation name=Unnamed rows=30 columns=4 values=[-144.921,-44.3051,60.7409,-118.444,-36.2107,49.6436,-133.057,-40.6782,55.7685,-154.34,-47.1848,64.6888,-107.722,-32.9328,45.1498,-140.856,-43.0626,59.0375,-129.849,-39.6974,54.4239,-155.728,-47.6093,65.2708,-147.82,-45.1915,61.956,-146.103,-44.6665,61.2363,130.057,38.3501,-49.1882,106.296,31.3436,-40.2016,119.41,35.2107,-45.1616,138.51,40.8427,-52.3853,96.6737,28.5063,-36.5625,126.41,37.2746,-47.8088,116.531,34.3618,-44.0727,139.756,41.2102,-52.8565,132.659,39.1173,-50.1722,131.118,38.6629,-49.5894,89.7802,46.0411,-74.8169,73.3775,37.6295,-61.1479,82.4306,42.2721,-68.6922,95.6156,49.0336,-79.6796,66.7352,34.2232,-55.6127,87.2624,44.75,-72.7187,80.4432,41.2529,-67.036,96.4758,49.4748,-80.3965,91.5763,46.9622,-76.3136,90.5125,46.4167,-75.4271,-2.094,-1.07385,1.745,-1.71143,-0.877656,1.42619,-1.92258,-0.985939,1.60215,-2.2301,-1.14364,1.85842,-1.55651,-0.798209,1.29709,-2.03527,-1.04373,1.69606,-1.87623,-0.962167,1.56352,-2.25016,-1.15393,1.87514,-2.13589,-1.09533,1.77991,-2.11108,-1.0826,1.75923]"
      ]
     },
     "execution_count": 32,
     "metadata": {},
     "output_type": "execute_result"
    }
   ],
   "source": [
    "invLRJ = LR.solveLinearSystem(gradientObservations)\n",
    "invLRJ"
   ]
  },
  {
   "cell_type": "code",
   "execution_count": 33,
   "metadata": {},
   "outputs": [
    {
     "data": {
      "text/html": [
       "<p>34x4<br>\n",
       "[[    7.14286     0           0           0        ]<br>\n",
       " [    0           8.33333     0           0        ]<br>\n",
       " [    0           0          14.2857      0        ]<br>\n",
       " [    0           0           0          50        ]<br>\n",
       " [  144.921    -130.057     -89.7802      2.094    ]<br>\n",
       " [   44.3051    -38.3501    -46.0411      1.07385  ]<br>\n",
       " [  -60.7409     49.1882     74.8169     -1.745    ]<br>\n",
       " [  118.444    -106.296     -73.3775      1.71143  ]<br>\n",
       " [   36.2107    -31.3436    -37.6295      0.877656 ]<br>\n",
       " [  -49.6436     40.2016     61.1479     -1.42619  ]<br>\n",
       " [  133.057    -119.41      -82.4306      1.92258  ]<br>\n",
       " [   40.6782    -35.2107    -42.2721      0.985939 ]<br>\n",
       " [  -55.7685     45.1616     68.6922     -1.60215  ]<br>\n",
       " [  154.34     -138.51      -95.6156      2.2301   ]<br>\n",
       " [   47.1848    -40.8427    -49.0336      1.14364  ]<br>\n",
       " [  -64.6888     52.3853     79.6796     -1.85842  ]<br>\n",
       " [  107.722     -96.6737    -66.7352      1.55651  ]<br>\n",
       " [   32.9328    -28.5063    -34.2232      0.798209 ]<br>\n",
       " [  -45.1498     36.5625     55.6127     -1.29709  ]<br>\n",
       " [  140.856    -126.41      -87.2624      2.03527  ]<br>\n",
       " [   43.0626    -37.2746    -44.75        1.04373  ]<br>\n",
       " [  -59.0375     47.8088     72.7187     -1.69606  ]<br>\n",
       " [  129.849    -116.531     -80.4432      1.87623  ]<br>\n",
       " [   39.6974    -34.3618    -41.2529      0.962167 ]<br>\n",
       " [  -54.4239     44.0727     67.036      -1.56352  ]<br>\n",
       " [  155.728    -139.756     -96.4758      2.25016  ]<br>\n",
       " [   47.6093    -41.2102    -49.4748      1.15393  ]<br>\n",
       " [  -65.2708     52.8565     80.3965     -1.87514  ]<br>\n",
       " [  147.82     -132.659     -91.5763      2.13589  ]<br>\n",
       " [   45.1915    -39.1173    -46.9622      1.09533  ]<br>\n",
       " [  -61.956      50.1722     76.3136     -1.77991  ]<br>\n",
       " [  146.103    -131.118     -90.5125      2.11108  ]<br>\n",
       " [   44.6665    -38.6629    -46.4167      1.0826   ]<br>\n",
       " [  -61.2363     49.5894     75.4271     -1.75923  ]]</p>"
      ],
      "text/plain": [
       "class=Matrix implementation=class=MatrixImplementation name=Unnamed rows=34 columns=4 values=[7.14286,0,0,0,144.921,44.3051,-60.7409,118.444,36.2107,-49.6436,133.057,40.6782,-55.7685,154.34,47.1848,-64.6888,107.722,32.9328,-45.1498,140.856,43.0626,-59.0375,129.849,39.6974,-54.4239,155.728,47.6093,-65.2708,147.82,45.1915,-61.956,146.103,44.6665,-61.2363,0,8.33333,0,0,-130.057,-38.3501,49.1882,-106.296,-31.3436,40.2016,-119.41,-35.2107,45.1616,-138.51,-40.8427,52.3853,-96.6737,-28.5063,36.5625,-126.41,-37.2746,47.8088,-116.531,-34.3618,44.0727,-139.756,-41.2102,52.8565,-132.659,-39.1173,50.1722,-131.118,-38.6629,49.5894,0,0,14.2857,0,-89.7802,-46.0411,74.8169,-73.3775,-37.6295,61.1479,-82.4306,-42.2721,68.6922,-95.6156,-49.0336,79.6796,-66.7352,-34.2232,55.6127,-87.2624,-44.75,72.7187,-80.4432,-41.2529,67.036,-96.4758,-49.4748,80.3965,-91.5763,-46.9622,76.3136,-90.5125,-46.4167,75.4271,0,0,0,50,2.094,1.07385,-1.745,1.71143,0.877656,-1.42619,1.92258,0.985939,-1.60215,2.2301,1.14364,-1.85842,1.55651,0.798209,-1.29709,2.03527,1.04373,-1.69606,1.87623,0.962167,-1.56352,2.25016,1.15393,-1.87514,2.13589,1.09533,-1.77991,2.11108,1.0826,-1.75923]"
      ]
     },
     "execution_count": 33,
     "metadata": {},
     "output_type": "execute_result"
    }
   ],
   "source": [
    "llsqA = ot.Matrix(parameterDimension+size*outputDimension,parameterDimension)\n",
    "llsqA[0:parameterDimension,0:parameterDimension] = invLB\n",
    "for i in range(size):\n",
    "    for j in range(outputDimension):\n",
    "        for k in range(parameterDimension):\n",
    "            llsqA[i*outputDimension + j + parameterDimension,k] = -invLRJ[i*outputDimension + j,k]\n",
    "llsqA"
   ]
  },
  {
   "cell_type": "code",
   "execution_count": 34,
   "metadata": {},
   "outputs": [
    {
     "data": {
      "text/html": [
       "<p>[21.0534,2.81188,0.0412909,17.7673,2.17206,-0.800396,19.3025,0.997383,-1.14283,22.9844,4.37497,-0.953322,16.6634,2.00935,-2.4379,20.1177,2.37733,-1.07373,18.7389,2.63422,-1.50666,23.0396,4.01622,-0.374103,21.5103,1.12114,-0.405059,20.46,3.29319,-2.07798]#30</p>"
      ],
      "text/plain": [
       "class=Point name=Unnamed dimension=30 values=[21.0534,2.81188,0.0412909,17.7673,2.17206,-0.800396,19.3025,0.997383,-1.14283,22.9844,4.37497,-0.953322,16.6634,2.00935,-2.4379,20.1177,2.37733,-1.07373,18.7389,2.63422,-1.50666,23.0396,4.01622,-0.374103,21.5103,1.12114,-0.405059,20.46,3.29319,-2.07798]"
      ]
     },
     "execution_count": 34,
     "metadata": {},
     "output_type": "execute_result"
    }
   ],
   "source": [
    "invLRz = LR.solveLinearSystem(deltay)\n",
    "invLRz"
   ]
  },
  {
   "cell_type": "code",
   "execution_count": 35,
   "metadata": {},
   "outputs": [
    {
     "data": {
      "text/html": [
       "<p>[0,0,0,0,-21.0534,-2.81188,-0.0412909,-17.7673,-2.17206,0.800396,-19.3025,-0.997383,1.14283,-22.9844,-4.37497,0.953322,-16.6634,-2.00935,2.4379,-20.1177,-2.37733,1.07373,-18.7389,-2.63422,1.50666,-23.0396,-4.01622,0.374103,-21.5103,-1.12114,0.405059,-20.46,-3.29319,2.07798]#34</p>"
      ],
      "text/plain": [
       "class=Point name=Unnamed dimension=34 values=[0,0,0,0,-21.0534,-2.81188,-0.0412909,-17.7673,-2.17206,0.800396,-19.3025,-0.997383,1.14283,-22.9844,-4.37497,0.953322,-16.6634,-2.00935,2.4379,-20.1177,-2.37733,1.07373,-18.7389,-2.63422,1.50666,-23.0396,-4.01622,0.374103,-21.5103,-1.12114,0.405059,-20.46,-3.29319,2.07798]"
      ]
     },
     "execution_count": 35,
     "metadata": {},
     "output_type": "execute_result"
    }
   ],
   "source": [
    "ybar = ot.Point(parameterDimension+size*outputDimension)\n",
    "for i in range(size):\n",
    "    for j in range(outputDimension):\n",
    "        ybar[i*outputDimension + j + parameterDimension] = -invLRz[i*outputDimension + j]\n",
    "ybar"
   ]
  },
  {
   "cell_type": "code",
   "execution_count": 36,
   "metadata": {},
   "outputs": [
    {
     "data": {
      "text/html": [
       "<p>class=SVDMethod</p>"
      ],
      "text/plain": [
       "class=SVDMethod"
      ]
     },
     "execution_count": 36,
     "metadata": {},
     "output_type": "execute_result"
    }
   ],
   "source": [
    "method = ot.SVDMethod(llsqA)\n",
    "method"
   ]
  },
  {
   "cell_type": "code",
   "execution_count": 37,
   "metadata": {},
   "outputs": [
    {
     "data": {
      "text/html": [
       "<p>[-0.12085,0.154987,-0.184491,0.000351264]</p>"
      ],
      "text/plain": [
       "class=Point name=Unnamed dimension=4 values=[-0.12085,0.154987,-0.184491,0.000351264]"
      ]
     },
     "execution_count": 37,
     "metadata": {},
     "output_type": "execute_result"
    }
   ],
   "source": [
    "deltaTheta = method.solve(ybar)\n",
    "deltaTheta"
   ]
  },
  {
   "cell_type": "code",
   "execution_count": 38,
   "metadata": {},
   "outputs": [
    {
     "data": {
      "text/html": [
       "<p>[1.27915,1.35499,0.515509,0.200351]</p>"
      ],
      "text/plain": [
       "class=Point name=Unnamed dimension=4 values=[1.27915,1.35499,0.515509,0.200351]"
      ]
     },
     "execution_count": 38,
     "metadata": {},
     "output_type": "execute_result"
    }
   ],
   "source": [
    "thetaStar = deltaTheta + candidate\n",
    "thetaStar"
   ]
  },
  {
   "cell_type": "code",
   "execution_count": 39,
   "metadata": {},
   "outputs": [
    {
     "data": {
      "text/html": [
       "<p>[[  0.00720375   0.00733857   0.000981353 -1.86847e-06 ]<br>\n",
       " [  0.00733857   0.0075243    0.000947296 -1.80362e-06 ]<br>\n",
       " [  0.000981353  0.000947296  0.000197625  8.95317e-06 ]<br>\n",
       " [ -1.86847e-06 -1.80362e-06  8.95317e-06  0.000399983 ]]</p>"
      ],
      "text/plain": [
       "class=CovarianceMatrix dimension=4 implementation=class=MatrixImplementation name=Unnamed rows=4 columns=4 values=[0.00720375,0.00733857,0.000981353,-1.86847e-06,0.00733857,0.0075243,0.000947296,-1.80362e-06,0.000981353,0.000947296,0.000197625,8.95317e-06,-1.86847e-06,-1.80362e-06,8.95317e-06,0.000399983]"
      ]
     },
     "execution_count": 39,
     "metadata": {},
     "output_type": "execute_result"
    }
   ],
   "source": [
    "method.getGramInverse()"
   ]
  },
  {
   "cell_type": "code",
   "execution_count": null,
   "metadata": {},
   "outputs": [],
   "source": []
  }
 ],
 "metadata": {
  "kernelspec": {
   "display_name": "Python 3",
   "language": "python",
   "name": "python3"
  },
  "language_info": {
   "codemirror_mode": {
    "name": "ipython",
    "version": 3
   },
   "file_extension": ".py",
   "mimetype": "text/x-python",
   "name": "python",
   "nbconvert_exporter": "python",
   "pygments_lexer": "ipython3",
   "version": "3.7.1"
  }
 },
 "nbformat": 4,
 "nbformat_minor": 2
}
