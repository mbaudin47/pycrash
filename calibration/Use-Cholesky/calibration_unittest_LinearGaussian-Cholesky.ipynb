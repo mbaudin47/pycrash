{
 "cells": [
  {
   "cell_type": "code",
   "execution_count": 1,
   "metadata": {},
   "outputs": [],
   "source": [
    "import numpy as np\n",
    "import openturns as ot"
   ]
  },
  {
   "cell_type": "code",
   "execution_count": 2,
   "metadata": {},
   "outputs": [],
   "source": [
    "ot.RandomGenerator.SetSeed(0)"
   ]
  },
  {
   "cell_type": "code",
   "execution_count": 3,
   "metadata": {},
   "outputs": [
    {
     "data": {
      "text/html": [
       "<TABLE><TR><TD></TD><TH>v0</TH></TR>\n",
       "<TR><TD>0</TD><TD>0.5</TD></TR>\n",
       "<TR><TD>1</TD><TD>1.5</TD></TR>\n",
       "<TR><TD>2</TD><TD>2.5</TD></TR>\n",
       "<TR><TD>3</TD><TD>3.5</TD></TR>\n",
       "<TR><TD>4</TD><TD>4.5</TD></TR>\n",
       "<TR><TD>5</TD><TD>5.5</TD></TR>\n",
       "<TR><TD>6</TD><TD>6.5</TD></TR>\n",
       "<TR><TD>7</TD><TD>7.5</TD></TR>\n",
       "<TR><TD>8</TD><TD>8.5</TD></TR>\n",
       "<TR><TD>9</TD><TD>9.5</TD></TR>\n",
       "</TABLE>"
      ],
      "text/plain": [
       "class=Sample name=Unnamed implementation=class=SampleImplementation name=Unnamed size=10 dimension=1 data=[[0.5],[1.5],[2.5],[3.5],[4.5],[5.5],[6.5],[7.5],[8.5],[9.5]]"
      ]
     },
     "execution_count": 3,
     "metadata": {},
     "output_type": "execute_result"
    }
   ],
   "source": [
    "size = 10\n",
    "inputObservations = ot.Sample([0.5 + i for i in range(size)],1)\n",
    "inputObservations"
   ]
  },
  {
   "cell_type": "markdown",
   "metadata": {},
   "source": [
    "La fonction est :\n",
    "$$\n",
    "g_1(x) = a + b \\exp(c x), \\qquad g_2(x) = \\frac{a x^2 + b}{c + x^2}\n",
    "$$\n",
    "pour tout $x\\in[0.5,9.5]$."
   ]
  },
  {
   "cell_type": "code",
   "execution_count": 4,
   "metadata": {},
   "outputs": [
    {
     "data": {
      "text/html": [
       "<p>[a,b,c,x]->[a + b * exp(c * x),(a * x^2 + b) / (c + x^2)]</p>"
      ],
      "text/plain": [
       "class=SymbolicFunction name=Unnamed implementation=class=FunctionImplementation name=Unnamed description=[a,b,c,x,y0,y1] evaluationImplementation=class=SymbolicEvaluation name=Unnamed inputVariablesNames=[a,b,c,x] outputVariablesNames=[y0,y1] formulas=[a + b * exp(c * x),(a * x^2 + b) / (c + x^2)] gradientImplementation=class=SymbolicGradient name=Unnamed evaluation=class=SymbolicEvaluation name=Unnamed inputVariablesNames=[a,b,c,x] outputVariablesNames=[y0,y1] formulas=[a + b * exp(c * x),(a * x^2 + b) / (c + x^2)] hessianImplementation=class=SymbolicHessian name=Unnamed evaluation=class=SymbolicEvaluation name=Unnamed inputVariablesNames=[a,b,c,x] outputVariablesNames=[y0,y1] formulas=[a + b * exp(c * x),(a * x^2 + b) / (c + x^2)]"
      ]
     },
     "execution_count": 4,
     "metadata": {},
     "output_type": "execute_result"
    }
   ],
   "source": [
    "inVars = [\"a\", \"b\", \"c\", \"x\"]\n",
    "formulas = [\"a + b * exp(c * x)\", \"(a * x^2 + b) / (c + x^2)\"]\n",
    "g = ot.SymbolicFunction(inVars, formulas)\n",
    "g"
   ]
  },
  {
   "cell_type": "code",
   "execution_count": 5,
   "metadata": {},
   "outputs": [
    {
     "data": {
      "text/html": [
       "<p>ParametricEvaluation([a,b,c,x]->[a + b * exp(c * x),(a * x^2 + b) / (c + x^2)], parameters positions=[0,1,2], parameters=[a : 2.8, b : 1.2, c : 0.5], input positions=[3])</p>"
      ],
      "text/plain": [
       "class=FunctionImplementation name=Unnamed description=[x,y0,y1] evaluationImplementation=class=ParametricEvaluation function=class=Function name=Unnamed implementation=class=FunctionImplementation name=Unnamed description=[a,b,c,x,y0,y1] evaluationImplementation=class=SymbolicEvaluation name=Unnamed inputVariablesNames=[a,b,c,x] outputVariablesNames=[y0,y1] formulas=[a + b * exp(c * x),(a * x^2 + b) / (c + x^2)] gradientImplementation=class=SymbolicGradient name=Unnamed evaluation=class=SymbolicEvaluation name=Unnamed inputVariablesNames=[a,b,c,x] outputVariablesNames=[y0,y1] formulas=[a + b * exp(c * x),(a * x^2 + b) / (c + x^2)] hessianImplementation=class=SymbolicHessian name=Unnamed evaluation=class=SymbolicEvaluation name=Unnamed inputVariablesNames=[a,b,c,x] outputVariablesNames=[y0,y1] formulas=[a + b * exp(c * x),(a * x^2 + b) / (c + x^2)] parameters positions=[0,1,2] parameters=class=PointWithDescription name=Unnamed dimension=3 description=[a,b,c] values=[2.8,1.2,0.5] input positions=[3] gradientImplementation=class=ParametricGradient evaluation=class=ParametricEvaluation function=class=Function name=Unnamed implementation=class=FunctionImplementation name=Unnamed description=[a,b,c,x,y0,y1] evaluationImplementation=class=SymbolicEvaluation name=Unnamed inputVariablesNames=[a,b,c,x] outputVariablesNames=[y0,y1] formulas=[a + b * exp(c * x),(a * x^2 + b) / (c + x^2)] gradientImplementation=class=SymbolicGradient name=Unnamed evaluation=class=SymbolicEvaluation name=Unnamed inputVariablesNames=[a,b,c,x] outputVariablesNames=[y0,y1] formulas=[a + b * exp(c * x),(a * x^2 + b) / (c + x^2)] hessianImplementation=class=SymbolicHessian name=Unnamed evaluation=class=SymbolicEvaluation name=Unnamed inputVariablesNames=[a,b,c,x] outputVariablesNames=[y0,y1] formulas=[a + b * exp(c * x),(a * x^2 + b) / (c + x^2)] parameters positions=[0,1,2] parameters=class=PointWithDescription name=Unnamed dimension=3 description=[a,b,c] values=[2.8,1.2,0.5] input positions=[3] hessianImplementation=class=ParametricHessian evaluation=class=ParametricEvaluation function=class=Function name=Unnamed implementation=class=FunctionImplementation name=Unnamed description=[a,b,c,x,y0,y1] evaluationImplementation=class=SymbolicEvaluation name=Unnamed inputVariablesNames=[a,b,c,x] outputVariablesNames=[y0,y1] formulas=[a + b * exp(c * x),(a * x^2 + b) / (c + x^2)] gradientImplementation=class=SymbolicGradient name=Unnamed evaluation=class=SymbolicEvaluation name=Unnamed inputVariablesNames=[a,b,c,x] outputVariablesNames=[y0,y1] formulas=[a + b * exp(c * x),(a * x^2 + b) / (c + x^2)] hessianImplementation=class=SymbolicHessian name=Unnamed evaluation=class=SymbolicEvaluation name=Unnamed inputVariablesNames=[a,b,c,x] outputVariablesNames=[y0,y1] formulas=[a + b * exp(c * x),(a * x^2 + b) / (c + x^2)] parameters positions=[0,1,2] parameters=class=PointWithDescription name=Unnamed dimension=3 description=[a,b,c] values=[2.8,1.2,0.5] input positions=[3]"
      ]
     },
     "execution_count": 5,
     "metadata": {},
     "output_type": "execute_result"
    }
   ],
   "source": [
    "p_ref = [2.8, 1.2, 0.5]\n",
    "params = [0, 1, 2]\n",
    "model = ot.ParametricFunction(g, params, p_ref)\n",
    "model"
   ]
  },
  {
   "cell_type": "code",
   "execution_count": 6,
   "metadata": {},
   "outputs": [
    {
     "data": {
      "text/html": [
       "<p>Normal(mu = [0,0], sigma = [0.05,0.05], R = [[ 1 0 ]<br>\n",
       " [ 0 1 ]])</p>"
      ],
      "text/plain": [
       "class=Normal name=Normal dimension=2 mean=class=Point name=Unnamed dimension=2 values=[0,0] sigma=class=Point name=Unnamed dimension=2 values=[0.05,0.05] correlationMatrix=class=CorrelationMatrix dimension=2 implementation=class=MatrixImplementation name=Unnamed rows=2 columns=2 values=[1,0,0,1]"
      ]
     },
     "execution_count": 6,
     "metadata": {},
     "output_type": "execute_result"
    }
   ],
   "source": [
    "observationOutputNoise = ot.Normal([0.0]*2, [0.05]*2, ot.IdentityMatrix(2))\n",
    "observationOutputNoise"
   ]
  },
  {
   "cell_type": "code",
   "execution_count": 7,
   "metadata": {},
   "outputs": [
    {
     "data": {
      "text/html": [
       "<TABLE><TR><TD></TD><TH>y0</TH><TH>y1</TH></TR>\n",
       "<TR><TD>0</TD><TD>4.3712405825862275</TD><TD>2.4700246782225004</TD></TR>\n",
       "<TR><TD>1</TD><TD>5.318486738937189</TD><TD>2.787546637314156</TD></TR>\n",
       "<TR><TD>2</TD><TD>6.879342287223384</TD><TD>2.7878724746968846</TD></TR>\n",
       "<TR><TD>3</TD><TD>9.687772858747595</TD><TD>2.856176190997241</TD></TR>\n",
       "<TR><TD>4</TD><TD>14.225816402753706</TD><TD>2.830019246356121</TD></TR>\n",
       "<TR><TD>5</TD><TD>21.547631981094174</TD><TD>2.806546831724234</TD></TR>\n",
       "<TR><TD>6</TD><TD>33.633904801538165</TD><TD>2.7311773729041513</TD></TR>\n",
       "<TR><TD>7</TD><TD>53.759709344302166</TD><TD>2.791936579596085</TD></TR>\n",
       "<TR><TD>8</TD><TD>86.97628447732126</TD><TD>2.790278218158332</TD></TR>\n",
       "<TR><TD>9</TD><TD>141.4731311526233</TD><TD>2.820070628115641</TD></TR>\n",
       "</TABLE>"
      ],
      "text/plain": [
       "class=Sample name=Unnamed implementation=class=SampleImplementation name=Unnamed size=10 dimension=2 description=[y0,y1] data=[[4.37124,2.47002],[5.31849,2.78755],[6.87934,2.78787],[9.68777,2.85618],[14.2258,2.83002],[21.5476,2.80655],[33.6339,2.73118],[53.7597,2.79194],[86.9763,2.79028],[141.473,2.82007]]"
      ]
     },
     "execution_count": 7,
     "metadata": {},
     "output_type": "execute_result"
    }
   ],
   "source": [
    "outputObservations = model(inputObservations)\n",
    "outputObservations += observationOutputNoise.getSample(size)\n",
    "outputObservations"
   ]
  },
  {
   "cell_type": "code",
   "execution_count": 8,
   "metadata": {},
   "outputs": [
    {
     "data": {
      "text/html": [
       "<p>[1,1,1]</p>"
      ],
      "text/plain": [
       "class=Point name=Unnamed dimension=3 values=[1,1,1]"
      ]
     },
     "execution_count": 8,
     "metadata": {},
     "output_type": "execute_result"
    }
   ],
   "source": [
    "candidate = ot.Point([1.0]*3)\n",
    "candidate"
   ]
  },
  {
   "cell_type": "code",
   "execution_count": 9,
   "metadata": {},
   "outputs": [
    {
     "data": {
      "text/html": [
       "<p>[[  4         0.5       0.333333 ]<br>\n",
       " [  0.5       7         0.25     ]<br>\n",
       " [  0.333333  0.25     12        ]]</p>"
      ],
      "text/plain": [
       "class=CovarianceMatrix dimension=3 implementation=class=MatrixImplementation name=Unnamed rows=3 columns=3 values=[4,0.5,0.333333,0.5,7,0.25,0.333333,0.25,12]"
      ]
     },
     "execution_count": 9,
     "metadata": {},
     "output_type": "execute_result"
    }
   ],
   "source": [
    "parameterCovariance = ot.CovarianceMatrix(3)\n",
    "for i in range(3):\n",
    "    parameterCovariance[i, i] = 3.0 + (1.0 + i) * (1.0 + i)\n",
    "    for j in range(i):\n",
    "        parameterCovariance[i, j] = 1.0 / (1.0 + i + j)\n",
    "parameterCovariance"
   ]
  },
  {
   "cell_type": "code",
   "execution_count": 10,
   "metadata": {},
   "outputs": [
    {
     "data": {
      "text/plain": [
       "3.077522667965874"
      ]
     },
     "execution_count": 10,
     "metadata": {},
     "output_type": "execute_result"
    }
   ],
   "source": [
    "np.linalg.cond(parameterCovariance)"
   ]
  },
  {
   "cell_type": "code",
   "execution_count": 11,
   "metadata": {},
   "outputs": [
    {
     "data": {
      "text/html": [
       "<p>[[ 3   0.5 ]<br>\n",
       " [ 0.5 6   ]]</p>"
      ],
      "text/plain": [
       "class=CovarianceMatrix dimension=2 implementation=class=MatrixImplementation name=Unnamed rows=2 columns=2 values=[3,0.5,0.5,6]"
      ]
     },
     "execution_count": 11,
     "metadata": {},
     "output_type": "execute_result"
    }
   ],
   "source": [
    "errorCovariance = ot.CovarianceMatrix(2)\n",
    "for i in range(2):\n",
    "    errorCovariance[i, i] = 2.0 + (1.0 + i) * (1.0 + i)\n",
    "    for j in range(i):\n",
    "        errorCovariance[i, j] = 1.0 / (1.0 + i + j)\n",
    "errorCovariance"
   ]
  },
  {
   "cell_type": "code",
   "execution_count": 12,
   "metadata": {},
   "outputs": [
    {
     "data": {
      "text/plain": [
       "2.083394336380716"
      ]
     },
     "execution_count": 12,
     "metadata": {},
     "output_type": "execute_result"
    }
   ],
   "source": [
    "np.linalg.cond(errorCovariance)"
   ]
  },
  {
   "cell_type": "code",
   "execution_count": 13,
   "metadata": {},
   "outputs": [],
   "source": [
    "algo = ot.GaussianLinearCalibration(model, inputObservations, outputObservations, candidate, parameterCovariance, errorCovariance, \"SVD\")\n",
    "algo.run()\n",
    "calibrationResult = algo.getResult()"
   ]
  },
  {
   "cell_type": "markdown",
   "metadata": {},
   "source": [
    "## Analysis of the results"
   ]
  },
  {
   "cell_type": "markdown",
   "metadata": {},
   "source": [
    "The `getParameterMAP` method returns the maximum of the posterior distribution of $\\theta$."
   ]
  },
  {
   "cell_type": "code",
   "execution_count": 14,
   "metadata": {},
   "outputs": [
    {
     "data": {
      "text/html": [
       "<p>[5.69186,0.0832132,0.992301]</p>"
      ],
      "text/plain": [
       "class=Point name=Unnamed dimension=3 values=[5.69186,0.0832132,0.992301]"
      ]
     },
     "execution_count": 14,
     "metadata": {},
     "output_type": "execute_result"
    }
   ],
   "source": [
    "thetaStar = calibrationResult.getParameterMAP()\n",
    "thetaStar"
   ]
  },
  {
   "cell_type": "code",
   "execution_count": 15,
   "metadata": {},
   "outputs": [],
   "source": [
    "thetaPosterior = calibrationResult.getParameterPosterior()"
   ]
  },
  {
   "cell_type": "code",
   "execution_count": 16,
   "metadata": {},
   "outputs": [
    {
     "data": {
      "text/html": [
       "<p>[4.45374, 6.92998]<br>\n",
       "[0.076765, 0.0896614]<br>\n",
       "[0.991617, 0.992986]</p>"
      ],
      "text/plain": [
       "class=Interval name=Unnamed dimension=3 lower bound=class=Point name=Unnamed dimension=3 values=[4.45374,0.076765,0.991617] upper bound=class=Point name=Unnamed dimension=3 values=[6.92998,0.0896614,0.992986] finite lower bound=[1,1,1] finite upper bound=[1,1,1]"
      ]
     },
     "execution_count": 16,
     "metadata": {},
     "output_type": "execute_result"
    }
   ],
   "source": [
    "thetaPosterior.computeBilateralConfidenceIntervalWithMarginalProbability(0.95)[0]"
   ]
  },
  {
   "cell_type": "code",
   "execution_count": 17,
   "metadata": {},
   "outputs": [
    {
     "data": {
      "text/html": [
       "<p>[[  0.308302    -0.000665387  6.81135e-05 ]<br>\n",
       " [ -0.000665387  8.36243e-06 -8.86775e-07 ]<br>\n",
       " [  6.81135e-05 -8.86775e-07  9.42234e-08 ]]</p>"
      ],
      "text/plain": [
       "class=CovarianceMatrix dimension=3 implementation=class=MatrixImplementation name=Unnamed rows=3 columns=3 values=[0.308302,-0.000665387,6.81135e-05,-0.000665387,8.36243e-06,-8.86775e-07,6.81135e-05,-8.86775e-07,9.42234e-08]"
      ]
     },
     "execution_count": 17,
     "metadata": {},
     "output_type": "execute_result"
    }
   ],
   "source": [
    "covarianceThetaStar = thetaPosterior.getCovariance()\n",
    "covarianceThetaStar"
   ]
  },
  {
   "cell_type": "markdown",
   "metadata": {},
   "source": [
    "## Calculs génériques"
   ]
  },
  {
   "cell_type": "code",
   "execution_count": 18,
   "metadata": {},
   "outputs": [],
   "source": [
    "parameterDimension = candidate.getDimension()"
   ]
  },
  {
   "cell_type": "code",
   "execution_count": 19,
   "metadata": {},
   "outputs": [
    {
     "data": {
      "text/html": [
       "<TABLE><TR><TD></TD><TH>y0</TH><TH>y1</TH></TR>\n",
       "<TR><TD>0</TD><TD>2.648721270700128</TD><TD>1.0</TD></TR>\n",
       "<TR><TD>1</TD><TD>5.4816890703380645</TD><TD>1.0</TD></TR>\n",
       "<TR><TD>2</TD><TD>13.182493960703473</TD><TD>1.0</TD></TR>\n",
       "<TR><TD>3</TD><TD>34.11545195869231</TD><TD>1.0</TD></TR>\n",
       "<TR><TD>4</TD><TD>91.01713130052181</TD><TD>1.0</TD></TR>\n",
       "</TABLE>"
      ],
      "text/plain": [
       "class=Sample name=Unnamed implementation=class=SampleImplementation name=Unnamed size=5 dimension=2 description=[y0,y1] data=[[2.64872,1],[5.48169,1],[13.1825,1],[34.1155,1],[91.0171,1]]"
      ]
     },
     "execution_count": 19,
     "metadata": {},
     "output_type": "execute_result"
    }
   ],
   "source": [
    "model.setParameter(candidate)\n",
    "modelObservations = model(inputObservations)\n",
    "modelObservations[0:5]"
   ]
  },
  {
   "cell_type": "code",
   "execution_count": 20,
   "metadata": {},
   "outputs": [
    {
     "data": {
      "text/plain": [
       "2"
      ]
     },
     "execution_count": 20,
     "metadata": {},
     "output_type": "execute_result"
    }
   ],
   "source": [
    "outputDimension = modelObservations.getDimension()\n",
    "outputDimension"
   ]
  },
  {
   "cell_type": "code",
   "execution_count": 21,
   "metadata": {
    "scrolled": true
   },
   "outputs": [
    {
     "data": {
      "text/html": [
       "<p>3x20<br>\n",
       "[[      1              0.2            1              0.692308       1              0.862069       1              0.924528       1              0.952941       1              0.968          1              0.976879       1              0.982533       1              0.986348       1              0.989041  ]<br>\n",
       " [      1.64872        0.8            4.48169        0.307692      12.1825         0.137931      33.1155         0.0754717     90.0171         0.0470588    244.692          0.032        665.142          0.0231214   1808.04           0.0174672   4914.77           0.0136519  13359.7            0.0109589 ]<br>\n",
       " [      0.824361      -0.8            6.72253       -0.307692      30.4562        -0.137931     115.904         -0.0754717    405.077         -0.0470588   1345.81          -0.032       4323.42          -0.0231214  13560.3           -0.0174672  41775.5           -0.0136519 126917             -0.0109589 ]]</p>"
      ],
      "text/plain": [
       "class=Matrix implementation=class=MatrixImplementation name=Unnamed rows=3 columns=20 values=[1,1.64872,0.824361,0.2,0.8,-0.8,1,4.48169,6.72253,0.692308,0.307692,-0.307692,1,12.1825,30.4562,0.862069,0.137931,-0.137931,1,33.1155,115.904,0.924528,0.0754717,-0.0754717,1,90.0171,405.077,0.952941,0.0470588,-0.0470588,1,244.692,1345.81,0.968,0.032,-0.032,1,665.142,4323.42,0.976879,0.0231214,-0.0231214,1,1808.04,13560.3,0.982533,0.0174672,-0.0174672,1,4914.77,41775.5,0.986348,0.0136519,-0.0136519,1,13359.7,126917,0.989041,0.0109589,-0.0109589]"
      ]
     },
     "execution_count": 21,
     "metadata": {},
     "output_type": "execute_result"
    }
   ],
   "source": [
    "transposedGradientObservations = ot.Matrix(parameterDimension,size*outputDimension)\n",
    "for i in range(size):\n",
    "    g = model.parameterGradient(inputObservations[i])\n",
    "    for j in range(outputDimension):\n",
    "        for k in range(parameterDimension):\n",
    "            transposedGradientObservations[k,i*outputDimension + j] = g[k,j]\n",
    "transposedGradientObservations"
   ]
  },
  {
   "cell_type": "code",
   "execution_count": 22,
   "metadata": {
    "scrolled": true
   },
   "outputs": [
    {
     "data": {
      "text/html": [
       "<p>20x3<br>\n",
       "[[      1              1.64872        0.824361  ]<br>\n",
       " [      0.2            0.8           -0.8       ]<br>\n",
       " [      1              4.48169        6.72253   ]<br>\n",
       " [      0.692308       0.307692      -0.307692  ]<br>\n",
       " [      1             12.1825        30.4562    ]<br>\n",
       " [      0.862069       0.137931      -0.137931  ]<br>\n",
       " [      1             33.1155       115.904     ]<br>\n",
       " [      0.924528       0.0754717     -0.0754717 ]<br>\n",
       " [      1             90.0171       405.077     ]<br>\n",
       " [      0.952941       0.0470588     -0.0470588 ]<br>\n",
       " [      1            244.692       1345.81      ]<br>\n",
       " [      0.968          0.032         -0.032     ]<br>\n",
       " [      1            665.142       4323.42      ]<br>\n",
       " [      0.976879       0.0231214     -0.0231214 ]<br>\n",
       " [      1           1808.04       13560.3       ]<br>\n",
       " [      0.982533       0.0174672     -0.0174672 ]<br>\n",
       " [      1           4914.77       41775.5       ]<br>\n",
       " [      0.986348       0.0136519     -0.0136519 ]<br>\n",
       " [      1          13359.7       126917         ]<br>\n",
       " [      0.989041       0.0109589     -0.0109589 ]]</p>"
      ],
      "text/plain": [
       "class=Matrix implementation=class=MatrixImplementation name=Unnamed rows=20 columns=3 values=[1,0.2,1,0.692308,1,0.862069,1,0.924528,1,0.952941,1,0.968,1,0.976879,1,0.982533,1,0.986348,1,0.989041,1.64872,0.8,4.48169,0.307692,12.1825,0.137931,33.1155,0.0754717,90.0171,0.0470588,244.692,0.032,665.142,0.0231214,1808.04,0.0174672,4914.77,0.0136519,13359.7,0.0109589,0.824361,-0.8,6.72253,-0.307692,30.4562,-0.137931,115.904,-0.0754717,405.077,-0.0470588,1345.81,-0.032,4323.42,-0.0231214,13560.3,-0.0174672,41775.5,-0.0136519,126917,-0.0109589]"
      ]
     },
     "execution_count": 22,
     "metadata": {},
     "output_type": "execute_result"
    }
   ],
   "source": [
    "gradientObservations = transposedGradientObservations.transpose()\n",
    "gradientObservations"
   ]
  },
  {
   "cell_type": "code",
   "execution_count": 23,
   "metadata": {
    "scrolled": false
   },
   "outputs": [
    {
     "data": {
      "text/html": [
       "<p>[1.72252,1.47002,-0.163202,1.78755,-6.30315,1.78787,-24.4277,1.85618,-76.7913,1.83002,-224.144,1.80655,-632.508,1.73118,-1755.28,1.79194,-4828.79,1.79028,-13219.3,1.82007]#20</p>"
      ],
      "text/plain": [
       "class=Point name=Unnamed dimension=20 values=[1.72252,1.47002,-0.163202,1.78755,-6.30315,1.78787,-24.4277,1.85618,-76.7913,1.83002,-224.144,1.80655,-632.508,1.73118,-1755.28,1.79194,-4828.79,1.79028,-13219.3,1.82007]"
      ]
     },
     "execution_count": 23,
     "metadata": {},
     "output_type": "execute_result"
    }
   ],
   "source": [
    "residuals = outputObservations - modelObservations\n",
    "# Stack the residuals by observation, \n",
    "#   deltay = [residuals[i,0],residuals[i,1],...,residuals[i,outputDimension]]\n",
    "deltay = ot.Point(size*outputDimension)\n",
    "for i in range(size):\n",
    "    for j in range(outputDimension):\n",
    "        deltay[i*outputDimension + j] = residuals[i,j]\n",
    "deltay"
   ]
  },
  {
   "cell_type": "code",
   "execution_count": 24,
   "metadata": {},
   "outputs": [
    {
     "data": {
      "text/plain": [
       "2"
      ]
     },
     "execution_count": 24,
     "metadata": {},
     "output_type": "execute_result"
    }
   ],
   "source": [
    "observationDimension = errorCovariance.getDimension()\n",
    "observationDimension"
   ]
  },
  {
   "cell_type": "code",
   "execution_count": 25,
   "metadata": {},
   "outputs": [
    {
     "data": {
      "text/html": [
       "<p>10x20<br>\n",
       "[[ 3   0.5 0   0   0   0   0   0   0   0   0   0   0   0   0   0   0   0   0   0   ]<br>\n",
       " [ 0.5 6   0   0   0   0   0   0   0   0   0   0   0   0   0   0   0   0   0   0   ]<br>\n",
       " [ 0   0   3   0.5 0   0   0   0   0   0   0   0   0   0   0   0   0   0   0   0   ]<br>\n",
       " [ 0   0   0.5 6   0   0   0   0   0   0   0   0   0   0   0   0   0   0   0   0   ]<br>\n",
       " [ 0   0   0   0   3   0.5 0   0   0   0   0   0   0   0   0   0   0   0   0   0   ]<br>\n",
       " [ 0   0   0   0   0.5 6   0   0   0   0   0   0   0   0   0   0   0   0   0   0   ]<br>\n",
       " [ 0   0   0   0   0   0   3   0.5 0   0   0   0   0   0   0   0   0   0   0   0   ]<br>\n",
       " [ 0   0   0   0   0   0   0.5 6   0   0   0   0   0   0   0   0   0   0   0   0   ]<br>\n",
       " [ 0   0   0   0   0   0   0   0   3   0.5 0   0   0   0   0   0   0   0   0   0   ]<br>\n",
       " [ 0   0   0   0   0   0   0   0   0.5 6   0   0   0   0   0   0   0   0   0   0   ]]</p>"
      ],
      "text/plain": [
       "class=Matrix implementation=class=MatrixImplementation name=Unnamed rows=10 columns=20 values=[3,0.5,0,0,0,0,0,0,0,0,0.5,6,0,0,0,0,0,0,0,0,0,0,3,0.5,0,0,0,0,0,0,0,0,0.5,6,0,0,0,0,0,0,0,0,0,0,3,0.5,0,0,0,0,0,0,0,0,0.5,6,0,0,0,0,0,0,0,0,0,0,3,0.5,0,0,0,0,0,0,0,0,0.5,6,0,0,0,0,0,0,0,0,0,0,3,0.5,0,0,0,0,0,0,0,0,0.5,6,0,0,0,0,0,0,0,0,0,0,0,0,0,0,0,0,0,0,0,0,0,0,0,0,0,0,0,0,0,0,0,0,0,0,0,0,0,0,0,0,0,0,0,0,0,0,0,0,0,0,0,0,0,0,0,0,0,0,0,0,0,0,0,0,0,0,0,0,0,0,0,0,0,0,0,0,0,0,0,0,0,0,0,0,0,0,0,0,0,0,0,0,0,0,0,0,0,0,0,0]"
      ]
     },
     "execution_count": 25,
     "metadata": {},
     "output_type": "execute_result"
    }
   ],
   "source": [
    "R = ot.CovarianceMatrix(deltay.getSize())\n",
    "for i in range(size):\n",
    "    for j in range(observationDimension):\n",
    "        for k in range(observationDimension):\n",
    "            R[i * observationDimension + j, i * observationDimension + k] = errorCovariance[j,k]\n",
    "R[0:10,:]"
   ]
  },
  {
   "cell_type": "markdown",
   "metadata": {},
   "source": [
    "## Par résolution d'un problème de moindres carrés linéaires"
   ]
  },
  {
   "cell_type": "markdown",
   "metadata": {},
   "source": [
    "Calcule le facteur de Cholesky $L_B$ de $B$ tel que : \n",
    "$$\n",
    "B = L_B L_B^T\n",
    "$$\n",
    "où $L_B$ est une matrice triangulaire inférieure."
   ]
  },
  {
   "cell_type": "code",
   "execution_count": 26,
   "metadata": {},
   "outputs": [
    {
     "data": {
      "text/html": [
       "<p>[[ 2         0         0         ]<br>\n",
       " [ 0.25      2.63391   0         ]<br>\n",
       " [ 0.166667  0.0790965 3.45919   ]]</p>"
      ],
      "text/plain": [
       "class=TriangularMatrix dimension=3 implementation=class=MatrixImplementation name=Unnamed rows=3 columns=3 values=[2,0.25,0.166667,0,2.63391,0.0790965,0,0,3.45919]"
      ]
     },
     "execution_count": 26,
     "metadata": {},
     "output_type": "execute_result"
    }
   ],
   "source": [
    "B = ot.CovarianceMatrix(parameterCovariance)\n",
    "LB = B.computeCholesky()\n",
    "LB"
   ]
  },
  {
   "cell_type": "markdown",
   "metadata": {},
   "source": [
    "Calcule le facteur de Cholesky $L_R$ de $R$ tel que : \n",
    "$$\n",
    "R = L_R L_R^T\n",
    "$$\n",
    "où $L_R$ est une matrice triangulaire inférieure."
   ]
  },
  {
   "cell_type": "code",
   "execution_count": 27,
   "metadata": {
    "scrolled": false
   },
   "outputs": [
    {
     "data": {
      "text/html": [
       "<p>5x20<br>\n",
       "[[ 1.73205  0        0        0        0        0        0        0        0        0        0        0        0        0        0        0        0        0        0        0        ]<br>\n",
       " [ 0.288675 2.43242  0        0        0        0        0        0        0        0        0        0        0        0        0        0        0        0        0        0        ]<br>\n",
       " [ 0        0        1.73205  0        0        0        0        0        0        0        0        0        0        0        0        0        0        0        0        0        ]<br>\n",
       " [ 0        0        0.288675 2.43242  0        0        0        0        0        0        0        0        0        0        0        0        0        0        0        0        ]<br>\n",
       " [ 0        0        0        0        1.73205  0        0        0        0        0        0        0        0        0        0        0        0        0        0        0        ]]</p>"
      ],
      "text/plain": [
       "class=Matrix implementation=class=MatrixImplementation name=Unnamed rows=5 columns=20 values=[1.73205,0.288675,0,0,0,0,2.43242,0,0,0,0,0,1.73205,0.288675,0,0,0,0,2.43242,0,0,0,0,0,1.73205,0,0,0,0,0,0,0,0,0,0,0,0,0,0,0,0,0,0,0,0,0,0,0,0,0,0,0,0,0,0,0,0,0,0,0,0,0,0,0,0,0,0,0,0,0,0,0,0,0,0,0,0,0,0,0,0,0,0,0,0,0,0,0,0,0,0,0,0,0,0,0,0,0,0,0]"
      ]
     },
     "execution_count": 27,
     "metadata": {},
     "output_type": "execute_result"
    }
   ],
   "source": [
    "LR = R.computeCholesky()\n",
    "LR[0:5,:]"
   ]
  },
  {
   "cell_type": "markdown",
   "metadata": {},
   "source": [
    "Calcule $L_B^{-1}$, première partie de la matrice de conception étendue."
   ]
  },
  {
   "cell_type": "code",
   "execution_count": 28,
   "metadata": {
    "scrolled": true
   },
   "outputs": [
    {
     "data": {
      "text/html": [
       "<p>[[  0.5         0           0          ]<br>\n",
       " [ -0.0474579   0.379663    0          ]<br>\n",
       " [ -0.0230053  -0.00868124  0.289085   ]]</p>"
      ],
      "text/plain": [
       "class=Matrix implementation=class=MatrixImplementation name=Unnamed rows=3 columns=3 values=[0.5,-0.0474579,-0.0230053,0,0.379663,-0.00868124,0,0,0.289085]"
      ]
     },
     "execution_count": 28,
     "metadata": {},
     "output_type": "execute_result"
    }
   ],
   "source": [
    "ILB = ot.IdentityMatrix(parameterDimension)\n",
    "invLB = LB.solveLinearSystem(ILB)\n",
    "invLB"
   ]
  },
  {
   "cell_type": "markdown",
   "metadata": {},
   "source": [
    "Calcule $L_R^{-1}J$, seconde partie de la matrice de conception étendue."
   ]
  },
  {
   "cell_type": "code",
   "execution_count": 29,
   "metadata": {},
   "outputs": [
    {
     "data": {
      "text/html": [
       "<p>20x3<br>\n",
       "[[     0.57735       0.95189       0.475945  ]<br>\n",
       " [     0.0137038     0.215922     -0.385375  ]<br>\n",
       " [     0.57735       2.5875        3.88126   ]<br>\n",
       " [     0.216098     -0.180584     -0.587117  ]<br>\n",
       " [     0.57735       7.03357      17.5839    ]<br>\n",
       " [     0.285889     -0.778025     -2.14353   ]<br>\n",
       " [     0.57735      19.1192       66.9173    ]<br>\n",
       " [     0.311567     -2.23801      -7.97264   ]<br>\n",
       " [     0.57735      51.9714      233.871     ]<br>\n",
       " [     0.323248     -6.14853     -27.7748    ]<br>\n",
       " [     0.57735     141.273       777.001     ]<br>\n",
       " [     0.329439    -16.7529      -92.2262    ]<br>\n",
       " [     0.57735     384.02       2496.13      ]<br>\n",
       " [     0.333089    -45.5652     -296.245     ]<br>\n",
       " [     0.57735    1043.87       7829.05      ]<br>\n",
       " [     0.335413   -123.878      -929.145     ]<br>\n",
       " [     0.57735    2837.54      24119.1       ]<br>\n",
       " [     0.336982   -336.749     -2862.42      ]<br>\n",
       " [     0.57735    7713.24      73275.8       ]<br>\n",
       " [     0.338089   -915.389     -8696.24      ]]</p>"
      ],
      "text/plain": [
       "class=Matrix implementation=class=MatrixImplementation name=Unnamed rows=20 columns=3 values=[0.57735,0.0137038,0.57735,0.216098,0.57735,0.285889,0.57735,0.311567,0.57735,0.323248,0.57735,0.329439,0.57735,0.333089,0.57735,0.335413,0.57735,0.336982,0.57735,0.338089,0.95189,0.215922,2.5875,-0.180584,7.03357,-0.778025,19.1192,-2.23801,51.9714,-6.14853,141.273,-16.7529,384.02,-45.5652,1043.87,-123.878,2837.54,-336.749,7713.24,-915.389,0.475945,-0.385375,3.88126,-0.587117,17.5839,-2.14353,66.9173,-7.97264,233.871,-27.7748,777.001,-92.2262,2496.13,-296.245,7829.05,-929.145,24119.1,-2862.42,73275.8,-8696.24]"
      ]
     },
     "execution_count": 29,
     "metadata": {},
     "output_type": "execute_result"
    }
   ],
   "source": [
    "invLRJ = LR.solveLinearSystem(gradientObservations)\n",
    "invLRJ"
   ]
  },
  {
   "cell_type": "markdown",
   "metadata": {},
   "source": [
    "Crée $\\bar{A}$, la matrice de conception étendue du problème de moindres carrés linéaires."
   ]
  },
  {
   "cell_type": "code",
   "execution_count": 30,
   "metadata": {},
   "outputs": [
    {
     "data": {
      "text/html": [
       "<p>23x3<br>\n",
       "[[      0.5             0               0          ]<br>\n",
       " [     -0.0474579       0.379663        0          ]<br>\n",
       " [     -0.0230053      -0.00868124      0.289085   ]<br>\n",
       " [     -0.57735        -0.95189        -0.475945   ]<br>\n",
       " [     -0.0137038      -0.215922        0.385375   ]<br>\n",
       " [     -0.57735        -2.5875         -3.88126    ]<br>\n",
       " [     -0.216098        0.180584        0.587117   ]<br>\n",
       " [     -0.57735        -7.03357       -17.5839     ]<br>\n",
       " [     -0.285889        0.778025        2.14353    ]<br>\n",
       " [     -0.57735       -19.1192        -66.9173     ]<br>\n",
       " [     -0.311567        2.23801         7.97264    ]<br>\n",
       " [     -0.57735       -51.9714       -233.871      ]<br>\n",
       " [     -0.323248        6.14853        27.7748     ]<br>\n",
       " [     -0.57735      -141.273        -777.001      ]<br>\n",
       " [     -0.329439       16.7529         92.2262     ]<br>\n",
       " [     -0.57735      -384.02        -2496.13       ]<br>\n",
       " [     -0.333089       45.5652        296.245      ]<br>\n",
       " [     -0.57735     -1043.87        -7829.05       ]<br>\n",
       " [     -0.335413      123.878         929.145      ]<br>\n",
       " [     -0.57735     -2837.54       -24119.1        ]<br>\n",
       " [     -0.336982      336.749        2862.42       ]<br>\n",
       " [     -0.57735     -7713.24       -73275.8        ]<br>\n",
       " [     -0.338089      915.389        8696.24       ]]</p>"
      ],
      "text/plain": [
       "class=Matrix implementation=class=MatrixImplementation name=Unnamed rows=23 columns=3 values=[0.5,-0.0474579,-0.0230053,-0.57735,-0.0137038,-0.57735,-0.216098,-0.57735,-0.285889,-0.57735,-0.311567,-0.57735,-0.323248,-0.57735,-0.329439,-0.57735,-0.333089,-0.57735,-0.335413,-0.57735,-0.336982,-0.57735,-0.338089,0,0.379663,-0.00868124,-0.95189,-0.215922,-2.5875,0.180584,-7.03357,0.778025,-19.1192,2.23801,-51.9714,6.14853,-141.273,16.7529,-384.02,45.5652,-1043.87,123.878,-2837.54,336.749,-7713.24,915.389,0,0,0.289085,-0.475945,0.385375,-3.88126,0.587117,-17.5839,2.14353,-66.9173,7.97264,-233.871,27.7748,-777.001,92.2262,-2496.13,296.245,-7829.05,929.145,-24119.1,2862.42,-73275.8,8696.24]"
      ]
     },
     "execution_count": 30,
     "metadata": {},
     "output_type": "execute_result"
    }
   ],
   "source": [
    "Abar = ot.Matrix(parameterDimension+size*outputDimension,parameterDimension)\n",
    "Abar[0:parameterDimension,0:parameterDimension] = invLB\n",
    "for i in range(size):\n",
    "    for j in range(outputDimension):\n",
    "        for k in range(parameterDimension):\n",
    "            Abar[i*outputDimension + j + parameterDimension,k] = -invLRJ[i*outputDimension + j,k]\n",
    "Abar"
   ]
  },
  {
   "cell_type": "code",
   "execution_count": 31,
   "metadata": {},
   "outputs": [
    {
     "data": {
      "text/plain": [
       "43627.57552713958"
      ]
     },
     "execution_count": 31,
     "metadata": {},
     "output_type": "execute_result"
    }
   ],
   "source": [
    "np.linalg.cond(Abar)"
   ]
  },
  {
   "cell_type": "markdown",
   "metadata": {},
   "source": [
    "Calcule $L_R^{-1} (y - H(\\mu))$, second membre du résidu étendu."
   ]
  },
  {
   "cell_type": "code",
   "execution_count": 32,
   "metadata": {},
   "outputs": [
    {
     "data": {
      "text/html": [
       "<p>[0.994497,0.486322,-0.0942249,0.746067,-3.63913,1.1669,-14.1033,2.43686,-44.3355,6.014,-129.41,16.1008,-365.179,44.0504,-1013.41,121.007,-2787.9,331.599,-7632.14,906.517]#20</p>"
      ],
      "text/plain": [
       "class=Point name=Unnamed dimension=20 values=[0.994497,0.486322,-0.0942249,0.746067,-3.63913,1.1669,-14.1033,2.43686,-44.3355,6.014,-129.41,16.1008,-365.179,44.0504,-1013.41,121.007,-2787.9,331.599,-7632.14,906.517]"
      ]
     },
     "execution_count": 32,
     "metadata": {},
     "output_type": "execute_result"
    }
   ],
   "source": [
    "invLRz = LR.solveLinearSystem(deltay)\n",
    "invLRz"
   ]
  },
  {
   "cell_type": "markdown",
   "metadata": {},
   "source": [
    "Créée $\\bar{y}$ le second membre du problème de moindres carrés linéaires étendu."
   ]
  },
  {
   "cell_type": "code",
   "execution_count": 33,
   "metadata": {},
   "outputs": [
    {
     "data": {
      "text/html": [
       "<p>[0,0,0,-0.994497,-0.486322,0.0942249,-0.746067,3.63913,-1.1669,14.1033,-2.43686,44.3355,-6.014,129.41,-16.1008,365.179,-44.0504,1013.41,-121.007,2787.9,-331.599,7632.14,-906.517]#23</p>"
      ],
      "text/plain": [
       "class=Point name=Unnamed dimension=23 values=[0,0,0,-0.994497,-0.486322,0.0942249,-0.746067,3.63913,-1.1669,14.1033,-2.43686,44.3355,-6.014,129.41,-16.1008,365.179,-44.0504,1013.41,-121.007,2787.9,-331.599,7632.14,-906.517]"
      ]
     },
     "execution_count": 33,
     "metadata": {},
     "output_type": "execute_result"
    }
   ],
   "source": [
    "ybar = ot.Point(parameterDimension+size*outputDimension)\n",
    "for i in range(size):\n",
    "    for j in range(outputDimension):\n",
    "        ybar[i*outputDimension + j + parameterDimension] = -invLRz[i*outputDimension + j]\n",
    "ybar"
   ]
  },
  {
   "cell_type": "code",
   "execution_count": 34,
   "metadata": {},
   "outputs": [
    {
     "data": {
      "text/html": [
       "<p>class=SVDMethod</p>"
      ],
      "text/plain": [
       "class=SVDMethod"
      ]
     },
     "execution_count": 34,
     "metadata": {},
     "output_type": "execute_result"
    }
   ],
   "source": [
    "method = ot.SVDMethod(Abar)\n",
    "method"
   ]
  },
  {
   "cell_type": "code",
   "execution_count": 35,
   "metadata": {},
   "outputs": [
    {
     "data": {
      "text/html": [
       "<p>[4.69186,-0.916787,-0.00769858]</p>"
      ],
      "text/plain": [
       "class=Point name=Unnamed dimension=3 values=[4.69186,-0.916787,-0.00769858]"
      ]
     },
     "execution_count": 35,
     "metadata": {},
     "output_type": "execute_result"
    }
   ],
   "source": [
    "deltaTheta = method.solve(ybar)\n",
    "deltaTheta"
   ]
  },
  {
   "cell_type": "code",
   "execution_count": 36,
   "metadata": {},
   "outputs": [
    {
     "data": {
      "text/html": [
       "<p>[5.69186,0.0832132,0.992301]</p>"
      ],
      "text/plain": [
       "class=Point name=Unnamed dimension=3 values=[5.69186,0.0832132,0.992301]"
      ]
     },
     "execution_count": 36,
     "metadata": {},
     "output_type": "execute_result"
    }
   ],
   "source": [
    "thetaStarLLSQ = candidate + deltaTheta\n",
    "thetaStarLLSQ"
   ]
  },
  {
   "cell_type": "code",
   "execution_count": 37,
   "metadata": {
    "scrolled": true
   },
   "outputs": [
    {
     "data": {
      "text/html": [
       "<p>[[  0.308302    -0.000665387  6.81135e-05 ]<br>\n",
       " [ -0.000665387  8.36243e-06 -8.86775e-07 ]<br>\n",
       " [  6.81135e-05 -8.86775e-07  9.42234e-08 ]]</p>"
      ],
      "text/plain": [
       "class=CovarianceMatrix dimension=3 implementation=class=MatrixImplementation name=Unnamed rows=3 columns=3 values=[0.308302,-0.000665387,6.81135e-05,-0.000665387,8.36243e-06,-8.86775e-07,6.81135e-05,-8.86775e-07,9.42234e-08]"
      ]
     },
     "execution_count": 37,
     "metadata": {},
     "output_type": "execute_result"
    }
   ],
   "source": [
    "covarianceThetaLLSQ = method.getGramInverse()\n",
    "covarianceThetaLLSQ"
   ]
  },
  {
   "cell_type": "markdown",
   "metadata": {},
   "source": [
    "## Calibration based on Kalman matrix"
   ]
  },
  {
   "cell_type": "markdown",
   "metadata": {},
   "source": [
    "Compute inverses of B and R."
   ]
  },
  {
   "cell_type": "code",
   "execution_count": 38,
   "metadata": {},
   "outputs": [],
   "source": [
    "B = ot.CovarianceMatrix(parameterCovariance)\n",
    "IB = ot.IdentityMatrix(parameterDimension)\n",
    "invB = B.solveLinearSystem(IB)"
   ]
  },
  {
   "cell_type": "code",
   "execution_count": 39,
   "metadata": {},
   "outputs": [],
   "source": [
    "IR = ot.IdentityMatrix(R.getNbRows())\n",
    "invR = R.solveLinearSystem(IR)"
   ]
  },
  {
   "cell_type": "markdown",
   "metadata": {},
   "source": [
    "Calcule $A^{-1} = B^{-1} + J^T R^{-1} J = B^{-1} + J^T (J^T R^{-1})^T$.\n",
    "\n",
    "Soit $C =J^T R^{-1}$. \n",
    "\n",
    "Cela implique $A^{-1} = B^{-1} + J^T C^T$."
   ]
  },
  {
   "cell_type": "code",
   "execution_count": 40,
   "metadata": {},
   "outputs": [],
   "source": [
    "C = gradientObservations.transpose() * invR"
   ]
  },
  {
   "cell_type": "code",
   "execution_count": 41,
   "metadata": {},
   "outputs": [
    {
     "data": {
      "text/html": [
       "<p>[[     4.47614      6556.44        58469.5         ]<br>\n",
       " [  6556.44            6.97751e+07     6.51942e+08 ]<br>\n",
       " [ 58469.5             6.51942e+08     6.10404e+09 ]]</p>"
      ],
      "text/plain": [
       "class=Matrix implementation=class=MatrixImplementation name=Unnamed rows=3 columns=3 values=[4.47614,6556.44,58469.5,6556.44,6.97751e+07,6.51942e+08,58469.5,6.51942e+08,6.10404e+09]"
      ]
     },
     "execution_count": 41,
     "metadata": {},
     "output_type": "execute_result"
    }
   ],
   "source": [
    "invA = invB + C * gradientObservations\n",
    "invA"
   ]
  },
  {
   "cell_type": "markdown",
   "metadata": {},
   "source": [
    "Calcule $K = A J^T R^{-1}$ en tant que solution de l'équation matricielle $A^{-1}K = C$."
   ]
  },
  {
   "cell_type": "code",
   "execution_count": 42,
   "metadata": {},
   "outputs": [
    {
     "data": {
      "text/html": [
       "<p>3x20<br>\n",
       "[[  7.60656e-09  1.59741e-09  1.90919e-08 -7.29417e-10  4.5561e-08  -3.4075e-09   1.05903e-07 -8.60974e-09  2.38815e-07 -1.97648e-08  5.15687e-07 -4.28794e-08  1.03888e-06 -8.65039e-08  1.83749e-06 -1.5307e-07   2.31325e-06 -1.92727e-07 -1.00121e-06  8.34702e-08 ]<br>\n",
       " [  3.48625e-06  7.32125e-07  8.75024e-06 -3.34311e-07  2.08817e-05 -1.56174e-06  4.85381e-05 -3.94608e-06  0.000109456 -9.05884e-06  0.000236358 -1.96532e-05  0.000476167 -3.96486e-05  0.000842237 -7.01616e-05  0.00106044  -8.83504e-05 -0.000458164  3.81969e-05 ]<br>\n",
       " [ -3.723e-07   -7.82206e-08 -9.34196e-07  3.56666e-08 -2.22859e-06  1.66658e-07 -5.17769e-06  4.20924e-07 -1.16681e-05  9.65659e-07 -2.51697e-05  2.09285e-06 -5.06176e-05  4.21472e-06 -8.92042e-05  7.43103e-06 -0.000110947  9.24348e-06  5.59627e-05 -4.66532e-06 ]]</p>"
      ],
      "text/plain": [
       "class=Matrix implementation=class=MatrixImplementation name=Unnamed rows=3 columns=20 values=[7.60656e-09,3.48625e-06,-3.723e-07,1.59741e-09,7.32125e-07,-7.82206e-08,1.90919e-08,8.75024e-06,-9.34196e-07,-7.29417e-10,-3.34311e-07,3.56666e-08,4.5561e-08,2.08817e-05,-2.22859e-06,-3.4075e-09,-1.56174e-06,1.66658e-07,1.05903e-07,4.85381e-05,-5.17769e-06,-8.60974e-09,-3.94608e-06,4.20924e-07,2.38815e-07,0.000109456,-1.16681e-05,-1.97648e-08,-9.05884e-06,9.65659e-07,5.15687e-07,0.000236358,-2.51697e-05,-4.28794e-08,-1.96532e-05,2.09285e-06,1.03888e-06,0.000476167,-5.06176e-05,-8.65039e-08,-3.96486e-05,4.21472e-06,1.83749e-06,0.000842237,-8.92042e-05,-1.5307e-07,-7.01616e-05,7.43103e-06,2.31325e-06,0.00106044,-0.000110947,-1.92727e-07,-8.83504e-05,9.24348e-06,-1.00121e-06,-0.000458164,5.59627e-05,8.34702e-08,3.81969e-05,-4.66532e-06]"
      ]
     },
     "execution_count": 42,
     "metadata": {},
     "output_type": "execute_result"
    }
   ],
   "source": [
    "K = invA.solveLinearSystem(C)\n",
    "K"
   ]
  },
  {
   "cell_type": "markdown",
   "metadata": {},
   "source": [
    "Calcule $\\hat{\\theta} = \\mu  + K (y - H(\\mu ))$."
   ]
  },
  {
   "cell_type": "code",
   "execution_count": 43,
   "metadata": {},
   "outputs": [
    {
     "data": {
      "text/html": [
       "<p>[0.998045,0.0933438,0.991264]</p>"
      ],
      "text/plain": [
       "class=Point name=Unnamed dimension=3 values=[0.998045,0.0933438,0.991264]"
      ]
     },
     "execution_count": 43,
     "metadata": {},
     "output_type": "execute_result"
    }
   ],
   "source": [
    "thetaStarKalman = candidate + K * deltay\n",
    "thetaStarKalman"
   ]
  },
  {
   "cell_type": "code",
   "execution_count": 44,
   "metadata": {},
   "outputs": [
    {
     "data": {
      "text/plain": [
       "8.49449737941511e+17"
      ]
     },
     "execution_count": 44,
     "metadata": {},
     "output_type": "execute_result"
    }
   ],
   "source": [
    "np.linalg.cond(K)"
   ]
  },
  {
   "cell_type": "code",
   "execution_count": 45,
   "metadata": {},
   "outputs": [],
   "source": [
    "L = IB - K * gradientObservations"
   ]
  },
  {
   "cell_type": "code",
   "execution_count": 46,
   "metadata": {},
   "outputs": [
    {
     "data": {
      "text/html": [
       "<p>[[  3.99798     -0.00862875   0.000883298 ]<br>\n",
       " [ -0.00862875   2.55496e-05 -2.64617e-06 ]<br>\n",
       " [  0.000883298 -2.64617e-06  2.74327e-07 ]]</p>"
      ],
      "text/plain": [
       "class=Matrix implementation=class=MatrixImplementation name=Unnamed rows=3 columns=3 values=[3.99798,-0.00862875,0.000883298,-0.00862875,2.55496e-05,-2.64617e-06,0.000883298,-2.64617e-06,2.74327e-07]"
      ]
     },
     "execution_count": 46,
     "metadata": {},
     "output_type": "execute_result"
    }
   ],
   "source": [
    "covarianceThetaStarKalman = K * R * K.transpose() + L * B * L.transpose()\n",
    "covarianceThetaStarKalman"
   ]
  },
  {
   "cell_type": "markdown",
   "metadata": {},
   "source": [
    "## Vérification de la fonction cout\n",
    "\n",
    "L'objectif est de vérifier laquelle des deux solutions minimise la fonction cout."
   ]
  },
  {
   "cell_type": "code",
   "execution_count": 47,
   "metadata": {},
   "outputs": [],
   "source": [
    "def squaredMahalanobis(x,y,covariance):\n",
    "    '''Squared Mahalanobis distance'''\n",
    "    delta = x - y\n",
    "    z = covariance.solveLinearSystem(delta)\n",
    "    m  = ot.dot(delta,z)\n",
    "    return m\n",
    "\n",
    "def costFunction(theta,candidate,parameterCovariance,modelObservations,gradientObservations,outputObservations,errorCovariance):\n",
    "    '''Cost function for linear gaussian calibration'''\n",
    "    # 1. Background part of the cost function\n",
    "    Jb  = 0.5 * squaredMahalanobis(candidate,theta,parameterCovariance)\n",
    "    # 2. Observation part of the cost function\n",
    "    deltaTheta = theta - candidate\n",
    "    # Observation values of the model\n",
    "    YfunPoint = ot.Point(np.array(modelObservations).flatten())\n",
    "    # Predicted values of the model based on linearization\n",
    "    Ypredictions = YfunPoint + gradientObservations * deltaTheta\n",
    "    YobsPoint = ot.Point(np.array(outputObservations).flatten())\n",
    "    Jo  = 0.5 * squaredMahalanobis(YobsPoint,Ypredictions,errorCovariance)\n",
    "    # 3. Sum of the two parts\n",
    "    J   = Jb + Jo\n",
    "    return [J, Jb, Jo]"
   ]
  },
  {
   "cell_type": "markdown",
   "metadata": {},
   "source": [
    "Avant calage."
   ]
  },
  {
   "cell_type": "code",
   "execution_count": 48,
   "metadata": {},
   "outputs": [
    {
     "data": {
      "text/plain": [
       "[34074936.24918944, 0.0, 34074936.24918944]"
      ]
     },
     "execution_count": 48,
     "metadata": {},
     "output_type": "execute_result"
    }
   ],
   "source": [
    "costFunction(candidate,candidate,parameterCovariance,modelObservations,gradientObservations,outputObservations,R)"
   ]
  },
  {
   "cell_type": "markdown",
   "metadata": {},
   "source": [
    "Calage par la matrice de Kalman."
   ]
  },
  {
   "cell_type": "code",
   "execution_count": 49,
   "metadata": {},
   "outputs": [
    {
     "data": {
      "text/html": [
       "<p>[0.998045,0.0933438,0.991264]</p>"
      ],
      "text/plain": [
       "class=Point name=Unnamed dimension=3 values=[0.998045,0.0933438,0.991264]"
      ]
     },
     "execution_count": 49,
     "metadata": {},
     "output_type": "execute_result"
    }
   ],
   "source": [
    "thetaStarKalman"
   ]
  },
  {
   "cell_type": "code",
   "execution_count": 50,
   "metadata": {},
   "outputs": [
    {
     "data": {
      "text/plain": [
       "[67.78144170647317, 0.05922815935654009, 67.72221354711664]"
      ]
     },
     "execution_count": 50,
     "metadata": {},
     "output_type": "execute_result"
    }
   ],
   "source": [
    "costFunction(thetaStarKalman,candidate,parameterCovariance,modelObservations,gradientObservations,outputObservations,R)"
   ]
  },
  {
   "cell_type": "markdown",
   "metadata": {},
   "source": [
    "Calage par décomposition de Cholesky."
   ]
  },
  {
   "cell_type": "code",
   "execution_count": 51,
   "metadata": {},
   "outputs": [
    {
     "data": {
      "text/html": [
       "<p>[5.69186,0.0832132,0.992301]</p>"
      ],
      "text/plain": [
       "class=Point name=Unnamed dimension=3 values=[5.69186,0.0832132,0.992301]"
      ]
     },
     "execution_count": 51,
     "metadata": {},
     "output_type": "execute_result"
    }
   ],
   "source": [
    "thetaStarLLSQ"
   ]
  },
  {
   "cell_type": "code",
   "execution_count": 52,
   "metadata": {},
   "outputs": [
    {
     "data": {
      "text/plain": [
       "[32.05043314193567, 2.9197854124094627, 29.13064772952621]"
      ]
     },
     "execution_count": 52,
     "metadata": {},
     "output_type": "execute_result"
    }
   ],
   "source": [
    "costFunction(thetaStarLLSQ,candidate,parameterCovariance,modelObservations,gradientObservations,outputObservations,R)"
   ]
  },
  {
   "cell_type": "markdown",
   "metadata": {},
   "source": [
    "## Validation par le cas non-linéaire"
   ]
  },
  {
   "cell_type": "code",
   "execution_count": 53,
   "metadata": {},
   "outputs": [],
   "source": [
    "algo = ot.GaussianNonLinearCalibration(model, inputObservations, outputObservations, candidate, parameterCovariance, errorCovariance)\n",
    "algo.run()\n",
    "calibrationResult = algo.getResult()"
   ]
  },
  {
   "cell_type": "code",
   "execution_count": 54,
   "metadata": {},
   "outputs": [
    {
     "data": {
      "text/html": [
       "<p>[2.61106,1.21844,0.498487]</p>"
      ],
      "text/plain": [
       "class=Point name=Unnamed dimension=3 values=[2.61106,1.21844,0.498487]"
      ]
     },
     "execution_count": 54,
     "metadata": {},
     "output_type": "execute_result"
    }
   ],
   "source": [
    "thetaStarGNLC = calibrationResult.getParameterMAP()\n",
    "thetaStarGNLC"
   ]
  },
  {
   "cell_type": "markdown",
   "metadata": {},
   "source": [
    "Mais la fonction n'est *pas* linéaire en les paramètres !"
   ]
  },
  {
   "cell_type": "code",
   "execution_count": 55,
   "metadata": {},
   "outputs": [],
   "source": [
    "def GaussianLinearCalibrationCompute(model, inputObservations, outputObservations, \\\n",
    "                                    candidate, parameterCovariance, errorCovariance):\n",
    "    '''Use GaussianLinearCalibration'''\n",
    "    algo = ot.GaussianLinearCalibration(model, inputObservations, outputObservations, \\\n",
    "                                    candidate, parameterCovariance, errorCovariance)\n",
    "    algo.run()\n",
    "    calibrationResult = algo.getResult()\n",
    "    thetaStar = calibrationResult.getParameterMAP()\n",
    "    thetaPosterior = calibrationResult.getParameterPosterior()\n",
    "    covarianceThetaStar = thetaPosterior.getCovariance()\n",
    "    return thetaStar, covarianceThetaStar"
   ]
  },
  {
   "cell_type": "code",
   "execution_count": 56,
   "metadata": {},
   "outputs": [],
   "source": [
    "def GaussianNonLinearCalibrationCompute(model, inputObservations, outputObservations, \\\n",
    "                                    candidate, parameterCovariance, errorCovariance):\n",
    "    '''Use GaussianNonLinearCalibration'''\n",
    "    algo = ot.GaussianNonLinearCalibration(model, inputObservations, outputObservations, \\\n",
    "                                    candidate, parameterCovariance, errorCovariance)\n",
    "    algo.run()\n",
    "    calibrationResult = algo.getResult()\n",
    "    thetaStar = calibrationResult.getParameterMAP()\n",
    "    thetaPosterior = calibrationResult.getParameterPosterior()\n",
    "    covarianceThetaStar = thetaPosterior.getCovariance()\n",
    "    return thetaStar, covarianceThetaStar"
   ]
  },
  {
   "cell_type": "markdown",
   "metadata": {},
   "source": [
    "## Calibration based on Kalman matrix"
   ]
  },
  {
   "cell_type": "code",
   "execution_count": 57,
   "metadata": {},
   "outputs": [],
   "source": [
    "def ComputeFromKalman(model, inputObservations, outputObservations, \\\n",
    "    candidate, parameterCovariance, errorCovariance):\n",
    "    '''Compute the solution from the Kalman matrix'''\n",
    "    parameterDimension = candidate.getDimension()\n",
    "    size = inputObservations.getSize()\n",
    "    # Compute model observations\n",
    "    model.setParameter(candidate)\n",
    "    modelObservations = model(inputObservations)\n",
    "    # Compute residuals\n",
    "    residuals = outputObservations - modelObservations\n",
    "    outputDimension = modelObservations.getDimension()\n",
    "    # Stack the residuals by observation, \n",
    "    #   deltay = [residuals[i,0],residuals[i,1],...,residuals[i,outputDimension]]\n",
    "    deltay = ot.Point(size*outputDimension)\n",
    "    for i in range(size):\n",
    "        for j in range(outputDimension):\n",
    "            deltay[i*outputDimension + j] = residuals[i,j]\n",
    "    # Compute J\n",
    "    transposedGradientObservations = ot.Matrix(parameterDimension,size*outputDimension)\n",
    "    for i in range(size):\n",
    "        g = model.parameterGradient(inputObservations[i])\n",
    "        for j in range(outputDimension):\n",
    "            for k in range(parameterDimension):\n",
    "                transposedGradientObservations[k,i*outputDimension + j] = g[k,j]\n",
    "    gradientObservations = transposedGradientObservations.transpose()\n",
    "    print(\"Cond(Gradient)=\",np.linalg.cond(gradientObservations))\n",
    "    # Compute R\n",
    "    observationDimension = errorCovariance.getDimension()\n",
    "    R = ot.CovarianceMatrix(deltay.getSize())\n",
    "    for i in range(size):\n",
    "        for j in range(observationDimension):\n",
    "            for k in range(observationDimension):\n",
    "                R[i * observationDimension + j, i * observationDimension + k] = errorCovariance[j,k]\n",
    "    # Compute B, inverse of B\n",
    "    B = ot.CovarianceMatrix(parameterCovariance)\n",
    "    IB = ot.IdentityMatrix(parameterDimension)\n",
    "    invB = B.solveLinearSystem(IB)\n",
    "    # Compute inverse of R\n",
    "    IR = ot.IdentityMatrix(R.getNbRows())\n",
    "    invR = R.solveLinearSystem(IR)\n",
    "    #\n",
    "    C = gradientObservations.transpose() * invR\n",
    "    invA = invB + C * gradientObservations\n",
    "    K = invA.solveLinearSystem(C)\n",
    "    print(\"Cond(Kalman)=\",np.linalg.cond(K))\n",
    "    thetaStar = candidate + K * deltay\n",
    "    #\n",
    "    L = IB - K * gradientObservations\n",
    "    covarianceThetaStar = K * R * K.transpose() + L * B * L.transpose()\n",
    "    return thetaStar, covarianceThetaStar"
   ]
  },
  {
   "cell_type": "code",
   "execution_count": 58,
   "metadata": {},
   "outputs": [],
   "source": [
    "def ComputeFromLinearLeastSquaresCholesky(model, inputObservations, outputObservations, \\\n",
    "    candidate, parameterCovariance, errorCovariance):\n",
    "    parameterDimension = candidate.getDimension()\n",
    "    size = inputObservations.getSize()\n",
    "    # Compute model observations\n",
    "    model.setParameter(candidate)\n",
    "    modelObservations = model(inputObservations)\n",
    "    # Compute residuals\n",
    "    residuals = outputObservations - modelObservations\n",
    "    outputDimension = modelObservations.getDimension()\n",
    "    # Stack the residuals by observation, \n",
    "    #   deltay = [residuals[i,0],residuals[i,1],...,residuals[i,outputDimension]]\n",
    "    deltay = ot.Point(size*outputDimension)\n",
    "    for i in range(size):\n",
    "        for j in range(outputDimension):\n",
    "            deltay[i*outputDimension + j] = residuals[i,j]\n",
    "    # Compute J\n",
    "    transposedGradientObservations = ot.Matrix(parameterDimension,size*outputDimension)\n",
    "    for i in range(size):\n",
    "        g = model.parameterGradient(inputObservations[i])\n",
    "        for j in range(outputDimension):\n",
    "            for k in range(parameterDimension):\n",
    "                transposedGradientObservations[k,i*outputDimension + j] = g[k,j]\n",
    "    gradientObservations = transposedGradientObservations.transpose()\n",
    "    # Compute R\n",
    "    observationDimension = errorCovariance.getDimension()\n",
    "    R = ot.CovarianceMatrix(deltay.getSize())\n",
    "    for i in range(size):\n",
    "        for j in range(observationDimension):\n",
    "            for k in range(observationDimension):\n",
    "                R[i * observationDimension + j, i * observationDimension + k] = errorCovariance[j,k]\n",
    "    # Create B, R, inv(B), inv(R)\n",
    "    B = ot.CovarianceMatrix(parameterCovariance)\n",
    "    LB = B.computeCholesky()\n",
    "    LR = R.computeCholesky()\n",
    "    #\n",
    "    ILB = ot.IdentityMatrix(parameterDimension)\n",
    "    invLB = LB.solveLinearSystem(ILB)\n",
    "    invLRJ = LR.solveLinearSystem(gradientObservations)\n",
    "    # Compute Abar\n",
    "    Abar = ot.Matrix(parameterDimension+size*outputDimension,parameterDimension)\n",
    "    Abar[0:parameterDimension,0:parameterDimension] = invLB\n",
    "    for i in range(size):\n",
    "        for j in range(outputDimension):\n",
    "            for k in range(parameterDimension):\n",
    "                Abar[i*outputDimension + j + parameterDimension,k] = -invLRJ[i*outputDimension + j,k]\n",
    "    #\n",
    "    invLRz = LR.solveLinearSystem(deltay)\n",
    "    # Compute ybar\n",
    "    ybar = ot.Point(parameterDimension+size*outputDimension)\n",
    "    for i in range(size):\n",
    "        for j in range(outputDimension):\n",
    "            ybar[i*outputDimension + j + parameterDimension] = -invLRz[i*outputDimension + j]\n",
    "    # Solve the least squares problem\n",
    "    print(\"Cond(Linear Least Squares/Cholesky)=\",np.linalg.cond(Abar))\n",
    "    method = ot.SVDMethod(Abar)\n",
    "    deltaTheta = method.solve(ybar)\n",
    "    thetaStar = deltaTheta + candidate\n",
    "    covarianceThetaStar = method.getGramInverse()\n",
    "    return thetaStar, covarianceThetaStar"
   ]
  },
  {
   "cell_type": "markdown",
   "metadata": {},
   "source": [
    "## GaussianLinearCalibrationCompute"
   ]
  },
  {
   "cell_type": "code",
   "execution_count": 59,
   "metadata": {},
   "outputs": [],
   "source": [
    "thetaStar, covarianceThetaStar = GaussianLinearCalibrationCompute(model, inputObservations, outputObservations, \\\n",
    "                                    candidate, parameterCovariance, errorCovariance)"
   ]
  },
  {
   "cell_type": "code",
   "execution_count": 60,
   "metadata": {},
   "outputs": [
    {
     "data": {
      "text/html": [
       "<p>[5.69186,0.0832132,0.992301]</p>"
      ],
      "text/plain": [
       "class=Point name=Unnamed dimension=3 values=[5.69186,0.0832132,0.992301]"
      ]
     },
     "execution_count": 60,
     "metadata": {},
     "output_type": "execute_result"
    }
   ],
   "source": [
    "thetaStar"
   ]
  },
  {
   "cell_type": "code",
   "execution_count": 61,
   "metadata": {
    "scrolled": false
   },
   "outputs": [
    {
     "data": {
      "text/html": [
       "<p>[[  0.308302    -0.000665387  6.81135e-05 ]<br>\n",
       " [ -0.000665387  8.36243e-06 -8.86775e-07 ]<br>\n",
       " [  6.81135e-05 -8.86775e-07  9.42234e-08 ]]</p>"
      ],
      "text/plain": [
       "class=CovarianceMatrix dimension=3 implementation=class=MatrixImplementation name=Unnamed rows=3 columns=3 values=[0.308302,-0.000665387,6.81135e-05,-0.000665387,8.36243e-06,-8.86775e-07,6.81135e-05,-8.86775e-07,9.42234e-08]"
      ]
     },
     "execution_count": 61,
     "metadata": {},
     "output_type": "execute_result"
    }
   ],
   "source": [
    "covarianceThetaStar"
   ]
  },
  {
   "cell_type": "markdown",
   "metadata": {},
   "source": [
    "## GaussianNonLinearCalibrationCompute"
   ]
  },
  {
   "cell_type": "code",
   "execution_count": 62,
   "metadata": {},
   "outputs": [],
   "source": [
    "thetaStar, covarianceThetaStar = GaussianNonLinearCalibrationCompute(model, inputObservations, outputObservations, \\\n",
    "                                    candidate, parameterCovariance, errorCovariance)"
   ]
  },
  {
   "cell_type": "code",
   "execution_count": 63,
   "metadata": {},
   "outputs": [
    {
     "data": {
      "text/html": [
       "<p>[2.61106,1.21844,0.498487]</p>"
      ],
      "text/plain": [
       "class=Point name=Unnamed dimension=3 values=[2.61106,1.21844,0.498487]"
      ]
     },
     "execution_count": 63,
     "metadata": {},
     "output_type": "execute_result"
    }
   ],
   "source": [
    "thetaStar"
   ]
  },
  {
   "cell_type": "code",
   "execution_count": 64,
   "metadata": {
    "scrolled": true
   },
   "outputs": [
    {
     "data": {
      "text/html": [
       "<p>[[  0.000162565 -2.83265e-05  3.52524e-06 ]<br>\n",
       " [ -2.83265e-05  2.76968e-05 -2.9199e-06  ]<br>\n",
       " [  3.52524e-06 -2.9199e-06   4.28429e-07 ]]</p>"
      ],
      "text/plain": [
       "class=CovarianceMatrix dimension=3 implementation=class=MatrixImplementation name=Unnamed rows=3 columns=3 values=[0.000162565,-2.83265e-05,3.52524e-06,-2.83265e-05,2.76968e-05,-2.9199e-06,3.52524e-06,-2.9199e-06,4.28429e-07]"
      ]
     },
     "execution_count": 64,
     "metadata": {},
     "output_type": "execute_result"
    }
   ],
   "source": [
    "covarianceThetaStar"
   ]
  },
  {
   "cell_type": "markdown",
   "metadata": {},
   "source": [
    "## Kalman"
   ]
  },
  {
   "cell_type": "code",
   "execution_count": 65,
   "metadata": {},
   "outputs": [
    {
     "name": "stdout",
     "output_type": "stream",
     "text": [
      "Cond(Gradient)= 36772.610218841444\n",
      "Cond(Kalman)= 8.49449737941511e+17\n"
     ]
    },
    {
     "data": {
      "text/html": [
       "<p>[0.998045,0.0933438,0.991264]</p>"
      ],
      "text/plain": [
       "class=Point name=Unnamed dimension=3 values=[0.998045,0.0933438,0.991264]"
      ]
     },
     "execution_count": 65,
     "metadata": {},
     "output_type": "execute_result"
    }
   ],
   "source": [
    "thetaStar, covarianceThetaStar = ComputeFromKalman(model, inputObservations, outputObservations, \\\n",
    "    candidate, parameterCovariance, errorCovariance)\n",
    "thetaStar"
   ]
  },
  {
   "cell_type": "code",
   "execution_count": 66,
   "metadata": {},
   "outputs": [
    {
     "data": {
      "text/html": [
       "<p>[[  3.99798     -0.00862875   0.000883298 ]<br>\n",
       " [ -0.00862875   2.55496e-05 -2.64617e-06 ]<br>\n",
       " [  0.000883298 -2.64617e-06  2.74327e-07 ]]</p>"
      ],
      "text/plain": [
       "class=Matrix implementation=class=MatrixImplementation name=Unnamed rows=3 columns=3 values=[3.99798,-0.00862875,0.000883298,-0.00862875,2.55496e-05,-2.64617e-06,0.000883298,-2.64617e-06,2.74327e-07]"
      ]
     },
     "execution_count": 66,
     "metadata": {},
     "output_type": "execute_result"
    }
   ],
   "source": [
    "covarianceThetaStar"
   ]
  },
  {
   "cell_type": "markdown",
   "metadata": {},
   "source": [
    "## From the extended linear least squares"
   ]
  },
  {
   "cell_type": "code",
   "execution_count": 67,
   "metadata": {},
   "outputs": [
    {
     "name": "stdout",
     "output_type": "stream",
     "text": [
      "Cond(Linear Least Squares/Cholesky)= 43627.57552713958\n"
     ]
    },
    {
     "data": {
      "text/html": [
       "<p>[5.69186,0.0832132,0.992301]</p>"
      ],
      "text/plain": [
       "class=Point name=Unnamed dimension=3 values=[5.69186,0.0832132,0.992301]"
      ]
     },
     "execution_count": 67,
     "metadata": {},
     "output_type": "execute_result"
    }
   ],
   "source": [
    "thetaStar, covarianceThetaStar = ComputeFromLinearLeastSquaresCholesky(model, inputObservations, outputObservations, \\\n",
    "    candidate, parameterCovariance, errorCovariance)\n",
    "thetaStar"
   ]
  },
  {
   "cell_type": "code",
   "execution_count": 68,
   "metadata": {},
   "outputs": [
    {
     "data": {
      "text/html": [
       "<p>[[  0.308302    -0.000665387  6.81135e-05 ]<br>\n",
       " [ -0.000665387  8.36243e-06 -8.86775e-07 ]<br>\n",
       " [  6.81135e-05 -8.86775e-07  9.42234e-08 ]]</p>"
      ],
      "text/plain": [
       "class=CovarianceMatrix dimension=3 implementation=class=MatrixImplementation name=Unnamed rows=3 columns=3 values=[0.308302,-0.000665387,6.81135e-05,-0.000665387,8.36243e-06,-8.86775e-07,6.81135e-05,-8.86775e-07,9.42234e-08]"
      ]
     },
     "execution_count": 68,
     "metadata": {},
     "output_type": "execute_result"
    }
   ],
   "source": [
    "covarianceThetaStar"
   ]
  }
 ],
 "metadata": {
  "kernelspec": {
   "display_name": "Python 3",
   "language": "python",
   "name": "python3"
  },
  "language_info": {
   "codemirror_mode": {
    "name": "ipython",
    "version": 3
   },
   "file_extension": ".py",
   "mimetype": "text/x-python",
   "name": "python",
   "nbconvert_exporter": "python",
   "pygments_lexer": "ipython3",
   "version": "3.7.1"
  }
 },
 "nbformat": 4,
 "nbformat_minor": 2
}
