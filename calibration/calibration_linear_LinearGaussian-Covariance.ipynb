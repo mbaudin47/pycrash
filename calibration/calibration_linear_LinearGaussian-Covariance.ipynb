{
 "cells": [
  {
   "cell_type": "markdown",
   "metadata": {},
   "source": [
    "L'objectif de ce NB est de vérifier la distribution de la solution du problème de moindres carrés linéaires. Plus précisément, on vérifie que la covariance de la loi gaussienne associée à la méthode `getParameterPosterior` est correcte pour la classe `GaussianLinearCalibration`.\n",
    "\n",
    "On considère ici un modèle *exactement* linéaire. On essaye de calculer l'estimateur MAP par une décomposition de Cholesky puis de calculer la matrice de covariance."
   ]
  },
  {
   "cell_type": "markdown",
   "metadata": {},
   "source": [
    "## Generate the observations"
   ]
  },
  {
   "cell_type": "code",
   "execution_count": 1,
   "metadata": {},
   "outputs": [],
   "source": [
    "import numpy as np\n",
    "import openturns as ot"
   ]
  },
  {
   "cell_type": "code",
   "execution_count": 2,
   "metadata": {},
   "outputs": [],
   "source": [
    "ot.RandomGenerator.SetSeed(0)"
   ]
  },
  {
   "cell_type": "code",
   "execution_count": 3,
   "metadata": {},
   "outputs": [],
   "source": [
    "def modelLineaire(X):\n",
    "    x,theta1,theta2,theta3 = X\n",
    "    y = theta1 + theta2*x + theta3*x**2\n",
    "    return [y]"
   ]
  },
  {
   "cell_type": "code",
   "execution_count": 4,
   "metadata": {},
   "outputs": [],
   "source": [
    "g = ot.PythonFunction(4, 1, modelLineaire) "
   ]
  },
  {
   "cell_type": "code",
   "execution_count": 5,
   "metadata": {},
   "outputs": [],
   "source": [
    "descr = [\"Theta1\", \"Theta2\", \"Theta3\"]"
   ]
  },
  {
   "cell_type": "code",
   "execution_count": 6,
   "metadata": {},
   "outputs": [
    {
     "data": {
      "text/html": [
       "<p>[11.11,6.6,-9.9]</p>"
      ],
      "text/plain": [
       "class=Point name=Unnamed dimension=3 values=[11.11,6.6,-9.9]"
      ]
     },
     "execution_count": 6,
     "metadata": {},
     "output_type": "execute_result"
    }
   ],
   "source": [
    "trueParameter = ot.Point([11.11,6.6,-9.9])\n",
    "trueParameter"
   ]
  },
  {
   "cell_type": "code",
   "execution_count": 7,
   "metadata": {},
   "outputs": [
    {
     "data": {
      "text/plain": [
       "3"
      ]
     },
     "execution_count": 7,
     "metadata": {},
     "output_type": "execute_result"
    }
   ],
   "source": [
    "parameterDimension = trueParameter.getDimension()\n",
    "parameterDimension"
   ]
  },
  {
   "cell_type": "markdown",
   "metadata": {},
   "source": [
    "Create the joint input distribution function."
   ]
  },
  {
   "cell_type": "code",
   "execution_count": 8,
   "metadata": {},
   "outputs": [],
   "source": [
    "X = ot.Uniform()\n",
    "Theta1 = ot.Dirac(trueParameter[0])\n",
    "Theta2 = ot.Dirac(trueParameter[1])\n",
    "Theta3 = ot.Dirac(trueParameter[2])\n",
    "\n",
    "X.setDescription([\"X\"])\n",
    "Theta1.setDescription([\"Theta1\"])\n",
    "Theta2.setDescription([\"Theta2\"])\n",
    "Theta3.setDescription([\"Theta3\"])\n",
    "\n",
    "inputRandomVector = ot.ComposedDistribution([X, Theta1, Theta2, Theta3])"
   ]
  },
  {
   "cell_type": "code",
   "execution_count": 9,
   "metadata": {},
   "outputs": [],
   "source": [
    "calibratedIndices = [1,2,3]\n",
    "model = ot.ParametricFunction(g, calibratedIndices, trueParameter)"
   ]
  },
  {
   "cell_type": "code",
   "execution_count": 10,
   "metadata": {},
   "outputs": [
    {
     "data": {
      "image/png": "[encoded data removed]",
      "text/plain": [
       "class=Graph name=y0 as a function of x0 implementation=class=GraphImplementation name=y0 as a function of x0 title=y0 as a function of x0 xTitle=x0 yTitle=y0 axes=ON grid=ON legendposition= legendFontSize=1 drawables=[class=Drawable name=Unnamed implementation=class=Curve name=Unnamed derived from class=DrawableImplementation name=Unnamed legend= data=class=Sample name=Unnamed implementation=class=SampleImplementation name=Unnamed size=129 dimension=2 data=[[-1,-5.39],[-0.984375,-4.97992],[-0.96875,-4.57467],[-0.953125,-4.17425],[-0.9375,-3.77867],[-0.921875,-3.38792],[-0.90625,-3.00201],[-0.890625,-2.62093],[-0.875,-2.24469],[-0.859375,-1.87328],[-0.84375,-1.5067],[-0.828125,-1.14496],[-0.8125,-0.788047],[-0.796875,-0.435972],[-0.78125,-0.0887305],[-0.765625,0.253677],[-0.75,0.59125],[-0.734375,0.923989],[-0.71875,1.25189],[-0.703125,1.57497],[-0.6875,1.8932],[-0.671875,2.20661],[-0.65625,2.51518],[-0.640625,2.81891],[-0.625,3.11781],[-0.609375,3.41188],[-0.59375,3.70111],[-0.578125,3.98551],[-0.5625,4.26508],[-0.546875,4.53981],[-0.53125,4.80971],[-0.515625,5.07477],[-0.5,5.335],[-0.484375,5.5904],[-0.46875,5.84096],[-0.453125,6.08668],[-0.4375,6.32758],[-0.421875,6.56364],[-0.40625,6.79486],[-0.390625,7.02125],[-0.375,7.24281],[-0.359375,7.45954],[-0.34375,7.67143],[-0.328125,7.87848],[-0.3125,8.0807],[-0.296875,8.27809],[-0.28125,8.47064],[-0.265625,8.65836],[-0.25,8.84125],[-0.234375,9.0193],[-0.21875,9.19252],[-0.203125,9.3609],[-0.1875,9.52445],[-0.171875,9.68317],[-0.15625,9.83705],[-0.140625,9.9861],[-0.125,10.1303],[-0.109375,10.2697],[-0.09375,10.4042],[-0.078125,10.534],[-0.0625,10.6588],[-0.046875,10.7789],[-0.03125,10.8941],[-0.015625,11.0045],[0,11.11],[0.015625,11.2107],[0.03125,11.3066],[0.046875,11.3976],[0.0625,11.4838],[0.078125,11.5652],[0.09375,11.6417],[0.109375,11.7134],[0.125,11.7803],[0.140625,11.8423],[0.15625,11.8996],[0.171875,11.9519],[0.1875,11.9995],[0.203125,12.0422],[0.21875,12.08],[0.234375,12.1131],[0.25,12.1412],[0.265625,12.1646],[0.28125,12.1831],[0.296875,12.1968],[0.3125,12.2057],[0.328125,12.2097],[0.34375,12.2089],[0.359375,12.2033],[0.375,12.1928],[0.390625,12.1775],[0.40625,12.1574],[0.421875,12.1324],[0.4375,12.1026],[0.453125,12.0679],[0.46875,12.0285],[0.484375,11.9841],[0.5,11.935],[0.515625,11.881],[0.53125,11.8222],[0.546875,11.7586],[0.5625,11.6901],[0.578125,11.6168],[0.59375,11.5386],[0.609375,11.4556],[0.625,11.3678],[0.640625,11.2752],[0.65625,11.1777],[0.671875,11.0754],[0.6875,10.9682],[0.703125,10.8562],[0.71875,10.7394],[0.734375,10.6177],[0.75,10.4912],[0.765625,10.3599],[0.78125,10.2238],[0.796875,10.0828],[0.8125,9.93695],[0.828125,9.78629],[0.84375,9.6308],[0.859375,9.47047],[0.875,9.30531],[0.890625,9.13532],[0.90625,8.96049],[0.921875,8.78083],[0.9375,8.59633],[0.953125,8.407],[0.96875,8.21283],[0.984375,8.01383],[1,7.81]] color=blue fillStyle=solid lineStyle=solid pointStyle=none lineWidth=1]"
      ]
     },
     "execution_count": 10,
     "metadata": {},
     "output_type": "execute_result"
    }
   ],
   "source": [
    "model.draw(-1,1)"
   ]
  },
  {
   "cell_type": "markdown",
   "metadata": {},
   "source": [
    "Generate observation noise."
   ]
  },
  {
   "cell_type": "code",
   "execution_count": 11,
   "metadata": {},
   "outputs": [],
   "source": [
    "outputObservationNoiseSigma = 2. # (Pa)\n",
    "observationOutputNoise = ot.Normal(0.,outputObservationNoiseSigma)"
   ]
  },
  {
   "cell_type": "markdown",
   "metadata": {},
   "source": [
    "## Gaussian linear calibration"
   ]
  },
  {
   "cell_type": "markdown",
   "metadata": {},
   "source": [
    "Define the covariance matrix of the output Y of the model."
   ]
  },
  {
   "cell_type": "code",
   "execution_count": 12,
   "metadata": {},
   "outputs": [
    {
     "data": {
      "text/html": [
       "<p>[[ 4 ]]</p>"
      ],
      "text/plain": [
       "class=CovarianceMatrix dimension=1 implementation=class=MatrixImplementation name=Unnamed rows=1 columns=1 values=[4]"
      ]
     },
     "execution_count": 12,
     "metadata": {},
     "output_type": "execute_result"
    }
   ],
   "source": [
    "errorCovariance = ot.CovarianceMatrix(1)\n",
    "errorCovariance[0,0] = outputObservationNoiseSigma**2\n",
    "errorCovariance"
   ]
  },
  {
   "cell_type": "markdown",
   "metadata": {},
   "source": [
    "Defined the covariance matrix of the parameters $\\theta$ to calibrate."
   ]
  },
  {
   "cell_type": "code",
   "execution_count": 13,
   "metadata": {},
   "outputs": [],
   "source": [
    "sigmaTheta1 = 0.1 * trueParameter[0]\n",
    "sigmaTheta2 = 0.1 * trueParameter[1]\n",
    "sigmaTheta3 = 0.1 * trueParameter[2]"
   ]
  },
  {
   "cell_type": "code",
   "execution_count": 14,
   "metadata": {
    "scrolled": true
   },
   "outputs": [
    {
     "data": {
      "text/html": [
       "<p>[[ 1.23432 0       0       ]<br>\n",
       " [ 0       0.4356  0       ]<br>\n",
       " [ 0       0       0.9801  ]]</p>"
      ],
      "text/plain": [
       "class=CovarianceMatrix dimension=3 implementation=class=MatrixImplementation name=Unnamed rows=3 columns=3 values=[1.23432,0,0,0,0.4356,0,0,0,0.9801]"
      ]
     },
     "execution_count": 14,
     "metadata": {},
     "output_type": "execute_result"
    }
   ],
   "source": [
    "parameterCovariance = ot.CovarianceMatrix(3)\n",
    "parameterCovariance[0,0] = sigmaTheta1**2\n",
    "parameterCovariance[1,1] = sigmaTheta2**2\n",
    "parameterCovariance[2,2] = sigmaTheta3**2\n",
    "parameterCovariance"
   ]
  },
  {
   "cell_type": "code",
   "execution_count": 15,
   "metadata": {},
   "outputs": [],
   "source": [
    "size = 500"
   ]
  },
  {
   "cell_type": "code",
   "execution_count": 16,
   "metadata": {},
   "outputs": [],
   "source": [
    "# 1. Generate exact outputs\n",
    "inputSample = inputRandomVector.getSample(size)\n",
    "outputStress = g(inputSample)\n",
    "# 2. Add noise\n",
    "sampleNoiseH = observationOutputNoise.getSample(size)\n",
    "outputObservations = outputStress + sampleNoiseH\n",
    "# 3. Calibrate\n",
    "inputObservations = inputSample[:,0]"
   ]
  },
  {
   "cell_type": "code",
   "execution_count": 17,
   "metadata": {},
   "outputs": [
    {
     "data": {
      "text/html": [
       "<p>[12,7,-8]</p>"
      ],
      "text/plain": [
       "class=Point name=Unnamed dimension=3 values=[12,7,-8]"
      ]
     },
     "execution_count": 17,
     "metadata": {},
     "output_type": "execute_result"
    }
   ],
   "source": [
    "candidate = ot.Point([12.,7.,-8])\n",
    "candidate"
   ]
  },
  {
   "cell_type": "markdown",
   "metadata": {},
   "source": [
    "## Analysis of the results"
   ]
  },
  {
   "cell_type": "code",
   "execution_count": 18,
   "metadata": {},
   "outputs": [],
   "source": [
    "def GaussianLinearCalibrationCompute(model, inputObservations, outputObservations, \\\n",
    "                                    candidate, parameterCovariance, errorCovariance):\n",
    "    '''Use GaussianLinearCalibration'''\n",
    "    algo = ot.GaussianLinearCalibration(model, inputObservations, outputObservations, \\\n",
    "                                    candidate, parameterCovariance, errorCovariance)\n",
    "    algo.run()\n",
    "    calibrationResult = algo.getResult()\n",
    "    thetaStar = calibrationResult.getParameterMAP()\n",
    "    thetaPosterior = calibrationResult.getParameterPosterior()\n",
    "    covarianceThetaStar = thetaPosterior.getCovariance()\n",
    "    return thetaStar, covarianceThetaStar"
   ]
  },
  {
   "cell_type": "code",
   "execution_count": 19,
   "metadata": {},
   "outputs": [],
   "source": [
    "def GaussianNonLinearCalibrationCompute(model, inputObservations, outputObservations, \\\n",
    "                                    candidate, parameterCovariance, errorCovariance):\n",
    "    '''Use GaussianNonLinearCalibration'''\n",
    "    algo = ot.GaussianNonLinearCalibration(model, inputObservations, outputObservations, \\\n",
    "                                    candidate, parameterCovariance, errorCovariance)\n",
    "    algo.run()\n",
    "    calibrationResult = algo.getResult()\n",
    "    thetaStar = calibrationResult.getParameterMAP()\n",
    "    thetaPosterior = calibrationResult.getParameterPosterior()\n",
    "    covarianceThetaStar = thetaPosterior.getCovariance()\n",
    "    return thetaStar, covarianceThetaStar"
   ]
  },
  {
   "cell_type": "markdown",
   "metadata": {},
   "source": [
    "## Calibration based on Kalman matrix"
   ]
  },
  {
   "cell_type": "code",
   "execution_count": 20,
   "metadata": {},
   "outputs": [],
   "source": [
    "def ComputeFromKalman(model, inputObservations, outputObservations, \\\n",
    "    candidate, parameterCovariance, errorCovariance):\n",
    "    '''Compute the solution from the Kalman matrix'''\n",
    "    parameterDimension = candidate.getDimension()\n",
    "    size = inputObservations.getSize()\n",
    "    #\n",
    "    model.setParameter(candidate)\n",
    "    modelObservations = model(inputObservations)\n",
    "    #\n",
    "    deltay = outputObservations - modelObservations\n",
    "    deltay = deltay.asPoint()\n",
    "    # Compute J\n",
    "    transposedGradientObservations = ot.Matrix(parameterDimension,size)\n",
    "    for i in range(size):\n",
    "        g = model.parameterGradient(inputObservations[i])\n",
    "        transposedGradientObservations[:,i] = g\n",
    "    gradientObservations = transposedGradientObservations.transpose()\n",
    "    #\n",
    "    B = ot.CovarianceMatrix(parameterCovariance)\n",
    "    IB = ot.IdentityMatrix(parameterDimension)\n",
    "    invB = B.solveLinearSystem(IB)\n",
    "    #\n",
    "    R = ot.CovarianceMatrix(size)\n",
    "    for i in range(size):\n",
    "        R[i,i] = errorCovariance[0,0]\n",
    "    IR = ot.IdentityMatrix(size)\n",
    "    invR = R.solveLinearSystem(IR)\n",
    "    #\n",
    "    C = gradientObservations.transpose() * invR\n",
    "    invA = invB + C * gradientObservations\n",
    "    K = invA.solveLinearSystem(C)\n",
    "    thetaStar = candidate + K * deltay\n",
    "    #\n",
    "    L = IB - K * gradientObservations\n",
    "    covarianceThetaStar = K * R * K.transpose() + L * B * L.transpose()\n",
    "    return thetaStar, covarianceThetaStar"
   ]
  },
  {
   "cell_type": "code",
   "execution_count": 21,
   "metadata": {},
   "outputs": [],
   "source": [
    "def ComputeFromLinearLeastSquaresCholesky(model, inputObservations, outputObservations, \\\n",
    "    candidate, parameterCovariance, errorCovariance):\n",
    "    parameterDimension = candidate.getDimension()\n",
    "    size = inputObservations.getSize()\n",
    "    #\n",
    "    model.setParameter(candidate)\n",
    "    modelObservations = model(inputObservations)\n",
    "    #\n",
    "    deltay = outputObservations - modelObservations\n",
    "    deltay = deltay.asPoint()\n",
    "    # Create B, R, inv(B), inv(R)\n",
    "    B = ot.CovarianceMatrix(parameterCovariance)\n",
    "    R = ot.CovarianceMatrix(size)\n",
    "    for i in range(size):\n",
    "        R[i,i] = errorCovariance[0,0]\n",
    "    LB = B.computeCholesky()\n",
    "    LR = R.computeCholesky()\n",
    "    # Compute J\n",
    "    transposedGradientObservations = ot.Matrix(parameterDimension,size)\n",
    "    for i in range(size):\n",
    "        g = model.parameterGradient(inputObservations[i])\n",
    "        transposedGradientObservations[:,i] = g\n",
    "    gradientObservations = transposedGradientObservations.transpose()\n",
    "    #\n",
    "    ILB = ot.IdentityMatrix(parameterDimension)\n",
    "    invLB = LB.solveLinearSystem(ILB)\n",
    "    invLRJ = LR.solveLinearSystem(gradientObservations)\n",
    "    llsqA = ot.Matrix(size+parameterDimension,parameterDimension)\n",
    "    llsqA[0:parameterDimension,0:parameterDimension] = invLB\n",
    "    llsqA[parameterDimension:size+parameterDimension,0:parameterDimension] = llsqA[parameterDimension:size+parameterDimension,0:parameterDimension]-invLRJ\n",
    "    invLRz = LR.solveLinearSystem(deltay)\n",
    "    y = ot.Point(size+parameterDimension)\n",
    "    y[parameterDimension:size+parameterDimension] = y[parameterDimension:size+parameterDimension]-invLRz\n",
    "    method = ot.SVDMethod(llsqA)\n",
    "    deltaTheta = method.solve(y)\n",
    "    thetaStar = deltaTheta + candidate\n",
    "    return thetaStar"
   ]
  },
  {
   "cell_type": "code",
   "execution_count": 22,
   "metadata": {},
   "outputs": [],
   "source": [
    "def ComputeCovarianceFromWoodbury(model, inputObservations, outputObservations, \\\n",
    "    candidate, parameterCovariance, errorCovariance):\n",
    "    parameterDimension = candidate.getDimension()\n",
    "    size = inputObservations.getSize()\n",
    "    #\n",
    "    model.setParameter(candidate)\n",
    "    modelObservations = model(inputObservations)\n",
    "    #\n",
    "    B = ot.CovarianceMatrix(parameterCovariance)\n",
    "    R = ot.CovarianceMatrix(size)\n",
    "    for i in range(size):\n",
    "        R[i,i] = errorCovariance[0,0]\n",
    "    # Compute J\n",
    "    transposedGradientObservations = ot.Matrix(parameterDimension,size)\n",
    "    for i in range(size):\n",
    "        g = model.parameterGradient(inputObservations[i])\n",
    "        transposedGradientObservations[:,i] = g\n",
    "    gradientObservations = transposedGradientObservations.transpose()\n",
    "    #\n",
    "    JB = gradientObservations*B\n",
    "    covarianceThetaStar = B - JB.transpose()*(R+JB*transposedGradientObservations)*JB\n",
    "    return covarianceThetaStar"
   ]
  },
  {
   "cell_type": "code",
   "execution_count": 23,
   "metadata": {},
   "outputs": [],
   "source": [
    "def ComputeFromKalmanSimple(model, inputObservations, outputObservations, \\\n",
    "    candidate, parameterCovariance, errorCovariance):\n",
    "    '''Compute the solution from the Kalman matrix'''\n",
    "    parameterDimension = candidate.getDimension()\n",
    "    size = inputObservations.getSize()\n",
    "    #\n",
    "    model.setParameter(candidate)\n",
    "    modelObservations = model(inputObservations)\n",
    "    #\n",
    "    deltay = outputObservations - modelObservations\n",
    "    deltay = deltay.asPoint()\n",
    "    # Compute J\n",
    "    transposedGradientObservations = ot.Matrix(parameterDimension,size)\n",
    "    for i in range(size):\n",
    "        g = model.parameterGradient(inputObservations[i])\n",
    "        transposedGradientObservations[:,i] = g\n",
    "    gradientObservations = transposedGradientObservations.transpose()\n",
    "    #\n",
    "    B = ot.CovarianceMatrix(parameterCovariance)\n",
    "    IB = ot.IdentityMatrix(parameterDimension)\n",
    "    invB = B.solveLinearSystem(IB)\n",
    "    #\n",
    "    R = ot.CovarianceMatrix(size)\n",
    "    for i in range(size):\n",
    "        R[i,i] = errorCovariance[0,0]\n",
    "    IR = ot.IdentityMatrix(size)\n",
    "    invR = R.solveLinearSystem(IR)\n",
    "    #\n",
    "    C = gradientObservations.transpose() * invR\n",
    "    invA = invB + C * gradientObservations\n",
    "    K = invA.solveLinearSystem(C)\n",
    "    thetaStar = candidate + K * deltay\n",
    "    #\n",
    "    L = IB - K * gradientObservations\n",
    "    covarianceThetaStar = L * B\n",
    "    return thetaStar, covarianceThetaStar"
   ]
  },
  {
   "cell_type": "markdown",
   "metadata": {},
   "source": [
    "## GaussianLinearCalibrationCompute"
   ]
  },
  {
   "cell_type": "code",
   "execution_count": 24,
   "metadata": {},
   "outputs": [],
   "source": [
    "thetaStar, covarianceThetaStar = GaussianLinearCalibrationCompute(model, inputObservations, outputObservations, \\\n",
    "                                    candidate, parameterCovariance, errorCovariance)"
   ]
  },
  {
   "cell_type": "code",
   "execution_count": 25,
   "metadata": {},
   "outputs": [
    {
     "data": {
      "text/html": [
       "<p>[10.9745,6.61909,-9.23324]</p>"
      ],
      "text/plain": [
       "class=Point name=Unnamed dimension=3 values=[10.9745,6.61909,-9.23324]"
      ]
     },
     "execution_count": 25,
     "metadata": {},
     "output_type": "execute_result"
    }
   ],
   "source": [
    "thetaStar"
   ]
  },
  {
   "cell_type": "code",
   "execution_count": 26,
   "metadata": {
    "scrolled": false
   },
   "outputs": [
    {
     "data": {
      "text/html": [
       "<p>[[  0.0168322    0.0003082   -0.0261941   ]<br>\n",
       " [  0.0003082    0.0222599   -6.12752e-05 ]<br>\n",
       " [ -0.0261941   -6.12752e-05  0.0772671   ]]</p>"
      ],
      "text/plain": [
       "class=CovarianceMatrix dimension=3 implementation=class=MatrixImplementation name=Unnamed rows=3 columns=3 values=[0.0168322,0.0003082,-0.0261941,0.0003082,0.0222599,-6.12752e-05,-0.0261941,-6.12752e-05,0.0772671]"
      ]
     },
     "execution_count": 26,
     "metadata": {},
     "output_type": "execute_result"
    }
   ],
   "source": [
    "covarianceThetaStar"
   ]
  },
  {
   "cell_type": "markdown",
   "metadata": {},
   "source": [
    "## GaussianNonLinearCalibrationCompute"
   ]
  },
  {
   "cell_type": "code",
   "execution_count": 32,
   "metadata": {},
   "outputs": [],
   "source": [
    "thetaStar, covarianceThetaStar = GaussianNonLinearCalibrationCompute(model, inputObservations, outputObservations, \\\n",
    "                                    candidate, parameterCovariance, errorCovariance)"
   ]
  },
  {
   "cell_type": "code",
   "execution_count": 33,
   "metadata": {},
   "outputs": [
    {
     "data": {
      "text/html": [
       "<p>[10.9745,6.61909,-9.23324]</p>"
      ],
      "text/plain": [
       "class=Point name=Unnamed dimension=3 values=[10.9745,6.61909,-9.23324]"
      ]
     },
     "execution_count": 33,
     "metadata": {},
     "output_type": "execute_result"
    }
   ],
   "source": [
    "thetaStar"
   ]
  },
  {
   "cell_type": "code",
   "execution_count": 34,
   "metadata": {
    "scrolled": true
   },
   "outputs": [
    {
     "data": {
      "text/html": [
       "<p>[[  0.0219515   -0.000118445 -0.0300531   ]<br>\n",
       " [ -0.000118445  0.0223291   -0.0021027   ]<br>\n",
       " [ -0.0300531   -0.0021027    0.112363    ]]</p>"
      ],
      "text/plain": [
       "class=CovarianceMatrix dimension=3 implementation=class=MatrixImplementation name=Unnamed rows=3 columns=3 values=[0.0219515,-0.000118445,-0.0300531,-0.000118445,0.0223291,-0.0021027,-0.0300531,-0.0021027,0.112363]"
      ]
     },
     "execution_count": 34,
     "metadata": {},
     "output_type": "execute_result"
    }
   ],
   "source": [
    "covarianceThetaStar"
   ]
  },
  {
   "cell_type": "markdown",
   "metadata": {},
   "source": [
    "## Kalman"
   ]
  },
  {
   "cell_type": "code",
   "execution_count": 27,
   "metadata": {},
   "outputs": [
    {
     "data": {
      "text/html": [
       "<p>[10.9745,6.61909,-9.23324]</p>"
      ],
      "text/plain": [
       "class=Point name=Unnamed dimension=3 values=[10.9745,6.61909,-9.23324]"
      ]
     },
     "execution_count": 27,
     "metadata": {},
     "output_type": "execute_result"
    }
   ],
   "source": [
    "thetaStar, covarianceThetaStar = ComputeFromKalman(model, inputObservations, outputObservations, \\\n",
    "    candidate, parameterCovariance, errorCovariance)\n",
    "thetaStar"
   ]
  },
  {
   "cell_type": "code",
   "execution_count": 28,
   "metadata": {},
   "outputs": [
    {
     "data": {
      "text/html": [
       "<p>[[  0.0168322    0.0003082   -0.0261941   ]<br>\n",
       " [  0.0003082    0.0222599   -6.12752e-05 ]<br>\n",
       " [ -0.0261941   -6.12752e-05  0.0772671   ]]</p>"
      ],
      "text/plain": [
       "class=Matrix implementation=class=MatrixImplementation name=Unnamed rows=3 columns=3 values=[0.0168322,0.0003082,-0.0261941,0.0003082,0.0222599,-6.12752e-05,-0.0261941,-6.12752e-05,0.0772671]"
      ]
     },
     "execution_count": 28,
     "metadata": {},
     "output_type": "execute_result"
    }
   ],
   "source": [
    "covarianceThetaStar"
   ]
  },
  {
   "cell_type": "code",
   "execution_count": 29,
   "metadata": {},
   "outputs": [
    {
     "data": {
      "text/html": [
       "<p>[10.9745,6.61909,-9.23324]</p>"
      ],
      "text/plain": [
       "class=Point name=Unnamed dimension=3 values=[10.9745,6.61909,-9.23324]"
      ]
     },
     "execution_count": 29,
     "metadata": {},
     "output_type": "execute_result"
    }
   ],
   "source": [
    "thetaStar = ComputeFromLinearLeastSquaresCholesky(model, inputObservations, outputObservations, \\\n",
    "    candidate, parameterCovariance, errorCovariance)\n",
    "thetaStar"
   ]
  },
  {
   "cell_type": "markdown",
   "metadata": {},
   "source": [
    "## Par la formule de Woodbury"
   ]
  },
  {
   "cell_type": "code",
   "execution_count": 30,
   "metadata": {},
   "outputs": [
    {
     "data": {
      "text/html": [
       "<p>[[ -516669        2615.06  -149547     ]<br>\n",
       " [    2615.06    -2545.23      744.023 ]<br>\n",
       " [ -149547         744.023  -45396.4   ]]</p>"
      ],
      "text/plain": [
       "class=Matrix implementation=class=MatrixImplementation name=Unnamed rows=3 columns=3 values=[-516669,2615.06,-149547,2615.06,-2545.23,744.023,-149547,744.023,-45396.4]"
      ]
     },
     "execution_count": 30,
     "metadata": {},
     "output_type": "execute_result"
    }
   ],
   "source": [
    "covarianceThetaStar = ComputeCovarianceFromWoodbury(model, inputObservations, outputObservations, \\\n",
    "    candidate, parameterCovariance, errorCovariance)\n",
    "covarianceThetaStar"
   ]
  },
  {
   "cell_type": "code",
   "execution_count": 31,
   "metadata": {},
   "outputs": [
    {
     "data": {
      "text/html": [
       "<p>[[  0.0168322    0.0003082   -0.0261941   ]<br>\n",
       " [  0.0003082    0.0222599   -6.12752e-05 ]<br>\n",
       " [ -0.0261941   -6.12752e-05  0.0772671   ]]</p>"
      ],
      "text/plain": [
       "class=Matrix implementation=class=MatrixImplementation name=Unnamed rows=3 columns=3 values=[0.0168322,0.0003082,-0.0261941,0.0003082,0.0222599,-6.12752e-05,-0.0261941,-6.12752e-05,0.0772671]"
      ]
     },
     "execution_count": 31,
     "metadata": {},
     "output_type": "execute_result"
    }
   ],
   "source": [
    "thetaStar, covarianceThetaStar = ComputeFromKalman(model, inputObservations, outputObservations, \\\n",
    "    candidate, parameterCovariance, errorCovariance)\n",
    "covarianceThetaStar"
   ]
  },
  {
   "cell_type": "code",
   "execution_count": null,
   "metadata": {},
   "outputs": [],
   "source": []
  }
 ],
 "metadata": {
  "kernelspec": {
   "display_name": "Python 3",
   "language": "python",
   "name": "python3"
  },
  "language_info": {
   "codemirror_mode": {
    "name": "ipython",
    "version": 3
   },
   "file_extension": ".py",
   "mimetype": "text/x-python",
   "name": "python",
   "nbconvert_exporter": "python",
   "pygments_lexer": "ipython3",
   "version": "3.7.1"
  }
 },
 "nbformat": 4,
 "nbformat_minor": 2
}
