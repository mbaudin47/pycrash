{
 "cells": [
  {
   "cell_type": "code",
   "execution_count": 1,
   "metadata": {},
   "outputs": [],
   "source": [
    "import openturns as ot"
   ]
  },
  {
   "cell_type": "code",
   "execution_count": 2,
   "metadata": {},
   "outputs": [
    {
     "data": {
      "text/html": [
       "<p>[a,b,c,x]->[a + b * exp(c * x),(a * x^2 + b) / (c + x^2)]</p>"
      ],
      "text/plain": [
       "class=SymbolicFunction name=Unnamed implementation=class=FunctionImplementation name=Unnamed description=[a,b,c,x,y0,y1] evaluationImplementation=class=SymbolicEvaluation name=Unnamed inputVariablesNames=[a,b,c,x] outputVariablesNames=[y0,y1] formulas=[a + b * exp(c * x),(a * x^2 + b) / (c + x^2)] gradientImplementation=class=SymbolicGradient name=Unnamed evaluation=class=SymbolicEvaluation name=Unnamed inputVariablesNames=[a,b,c,x] outputVariablesNames=[y0,y1] formulas=[a + b * exp(c * x),(a * x^2 + b) / (c + x^2)] hessianImplementation=class=SymbolicHessian name=Unnamed evaluation=class=SymbolicEvaluation name=Unnamed inputVariablesNames=[a,b,c,x] outputVariablesNames=[y0,y1] formulas=[a + b * exp(c * x),(a * x^2 + b) / (c + x^2)]"
      ]
     },
     "execution_count": 2,
     "metadata": {},
     "output_type": "execute_result"
    }
   ],
   "source": [
    "inVars = [\"a\", \"b\", \"c\", \"x\"]\n",
    "formulas = [\"a + b * exp(c * x)\", \"(a * x^2 + b) / (c + x^2)\"]\n",
    "g = ot.SymbolicFunction(inVars, formulas)\n",
    "g"
   ]
  },
  {
   "cell_type": "code",
   "execution_count": 3,
   "metadata": {},
   "outputs": [
    {
     "data": {
      "text/html": [
       "<TABLE><TR><TD></TD><TH>v0</TH></TR>\n",
       "<TR><TD>0</TD><TD>0.5</TD></TR>\n",
       "<TR><TD>1</TD><TD>1.5</TD></TR>\n",
       "<TR><TD>2</TD><TD>2.5</TD></TR>\n",
       "<TR><TD>3</TD><TD>3.5</TD></TR>\n",
       "<TR><TD>4</TD><TD>4.5</TD></TR>\n",
       "<TR><TD>5</TD><TD>5.5</TD></TR>\n",
       "<TR><TD>6</TD><TD>6.5</TD></TR>\n",
       "<TR><TD>7</TD><TD>7.5</TD></TR>\n",
       "<TR><TD>8</TD><TD>8.5</TD></TR>\n",
       "<TR><TD>9</TD><TD>9.5</TD></TR>\n",
       "</TABLE>"
      ],
      "text/plain": [
       "class=Sample name=Unnamed implementation=class=SampleImplementation name=Unnamed size=10 dimension=1 data=[[0.5],[1.5],[2.5],[3.5],[4.5],[5.5],[6.5],[7.5],[8.5],[9.5]]"
      ]
     },
     "execution_count": 3,
     "metadata": {},
     "output_type": "execute_result"
    }
   ],
   "source": [
    "size = 10\n",
    "inputObservations = ot.Sample([0.5 + i for i in range(size)],1)\n",
    "inputObservations"
   ]
  },
  {
   "cell_type": "code",
   "execution_count": 4,
   "metadata": {
    "scrolled": true
   },
   "outputs": [
    {
     "data": {
      "text/html": [
       "<p>ParametricEvaluation([a,b,c,x]->[a + b * exp(c * x),(a * x^2 + b) / (c + x^2)], parameters positions=[0,1,2], parameters=[a : 2.8, b : 1.2, c : 0.5], input positions=[3])</p>"
      ],
      "text/plain": [
       "class=FunctionImplementation name=Unnamed description=[x,y0,y1] evaluationImplementation=class=ParametricEvaluation function=class=Function name=Unnamed implementation=class=FunctionImplementation name=Unnamed description=[a,b,c,x,y0,y1] evaluationImplementation=class=SymbolicEvaluation name=Unnamed inputVariablesNames=[a,b,c,x] outputVariablesNames=[y0,y1] formulas=[a + b * exp(c * x),(a * x^2 + b) / (c + x^2)] gradientImplementation=class=SymbolicGradient name=Unnamed evaluation=class=SymbolicEvaluation name=Unnamed inputVariablesNames=[a,b,c,x] outputVariablesNames=[y0,y1] formulas=[a + b * exp(c * x),(a * x^2 + b) / (c + x^2)] hessianImplementation=class=SymbolicHessian name=Unnamed evaluation=class=SymbolicEvaluation name=Unnamed inputVariablesNames=[a,b,c,x] outputVariablesNames=[y0,y1] formulas=[a + b * exp(c * x),(a * x^2 + b) / (c + x^2)] parameters positions=[0,1,2] parameters=class=PointWithDescription name=Unnamed dimension=3 description=[a,b,c] values=[2.8,1.2,0.5] input positions=[3] gradientImplementation=class=ParametricGradient evaluation=class=ParametricEvaluation function=class=Function name=Unnamed implementation=class=FunctionImplementation name=Unnamed description=[a,b,c,x,y0,y1] evaluationImplementation=class=SymbolicEvaluation name=Unnamed inputVariablesNames=[a,b,c,x] outputVariablesNames=[y0,y1] formulas=[a + b * exp(c * x),(a * x^2 + b) / (c + x^2)] gradientImplementation=class=SymbolicGradient name=Unnamed evaluation=class=SymbolicEvaluation name=Unnamed inputVariablesNames=[a,b,c,x] outputVariablesNames=[y0,y1] formulas=[a + b * exp(c * x),(a * x^2 + b) / (c + x^2)] hessianImplementation=class=SymbolicHessian name=Unnamed evaluation=class=SymbolicEvaluation name=Unnamed inputVariablesNames=[a,b,c,x] outputVariablesNames=[y0,y1] formulas=[a + b * exp(c * x),(a * x^2 + b) / (c + x^2)] parameters positions=[0,1,2] parameters=class=PointWithDescription name=Unnamed dimension=3 description=[a,b,c] values=[2.8,1.2,0.5] input positions=[3] hessianImplementation=class=ParametricHessian evaluation=class=ParametricEvaluation function=class=Function name=Unnamed implementation=class=FunctionImplementation name=Unnamed description=[a,b,c,x,y0,y1] evaluationImplementation=class=SymbolicEvaluation name=Unnamed inputVariablesNames=[a,b,c,x] outputVariablesNames=[y0,y1] formulas=[a + b * exp(c * x),(a * x^2 + b) / (c + x^2)] gradientImplementation=class=SymbolicGradient name=Unnamed evaluation=class=SymbolicEvaluation name=Unnamed inputVariablesNames=[a,b,c,x] outputVariablesNames=[y0,y1] formulas=[a + b * exp(c * x),(a * x^2 + b) / (c + x^2)] hessianImplementation=class=SymbolicHessian name=Unnamed evaluation=class=SymbolicEvaluation name=Unnamed inputVariablesNames=[a,b,c,x] outputVariablesNames=[y0,y1] formulas=[a + b * exp(c * x),(a * x^2 + b) / (c + x^2)] parameters positions=[0,1,2] parameters=class=PointWithDescription name=Unnamed dimension=3 description=[a,b,c] values=[2.8,1.2,0.5] input positions=[3]"
      ]
     },
     "execution_count": 4,
     "metadata": {},
     "output_type": "execute_result"
    }
   ],
   "source": [
    "p_ref = [2.8, 1.2, 0.5]\n",
    "params = [0, 1, 2]\n",
    "model = ot.ParametricFunction(g, params, p_ref)\n",
    "model"
   ]
  },
  {
   "cell_type": "code",
   "execution_count": 5,
   "metadata": {},
   "outputs": [
    {
     "data": {
      "text/html": [
       "<TABLE><TR><TD></TD><TH>y0</TH><TH>y1</TH></TR>\n",
       "<TR><TD>0</TD><TD>4.340830500025289</TD><TD>2.533333333333333</TD></TR>\n",
       "<TR><TD>1</TD><TD>5.34040001993521</TD><TD>2.727272727272727</TD></TR>\n",
       "<TR><TD>2</TD><TD>6.988411548954209</TD><TD>2.77037037037037</TD></TR>\n",
       "<TR><TD>3</TD><TD>9.705523211206877</TD><TD>2.784313725490196</TD></TR>\n",
       "<TR><TD>4</TD><TD>14.185283003630232</TD><TD>2.7903614457831325</TD></TR>\n",
       "</TABLE>"
      ],
      "text/plain": [
       "class=Sample name=Unnamed implementation=class=SampleImplementation name=Unnamed size=5 dimension=2 description=[y0,y1] data=[[4.34083,2.53333],[5.3404,2.72727],[6.98841,2.77037],[9.70552,2.78431],[14.1853,2.79036]]"
      ]
     },
     "execution_count": 5,
     "metadata": {},
     "output_type": "execute_result"
    }
   ],
   "source": [
    "modelObservations = model(inputObservations)\n",
    "modelObservations[0:5]"
   ]
  },
  {
   "cell_type": "code",
   "execution_count": 6,
   "metadata": {},
   "outputs": [
    {
     "data": {
      "image/png": "[encoded data removed]",
      "text/plain": [
       "class=Graph name=y0 as a function of x implementation=class=GraphImplementation name=y0 as a function of x title=y0 as a function of x xTitle=x yTitle=y0 axes=ON grid=ON legendposition= legendFontSize=1 drawables=[class=Drawable name=Unnamed implementation=class=Curve name=Unnamed derived from class=DrawableImplementation name=Unnamed legend= data=class=Sample name=Unnamed implementation=class=SampleImplementation name=Unnamed size=129 dimension=2 data=[[0.5,4.34083],[0.570312,4.39596],[0.640625,4.45307],[0.710938,4.51222],[0.78125,4.57349],[0.851562,4.63694],[0.921875,4.70267],[0.992188,4.77075],[1.0625,4.84127],[1.13281,4.91431],[1.20312,4.98996],[1.27344,5.06832],[1.34375,5.14949],[1.41406,5.23355],[1.48438,5.32063],[1.55469,5.41082],[1.625,5.50424],[1.69531,5.601],[1.76562,5.70123],[1.83594,5.80504],[1.90625,5.91256],[1.97656,6.02394],[2.04688,6.13929],[2.11719,6.25878],[2.1875,6.38254],[2.25781,6.51073],[2.32812,6.6435],[2.39844,6.78103],[2.46875,6.92348],[2.53906,7.07102],[2.60938,7.22384],[2.67969,7.38214],[2.75,7.54609],[2.82031,7.71591],[2.89062,7.89181],[2.96094,8.07401],[3.03125,8.26272],[3.10156,8.45818],[3.17188,8.66064],[3.24219,8.87034],[3.3125,9.08755],[3.38281,9.31253],[3.45312,9.54556],[3.52344,9.78692],[3.59375,10.0369],[3.66406,10.2959],[3.73438,10.5641],[3.80469,10.8419],[3.875,11.1297],[3.94531,11.4277],[4.01562,11.7364],[4.08594,12.0562],[4.15625,12.3874],[4.22656,12.7304],[4.29688,13.0857],[4.36719,13.4538],[4.4375,13.835],[4.50781,14.2298],[4.57812,14.6388],[4.64844,15.0624],[4.71875,15.5012],[4.78906,15.9557],[4.85938,16.4264],[4.92969,16.914],[5,17.419],[5.07031,17.9421],[5.14062,18.4839],[5.21094,19.0451],[5.28125,19.6264],[5.35156,20.2284],[5.42188,20.852],[5.49219,21.498],[5.5625,22.167],[5.63281,22.86],[5.70312,23.5778],[5.77344,24.3212],[5.84375,25.0913],[5.91406,25.8889],[5.98438,26.7151],[6.05469,27.5708],[6.125,28.4571],[6.19531,29.3752],[6.26562,30.3261],[6.33594,31.311],[6.40625,32.3312],[6.47656,33.3878],[6.54688,34.4823],[6.61719,35.616],[6.6875,36.7902],[6.75781,38.0064],[6.82812,39.2661],[6.89844,40.571],[6.96875,41.9225],[7.03906,43.3223],[7.10938,44.7723],[7.17969,46.2741],[7.25,47.8297],[7.32031,49.4409],[7.39062,51.1098],[7.46094,52.8384],[7.53125,54.6288],[7.60156,56.4833],[7.67188,58.4042],[7.74219,60.3938],[7.8125,62.4546],[7.88281,64.5892],[7.95312,66.8001],[8.02344,69.0901],[8.09375,71.462],[8.16406,73.9189],[8.23438,76.4636],[8.30469,79.0994],[8.375,81.8295],[8.44531,84.6573],[8.51562,87.5863],[8.58594,90.6201],[8.65625,93.7624],[8.72656,97.0172],[8.79688,100.388],[8.86719,103.88],[8.9375,107.497],[9.00781,111.243],[9.07812,115.124],[9.14844,119.143],[9.21875,123.306],[9.28906,127.618],[9.35938,132.084],[9.42969,136.71],[9.5,141.501]] color=blue fillStyle=solid lineStyle=solid pointStyle=none lineWidth=1]"
      ]
     },
     "execution_count": 6,
     "metadata": {},
     "output_type": "execute_result"
    }
   ],
   "source": [
    "model.getMarginal(0).draw(0.5,9.5)"
   ]
  },
  {
   "cell_type": "code",
   "execution_count": 7,
   "metadata": {},
   "outputs": [
    {
     "data": {
      "text/plain": [
       "2"
      ]
     },
     "execution_count": 7,
     "metadata": {},
     "output_type": "execute_result"
    }
   ],
   "source": [
    "outputDimension = modelObservations.getDimension()\n",
    "outputDimension"
   ]
  },
  {
   "cell_type": "code",
   "execution_count": 8,
   "metadata": {},
   "outputs": [],
   "source": [
    "parameterDimension = model.getParameter().getDimension()"
   ]
  },
  {
   "cell_type": "code",
   "execution_count": 9,
   "metadata": {},
   "outputs": [
    {
     "data": {
      "text/html": [
       "<p>[1,1,1]</p>"
      ],
      "text/plain": [
       "class=Point name=Unnamed dimension=3 values=[1,1,1]"
      ]
     },
     "execution_count": 9,
     "metadata": {},
     "output_type": "execute_result"
    }
   ],
   "source": [
    "candidate = ot.Point([1.0]*3)\n",
    "candidate"
   ]
  },
  {
   "cell_type": "code",
   "execution_count": 10,
   "metadata": {},
   "outputs": [],
   "source": [
    "model.setParameter(candidate)"
   ]
  },
  {
   "cell_type": "code",
   "execution_count": 11,
   "metadata": {},
   "outputs": [
    {
     "data": {
      "text/html": [
       "<p>3x20<br>\n",
       "[[      1              0.2            1              0.692308       1              0.862069       1              0.924528       1              0.952941       1              0.968          1              0.976879       1              0.982533       1              0.986348       1              0.989041  ]<br>\n",
       " [      1.64872        0.8            4.48169        0.307692      12.1825         0.137931      33.1155         0.0754717     90.0171         0.0470588    244.692          0.032        665.142          0.0231214   1808.04           0.0174672   4914.77           0.0136519  13359.7            0.0109589 ]<br>\n",
       " [      0.824361      -0.8            6.72253       -0.307692      30.4562        -0.137931     115.904         -0.0754717    405.077         -0.0470588   1345.81          -0.032       4323.42          -0.0231214  13560.3           -0.0174672  41775.5           -0.0136519 126917             -0.0109589 ]]</p>"
      ],
      "text/plain": [
       "class=Matrix implementation=class=MatrixImplementation name=Unnamed rows=3 columns=20 values=[1,1.64872,0.824361,0.2,0.8,-0.8,1,4.48169,6.72253,0.692308,0.307692,-0.307692,1,12.1825,30.4562,0.862069,0.137931,-0.137931,1,33.1155,115.904,0.924528,0.0754717,-0.0754717,1,90.0171,405.077,0.952941,0.0470588,-0.0470588,1,244.692,1345.81,0.968,0.032,-0.032,1,665.142,4323.42,0.976879,0.0231214,-0.0231214,1,1808.04,13560.3,0.982533,0.0174672,-0.0174672,1,4914.77,41775.5,0.986348,0.0136519,-0.0136519,1,13359.7,126917,0.989041,0.0109589,-0.0109589]"
      ]
     },
     "execution_count": 11,
     "metadata": {},
     "output_type": "execute_result"
    }
   ],
   "source": [
    "transposedGradientObservations = ot.Matrix(parameterDimension,size*outputDimension)\n",
    "for i in range(size):\n",
    "    g = model.parameterGradient(inputObservations[i])\n",
    "    for j in range(outputDimension):\n",
    "        for k in range(parameterDimension):\n",
    "            transposedGradientObservations[k,i*outputDimension + j] = g[k,j]\n",
    "transposedGradientObservations"
   ]
  },
  {
   "cell_type": "code",
   "execution_count": 12,
   "metadata": {},
   "outputs": [
    {
     "data": {
      "text/html": [
       "<p>20x3<br>\n",
       "[[      1              1.64872        0.824361  ]<br>\n",
       " [      0.2            0.8           -0.8       ]<br>\n",
       " [      1              4.48169        6.72253   ]<br>\n",
       " [      0.692308       0.307692      -0.307692  ]<br>\n",
       " [      1             12.1825        30.4562    ]<br>\n",
       " [      0.862069       0.137931      -0.137931  ]<br>\n",
       " [      1             33.1155       115.904     ]<br>\n",
       " [      0.924528       0.0754717     -0.0754717 ]<br>\n",
       " [      1             90.0171       405.077     ]<br>\n",
       " [      0.952941       0.0470588     -0.0470588 ]<br>\n",
       " [      1            244.692       1345.81      ]<br>\n",
       " [      0.968          0.032         -0.032     ]<br>\n",
       " [      1            665.142       4323.42      ]<br>\n",
       " [      0.976879       0.0231214     -0.0231214 ]<br>\n",
       " [      1           1808.04       13560.3       ]<br>\n",
       " [      0.982533       0.0174672     -0.0174672 ]<br>\n",
       " [      1           4914.77       41775.5       ]<br>\n",
       " [      0.986348       0.0136519     -0.0136519 ]<br>\n",
       " [      1          13359.7       126917         ]<br>\n",
       " [      0.989041       0.0109589     -0.0109589 ]]</p>"
      ],
      "text/plain": [
       "class=Matrix implementation=class=MatrixImplementation name=Unnamed rows=20 columns=3 values=[1,0.2,1,0.692308,1,0.862069,1,0.924528,1,0.952941,1,0.968,1,0.976879,1,0.982533,1,0.986348,1,0.989041,1.64872,0.8,4.48169,0.307692,12.1825,0.137931,33.1155,0.0754717,90.0171,0.0470588,244.692,0.032,665.142,0.0231214,1808.04,0.0174672,4914.77,0.0136519,13359.7,0.0109589,0.824361,-0.8,6.72253,-0.307692,30.4562,-0.137931,115.904,-0.0754717,405.077,-0.0470588,1345.81,-0.032,4323.42,-0.0231214,13560.3,-0.0174672,41775.5,-0.0136519,126917,-0.0109589]"
      ]
     },
     "execution_count": 12,
     "metadata": {},
     "output_type": "execute_result"
    }
   ],
   "source": [
    "gradientObservations = transposedGradientObservations.transpose()\n",
    "gradientObservations"
   ]
  },
  {
   "cell_type": "code",
   "execution_count": 13,
   "metadata": {},
   "outputs": [],
   "source": [
    "import numpy as np"
   ]
  },
  {
   "cell_type": "code",
   "execution_count": 14,
   "metadata": {},
   "outputs": [
    {
     "data": {
      "text/plain": [
       "36772.610218841444"
      ]
     },
     "execution_count": 14,
     "metadata": {},
     "output_type": "execute_result"
    }
   ],
   "source": [
    "np.linalg.cond(gradientObservations)"
   ]
  },
  {
   "cell_type": "code",
   "execution_count": null,
   "metadata": {},
   "outputs": [],
   "source": []
  }
 ],
 "metadata": {
  "kernelspec": {
   "display_name": "Python 3",
   "language": "python",
   "name": "python3"
  },
  "language_info": {
   "codemirror_mode": {
    "name": "ipython",
    "version": 3
   },
   "file_extension": ".py",
   "mimetype": "text/x-python",
   "name": "python",
   "nbconvert_exporter": "python",
   "pygments_lexer": "ipython3",
   "version": "3.7.1"
  }
 },
 "nbformat": 4,
 "nbformat_minor": 2
}
