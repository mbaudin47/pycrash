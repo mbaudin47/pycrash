{
 "cells": [
  {
   "cell_type": "markdown",
   "metadata": {},
   "source": [
    "L'objectif de ce NB est de vérifier la distribution de la solution du problème de moindres carrés linéaires. Plus précisément, on vérifie que la covariance de la loi gaussienne associée à la méthode `getParameterPosterior` est correcte pour la classe `GaussianLinearCalibration`.\n",
    "\n",
    "Une difficulté pour valider le résultat est que le modèle de Chaboche n'est que approximativement linéaire."
   ]
  },
  {
   "cell_type": "markdown",
   "metadata": {},
   "source": [
    "## Generate the observations"
   ]
  },
  {
   "cell_type": "code",
   "execution_count": 1,
   "metadata": {},
   "outputs": [],
   "source": [
    "import numpy as np\n",
    "import openturns as ot"
   ]
  },
  {
   "cell_type": "code",
   "execution_count": 2,
   "metadata": {},
   "outputs": [],
   "source": [
    "ot.RandomGenerator.SetSeed(0)"
   ]
  },
  {
   "cell_type": "code",
   "execution_count": 3,
   "metadata": {},
   "outputs": [],
   "source": [
    "def modelChaboche(X):\n",
    "    strain,R,C,gamma = X\n",
    "    stress = R + C*(1-np.exp(-gamma*strain))\n",
    "    return [stress]"
   ]
  },
  {
   "cell_type": "code",
   "execution_count": 4,
   "metadata": {},
   "outputs": [],
   "source": [
    "g = ot.PythonFunction(4, 1, modelChaboche) "
   ]
  },
  {
   "cell_type": "code",
   "execution_count": 5,
   "metadata": {},
   "outputs": [],
   "source": [
    "Strain = ot.Uniform(0,0.07)\n",
    "unknownR = 750\n",
    "unknownC = 2750\n",
    "unknownGamma = 10\n",
    "R = ot.Dirac(unknownR)\n",
    "C = ot.Dirac(unknownC)\n",
    "Gamma = ot.Dirac(unknownGamma)\n",
    "\n",
    "Strain.setDescription([\"Strain\"])\n",
    "R.setDescription([\"R\"])\n",
    "C.setDescription([\"C\"])\n",
    "Gamma.setDescription([\"Gamma\"])"
   ]
  },
  {
   "cell_type": "code",
   "execution_count": 6,
   "metadata": {},
   "outputs": [],
   "source": [
    "trueMean = [unknownR,unknownC,unknownGamma]"
   ]
  },
  {
   "cell_type": "markdown",
   "metadata": {},
   "source": [
    "Create the joint input distribution function."
   ]
  },
  {
   "cell_type": "code",
   "execution_count": 7,
   "metadata": {},
   "outputs": [],
   "source": [
    "inputRandomVector = ot.ComposedDistribution([Strain, R, C, Gamma])"
   ]
  },
  {
   "cell_type": "markdown",
   "metadata": {},
   "source": [
    "Generate observation noise."
   ]
  },
  {
   "cell_type": "code",
   "execution_count": 8,
   "metadata": {},
   "outputs": [],
   "source": [
    "stressObservationNoiseSigma = 40 # (Pa)\n",
    "observationOutputNoise = ot.Normal(0.,stressObservationNoiseSigma)"
   ]
  },
  {
   "cell_type": "markdown",
   "metadata": {},
   "source": [
    "## Set the calibration parameters"
   ]
  },
  {
   "cell_type": "markdown",
   "metadata": {},
   "source": [
    "Define the value of the reference values of the $\\theta$ parameter. In the bayesian framework, this is called the mean of the *prior* gaussian distribution. In the data assimilation framework, this is called the *background*."
   ]
  },
  {
   "cell_type": "code",
   "execution_count": 9,
   "metadata": {},
   "outputs": [],
   "source": [
    "R = 700 # Exact : 750\n",
    "C = 2500 # Exact : 2750\n",
    "Gamma = 8. # Exact : 10\n",
    "candidate = ot.Point([R,C,Gamma])"
   ]
  },
  {
   "cell_type": "markdown",
   "metadata": {},
   "source": [
    "The following statement create the calibrated function from the model. The calibrated parameters Ks, Zv, Zm are at indices 1, 2, 3 in the inputs arguments of the model."
   ]
  },
  {
   "cell_type": "code",
   "execution_count": 10,
   "metadata": {
    "scrolled": true
   },
   "outputs": [],
   "source": [
    "calibratedIndices = [1,2,3]\n",
    "model = ot.ParametricFunction(g, calibratedIndices, candidate)"
   ]
  },
  {
   "cell_type": "markdown",
   "metadata": {},
   "source": [
    "## Gaussian linear calibration"
   ]
  },
  {
   "cell_type": "markdown",
   "metadata": {},
   "source": [
    "The standard deviation of the observations."
   ]
  },
  {
   "cell_type": "code",
   "execution_count": 11,
   "metadata": {},
   "outputs": [],
   "source": [
    "sigmaStress = 10. # (Pa)"
   ]
  },
  {
   "cell_type": "markdown",
   "metadata": {},
   "source": [
    "Define the covariance matrix of the output Y of the model."
   ]
  },
  {
   "cell_type": "code",
   "execution_count": 12,
   "metadata": {},
   "outputs": [
    {
     "data": {
      "text/html": [
       "<p>[[ 100 ]]</p>"
      ],
      "text/plain": [
       "class=CovarianceMatrix dimension=1 implementation=class=MatrixImplementation name=Unnamed rows=1 columns=1 values=[100]"
      ]
     },
     "execution_count": 12,
     "metadata": {},
     "output_type": "execute_result"
    }
   ],
   "source": [
    "errorCovariance = ot.CovarianceMatrix(1)\n",
    "errorCovariance[0,0] = sigmaStress**2\n",
    "errorCovariance"
   ]
  },
  {
   "cell_type": "markdown",
   "metadata": {},
   "source": [
    "Defined the covariance matrix of the parameters $\\theta$ to calibrate."
   ]
  },
  {
   "cell_type": "code",
   "execution_count": 13,
   "metadata": {},
   "outputs": [],
   "source": [
    "sigmaR = 0.1 * R\n",
    "sigmaC = 0.1 * C\n",
    "sigmaGamma = 0.1 * Gamma"
   ]
  },
  {
   "cell_type": "code",
   "execution_count": 14,
   "metadata": {
    "scrolled": true
   },
   "outputs": [
    {
     "data": {
      "text/html": [
       "<p>[[  4900        0        0    ]<br>\n",
       " [     0    62500        0    ]<br>\n",
       " [     0        0        0.64 ]]</p>"
      ],
      "text/plain": [
       "class=CovarianceMatrix dimension=3 implementation=class=MatrixImplementation name=Unnamed rows=3 columns=3 values=[4900,0,0,0,62500,0,0,0,0.64]"
      ]
     },
     "execution_count": 14,
     "metadata": {},
     "output_type": "execute_result"
    }
   ],
   "source": [
    "parameterCovariance = ot.CovarianceMatrix(3)\n",
    "parameterCovariance[0,0] = sigmaR**2\n",
    "parameterCovariance[1,1] = sigmaC**2\n",
    "parameterCovariance[2,2] = sigmaGamma**2\n",
    "parameterCovariance"
   ]
  },
  {
   "cell_type": "code",
   "execution_count": 15,
   "metadata": {},
   "outputs": [],
   "source": [
    "size = 100"
   ]
  },
  {
   "cell_type": "code",
   "execution_count": 16,
   "metadata": {},
   "outputs": [],
   "source": [
    "# 1. Generate exact outputs\n",
    "inputSample = inputRandomVector.getSample(size)\n",
    "outputStress = g(inputSample)\n",
    "# 2. Add noise\n",
    "sampleNoiseH = observationOutputNoise.getSample(size)\n",
    "outputObservations = outputStress + sampleNoiseH\n",
    "# 3. Calibrate\n",
    "inputObservations = inputSample[:,0]"
   ]
  },
  {
   "cell_type": "code",
   "execution_count": 17,
   "metadata": {},
   "outputs": [],
   "source": [
    "algo = ot.GaussianLinearCalibration(model, inputObservations, outputObservations, \\\n",
    "                                    candidate, parameterCovariance, errorCovariance)\n",
    "algo.run()\n",
    "calibrationResult = algo.getResult()"
   ]
  },
  {
   "cell_type": "markdown",
   "metadata": {},
   "source": [
    "## Analysis of the results"
   ]
  },
  {
   "cell_type": "markdown",
   "metadata": {},
   "source": [
    "The `getParameterMAP` method returns the maximum of the posterior distribution of $\\theta$."
   ]
  },
  {
   "cell_type": "code",
   "execution_count": 18,
   "metadata": {},
   "outputs": [
    {
     "data": {
      "text/html": [
       "<p>[740.143,2498.81,11.1546]</p>"
      ],
      "text/plain": [
       "class=Point name=Unnamed dimension=3 values=[740.143,2498.81,11.1546]"
      ]
     },
     "execution_count": 18,
     "metadata": {},
     "output_type": "execute_result"
    }
   ],
   "source": [
    "thetaStarOT = calibrationResult.getParameterMAP()\n",
    "thetaStarOT"
   ]
  },
  {
   "cell_type": "code",
   "execution_count": 19,
   "metadata": {},
   "outputs": [
    {
     "data": {
      "text/html": [
       "<p>Normal(mu = [740.143,2498.81,11.1546], sigma = [7.8931,249.78,1.08777], R = [[  1         0.947474 -0.956627 ]<br>\n",
       " [  0.947474  1        -0.999458 ]<br>\n",
       " [ -0.956627 -0.999458  1        ]])</p>"
      ],
      "text/plain": [
       "class=Normal name=Normal dimension=3 mean=class=Point name=Unnamed dimension=3 values=[740.143,2498.81,11.1546] sigma=class=Point name=Unnamed dimension=3 values=[7.8931,249.78,1.08777] correlationMatrix=class=CorrelationMatrix dimension=3 implementation=class=MatrixImplementation name=Unnamed rows=3 columns=3 values=[1,0.947474,-0.956627,0.947474,1,-0.999458,-0.956627,-0.999458,1]"
      ]
     },
     "execution_count": 19,
     "metadata": {},
     "output_type": "execute_result"
    }
   ],
   "source": [
    "thetaPosterior = calibrationResult.getParameterPosterior()\n",
    "thetaPosterior"
   ]
  },
  {
   "cell_type": "code",
   "execution_count": 20,
   "metadata": {},
   "outputs": [
    {
     "data": {
      "text/html": [
       "<p>[[    62.301    1867.98       -8.21349 ]<br>\n",
       " [  1867.98    62390.1      -271.556   ]<br>\n",
       " [    -8.21349  -271.556       1.18325 ]]</p>"
      ],
      "text/plain": [
       "class=CovarianceMatrix dimension=3 implementation=class=MatrixImplementation name=Unnamed rows=3 columns=3 values=[62.301,1867.98,-8.21349,1867.98,62390.1,-271.556,-8.21349,-271.556,1.18325]"
      ]
     },
     "execution_count": 20,
     "metadata": {},
     "output_type": "execute_result"
    }
   ],
   "source": [
    "covarianceThetaStarOT = thetaPosterior.getCovariance()\n",
    "covarianceThetaStarOT"
   ]
  },
  {
   "cell_type": "markdown",
   "metadata": {},
   "source": [
    "## Create an empirical sample of theta\n",
    "\n",
    "Sample theta from its gaussian prior. Keep only the ones leading to predictions close to observations."
   ]
  },
  {
   "cell_type": "code",
   "execution_count": 21,
   "metadata": {},
   "outputs": [
    {
     "data": {
      "text/html": [
       "<p>Normal(mu = [700,2500,8], sigma = [70,250,0.8], R = [[ 1 0 0 ]<br>\n",
       " [ 0 1 0 ]<br>\n",
       " [ 0 0 1 ]])</p>"
      ],
      "text/plain": [
       "class=Normal name=Normal dimension=3 mean=class=Point name=Unnamed dimension=3 values=[700,2500,8] sigma=class=Point name=Unnamed dimension=3 values=[70,250,0.8] correlationMatrix=class=CorrelationMatrix dimension=3 implementation=class=MatrixImplementation name=Unnamed rows=3 columns=3 values=[1,0,0,0,1,0,0,0,1]"
      ]
     },
     "execution_count": 21,
     "metadata": {},
     "output_type": "execute_result"
    }
   ],
   "source": [
    "priorTheta = ot.Normal(candidate,parameterCovariance)\n",
    "priorTheta"
   ]
  },
  {
   "cell_type": "code",
   "execution_count": 22,
   "metadata": {},
   "outputs": [],
   "source": [
    "parameterDimension = priorTheta.getDimension()\n",
    "descr = [\"R\",\"C\",\"Gamma\"]"
   ]
  },
  {
   "cell_type": "code",
   "execution_count": 30,
   "metadata": {},
   "outputs": [],
   "source": [
    "resampleSize = 40000 # Number of Theta realization to create\n",
    "sampleTheta = ot.Sample(resampleSize,parameterDimension)\n",
    "sampleTheta.setDescription(descr)\n",
    "sampleDistance = ot.Sample(resampleSize,1)\n",
    "epsilon = size # Maximum euclidian norm absolute deviation between observations and predictions\n",
    "for i in range(resampleSize):\n",
    "    thetaRealization = priorTheta.getRealization()\n",
    "    model.setParameter(thetaRealization)\n",
    "    predictions = model(inputObservations)\n",
    "    residual = predictions.asPoint()-outputObservations.asPoint()\n",
    "    sampleTheta[i] = thetaRealization\n",
    "    sampleDistance[i,0] = residual.norm()"
   ]
  },
  {
   "cell_type": "code",
   "execution_count": 31,
   "metadata": {},
   "outputs": [
    {
     "data": {
      "image/png": "[encoded data removed]",
      "text/plain": [
       "class=Graph name=pdf as a function of v0 implementation=class=GraphImplementation name=pdf as a function of v0 title= xTitle=v0 yTitle=PDF axes=ON grid=ON legendposition=topright legendFontSize=1 drawables=[class=Drawable name=Unnamed implementation=class=Curve name=Unnamed derived from class=DrawableImplementation name=Unnamed legend=v0 PDF data=class=Sample name=Unnamed implementation=class=SampleImplementation name=Unnamed size=129 dimension=2 data=[[-1431.72,0],[-1367.69,0],[-1303.66,0],[-1239.63,0],[-1175.61,0],[-1111.58,0],[-1047.55,0],[-983.522,0],[-919.494,0],[-855.466,0],[-791.438,0],[-727.41,0],[-663.382,0],[-599.354,1.29606e-17],[-535.326,3.34397e-16],[-471.298,7.06813e-15],[-407.27,1.22456e-13],[-343.242,1.74007e-12],[-279.214,2.02957e-11],[-215.186,1.94498e-10],[-151.158,1.5333e-09],[-87.1296,9.95884e-09],[-23.1016,5.33961e-08],[40.9265,2.36935e-07],[104.955,8.72969e-07],[168.983,2.68216e-06],[233.011,6.91111e-06],[297.039,1.50459e-05],[361.067,2.79465e-05],[425.095,4.48488e-05],[489.123,6.31913e-05],[553.151,7.97417e-05],[617.179,9.22901e-05],[681.207,0.000100618],[745.235,0.000106167],[809.263,0.000110906],[873.291,0.000116286],[937.319,0.000122872],[1001.35,0.000130592],[1065.37,0.000139181],[1129.4,0.000148394],[1193.43,0.000157973],[1257.46,0.000167613],[1321.49,0.00017708],[1385.52,0.000186438],[1449.54,0.000196121],[1513.57,0.00020673],[1577.6,0.000218635],[1641.63,0.000231726],[1705.66,0.000245574],[1769.68,0.000259838],[1833.71,0.000274428],[1897.74,0.000289173],[1961.77,0.000303425],[2025.8,0.000316199],[2089.82,0.000326824],[2153.85,0.0003354],[2217.88,0.000342558],[2281.91,0.000348807],[2345.94,0.000354107],[2409.96,0.000357922],[2473.99,0.000359666],[2538.02,0.000359196],[2602.05,0.000357041],[2666.08,0.000354145],[2730.1,0.000351314],[2794.13,0.000348814],[2858.16,0.000346376],[2922.19,0.000343507],[2986.22,0.000339832],[3050.24,0.000335239],[3114.27,0.000329782],[3178.3,0.000323462],[3242.33,0.000316107],[3306.36,0.000307492],[3370.38,0.000297599],[3434.41,0.000286718],[3498.44,0.000275285],[3562.47,0.000263551],[3626.5,0.00025142],[3690.52,0.000238653],[3754.55,0.000225244],[3818.58,0.000211578],[3882.61,0.000198194],[3946.64,0.000185445],[4010.66,0.000173369],[4074.69,0.000161781],[4138.72,0.000150416],[4202.75,0.000139064],[4266.78,0.000127703],[4330.8,0.000116562],[4394.83,0.000105974],[4458.86,9.61412e-05],[4522.89,8.70625e-05],[4586.92,7.86658e-05],[4650.94,7.09423e-05],[4714.97,6.39197e-05],[4779,5.75571e-05],[4843.03,5.17063e-05],[4907.06,4.61688e-05],[4971.08,4.0798e-05],[5035.11,3.55784e-05],[5099.14,3.06259e-05],[5163.17,2.61059e-05],[5227.2,2.21389e-05],[5291.22,1.87653e-05],[5355.25,1.5965e-05],[5419.28,1.36784e-05],[5483.31,1.18119e-05],[5547.34,1.02576e-05],[5611.37,8.92721e-06],[5675.39,7.76272e-06],[5739.42,6.71483e-06],[5803.45,5.73477e-06],[5867.48,4.80169e-06],[5931.51,3.94561e-06],[5995.53,3.21976e-06],[6059.56,2.64424e-06],[6123.59,2.18628e-06],[6187.62,1.7958e-06],[6251.65,1.44731e-06],[6315.67,1.14433e-06],[6379.7,8.97158e-07],[6443.73,7.065e-07],[6507.76,5.63343e-07],[6571.79,4.55444e-07],[6635.81,3.71692e-07],[6699.84,3.02976e-07],[6763.87,2.41769e-07]] color=red fillStyle=solid lineStyle=solid pointStyle=none lineWidth=2]"
      ]
     },
     "execution_count": 31,
     "metadata": {},
     "output_type": "execute_result"
    }
   ],
   "source": [
    "ksd = ot.KernelSmoothing().build(sampleDistance)\n",
    "ksd.drawPDF()"
   ]
  },
  {
   "cell_type": "code",
   "execution_count": 34,
   "metadata": {},
   "outputs": [
    {
     "data": {
      "text/plain": [
       "515.4514142861335"
      ]
     },
     "execution_count": 34,
     "metadata": {},
     "output_type": "execute_result"
    }
   ],
   "source": [
    "probabilityThreshold = 0.01 # The probability of having a small discrepancy\n",
    "epsilon = ksd.computeQuantile(probabilityThreshold)[0]\n",
    "epsilon"
   ]
  },
  {
   "cell_type": "code",
   "execution_count": 35,
   "metadata": {},
   "outputs": [
    {
     "data": {
      "text/plain": [
       "272"
      ]
     },
     "execution_count": 35,
     "metadata": {},
     "output_type": "execute_result"
    }
   ],
   "source": [
    "conditionalSampleIndex = 0 # Number of Theta achieving the criteria\n",
    "for i in range(resampleSize):\n",
    "    if (sampleDistance[i,0]<epsilon):\n",
    "        conditionalSampleIndex += 1\n",
    "conditionalSampleSize = conditionalSampleIndex\n",
    "conditionalSampleSize"
   ]
  },
  {
   "cell_type": "code",
   "execution_count": 36,
   "metadata": {},
   "outputs": [],
   "source": [
    "conditionalSampleIndex = 0 # Number of Theta achieving the criteria\n",
    "conditionalSample = ot.Sample(conditionalSampleSize,parameterDimension)\n",
    "for i in range(resampleSize):\n",
    "    if (sampleDistance[i,0]<epsilon):\n",
    "        conditionalSample[conditionalSampleIndex] = sampleTheta[i]\n",
    "        conditionalSampleIndex += 1"
   ]
  },
  {
   "cell_type": "markdown",
   "metadata": {},
   "source": [
    "## Draw distributions"
   ]
  },
  {
   "cell_type": "code",
   "execution_count": 37,
   "metadata": {},
   "outputs": [],
   "source": [
    "import pylab as pl\n",
    "import openturns.viewer as otv"
   ]
  },
  {
   "cell_type": "code",
   "execution_count": 38,
   "metadata": {
    "scrolled": true
   },
   "outputs": [
    {
     "data": {
      "image/png": "[encoded data removed]",
      "text/plain": [
       "<Figure size 1152x288 with 3 Axes>"
      ]
     },
     "metadata": {
      "needs_background": "light"
     },
     "output_type": "display_data"
    }
   ],
   "source": [
    "fig = pl.figure(figsize=(16, 4))\n",
    "for i in range(parameterDimension):\n",
    "    thetai = thetaPosterior.getMarginal(i)\n",
    "    graph = thetai.drawPDF()\n",
    "    graph.setXTitle(descr[i])\n",
    "    # From prior\n",
    "    thetaiPriorGraph = priorTheta.getMarginal(i).drawPDF()\n",
    "    thetaiPriorGraph.setColors([\"green\"])\n",
    "    graph.add(thetaiPriorGraph)\n",
    "    # From data\n",
    "    sampleMargin = conditionalSample.getMarginal(i)\n",
    "    ksdist = ot.KernelSmoothing().build(sampleMargin).drawPDF()\n",
    "    ksdist.setColors([\"blue\"])\n",
    "    graph.add(ksdist)\n",
    "    graph.setLegends([\"Posterior\",\"Prior\",\"Data\"])\n",
    "    ax = fig.add_subplot(1, parameterDimension, i+1)\n",
    "    _ = otv.View(graph, figure=fig, axes=[ax])"
   ]
  },
  {
   "cell_type": "markdown",
   "metadata": {},
   "source": [
    "On observe que la loi à posteriori ne correspond pas à la loi des données. La cause de ce problème est peut-etre que le modèle n'est pas exactement linéaire."
   ]
  },
  {
   "cell_type": "code",
   "execution_count": null,
   "metadata": {},
   "outputs": [],
   "source": []
  }
 ],
 "metadata": {
  "kernelspec": {
   "display_name": "Python 3",
   "language": "python",
   "name": "python3"
  },
  "language_info": {
   "codemirror_mode": {
    "name": "ipython",
    "version": 3
   },
   "file_extension": ".py",
   "mimetype": "text/x-python",
   "name": "python",
   "nbconvert_exporter": "python",
   "pygments_lexer": "ipython3",
   "version": "3.7.1"
  }
 },
 "nbformat": 4,
 "nbformat_minor": 2
}
