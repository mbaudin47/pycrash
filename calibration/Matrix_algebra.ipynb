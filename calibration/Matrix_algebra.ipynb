{
 "cells": [
  {
   "cell_type": "markdown",
   "metadata": {},
   "source": [
    "## Les matrices impliquées"
   ]
  },
  {
   "cell_type": "code",
   "execution_count": 1,
   "metadata": {},
   "outputs": [],
   "source": [
    "import openturns as ot"
   ]
  },
  {
   "cell_type": "markdown",
   "metadata": {},
   "source": [
    "La matrice B."
   ]
  },
  {
   "cell_type": "code",
   "execution_count": 2,
   "metadata": {},
   "outputs": [
    {
     "data": {
      "text/html": [
       "<p>[[  4900        0        0    ]<br>\n",
       " [     0    62500        0    ]<br>\n",
       " [     0        0        0.64 ]]</p>"
      ],
      "text/plain": [
       "class=CovarianceMatrix dimension=3 implementation=class=MatrixImplementation name=Unnamed rows=3 columns=3 values=[4900,0,0,0,62500,0,0,0,0.64]"
      ]
     },
     "execution_count": 2,
     "metadata": {},
     "output_type": "execute_result"
    }
   ],
   "source": [
    "parameterCovariance = ot.CovarianceMatrix([[ 4900, 0, 0 ], [ 0, 62500, 0 ], [ 0, 0, 0.64 ]])\n",
    "parameterCovariance"
   ]
  },
  {
   "cell_type": "markdown",
   "metadata": {},
   "source": [
    "La matrice R."
   ]
  },
  {
   "cell_type": "code",
   "execution_count": 3,
   "metadata": {},
   "outputs": [
    {
     "data": {
      "text/html": [
       "<p>5x5<br>\n",
       "[[ 100   0   0   0   0 ]<br>\n",
       " [   0 100   0   0   0 ]<br>\n",
       " [   0   0 100   0   0 ]<br>\n",
       " [   0   0   0 100   0 ]<br>\n",
       " [   0   0   0   0 100 ]]</p>"
      ],
      "text/plain": [
       "class=CovarianceMatrix dimension=5 implementation=class=MatrixImplementation name=Unnamed rows=5 columns=5 values=[100,0,0,0,0,0,100,0,0,0,0,0,100,0,0,0,0,0,100,0,0,0,0,0,100]"
      ]
     },
     "execution_count": 3,
     "metadata": {},
     "output_type": "execute_result"
    }
   ],
   "source": [
    "size = 5\n",
    "errorCovariance = ot.CovarianceMatrix(size)\n",
    "for i in range(size):\n",
    "    errorCovariance[i,i] = 100.\n",
    "errorCovariance"
   ]
  },
  {
   "cell_type": "markdown",
   "metadata": {},
   "source": [
    "La matrice J."
   ]
  },
  {
   "cell_type": "code",
   "execution_count": 4,
   "metadata": {},
   "outputs": [
    {
     "data": {
      "text/html": [
       "<p>5x3<br>\n",
       "[[  1          0.297234  77.4648    ]<br>\n",
       " [  1          0.390046  94.2324    ]<br>\n",
       " [  1          0.0729565 21.9462    ]<br>\n",
       " [  1          0.0180369  5.58539   ]<br>\n",
       " [  1          0.176632  50.0072    ]]</p>"
      ],
      "text/plain": [
       "class=Matrix implementation=class=MatrixImplementation name=Unnamed rows=5 columns=3 values=[1,1,1,1,1,0.297234,0.390046,0.0729565,0.0180369,0.176632,77.4648,94.2324,21.9462,5.58539,50.0072]"
      ]
     },
     "execution_count": 4,
     "metadata": {},
     "output_type": "execute_result"
    }
   ],
   "source": [
    "gradientObservations = ot.Matrix([[ 1, 0.297234, 77.4648 ], [ 1, 0.390046, 94.2324 ], [ 1, 0.0729565, 21.9462 ], [ 1, 0.0180369, 5.58539 ], [ 1, 0.176632, 50.0072 ]])\n",
    "gradientObservations"
   ]
  },
  {
   "cell_type": "markdown",
   "metadata": {},
   "source": [
    "## Calcul de la matrice de Kalman"
   ]
  },
  {
   "cell_type": "code",
   "execution_count": 13,
   "metadata": {},
   "outputs": [],
   "source": [
    "def computeMatrixInverse(A):\n",
    "    '''Compute the inverse of a matrix'''\n",
    "    p = A.getNbRows()\n",
    "    I = ot.IdentityMatrix(p)\n",
    "    invA = A.solveLinearSystem(I)\n",
    "    return invA"
   ]
  },
  {
   "cell_type": "code",
   "execution_count": 14,
   "metadata": {},
   "outputs": [],
   "source": [
    "def computeKalmanMatrix(parameterCovariance,errorCovariance,gradientObservations):\n",
    "    invB = computeMatrixInverse(parameterCovariance)\n",
    "    invR = computeMatrixInverse(errorCovariance)\n",
    "    C = gradientObservations.transpose() * invR\n",
    "    invA = invB + C * gradientObservations\n",
    "    K = invA.solveLinearSystem(C)\n",
    "    return K"
   ]
  },
  {
   "cell_type": "code",
   "execution_count": 15,
   "metadata": {},
   "outputs": [
    {
     "data": {
      "text/html": [
       "<p>3x5<br>\n",
       "[[ -0.055002    -0.149205     0.429984     0.596194     0.164673    ]<br>\n",
       " [ -1.07739      4.09935     -1.1273       1.15781     -3.09501     ]<br>\n",
       " [  0.00924803  -0.00868822  -0.000329947 -0.012433     0.0125532   ]]</p>"
      ],
      "text/plain": [
       "class=Matrix implementation=class=MatrixImplementation name=Unnamed rows=3 columns=5 values=[-0.055002,-1.07739,0.00924803,-0.149205,4.09935,-0.00868822,0.429984,-1.1273,-0.000329947,0.596194,1.15781,-0.012433,0.164673,-3.09501,0.0125532]"
      ]
     },
     "execution_count": 15,
     "metadata": {},
     "output_type": "execute_result"
    }
   ],
   "source": [
    "K = computeKalmanMatrix(parameterCovariance,errorCovariance,gradientObservations)\n",
    "K"
   ]
  },
  {
   "cell_type": "code",
   "execution_count": 31,
   "metadata": {},
   "outputs": [],
   "source": [
    "def computeCovariance(parameterCovariance,errorCovariance,gradientObservations):\n",
    "    K = computeKalmanMatrix(parameterCovariance,errorCovariance,gradientObservations)\n",
    "    parameterDimension = parameterCovariance.getNbRows()\n",
    "    IB = ot.IdentityMatrix(parameterDimension)\n",
    "    L = IB - K * gradientObservations\n",
    "    B = ot.CovarianceMatrix(parameterCovariance)\n",
    "    R = ot.CovarianceMatrix(errorCovariance)\n",
    "    covarianceThetaStar = K * R * K.transpose() + L * B * L.transpose()\n",
    "    return covarianceThetaStar"
   ]
  },
  {
   "cell_type": "code",
   "execution_count": 32,
   "metadata": {},
   "outputs": [
    {
     "data": {
      "text/html": [
       "<p>[[    65.4421     208.448       -1.71562  ]<br>\n",
       " [   208.448    20583.9        -83.0626   ]<br>\n",
       " [    -1.71562    -83.0626       0.352798 ]]</p>"
      ],
      "text/plain": [
       "class=Matrix implementation=class=MatrixImplementation name=Unnamed rows=3 columns=3 values=[65.4421,208.448,-1.71562,208.448,20583.9,-83.0626,-1.71562,-83.0626,0.352798]"
      ]
     },
     "execution_count": 32,
     "metadata": {},
     "output_type": "execute_result"
    }
   ],
   "source": [
    "covarianceThetaStar = computeCovariance(parameterCovariance,errorCovariance,gradientObservations)\n",
    "covarianceThetaStar"
   ]
  },
  {
   "cell_type": "code",
   "execution_count": 34,
   "metadata": {},
   "outputs": [
    {
     "data": {
      "text/html": [
       "<p>[[    65.4421     208.448       -1.71562  ]<br>\n",
       " [   208.448    20583.9        -83.0626   ]<br>\n",
       " [    -1.71562    -83.0626       0.352798 ]]</p>"
      ],
      "text/plain": [
       "class=Matrix implementation=class=MatrixImplementation name=Unnamed rows=3 columns=3 values=[65.4421,208.448,-1.71562,208.448,20583.9,-83.0626,-1.71562,-83.0626,0.352798]"
      ]
     },
     "execution_count": 34,
     "metadata": {},
     "output_type": "execute_result"
    }
   ],
   "source": [
    "invB = computeMatrixInverse(parameterCovariance)\n",
    "invR = computeMatrixInverse(errorCovariance)\n",
    "C = gradientObservations.transpose() * invR\n",
    "invA = invB + C * gradientObservations\n",
    "computeMatrixInverse(invA)"
   ]
  },
  {
   "cell_type": "code",
   "execution_count": null,
   "metadata": {},
   "outputs": [],
   "source": []
  }
 ],
 "metadata": {
  "kernelspec": {
   "display_name": "Python 3",
   "language": "python",
   "name": "python3"
  },
  "language_info": {
   "codemirror_mode": {
    "name": "ipython",
    "version": 3
   },
   "file_extension": ".py",
   "mimetype": "text/x-python",
   "name": "python",
   "nbconvert_exporter": "python",
   "pygments_lexer": "ipython3",
   "version": "3.7.1"
  }
 },
 "nbformat": 4,
 "nbformat_minor": 2
}
