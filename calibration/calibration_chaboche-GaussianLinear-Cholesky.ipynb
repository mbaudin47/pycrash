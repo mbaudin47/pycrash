{
 "cells": [
  {
   "cell_type": "markdown",
   "metadata": {},
   "source": [
    "## Generate the observations"
   ]
  },
  {
   "cell_type": "code",
   "execution_count": 1,
   "metadata": {},
   "outputs": [],
   "source": [
    "import numpy as np\n",
    "import openturns as ot"
   ]
  },
  {
   "cell_type": "code",
   "execution_count": 2,
   "metadata": {},
   "outputs": [],
   "source": [
    "ot.RandomGenerator.SetSeed(0)"
   ]
  },
  {
   "cell_type": "code",
   "execution_count": 3,
   "metadata": {},
   "outputs": [],
   "source": [
    "def modelChaboche(X):\n",
    "    strain,R,C,gamma = X\n",
    "    #stress = R + C*(1-np.exp(-gamma*strain))\n",
    "    stress = R - C*np.expm1(-gamma*strain)\n",
    "    return [stress]"
   ]
  },
  {
   "cell_type": "code",
   "execution_count": 4,
   "metadata": {},
   "outputs": [],
   "source": [
    "g = ot.PythonFunction(4, 1, modelChaboche) "
   ]
  },
  {
   "cell_type": "code",
   "execution_count": 5,
   "metadata": {},
   "outputs": [],
   "source": [
    "Strain = ot.Uniform(0,0.07)\n",
    "unknownR = 750\n",
    "unknownC = 2750\n",
    "unknownGamma = 10\n",
    "R = ot.Dirac(unknownR)\n",
    "C = ot.Dirac(unknownC)\n",
    "Gamma = ot.Dirac(unknownGamma)\n",
    "\n",
    "Strain.setDescription([\"Strain\"])\n",
    "R.setDescription([\"R\"])\n",
    "C.setDescription([\"C\"])\n",
    "Gamma.setDescription([\"Gamma\"])"
   ]
  },
  {
   "cell_type": "markdown",
   "metadata": {},
   "source": [
    "Create the joint input distribution function."
   ]
  },
  {
   "cell_type": "code",
   "execution_count": 6,
   "metadata": {},
   "outputs": [],
   "source": [
    "inputRandomVector = ot.ComposedDistribution([Strain, R, C, Gamma])"
   ]
  },
  {
   "cell_type": "markdown",
   "metadata": {},
   "source": [
    "Create the Monte-Carlo sample."
   ]
  },
  {
   "cell_type": "code",
   "execution_count": 7,
   "metadata": {},
   "outputs": [
    {
     "data": {
      "text/html": [
       "<TABLE><TR><TD></TD><TH>y0</TH></TR>\n",
       "<TR><TD>0</TD><TD>1730.5171618555114</TD></TR>\n",
       "<TR><TD>1</TD><TD>2017.6372684224532</TD></TR>\n",
       "<TR><TD>2</TD><TD>998.4576888730124</TD></TR>\n",
       "<TR><TD>3</TD><TD>811.8613946134876</TD></TR>\n",
       "<TR><TD>4</TD><TD>1343.1237749833347</TD></TR>\n",
       "</TABLE>"
      ],
      "text/plain": [
       "class=Sample name=Unnamed implementation=class=SampleImplementation name=Unnamed size=5 dimension=1 description=[y0] data=[[1730.52],[2017.64],[998.458],[811.861],[1343.12]]"
      ]
     },
     "execution_count": 7,
     "metadata": {},
     "output_type": "execute_result"
    }
   ],
   "source": [
    "size = 5\n",
    "inputSample = inputRandomVector.getSample(size)\n",
    "outputStress = g(inputSample)\n",
    "outputStress[0:5]"
   ]
  },
  {
   "cell_type": "markdown",
   "metadata": {},
   "source": [
    "Generate observation noise."
   ]
  },
  {
   "cell_type": "code",
   "execution_count": 8,
   "metadata": {},
   "outputs": [],
   "source": [
    "stressObservationNoiseSigma = 40 # (Pa)\n",
    "noiseSigma = ot.Normal(0.,stressObservationNoiseSigma)\n",
    "sampleNoiseH = noiseSigma.getSample(size)\n",
    "outputObservations = outputStress + sampleNoiseH"
   ]
  },
  {
   "cell_type": "code",
   "execution_count": 9,
   "metadata": {},
   "outputs": [],
   "source": [
    "inputObservations = inputSample[:,0]"
   ]
  },
  {
   "cell_type": "markdown",
   "metadata": {},
   "source": [
    "## Set the calibration parameters"
   ]
  },
  {
   "cell_type": "markdown",
   "metadata": {},
   "source": [
    "Define the value of the reference values of the $\\theta$ parameter. In the bayesian framework, this is called the mean of the *prior* gaussian distribution. In the data assimilation framework, this is called the *background*."
   ]
  },
  {
   "cell_type": "code",
   "execution_count": 10,
   "metadata": {},
   "outputs": [],
   "source": [
    "R = 700 # Exact : 750e6\n",
    "C = 2500 # Exact : 2750e6\n",
    "Gamma = 8. # Exact : 10\n",
    "candidate = ot.Point([R,C,Gamma])"
   ]
  },
  {
   "cell_type": "markdown",
   "metadata": {},
   "source": [
    "The following statement create the calibrated function from the model. The calibrated parameters Ks, Zv, Zm are at indices 1, 2, 3 in the inputs arguments of the model."
   ]
  },
  {
   "cell_type": "code",
   "execution_count": 11,
   "metadata": {
    "scrolled": true
   },
   "outputs": [],
   "source": [
    "calibratedIndices = [1,2,3]\n",
    "model = ot.ParametricFunction(g, calibratedIndices, candidate)"
   ]
  },
  {
   "cell_type": "markdown",
   "metadata": {},
   "source": [
    "## Gaussian linear calibration"
   ]
  },
  {
   "cell_type": "markdown",
   "metadata": {},
   "source": [
    "The standard deviation of the observations."
   ]
  },
  {
   "cell_type": "code",
   "execution_count": 12,
   "metadata": {},
   "outputs": [],
   "source": [
    "sigmaStress = 10. # (Pa)"
   ]
  },
  {
   "cell_type": "markdown",
   "metadata": {},
   "source": [
    "Define the covariance matrix of the output Y of the model."
   ]
  },
  {
   "cell_type": "code",
   "execution_count": 13,
   "metadata": {},
   "outputs": [],
   "source": [
    "errorCovariance = ot.CovarianceMatrix(1)\n",
    "errorCovariance[0,0] = sigmaStress**2"
   ]
  },
  {
   "cell_type": "markdown",
   "metadata": {},
   "source": [
    "Defined the covariance matrix of the parameters $\\theta$ to calibrate."
   ]
  },
  {
   "cell_type": "code",
   "execution_count": 14,
   "metadata": {},
   "outputs": [],
   "source": [
    "sigmaR = 0.1 * R\n",
    "sigmaC = 0.1 * C\n",
    "sigmaGamma = 0.1 * Gamma"
   ]
  },
  {
   "cell_type": "code",
   "execution_count": 15,
   "metadata": {},
   "outputs": [
    {
     "data": {
      "text/html": [
       "<p>[[  4900        0        0    ]<br>\n",
       " [     0    62500        0    ]<br>\n",
       " [     0        0        0.64 ]]</p>"
      ],
      "text/plain": [
       "class=CovarianceMatrix dimension=3 implementation=class=MatrixImplementation name=Unnamed rows=3 columns=3 values=[4900,0,0,0,62500,0,0,0,0.64]"
      ]
     },
     "execution_count": 15,
     "metadata": {},
     "output_type": "execute_result"
    }
   ],
   "source": [
    "parameterCovariance = ot.CovarianceMatrix(3)\n",
    "parameterCovariance[0,0] = sigmaR**2\n",
    "parameterCovariance[1,1] = sigmaC**2\n",
    "parameterCovariance[2,2] = sigmaGamma**2\n",
    "parameterCovariance"
   ]
  },
  {
   "cell_type": "markdown",
   "metadata": {},
   "source": [
    "## Calibration"
   ]
  },
  {
   "cell_type": "markdown",
   "metadata": {},
   "source": [
    "The `GaussianLinearCalibration` class performs the gaussian linear calibration by linearizing the model in the neighbourhood of the prior."
   ]
  },
  {
   "cell_type": "code",
   "execution_count": 16,
   "metadata": {},
   "outputs": [],
   "source": [
    "algo = ot.GaussianLinearCalibration(model, inputObservations, outputObservations, candidate, parameterCovariance, errorCovariance)"
   ]
  },
  {
   "cell_type": "markdown",
   "metadata": {},
   "source": [
    "The `run` method computes the solution of the problem."
   ]
  },
  {
   "cell_type": "code",
   "execution_count": 17,
   "metadata": {},
   "outputs": [],
   "source": [
    "algo.run()"
   ]
  },
  {
   "cell_type": "code",
   "execution_count": 18,
   "metadata": {},
   "outputs": [],
   "source": [
    "calibrationResult = algo.getResult()"
   ]
  },
  {
   "cell_type": "markdown",
   "metadata": {},
   "source": [
    "## Analysis of the results"
   ]
  },
  {
   "cell_type": "markdown",
   "metadata": {},
   "source": [
    "The `getParameterMAP` method returns the maximum of the posterior distribution of $\\theta$."
   ]
  },
  {
   "cell_type": "code",
   "execution_count": 19,
   "metadata": {},
   "outputs": [
    {
     "data": {
      "text/html": [
       "<p>[739.455,2746.96,10.6293]</p>"
      ],
      "text/plain": [
       "class=Point name=Unnamed dimension=3 values=[739.455,2746.96,10.6293]"
      ]
     },
     "execution_count": 19,
     "metadata": {},
     "output_type": "execute_result"
    }
   ],
   "source": [
    "thetaStar = calibrationResult.getParameterMAP()\n",
    "thetaStar"
   ]
  },
  {
   "cell_type": "markdown",
   "metadata": {},
   "source": [
    "We can compute a 95% confidence interval of the parameter $\\theta^\\star$. "
   ]
  },
  {
   "cell_type": "code",
   "execution_count": 20,
   "metadata": {},
   "outputs": [
    {
     "data": {
      "text/html": [
       "<p>Normal(mu = [739.455,2746.96,10.6293], sigma = [8.08963,143.471,0.593968], R = [[  1         0.1796   -0.35705  ]<br>\n",
       " [  0.1796    1        -0.974716 ]<br>\n",
       " [ -0.35705  -0.974716  1        ]])</p>"
      ],
      "text/plain": [
       "class=Normal name=Normal dimension=3 mean=class=Point name=Unnamed dimension=3 values=[739.455,2746.96,10.6293] sigma=class=Point name=Unnamed dimension=3 values=[8.08963,143.471,0.593968] correlationMatrix=class=CorrelationMatrix dimension=3 implementation=class=MatrixImplementation name=Unnamed rows=3 columns=3 values=[1,0.1796,-0.35705,0.1796,1,-0.974716,-0.35705,-0.974716,1]"
      ]
     },
     "execution_count": 20,
     "metadata": {},
     "output_type": "execute_result"
    }
   ],
   "source": [
    "thetaPosterior = calibrationResult.getParameterPosterior()\n",
    "thetaPosterior"
   ]
  },
  {
   "cell_type": "code",
   "execution_count": 21,
   "metadata": {},
   "outputs": [
    {
     "data": {
      "text/html": [
       "<p>[[    65.4421     208.449       -1.71562  ]<br>\n",
       " [   208.449    20584          -83.0627   ]<br>\n",
       " [    -1.71562    -83.0627       0.352798 ]]</p>"
      ],
      "text/plain": [
       "class=CovarianceMatrix dimension=3 implementation=class=MatrixImplementation name=Unnamed rows=3 columns=3 values=[65.4421,208.449,-1.71562,208.449,20584,-83.0627,-1.71562,-83.0627,0.352798]"
      ]
     },
     "execution_count": 21,
     "metadata": {},
     "output_type": "execute_result"
    }
   ],
   "source": [
    "covarianceThetaStar = thetaPosterior.getCovariance()\n",
    "covarianceThetaStar"
   ]
  },
  {
   "cell_type": "markdown",
   "metadata": {},
   "source": [
    "## Calibration based on Kalman matrix"
   ]
  },
  {
   "cell_type": "code",
   "execution_count": 22,
   "metadata": {},
   "outputs": [],
   "source": [
    "parameterDimension = candidate.getDimension()"
   ]
  },
  {
   "cell_type": "code",
   "execution_count": 23,
   "metadata": {},
   "outputs": [],
   "source": [
    "model.setParameter(candidate)"
   ]
  },
  {
   "cell_type": "code",
   "execution_count": 24,
   "metadata": {},
   "outputs": [
    {
     "data": {
      "text/html": [
       "<TABLE><TR><TD></TD><TH>y0</TH></TR>\n",
       "<TR><TD>0</TD><TD>1443.084244428013</TD></TR>\n",
       "<TR><TD>1</TD><TD>1675.1137660449851</TD></TR>\n",
       "<TR><TD>2</TD><TD>882.391174695426</TD></TR>\n",
       "<TR><TD>3</TD><TD>745.0922327322505</TD></TR>\n",
       "<TR><TD>4</TD><TD>1141.5798135649907</TD></TR>\n",
       "</TABLE>"
      ],
      "text/plain": [
       "class=Sample name=Unnamed implementation=class=SampleImplementation name=Unnamed size=5 dimension=1 description=[y0] data=[[1443.08],[1675.11],[882.391],[745.092],[1141.58]]"
      ]
     },
     "execution_count": 24,
     "metadata": {},
     "output_type": "execute_result"
    }
   ],
   "source": [
    "modelObservations = model(inputObservations)\n",
    "modelObservations[0:5]"
   ]
  },
  {
   "cell_type": "code",
   "execution_count": 25,
   "metadata": {},
   "outputs": [],
   "source": [
    "transposedGradientObservations = ot.Matrix(parameterDimension,size)\n",
    "for i in range(size):\n",
    "    g = model.parameterGradient(inputObservations[i])\n",
    "    transposedGradientObservations[:,i] = g"
   ]
  },
  {
   "cell_type": "code",
   "execution_count": 26,
   "metadata": {},
   "outputs": [
    {
     "data": {
      "text/html": [
       "<p>5x3<br>\n",
       "[[  1          0.297234  77.4648    ]<br>\n",
       " [  1          0.390046  94.2324    ]<br>\n",
       " [  1          0.0729565 21.9462    ]<br>\n",
       " [  1          0.0180369  5.58539   ]<br>\n",
       " [  1          0.176632  50.0072    ]]</p>"
      ],
      "text/plain": [
       "class=Matrix implementation=class=MatrixImplementation name=Unnamed rows=5 columns=3 values=[1,1,1,1,1,0.297234,0.390046,0.0729565,0.0180369,0.176632,77.4648,94.2324,21.9462,5.58539,50.0072]"
      ]
     },
     "execution_count": 26,
     "metadata": {},
     "output_type": "execute_result"
    }
   ],
   "source": [
    "gradientObservations = transposedGradientObservations.transpose()\n",
    "gradientObservations[0:5,:]"
   ]
  },
  {
   "cell_type": "code",
   "execution_count": 27,
   "metadata": {},
   "outputs": [
    {
     "data": {
      "text/html": [
       "<p>[364.348,343.228,89.6333,55.801,236.21]</p>"
      ],
      "text/plain": [
       "class=Point name=Unnamed dimension=5 values=[364.348,343.228,89.6333,55.801,236.21]"
      ]
     },
     "execution_count": 27,
     "metadata": {},
     "output_type": "execute_result"
    }
   ],
   "source": [
    "deltay = outputObservations - modelObservations\n",
    "deltay = deltay.asPoint()\n",
    "deltay[0:5]"
   ]
  },
  {
   "cell_type": "markdown",
   "metadata": {},
   "source": [
    "Compute inverses of B and R."
   ]
  },
  {
   "cell_type": "code",
   "execution_count": 28,
   "metadata": {},
   "outputs": [],
   "source": [
    "B = ot.CovarianceMatrix(parameterCovariance)\n",
    "IB = ot.IdentityMatrix(parameterDimension)\n",
    "invB = B.solveLinearSystem(IB)"
   ]
  },
  {
   "cell_type": "code",
   "execution_count": 29,
   "metadata": {},
   "outputs": [],
   "source": [
    "R = ot.CovarianceMatrix(size)\n",
    "IR = ot.IdentityMatrix(size)\n",
    "invR = R.solveLinearSystem(IR)"
   ]
  },
  {
   "cell_type": "markdown",
   "metadata": {},
   "source": [
    "Calcule $A^{-1} = B^{-1} + J^T R^{-1} J = B^{-1} + J^T (J^T R^{-1})^T$.\n",
    "\n",
    "Soit $C =J^T R^{-1}$. \n",
    "\n",
    "Cela implique $A^{-1} = B^{-1} + J^T C^T$."
   ]
  },
  {
   "cell_type": "code",
   "execution_count": 30,
   "metadata": {},
   "outputs": [],
   "source": [
    "C = gradientObservations.transpose() * invR"
   ]
  },
  {
   "cell_type": "code",
   "execution_count": 31,
   "metadata": {},
   "outputs": [
    {
     "data": {
      "text/html": [
       "<p>[[     5.0002       0.954905   249.236    ]<br>\n",
       " [     0.954905     0.277346    70.3148   ]<br>\n",
       " [   249.236       70.3148   17895.7      ]]</p>"
      ],
      "text/plain": [
       "class=Matrix implementation=class=MatrixImplementation name=Unnamed rows=3 columns=3 values=[5.0002,0.954905,249.236,0.954905,0.277346,70.3148,249.236,70.3148,17895.7]"
      ]
     },
     "execution_count": 31,
     "metadata": {},
     "output_type": "execute_result"
    }
   ],
   "source": [
    "invA = invB + C * gradientObservations\n",
    "invA"
   ]
  },
  {
   "cell_type": "markdown",
   "metadata": {},
   "source": [
    "Calcule $K = A J^T R^{-1} = A C = (A^{-1})^{-1} C$."
   ]
  },
  {
   "cell_type": "code",
   "execution_count": 32,
   "metadata": {},
   "outputs": [],
   "source": [
    "K = invA.solveLinearSystem(C)"
   ]
  },
  {
   "cell_type": "markdown",
   "metadata": {},
   "source": [
    "Calcule $\\hat{\\theta} = \\mu  + K (y - H(\\mu ))$."
   ]
  },
  {
   "cell_type": "code",
   "execution_count": 33,
   "metadata": {},
   "outputs": [
    {
     "data": {
      "text/html": [
       "<p>[732.338,2499.5,11.7235]</p>"
      ],
      "text/plain": [
       "class=Point name=Unnamed dimension=3 values=[732.338,2499.5,11.7235]"
      ]
     },
     "execution_count": 33,
     "metadata": {},
     "output_type": "execute_result"
    }
   ],
   "source": [
    "thetaStar = candidate + K * deltay\n",
    "thetaStar"
   ]
  },
  {
   "cell_type": "markdown",
   "metadata": {},
   "source": [
    "## Calcule la matrice de covariance"
   ]
  },
  {
   "cell_type": "code",
   "execution_count": 34,
   "metadata": {},
   "outputs": [
    {
     "data": {
      "text/html": [
       "<p>[[     5.0002       0.954905   249.236    ]<br>\n",
       " [     0.954905     0.277346    70.3148   ]<br>\n",
       " [   249.236       70.3148   17895.7      ]]</p>"
      ],
      "text/plain": [
       "class=Matrix implementation=class=MatrixImplementation name=Unnamed rows=3 columns=3 values=[5.0002,0.954905,249.236,0.954905,0.277346,70.3148,249.236,70.3148,17895.7]"
      ]
     },
     "execution_count": 34,
     "metadata": {},
     "output_type": "execute_result"
    }
   ],
   "source": [
    "invA"
   ]
  },
  {
   "cell_type": "markdown",
   "metadata": {},
   "source": [
    "Calcule la matrice $A$."
   ]
  },
  {
   "cell_type": "code",
   "execution_count": 35,
   "metadata": {},
   "outputs": [
    {
     "data": {
      "text/html": [
       "<p>[[  0.653667    -0.0104611   -0.00906263  ]<br>\n",
       " [ -0.0104657    0.000167491  0.000145332 ]<br>\n",
       " [ -0.00906262   0.000145267  0.000181524 ]]</p>"
      ],
      "text/plain": [
       "class=Matrix implementation=class=MatrixImplementation name=Unnamed rows=3 columns=3 values=[0.653667,-0.0104657,-0.00906262,-0.0104611,0.000167491,0.000145267,-0.00906263,0.000145332,0.000181524]"
      ]
     },
     "execution_count": 35,
     "metadata": {},
     "output_type": "execute_result"
    }
   ],
   "source": [
    "IA = ot.IdentityMatrix(parameterDimension)\n",
    "A = invA.solveLinearSystem(IA)\n",
    "A"
   ]
  },
  {
   "cell_type": "markdown",
   "metadata": {},
   "source": [
    "## Autre calcul de la matrice de covariance"
   ]
  },
  {
   "cell_type": "markdown",
   "metadata": {},
   "source": [
    "Un autre moyen de calculer la matrice de covariance."
   ]
  },
  {
   "cell_type": "code",
   "execution_count": 36,
   "metadata": {},
   "outputs": [],
   "source": [
    "L = IB - K * gradientObservations"
   ]
  },
  {
   "cell_type": "code",
   "execution_count": 37,
   "metadata": {},
   "outputs": [
    {
     "data": {
      "text/html": [
       "<p>[[    16.552     996.545      -4.1461  ]<br>\n",
       " [   996.545   62467.3      -259.323   ]<br>\n",
       " [    -4.1461   -259.323       1.07672 ]]</p>"
      ],
      "text/plain": [
       "class=Matrix implementation=class=MatrixImplementation name=Unnamed rows=3 columns=3 values=[16.552,996.545,-4.1461,996.545,62467.3,-259.323,-4.1461,-259.323,1.07672]"
      ]
     },
     "execution_count": 37,
     "metadata": {},
     "output_type": "execute_result"
    }
   ],
   "source": [
    "covarianceThetaStar = K * R * K.transpose() + L * B * L.transpose()\n",
    "covarianceThetaStar"
   ]
  },
  {
   "cell_type": "markdown",
   "metadata": {},
   "source": [
    "Calcul de A avec numpy."
   ]
  },
  {
   "cell_type": "code",
   "execution_count": 38,
   "metadata": {},
   "outputs": [
    {
     "data": {
      "text/html": [
       "<p>[[    1.02814     23.4628      -0.106508  ]<br>\n",
       " [   23.4628    1471.38        -6.10803   ]<br>\n",
       " [   -0.106508    -6.10803      0.0255386 ]]</p>"
      ],
      "text/plain": [
       "class=Matrix implementation=class=MatrixImplementation name=Unnamed rows=3 columns=3 values=[1.02814,23.4628,-0.106508,23.4628,1471.38,-6.10803,-0.106508,-6.10803,0.0255386]"
      ]
     },
     "execution_count": 38,
     "metadata": {},
     "output_type": "execute_result"
    }
   ],
   "source": [
    "Anp = ot.Matrix(np.linalg.inv(invA))\n",
    "Anp"
   ]
  },
  {
   "cell_type": "markdown",
   "metadata": {},
   "source": [
    "## Par résolution d'un problème de moindres carrés linéaires"
   ]
  },
  {
   "cell_type": "code",
   "execution_count": 39,
   "metadata": {},
   "outputs": [
    {
     "data": {
      "text/html": [
       "<p>[[  70     0     0   ]<br>\n",
       " [   0   250     0   ]<br>\n",
       " [   0     0     0.8 ]]</p>"
      ],
      "text/plain": [
       "class=TriangularMatrix dimension=3 implementation=class=MatrixImplementation name=Unnamed rows=3 columns=3 values=[70,0,0,0,250,0,0,0,0.8]"
      ]
     },
     "execution_count": 39,
     "metadata": {},
     "output_type": "execute_result"
    }
   ],
   "source": [
    "LB = B.computeCholesky()\n",
    "LB"
   ]
  },
  {
   "cell_type": "code",
   "execution_count": 40,
   "metadata": {
    "scrolled": true
   },
   "outputs": [
    {
     "data": {
      "text/html": [
       "<p>5x5<br>\n",
       "[[ 1 0 0 0 0 ]<br>\n",
       " [ 0 1 0 0 0 ]<br>\n",
       " [ 0 0 1 0 0 ]<br>\n",
       " [ 0 0 0 1 0 ]<br>\n",
       " [ 0 0 0 0 1 ]]</p>"
      ],
      "text/plain": [
       "class=Matrix implementation=class=MatrixImplementation name=Unnamed rows=5 columns=5 values=[1,0,0,0,0,0,1,0,0,0,0,0,1,0,0,0,0,0,1,0,0,0,0,0,1]"
      ]
     },
     "execution_count": 40,
     "metadata": {},
     "output_type": "execute_result"
    }
   ],
   "source": [
    "LR = R.computeCholesky()\n",
    "LR[0:5,:]"
   ]
  },
  {
   "cell_type": "code",
   "execution_count": 41,
   "metadata": {},
   "outputs": [
    {
     "data": {
      "text/html": [
       "<p>5x5<br>\n",
       "[[ 1 0 0 0 0 ]<br>\n",
       " [ 0 1 0 0 0 ]<br>\n",
       " [ 0 0 1 0 0 ]<br>\n",
       " [ 0 0 0 1 0 ]<br>\n",
       " [ 0 0 0 0 1 ]]</p>"
      ],
      "text/plain": [
       "class=Matrix implementation=class=MatrixImplementation name=Unnamed rows=5 columns=5 values=[1,0,0,0,0,0,1,0,0,0,0,0,1,0,0,0,0,0,1,0,0,0,0,0,1]"
      ]
     },
     "execution_count": 41,
     "metadata": {},
     "output_type": "execute_result"
    }
   ],
   "source": [
    "ILR = ot.IdentityMatrix(size)\n",
    "invLR = LR.solveLinearSystem(ILR)\n",
    "invLR[0:5,:]"
   ]
  },
  {
   "cell_type": "code",
   "execution_count": 42,
   "metadata": {},
   "outputs": [
    {
     "data": {
      "text/html": [
       "<p>5x3<br>\n",
       "[[ 70       74.3084  61.9718  ]<br>\n",
       " [ 70       97.5114  75.3859  ]<br>\n",
       " [ 70       18.2391  17.557   ]<br>\n",
       " [ 70        4.50922  4.46831 ]<br>\n",
       " [ 70       44.158   40.0058  ]]</p>"
      ],
      "text/plain": [
       "class=Matrix implementation=class=MatrixImplementation name=Unnamed rows=5 columns=3 values=[70,70,70,70,70,74.3084,97.5114,18.2391,4.50922,44.158,61.9718,75.3859,17.557,4.46831,40.0058]"
      ]
     },
     "execution_count": 42,
     "metadata": {},
     "output_type": "execute_result"
    }
   ],
   "source": [
    "A = invLR * gradientObservations * LB\n",
    "A[0:5,:]"
   ]
  },
  {
   "cell_type": "code",
   "execution_count": 43,
   "metadata": {},
   "outputs": [],
   "source": [
    "ITheta = ot.IdentityMatrix(parameterDimension)"
   ]
  },
  {
   "cell_type": "code",
   "execution_count": 44,
   "metadata": {},
   "outputs": [],
   "source": [
    "llsqA = ot.Matrix(size+parameterDimension,parameterDimension)\n",
    "llsqA[0:parameterDimension,0:parameterDimension] = ITheta\n",
    "llsqA[parameterDimension:size+parameterDimension,0:parameterDimension] = llsqA[parameterDimension:size+parameterDimension,0:parameterDimension]-A"
   ]
  },
  {
   "cell_type": "code",
   "execution_count": 45,
   "metadata": {},
   "outputs": [],
   "source": [
    "y = ot.Point(size+parameterDimension)\n",
    "y[parameterDimension:size+parameterDimension] = y[parameterDimension:size+parameterDimension]-deltay"
   ]
  },
  {
   "cell_type": "code",
   "execution_count": 46,
   "metadata": {},
   "outputs": [
    {
     "data": {
      "text/html": [
       "<p>class=SVDMethod</p>"
      ],
      "text/plain": [
       "class=SVDMethod"
      ]
     },
     "execution_count": 46,
     "metadata": {},
     "output_type": "execute_result"
    }
   ],
   "source": [
    "method = ot.SVDMethod(llsqA)\n",
    "method"
   ]
  },
  {
   "cell_type": "code",
   "execution_count": 47,
   "metadata": {},
   "outputs": [
    {
     "data": {
      "text/html": [
       "<p>[0.0876305,-6.57209,13.1777]</p>"
      ],
      "text/plain": [
       "class=Point name=Unnamed dimension=3 values=[0.0876305,-6.57209,13.1777]"
      ]
     },
     "execution_count": 47,
     "metadata": {},
     "output_type": "execute_result"
    }
   ],
   "source": [
    "deltaTheta = method.solve(y)\n",
    "deltaTheta"
   ]
  },
  {
   "cell_type": "code",
   "execution_count": 48,
   "metadata": {},
   "outputs": [
    {
     "data": {
      "text/html": [
       "<p>[706.134,856.977,18.5421]</p>"
      ],
      "text/plain": [
       "class=Point name=Unnamed dimension=3 values=[706.134,856.977,18.5421]"
      ]
     },
     "execution_count": 48,
     "metadata": {},
     "output_type": "execute_result"
    }
   ],
   "source": [
    "thetaStar = ot.Matrix(LB) * deltaTheta + candidate\n",
    "thetaStar"
   ]
  },
  {
   "cell_type": "markdown",
   "metadata": {},
   "source": [
    "## Par résolution d'un problème de moindres carrés linéaires - v2"
   ]
  },
  {
   "cell_type": "code",
   "execution_count": 49,
   "metadata": {},
   "outputs": [
    {
     "data": {
      "text/html": [
       "<p>[[  70     0     0   ]<br>\n",
       " [   0   250     0   ]<br>\n",
       " [   0     0     0.8 ]]</p>"
      ],
      "text/plain": [
       "class=TriangularMatrix dimension=3 implementation=class=MatrixImplementation name=Unnamed rows=3 columns=3 values=[70,0,0,0,250,0,0,0,0.8]"
      ]
     },
     "execution_count": 49,
     "metadata": {},
     "output_type": "execute_result"
    }
   ],
   "source": [
    "LB = B.computeCholesky()\n",
    "LB"
   ]
  },
  {
   "cell_type": "code",
   "execution_count": 50,
   "metadata": {
    "scrolled": true
   },
   "outputs": [
    {
     "data": {
      "text/html": [
       "<p>5x5<br>\n",
       "[[ 1 0 0 0 0 ]<br>\n",
       " [ 0 1 0 0 0 ]<br>\n",
       " [ 0 0 1 0 0 ]<br>\n",
       " [ 0 0 0 1 0 ]<br>\n",
       " [ 0 0 0 0 1 ]]</p>"
      ],
      "text/plain": [
       "class=Matrix implementation=class=MatrixImplementation name=Unnamed rows=5 columns=5 values=[1,0,0,0,0,0,1,0,0,0,0,0,1,0,0,0,0,0,1,0,0,0,0,0,1]"
      ]
     },
     "execution_count": 50,
     "metadata": {},
     "output_type": "execute_result"
    }
   ],
   "source": [
    "LR = R.computeCholesky()\n",
    "LR[0:5,:]"
   ]
  },
  {
   "cell_type": "code",
   "execution_count": 51,
   "metadata": {},
   "outputs": [
    {
     "data": {
      "text/html": [
       "<p>[[ 0.0142857 0         0         ]<br>\n",
       " [ 0         0.004     0         ]<br>\n",
       " [ 0         0         1.25      ]]</p>"
      ],
      "text/plain": [
       "class=Matrix implementation=class=MatrixImplementation name=Unnamed rows=3 columns=3 values=[0.0142857,0,0,0,0.004,0,0,0,1.25]"
      ]
     },
     "execution_count": 51,
     "metadata": {},
     "output_type": "execute_result"
    }
   ],
   "source": [
    "ILB = ot.IdentityMatrix(parameterDimension)\n",
    "invLB = LB.solveLinearSystem(ILB)\n",
    "invLB[0:5,:]"
   ]
  },
  {
   "cell_type": "code",
   "execution_count": 52,
   "metadata": {},
   "outputs": [],
   "source": [
    "invLRJ = LR.solveLinearSystem(gradientObservations)"
   ]
  },
  {
   "cell_type": "code",
   "execution_count": 53,
   "metadata": {},
   "outputs": [],
   "source": [
    "llsqA = ot.Matrix(size+parameterDimension,parameterDimension)\n",
    "llsqA[0:parameterDimension,0:parameterDimension] = invLB\n",
    "llsqA[parameterDimension:size+parameterDimension,0:parameterDimension] = llsqA[parameterDimension:size+parameterDimension,0:parameterDimension]-invLRJ"
   ]
  },
  {
   "cell_type": "code",
   "execution_count": 54,
   "metadata": {},
   "outputs": [],
   "source": [
    "invLRz = LR.solveLinearSystem(deltay)"
   ]
  },
  {
   "cell_type": "code",
   "execution_count": 55,
   "metadata": {},
   "outputs": [],
   "source": [
    "y = ot.Point(size+parameterDimension)\n",
    "y[parameterDimension:size+parameterDimension] = y[parameterDimension:size+parameterDimension]-invLRz"
   ]
  },
  {
   "cell_type": "code",
   "execution_count": 56,
   "metadata": {},
   "outputs": [
    {
     "data": {
      "text/html": [
       "<p>class=SVDMethod</p>"
      ],
      "text/plain": [
       "class=SVDMethod"
      ]
     },
     "execution_count": 56,
     "metadata": {},
     "output_type": "execute_result"
    }
   ],
   "source": [
    "method = ot.SVDMethod(llsqA)\n",
    "method"
   ]
  },
  {
   "cell_type": "code",
   "execution_count": 57,
   "metadata": {},
   "outputs": [
    {
     "data": {
      "text/html": [
       "<p>[6.13414,-1643.02,10.5421]</p>"
      ],
      "text/plain": [
       "class=Point name=Unnamed dimension=3 values=[6.13414,-1643.02,10.5421]"
      ]
     },
     "execution_count": 57,
     "metadata": {},
     "output_type": "execute_result"
    }
   ],
   "source": [
    "deltaTheta = method.solve(y)\n",
    "deltaTheta"
   ]
  },
  {
   "cell_type": "code",
   "execution_count": 58,
   "metadata": {},
   "outputs": [
    {
     "data": {
      "text/html": [
       "<p>[706.134,856.977,18.5421]</p>"
      ],
      "text/plain": [
       "class=Point name=Unnamed dimension=3 values=[706.134,856.977,18.5421]"
      ]
     },
     "execution_count": 58,
     "metadata": {},
     "output_type": "execute_result"
    }
   ],
   "source": [
    "thetaStar = deltaTheta + candidate\n",
    "thetaStar"
   ]
  },
  {
   "cell_type": "code",
   "execution_count": 59,
   "metadata": {},
   "outputs": [
    {
     "data": {
      "text/html": [
       "<p>[[    1.02814     23.4628      -0.106508  ]<br>\n",
       " [   23.4628    1471.38        -6.10803   ]<br>\n",
       " [   -0.106508    -6.10803      0.0255386 ]]</p>"
      ],
      "text/plain": [
       "class=CovarianceMatrix dimension=3 implementation=class=MatrixImplementation name=Unnamed rows=3 columns=3 values=[1.02814,23.4628,-0.106508,23.4628,1471.38,-6.10803,-0.106508,-6.10803,0.0255386]"
      ]
     },
     "execution_count": 59,
     "metadata": {},
     "output_type": "execute_result"
    }
   ],
   "source": [
    "method.getGramInverse()"
   ]
  },
  {
   "cell_type": "code",
   "execution_count": null,
   "metadata": {},
   "outputs": [],
   "source": []
  }
 ],
 "metadata": {
  "kernelspec": {
   "display_name": "Python 3",
   "language": "python",
   "name": "python3"
  },
  "language_info": {
   "codemirror_mode": {
    "name": "ipython",
    "version": 3
   },
   "file_extension": ".py",
   "mimetype": "text/x-python",
   "name": "python",
   "nbconvert_exporter": "python",
   "pygments_lexer": "ipython3",
   "version": "3.7.1"
  }
 },
 "nbformat": 4,
 "nbformat_minor": 2
}
