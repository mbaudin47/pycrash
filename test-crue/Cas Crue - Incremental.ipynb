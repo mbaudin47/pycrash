{
 "cells": [
  {
   "cell_type": "markdown",
   "metadata": {},
   "source": [
    "# Flood model: estimation of the mean\n",
    "\n",
    "January 2019\n",
    "\n",
    "Copyright © EDF 2019\n"
   ]
  },
  {
   "cell_type": "markdown",
   "metadata": {},
   "source": [
    "### References\n",
    "\n",
    "* http://openturns.github.io/openturns/latest/examples/flood_model.html\n",
    "* http://openturns.github.io/openturns/latest/theory/reliability_sensitivity/monte_carlo_simulation.html\n",
    "* http://openturns.github.io/openturns/latest/user_manual/_generated/openturns.ExpectationSimulationAlgorithm.html\n",
    "\n",
    "\n",
    "\n",
    "### Goal\n",
    "* Compute the height of a river \n",
    "\n",
    "### Inputs\n",
    "We consider four random variables : \n",
    "* Q : the flow rate ($m^3/s$)\n",
    "* Ks : the Strickler coefficient ($m^{1/3}/s$)\n",
    "* Zv : the upstream height of the riverbed (m)\n",
    "* Zm : the downstream height of the riverbed (m)\n",
    "\n",
    "### Notes : \n",
    "* When Ks increases, the riverbed generates less friction.\n",
    "* We make the hypotheses that the random variables are independent.\n",
    "\n",
    "### Paramètres\n",
    "\n",
    "We consider the following parameters :\n",
    "* the length of the river L = 5000 (m),\n",
    "* the width of the river B = 300 (m).\n",
    "\n",
    "### Sortie\n",
    "\n",
    "The slope of the river is supposed to be close to zero :\n",
    "$$\n",
    "\\alpha = \\frac{Z_m - Z_v}{L},\n",
    "$$\n",
    "if $Z_m \\geq Z_v$. \n",
    "We make the hypothesis that the height of the river is :\n",
    "$$\n",
    "H = \\left(\\frac{Q}{K_s B \\sqrt{\\alpha}}\\right)^{0.6},\n",
    "$$\n",
    "for any $K_s, Q>0$.\n",
    "Therefore, the height of the flood is :\n",
    "$$\n",
    "S = H + Z_v\n",
    "$$\n",
    "\n",
    "<img src=\"https://forge.pleiade.edf.fr/attachments/download/24450/river_section_adjusted_light.png\" width=\"400\" />\n",
    "\n",
    "### Distributions\n",
    "\n",
    "We make the hypotheses that the input variables are *independent* and have the following distributions.\n",
    "\n",
    "|Variable|Distribution|\n",
    "| ------------- |-------------|\n",
    "|Q|Gumbel(scale=558, mode=1013)>0|\n",
    "|Ks|Normal(mean=30, standard deviation=7.5)>0|\n",
    "|Zv|Uniform(min=49, max=51)|\n",
    "|Zm|Uniform(min=54, max=56)|\n",
    "\n",
    "### Quantity of interest\n",
    "\n",
    "We want to estimate the mean of the height of the flood:\n",
    "$$\n",
    "E(S)\n",
    "$$"
   ]
  },
  {
   "cell_type": "markdown",
   "metadata": {},
   "source": [
    "## Script Python\n",
    "\n",
    "We beging by importing the required modules."
   ]
  },
  {
   "cell_type": "code",
   "execution_count": 1,
   "metadata": {},
   "outputs": [],
   "source": [
    "from openturns.viewer import View\n",
    "import openturns as ot\n",
    "from math import sqrt\n",
    "import pylab as pl"
   ]
  },
  {
   "cell_type": "markdown",
   "metadata": {},
   "source": [
    "Then we define the function through which we want to propagate the uncertainties with the `def` operator.\n"
   ]
  },
  {
   "cell_type": "code",
   "execution_count": 2,
   "metadata": {},
   "outputs": [],
   "source": [
    "def functionFlood(X) :\n",
    "    Hd = 3.0\n",
    "    Zb = 55.5\n",
    "    L = 5.0e3\n",
    "    B = 300.0\n",
    "    Zd = Zb + Hd\n",
    "    Q, Ks, Zv, Zm = X\n",
    "    alpha = (Zm - Zv)/L\n",
    "    H = (Q/(Ks*B*sqrt(alpha)))**(3.0/5.0)\n",
    "    S = H + Zv\n",
    "    return [S]"
   ]
  },
  {
   "cell_type": "markdown",
   "metadata": {},
   "source": [
    "Then we convert this Python function into an OpenTURNS function with the `PythonFunction` class. "
   ]
  },
  {
   "cell_type": "code",
   "execution_count": 3,
   "metadata": {},
   "outputs": [],
   "source": [
    "input_dimension = 4\n",
    "g = ot.PythonFunction(input_dimension, 1, functionFlood)"
   ]
  },
  {
   "cell_type": "markdown",
   "metadata": {},
   "source": [
    "Now we create the distributions for the input variables. \n",
    "* There are several ways to set the parameters of the Gumbel distribution for the Q variable. Here the parameters are defined with the scale and mode parameters, which corresponds to the `GumbelAB` class. \n",
    "* The Q and Ks variables must remain positive (a negative value is not compatible with the physical model). For this reason, we must truncate the distribution with  `TruncatedDistribution`. "
   ]
  },
  {
   "cell_type": "code",
   "execution_count": 4,
   "metadata": {},
   "outputs": [],
   "source": [
    "myParam = ot.GumbelAB(1013., 558.)\n",
    "Q = ot.ParametrizedDistribution(myParam)\n",
    "otLOW = ot.TruncatedDistribution.LOWER\n",
    "Q = ot.TruncatedDistribution(Q, 0, otLOW)\n",
    "Ks = ot.Normal(30.0, 7.5)\n",
    "Ks = ot.TruncatedDistribution(Ks, 0, otLOW)\n",
    "Zv = ot.Uniform(49.0, 51.0)\n",
    "Zm = ot.Uniform(54.0, 56.0)"
   ]
  },
  {
   "cell_type": "markdown",
   "metadata": {},
   "source": [
    "We set the descriptions of the random variables: they are used for the graphics."
   ]
  },
  {
   "cell_type": "code",
   "execution_count": 5,
   "metadata": {},
   "outputs": [],
   "source": [
    "Q.setDescription([\"$Q (m^3/s)$\"])\n",
    "Ks.setDescription([\"$Ks (m^{1/3})/s)$\"])\n",
    "Zv.setDescription([\"Zv (m)\"])\n",
    "Zm.setDescription([\"Zm (m)\"])"
   ]
  },
  {
   "cell_type": "markdown",
   "metadata": {},
   "source": [
    "The `drawPDF` presents the probability distribution function of the variable. When we closely look at the PDF of Q, we see a small increase of the density for Q=0, because of the truncation of the distribution."
   ]
  },
  {
   "cell_type": "code",
   "execution_count": 6,
   "metadata": {
    "scrolled": true
   },
   "outputs": [
    {
     "data": {
      "image/png": "[encoded data removed]",
      "text/plain": [
       "class=Graph name=$Q (m^3/s)$ PDF implementation=class=GraphImplementation name=$Q (m^3/s)$ PDF title=$Q (m^3/s)$ PDF xTitle=$Q (m^3/s)$ yTitle=PDF axes=ON grid=ON legendposition=topright legendFontSize=1 drawables=[class=Drawable name=Unnamed implementation=class=Curve name=Unnamed derived from class=DrawableImplementation name=Unnamed legend=$Q (m^3/s)$ PDF data=class=Sample name=Unnamed implementation=class=SampleImplementation name=Unnamed size=129 dimension=2 data=[[-1120.32,0],[-1081.82,0],[-1043.32,0],[-1004.82,0],[-966.315,0],[-927.815,0],[-889.314,0],[-850.814,0],[-812.313,0],[-773.813,0],[-735.312,0],[-696.812,0],[-658.311,0],[-619.811,0],[-581.31,0],[-542.81,0],[-504.309,0],[-465.809,0],[-427.308,0],[-388.808,0],[-350.308,0],[-311.807,0],[-273.307,0],[-234.806,0],[-196.306,0],[-157.805,0],[-119.305,0],[-80.8042,0],[-42.3037,0],[-3.80323,0],[34.6972,3.22432e-05],[73.1977,4.42217e-05],[111.698,5.91136e-05],[150.199,7.71504e-05],[188.699,9.84646e-05],[227.2,0.000123073],[265.7,0.000150864],[304.201,0.0001816],[342.701,0.000214922],[381.202,0.000250363],[419.702,0.00028737],[458.202,0.000325329],[496.703,0.000363592],[535.203,0.000401502],[573.704,0.000438422],[612.204,0.000473754],[650.705,0.000506956],[689.205,0.000537562],[727.706,0.000565187],[766.206,0.000589532],[804.707,0.000610384],[843.207,0.000627617],[881.708,0.000641183],[920.208,0.000651108],[958.709,0.000657477],[997.209,0.000660434],[1035.71,0.000660161],[1074.21,0.000656878],[1112.71,0.000650828],[1151.21,0.00064227],[1189.71,0.000631473],[1228.21,0.000618707],[1266.71,0.000604239],[1305.21,0.000588328],[1343.71,0.000571223],[1382.21,0.000553156],[1420.71,0.000534346],[1459.21,0.000514994],[1497.72,0.000495281],[1536.22,0.000475371],[1574.72,0.000455412],[1613.22,0.000435533],[1651.72,0.000415845],[1690.22,0.000396446],[1728.72,0.000377417],[1767.22,0.000358827],[1805.72,0.000340733],[1844.22,0.000323179],[1882.72,0.000306201],[1921.22,0.000289824],[1959.72,0.000274066],[1998.22,0.000258939],[2036.72,0.000244448],[2075.22,0.000230592],[2113.72,0.000217367],[2152.22,0.000204765],[2190.72,0.000192775],[2229.22,0.000181381],[2267.72,0.00017057],[2306.23,0.000160322],[2344.73,0.000150619],[2383.23,0.000141442],[2421.73,0.000132769],[2460.23,0.000124581],[2498.73,0.000116856],[2537.23,0.000109573],[2575.73,0.000102713],[2614.23,9.62542e-05],[2652.73,9.01772e-05],[2691.23,8.44626e-05],[2729.73,7.90916e-05],[2768.23,7.40458e-05],[2806.73,6.93077e-05],[2845.23,6.48604e-05],[2883.73,6.06876e-05],[2922.23,5.67738e-05],[2960.73,5.31042e-05],[2999.23,4.96645e-05],[3037.73,4.64414e-05],[3076.23,4.34219e-05],[3114.74,4.05939e-05],[3153.24,3.7946e-05],[3191.74,3.54671e-05],[3230.24,3.3147e-05],[3268.74,3.09759e-05],[3307.24,2.89445e-05],[3345.74,2.70443e-05],[3384.24,2.5267e-05],[3422.74,2.36049e-05],[3461.24,2.20507e-05],[3499.74,2.05976e-05],[3538.24,1.92392e-05],[3576.74,1.79695e-05],[3615.24,1.67828e-05],[3653.74,1.56737e-05],[3692.24,1.46373e-05],[3730.74,1.36689e-05],[3769.24,1.27641e-05],[3807.74,1.19188e-05]] color=red fillStyle=solid lineStyle=solid pointStyle=none lineWidth=2]"
      ]
     },
     "execution_count": 6,
     "metadata": {},
     "output_type": "execute_result"
    }
   ],
   "source": [
    "Q.drawPDF()"
   ]
  },
  {
   "cell_type": "markdown",
   "metadata": {},
   "source": [
    "Then we create the input random vector `inputvector`: by default, the copula is independent. Then we create the output vector `S`."
   ]
  },
  {
   "cell_type": "code",
   "execution_count": 7,
   "metadata": {},
   "outputs": [],
   "source": [
    "X = ot.ComposedDistribution([Q, Ks, Zv, Zm])\n",
    "inputRV = ot.RandomVector(X)\n",
    "S = ot.RandomVector(g, inputRV)"
   ]
  },
  {
   "cell_type": "markdown",
   "metadata": {},
   "source": [
    "## Estimate the mean with an incremental algorithm\n",
    "\n",
    "In this section, we present how to use the `ExpectationSimulationAlgorithm` class. \n",
    "\n",
    "Assume that the output $Y\\in\\mathbb{R}^{n_Y}$ is a random vector and that we want to estimate the mean $E(Y)$. \n",
    "\n",
    "The Monte Carlo algorithm  with the sample mean : \n",
    "$$\n",
    "\\overline{Y} = \\frac{1}{n} \\sum_{i=1}^n Y_i\n",
    "$$\n",
    "where $n$ is the sample size and $Y_i$ are i.i.d. realization of the output. \n",
    "\n",
    "We use the fact that the sample mean is asymptotically gaussian :\n",
    "$$\n",
    "\\overline{Y} \\sim \\mathcal{N}\\left(E(Y),\\frac{V(Y)}{n}\\right).\n",
    "$$\n",
    "where $V(Y)$ is the variance of the output and $n$ is the sample size.\n",
    "\n",
    "In general, most users set the sample size $n$ in advance and estimate the precision afterwards. Instead, suppose that if set the absolute precision and wish to determine the smallest sample size that achieves this precision. If we knew the variance $V(Y)$, we could set the value of $n$ so that the standard deviation $\\sqrt{V(Y)}$ would be small enough. If instead we want to set the relative precision, we could consider the coefficient of variation $\\frac{\\sqrt{V(Y)}}{E(Y) \\sqrt{n}}$ as a criterion (if $E(Y)\\neq 0$). The purpose of the algorithm is to increase the sample size $n$ incrementally until a stopping criteria is met. "
   ]
  },
  {
   "cell_type": "markdown",
   "metadata": {},
   "source": [
    "This algorithm works by updating a sample which size increases progressively until a stopping criteria is met. In order to get the best possible performance on distributed supercomputers and multi-core workstations, the size of the sample increases by block. For exemple, if the block size is equal to 100, then the sample size will be equal to 0, 100, 200, etc... On each block, the evaluation of the outputs can be parallelized, which allows to improve the performance of the algorithm.\n",
    "\n",
    "There are three mathematical stopping criteria available:\n",
    "* through an operator on the coefficient of variation $\\frac{\\sigma_i}{\\mu_i}$ (a relative criterion)\n",
    "* through an operator on the standard deviation $\\sigma_i$ (absolute criterion)\n",
    "* on the maximum standard deviation per component: $\\sigma_i \\leq \\max_{i=1,...,n_Y} \\sigma_i$ (absolute criterion)\n",
    "\n",
    "By default, the maximum coefficient of variation is used, i.e. the algorithm stops when: \n",
    "$$\n",
    "\\max_{i=1,...,n_Y} \\frac{\\sigma_i}{\\mu_i} \\leq max_{COV}.\n",
    "$$"
   ]
  },
  {
   "cell_type": "code",
   "execution_count": 15,
   "metadata": {},
   "outputs": [
    {
     "name": "stdout",
     "output_type": "stream",
     "text": [
      "Mean = 52.598788 \n",
      "Number of calls to G = 8600\n"
     ]
    }
   ],
   "source": [
    "algo = ot.ExpectationSimulationAlgorithm(S)\n",
    "algo.setMaximumOuterSampling(1000)\n",
    "algo.setBlockSize(10)\n",
    "algo.setMaximumCoefficientOfVariation(0.001)\n",
    "algo.run()\n",
    "result = algo.getResult()\n",
    "expectation = result.getExpectationEstimate()\n",
    "print(\"Mean = %f \" % expectation[0])\n",
    "print(\"Number of calls to G = %d\" % g.getCallsNumber())"
   ]
  },
  {
   "cell_type": "markdown",
   "metadata": {},
   "source": [
    "The estimate of the mean has a known asymptotical gaussian distribution, which can be retrieved with the `getExpectationDistribution` method. "
   ]
  },
  {
   "cell_type": "code",
   "execution_count": 9,
   "metadata": {},
   "outputs": [
    {
     "name": "stdout",
     "output_type": "stream",
     "text": [
      "Normal(mu = 52.5207, sigma = 0.0522269)\n"
     ]
    },
    {
     "data": {
      "text/plain": [
       "<openturns.viewer.View at 0x2b7fed78be0>"
      ]
     },
     "execution_count": 9,
     "metadata": {},
     "output_type": "execute_result"
    },
    {
     "data": {
      "image/png": "[encoded data removed]",
      "text/plain": [
       "<Figure size 432x288 with 1 Axes>"
      ]
     },
     "metadata": {},
     "output_type": "display_data"
    }
   ],
   "source": [
    "expectationDistribution = result.getExpectationDistribution()\n",
    "print(expectationDistribution)\n",
    "View(expectationDistribution.drawPDF())"
   ]
  },
  {
   "cell_type": "markdown",
   "metadata": {},
   "source": [
    "## Estimate sensitivity indices with an incremental algorithm\n",
    "\n"
   ]
  },
  {
   "cell_type": "markdown",
   "metadata": {},
   "source": [
    "In order to estimate the Sobol' sensitivity indices, we can use the `SobolSimulationAlgorithm` class. \n",
    "\n",
    "Let us denote by $X\\in\\mathbb{R}^{n_X}$ a random vector. This algorithm works in the general case where the output $Y\\in\\mathbb{R}^{n_Y}$ is a random vector : in this case it operates on aggregated indices. In order to simplify the discussion, let us make the hypothesis that $n_Y=1$. \n",
    "\n",
    "The Sobol' first order sensitivity indices are defined by \n",
    "$$\n",
    "S_i = \\frac{V(E(Y|X_i))}{V(Y)}\n",
    "$$\n",
    "for $i=1,...,n_X$. The total order sensitivity indices are defined by :\n",
    "$$\n",
    "T_i = 1 - \\frac{V\\left(E\\left(Y|X_{-i}\\right)\\right)}{V(Y)}\n",
    "$$\n",
    "where $-i$ is the set of indices which are different from $i$. In the remaining of this section, we focus on the first order sensitivity indice and let the reader consider [1] for the total order indices. Moreover, the derivation is the same for all input variables so that we omit the indice $i$ in order to simplify the notations. \n",
    "\n",
    "The algorithm is based on the fact that the first and total order Sobol' sensitivity indices asymptotically have the gaussian distribution. This gaussian distribution can be derived from the so called \"delta\"-method. Assume that the Sobol' estimator is \n",
    "$$\n",
    "\\overline{S} = \\Psi\\left(\\overline{U}\\right)\n",
    "$$\n",
    "where $\\Psi$ is a multivariate function, $U$ is a multivariate sample and $\\overline{U}$ is its sample mean. Each Sobol' estimator can be associated with a dedicated choice of function $\\Psi$ and vector $U$. \n",
    "\n",
    "Let us denote by $\\Phi_j^F$ (resp. $\\Phi_j^T$) the cumulated distribution function of the gaussian distribution of the first (resp. total) order sensitivity indice of the j-th input variable.\n",
    "\n",
    "Several estimators are available (Saltelli, Jansen, …)."
   ]
  },
  {
   "cell_type": "markdown",
   "metadata": {},
   "source": [
    "We set $\\alpha\\in[0,1]$ a quantile level and $\\epsilon \\in(0,1]$ a quantile precision. The algorithms stops when, on all components, first and total order indices haved been estimated with enough precision or the first order indices are separable from the total order indices. The precision is said to be sufficient if \n",
    "$$\n",
    "\\Phi_j^F(1-\\alpha) - \\Phi_j^F(\\alpha) \\leq \\epsilon\n",
    "$$\n",
    "and \n",
    "$$\n",
    "\\Phi_j^T(1-\\alpha) - \\Phi_j^T(\\alpha) \\leq \\epsilon\n",
    "$$\n",
    "for $j=1,...,n_X$, where . "
   ]
  },
  {
   "cell_type": "code",
   "execution_count": 10,
   "metadata": {},
   "outputs": [],
   "source": [
    "alpha = 0.1\n",
    "blockSize = 50"
   ]
  },
  {
   "cell_type": "code",
   "execution_count": 11,
   "metadata": {},
   "outputs": [],
   "source": [
    "estimator = ot.SaltelliSensitivityAlgorithm()\n",
    "estimator.setUseAsymptoticDistribution(True)\n",
    "algo = ot.SobolSimulationAlgorithm(X, g, estimator)\n",
    "algo.setMaximumOuterSampling(100) # number of iterations\n",
    "algo.setBlockSize(blockSize) # size of Sobol experiment at each iteration\n",
    "algo.setBatchSize(16) # number of points evaluated simultaneously\n",
    "algo.setIndexQuantileLevel(alpha) # alpha\n",
    "algo.setIndexQuantileEpsilon(0.2) # epsilon\n",
    "algo.run()"
   ]
  },
  {
   "cell_type": "code",
   "execution_count": 12,
   "metadata": {},
   "outputs": [
    {
     "name": "stdout",
     "output_type": "stream",
     "text": [
      "First order = [0.52482,0.231303,0.391726,0.0437366]\n",
      "Total order = [0.494595,0.129827,0.342475,0.0107125]\n"
     ]
    }
   ],
   "source": [
    "result = algo.getResult()\n",
    "fo = result.getFirstOrderIndicesEstimate()\n",
    "to = result.getTotalOrderIndicesEstimate()\n",
    "print(\"First order = %s\" % (str(fo)))\n",
    "print(\"Total order = %s\" % (str(to)))\n"
   ]
  },
  {
   "cell_type": "code",
   "execution_count": 13,
   "metadata": {},
   "outputs": [
    {
     "name": "stdout",
     "output_type": "stream",
     "text": [
      "Normal(mu = [0.52482,0.231303,0.391726,0.0437366], sigma = [0.0725321,0.0759578,0.048727,0.0375635], R = [[ 1 0 0 0 ]\r\n",
      " [ 0 1 0 0 ]\r\n",
      " [ 0 0 1 0 ]\r\n",
      " [ 0 0 0 1 ]])\n",
      "Normal(mu = [0.494595,0.129827,0.342475,0.0107125], sigma = [0.0372199,0.0282965,0.0281664,0.00603234], R = [[ 1 0 0 0 ]\r\n",
      " [ 0 1 0 0 ]\r\n",
      " [ 0 0 1 0 ]\r\n",
      " [ 0 0 0 1 ]])\n"
     ]
    }
   ],
   "source": [
    "dist_fo = result.getFirstOrderIndicesDistribution()\n",
    "print(dist_fo)\n",
    "dist_to = result.getTotalOrderIndicesDistribution()\n",
    "print(dist_to)"
   ]
  },
  {
   "cell_type": "code",
   "execution_count": 14,
   "metadata": {},
   "outputs": [
    {
     "name": "stdout",
     "output_type": "stream",
     "text": [
      "X0, S in [0.4055,0.6441], ST in [0.4334,0.5558]\n",
      "X1, S in [0.1064,0.3562], ST in [0.0833,0.1764]\n",
      "X2, S in [0.3116,0.4719], ST in [0.2961,0.3888]\n",
      "X3, S in [-0.0180,0.1055], ST in [0.0008,0.0206]\n"
     ]
    },
    {
     "data": {
      "text/plain": [
       "<matplotlib.legend.Legend at 0x2b7fedb2ef0>"
      ]
     },
     "execution_count": 14,
     "metadata": {},
     "output_type": "execute_result"
    },
    {
     "data": {
      "image/png": "[encoded data removed]",
      "text/plain": [
       "<Figure size 432x288 with 1 Axes>"
      ]
     },
     "metadata": {},
     "output_type": "display_data"
    }
   ],
   "source": [
    "pl.plot(range(input_dimension),fo,\"ro\",label=\"First Order\")\n",
    "pl.plot(range(input_dimension),to,\"bo\",label=\"Total Order\")\n",
    "pl.xlabel(\"Inputs\")\n",
    "pl.ylabel(\"Sensitivity indices\")\n",
    "size = g.getEvaluationCallsNumber()\n",
    "pl.title(\"Sobol' indices - n=%d - 1-alpha=%.4f %%\" % (size,(1-alpha)*100))\n",
    "pl.axis([-0.5,input_dimension-0.5,-0.1,1.1])\n",
    "for i in range(input_dimension):\n",
    "    dist_fo_i = dist_fo.getMarginal(i)\n",
    "    dist_to_i = dist_to.getMarginal(i)\n",
    "    fo_ci = dist_fo_i.computeBilateralConfidenceInterval(1-alpha)\n",
    "    to_ci = dist_to_i.computeBilateralConfidenceInterval(1-alpha)\n",
    "    fo_ci_a = fo_ci.getLowerBound()[0]\n",
    "    fo_ci_b = fo_ci.getUpperBound()[0]\n",
    "    to_ci_a = to_ci.getLowerBound()[0]\n",
    "    to_ci_b = to_ci.getUpperBound()[0]\n",
    "    print(\"X%d, S in [%.4f,%.4f], ST in [%.4f,%.4f]\" % (i,fo_ci_a,fo_ci_b,to_ci_a,to_ci_b))\n",
    "    pl.plot([i,i],[fo_ci_a,fo_ci_b],\"r-\")\n",
    "    pl.plot([i,i],[to_ci_a,to_ci_b],\"b-\")\n",
    "pl.legend()"
   ]
  }
 ],
 "metadata": {
  "kernelspec": {
   "display_name": "Python 3",
   "language": "python",
   "name": "python3"
  },
  "language_info": {
   "codemirror_mode": {
    "name": "ipython",
    "version": 3
   },
   "file_extension": ".py",
   "mimetype": "text/x-python",
   "name": "python",
   "nbconvert_exporter": "python",
   "pygments_lexer": "ipython3",
   "version": "3.6.5"
  }
 },
 "nbformat": 4,
 "nbformat_minor": 2
}
